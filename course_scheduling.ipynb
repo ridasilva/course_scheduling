{
  "nbformat": 4,
  "nbformat_minor": 0,
  "metadata": {
    "colab": {
      "provenance": []
    },
    "kernelspec": {
      "name": "python3",
      "display_name": "Python 3"
    },
    "language_info": {
      "name": "python"
    },
    "widgets": {
      "application/vnd.jupyter.widget-state+json": {
        "40eac842458a421589f7fba81475230a": {
          "model_module": "jupyter-cytoscape",
          "model_name": "CytoscapeModel",
          "model_module_version": "^1.3.3",
          "state": {
            "_dom_classes": [],
            "_interaction_handlers": {},
            "_model_module": "jupyter-cytoscape",
            "_model_module_version": "^1.3.3",
            "_model_name": "CytoscapeModel",
            "_view_count": null,
            "_view_module": "jupyter-cytoscape",
            "_view_module_version": "^1.3.3",
            "_view_name": "CytoscapeView",
            "auto_ungrabify": false,
            "auto_unselectify": true,
            "autolock": false,
            "box_selection_enabled": false,
            "cytoscape_layout": {
              "name": "cola"
            },
            "cytoscape_style": [
              {
                "selector": "node",
                "css": {
                  "background-color": "#11479e"
                }
              },
              {
                "selector": "node:parent",
                "css": {
                  "background-opacity": 0.333
                }
              },
              {
                "selector": "edge",
                "style": {
                  "width": 4,
                  "line-color": "#9dbaea"
                }
              },
              {
                "selector": "edge.directed",
                "style": {
                  "curve-style": "bezier",
                  "target-arrow-shape": "triangle",
                  "target-arrow-color": "#9dbaea"
                }
              },
              {
                "selector": "edge.multiple_edges",
                "style": {
                  "curve-style": "bezier"
                }
              }
            ],
            "desktop_tap_threshold": 4,
            "graph": "IPY_MODEL_c759271b5d7b4f4b9882063ad9f5bb1b",
            "headless": false,
            "hide_edges_on_viewport": false,
            "layout": "IPY_MODEL_b5c76ddbf0d44fe88d3b1e5ffa9f96e0",
            "max_zoom": 1e+50,
            "min_zoom": 1e-50,
            "motion_blur": false,
            "motion_blur_opacity": 0.2,
            "panning_enabled": true,
            "pixel_ratio": "auto",
            "rendered_position": {
              "renderedPosition": {
                "x": 100,
                "y": 100
              }
            },
            "selection_type": "single",
            "style_enabled": true,
            "texture_on_viewport": false,
            "tooltip_source": "tooltip",
            "touch_tap_threshold": 8,
            "user_panning_enabled": true,
            "user_zooming_enabled": true,
            "wheel_sensitivity": 1,
            "zoom": 2,
            "zooming_enabled": true
          }
        }
      }
    }
  },
  "cells": [
    {
      "cell_type": "code",
      "execution_count": 1,
      "metadata": {
        "id": "zX9AoDc1pffb"
      },
      "outputs": [],
      "source": [
        "import pandas as pd\n",
        "from bs4 import BeautifulSoup\n",
        "import requests\n",
        "\n",
        "url = \"https://uspdigital.usp.br/jupiterweb/jupDisciplinaLista?codcg=60&pfxdisval=CGF&tipo=D\"\n",
        "response = requests.get(url)"
      ]
    },
    {
      "cell_type": "code",
      "source": [
        "response.text"
      ],
      "metadata": {
        "colab": {
          "base_uri": "https://localhost:8080/",
          "height": 1000
        },
        "id": "1Rd2srLdtNwV",
        "outputId": "4e609e5d-6019-4e19-bfa6-974be7a17f61"
      },
      "execution_count": null,
      "outputs": [
        {
          "output_type": "execute_result",
          "data": {
            "text/plain": [
              "'<!DOCTYPE HTML PUBLIC \"-//W3C//DTD HTML 4.01 Transitional//EN\" \"http://www.w3.org/TR/html4/loose.dtd\">\\r\\n\\r\\n\\r\\n\\r\\n\\r\\n<html>\\r\\n<head>\\r\\n<title>Jupiterweb</title>\\r\\n<meta http-equiv=Content-Type content=\"text/html; charset=iso-8859-1\">\\r\\n<meta HTTP-EQUIV=\"CACHE-CONTROL\" CONTENT=\"NO-CACHE\">\\r\\n<meta HTTP-EQUIV=\"Expires\" CONTENT=\"-1\">\\r\\n<link href=\"https://uspdigital.usp.br/comumwebdev/imagens/favicon.ico\" rel=\"shortcut icon\"\\r\\n\\ttype=\"image/x-icon\" />\\r\\n<link href=\"https://uspdigital.usp.br/comumwebdev/imagens/favicon.ico\" rel=\"icon\"\\r\\n\\ttype=\"image/x-icon\" />\\r\\n<link href=\"https://uspdigital.usp.br/comumwebdev/libs/usp/main/1.0/menuweb.css\"\\r\\n\\ttype=text/css rel=stylesheet>\\r\\n</head>\\r\\n<style>\\r\\n#layout_principal {\\r\\n\\twidth: 100%;\\r\\n}\\r\\n\\r\\n#layout_cabecalho {\\r\\n\\r\\n}\\r\\n\\r\\n#layout_menu {\\r\\n\\twidth: 170px;\\r\\n\\tfloat: left;\\r\\n\\tpadding-top: 10px;\\r\\n}\\r\\n\\r\\n#layout_conteudo {\\r\\n\\tpadding-left: 181px;\\r\\n\\tpadding-top: 10px;\\r\\n}\\r\\n</style>\\r\\n<!--[if IE]>\\r\\n\\t<style>\\r\\n\\t\\t#layout_conteudo {\\r\\n\\t\\t\\tpadding-left: 10px;\\r\\n\\t\\t\\tpadding-right: 2px;\\r\\n\\t\\t\\tpadding-top: 10px;\\r\\n\\t\\t\\tpadding-bottom: 20px;\\r\\n\\t\\t\\toverflow:auto;\\r\\n\\t\\t}\\r\\n\\t</style>\\r\\n\\t<![endif]-->\\r\\n<body>\\r\\n\\r\\n\\t<div id=\"layout_principal\">\\r\\n\\t\\t<div id=\"layout_cabecalho\">\\r\\n\\t\\t\\t<!DOCTYPE html PUBLIC \"-//W3C//DTD HTML 4.01 Transitional//EN\" \"http://www.w3.org/TR/html4/loose.dtd\">\\r\\n\\r\\n<style>\\r\\n\\ta.cabecalho_sair:active  {font-family:verdana; font-weight:bold; color:#FFFFFF; text-decoration:none;}\\r\\n\\ta.cabecalho_sair:link    {font-family:verdana; font-weight:bold; color:#FFFFFF; text-decoration:none;}\\r\\n\\ta.cabecalho_sair:visited {font-family:verdana; font-weight:bold; color:#FFFFFF; text-decoration:none;}\\r\\n\\ta.cabecalho_sair:hover   {font-family:verdana; font-weight:bold; color:#FFFFFF; text-decoration:underline;}\\r\\n\\r\\n\\ttd.font_cabecalho1 {\\r\\n\\t\\tfont:bold 26px Tahoma;\\r\\n\\t\\tcolor: #FFFFFF;\\r\\n\\t}\\r\\n\\ttd.font_cabecalho2 {\\r\\n\\t\\tfont:bold 10px Arial;\\r\\n\\t\\tcolor: #FFFFFF;\\r\\n\\t}\\r\\n\\ttd.font_cabecalho3 {\\r\\n\\t\\tfont:normal 9px Verdana;\\r\\n\\t\\tcolor: #FFFFFF;\\r\\n\\t}\\r\\n</style>\\r\\n\\r\\n<table width=\"100%\" height=\"60\" border=\"0\" cellpadding=\"0\" cellspacing=\"0\">\\r\\n\\t<tr>\\r\\n\\t\\t<td width=\"180\" rowspan=\"3\" align=\"center\">\\r\\n\\t\\t\\t<a href=\"http://www.usp.br\" target=\"_blank\"><img src=\"https://uspdigital.usp.br/comumwebdev/imagens/cabecalho/usp-logo.png\" width=\"122\" height=\"49\" alt=\"\" border=\"0\" style=\"position: relative; top: -3px;\" /></a>\\r\\n\\t\\t</td>\\r\\n\\t\\t<td>\\r\\n\\t\\t\\t<a href=\"http://www.usp.br\" target=\"_blank\"><img src=\"https://uspdigital.usp.br/comumwebdev/imagens/cabecalho/usp-logo-texto.png\" alt=\"\" width=\"260\" height=\"44\" border=\"0\" style=\"position: relative; top: 5px;\" /></a>\\r\\n\\t\\t</td>\\r\\n\\t</tr>\\r\\n</table>\\r\\n<div style=\"width: 100%; height: 14px; background-image: url(\\'https://uspdigital.usp.br/comumwebdev/imagens/cabecalho/bg-headtop.gif\\'); margin-bottom: 5px; text-align: right; color: white; padding-top: 12px; padding-right: 3px; font-family: Verdana; font-size: 10px;\">\\r\\n\\t\\r\\n</div>\\r\\n\\r\\n\\t\\t</div>\\r\\n\\r\\n\\t\\t<div id=\"layout_menu\">\\r\\n\\t\\t\\t<!DOCTYPE html PUBLIC \"-//W3C//DTD HTML 4.01 Transitional//EN\" \"http://www.w3.org/TR/html4/loose.dtd\">\\r\\n\\r\\n\\r\\n\\r\\n\\r\\n<!-- FreeStyle Menu v1.0RC by Angus Turnbull http://www.twinhelix.com -->\\r\\n<script type=\"text/javascript\"\\r\\n\\tsrc=\"https://uspdigital.usp.br/comumwebdev/libs/javascript/fsmenu/1.0RC/fsmenu.js\"></script>\\r\\n\\r\\n<!-- Demo CSS layouts for the list menu. Pick your favourite one and customise! -->\\r\\n<!-- Remove all but one and change \"alternate stylesheet\" to \"stylesheet\" to enable -->\\r\\n<link rel=\"stylesheet\" type=\"text/css\" id=\"listmenu-v\"\\r\\n\\thref=\"https://uspdigital.usp.br/comumwebdev/libs/javascript/fsmenu/1.0RC/listmenu_v.css\"\\r\\n\\ttitle=\"Vertical \\'Earth\\'\" />\\r\\n\\r\\n<!-- Fallback CSS menu file allows list menu operation when JS is disabled. -->\\r\\n<!-- This is automatically disabled via its ID when the script kicks in. -->\\r\\n<link rel=\"stylesheet\" type=\"text/css\" id=\"fsmenu-fallback\"\\r\\n\\thref=\"https://uspdigital.usp.br/comumwebdev/libs/javascript/fsmenu/1.0RC/listmenu_fallback.css\" />\\r\\n\\r\\n\\r\\n<script type=\"text/javascript\">\\r\\n\\t//<![CDATA[\\r\\n\\r\\n\\tvar arrow = null;\\r\\n\\tif (document.createElement && document.documentElement) {\\r\\n\\t\\t//arrow = document.createElement(\\'span\\');\\r\\n\\t\\t//arrow.appendChild(document.createTextNode(\\'>\\'));\\r\\n\\t\\t// Feel free to replace the above two lines with these for a small arrow image...\\r\\n\\t\\tarrow = document.createElement(\\'img\\');\\r\\n\\t\\tarrow.src = \\'https://uspdigital.usp.br/comumwebdev/imagens/icones/11/arrow_sub1.gif\\';\\r\\n\\t\\tarrow.style.borderWidth = \\'0\\';\\r\\n\\t\\tarrow.className = \\'subind\\';\\r\\n\\t}\\r\\n\\r\\n\\tif (\"[{codmnu=4525, codgrpweb=191, nomgrpweb=Público, stapai=S, stavrfnivseg=S, elmmnu=Calendário Escolar, nomobtweb=index.jsp, pmeobtweb=null, dscmnu=null, codmnupai=null, staabt=N, urlsie=null, numnivhie=1, linmnu=index.jsp?codmnu=4525}, {codmnu=7920, codgrpweb=191, nomgrpweb=Público, stapai=N, stavrfnivseg=S, elmmnu=2024, nomobtweb=jupArquivosPublicos.jsp, pmeobtweb=tiparq=8&anoprg=2024, dscmnu=null, codmnupai=4525, staabt=N, urlsie=null, numnivhie=2, linmnu=jupArquivosPublicos.jsp?tiparq=8&anoprg=2024&codmnu=7920}, {codmnu=6863, codgrpweb=191, nomgrpweb=Público, stapai=N, stavrfnivseg=S, elmmnu=2025, nomobtweb=jupArquivosPublicos.jsp, pmeobtweb=tiparq=9&anoprg=2025, dscmnu=null, codmnupai=4525, staabt=N, urlsie=null, numnivhie=2, linmnu=jupArquivosPublicos.jsp?tiparq=9&anoprg=2025&codmnu=6863}, {codmnu=8275, codgrpweb=191, nomgrpweb=Público, stapai=N, stavrfnivseg=S, elmmnu=Cursos de ingresso, nomobtweb=jupCarreira.jsp, pmeobtweb=null, dscmnu=null, codmnupai=null, staabt=N, urlsie=null, numnivhie=1, linmnu=jupCarreira.jsp?codmnu=8275}, {codmnu=4526, codgrpweb=191, nomgrpweb=Público, stapai=S, stavrfnivseg=S, elmmnu=Disciplina, nomobtweb=index.jsp, pmeobtweb=null, dscmnu=null, codmnupai=null, staabt=N, urlsie=null, numnivhie=1, linmnu=index.jsp?codmnu=4526}, {codmnu=6755, codgrpweb=191, nomgrpweb=Público, stapai=N, stavrfnivseg=S, elmmnu=Busca por Disciplinas, nomobtweb=jupDisciplinaBusca, pmeobtweb=tipo=D, dscmnu=null, codmnupai=4526, staabt=N, urlsie=null, numnivhie=2, linmnu=jupDisciplinaBusca?tipo=D&codmnu=6755}, {codmnu=6756, codgrpweb=191, nomgrpweb=Público, stapai=N, stavrfnivseg=S, elmmnu=Busca por Turmas, nomobtweb=jupDisciplinaBusca, pmeobtweb=tipo=T, dscmnu=null, codmnupai=4526, staabt=N, urlsie=null, numnivhie=2, linmnu=jupDisciplinaBusca?tipo=T&codmnu=6756}, {codmnu=6757, codgrpweb=191, nomgrpweb=Público, stapai=S, stavrfnivseg=S, elmmnu=Editais, nomobtweb=index.jsp, pmeobtweb=null, dscmnu=null, codmnupai=null, staabt=N, urlsie=null, numnivhie=1, linmnu=index.jsp?codmnu=6757}, {codmnu=6758, codgrpweb=191, nomgrpweb=Público, stapai=S, stavrfnivseg=S, elmmnu=Programa Unificado de Bolsas(PUB), nomobtweb=index.jsp, pmeobtweb=null, dscmnu=null, codmnupai=6757, staabt=N, urlsie=null, numnivhie=2, linmnu=index.jsp?codmnu=6758}, {codmnu=10872, codgrpweb=191, nomgrpweb=Público, stapai=N, stavrfnivseg=S, elmmnu=Edital 2023-2024, nomobtweb=https://uspdigital.usp.br/juno/bnfArquivosPublicos.jsp?tiparq=1&anoprg=2023&codm, pmeobtweb=null, dscmnu=null, codmnupai=6758, staabt=N, urlsie=null, numnivhie=3, linmnu=https://uspdigital.usp.br/juno/bnfArquivosPublicos.jsp?tiparq=1&anoprg=2023&codm?codmnu=10872}, {codmnu=11502, codgrpweb=191, nomgrpweb=Público, stapai=N, stavrfnivseg=S, elmmnu=Edital 2024-2025, nomobtweb=https://uspdigital.usp.br/juno/bnfArquivosPublicos.jsp?tiparq=1&anoprg=2024&codm, pmeobtweb=null, dscmnu=null, codmnupai=6758, staabt=N, urlsie=null, numnivhie=3, linmnu=https://uspdigital.usp.br/juno/bnfArquivosPublicos.jsp?tiparq=1&anoprg=2024&codm?codmnu=11502}, {codmnu=6762, codgrpweb=191, nomgrpweb=Público, stapai=N, stavrfnivseg=S, elmmnu=PEEG, nomobtweb=http://www.prg.usp.br/?page_id=399, pmeobtweb=null, dscmnu=null, codmnupai=6757, staabt=N, urlsie=null, numnivhie=2, linmnu=http://www.prg.usp.br/?page_id=399?codmnu=6762}, {codmnu=10838, codgrpweb=191, nomgrpweb=Público, stapai=N, stavrfnivseg=S, elmmnu=PAP, nomobtweb=https://prg.usp.br/programas-e-bolsas/, pmeobtweb=null, dscmnu=null, codmnupai=6757, staabt=N, urlsie=null, numnivhie=2, linmnu=https://prg.usp.br/programas-e-bolsas/?codmnu=10838}, {codmnu=7951, codgrpweb=191, nomgrpweb=Público, stapai=S, stavrfnivseg=S, elmmnu=FAQ, nomobtweb=index.jsp, pmeobtweb=null, dscmnu=null, codmnupai=null, staabt=N, urlsie=null, numnivhie=1, linmnu=index.jsp?codmnu=7951}, {codmnu=7952, codgrpweb=191, nomgrpweb=Público, stapai=S, stavrfnivseg=S, elmmnu=Matrícula Interativa, nomobtweb=FAQ.jsp, pmeobtweb=null, dscmnu=null, codmnupai=7951, staabt=N, urlsie=null, numnivhie=2, linmnu=FAQ.jsp?codmnu=7952}, {codmnu=9326, codgrpweb=191, nomgrpweb=Público, stapai=N, stavrfnivseg=S, elmmnu=FAQ, nomobtweb=FAQ.jsp, pmeobtweb=null, dscmnu=null, codmnupai=7952, staabt=N, urlsie=null, numnivhie=3, linmnu=FAQ.jsp?codmnu=9326}, {codmnu=9327, codgrpweb=191, nomgrpweb=Público, stapai=N, stavrfnivseg=S, elmmnu=Informações gerais, nomobtweb=grdMatriculainterativaInformacoes.jsp, pmeobtweb=null, dscmnu=null, codmnupai=7952, staabt=N, urlsie=null, numnivhie=3, linmnu=grdMatriculainterativaInformacoes.jsp?codmnu=9327}, {codmnu=8946, codgrpweb=191, nomgrpweb=Público, stapai=N, stavrfnivseg=S, elmmnu=TUTORIAL - NOVA MATRÍCULA, nomobtweb=graduacaoAjudaNovaMatricula, pmeobtweb=null, dscmnu=Liberar próximo da matricula, codmnupai=7952, staabt=N, urlsie=null, numnivhie=3, linmnu=graduacaoAjudaNovaMatricula?codmnu=8946}, {codmnu=6749, codgrpweb=191, nomgrpweb=Público, stapai=N, stavrfnivseg=S, elmmnu=Jupiterweb em Vídeos, nomobtweb=http://www.prg.usp.br/, pmeobtweb=p=20746, dscmnu=null, codmnupai=7951, staabt=N, urlsie=null, numnivhie=2, linmnu=http://www.prg.usp.br/?p=20746&codmnu=6749}, {codmnu=8063, codgrpweb=191, nomgrpweb=Público, stapai=N, stavrfnivseg=S, elmmnu=Informações gerais sobre a Graduação, nomobtweb=http://www.prg.usp.br/, pmeobtweb=p=20741, dscmnu=null, codmnupai=7951, staabt=N, urlsie=null, numnivhie=2, linmnu=http://www.prg.usp.br/?p=20741&codmnu=8063}]\" != null && \"[{codmnu=4525, codgrpweb=191, nomgrpweb=Público, stapai=S, stavrfnivseg=S, elmmnu=Calendário Escolar, nomobtweb=index.jsp, pmeobtweb=null, dscmnu=null, codmnupai=null, staabt=N, urlsie=null, numnivhie=1, linmnu=index.jsp?codmnu=4525}, {codmnu=7920, codgrpweb=191, nomgrpweb=Público, stapai=N, stavrfnivseg=S, elmmnu=2024, nomobtweb=jupArquivosPublicos.jsp, pmeobtweb=tiparq=8&anoprg=2024, dscmnu=null, codmnupai=4525, staabt=N, urlsie=null, numnivhie=2, linmnu=jupArquivosPublicos.jsp?tiparq=8&anoprg=2024&codmnu=7920}, {codmnu=6863, codgrpweb=191, nomgrpweb=Público, stapai=N, stavrfnivseg=S, elmmnu=2025, nomobtweb=jupArquivosPublicos.jsp, pmeobtweb=tiparq=9&anoprg=2025, dscmnu=null, codmnupai=4525, staabt=N, urlsie=null, numnivhie=2, linmnu=jupArquivosPublicos.jsp?tiparq=9&anoprg=2025&codmnu=6863}, {codmnu=8275, codgrpweb=191, nomgrpweb=Público, stapai=N, stavrfnivseg=S, elmmnu=Cursos de ingresso, nomobtweb=jupCarreira.jsp, pmeobtweb=null, dscmnu=null, codmnupai=null, staabt=N, urlsie=null, numnivhie=1, linmnu=jupCarreira.jsp?codmnu=8275}, {codmnu=4526, codgrpweb=191, nomgrpweb=Público, stapai=S, stavrfnivseg=S, elmmnu=Disciplina, nomobtweb=index.jsp, pmeobtweb=null, dscmnu=null, codmnupai=null, staabt=N, urlsie=null, numnivhie=1, linmnu=index.jsp?codmnu=4526}, {codmnu=6755, codgrpweb=191, nomgrpweb=Público, stapai=N, stavrfnivseg=S, elmmnu=Busca por Disciplinas, nomobtweb=jupDisciplinaBusca, pmeobtweb=tipo=D, dscmnu=null, codmnupai=4526, staabt=N, urlsie=null, numnivhie=2, linmnu=jupDisciplinaBusca?tipo=D&codmnu=6755}, {codmnu=6756, codgrpweb=191, nomgrpweb=Público, stapai=N, stavrfnivseg=S, elmmnu=Busca por Turmas, nomobtweb=jupDisciplinaBusca, pmeobtweb=tipo=T, dscmnu=null, codmnupai=4526, staabt=N, urlsie=null, numnivhie=2, linmnu=jupDisciplinaBusca?tipo=T&codmnu=6756}, {codmnu=6757, codgrpweb=191, nomgrpweb=Público, stapai=S, stavrfnivseg=S, elmmnu=Editais, nomobtweb=index.jsp, pmeobtweb=null, dscmnu=null, codmnupai=null, staabt=N, urlsie=null, numnivhie=1, linmnu=index.jsp?codmnu=6757}, {codmnu=6758, codgrpweb=191, nomgrpweb=Público, stapai=S, stavrfnivseg=S, elmmnu=Programa Unificado de Bolsas(PUB), nomobtweb=index.jsp, pmeobtweb=null, dscmnu=null, codmnupai=6757, staabt=N, urlsie=null, numnivhie=2, linmnu=index.jsp?codmnu=6758}, {codmnu=10872, codgrpweb=191, nomgrpweb=Público, stapai=N, stavrfnivseg=S, elmmnu=Edital 2023-2024, nomobtweb=https://uspdigital.usp.br/juno/bnfArquivosPublicos.jsp?tiparq=1&anoprg=2023&codm, pmeobtweb=null, dscmnu=null, codmnupai=6758, staabt=N, urlsie=null, numnivhie=3, linmnu=https://uspdigital.usp.br/juno/bnfArquivosPublicos.jsp?tiparq=1&anoprg=2023&codm?codmnu=10872}, {codmnu=11502, codgrpweb=191, nomgrpweb=Público, stapai=N, stavrfnivseg=S, elmmnu=Edital 2024-2025, nomobtweb=https://uspdigital.usp.br/juno/bnfArquivosPublicos.jsp?tiparq=1&anoprg=2024&codm, pmeobtweb=null, dscmnu=null, codmnupai=6758, staabt=N, urlsie=null, numnivhie=3, linmnu=https://uspdigital.usp.br/juno/bnfArquivosPublicos.jsp?tiparq=1&anoprg=2024&codm?codmnu=11502}, {codmnu=6762, codgrpweb=191, nomgrpweb=Público, stapai=N, stavrfnivseg=S, elmmnu=PEEG, nomobtweb=http://www.prg.usp.br/?page_id=399, pmeobtweb=null, dscmnu=null, codmnupai=6757, staabt=N, urlsie=null, numnivhie=2, linmnu=http://www.prg.usp.br/?page_id=399?codmnu=6762}, {codmnu=10838, codgrpweb=191, nomgrpweb=Público, stapai=N, stavrfnivseg=S, elmmnu=PAP, nomobtweb=https://prg.usp.br/programas-e-bolsas/, pmeobtweb=null, dscmnu=null, codmnupai=6757, staabt=N, urlsie=null, numnivhie=2, linmnu=https://prg.usp.br/programas-e-bolsas/?codmnu=10838}, {codmnu=7951, codgrpweb=191, nomgrpweb=Público, stapai=S, stavrfnivseg=S, elmmnu=FAQ, nomobtweb=index.jsp, pmeobtweb=null, dscmnu=null, codmnupai=null, staabt=N, urlsie=null, numnivhie=1, linmnu=index.jsp?codmnu=7951}, {codmnu=7952, codgrpweb=191, nomgrpweb=Público, stapai=S, stavrfnivseg=S, elmmnu=Matrícula Interativa, nomobtweb=FAQ.jsp, pmeobtweb=null, dscmnu=null, codmnupai=7951, staabt=N, urlsie=null, numnivhie=2, linmnu=FAQ.jsp?codmnu=7952}, {codmnu=9326, codgrpweb=191, nomgrpweb=Público, stapai=N, stavrfnivseg=S, elmmnu=FAQ, nomobtweb=FAQ.jsp, pmeobtweb=null, dscmnu=null, codmnupai=7952, staabt=N, urlsie=null, numnivhie=3, linmnu=FAQ.jsp?codmnu=9326}, {codmnu=9327, codgrpweb=191, nomgrpweb=Público, stapai=N, stavrfnivseg=S, elmmnu=Informações gerais, nomobtweb=grdMatriculainterativaInformacoes.jsp, pmeobtweb=null, dscmnu=null, codmnupai=7952, staabt=N, urlsie=null, numnivhie=3, linmnu=grdMatriculainterativaInformacoes.jsp?codmnu=9327}, {codmnu=8946, codgrpweb=191, nomgrpweb=Público, stapai=N, stavrfnivseg=S, elmmnu=TUTORIAL - NOVA MATRÍCULA, nomobtweb=graduacaoAjudaNovaMatricula, pmeobtweb=null, dscmnu=Liberar próximo da matricula, codmnupai=7952, staabt=N, urlsie=null, numnivhie=3, linmnu=graduacaoAjudaNovaMatricula?codmnu=8946}, {codmnu=6749, codgrpweb=191, nomgrpweb=Público, stapai=N, stavrfnivseg=S, elmmnu=Jupiterweb em Vídeos, nomobtweb=http://www.prg.usp.br/, pmeobtweb=p=20746, dscmnu=null, codmnupai=7951, staabt=N, urlsie=null, numnivhie=2, linmnu=http://www.prg.usp.br/?p=20746&codmnu=6749}, {codmnu=8063, codgrpweb=191, nomgrpweb=Público, stapai=N, stavrfnivseg=S, elmmnu=Informações gerais sobre a Graduação, nomobtweb=http://www.prg.usp.br/, pmeobtweb=p=20741, dscmnu=null, codmnupai=7951, staabt=N, urlsie=null, numnivhie=2, linmnu=http://www.prg.usp.br/?p=20741&codmnu=8063}]\" != \\'\\') {\\r\\n\\t\\t// Here\\'s a menu object to control the above list of menu data:\\r\\n\\t\\tvar listMenu = new FSMenu(\\'listMenu\\', true, \\'display\\', \\'block\\', \\'none\\');\\r\\n\\t\\tlistMenu.hideDelay = 800;\\r\\n\\t\\t//listMenu.showDelay = 0;\\r\\n\\t\\t//listMenu.switchDelay = 125;\\r\\n\\t\\t//listMenu.cssLitClass = \\'highlighted\\';\\r\\n\\t\\t//listMenu.showOnClick = 0;\\r\\n\\t\\tlistMenu.hideOnClick = true;\\r\\n\\t\\tlistMenu.animInSpeed = 0.5;\\r\\n\\t\\tlistMenu.animOutSpeed = 0.5;\\r\\n\\t\\tlistMenu.animations[listMenu.animations.length] = FSMenu.animFade;\\r\\n\\t\\tlistMenu.animations[listMenu.animations.length] = FSMenu.animSwipeDown;\\r\\n\\t\\taddReadyEvent(new Function(\\r\\n\\t\\t\\t\\t\\'listMenu.activateMenu(\"listMenuRoot\", arrow)\\'));\\r\\n\\t}\\r\\n\\r\\n\\tif (\"false\" != \"false\") {\\r\\n\\t\\tvar listMenu2 = new FSMenu(\\'listMenu2\\', true, \\'display\\', \\'block\\',\\r\\n\\t\\t\\t\\t\\'none\\');\\r\\n\\t\\tlistMenu2.hideDelay = 800;\\r\\n\\t\\tlistMenu2.hideOnClick = true;\\r\\n\\t\\tlistMenu2.animInSpeed = 0.5;\\r\\n\\t\\tlistMenu2.animOutSpeed = 0.5;\\r\\n\\t\\tlistMenu2.animations[listMenu2.animations.length] = FSMenu.animFade;\\r\\n\\t\\tlistMenu2.animations[listMenu2.animations.length] = FSMenu.animSwipeDown;\\r\\n\\t\\taddReadyEvent(new Function(\\r\\n\\t\\t\\t\\t\\'listMenu2.activateMenu(\"listMenuRoot2\", arrow)\\'));\\r\\n\\t} else {\\r\\n\\t\\tvar listMenu3 = new FSMenu(\\'listMenu3\\', true, \\'display\\', \\'block\\',\\r\\n\\t\\t\\t\\t\\'none\\');\\r\\n\\t\\tlistMenu3.hideDelay = 800;\\r\\n\\t\\tlistMenu3.hideOnClick = true;\\r\\n\\t\\tlistMenu3.animInSpeed = 0.5;\\r\\n\\t\\tlistMenu3.animOutSpeed = 0.5;\\r\\n\\t\\tlistMenu3.animations[listMenu3.animations.length] = FSMenu.animFade;\\r\\n\\t\\tlistMenu3.animations[listMenu3.animations.length] = FSMenu.animSwipeDown;\\r\\n\\t\\taddReadyEvent(new Function(\\r\\n\\t\\t\\t\\t\\'listMenu3.activateMenu(\"listMenuRoot3\", arrow)\\'));\\r\\n\\t}\\r\\n\\t//]]>\\r\\n</script>\\r\\n\\r\\n<!-- PUBLICO -->\\r\\n\\r\\n\\t\\r\\n\\t<ul class=\"menulist\" id=\"listMenuRoot\">\\r\\n\\t\\t\\r\\n\\t\\t\\t\\r\\n\\t\\t\\t\\t<li class=\"menuHeader\">Público</li>\\r\\n\\t\\t\\t\\r\\n\\t\\t\\t\\r\\n\\r\\n\\r\\n\\t<li><a href=\\'#\\' title=\\'\\'><span>Calendário Escolar</span></a>\\r\\n\\t\\t<ul>\\r\\n\\r\\n\\r\\n\\r\\n\\r\\n\\t\\t\\t\\r\\n\\t\\t\\t\\r\\n\\r\\n\\t<li><a href=\\'jupArquivosPublicos.jsp?tiparq=8&amp;anoprg=2024&amp;codmnu=7920\\'\\r\\n\\t\\ttitle=\\'\\'>2024</a></li>\\r\\n\\r\\n\\r\\n\\r\\n\\r\\n\\r\\n\\t\\t\\t\\r\\n\\t\\t\\t\\r\\n\\r\\n\\t<li><a href=\\'jupArquivosPublicos.jsp?tiparq=9&amp;anoprg=2025&amp;codmnu=6863\\'\\r\\n\\t\\ttitle=\\'\\'>2025</a></li>\\r\\n\\r\\n\\r\\n\\r\\n\\r\\n\\r\\n\\t\\t\\t\\r\\n\\t\\t\\t\\r\\n\\t\\t\\t\\t\\r\\n\\t</ul>\\r\\n\\t</li>\\r\\n\\t\\r\\n\\r\\n\\r\\n\\t<li><a href=\\'jupCarreira.jsp?codmnu=8275\\'\\r\\n\\t\\ttitle=\\'\\'>Cursos de ingresso</a></li>\\r\\n\\r\\n\\r\\n\\r\\n\\r\\n\\r\\n\\t\\t\\t\\r\\n\\t\\t\\t\\r\\n\\r\\n\\r\\n\\t<li><a href=\\'#\\' title=\\'\\'><span>Disciplina</span></a>\\r\\n\\t\\t<ul>\\r\\n\\r\\n\\r\\n\\r\\n\\r\\n\\t\\t\\t\\r\\n\\t\\t\\t\\r\\n\\r\\n\\t<li><a href=\\'jupDisciplinaBusca?tipo=D&amp;codmnu=6755\\'\\r\\n\\t\\ttitle=\\'\\'>Busca por Disciplinas</a></li>\\r\\n\\r\\n\\r\\n\\r\\n\\r\\n\\r\\n\\t\\t\\t\\r\\n\\t\\t\\t\\r\\n\\r\\n\\t<li><a href=\\'jupDisciplinaBusca?tipo=T&amp;codmnu=6756\\'\\r\\n\\t\\ttitle=\\'\\'>Busca por Turmas</a></li>\\r\\n\\r\\n\\r\\n\\r\\n\\r\\n\\r\\n\\t\\t\\t\\r\\n\\t\\t\\t\\r\\n\\t\\t\\t\\t\\r\\n\\t</ul>\\r\\n\\t</li>\\r\\n\\t\\r\\n\\r\\n\\r\\n\\r\\n\\t<li><a href=\\'#\\' title=\\'\\'><span>Editais</span></a>\\r\\n\\t\\t<ul>\\r\\n\\r\\n\\r\\n\\r\\n\\r\\n\\t\\t\\t\\r\\n\\t\\t\\t\\r\\n\\r\\n\\r\\n\\t<li><a href=\\'#\\' title=\\'\\'><span>Programa Unificado de Bolsas(PUB)</span></a>\\r\\n\\t\\t<ul>\\r\\n\\r\\n\\r\\n\\r\\n\\r\\n\\t\\t\\t\\r\\n\\t\\t\\t\\r\\n\\r\\n\\t<li><a href=\\'https://uspdigital.usp.br/juno/bnfArquivosPublicos.jsp?tiparq=1&amp;anoprg=2023&amp;codm?codmnu=10872\\'\\r\\n\\t\\ttitle=\\'\\'>Edital 2023-2024</a></li>\\r\\n\\r\\n\\r\\n\\r\\n\\r\\n\\r\\n\\t\\t\\t\\r\\n\\t\\t\\t\\r\\n\\r\\n\\t<li><a href=\\'https://uspdigital.usp.br/juno/bnfArquivosPublicos.jsp?tiparq=1&amp;anoprg=2024&amp;codm?codmnu=11502\\'\\r\\n\\t\\ttitle=\\'\\'>Edital 2024-2025</a></li>\\r\\n\\r\\n\\r\\n\\r\\n\\r\\n\\r\\n\\t\\t\\t\\r\\n\\t\\t\\t\\r\\n\\t\\t\\t\\t\\r\\n\\t</ul>\\r\\n\\t</li>\\r\\n\\t\\r\\n\\r\\n\\r\\n\\t<li><a href=\\'http://www.prg.usp.br/?page_id=399?codmnu=6762\\'\\r\\n\\t\\ttitle=\\'\\'>PEEG</a></li>\\r\\n\\r\\n\\r\\n\\r\\n\\r\\n\\r\\n\\t\\t\\t\\r\\n\\t\\t\\t\\r\\n\\r\\n\\t<li><a href=\\'https://prg.usp.br/programas-e-bolsas/?codmnu=10838\\'\\r\\n\\t\\ttitle=\\'\\'>PAP</a></li>\\r\\n\\r\\n\\r\\n\\r\\n\\r\\n\\r\\n\\t\\t\\t\\r\\n\\t\\t\\t\\r\\n\\t\\t\\t\\t\\r\\n\\t</ul>\\r\\n\\t</li>\\r\\n\\t\\r\\n\\r\\n\\r\\n\\r\\n\\t<li><a href=\\'#\\' title=\\'\\'><span>FAQ</span></a>\\r\\n\\t\\t<ul>\\r\\n\\r\\n\\r\\n\\r\\n\\r\\n\\t\\t\\t\\r\\n\\t\\t\\t\\r\\n\\r\\n\\r\\n\\t<li><a href=\\'#\\' title=\\'\\'><span>Matrícula Interativa</span></a>\\r\\n\\t\\t<ul>\\r\\n\\r\\n\\r\\n\\r\\n\\r\\n\\t\\t\\t\\r\\n\\t\\t\\t\\r\\n\\r\\n\\t<li><a href=\\'FAQ.jsp?codmnu=9326\\'\\r\\n\\t\\ttitle=\\'\\'>FAQ</a></li>\\r\\n\\r\\n\\r\\n\\r\\n\\r\\n\\r\\n\\t\\t\\t\\r\\n\\t\\t\\t\\r\\n\\r\\n\\t<li><a href=\\'grdMatriculainterativaInformacoes.jsp?codmnu=9327\\'\\r\\n\\t\\ttitle=\\'\\'>Informações gerais</a></li>\\r\\n\\r\\n\\r\\n\\r\\n\\r\\n\\r\\n\\t\\t\\t\\r\\n\\t\\t\\t\\r\\n\\r\\n\\t<li><a href=\\'graduacaoAjudaNovaMatricula?codmnu=8946\\'\\r\\n\\t\\ttitle=\\'Liberar próximo da matricula\\'>TUTORIAL - NOVA MATRÍCULA</a></li>\\r\\n\\r\\n\\r\\n\\r\\n\\r\\n\\r\\n\\t\\t\\t\\r\\n\\t\\t\\t\\r\\n\\t\\t\\t\\t\\r\\n\\t</ul>\\r\\n\\t</li>\\r\\n\\t\\r\\n\\r\\n\\r\\n\\t<li><a href=\\'http://www.prg.usp.br/?p=20746&amp;codmnu=6749\\'\\r\\n\\t\\ttitle=\\'\\'>Jupiterweb em Vídeos</a></li>\\r\\n\\r\\n\\r\\n\\r\\n\\r\\n\\r\\n\\t\\t\\t\\r\\n\\t\\t\\t\\r\\n\\r\\n\\t<li><a href=\\'http://www.prg.usp.br/?p=20741&amp;codmnu=8063\\'\\r\\n\\t\\ttitle=\\'\\'>Informações gerais sobre a Graduação</a></li>\\r\\n\\r\\n\\r\\n\\r\\n\\t\\r\\n\\t\\t</ul>\\r\\n\\t\\t</li>\\r\\n\\t\\r\\n\\t\\t</ul>\\r\\n\\t\\t</li>\\r\\n\\t\\r\\n\\r\\n\\r\\n\\r\\n</ul>\\r\\n<div style=\"font-size: 7px\">&nbsp;</div>\\r\\n\\r\\n\\r\\n<!-- NAO AUTENTICADO -->\\r\\n\\r\\n\\t<ul class=\"menulist\" id=\"listMenuRoot3\">\\r\\n\\t\\t<li class=\"menuHeader\">Acesso Restrito</li>\\r\\n\\t\\t<li><a href=\\'webLogin.jsp\\'>Entrar</a></li>\\r\\n\\t\\t<li><a href=\\'esqueciSenha\\'>Esqueci a Senha</a></li>\\r\\n\\t\\t<li><a href=\\'primeiroAcesso\\'>Primeiro Acesso</a></li>\\r\\n\\t</ul>\\r\\n\\t<div style=\"font-size: 7px\">&nbsp;</div>\\r\\n\\r\\n\\r\\n<!-- AUTENTICADO -->\\r\\n\\r\\n<br>\\r\\n<br>\\r\\n<br>\\r\\n<br>\\r\\n<br>\\r\\n<br>\\r\\n<br>\\r\\n<br>\\r\\n<br>\\r\\n<br>\\r\\n<br>\\r\\n<br>\\r\\n<br>\\r\\n<br>\\r\\n\\t\\t</div>\\r\\n\\r\\n\\t\\t<div id=\"layout_conteudo\">\\r\\n\\t\\t\\t\\r\\n\\r\\n\\t\\t\\t\\r\\n\\r\\n\\t\\t\\t\\r\\n\\t\\t\\t\\r\\n\\t\\t\\t\\t\\r\\n\\t\\t\\t\\r\\n\\r\\n\\t\\t\\t\\r\\n\\t\\t\\t\\t\\r\\n\\r\\n\\r\\n\\r\\n\\r\\n   \\r\\n   \\r\\n   \\r\\n<head>\\r\\n<title></title>\\r\\n<meta http-equiv=\"Content-Type\" content=\"text/html; charset=iso-8859-1\">\\r\\n\\r\\n\\r\\n\\r\\n\\r\\n\\r\\n<link type=\"text/css\" rel=\"stylesheet\" href=\"https://uspdigital.usp.br/comumwebdev/libs/usp/util/1.0/util.css\"/>\\r\\n<link type=\"text/css\" rel=\"stylesheet\" href=\"https://uspdigital.usp.br/comumwebdev/libs/jqueryui/1.8.24/temas/ui-lightness/jquery-ui.css\"/>\\r\\n<link type=\"text/css\" rel=\"stylesheet\" href=\"https://uspdigital.usp.br/comumwebdev/libs/jquery/plugins/validationEngine/2.6.2/jquery.validationEngine.css\"/>\\r\\n<link type=\"text/css\" rel=\"stylesheet\" href=\"https://uspdigital.usp.br/comumwebdev/libs/jquery/plugins/jqGrid/4.4.3/ui.jqgrid.css\"/>\\r\\n<link type=\"text/css\" rel=\"stylesheet\" href=\"https://uspdigital.usp.br/comumwebdev/libs/jquery/plugins/fancybox/1.3.4/jquery.fancybox.css\"/>\\r\\n<link type=\"text/css\" rel=\"stylesheet\" href=\"https://uspdigital.usp.br/comumwebdev/libs/jquery/plugins/maxlength/2.0.1/jquery.maxlength.css\"/>\\r\\n<link type=\"text/css\" rel=\"stylesheet\" href=\"/jupiterweb/css/jupiterweb.css\" >\\r\\n<link type=\"text/css\" rel=\"stylesheet\" href=\"/jupiterweb/css/comum.css\" >\\r\\n<!DOCTYPE html PUBLIC \"-//W3C//DTD HTML 4.01 Transitional//EN\" \"http://www.w3.org/TR/html4/loose.dtd\">\\r\\n\\r\\n<!-- HTML 5 Tags para IE8 -->\\r\\n<!--[if lt IE 9]>\\r\\n\\t   <script>\\r\\n\\t      document.createElement(\\'header\\');\\r\\n\\t      document.createElement(\\'nav\\');\\r\\n\\t      document.createElement(\\'section\\');\\r\\n\\t      document.createElement(\\'article\\');\\r\\n\\t      document.createElement(\\'aside\\');\\r\\n\\t      document.createElement(\\'footer\\');\\r\\n\\t   </script>\\r\\n\\t<![endif]-->\\r\\n\\t\\r\\n<script type=\\'text/javascript\\' src=\"usp-ga.js\"></script>\\r\\n<script type=\\'text/javascript\\'\\r\\n\\tsrc=\\'https://uspdigital.usp.br/comumwebdev/libs/jquery/1.7.2/jquery.min.js\\'></script>\\r\\n<script type=\\'text/javascript\\'\\r\\n\\tsrc=\\'https://uspdigital.usp.br/comumwebdev/libs/jqueryui/1.8.24/jquery-ui.min.js\\'></script>\\r\\n<script type=\"text/javascript\"\\r\\n\\tsrc=\"https://uspdigital.usp.br/comumwebdev/libs/jqueryui/1.8.24/jquery.ui.datepicker-pt-BR.min.js\"></script>\\r\\n<script type=\\'text/javascript\\'\\r\\n\\tsrc=\\'https://uspdigital.usp.br/comumwebdev/libs/jquery/plugins/blockUI/2.36/jquery.blockUI.js\\'></script>\\r\\n<script type=\\'text/javascript\\'\\r\\n\\tsrc=\\'https://uspdigital.usp.br/comumwebdev/libs/jquery/plugins/fancybox/1.3.4/jquery.fancybox.js\\'></script>\\r\\n<script type=\"text/javascript\"\\r\\n\\tsrc=\"https://uspdigital.usp.br/comumwebdev/libs/jquery/plugins/fancybox/1.3.4/jquery.mousewheel.min.js\"></script>\\r\\n<script type=\\'text/javascript\\'\\r\\n\\tsrc=\\'https://uspdigital.usp.br/comumwebdev/libs/jquery/plugins/validationEngine/2.6.2/jquery.validationEngine.js\\'></script>\\r\\n<script type=\\'text/javascript\\'\\r\\n\\tsrc=\\'https://uspdigital.usp.br/comumwebdev/libs/jquery/plugins/validationEngine/2.6.2/jquery.validationEngine-pt.js\\'></script>\\r\\n<script type=\\'text/javascript\\'\\r\\n\\tsrc=\\'https://uspdigital.usp.br/comumwebdev/libs/jquery/plugins/jqGrid/4.4.3/jquery.jqGrid.min.js\\'></script>\\r\\n<script type=\\'text/javascript\\'\\r\\n\\tsrc=\\'https://uspdigital.usp.br/comumwebdev/libs/jquery/plugins/jqGrid/4.4.3/grid.locale-pt-br.js\\'></script>\\r\\n<script type=\\'text/javascript\\'\\r\\n\\tsrc=\\'https://uspdigital.usp.br/comumwebdev/libs/jquery/plugins/simplemodal/1.4.4/jquery.simplemodal.js\\'></script>\\r\\n<script type=\\'text/javascript\\'\\r\\n\\tsrc=\\'https://uspdigital.usp.br/comumwebdev/libs/jquery/plugins/exists/0.1/jquery.exists.js\\'></script>\\r\\n<script type=\\'text/javascript\\'\\r\\n\\tsrc=\\'https://uspdigital.usp.br/comumwebdev/libs/jquery/plugins/maskedInput/1.2.2/jquery.maskedinput.js\\'></script>\\r\\n<script type=\\'text/javascript\\'\\r\\n\\tsrc=\\'https://uspdigital.usp.br/comumwebdev/libs/jquery/plugins/maxlength/2.0.1/jquery.plugin.min.js\\'></script>\\r\\n<script type=\\'text/javascript\\'\\r\\n\\tsrc=\\'https://uspdigital.usp.br/comumwebdev/libs/jquery/plugins/maxlength/2.0.1/jquery.maxlength.min.js\\'></script>\\r\\n<script type=\"text/javascript\"\\r\\n\\tsrc=\"https://uspdigital.usp.br/comumwebdev/libs/javascript/ckeditor/4.4.7/ckeditor.js\"></script>\\r\\n<script type=\"text/javascript\"\\r\\n\\tsrc=\"https://uspdigital.usp.br/comumwebdev/libs/javascript/ckeditor/4.4.7/adapters/jquery.js\"></script>\\r\\n<script type=\"text/javascript\"\\r\\n\\tsrc=\"https://uspdigital.usp.br/comumwebdev/libs/usp/util/1.0/util.js\"></script>\\r\\n<script type=\"text/javascript\"\\r\\n\\tsrc=\"https://uspdigital.usp.br/comumwebdev/libs/messages/1.3.0-0/messages.min.js\"></script>\\r\\n<script type=\\'text/javascript\\' src=\"/jupiterweb/dwr/engine.js\"></script>\\r\\n<script type=\\'text/javascript\\' src=\"/jupiterweb/dwr/util.js\"></script>\\r\\n<script type=\\'text/javascript\\' src=\"/jupiterweb/javascript/usp-exception-dwr.js\"></script>\\r\\n<script type=\\'text/javascript\\' src=\"/jupiterweb/javascript/comum.js\"></script>\\r\\n<script type=\\'text/javascript\\' src=\"/jupiterweb/javascript/jupiterweb.js\"></script>\\r\\n\\r\\n<script async src=\"https://www.googletagmanager.com/gtag/js?id=G-K1Y204Q919\"></script>\\r\\n<script src=\"usp-ga4.js\"></script>\\r\\n\\r\\n<STYLE>\\r\\n#simplemodal-container a.modalCloseImg {\\r\\n\\tbackground:\\r\\n\\t\\turl(images/jquery/jquery.simple.modal/x.png)\\r\\n\\t\\tno-repeat; /* adjust url as required */\\r\\n}\\r\\n</STYLE>\\r\\n\\r\\n\\r\\n\\r\\n<style>\\r\\na.link_cabecalho:active {\\r\\n\\tfont-family: verdana;\\r\\n\\tfont-size: 10px;\\r\\n\\tcolor: olive;\\r\\n\\ttext-decoration: none\\r\\n}\\r\\n\\r\\na.link_cabecalho:link {\\r\\n\\tfont-family: verdana;\\r\\n\\tfont-size: 10px;\\r\\n\\tcolor: olive;\\r\\n\\ttext-decoration: none\\r\\n}\\r\\n\\r\\na.link_cabecalho:visited {\\r\\n\\tfont-family: verdana;\\r\\n\\tfont-size: 10px;\\r\\n\\tcolor: olive;\\r\\n\\ttext-decoration: none\\r\\n}\\r\\n\\r\\na.link_cabecalho:hover {\\r\\n\\tfont-family: verdana;\\r\\n\\tfont-size: 10px;\\r\\n\\tcolor: gray;\\r\\n\\ttext-decoration: underline\\r\\n}\\r\\n\\r\\n#my_web_cabecalho {\\r\\n\\tfont-family: Verdana, Geneva, Arial, Helvetica, sans-serif;\\r\\n\\tfont-size: 10px;\\r\\n\\ttext-align: left;\\r\\n\\twidth: 90%;\\r\\n\\tborder-bottom: solid;\\r\\n\\tborder-bottom-width: thin;\\r\\n\\tborder-bottom-color: #666666;\\r\\n\\tpadding-bottom: 4px;\\r\\n\\tmargin-bottom: 4px;\\r\\n}\\r\\n\\r\\n#my_web_cabecalho_descricao {\\r\\n\\tfont-family: Verdana, Geneva, Arial, Helvetica, sans-serif;\\r\\n\\tfont-size: 10px;\\r\\n\\tpadding-bottom: 10px;\\r\\n}\\r\\n</style>\\r\\n</head>\\r\\n\\r\\n\\r\\n\\t\\r\\n\\r\\n\\r\\n<div id=\"my_web_cabecalho\">\\r\\n\\tDisciplinas\\r\\n</div>\\r\\n\\r\\n\\t<!DOCTYPE html PUBLIC \"-//W3C//DTD HTML 4.01 Transitional//EN\" \"http://www.w3.org/TR/html4/loose.dtd\">\\r\\n\\r\\n\\r\\n\\r\\n\\r\\n\\r\\n\\r\\n\\r\\n\\t<br>\\r\\n\\r\\n\\r\\n\\r\\n<html>\\r\\n\\r\\n\\r\\n<script language=\"Javascript\">\\r\\nfunction OpenWindowToPrint() {\\r\\n\\tvar mylink;\\r\\n\\t\\r\\n\\tif(\\'\\' == \\'default\\'){\\r\\n\\t\\tmylink = document.location.href;\\r\\n\\t} else {\\r\\n\\t\\tmylink = \\'\\';\\r\\n\\t}\\r\\n\\t\\r\\n\\tif(mylink.indexOf(\"?\") > 0){\\r\\n\\t\\tmylink += \"&\";\\r\\n\\t} else {\\r\\n\\t\\tmylink += \"?\";\\r\\n\\t}\\r\\n\\t\\r\\n\\tmylink += \"print=true\";\\r\\n\\t\\r\\n\\twindow.open(mylink , \"_blank\", \"toolbar=no,location=no,directories=no,status=no,menubar=yes,titlebar=yes,scrollbars=yes,resizable=yes\");\\r\\n}\\r\\n</script>\\r\\n<head>\\r\\n<title></title>\\r\\n<meta http-equiv=\"Content-Type\" content=\"text/html; charset=iso-8859-1\">\\r\\n\\r\\n</head>\\r\\n<body bgcolor=\"#FFFFFF\" text=\"#000000\">\\r\\n\\r\\n\\r\\n\\r\\n\\r\\n\\r\\n<BR>\\r\\n\\r\\n   \\r\\n<TABLE align=\"center\">\\r\\n<TR BGCOLOR=\"#658CCF\">\\r\\n   <TD><font face=\"Verdana, Arial, Helvetica, sans-serif\" size=\"2\" color=\"#FFFFFF\"><span class=\"txt_verdana_10pt_white\">\\r\\n       Sigla</span></font></TD>\\r\\n   <TD><font face=\"Verdana, Arial, Helvetica, sans-serif\" size=\"2\" color=\"#FFFFFF\"><span class=\"txt_verdana_10pt_white\">\\r\\n       Nome</span></font></TD>\\r\\n      \\t   \\r\\n   <TD><font face=\"Verdana, Arial, Helvetica, sans-serif\" size=\"2\" color=\"#FFFFFF\"><span class=\"txt_verdana_10pt_white\">\\r\\n       Ativação</span></font></TD>\\r\\n   <TD><font face=\"Verdana, Arial, Helvetica, sans-serif\" size=\"2\" color=\"#FFFFFF\"><span class=\"txt_verdana_10pt_white\">\\r\\n       Desativação</span></font></TD>\\r\\n    \\r\\n</tr>\\r\\n    \\r\\n    <TR>\\r\\n    <TD valign=top><font face=\"Verdana, Arial, Helvetica, sans-serif\" size=\"1\" color=\"#666666\"><span class=\"txt_arial_8pt_gray\">\\r\\n        CGF2036</span></font></TD>\\r\\n       \\r\\n       <TD valign=top><font face=\"Verdana, Arial, Helvetica, sans-serif\" size=\"1\" color=\"#666666\"><span class=\"txt_arial_8pt_gray\">\\r\\n           <A HREF=obterDisciplina?sgldis=CGF2036&verdis=1 class=\"link_gray\">Análise Química I: Físico-Química</A>\\r\\n       </span></font></TD>\\t   \\r\\n\\t   <TD valign=top><font face=\"Verdana, Arial, Helvetica, sans-serif\" size=\"1\" color=\"#666666\"><span class=\"txt_arial_8pt_gray\">\\r\\n        01/01/2017</span></font></TD>\\r\\n\\t   <TD valign=top><font face=\"Verdana, Arial, Helvetica, sans-serif\" size=\"1\" color=\"#666666\"><span class=\"txt_arial_8pt_gray\">\\r\\n        </span></font></TD>\\r\\n    \\r\\n    </TR>\\r\\n    \\r\\n    <TR>\\r\\n    <TD valign=top><font face=\"Verdana, Arial, Helvetica, sans-serif\" size=\"1\" color=\"#666666\"><span class=\"txt_arial_8pt_gray\">\\r\\n        CGF2049</span></font></TD>\\r\\n       \\r\\n       <TD valign=top><font face=\"Verdana, Arial, Helvetica, sans-serif\" size=\"1\" color=\"#666666\"><span class=\"txt_arial_8pt_gray\">\\r\\n           <A HREF=obterDisciplina?sgldis=CGF2049&verdis=2 class=\"link_gray\">Análise Química II: Físico Química</A>\\r\\n       </span></font></TD>\\t   \\r\\n\\t   <TD valign=top><font face=\"Verdana, Arial, Helvetica, sans-serif\" size=\"1\" color=\"#666666\"><span class=\"txt_arial_8pt_gray\">\\r\\n        15/07/2020</span></font></TD>\\r\\n\\t   <TD valign=top><font face=\"Verdana, Arial, Helvetica, sans-serif\" size=\"1\" color=\"#666666\"><span class=\"txt_arial_8pt_gray\">\\r\\n        </span></font></TD>\\r\\n    \\r\\n    </TR>\\r\\n    \\r\\n    <TR>\\r\\n    <TD valign=top><font face=\"Verdana, Arial, Helvetica, sans-serif\" size=\"1\" color=\"#666666\"><span class=\"txt_arial_8pt_gray\">\\r\\n        CGF2028</span></font></TD>\\r\\n       \\r\\n       <TD valign=top><font face=\"Verdana, Arial, Helvetica, sans-serif\" size=\"1\" color=\"#666666\"><span class=\"txt_arial_8pt_gray\">\\r\\n           <A HREF=obterDisciplina?sgldis=CGF2028&verdis=2 class=\"link_gray\">Análise Química: Reações Químicas</A>\\r\\n       </span></font></TD>\\t   \\r\\n\\t   <TD valign=top><font face=\"Verdana, Arial, Helvetica, sans-serif\" size=\"1\" color=\"#666666\"><span class=\"txt_arial_8pt_gray\">\\r\\n        01/01/2023</span></font></TD>\\r\\n\\t   <TD valign=top><font face=\"Verdana, Arial, Helvetica, sans-serif\" size=\"1\" color=\"#666666\"><span class=\"txt_arial_8pt_gray\">\\r\\n        </span></font></TD>\\r\\n    \\r\\n    </TR>\\r\\n    \\r\\n    <TR>\\r\\n    <TD valign=top><font face=\"Verdana, Arial, Helvetica, sans-serif\" size=\"1\" color=\"#666666\"><span class=\"txt_arial_8pt_gray\">\\r\\n        CGF2088</span></font></TD>\\r\\n       \\r\\n       <TD valign=top><font face=\"Verdana, Arial, Helvetica, sans-serif\" size=\"1\" color=\"#666666\"><span class=\"txt_arial_8pt_gray\">\\r\\n           <A HREF=obterDisciplina?sgldis=CGF2088&verdis=2 class=\"link_gray\">Análise Toxicológica</A>\\r\\n       </span></font></TD>\\t   \\r\\n\\t   <TD valign=top><font face=\"Verdana, Arial, Helvetica, sans-serif\" size=\"1\" color=\"#666666\"><span class=\"txt_arial_8pt_gray\">\\r\\n        15/07/2022</span></font></TD>\\r\\n\\t   <TD valign=top><font face=\"Verdana, Arial, Helvetica, sans-serif\" size=\"1\" color=\"#666666\"><span class=\"txt_arial_8pt_gray\">\\r\\n        </span></font></TD>\\r\\n    \\r\\n    </TR>\\r\\n    \\r\\n    <TR>\\r\\n    <TD valign=top><font face=\"Verdana, Arial, Helvetica, sans-serif\" size=\"1\" color=\"#666666\"><span class=\"txt_arial_8pt_gray\">\\r\\n        CGF2107</span></font></TD>\\r\\n       \\r\\n       <TD valign=top><font face=\"Verdana, Arial, Helvetica, sans-serif\" size=\"1\" color=\"#666666\"><span class=\"txt_arial_8pt_gray\">\\r\\n           <A HREF=obterDisciplina?sgldis=CGF2107&verdis=2 class=\"link_gray\">Assistência Farmacêutica</A>\\r\\n       </span></font></TD>\\t   \\r\\n\\t   <TD valign=top><font face=\"Verdana, Arial, Helvetica, sans-serif\" size=\"1\" color=\"#666666\"><span class=\"txt_arial_8pt_gray\">\\r\\n        15/07/2024</span></font></TD>\\r\\n\\t   <TD valign=top><font face=\"Verdana, Arial, Helvetica, sans-serif\" size=\"1\" color=\"#666666\"><span class=\"txt_arial_8pt_gray\">\\r\\n        </span></font></TD>\\r\\n    \\r\\n    </TR>\\r\\n    \\r\\n    <TR>\\r\\n    <TD valign=top><font face=\"Verdana, Arial, Helvetica, sans-serif\" size=\"1\" color=\"#666666\"><span class=\"txt_arial_8pt_gray\">\\r\\n        CGF2091</span></font></TD>\\r\\n       \\r\\n       <TD valign=top><font face=\"Verdana, Arial, Helvetica, sans-serif\" size=\"1\" color=\"#666666\"><span class=\"txt_arial_8pt_gray\">\\r\\n           <A HREF=obterDisciplina?sgldis=CGF2091&verdis=1 class=\"link_gray\">Assistência Farmacêutica I</A>\\r\\n       </span></font></TD>\\t   \\r\\n\\t   <TD valign=top><font face=\"Verdana, Arial, Helvetica, sans-serif\" size=\"1\" color=\"#666666\"><span class=\"txt_arial_8pt_gray\">\\r\\n        15/07/2020</span></font></TD>\\r\\n\\t   <TD valign=top><font face=\"Verdana, Arial, Helvetica, sans-serif\" size=\"1\" color=\"#666666\"><span class=\"txt_arial_8pt_gray\">\\r\\n        </span></font></TD>\\r\\n    \\r\\n    </TR>\\r\\n    \\r\\n    <TR>\\r\\n    <TD valign=top><font face=\"Verdana, Arial, Helvetica, sans-serif\" size=\"1\" color=\"#666666\"><span class=\"txt_arial_8pt_gray\">\\r\\n        CGF2092</span></font></TD>\\r\\n       \\r\\n       <TD valign=top><font face=\"Verdana, Arial, Helvetica, sans-serif\" size=\"1\" color=\"#666666\"><span class=\"txt_arial_8pt_gray\">\\r\\n           <A HREF=obterDisciplina?sgldis=CGF2092&verdis=1 class=\"link_gray\">Assistência Farmacêutica II</A>\\r\\n       </span></font></TD>\\t   \\r\\n\\t   <TD valign=top><font face=\"Verdana, Arial, Helvetica, sans-serif\" size=\"1\" color=\"#666666\"><span class=\"txt_arial_8pt_gray\">\\r\\n        15/07/2020</span></font></TD>\\r\\n\\t   <TD valign=top><font face=\"Verdana, Arial, Helvetica, sans-serif\" size=\"1\" color=\"#666666\"><span class=\"txt_arial_8pt_gray\">\\r\\n        </span></font></TD>\\r\\n    \\r\\n    </TR>\\r\\n    \\r\\n    <TR>\\r\\n    <TD valign=top><font face=\"Verdana, Arial, Helvetica, sans-serif\" size=\"1\" color=\"#666666\"><span class=\"txt_arial_8pt_gray\">\\r\\n        CGF2059</span></font></TD>\\r\\n       \\r\\n       <TD valign=top><font face=\"Verdana, Arial, Helvetica, sans-serif\" size=\"1\" color=\"#666666\"><span class=\"txt_arial_8pt_gray\">\\r\\n           <A HREF=obterDisciplina?sgldis=CGF2059&verdis=1 class=\"link_gray\">Assistência Farmacêutica: Gestão e Dispensação no Serviço Público</A>\\r\\n       </span></font></TD>\\t   \\r\\n\\t   <TD valign=top><font face=\"Verdana, Arial, Helvetica, sans-serif\" size=\"1\" color=\"#666666\"><span class=\"txt_arial_8pt_gray\">\\r\\n        01/01/2017</span></font></TD>\\r\\n\\t   <TD valign=top><font face=\"Verdana, Arial, Helvetica, sans-serif\" size=\"1\" color=\"#666666\"><span class=\"txt_arial_8pt_gray\">\\r\\n        </span></font></TD>\\r\\n    \\r\\n    </TR>\\r\\n    \\r\\n    <TR>\\r\\n    <TD valign=top><font face=\"Verdana, Arial, Helvetica, sans-serif\" size=\"1\" color=\"#666666\"><span class=\"txt_arial_8pt_gray\">\\r\\n        CGF2078</span></font></TD>\\r\\n       \\r\\n       <TD valign=top><font face=\"Verdana, Arial, Helvetica, sans-serif\" size=\"1\" color=\"#666666\"><span class=\"txt_arial_8pt_gray\">\\r\\n           <A HREF=obterDisciplina?sgldis=CGF2078&verdis=2 class=\"link_gray\">Atenção Diagnóstica de Doenças Infecciosas e Parasitárias</A>\\r\\n       </span></font></TD>\\t   \\r\\n\\t   <TD valign=top><font face=\"Verdana, Arial, Helvetica, sans-serif\" size=\"1\" color=\"#666666\"><span class=\"txt_arial_8pt_gray\">\\r\\n        15/07/2021</span></font></TD>\\r\\n\\t   <TD valign=top><font face=\"Verdana, Arial, Helvetica, sans-serif\" size=\"1\" color=\"#666666\"><span class=\"txt_arial_8pt_gray\">\\r\\n        </span></font></TD>\\r\\n    \\r\\n    </TR>\\r\\n    \\r\\n    <TR>\\r\\n    <TD valign=top><font face=\"Verdana, Arial, Helvetica, sans-serif\" size=\"1\" color=\"#666666\"><span class=\"txt_arial_8pt_gray\">\\r\\n        CGF2070</span></font></TD>\\r\\n       \\r\\n       <TD valign=top><font face=\"Verdana, Arial, Helvetica, sans-serif\" size=\"1\" color=\"#666666\"><span class=\"txt_arial_8pt_gray\">\\r\\n           <A HREF=obterDisciplina?sgldis=CGF2070&verdis=1 class=\"link_gray\">Atenção Diagnóstica Em Doenças Hematológicas, Imunológicas, Metabólicas e Endocrinológicas</A>\\r\\n       </span></font></TD>\\t   \\r\\n\\t   <TD valign=top><font face=\"Verdana, Arial, Helvetica, sans-serif\" size=\"1\" color=\"#666666\"><span class=\"txt_arial_8pt_gray\">\\r\\n        01/01/2017</span></font></TD>\\r\\n\\t   <TD valign=top><font face=\"Verdana, Arial, Helvetica, sans-serif\" size=\"1\" color=\"#666666\"><span class=\"txt_arial_8pt_gray\">\\r\\n        </span></font></TD>\\r\\n    \\r\\n    </TR>\\r\\n    \\r\\n    <TR>\\r\\n    <TD valign=top><font face=\"Verdana, Arial, Helvetica, sans-serif\" size=\"1\" color=\"#666666\"><span class=\"txt_arial_8pt_gray\">\\r\\n        CGF2083</span></font></TD>\\r\\n       \\r\\n       <TD valign=top><font face=\"Verdana, Arial, Helvetica, sans-serif\" size=\"1\" color=\"#666666\"><span class=\"txt_arial_8pt_gray\">\\r\\n           <A HREF=obterDisciplina?sgldis=CGF2083&verdis=2 class=\"link_gray\">Atividades de Extensão</A>\\r\\n       </span></font></TD>\\t   \\r\\n\\t   <TD valign=top><font face=\"Verdana, Arial, Helvetica, sans-serif\" size=\"1\" color=\"#666666\"><span class=\"txt_arial_8pt_gray\">\\r\\n        15/07/2022</span></font></TD>\\r\\n\\t   <TD valign=top><font face=\"Verdana, Arial, Helvetica, sans-serif\" size=\"1\" color=\"#666666\"><span class=\"txt_arial_8pt_gray\">\\r\\n        </span></font></TD>\\r\\n    \\r\\n    </TR>\\r\\n    \\r\\n    <TR>\\r\\n    <TD valign=top><font face=\"Verdana, Arial, Helvetica, sans-serif\" size=\"1\" color=\"#666666\"><span class=\"txt_arial_8pt_gray\">\\r\\n        CGF2004</span></font></TD>\\r\\n       \\r\\n       <TD valign=top><font face=\"Verdana, Arial, Helvetica, sans-serif\" size=\"1\" color=\"#666666\"><span class=\"txt_arial_8pt_gray\">\\r\\n           <A HREF=obterDisciplina?sgldis=CGF2004&verdis=4 class=\"link_gray\">Atividades de Extensão</A>\\r\\n       </span></font></TD>\\t   \\r\\n\\t   <TD valign=top><font face=\"Verdana, Arial, Helvetica, sans-serif\" size=\"1\" color=\"#666666\"><span class=\"txt_arial_8pt_gray\">\\r\\n        15/07/2022</span></font></TD>\\r\\n\\t   <TD valign=top><font face=\"Verdana, Arial, Helvetica, sans-serif\" size=\"1\" color=\"#666666\"><span class=\"txt_arial_8pt_gray\">\\r\\n        </span></font></TD>\\r\\n    \\r\\n    </TR>\\r\\n    \\r\\n    <TR>\\r\\n    <TD valign=top><font face=\"Verdana, Arial, Helvetica, sans-serif\" size=\"1\" color=\"#666666\"><span class=\"txt_arial_8pt_gray\">\\r\\n        CGF2110</span></font></TD>\\r\\n       \\r\\n       <TD valign=top><font face=\"Verdana, Arial, Helvetica, sans-serif\" size=\"1\" color=\"#666666\"><span class=\"txt_arial_8pt_gray\">\\r\\n           <A HREF=obterDisciplina?sgldis=CGF2110&verdis=2 class=\"link_gray\">Atividades Extensionistas - Gerais</A>\\r\\n       </span></font></TD>\\t   \\r\\n\\t   <TD valign=top><font face=\"Verdana, Arial, Helvetica, sans-serif\" size=\"1\" color=\"#666666\"><span class=\"txt_arial_8pt_gray\">\\r\\n        15/07/2024</span></font></TD>\\r\\n\\t   <TD valign=top><font face=\"Verdana, Arial, Helvetica, sans-serif\" size=\"1\" color=\"#666666\"><span class=\"txt_arial_8pt_gray\">\\r\\n        </span></font></TD>\\r\\n    \\r\\n    </TR>\\r\\n    \\r\\n    <TR>\\r\\n    <TD valign=top><font face=\"Verdana, Arial, Helvetica, sans-serif\" size=\"1\" color=\"#666666\"><span class=\"txt_arial_8pt_gray\">\\r\\n        CGF2026</span></font></TD>\\r\\n       \\r\\n       <TD valign=top><font face=\"Verdana, Arial, Helvetica, sans-serif\" size=\"1\" color=\"#666666\"><span class=\"txt_arial_8pt_gray\">\\r\\n           <A HREF=obterDisciplina?sgldis=CGF2026&verdis=3 class=\"link_gray\">Bases Químicas das Moléculas Orgânicas I</A>\\r\\n       </span></font></TD>\\t   \\r\\n\\t   <TD valign=top><font face=\"Verdana, Arial, Helvetica, sans-serif\" size=\"1\" color=\"#666666\"><span class=\"txt_arial_8pt_gray\">\\r\\n        15/07/2020</span></font></TD>\\r\\n\\t   <TD valign=top><font face=\"Verdana, Arial, Helvetica, sans-serif\" size=\"1\" color=\"#666666\"><span class=\"txt_arial_8pt_gray\">\\r\\n        </span></font></TD>\\r\\n    \\r\\n    </TR>\\r\\n    \\r\\n    <TR>\\r\\n    <TD valign=top><font face=\"Verdana, Arial, Helvetica, sans-serif\" size=\"1\" color=\"#666666\"><span class=\"txt_arial_8pt_gray\">\\r\\n        CGF2093</span></font></TD>\\r\\n       \\r\\n       <TD valign=top><font face=\"Verdana, Arial, Helvetica, sans-serif\" size=\"1\" color=\"#666666\"><span class=\"txt_arial_8pt_gray\">\\r\\n           <A HREF=obterDisciplina?sgldis=CGF2093&verdis=1 class=\"link_gray\">Bases Químicas das Moléculas Orgânicas III</A>\\r\\n       </span></font></TD>\\t   \\r\\n\\t   <TD valign=top><font face=\"Verdana, Arial, Helvetica, sans-serif\" size=\"1\" color=\"#666666\"><span class=\"txt_arial_8pt_gray\">\\r\\n        01/01/2021</span></font></TD>\\r\\n\\t   <TD valign=top><font face=\"Verdana, Arial, Helvetica, sans-serif\" size=\"1\" color=\"#666666\"><span class=\"txt_arial_8pt_gray\">\\r\\n        </span></font></TD>\\r\\n    \\r\\n    </TR>\\r\\n    \\r\\n    <TR>\\r\\n    <TD valign=top><font face=\"Verdana, Arial, Helvetica, sans-serif\" size=\"1\" color=\"#666666\"><span class=\"txt_arial_8pt_gray\">\\r\\n        CGF2040</span></font></TD>\\r\\n       \\r\\n       <TD valign=top><font face=\"Verdana, Arial, Helvetica, sans-serif\" size=\"1\" color=\"#666666\"><span class=\"txt_arial_8pt_gray\">\\r\\n           <A HREF=obterDisciplina?sgldis=CGF2040&verdis=4 class=\"link_gray\">Bases Químicas de Moléculas Orgânicas II</A>\\r\\n       </span></font></TD>\\t   \\r\\n\\t   <TD valign=top><font face=\"Verdana, Arial, Helvetica, sans-serif\" size=\"1\" color=\"#666666\"><span class=\"txt_arial_8pt_gray\">\\r\\n        01/01/2021</span></font></TD>\\r\\n\\t   <TD valign=top><font face=\"Verdana, Arial, Helvetica, sans-serif\" size=\"1\" color=\"#666666\"><span class=\"txt_arial_8pt_gray\">\\r\\n        </span></font></TD>\\r\\n    \\r\\n    </TR>\\r\\n    \\r\\n    <TR>\\r\\n    <TD valign=top><font face=\"Verdana, Arial, Helvetica, sans-serif\" size=\"1\" color=\"#666666\"><span class=\"txt_arial_8pt_gray\">\\r\\n        CGF2048</span></font></TD>\\r\\n       \\r\\n       <TD valign=top><font face=\"Verdana, Arial, Helvetica, sans-serif\" size=\"1\" color=\"#666666\"><span class=\"txt_arial_8pt_gray\">\\r\\n           <A HREF=obterDisciplina?sgldis=CGF2048&verdis=2 class=\"link_gray\">Bioagentes</A>\\r\\n       </span></font></TD>\\t   \\r\\n\\t   <TD valign=top><font face=\"Verdana, Arial, Helvetica, sans-serif\" size=\"1\" color=\"#666666\"><span class=\"txt_arial_8pt_gray\">\\r\\n        01/01/2023</span></font></TD>\\r\\n\\t   <TD valign=top><font face=\"Verdana, Arial, Helvetica, sans-serif\" size=\"1\" color=\"#666666\"><span class=\"txt_arial_8pt_gray\">\\r\\n        </span></font></TD>\\r\\n    \\r\\n    </TR>\\r\\n    \\r\\n    <TR>\\r\\n    <TD valign=top><font face=\"Verdana, Arial, Helvetica, sans-serif\" size=\"1\" color=\"#666666\"><span class=\"txt_arial_8pt_gray\">\\r\\n        CGF2022</span></font></TD>\\r\\n       \\r\\n       <TD valign=top><font face=\"Verdana, Arial, Helvetica, sans-serif\" size=\"1\" color=\"#666666\"><span class=\"txt_arial_8pt_gray\">\\r\\n           <A HREF=obterDisciplina?sgldis=CGF2022&verdis=3 class=\"link_gray\">Bioestatística I</A>\\r\\n       </span></font></TD>\\t   \\r\\n\\t   <TD valign=top><font face=\"Verdana, Arial, Helvetica, sans-serif\" size=\"1\" color=\"#666666\"><span class=\"txt_arial_8pt_gray\">\\r\\n        15/07/2020</span></font></TD>\\r\\n\\t   <TD valign=top><font face=\"Verdana, Arial, Helvetica, sans-serif\" size=\"1\" color=\"#666666\"><span class=\"txt_arial_8pt_gray\">\\r\\n        </span></font></TD>\\r\\n    \\r\\n    </TR>\\r\\n    \\r\\n    <TR>\\r\\n    <TD valign=top><font face=\"Verdana, Arial, Helvetica, sans-serif\" size=\"1\" color=\"#666666\"><span class=\"txt_arial_8pt_gray\">\\r\\n        CGF2046</span></font></TD>\\r\\n       \\r\\n       <TD valign=top><font face=\"Verdana, Arial, Helvetica, sans-serif\" size=\"1\" color=\"#666666\"><span class=\"txt_arial_8pt_gray\">\\r\\n           <A HREF=obterDisciplina?sgldis=CGF2046&verdis=3 class=\"link_gray\">Bioestatística II</A>\\r\\n       </span></font></TD>\\t   \\r\\n\\t   <TD valign=top><font face=\"Verdana, Arial, Helvetica, sans-serif\" size=\"1\" color=\"#666666\"><span class=\"txt_arial_8pt_gray\">\\r\\n        15/07/2020</span></font></TD>\\r\\n\\t   <TD valign=top><font face=\"Verdana, Arial, Helvetica, sans-serif\" size=\"1\" color=\"#666666\"><span class=\"txt_arial_8pt_gray\">\\r\\n        </span></font></TD>\\r\\n    \\r\\n    </TR>\\r\\n    \\r\\n    <TR>\\r\\n    <TD valign=top><font face=\"Verdana, Arial, Helvetica, sans-serif\" size=\"1\" color=\"#666666\"><span class=\"txt_arial_8pt_gray\">\\r\\n        CGF2020</span></font></TD>\\r\\n       \\r\\n       <TD valign=top><font face=\"Verdana, Arial, Helvetica, sans-serif\" size=\"1\" color=\"#666666\"><span class=\"txt_arial_8pt_gray\">\\r\\n           <A HREF=obterDisciplina?sgldis=CGF2020&verdis=2 class=\"link_gray\">Bioética e Saúde</A>\\r\\n       </span></font></TD>\\t   \\r\\n\\t   <TD valign=top><font face=\"Verdana, Arial, Helvetica, sans-serif\" size=\"1\" color=\"#666666\"><span class=\"txt_arial_8pt_gray\">\\r\\n        15/07/2017</span></font></TD>\\r\\n\\t   <TD valign=top><font face=\"Verdana, Arial, Helvetica, sans-serif\" size=\"1\" color=\"#666666\"><span class=\"txt_arial_8pt_gray\">\\r\\n        </span></font></TD>\\r\\n    \\r\\n    </TR>\\r\\n    \\r\\n    <TR>\\r\\n    <TD valign=top><font face=\"Verdana, Arial, Helvetica, sans-serif\" size=\"1\" color=\"#666666\"><span class=\"txt_arial_8pt_gray\">\\r\\n        CGF2031</span></font></TD>\\r\\n       \\r\\n       <TD valign=top><font face=\"Verdana, Arial, Helvetica, sans-serif\" size=\"1\" color=\"#666666\"><span class=\"txt_arial_8pt_gray\">\\r\\n           <A HREF=obterDisciplina?sgldis=CGF2031&verdis=3 class=\"link_gray\">Biologia Celular e Molecular</A>\\r\\n       </span></font></TD>\\t   \\r\\n\\t   <TD valign=top><font face=\"Verdana, Arial, Helvetica, sans-serif\" size=\"1\" color=\"#666666\"><span class=\"txt_arial_8pt_gray\">\\r\\n        15/07/2019</span></font></TD>\\r\\n\\t   <TD valign=top><font face=\"Verdana, Arial, Helvetica, sans-serif\" size=\"1\" color=\"#666666\"><span class=\"txt_arial_8pt_gray\">\\r\\n        </span></font></TD>\\r\\n    \\r\\n    </TR>\\r\\n    \\r\\n    <TR>\\r\\n    <TD valign=top><font face=\"Verdana, Arial, Helvetica, sans-serif\" size=\"1\" color=\"#666666\"><span class=\"txt_arial_8pt_gray\">\\r\\n        CGF2037</span></font></TD>\\r\\n       \\r\\n       <TD valign=top><font face=\"Verdana, Arial, Helvetica, sans-serif\" size=\"1\" color=\"#666666\"><span class=\"txt_arial_8pt_gray\">\\r\\n           <A HREF=obterDisciplina?sgldis=CGF2037&verdis=1 class=\"link_gray\">Bioquímica Experimental</A>\\r\\n       </span></font></TD>\\t   \\r\\n\\t   <TD valign=top><font face=\"Verdana, Arial, Helvetica, sans-serif\" size=\"1\" color=\"#666666\"><span class=\"txt_arial_8pt_gray\">\\r\\n        01/01/2017</span></font></TD>\\r\\n\\t   <TD valign=top><font face=\"Verdana, Arial, Helvetica, sans-serif\" size=\"1\" color=\"#666666\"><span class=\"txt_arial_8pt_gray\">\\r\\n        </span></font></TD>\\r\\n    \\r\\n    </TR>\\r\\n    \\r\\n    <TR>\\r\\n    <TD valign=top><font face=\"Verdana, Arial, Helvetica, sans-serif\" size=\"1\" color=\"#666666\"><span class=\"txt_arial_8pt_gray\">\\r\\n        CGF2027</span></font></TD>\\r\\n       \\r\\n       <TD valign=top><font face=\"Verdana, Arial, Helvetica, sans-serif\" size=\"1\" color=\"#666666\"><span class=\"txt_arial_8pt_gray\">\\r\\n           <A HREF=obterDisciplina?sgldis=CGF2027&verdis=2 class=\"link_gray\">Bioquímica: Estrutura e Função de Biomoléculas</A>\\r\\n       </span></font></TD>\\t   \\r\\n\\t   <TD valign=top><font face=\"Verdana, Arial, Helvetica, sans-serif\" size=\"1\" color=\"#666666\"><span class=\"txt_arial_8pt_gray\">\\r\\n        01/01/2024</span></font></TD>\\r\\n\\t   <TD valign=top><font face=\"Verdana, Arial, Helvetica, sans-serif\" size=\"1\" color=\"#666666\"><span class=\"txt_arial_8pt_gray\">\\r\\n        </span></font></TD>\\r\\n    \\r\\n    </TR>\\r\\n    \\r\\n    <TR>\\r\\n    <TD valign=top><font face=\"Verdana, Arial, Helvetica, sans-serif\" size=\"1\" color=\"#666666\"><span class=\"txt_arial_8pt_gray\">\\r\\n        CGF2063</span></font></TD>\\r\\n       \\r\\n       <TD valign=top><font face=\"Verdana, Arial, Helvetica, sans-serif\" size=\"1\" color=\"#666666\"><span class=\"txt_arial_8pt_gray\">\\r\\n           <A HREF=obterDisciplina?sgldis=CGF2063&verdis=6 class=\"link_gray\">Biotecnologia Farmacêutica I</A>\\r\\n       </span></font></TD>\\t   \\r\\n\\t   <TD valign=top><font face=\"Verdana, Arial, Helvetica, sans-serif\" size=\"1\" color=\"#666666\"><span class=\"txt_arial_8pt_gray\">\\r\\n        01/01/2024</span></font></TD>\\r\\n\\t   <TD valign=top><font face=\"Verdana, Arial, Helvetica, sans-serif\" size=\"1\" color=\"#666666\"><span class=\"txt_arial_8pt_gray\">\\r\\n        </span></font></TD>\\r\\n    \\r\\n    </TR>\\r\\n    \\r\\n    <TR>\\r\\n    <TD valign=top><font face=\"Verdana, Arial, Helvetica, sans-serif\" size=\"1\" color=\"#666666\"><span class=\"txt_arial_8pt_gray\">\\r\\n        CGF2073</span></font></TD>\\r\\n       \\r\\n       <TD valign=top><font face=\"Verdana, Arial, Helvetica, sans-serif\" size=\"1\" color=\"#666666\"><span class=\"txt_arial_8pt_gray\">\\r\\n           <A HREF=obterDisciplina?sgldis=CGF2073&verdis=7 class=\"link_gray\">Biotecnologia Farmacêutica II</A>\\r\\n       </span></font></TD>\\t   \\r\\n\\t   <TD valign=top><font face=\"Verdana, Arial, Helvetica, sans-serif\" size=\"1\" color=\"#666666\"><span class=\"txt_arial_8pt_gray\">\\r\\n        01/01/2024</span></font></TD>\\r\\n\\t   <TD valign=top><font face=\"Verdana, Arial, Helvetica, sans-serif\" size=\"1\" color=\"#666666\"><span class=\"txt_arial_8pt_gray\">\\r\\n        </span></font></TD>\\r\\n    \\r\\n    </TR>\\r\\n    \\r\\n    <TR>\\r\\n    <TD valign=top><font face=\"Verdana, Arial, Helvetica, sans-serif\" size=\"1\" color=\"#666666\"><span class=\"txt_arial_8pt_gray\">\\r\\n        CGF2057</span></font></TD>\\r\\n       \\r\\n       <TD valign=top><font face=\"Verdana, Arial, Helvetica, sans-serif\" size=\"1\" color=\"#666666\"><span class=\"txt_arial_8pt_gray\">\\r\\n           <A HREF=obterDisciplina?sgldis=CGF2057&verdis=3 class=\"link_gray\">Ciência dos Alimentos e Nutrigenômica</A>\\r\\n       </span></font></TD>\\t   \\r\\n\\t   <TD valign=top><font face=\"Verdana, Arial, Helvetica, sans-serif\" size=\"1\" color=\"#666666\"><span class=\"txt_arial_8pt_gray\">\\r\\n        01/01/2024</span></font></TD>\\r\\n\\t   <TD valign=top><font face=\"Verdana, Arial, Helvetica, sans-serif\" size=\"1\" color=\"#666666\"><span class=\"txt_arial_8pt_gray\">\\r\\n        </span></font></TD>\\r\\n    \\r\\n    </TR>\\r\\n    \\r\\n    <TR>\\r\\n    <TD valign=top><font face=\"Verdana, Arial, Helvetica, sans-serif\" size=\"1\" color=\"#666666\"><span class=\"txt_arial_8pt_gray\">\\r\\n        CGF2013</span></font></TD>\\r\\n       \\r\\n       <TD valign=top><font face=\"Verdana, Arial, Helvetica, sans-serif\" size=\"1\" color=\"#666666\"><span class=\"txt_arial_8pt_gray\">\\r\\n           <A HREF=obterDisciplina?sgldis=CGF2013&verdis=2 class=\"link_gray\">Ciências Básicas</A>\\r\\n       </span></font></TD>\\t   \\r\\n\\t   <TD valign=top><font face=\"Verdana, Arial, Helvetica, sans-serif\" size=\"1\" color=\"#666666\"><span class=\"txt_arial_8pt_gray\">\\r\\n        01/01/2019</span></font></TD>\\r\\n\\t   <TD valign=top><font face=\"Verdana, Arial, Helvetica, sans-serif\" size=\"1\" color=\"#666666\"><span class=\"txt_arial_8pt_gray\">\\r\\n        </span></font></TD>\\r\\n    \\r\\n    </TR>\\r\\n    \\r\\n    <TR>\\r\\n    <TD valign=top><font face=\"Verdana, Arial, Helvetica, sans-serif\" size=\"1\" color=\"#666666\"><span class=\"txt_arial_8pt_gray\">\\r\\n        CGF2016</span></font></TD>\\r\\n       \\r\\n       <TD valign=top><font face=\"Verdana, Arial, Helvetica, sans-serif\" size=\"1\" color=\"#666666\"><span class=\"txt_arial_8pt_gray\">\\r\\n           <A HREF=obterDisciplina?sgldis=CGF2016&verdis=3 class=\"link_gray\">Ciências Físicas e Matemáticas</A>\\r\\n       </span></font></TD>\\t   \\r\\n\\t   <TD valign=top><font face=\"Verdana, Arial, Helvetica, sans-serif\" size=\"1\" color=\"#666666\"><span class=\"txt_arial_8pt_gray\">\\r\\n        01/01/2019</span></font></TD>\\r\\n\\t   <TD valign=top><font face=\"Verdana, Arial, Helvetica, sans-serif\" size=\"1\" color=\"#666666\"><span class=\"txt_arial_8pt_gray\">\\r\\n        </span></font></TD>\\r\\n    \\r\\n    </TR>\\r\\n    \\r\\n    <TR>\\r\\n    <TD valign=top><font face=\"Verdana, Arial, Helvetica, sans-serif\" size=\"1\" color=\"#666666\"><span class=\"txt_arial_8pt_gray\">\\r\\n        CGF2089</span></font></TD>\\r\\n       \\r\\n       <TD valign=top><font face=\"Verdana, Arial, Helvetica, sans-serif\" size=\"1\" color=\"#666666\"><span class=\"txt_arial_8pt_gray\">\\r\\n           <A HREF=obterDisciplina?sgldis=CGF2089&verdis=1 class=\"link_gray\">Cuidado Multidisciplinar para a Segurança do Paciente em Uso de Medicamentos</A>\\r\\n       </span></font></TD>\\t   \\r\\n\\t   <TD valign=top><font face=\"Verdana, Arial, Helvetica, sans-serif\" size=\"1\" color=\"#666666\"><span class=\"txt_arial_8pt_gray\">\\r\\n        01/01/2020</span></font></TD>\\r\\n\\t   <TD valign=top><font face=\"Verdana, Arial, Helvetica, sans-serif\" size=\"1\" color=\"#666666\"><span class=\"txt_arial_8pt_gray\">\\r\\n        </span></font></TD>\\r\\n    \\r\\n    </TR>\\r\\n    \\r\\n    <TR>\\r\\n    <TD valign=top><font face=\"Verdana, Arial, Helvetica, sans-serif\" size=\"1\" color=\"#666666\"><span class=\"txt_arial_8pt_gray\">\\r\\n        CGF2077</span></font></TD>\\r\\n       \\r\\n       <TD valign=top><font face=\"Verdana, Arial, Helvetica, sans-serif\" size=\"1\" color=\"#666666\"><span class=\"txt_arial_8pt_gray\">\\r\\n           <A HREF=obterDisciplina?sgldis=CGF2077&verdis=2 class=\"link_gray\">Desenvolvimento e Produção de Biofármacos</A>\\r\\n       </span></font></TD>\\t   \\r\\n\\t   <TD valign=top><font face=\"Verdana, Arial, Helvetica, sans-serif\" size=\"1\" color=\"#666666\"><span class=\"txt_arial_8pt_gray\">\\r\\n        01/01/2020</span></font></TD>\\r\\n\\t   <TD valign=top><font face=\"Verdana, Arial, Helvetica, sans-serif\" size=\"1\" color=\"#666666\"><span class=\"txt_arial_8pt_gray\">\\r\\n        31/12/2024</span></font></TD>\\r\\n    \\r\\n    </TR>\\r\\n    \\r\\n    <TR>\\r\\n    <TD valign=top><font face=\"Verdana, Arial, Helvetica, sans-serif\" size=\"1\" color=\"#666666\"><span class=\"txt_arial_8pt_gray\">\\r\\n        CGF2032</span></font></TD>\\r\\n       \\r\\n       <TD valign=top><font face=\"Verdana, Arial, Helvetica, sans-serif\" size=\"1\" color=\"#666666\"><span class=\"txt_arial_8pt_gray\">\\r\\n           <A HREF=obterDisciplina?sgldis=CGF2032&verdis=2 class=\"link_gray\">Dinâmica de Grupo</A>\\r\\n       </span></font></TD>\\t   \\r\\n\\t   <TD valign=top><font face=\"Verdana, Arial, Helvetica, sans-serif\" size=\"1\" color=\"#666666\"><span class=\"txt_arial_8pt_gray\">\\r\\n        15/07/2022</span></font></TD>\\r\\n\\t   <TD valign=top><font face=\"Verdana, Arial, Helvetica, sans-serif\" size=\"1\" color=\"#666666\"><span class=\"txt_arial_8pt_gray\">\\r\\n        </span></font></TD>\\r\\n    \\r\\n    </TR>\\r\\n    \\r\\n    <TR>\\r\\n    <TD valign=top><font face=\"Verdana, Arial, Helvetica, sans-serif\" size=\"1\" color=\"#666666\"><span class=\"txt_arial_8pt_gray\">\\r\\n        CGF2095</span></font></TD>\\r\\n       \\r\\n       <TD valign=top><font face=\"Verdana, Arial, Helvetica, sans-serif\" size=\"1\" color=\"#666666\"><span class=\"txt_arial_8pt_gray\">\\r\\n           <A HREF=obterDisciplina?sgldis=CGF2095&verdis=3 class=\"link_gray\">Enzimas aplicadas à Ciências Farmacêuticas</A>\\r\\n       </span></font></TD>\\t   \\r\\n\\t   <TD valign=top><font face=\"Verdana, Arial, Helvetica, sans-serif\" size=\"1\" color=\"#666666\"><span class=\"txt_arial_8pt_gray\">\\r\\n        15/07/2024</span></font></TD>\\r\\n\\t   <TD valign=top><font face=\"Verdana, Arial, Helvetica, sans-serif\" size=\"1\" color=\"#666666\"><span class=\"txt_arial_8pt_gray\">\\r\\n        </span></font></TD>\\r\\n    \\r\\n    </TR>\\r\\n    \\r\\n    <TR>\\r\\n    <TD valign=top><font face=\"Verdana, Arial, Helvetica, sans-serif\" size=\"1\" color=\"#666666\"><span class=\"txt_arial_8pt_gray\">\\r\\n        CGF2096</span></font></TD>\\r\\n       \\r\\n       <TD valign=top><font face=\"Verdana, Arial, Helvetica, sans-serif\" size=\"1\" color=\"#666666\"><span class=\"txt_arial_8pt_gray\">\\r\\n           <A HREF=obterDisciplina?sgldis=CGF2096&verdis=3 class=\"link_gray\">Enzimologia Industrial e suas Aplicações</A>\\r\\n       </span></font></TD>\\t   \\r\\n\\t   <TD valign=top><font face=\"Verdana, Arial, Helvetica, sans-serif\" size=\"1\" color=\"#666666\"><span class=\"txt_arial_8pt_gray\">\\r\\n        15/07/2024</span></font></TD>\\r\\n\\t   <TD valign=top><font face=\"Verdana, Arial, Helvetica, sans-serif\" size=\"1\" color=\"#666666\"><span class=\"txt_arial_8pt_gray\">\\r\\n        </span></font></TD>\\r\\n    \\r\\n    </TR>\\r\\n    \\r\\n    <TR>\\r\\n    <TD valign=top><font face=\"Verdana, Arial, Helvetica, sans-serif\" size=\"1\" color=\"#666666\"><span class=\"txt_arial_8pt_gray\">\\r\\n        CGF2021</span></font></TD>\\r\\n       \\r\\n       <TD valign=top><font face=\"Verdana, Arial, Helvetica, sans-serif\" size=\"1\" color=\"#666666\"><span class=\"txt_arial_8pt_gray\">\\r\\n           <A HREF=obterDisciplina?sgldis=CGF2021&verdis=2 class=\"link_gray\">Epidemiologia</A>\\r\\n       </span></font></TD>\\t   \\r\\n\\t   <TD valign=top><font face=\"Verdana, Arial, Helvetica, sans-serif\" size=\"1\" color=\"#666666\"><span class=\"txt_arial_8pt_gray\">\\r\\n        15/07/2017</span></font></TD>\\r\\n\\t   <TD valign=top><font face=\"Verdana, Arial, Helvetica, sans-serif\" size=\"1\" color=\"#666666\"><span class=\"txt_arial_8pt_gray\">\\r\\n        </span></font></TD>\\r\\n    \\r\\n    </TR>\\r\\n    \\r\\n    <TR>\\r\\n    <TD valign=top><font face=\"Verdana, Arial, Helvetica, sans-serif\" size=\"1\" color=\"#666666\"><span class=\"txt_arial_8pt_gray\">\\r\\n        CGF2008</span></font></TD>\\r\\n       \\r\\n       <TD valign=top><font face=\"Verdana, Arial, Helvetica, sans-serif\" size=\"1\" color=\"#666666\"><span class=\"txt_arial_8pt_gray\">\\r\\n           <A HREF=obterDisciplina?sgldis=CGF2008&verdis=4 class=\"link_gray\">Estágio Curricular</A>\\r\\n       </span></font></TD>\\t   \\r\\n\\t   <TD valign=top><font face=\"Verdana, Arial, Helvetica, sans-serif\" size=\"1\" color=\"#666666\"><span class=\"txt_arial_8pt_gray\">\\r\\n        15/07/2022</span></font></TD>\\r\\n\\t   <TD valign=top><font face=\"Verdana, Arial, Helvetica, sans-serif\" size=\"1\" color=\"#666666\"><span class=\"txt_arial_8pt_gray\">\\r\\n        </span></font></TD>\\r\\n    \\r\\n    </TR>\\r\\n    \\r\\n    <TR>\\r\\n    <TD valign=top><font face=\"Verdana, Arial, Helvetica, sans-serif\" size=\"1\" color=\"#666666\"><span class=\"txt_arial_8pt_gray\">\\r\\n        CGF2080</span></font></TD>\\r\\n       \\r\\n       <TD valign=top><font face=\"Verdana, Arial, Helvetica, sans-serif\" size=\"1\" color=\"#666666\"><span class=\"txt_arial_8pt_gray\">\\r\\n           <A HREF=obterDisciplina?sgldis=CGF2080&verdis=4 class=\"link_gray\">Estágio Curricular</A>\\r\\n       </span></font></TD>\\t   \\r\\n\\t   <TD valign=top><font face=\"Verdana, Arial, Helvetica, sans-serif\" size=\"1\" color=\"#666666\"><span class=\"txt_arial_8pt_gray\">\\r\\n        15/07/2022</span></font></TD>\\r\\n\\t   <TD valign=top><font face=\"Verdana, Arial, Helvetica, sans-serif\" size=\"1\" color=\"#666666\"><span class=\"txt_arial_8pt_gray\">\\r\\n        </span></font></TD>\\r\\n    \\r\\n    </TR>\\r\\n    \\r\\n    <TR>\\r\\n    <TD valign=top><font face=\"Verdana, Arial, Helvetica, sans-serif\" size=\"1\" color=\"#666666\"><span class=\"txt_arial_8pt_gray\">\\r\\n        CGF2086</span></font></TD>\\r\\n       \\r\\n       <TD valign=top><font face=\"Verdana, Arial, Helvetica, sans-serif\" size=\"1\" color=\"#666666\"><span class=\"txt_arial_8pt_gray\">\\r\\n           <A HREF=obterDisciplina?sgldis=CGF2086&verdis=2 class=\"link_gray\">Estágio em Atividades Farmacêuticas I</A>\\r\\n       </span></font></TD>\\t   \\r\\n\\t   <TD valign=top><font face=\"Verdana, Arial, Helvetica, sans-serif\" size=\"1\" color=\"#666666\"><span class=\"txt_arial_8pt_gray\">\\r\\n        15/07/2022</span></font></TD>\\r\\n\\t   <TD valign=top><font face=\"Verdana, Arial, Helvetica, sans-serif\" size=\"1\" color=\"#666666\"><span class=\"txt_arial_8pt_gray\">\\r\\n        </span></font></TD>\\r\\n    \\r\\n    </TR>\\r\\n    \\r\\n    <TR>\\r\\n    <TD valign=top><font face=\"Verdana, Arial, Helvetica, sans-serif\" size=\"1\" color=\"#666666\"><span class=\"txt_arial_8pt_gray\">\\r\\n        CGF2087</span></font></TD>\\r\\n       \\r\\n       <TD valign=top><font face=\"Verdana, Arial, Helvetica, sans-serif\" size=\"1\" color=\"#666666\"><span class=\"txt_arial_8pt_gray\">\\r\\n           <A HREF=obterDisciplina?sgldis=CGF2087&verdis=2 class=\"link_gray\">Estágio em Atividades Farmacêuticas II</A>\\r\\n       </span></font></TD>\\t   \\r\\n\\t   <TD valign=top><font face=\"Verdana, Arial, Helvetica, sans-serif\" size=\"1\" color=\"#666666\"><span class=\"txt_arial_8pt_gray\">\\r\\n        15/07/2022</span></font></TD>\\r\\n\\t   <TD valign=top><font face=\"Verdana, Arial, Helvetica, sans-serif\" size=\"1\" color=\"#666666\"><span class=\"txt_arial_8pt_gray\">\\r\\n        </span></font></TD>\\r\\n    \\r\\n    </TR>\\r\\n    \\r\\n    <TR>\\r\\n    <TD valign=top><font face=\"Verdana, Arial, Helvetica, sans-serif\" size=\"1\" color=\"#666666\"><span class=\"txt_arial_8pt_gray\">\\r\\n        CGF2007</span></font></TD>\\r\\n       \\r\\n       <TD valign=top><font face=\"Verdana, Arial, Helvetica, sans-serif\" size=\"1\" color=\"#666666\"><span class=\"txt_arial_8pt_gray\">\\r\\n           <A HREF=obterDisciplina?sgldis=CGF2007&verdis=3 class=\"link_gray\">Estágio em Atividades Farmacêuticas II</A>\\r\\n       </span></font></TD>\\t   \\r\\n\\t   <TD valign=top><font face=\"Verdana, Arial, Helvetica, sans-serif\" size=\"1\" color=\"#666666\"><span class=\"txt_arial_8pt_gray\">\\r\\n        15/07/2022</span></font></TD>\\r\\n\\t   <TD valign=top><font face=\"Verdana, Arial, Helvetica, sans-serif\" size=\"1\" color=\"#666666\"><span class=\"txt_arial_8pt_gray\">\\r\\n        </span></font></TD>\\r\\n    \\r\\n    </TR>\\r\\n    \\r\\n    <TR>\\r\\n    <TD valign=top><font face=\"Verdana, Arial, Helvetica, sans-serif\" size=\"1\" color=\"#666666\"><span class=\"txt_arial_8pt_gray\">\\r\\n        CGF2105</span></font></TD>\\r\\n       \\r\\n       <TD valign=top><font face=\"Verdana, Arial, Helvetica, sans-serif\" size=\"1\" color=\"#666666\"><span class=\"txt_arial_8pt_gray\">\\r\\n           <A HREF=obterDisciplina?sgldis=CGF2105&verdis=2 class=\"link_gray\">Extenfarma I: amplificando a formação do farmacêutico e criando espaços de interlocução com a sociedade</A>\\r\\n       </span></font></TD>\\t   \\r\\n\\t   <TD valign=top><font face=\"Verdana, Arial, Helvetica, sans-serif\" size=\"1\" color=\"#666666\"><span class=\"txt_arial_8pt_gray\">\\r\\n        15/07/2024</span></font></TD>\\r\\n\\t   <TD valign=top><font face=\"Verdana, Arial, Helvetica, sans-serif\" size=\"1\" color=\"#666666\"><span class=\"txt_arial_8pt_gray\">\\r\\n        </span></font></TD>\\r\\n    \\r\\n    </TR>\\r\\n    \\r\\n    <TR>\\r\\n    <TD valign=top><font face=\"Verdana, Arial, Helvetica, sans-serif\" size=\"1\" color=\"#666666\"><span class=\"txt_arial_8pt_gray\">\\r\\n        CGF2106</span></font></TD>\\r\\n       \\r\\n       <TD valign=top><font face=\"Verdana, Arial, Helvetica, sans-serif\" size=\"1\" color=\"#666666\"><span class=\"txt_arial_8pt_gray\">\\r\\n           <A HREF=obterDisciplina?sgldis=CGF2106&verdis=2 class=\"link_gray\">Extenfarma II: amplificando a formação do farmacêutico e criando espaços de interlocução com a sociedade</A>\\r\\n       </span></font></TD>\\t   \\r\\n\\t   <TD valign=top><font face=\"Verdana, Arial, Helvetica, sans-serif\" size=\"1\" color=\"#666666\"><span class=\"txt_arial_8pt_gray\">\\r\\n        15/07/2024</span></font></TD>\\r\\n\\t   <TD valign=top><font face=\"Verdana, Arial, Helvetica, sans-serif\" size=\"1\" color=\"#666666\"><span class=\"txt_arial_8pt_gray\">\\r\\n        </span></font></TD>\\r\\n    \\r\\n    </TR>\\r\\n    \\r\\n    <TR>\\r\\n    <TD valign=top><font face=\"Verdana, Arial, Helvetica, sans-serif\" size=\"1\" color=\"#666666\"><span class=\"txt_arial_8pt_gray\">\\r\\n        CGF2109</span></font></TD>\\r\\n       \\r\\n       <TD valign=top><font face=\"Verdana, Arial, Helvetica, sans-serif\" size=\"1\" color=\"#666666\"><span class=\"txt_arial_8pt_gray\">\\r\\n           <A HREF=obterDisciplina?sgldis=CGF2109&verdis=2 class=\"link_gray\">Farmácia Clínica e Cuidado Farmacêutico</A>\\r\\n       </span></font></TD>\\t   \\r\\n\\t   <TD valign=top><font face=\"Verdana, Arial, Helvetica, sans-serif\" size=\"1\" color=\"#666666\"><span class=\"txt_arial_8pt_gray\">\\r\\n        15/07/2024</span></font></TD>\\r\\n\\t   <TD valign=top><font face=\"Verdana, Arial, Helvetica, sans-serif\" size=\"1\" color=\"#666666\"><span class=\"txt_arial_8pt_gray\">\\r\\n        </span></font></TD>\\r\\n    \\r\\n    </TR>\\r\\n    \\r\\n    <TR>\\r\\n    <TD valign=top><font face=\"Verdana, Arial, Helvetica, sans-serif\" size=\"1\" color=\"#666666\"><span class=\"txt_arial_8pt_gray\">\\r\\n        CGF2065</span></font></TD>\\r\\n       \\r\\n       <TD valign=top><font face=\"Verdana, Arial, Helvetica, sans-serif\" size=\"1\" color=\"#666666\"><span class=\"txt_arial_8pt_gray\">\\r\\n           <A HREF=obterDisciplina?sgldis=CGF2065&verdis=2 class=\"link_gray\">Farmácia Clínica e Cuidado Farmacêutico I</A>\\r\\n       </span></font></TD>\\t   \\r\\n\\t   <TD valign=top><font face=\"Verdana, Arial, Helvetica, sans-serif\" size=\"1\" color=\"#666666\"><span class=\"txt_arial_8pt_gray\">\\r\\n        15/07/2020</span></font></TD>\\r\\n\\t   <TD valign=top><font face=\"Verdana, Arial, Helvetica, sans-serif\" size=\"1\" color=\"#666666\"><span class=\"txt_arial_8pt_gray\">\\r\\n        </span></font></TD>\\r\\n    \\r\\n    </TR>\\r\\n    \\r\\n    <TR>\\r\\n    <TD valign=top><font face=\"Verdana, Arial, Helvetica, sans-serif\" size=\"1\" color=\"#666666\"><span class=\"txt_arial_8pt_gray\">\\r\\n        CGF2074</span></font></TD>\\r\\n       \\r\\n       <TD valign=top><font face=\"Verdana, Arial, Helvetica, sans-serif\" size=\"1\" color=\"#666666\"><span class=\"txt_arial_8pt_gray\">\\r\\n           <A HREF=obterDisciplina?sgldis=CGF2074&verdis=2 class=\"link_gray\">Farmácia Clínica e Cuidado Farmacêutico II</A>\\r\\n       </span></font></TD>\\t   \\r\\n\\t   <TD valign=top><font face=\"Verdana, Arial, Helvetica, sans-serif\" size=\"1\" color=\"#666666\"><span class=\"txt_arial_8pt_gray\">\\r\\n        15/07/2020</span></font></TD>\\r\\n\\t   <TD valign=top><font face=\"Verdana, Arial, Helvetica, sans-serif\" size=\"1\" color=\"#666666\"><span class=\"txt_arial_8pt_gray\">\\r\\n        </span></font></TD>\\r\\n    \\r\\n    </TR>\\r\\n    \\r\\n    <TR>\\r\\n    <TD valign=top><font face=\"Verdana, Arial, Helvetica, sans-serif\" size=\"1\" color=\"#666666\"><span class=\"txt_arial_8pt_gray\">\\r\\n        CGF2019</span></font></TD>\\r\\n       \\r\\n       <TD valign=top><font face=\"Verdana, Arial, Helvetica, sans-serif\" size=\"1\" color=\"#666666\"><span class=\"txt_arial_8pt_gray\">\\r\\n           <A HREF=obterDisciplina?sgldis=CGF2019&verdis=3 class=\"link_gray\">Farmácia e as Políticas de Saúde e de Medicamentos</A>\\r\\n       </span></font></TD>\\t   \\r\\n\\t   <TD valign=top><font face=\"Verdana, Arial, Helvetica, sans-serif\" size=\"1\" color=\"#666666\"><span class=\"txt_arial_8pt_gray\">\\r\\n        15/07/2018</span></font></TD>\\r\\n\\t   <TD valign=top><font face=\"Verdana, Arial, Helvetica, sans-serif\" size=\"1\" color=\"#666666\"><span class=\"txt_arial_8pt_gray\">\\r\\n        </span></font></TD>\\r\\n    \\r\\n    </TR>\\r\\n    \\r\\n    <TR>\\r\\n    <TD valign=top><font face=\"Verdana, Arial, Helvetica, sans-serif\" size=\"1\" color=\"#666666\"><span class=\"txt_arial_8pt_gray\">\\r\\n        CGF2056</span></font></TD>\\r\\n       \\r\\n       <TD valign=top><font face=\"Verdana, Arial, Helvetica, sans-serif\" size=\"1\" color=\"#666666\"><span class=\"txt_arial_8pt_gray\">\\r\\n           <A HREF=obterDisciplina?sgldis=CGF2056&verdis=2 class=\"link_gray\">Farmácia Homeopática</A>\\r\\n       </span></font></TD>\\t   \\r\\n\\t   <TD valign=top><font face=\"Verdana, Arial, Helvetica, sans-serif\" size=\"1\" color=\"#666666\"><span class=\"txt_arial_8pt_gray\">\\r\\n        01/01/2020</span></font></TD>\\r\\n\\t   <TD valign=top><font face=\"Verdana, Arial, Helvetica, sans-serif\" size=\"1\" color=\"#666666\"><span class=\"txt_arial_8pt_gray\">\\r\\n        </span></font></TD>\\r\\n    \\r\\n    </TR>\\r\\n    \\r\\n    <TR>\\r\\n    <TD valign=top><font face=\"Verdana, Arial, Helvetica, sans-serif\" size=\"1\" color=\"#666666\"><span class=\"txt_arial_8pt_gray\">\\r\\n        CGF2015</span></font></TD>\\r\\n       \\r\\n       <TD valign=top><font face=\"Verdana, Arial, Helvetica, sans-serif\" size=\"1\" color=\"#666666\"><span class=\"txt_arial_8pt_gray\">\\r\\n           <A HREF=obterDisciplina?sgldis=CGF2015&verdis=1 class=\"link_gray\">Farmácia, Saúde e a Sociedade</A>\\r\\n       </span></font></TD>\\t   \\r\\n\\t   <TD valign=top><font face=\"Verdana, Arial, Helvetica, sans-serif\" size=\"1\" color=\"#666666\"><span class=\"txt_arial_8pt_gray\">\\r\\n        01/01/2017</span></font></TD>\\r\\n\\t   <TD valign=top><font face=\"Verdana, Arial, Helvetica, sans-serif\" size=\"1\" color=\"#666666\"><span class=\"txt_arial_8pt_gray\">\\r\\n        </span></font></TD>\\r\\n    \\r\\n    </TR>\\r\\n    \\r\\n    <TR>\\r\\n    <TD valign=top><font face=\"Verdana, Arial, Helvetica, sans-serif\" size=\"1\" color=\"#666666\"><span class=\"txt_arial_8pt_gray\">\\r\\n        CGF2072</span></font></TD>\\r\\n       \\r\\n       <TD valign=top><font face=\"Verdana, Arial, Helvetica, sans-serif\" size=\"1\" color=\"#666666\"><span class=\"txt_arial_8pt_gray\">\\r\\n           <A HREF=obterDisciplina?sgldis=CGF2072&verdis=3 class=\"link_gray\">Farmacognosia</A>\\r\\n       </span></font></TD>\\t   \\r\\n\\t   <TD valign=top><font face=\"Verdana, Arial, Helvetica, sans-serif\" size=\"1\" color=\"#666666\"><span class=\"txt_arial_8pt_gray\">\\r\\n        01/01/2021</span></font></TD>\\r\\n\\t   <TD valign=top><font face=\"Verdana, Arial, Helvetica, sans-serif\" size=\"1\" color=\"#666666\"><span class=\"txt_arial_8pt_gray\">\\r\\n        </span></font></TD>\\r\\n    \\r\\n    </TR>\\r\\n    \\r\\n    <TR>\\r\\n    <TD valign=top><font face=\"Verdana, Arial, Helvetica, sans-serif\" size=\"1\" color=\"#666666\"><span class=\"txt_arial_8pt_gray\">\\r\\n        CGF2029</span></font></TD>\\r\\n       \\r\\n       <TD valign=top><font face=\"Verdana, Arial, Helvetica, sans-serif\" size=\"1\" color=\"#666666\"><span class=\"txt_arial_8pt_gray\">\\r\\n           <A HREF=obterDisciplina?sgldis=CGF2029&verdis=2 class=\"link_gray\">Farmacotécnica, Tecnologia de Medicamentos e Cosméticos I</A>\\r\\n       </span></font></TD>\\t   \\r\\n\\t   <TD valign=top><font face=\"Verdana, Arial, Helvetica, sans-serif\" size=\"1\" color=\"#666666\"><span class=\"txt_arial_8pt_gray\">\\r\\n        15/07/2019</span></font></TD>\\r\\n\\t   <TD valign=top><font face=\"Verdana, Arial, Helvetica, sans-serif\" size=\"1\" color=\"#666666\"><span class=\"txt_arial_8pt_gray\">\\r\\n        </span></font></TD>\\r\\n    \\r\\n    </TR>\\r\\n    \\r\\n    <TR>\\r\\n    <TD valign=top><font face=\"Verdana, Arial, Helvetica, sans-serif\" size=\"1\" color=\"#666666\"><span class=\"txt_arial_8pt_gray\">\\r\\n        CGF2039</span></font></TD>\\r\\n       \\r\\n       <TD valign=top><font face=\"Verdana, Arial, Helvetica, sans-serif\" size=\"1\" color=\"#666666\"><span class=\"txt_arial_8pt_gray\">\\r\\n           <A HREF=obterDisciplina?sgldis=CGF2039&verdis=2 class=\"link_gray\">Farmacotécnica, Tecnologia de Medicamentos e Cosméticos II</A>\\r\\n       </span></font></TD>\\t   \\r\\n\\t   <TD valign=top><font face=\"Verdana, Arial, Helvetica, sans-serif\" size=\"1\" color=\"#666666\"><span class=\"txt_arial_8pt_gray\">\\r\\n        15/07/2019</span></font></TD>\\r\\n\\t   <TD valign=top><font face=\"Verdana, Arial, Helvetica, sans-serif\" size=\"1\" color=\"#666666\"><span class=\"txt_arial_8pt_gray\">\\r\\n        </span></font></TD>\\r\\n    \\r\\n    </TR>\\r\\n    \\r\\n    <TR>\\r\\n    <TD valign=top><font face=\"Verdana, Arial, Helvetica, sans-serif\" size=\"1\" color=\"#666666\"><span class=\"txt_arial_8pt_gray\">\\r\\n        CGF2047</span></font></TD>\\r\\n       \\r\\n       <TD valign=top><font face=\"Verdana, Arial, Helvetica, sans-serif\" size=\"1\" color=\"#666666\"><span class=\"txt_arial_8pt_gray\">\\r\\n           <A HREF=obterDisciplina?sgldis=CGF2047&verdis=3 class=\"link_gray\">Farmacotécnica, Tecnologia de Medicamentos e Cosméticos III</A>\\r\\n       </span></font></TD>\\t   \\r\\n\\t   <TD valign=top><font face=\"Verdana, Arial, Helvetica, sans-serif\" size=\"1\" color=\"#666666\"><span class=\"txt_arial_8pt_gray\">\\r\\n        01/01/2020</span></font></TD>\\r\\n\\t   <TD valign=top><font face=\"Verdana, Arial, Helvetica, sans-serif\" size=\"1\" color=\"#666666\"><span class=\"txt_arial_8pt_gray\">\\r\\n        </span></font></TD>\\r\\n    \\r\\n    </TR>\\r\\n    \\r\\n    <TR>\\r\\n    <TD valign=top><font face=\"Verdana, Arial, Helvetica, sans-serif\" size=\"1\" color=\"#666666\"><span class=\"txt_arial_8pt_gray\">\\r\\n        CGF2053</span></font></TD>\\r\\n       \\r\\n       <TD valign=top><font face=\"Verdana, Arial, Helvetica, sans-serif\" size=\"1\" color=\"#666666\"><span class=\"txt_arial_8pt_gray\">\\r\\n           <A HREF=obterDisciplina?sgldis=CGF2053&verdis=3 class=\"link_gray\">Farmacotécnica, Tecnologia de Medicamentos e Cosméticos IV</A>\\r\\n       </span></font></TD>\\t   \\r\\n\\t   <TD valign=top><font face=\"Verdana, Arial, Helvetica, sans-serif\" size=\"1\" color=\"#666666\"><span class=\"txt_arial_8pt_gray\">\\r\\n        01/01/2021</span></font></TD>\\r\\n\\t   <TD valign=top><font face=\"Verdana, Arial, Helvetica, sans-serif\" size=\"1\" color=\"#666666\"><span class=\"txt_arial_8pt_gray\">\\r\\n        </span></font></TD>\\r\\n    \\r\\n    </TR>\\r\\n    \\r\\n    <TR>\\r\\n    <TD valign=top><font face=\"Verdana, Arial, Helvetica, sans-serif\" size=\"1\" color=\"#666666\"><span class=\"txt_arial_8pt_gray\">\\r\\n        CGF2062</span></font></TD>\\r\\n       \\r\\n       <TD valign=top><font face=\"Verdana, Arial, Helvetica, sans-serif\" size=\"1\" color=\"#666666\"><span class=\"txt_arial_8pt_gray\">\\r\\n           <A HREF=obterDisciplina?sgldis=CGF2062&verdis=2 class=\"link_gray\">Farmacotécnica, Tecnologia de Medicamentos e Cosméticos V</A>\\r\\n       </span></font></TD>\\t   \\r\\n\\t   <TD valign=top><font face=\"Verdana, Arial, Helvetica, sans-serif\" size=\"1\" color=\"#666666\"><span class=\"txt_arial_8pt_gray\">\\r\\n        15/07/2019</span></font></TD>\\r\\n\\t   <TD valign=top><font face=\"Verdana, Arial, Helvetica, sans-serif\" size=\"1\" color=\"#666666\"><span class=\"txt_arial_8pt_gray\">\\r\\n        </span></font></TD>\\r\\n    \\r\\n    </TR>\\r\\n    \\r\\n    <TR>\\r\\n    <TD valign=top><font face=\"Verdana, Arial, Helvetica, sans-serif\" size=\"1\" color=\"#666666\"><span class=\"txt_arial_8pt_gray\">\\r\\n        CGF2094</span></font></TD>\\r\\n       \\r\\n       <TD valign=top><font face=\"Verdana, Arial, Helvetica, sans-serif\" size=\"1\" color=\"#666666\"><span class=\"txt_arial_8pt_gray\">\\r\\n           <A HREF=obterDisciplina?sgldis=CGF2094&verdis=2 class=\"link_gray\">Ferramentas e conceitos empregados nos processos industriais farmacêuticos e biotecnológicos</A>\\r\\n       </span></font></TD>\\t   \\r\\n\\t   <TD valign=top><font face=\"Verdana, Arial, Helvetica, sans-serif\" size=\"1\" color=\"#666666\"><span class=\"txt_arial_8pt_gray\">\\r\\n        15/07/2023</span></font></TD>\\r\\n\\t   <TD valign=top><font face=\"Verdana, Arial, Helvetica, sans-serif\" size=\"1\" color=\"#666666\"><span class=\"txt_arial_8pt_gray\">\\r\\n        </span></font></TD>\\r\\n    \\r\\n    </TR>\\r\\n    \\r\\n    <TR>\\r\\n    <TD valign=top><font face=\"Verdana, Arial, Helvetica, sans-serif\" size=\"1\" color=\"#666666\"><span class=\"txt_arial_8pt_gray\">\\r\\n        CGF2024</span></font></TD>\\r\\n       \\r\\n       <TD valign=top><font face=\"Verdana, Arial, Helvetica, sans-serif\" size=\"1\" color=\"#666666\"><span class=\"txt_arial_8pt_gray\">\\r\\n           <A HREF=obterDisciplina?sgldis=CGF2024&verdis=2 class=\"link_gray\">Fisico-química</A>\\r\\n       </span></font></TD>\\t   \\r\\n\\t   <TD valign=top><font face=\"Verdana, Arial, Helvetica, sans-serif\" size=\"1\" color=\"#666666\"><span class=\"txt_arial_8pt_gray\">\\r\\n        01/01/2019</span></font></TD>\\r\\n\\t   <TD valign=top><font face=\"Verdana, Arial, Helvetica, sans-serif\" size=\"1\" color=\"#666666\"><span class=\"txt_arial_8pt_gray\">\\r\\n        </span></font></TD>\\r\\n    \\r\\n    </TR>\\r\\n    \\r\\n    <TR>\\r\\n    <TD valign=top><font face=\"Verdana, Arial, Helvetica, sans-serif\" size=\"1\" color=\"#666666\"><span class=\"txt_arial_8pt_gray\">\\r\\n        CGF2045</span></font></TD>\\r\\n       \\r\\n       <TD valign=top><font face=\"Verdana, Arial, Helvetica, sans-serif\" size=\"1\" color=\"#666666\"><span class=\"txt_arial_8pt_gray\">\\r\\n           <A HREF=obterDisciplina?sgldis=CGF2045&verdis=3 class=\"link_gray\">Fisiopatologia, Farmacologia e Química Farmacêutica I</A>\\r\\n       </span></font></TD>\\t   \\r\\n\\t   <TD valign=top><font face=\"Verdana, Arial, Helvetica, sans-serif\" size=\"1\" color=\"#666666\"><span class=\"txt_arial_8pt_gray\">\\r\\n        01/01/2024</span></font></TD>\\r\\n\\t   <TD valign=top><font face=\"Verdana, Arial, Helvetica, sans-serif\" size=\"1\" color=\"#666666\"><span class=\"txt_arial_8pt_gray\">\\r\\n        </span></font></TD>\\r\\n    \\r\\n    </TR>\\r\\n    \\r\\n    <TR>\\r\\n    <TD valign=top><font face=\"Verdana, Arial, Helvetica, sans-serif\" size=\"1\" color=\"#666666\"><span class=\"txt_arial_8pt_gray\">\\r\\n        CGF2052</span></font></TD>\\r\\n       \\r\\n       <TD valign=top><font face=\"Verdana, Arial, Helvetica, sans-serif\" size=\"1\" color=\"#666666\"><span class=\"txt_arial_8pt_gray\">\\r\\n           <A HREF=obterDisciplina?sgldis=CGF2052&verdis=3 class=\"link_gray\">Fisiopatologia, Farmacologia e Química Farmacêutica II</A>\\r\\n       </span></font></TD>\\t   \\r\\n\\t   <TD valign=top><font face=\"Verdana, Arial, Helvetica, sans-serif\" size=\"1\" color=\"#666666\"><span class=\"txt_arial_8pt_gray\">\\r\\n        01/01/2024</span></font></TD>\\r\\n\\t   <TD valign=top><font face=\"Verdana, Arial, Helvetica, sans-serif\" size=\"1\" color=\"#666666\"><span class=\"txt_arial_8pt_gray\">\\r\\n        </span></font></TD>\\r\\n    \\r\\n    </TR>\\r\\n    \\r\\n    <TR>\\r\\n    <TD valign=top><font face=\"Verdana, Arial, Helvetica, sans-serif\" size=\"1\" color=\"#666666\"><span class=\"txt_arial_8pt_gray\">\\r\\n        CGF2061</span></font></TD>\\r\\n       \\r\\n       <TD valign=top><font face=\"Verdana, Arial, Helvetica, sans-serif\" size=\"1\" color=\"#666666\"><span class=\"txt_arial_8pt_gray\">\\r\\n           <A HREF=obterDisciplina?sgldis=CGF2061&verdis=3 class=\"link_gray\">Fisiopatologia, Farmacologia e Química Farmacêutica III</A>\\r\\n       </span></font></TD>\\t   \\r\\n\\t   <TD valign=top><font face=\"Verdana, Arial, Helvetica, sans-serif\" size=\"1\" color=\"#666666\"><span class=\"txt_arial_8pt_gray\">\\r\\n        01/01/2022</span></font></TD>\\r\\n\\t   <TD valign=top><font face=\"Verdana, Arial, Helvetica, sans-serif\" size=\"1\" color=\"#666666\"><span class=\"txt_arial_8pt_gray\">\\r\\n        </span></font></TD>\\r\\n    \\r\\n    </TR>\\r\\n    \\r\\n    <TR>\\r\\n    <TD valign=top><font face=\"Verdana, Arial, Helvetica, sans-serif\" size=\"1\" color=\"#666666\"><span class=\"txt_arial_8pt_gray\">\\r\\n        CGF2041</span></font></TD>\\r\\n       \\r\\n       <TD valign=top><font face=\"Verdana, Arial, Helvetica, sans-serif\" size=\"1\" color=\"#666666\"><span class=\"txt_arial_8pt_gray\">\\r\\n           <A HREF=obterDisciplina?sgldis=CGF2041&verdis=2 class=\"link_gray\">Genética</A>\\r\\n       </span></font></TD>\\t   \\r\\n\\t   <TD valign=top><font face=\"Verdana, Arial, Helvetica, sans-serif\" size=\"1\" color=\"#666666\"><span class=\"txt_arial_8pt_gray\">\\r\\n        01/01/2019</span></font></TD>\\r\\n\\t   <TD valign=top><font face=\"Verdana, Arial, Helvetica, sans-serif\" size=\"1\" color=\"#666666\"><span class=\"txt_arial_8pt_gray\">\\r\\n        </span></font></TD>\\r\\n    \\r\\n    </TR>\\r\\n    \\r\\n    <TR>\\r\\n    <TD valign=top><font face=\"Verdana, Arial, Helvetica, sans-serif\" size=\"1\" color=\"#666666\"><span class=\"txt_arial_8pt_gray\">\\r\\n        CGF2069</span></font></TD>\\r\\n       \\r\\n       <TD valign=top><font face=\"Verdana, Arial, Helvetica, sans-serif\" size=\"1\" color=\"#666666\"><span class=\"txt_arial_8pt_gray\">\\r\\n           <A HREF=obterDisciplina?sgldis=CGF2069&verdis=2 class=\"link_gray\">Gestão da Inovação e Empreendedorismo</A>\\r\\n       </span></font></TD>\\t   \\r\\n\\t   <TD valign=top><font face=\"Verdana, Arial, Helvetica, sans-serif\" size=\"1\" color=\"#666666\"><span class=\"txt_arial_8pt_gray\">\\r\\n        15/07/2020</span></font></TD>\\r\\n\\t   <TD valign=top><font face=\"Verdana, Arial, Helvetica, sans-serif\" size=\"1\" color=\"#666666\"><span class=\"txt_arial_8pt_gray\">\\r\\n        </span></font></TD>\\r\\n    \\r\\n    </TR>\\r\\n    \\r\\n    <TR>\\r\\n    <TD valign=top><font face=\"Verdana, Arial, Helvetica, sans-serif\" size=\"1\" color=\"#666666\"><span class=\"txt_arial_8pt_gray\">\\r\\n        CGF2018</span></font></TD>\\r\\n       \\r\\n       <TD valign=top><font face=\"Verdana, Arial, Helvetica, sans-serif\" size=\"1\" color=\"#666666\"><span class=\"txt_arial_8pt_gray\">\\r\\n           <A HREF=obterDisciplina?sgldis=CGF2018&verdis=2 class=\"link_gray\">Gestão I</A>\\r\\n       </span></font></TD>\\t   \\r\\n\\t   <TD valign=top><font face=\"Verdana, Arial, Helvetica, sans-serif\" size=\"1\" color=\"#666666\"><span class=\"txt_arial_8pt_gray\">\\r\\n        15/07/2020</span></font></TD>\\r\\n\\t   <TD valign=top><font face=\"Verdana, Arial, Helvetica, sans-serif\" size=\"1\" color=\"#666666\"><span class=\"txt_arial_8pt_gray\">\\r\\n        </span></font></TD>\\r\\n    \\r\\n    </TR>\\r\\n    \\r\\n    <TR>\\r\\n    <TD valign=top><font face=\"Verdana, Arial, Helvetica, sans-serif\" size=\"1\" color=\"#666666\"><span class=\"txt_arial_8pt_gray\">\\r\\n        CGF2030</span></font></TD>\\r\\n       \\r\\n       <TD valign=top><font face=\"Verdana, Arial, Helvetica, sans-serif\" size=\"1\" color=\"#666666\"><span class=\"txt_arial_8pt_gray\">\\r\\n           <A HREF=obterDisciplina?sgldis=CGF2030&verdis=2 class=\"link_gray\">Gestão II</A>\\r\\n       </span></font></TD>\\t   \\r\\n\\t   <TD valign=top><font face=\"Verdana, Arial, Helvetica, sans-serif\" size=\"1\" color=\"#666666\"><span class=\"txt_arial_8pt_gray\">\\r\\n        15/07/2020</span></font></TD>\\r\\n\\t   <TD valign=top><font face=\"Verdana, Arial, Helvetica, sans-serif\" size=\"1\" color=\"#666666\"><span class=\"txt_arial_8pt_gray\">\\r\\n        </span></font></TD>\\r\\n    \\r\\n    </TR>\\r\\n    \\r\\n    <TR>\\r\\n    <TD valign=top><font face=\"Verdana, Arial, Helvetica, sans-serif\" size=\"1\" color=\"#666666\"><span class=\"txt_arial_8pt_gray\">\\r\\n        CGF2104</span></font></TD>\\r\\n       \\r\\n       <TD valign=top><font face=\"Verdana, Arial, Helvetica, sans-serif\" size=\"1\" color=\"#666666\"><span class=\"txt_arial_8pt_gray\">\\r\\n           <A HREF=obterDisciplina?sgldis=CGF2104&verdis=2 class=\"link_gray\">Habilitação de Laboratórios Analíticos em Saúde para Estudos de Controle de Qualidade, Ensaios de Equivalência Farmacêutica e Bioequivalência</A>\\r\\n       </span></font></TD>\\t   \\r\\n\\t   <TD valign=top><font face=\"Verdana, Arial, Helvetica, sans-serif\" size=\"1\" color=\"#666666\"><span class=\"txt_arial_8pt_gray\">\\r\\n        15/07/2024</span></font></TD>\\r\\n\\t   <TD valign=top><font face=\"Verdana, Arial, Helvetica, sans-serif\" size=\"1\" color=\"#666666\"><span class=\"txt_arial_8pt_gray\">\\r\\n        </span></font></TD>\\r\\n    \\r\\n    </TR>\\r\\n    \\r\\n    <TR>\\r\\n    <TD valign=top><font face=\"Verdana, Arial, Helvetica, sans-serif\" size=\"1\" color=\"#666666\"><span class=\"txt_arial_8pt_gray\">\\r\\n        CGF2038</span></font></TD>\\r\\n       \\r\\n       <TD valign=top><font face=\"Verdana, Arial, Helvetica, sans-serif\" size=\"1\" color=\"#666666\"><span class=\"txt_arial_8pt_gray\">\\r\\n           <A HREF=obterDisciplina?sgldis=CGF2038&verdis=2 class=\"link_gray\">Imunologia</A>\\r\\n       </span></font></TD>\\t   \\r\\n\\t   <TD valign=top><font face=\"Verdana, Arial, Helvetica, sans-serif\" size=\"1\" color=\"#666666\"><span class=\"txt_arial_8pt_gray\">\\r\\n        01/01/2024</span></font></TD>\\r\\n\\t   <TD valign=top><font face=\"Verdana, Arial, Helvetica, sans-serif\" size=\"1\" color=\"#666666\"><span class=\"txt_arial_8pt_gray\">\\r\\n        </span></font></TD>\\r\\n    \\r\\n    </TR>\\r\\n    \\r\\n    <TR>\\r\\n    <TD valign=top><font face=\"Verdana, Arial, Helvetica, sans-serif\" size=\"1\" color=\"#666666\"><span class=\"txt_arial_8pt_gray\">\\r\\n        CGF2084</span></font></TD>\\r\\n       \\r\\n       <TD valign=top><font face=\"Verdana, Arial, Helvetica, sans-serif\" size=\"1\" color=\"#666666\"><span class=\"txt_arial_8pt_gray\">\\r\\n           <A HREF=obterDisciplina?sgldis=CGF2084&verdis=2 class=\"link_gray\">Iniciação à Pesquisa</A>\\r\\n       </span></font></TD>\\t   \\r\\n\\t   <TD valign=top><font face=\"Verdana, Arial, Helvetica, sans-serif\" size=\"1\" color=\"#666666\"><span class=\"txt_arial_8pt_gray\">\\r\\n        15/07/2022</span></font></TD>\\r\\n\\t   <TD valign=top><font face=\"Verdana, Arial, Helvetica, sans-serif\" size=\"1\" color=\"#666666\"><span class=\"txt_arial_8pt_gray\">\\r\\n        </span></font></TD>\\r\\n    \\r\\n    </TR>\\r\\n    \\r\\n    <TR>\\r\\n    <TD valign=top><font face=\"Verdana, Arial, Helvetica, sans-serif\" size=\"1\" color=\"#666666\"><span class=\"txt_arial_8pt_gray\">\\r\\n        CGF2003</span></font></TD>\\r\\n       \\r\\n       <TD valign=top><font face=\"Verdana, Arial, Helvetica, sans-serif\" size=\"1\" color=\"#666666\"><span class=\"txt_arial_8pt_gray\">\\r\\n           <A HREF=obterDisciplina?sgldis=CGF2003&verdis=3 class=\"link_gray\">Iniciação à Pesquisa</A>\\r\\n       </span></font></TD>\\t   \\r\\n\\t   <TD valign=top><font face=\"Verdana, Arial, Helvetica, sans-serif\" size=\"1\" color=\"#666666\"><span class=\"txt_arial_8pt_gray\">\\r\\n        15/07/2022</span></font></TD>\\r\\n\\t   <TD valign=top><font face=\"Verdana, Arial, Helvetica, sans-serif\" size=\"1\" color=\"#666666\"><span class=\"txt_arial_8pt_gray\">\\r\\n        </span></font></TD>\\r\\n    \\r\\n    </TR>\\r\\n    \\r\\n    <TR>\\r\\n    <TD valign=top><font face=\"Verdana, Arial, Helvetica, sans-serif\" size=\"1\" color=\"#666666\"><span class=\"txt_arial_8pt_gray\">\\r\\n        CGF2099</span></font></TD>\\r\\n       \\r\\n       <TD valign=top><font face=\"Verdana, Arial, Helvetica, sans-serif\" size=\"1\" color=\"#666666\"><span class=\"txt_arial_8pt_gray\">\\r\\n           <A HREF=obterDisciplina?sgldis=CGF2099&verdis=1 class=\"link_gray\">Leitura e Produção de Textos Acadêmicos</A>\\r\\n       </span></font></TD>\\t   \\r\\n\\t   <TD valign=top><font face=\"Verdana, Arial, Helvetica, sans-serif\" size=\"1\" color=\"#666666\"><span class=\"txt_arial_8pt_gray\">\\r\\n        15/07/2022</span></font></TD>\\r\\n\\t   <TD valign=top><font face=\"Verdana, Arial, Helvetica, sans-serif\" size=\"1\" color=\"#666666\"><span class=\"txt_arial_8pt_gray\">\\r\\n        </span></font></TD>\\r\\n    \\r\\n    </TR>\\r\\n    \\r\\n    <TR>\\r\\n    <TD valign=top><font face=\"Verdana, Arial, Helvetica, sans-serif\" size=\"1\" color=\"#666666\"><span class=\"txt_arial_8pt_gray\">\\r\\n        CGF2035</span></font></TD>\\r\\n       \\r\\n       <TD valign=top><font face=\"Verdana, Arial, Helvetica, sans-serif\" size=\"1\" color=\"#666666\"><span class=\"txt_arial_8pt_gray\">\\r\\n           <A HREF=obterDisciplina?sgldis=CGF2035&verdis=2 class=\"link_gray\">Metabolismo Humano</A>\\r\\n       </span></font></TD>\\t   \\r\\n\\t   <TD valign=top><font face=\"Verdana, Arial, Helvetica, sans-serif\" size=\"1\" color=\"#666666\"><span class=\"txt_arial_8pt_gray\">\\r\\n        15/07/2024</span></font></TD>\\r\\n\\t   <TD valign=top><font face=\"Verdana, Arial, Helvetica, sans-serif\" size=\"1\" color=\"#666666\"><span class=\"txt_arial_8pt_gray\">\\r\\n        </span></font></TD>\\r\\n    \\r\\n    </TR>\\r\\n    \\r\\n    <TR>\\r\\n    <TD valign=top><font face=\"Verdana, Arial, Helvetica, sans-serif\" size=\"1\" color=\"#666666\"><span class=\"txt_arial_8pt_gray\">\\r\\n        CGF2014</span></font></TD>\\r\\n       \\r\\n       <TD valign=top><font face=\"Verdana, Arial, Helvetica, sans-serif\" size=\"1\" color=\"#666666\"><span class=\"txt_arial_8pt_gray\">\\r\\n           <A HREF=obterDisciplina?sgldis=CGF2014&verdis=1 class=\"link_gray\">Morfologia do Corpo Humano</A>\\r\\n       </span></font></TD>\\t   \\r\\n\\t   <TD valign=top><font face=\"Verdana, Arial, Helvetica, sans-serif\" size=\"1\" color=\"#666666\"><span class=\"txt_arial_8pt_gray\">\\r\\n        01/01/2017</span></font></TD>\\r\\n\\t   <TD valign=top><font face=\"Verdana, Arial, Helvetica, sans-serif\" size=\"1\" color=\"#666666\"><span class=\"txt_arial_8pt_gray\">\\r\\n        </span></font></TD>\\r\\n    \\r\\n    </TR>\\r\\n    \\r\\n    <TR>\\r\\n    <TD valign=top><font face=\"Verdana, Arial, Helvetica, sans-serif\" size=\"1\" color=\"#666666\"><span class=\"txt_arial_8pt_gray\">\\r\\n        CGF2002</span></font></TD>\\r\\n       \\r\\n       <TD valign=top><font face=\"Verdana, Arial, Helvetica, sans-serif\" size=\"1\" color=\"#666666\"><span class=\"txt_arial_8pt_gray\">\\r\\n           <A HREF=obterDisciplina?sgldis=CGF2002&verdis=2 class=\"link_gray\">Noções de Psicologia Aplicadas ao Ensino Farmacêutico</A>\\r\\n       </span></font></TD>\\t   \\r\\n\\t   <TD valign=top><font face=\"Verdana, Arial, Helvetica, sans-serif\" size=\"1\" color=\"#666666\"><span class=\"txt_arial_8pt_gray\">\\r\\n        01/01/2007</span></font></TD>\\r\\n\\t   <TD valign=top><font face=\"Verdana, Arial, Helvetica, sans-serif\" size=\"1\" color=\"#666666\"><span class=\"txt_arial_8pt_gray\">\\r\\n        </span></font></TD>\\r\\n    \\r\\n    </TR>\\r\\n    \\r\\n    <TR>\\r\\n    <TD valign=top><font face=\"Verdana, Arial, Helvetica, sans-serif\" size=\"1\" color=\"#666666\"><span class=\"txt_arial_8pt_gray\">\\r\\n        CGF2050</span></font></TD>\\r\\n       \\r\\n       <TD valign=top><font face=\"Verdana, Arial, Helvetica, sans-serif\" size=\"1\" color=\"#666666\"><span class=\"txt_arial_8pt_gray\">\\r\\n           <A HREF=obterDisciplina?sgldis=CGF2050&verdis=3 class=\"link_gray\">Planejamento e Desenvolvimento de Fármacos I</A>\\r\\n       </span></font></TD>\\t   \\r\\n\\t   <TD valign=top><font face=\"Verdana, Arial, Helvetica, sans-serif\" size=\"1\" color=\"#666666\"><span class=\"txt_arial_8pt_gray\">\\r\\n        15/07/2023</span></font></TD>\\r\\n\\t   <TD valign=top><font face=\"Verdana, Arial, Helvetica, sans-serif\" size=\"1\" color=\"#666666\"><span class=\"txt_arial_8pt_gray\">\\r\\n        </span></font></TD>\\r\\n    \\r\\n    </TR>\\r\\n    \\r\\n    <TR>\\r\\n    <TD valign=top><font face=\"Verdana, Arial, Helvetica, sans-serif\" size=\"1\" color=\"#666666\"><span class=\"txt_arial_8pt_gray\">\\r\\n        CGF2054</span></font></TD>\\r\\n       \\r\\n       <TD valign=top><font face=\"Verdana, Arial, Helvetica, sans-serif\" size=\"1\" color=\"#666666\"><span class=\"txt_arial_8pt_gray\">\\r\\n           <A HREF=obterDisciplina?sgldis=CGF2054&verdis=3 class=\"link_gray\">Planejamento e Desenvolvimento de Fármacos II</A>\\r\\n       </span></font></TD>\\t   \\r\\n\\t   <TD valign=top><font face=\"Verdana, Arial, Helvetica, sans-serif\" size=\"1\" color=\"#666666\"><span class=\"txt_arial_8pt_gray\">\\r\\n        01/01/2020</span></font></TD>\\r\\n\\t   <TD valign=top><font face=\"Verdana, Arial, Helvetica, sans-serif\" size=\"1\" color=\"#666666\"><span class=\"txt_arial_8pt_gray\">\\r\\n        </span></font></TD>\\r\\n    \\r\\n    </TR>\\r\\n    \\r\\n    <TR>\\r\\n    <TD valign=top><font face=\"Verdana, Arial, Helvetica, sans-serif\" size=\"1\" color=\"#666666\"><span class=\"txt_arial_8pt_gray\">\\r\\n        CGF2090</span></font></TD>\\r\\n       \\r\\n       <TD valign=top><font face=\"Verdana, Arial, Helvetica, sans-serif\" size=\"1\" color=\"#666666\"><span class=\"txt_arial_8pt_gray\">\\r\\n           <A HREF=obterDisciplina?sgldis=CGF2090&verdis=1 class=\"link_gray\">Prática em Farmácia Clínica e Cuidado Farmacêutico</A>\\r\\n       </span></font></TD>\\t   \\r\\n\\t   <TD valign=top><font face=\"Verdana, Arial, Helvetica, sans-serif\" size=\"1\" color=\"#666666\"><span class=\"txt_arial_8pt_gray\">\\r\\n        15/07/2020</span></font></TD>\\r\\n\\t   <TD valign=top><font face=\"Verdana, Arial, Helvetica, sans-serif\" size=\"1\" color=\"#666666\"><span class=\"txt_arial_8pt_gray\">\\r\\n        </span></font></TD>\\r\\n    \\r\\n    </TR>\\r\\n    \\r\\n    <TR>\\r\\n    <TD valign=top><font face=\"Verdana, Arial, Helvetica, sans-serif\" size=\"1\" color=\"#666666\"><span class=\"txt_arial_8pt_gray\">\\r\\n        CGF2033</span></font></TD>\\r\\n       \\r\\n       <TD valign=top><font face=\"Verdana, Arial, Helvetica, sans-serif\" size=\"1\" color=\"#666666\"><span class=\"txt_arial_8pt_gray\">\\r\\n           <A HREF=obterDisciplina?sgldis=CGF2033&verdis=2 class=\"link_gray\">Práticas de Atenção Básica a Saúde</A>\\r\\n       </span></font></TD>\\t   \\r\\n\\t   <TD valign=top><font face=\"Verdana, Arial, Helvetica, sans-serif\" size=\"1\" color=\"#666666\"><span class=\"txt_arial_8pt_gray\">\\r\\n        01/01/2018</span></font></TD>\\r\\n\\t   <TD valign=top><font face=\"Verdana, Arial, Helvetica, sans-serif\" size=\"1\" color=\"#666666\"><span class=\"txt_arial_8pt_gray\">\\r\\n        </span></font></TD>\\r\\n    \\r\\n    </TR>\\r\\n    \\r\\n    <TR>\\r\\n    <TD valign=top><font face=\"Verdana, Arial, Helvetica, sans-serif\" size=\"1\" color=\"#666666\"><span class=\"txt_arial_8pt_gray\">\\r\\n        CGF2067</span></font></TD>\\r\\n       \\r\\n       <TD valign=top><font face=\"Verdana, Arial, Helvetica, sans-serif\" size=\"1\" color=\"#666666\"><span class=\"txt_arial_8pt_gray\">\\r\\n           <A HREF=obterDisciplina?sgldis=CGF2067&verdis=3 class=\"link_gray\">Práticas em Farmácia</A>\\r\\n       </span></font></TD>\\t   \\r\\n\\t   <TD valign=top><font face=\"Verdana, Arial, Helvetica, sans-serif\" size=\"1\" color=\"#666666\"><span class=\"txt_arial_8pt_gray\">\\r\\n        15/07/2022</span></font></TD>\\r\\n\\t   <TD valign=top><font face=\"Verdana, Arial, Helvetica, sans-serif\" size=\"1\" color=\"#666666\"><span class=\"txt_arial_8pt_gray\">\\r\\n        </span></font></TD>\\r\\n    \\r\\n    </TR>\\r\\n    \\r\\n    <TR>\\r\\n    <TD valign=top><font face=\"Verdana, Arial, Helvetica, sans-serif\" size=\"1\" color=\"#666666\"><span class=\"txt_arial_8pt_gray\">\\r\\n        CGF2011</span></font></TD>\\r\\n       \\r\\n       <TD valign=top><font face=\"Verdana, Arial, Helvetica, sans-serif\" size=\"1\" color=\"#666666\"><span class=\"txt_arial_8pt_gray\">\\r\\n           <A HREF=obterDisciplina?sgldis=CGF2011&verdis=2 class=\"link_gray\">Práticas Farmacêuticas no Sistema Único de Saúde I</A>\\r\\n       </span></font></TD>\\t   \\r\\n\\t   <TD valign=top><font face=\"Verdana, Arial, Helvetica, sans-serif\" size=\"1\" color=\"#666666\"><span class=\"txt_arial_8pt_gray\">\\r\\n        01/01/2011</span></font></TD>\\r\\n\\t   <TD valign=top><font face=\"Verdana, Arial, Helvetica, sans-serif\" size=\"1\" color=\"#666666\"><span class=\"txt_arial_8pt_gray\">\\r\\n        </span></font></TD>\\r\\n    \\r\\n    </TR>\\r\\n    \\r\\n    <TR>\\r\\n    <TD valign=top><font face=\"Verdana, Arial, Helvetica, sans-serif\" size=\"1\" color=\"#666666\"><span class=\"txt_arial_8pt_gray\">\\r\\n        CGF2023</span></font></TD>\\r\\n       \\r\\n       <TD valign=top><font face=\"Verdana, Arial, Helvetica, sans-serif\" size=\"1\" color=\"#666666\"><span class=\"txt_arial_8pt_gray\">\\r\\n           <A HREF=obterDisciplina?sgldis=CGF2023&verdis=4 class=\"link_gray\">Química Estrutural</A>\\r\\n       </span></font></TD>\\t   \\r\\n\\t   <TD valign=top><font face=\"Verdana, Arial, Helvetica, sans-serif\" size=\"1\" color=\"#666666\"><span class=\"txt_arial_8pt_gray\">\\r\\n        01/01/2019</span></font></TD>\\r\\n\\t   <TD valign=top><font face=\"Verdana, Arial, Helvetica, sans-serif\" size=\"1\" color=\"#666666\"><span class=\"txt_arial_8pt_gray\">\\r\\n        </span></font></TD>\\r\\n    \\r\\n    </TR>\\r\\n    \\r\\n    <TR>\\r\\n    <TD valign=top><font face=\"Verdana, Arial, Helvetica, sans-serif\" size=\"1\" color=\"#666666\"><span class=\"txt_arial_8pt_gray\">\\r\\n        CGF2108</span></font></TD>\\r\\n       \\r\\n       <TD valign=top><font face=\"Verdana, Arial, Helvetica, sans-serif\" size=\"1\" color=\"#666666\"><span class=\"txt_arial_8pt_gray\">\\r\\n           <A HREF=obterDisciplina?sgldis=CGF2108&verdis=2 class=\"link_gray\">Roda Farmacêutica</A>\\r\\n       </span></font></TD>\\t   \\r\\n\\t   <TD valign=top><font face=\"Verdana, Arial, Helvetica, sans-serif\" size=\"1\" color=\"#666666\"><span class=\"txt_arial_8pt_gray\">\\r\\n        15/07/2024</span></font></TD>\\r\\n\\t   <TD valign=top><font face=\"Verdana, Arial, Helvetica, sans-serif\" size=\"1\" color=\"#666666\"><span class=\"txt_arial_8pt_gray\">\\r\\n        </span></font></TD>\\r\\n    \\r\\n    </TR>\\r\\n    \\r\\n    <TR>\\r\\n    <TD valign=top><font face=\"Verdana, Arial, Helvetica, sans-serif\" size=\"1\" color=\"#666666\"><span class=\"txt_arial_8pt_gray\">\\r\\n        CGF2079</span></font></TD>\\r\\n       \\r\\n       <TD valign=top><font face=\"Verdana, Arial, Helvetica, sans-serif\" size=\"1\" color=\"#666666\"><span class=\"txt_arial_8pt_gray\">\\r\\n           <A HREF=obterDisciplina?sgldis=CGF2079&verdis=1 class=\"link_gray\">Suporte Básico da Vida</A>\\r\\n       </span></font></TD>\\t   \\r\\n\\t   <TD valign=top><font face=\"Verdana, Arial, Helvetica, sans-serif\" size=\"1\" color=\"#666666\"><span class=\"txt_arial_8pt_gray\">\\r\\n        01/01/2017</span></font></TD>\\r\\n\\t   <TD valign=top><font face=\"Verdana, Arial, Helvetica, sans-serif\" size=\"1\" color=\"#666666\"><span class=\"txt_arial_8pt_gray\">\\r\\n        </span></font></TD>\\r\\n    \\r\\n    </TR>\\r\\n    \\r\\n    <TR>\\r\\n    <TD valign=top><font face=\"Verdana, Arial, Helvetica, sans-serif\" size=\"1\" color=\"#666666\"><span class=\"txt_arial_8pt_gray\">\\r\\n        CGF2111</span></font></TD>\\r\\n       \\r\\n       <TD valign=top><font face=\"Verdana, Arial, Helvetica, sans-serif\" size=\"1\" color=\"#666666\"><span class=\"txt_arial_8pt_gray\">\\r\\n           <A HREF=obterDisciplina?sgldis=CGF2111&verdis=1 class=\"link_gray\">Tecnologia Fitofarmacêutica</A>\\r\\n       </span></font></TD>\\t   \\r\\n\\t   <TD valign=top><font face=\"Verdana, Arial, Helvetica, sans-serif\" size=\"1\" color=\"#666666\"><span class=\"txt_arial_8pt_gray\">\\r\\n        01/01/2024</span></font></TD>\\r\\n\\t   <TD valign=top><font face=\"Verdana, Arial, Helvetica, sans-serif\" size=\"1\" color=\"#666666\"><span class=\"txt_arial_8pt_gray\">\\r\\n        </span></font></TD>\\r\\n    \\r\\n    </TR>\\r\\n    \\r\\n    <TR>\\r\\n    <TD valign=top><font face=\"Verdana, Arial, Helvetica, sans-serif\" size=\"1\" color=\"#666666\"><span class=\"txt_arial_8pt_gray\">\\r\\n        CGF2085</span></font></TD>\\r\\n       \\r\\n       <TD valign=top><font face=\"Verdana, Arial, Helvetica, sans-serif\" size=\"1\" color=\"#666666\"><span class=\"txt_arial_8pt_gray\">\\r\\n           <A HREF=obterDisciplina?sgldis=CGF2085&verdis=2 class=\"link_gray\">Tópicos de Psicologia Aplicada à Farmácia</A>\\r\\n       </span></font></TD>\\t   \\r\\n\\t   <TD valign=top><font face=\"Verdana, Arial, Helvetica, sans-serif\" size=\"1\" color=\"#666666\"><span class=\"txt_arial_8pt_gray\">\\r\\n        15/07/2022</span></font></TD>\\r\\n\\t   <TD valign=top><font face=\"Verdana, Arial, Helvetica, sans-serif\" size=\"1\" color=\"#666666\"><span class=\"txt_arial_8pt_gray\">\\r\\n        </span></font></TD>\\r\\n    \\r\\n    </TR>\\r\\n    \\r\\n    <TR>\\r\\n    <TD valign=top><font face=\"Verdana, Arial, Helvetica, sans-serif\" size=\"1\" color=\"#666666\"><span class=\"txt_arial_8pt_gray\">\\r\\n        CGF2100</span></font></TD>\\r\\n       \\r\\n       <TD valign=top><font face=\"Verdana, Arial, Helvetica, sans-serif\" size=\"1\" color=\"#666666\"><span class=\"txt_arial_8pt_gray\">\\r\\n           <A HREF=obterDisciplina?sgldis=CGF2100&verdis=1 class=\"link_gray\">Topics on Food Safety</A>\\r\\n       </span></font></TD>\\t   \\r\\n\\t   <TD valign=top><font face=\"Verdana, Arial, Helvetica, sans-serif\" size=\"1\" color=\"#666666\"><span class=\"txt_arial_8pt_gray\">\\r\\n        01/01/2023</span></font></TD>\\r\\n\\t   <TD valign=top><font face=\"Verdana, Arial, Helvetica, sans-serif\" size=\"1\" color=\"#666666\"><span class=\"txt_arial_8pt_gray\">\\r\\n        </span></font></TD>\\r\\n    \\r\\n    </TR>\\r\\n    \\r\\n    <TR>\\r\\n    <TD valign=top><font face=\"Verdana, Arial, Helvetica, sans-serif\" size=\"1\" color=\"#666666\"><span class=\"txt_arial_8pt_gray\">\\r\\n        CGF2071</span></font></TD>\\r\\n       \\r\\n       <TD valign=top><font face=\"Verdana, Arial, Helvetica, sans-serif\" size=\"1\" color=\"#666666\"><span class=\"txt_arial_8pt_gray\">\\r\\n           <A HREF=obterDisciplina?sgldis=CGF2071&verdis=2 class=\"link_gray\">Toxicologia</A>\\r\\n       </span></font></TD>\\t   \\r\\n\\t   <TD valign=top><font face=\"Verdana, Arial, Helvetica, sans-serif\" size=\"1\" color=\"#666666\"><span class=\"txt_arial_8pt_gray\">\\r\\n        01/01/2020</span></font></TD>\\r\\n\\t   <TD valign=top><font face=\"Verdana, Arial, Helvetica, sans-serif\" size=\"1\" color=\"#666666\"><span class=\"txt_arial_8pt_gray\">\\r\\n        </span></font></TD>\\r\\n    \\r\\n    </TR>\\r\\n    \\r\\n    <TR>\\r\\n    <TD valign=top><font face=\"Verdana, Arial, Helvetica, sans-serif\" size=\"1\" color=\"#666666\"><span class=\"txt_arial_8pt_gray\">\\r\\n        CGF2009</span></font></TD>\\r\\n       \\r\\n       <TD valign=top><font face=\"Verdana, Arial, Helvetica, sans-serif\" size=\"1\" color=\"#666666\"><span class=\"txt_arial_8pt_gray\">\\r\\n           <A HREF=obterDisciplina?sgldis=CGF2009&verdis=3 class=\"link_gray\">Trabalho de Conclusão de Curso</A>\\r\\n       </span></font></TD>\\t   \\r\\n\\t   <TD valign=top><font face=\"Verdana, Arial, Helvetica, sans-serif\" size=\"1\" color=\"#666666\"><span class=\"txt_arial_8pt_gray\">\\r\\n        15/07/2022</span></font></TD>\\r\\n\\t   <TD valign=top><font face=\"Verdana, Arial, Helvetica, sans-serif\" size=\"1\" color=\"#666666\"><span class=\"txt_arial_8pt_gray\">\\r\\n        </span></font></TD>\\r\\n    \\r\\n    </TR>\\r\\n    \\r\\n    <TR>\\r\\n    <TD valign=top><font face=\"Verdana, Arial, Helvetica, sans-serif\" size=\"1\" color=\"#666666\"><span class=\"txt_arial_8pt_gray\">\\r\\n        CGF2101</span></font></TD>\\r\\n       \\r\\n       <TD valign=top><font face=\"Verdana, Arial, Helvetica, sans-serif\" size=\"1\" color=\"#666666\"><span class=\"txt_arial_8pt_gray\">\\r\\n           <A HREF=obterDisciplina?sgldis=CGF2101&verdis=1 class=\"link_gray\">Trabalho de Conclusão de Curso I - Estudos Preparatórios</A>\\r\\n       </span></font></TD>\\t   \\r\\n\\t   <TD valign=top><font face=\"Verdana, Arial, Helvetica, sans-serif\" size=\"1\" color=\"#666666\"><span class=\"txt_arial_8pt_gray\">\\r\\n        15/07/2023</span></font></TD>\\r\\n\\t   <TD valign=top><font face=\"Verdana, Arial, Helvetica, sans-serif\" size=\"1\" color=\"#666666\"><span class=\"txt_arial_8pt_gray\">\\r\\n        </span></font></TD>\\r\\n    \\r\\n    </TR>\\r\\n    \\r\\n    <TR>\\r\\n    <TD valign=top><font face=\"Verdana, Arial, Helvetica, sans-serif\" size=\"1\" color=\"#666666\"><span class=\"txt_arial_8pt_gray\">\\r\\n        CGF2102</span></font></TD>\\r\\n       \\r\\n       <TD valign=top><font face=\"Verdana, Arial, Helvetica, sans-serif\" size=\"1\" color=\"#666666\"><span class=\"txt_arial_8pt_gray\">\\r\\n           <A HREF=obterDisciplina?sgldis=CGF2102&verdis=1 class=\"link_gray\">Trabalho de Conclusão de Curso II - Desenvolvimento</A>\\r\\n       </span></font></TD>\\t   \\r\\n\\t   <TD valign=top><font face=\"Verdana, Arial, Helvetica, sans-serif\" size=\"1\" color=\"#666666\"><span class=\"txt_arial_8pt_gray\">\\r\\n        15/07/2023</span></font></TD>\\r\\n\\t   <TD valign=top><font face=\"Verdana, Arial, Helvetica, sans-serif\" size=\"1\" color=\"#666666\"><span class=\"txt_arial_8pt_gray\">\\r\\n        </span></font></TD>\\r\\n    \\r\\n    </TR>\\r\\n    \\r\\n    <TR>\\r\\n    <TD valign=top><font face=\"Verdana, Arial, Helvetica, sans-serif\" size=\"1\" color=\"#666666\"><span class=\"txt_arial_8pt_gray\">\\r\\n        CGF2103</span></font></TD>\\r\\n       \\r\\n       <TD valign=top><font face=\"Verdana, Arial, Helvetica, sans-serif\" size=\"1\" color=\"#666666\"><span class=\"txt_arial_8pt_gray\">\\r\\n           <A HREF=obterDisciplina?sgldis=CGF2103&verdis=2 class=\"link_gray\">Trabalho de Conclusão de Curso III - Apresentação</A>\\r\\n       </span></font></TD>\\t   \\r\\n\\t   <TD valign=top><font face=\"Verdana, Arial, Helvetica, sans-serif\" size=\"1\" color=\"#666666\"><span class=\"txt_arial_8pt_gray\">\\r\\n        01/01/2024</span></font></TD>\\r\\n\\t   <TD valign=top><font face=\"Verdana, Arial, Helvetica, sans-serif\" size=\"1\" color=\"#666666\"><span class=\"txt_arial_8pt_gray\">\\r\\n        </span></font></TD>\\r\\n    \\r\\n    </TR>\\r\\n    \\r\\n    <TR>\\r\\n    <TD valign=top><font face=\"Verdana, Arial, Helvetica, sans-serif\" size=\"1\" color=\"#666666\"><span class=\"txt_arial_8pt_gray\">\\r\\n        CGF2017</span></font></TD>\\r\\n       \\r\\n       <TD valign=top><font face=\"Verdana, Arial, Helvetica, sans-serif\" size=\"1\" color=\"#666666\"><span class=\"txt_arial_8pt_gray\">\\r\\n           <A HREF=obterDisciplina?sgldis=CGF2017&verdis=4 class=\"link_gray\">Tutoria I</A>\\r\\n       </span></font></TD>\\t   \\r\\n\\t   <TD valign=top><font face=\"Verdana, Arial, Helvetica, sans-serif\" size=\"1\" color=\"#666666\"><span class=\"txt_arial_8pt_gray\">\\r\\n        01/01/2024</span></font></TD>\\r\\n\\t   <TD valign=top><font face=\"Verdana, Arial, Helvetica, sans-serif\" size=\"1\" color=\"#666666\"><span class=\"txt_arial_8pt_gray\">\\r\\n        </span></font></TD>\\r\\n    \\r\\n    </TR>\\r\\n    \\r\\n    <TR>\\r\\n    <TD valign=top><font face=\"Verdana, Arial, Helvetica, sans-serif\" size=\"1\" color=\"#666666\"><span class=\"txt_arial_8pt_gray\">\\r\\n        CGF2025</span></font></TD>\\r\\n       \\r\\n       <TD valign=top><font face=\"Verdana, Arial, Helvetica, sans-serif\" size=\"1\" color=\"#666666\"><span class=\"txt_arial_8pt_gray\">\\r\\n           <A HREF=obterDisciplina?sgldis=CGF2025&verdis=4 class=\"link_gray\">Tutoria II</A>\\r\\n       </span></font></TD>\\t   \\r\\n\\t   <TD valign=top><font face=\"Verdana, Arial, Helvetica, sans-serif\" size=\"1\" color=\"#666666\"><span class=\"txt_arial_8pt_gray\">\\r\\n        01/01/2024</span></font></TD>\\r\\n\\t   <TD valign=top><font face=\"Verdana, Arial, Helvetica, sans-serif\" size=\"1\" color=\"#666666\"><span class=\"txt_arial_8pt_gray\">\\r\\n        </span></font></TD>\\r\\n    \\r\\n    </TR>\\r\\n    \\r\\n    <TR>\\r\\n    <TD valign=top><font face=\"Verdana, Arial, Helvetica, sans-serif\" size=\"1\" color=\"#666666\"><span class=\"txt_arial_8pt_gray\">\\r\\n        CGF2034</span></font></TD>\\r\\n       \\r\\n       <TD valign=top><font face=\"Verdana, Arial, Helvetica, sans-serif\" size=\"1\" color=\"#666666\"><span class=\"txt_arial_8pt_gray\">\\r\\n           <A HREF=obterDisciplina?sgldis=CGF2034&verdis=4 class=\"link_gray\">Tutoria III</A>\\r\\n       </span></font></TD>\\t   \\r\\n\\t   <TD valign=top><font face=\"Verdana, Arial, Helvetica, sans-serif\" size=\"1\" color=\"#666666\"><span class=\"txt_arial_8pt_gray\">\\r\\n        01/01/2024</span></font></TD>\\r\\n\\t   <TD valign=top><font face=\"Verdana, Arial, Helvetica, sans-serif\" size=\"1\" color=\"#666666\"><span class=\"txt_arial_8pt_gray\">\\r\\n        </span></font></TD>\\r\\n    \\r\\n    </TR>\\r\\n    \\r\\n    <TR>\\r\\n    <TD valign=top><font face=\"Verdana, Arial, Helvetica, sans-serif\" size=\"1\" color=\"#666666\"><span class=\"txt_arial_8pt_gray\">\\r\\n        CGF2044</span></font></TD>\\r\\n       \\r\\n       <TD valign=top><font face=\"Verdana, Arial, Helvetica, sans-serif\" size=\"1\" color=\"#666666\"><span class=\"txt_arial_8pt_gray\">\\r\\n           <A HREF=obterDisciplina?sgldis=CGF2044&verdis=4 class=\"link_gray\">Tutoria IV</A>\\r\\n       </span></font></TD>\\t   \\r\\n\\t   <TD valign=top><font face=\"Verdana, Arial, Helvetica, sans-serif\" size=\"1\" color=\"#666666\"><span class=\"txt_arial_8pt_gray\">\\r\\n        01/01/2024</span></font></TD>\\r\\n\\t   <TD valign=top><font face=\"Verdana, Arial, Helvetica, sans-serif\" size=\"1\" color=\"#666666\"><span class=\"txt_arial_8pt_gray\">\\r\\n        </span></font></TD>\\r\\n    \\r\\n    </TR>\\r\\n    \\r\\n</TABLE>\\r\\n<br>\\r\\n<table  align=\"center\">\\r\\n  <tr><td><font face=\"Verdana, Arial, Helvetica, sans-serif\" size=\"1\" color=\"#000000\"><span class=\"txt_arial_8pt_black\">\\r\\n      91 disciplinas encontradas</span></font></td></tr>\\r\\n</table>  \\r\\n\\r\\n\\r\\n\\r\\n\\r\\n\\r\\n\\r\\n\\r\\n\\r\\n\\r\\n\\t\\r\\n\\r\\n\\r\\n<link type=\"text/css\" rel=\"stylesheet\" href=\"https://uspdigital.usp.br/comumwebdev/libs/usp/main/1.0/home.css\"/>\\r\\n<table width=\"100%\" border=\"0\" cellspacing=\" 0\" cellpadding=\" 0\" align=\"center\">\\r\\n  \\r\\n  <tr>\\r\\n    <td align=\"center\"><font face=\"Arial, Helvetica, sans-serif\" size=\"1\"><hr size=\"1\">\\r\\n      <a href=\\'creditos.jsp\\' class=\"link_olive\" target=\"_self\">Cr&eacute;ditos</a>\\r\\n      | <a href=\"jupColegiadoEmailLista\" class=\"link_olive\">Fale conosco</a><br>\\r\\n      &copy; 1999 - 2024 - Superintend&ecirc;ncia de Tecnologia da Informa&ccedil;&atilde;o/USP</font>\\r\\n    </td>\\r\\n  </tr>\\r\\n</table>\\r\\n\\r\\n</html>\\r\\n\\r\\n\\t\\t\\t\\r\\n\\r\\n\\t\\t\\t\\r\\n\\t\\t</div>\\r\\n\\t</div>\\r\\n\\r\\n</body>\\r\\n</html>'"
            ],
            "application/vnd.google.colaboratory.intrinsic+json": {
              "type": "string"
            }
          },
          "metadata": {},
          "execution_count": 5
        }
      ]
    },
    {
      "cell_type": "code",
      "source": [
        "soup = BeautifulSoup(response.text, 'lxml') # Parse the HTML as a string\n",
        "\n",
        "tables = soup.find_all('table') # Grab the first table\n",
        "\n",
        "row_list = []\n",
        "for table in tables:\n",
        "  for row in table.find_all('tr'):\n",
        "      column_list = []\n",
        "      columns = row.find_all('td')\n",
        "      for column in columns:\n",
        "          column_list.append(column.get_text())\n",
        "      row_list.append(column_list)\n",
        "\n",
        "row_list"
      ],
      "metadata": {
        "colab": {
          "base_uri": "https://localhost:8080/"
        },
        "id": "u8sBnsTwsmzu",
        "outputId": "65b08ca3-7da2-4884-c506-e086119b06d6"
      },
      "execution_count": 2,
      "outputs": [
        {
          "output_type": "execute_result",
          "data": {
            "text/plain": [
              "[['\\n\\n', '\\n\\n'],\n",
              " ['\\r\\n       Sigla',\n",
              "  '\\r\\n       Nome',\n",
              "  '\\r\\n       Ativação',\n",
              "  '\\r\\n       Desativação'],\n",
              " ['\\r\\n        CGF2036',\n",
              "  '\\nAnálise Química I: Físico-Química\\n',\n",
              "  '\\r\\n        01/01/2017',\n",
              "  '\\n'],\n",
              " ['\\r\\n        CGF2049',\n",
              "  '\\nAnálise Química II: Físico Química\\n',\n",
              "  '\\r\\n        15/07/2020',\n",
              "  '\\n'],\n",
              " ['\\r\\n        CGF2028',\n",
              "  '\\nAnálise Química: Reações Químicas\\n',\n",
              "  '\\r\\n        01/01/2023',\n",
              "  '\\n'],\n",
              " ['\\r\\n        CGF2088',\n",
              "  '\\nAnálise Toxicológica\\n',\n",
              "  '\\r\\n        15/07/2022',\n",
              "  '\\n'],\n",
              " ['\\r\\n        CGF2107',\n",
              "  '\\nAssistência Farmacêutica\\n',\n",
              "  '\\r\\n        15/07/2024',\n",
              "  '\\n'],\n",
              " ['\\r\\n        CGF2091',\n",
              "  '\\nAssistência Farmacêutica I\\n',\n",
              "  '\\r\\n        15/07/2020',\n",
              "  '\\n'],\n",
              " ['\\r\\n        CGF2092',\n",
              "  '\\nAssistência Farmacêutica II\\n',\n",
              "  '\\r\\n        15/07/2020',\n",
              "  '\\n'],\n",
              " ['\\r\\n        CGF2059',\n",
              "  '\\nAssistência Farmacêutica: Gestão e Dispensação no Serviço Público\\n',\n",
              "  '\\r\\n        01/01/2017',\n",
              "  '\\n'],\n",
              " ['\\r\\n        CGF2078',\n",
              "  '\\nAtenção Diagnóstica de Doenças Infecciosas e Parasitárias\\n',\n",
              "  '\\r\\n        15/07/2021',\n",
              "  '\\n'],\n",
              " ['\\r\\n        CGF2070',\n",
              "  '\\nAtenção Diagnóstica Em Doenças Hematológicas, Imunológicas, Metabólicas e Endocrinológicas\\n',\n",
              "  '\\r\\n        01/01/2017',\n",
              "  '\\n'],\n",
              " ['\\r\\n        CGF2083',\n",
              "  '\\nAtividades de Extensão\\n',\n",
              "  '\\r\\n        15/07/2022',\n",
              "  '\\n'],\n",
              " ['\\r\\n        CGF2004',\n",
              "  '\\nAtividades de Extensão\\n',\n",
              "  '\\r\\n        15/07/2022',\n",
              "  '\\n'],\n",
              " ['\\r\\n        CGF2110',\n",
              "  '\\nAtividades Extensionistas - Gerais\\n',\n",
              "  '\\r\\n        15/07/2024',\n",
              "  '\\n'],\n",
              " ['\\r\\n        CGF2026',\n",
              "  '\\nBases Químicas das Moléculas Orgânicas I\\n',\n",
              "  '\\r\\n        15/07/2020',\n",
              "  '\\n'],\n",
              " ['\\r\\n        CGF2093',\n",
              "  '\\nBases Químicas das Moléculas Orgânicas III\\n',\n",
              "  '\\r\\n        01/01/2021',\n",
              "  '\\n'],\n",
              " ['\\r\\n        CGF2040',\n",
              "  '\\nBases Químicas de Moléculas Orgânicas II\\n',\n",
              "  '\\r\\n        01/01/2021',\n",
              "  '\\n'],\n",
              " ['\\r\\n        CGF2048', '\\nBioagentes\\n', '\\r\\n        01/01/2023', '\\n'],\n",
              " ['\\r\\n        CGF2022',\n",
              "  '\\nBioestatística I\\n',\n",
              "  '\\r\\n        15/07/2020',\n",
              "  '\\n'],\n",
              " ['\\r\\n        CGF2046',\n",
              "  '\\nBioestatística II\\n',\n",
              "  '\\r\\n        15/07/2020',\n",
              "  '\\n'],\n",
              " ['\\r\\n        CGF2020',\n",
              "  '\\nBioética e Saúde\\n',\n",
              "  '\\r\\n        15/07/2017',\n",
              "  '\\n'],\n",
              " ['\\r\\n        CGF2031',\n",
              "  '\\nBiologia Celular e Molecular\\n',\n",
              "  '\\r\\n        15/07/2019',\n",
              "  '\\n'],\n",
              " ['\\r\\n        CGF2037',\n",
              "  '\\nBioquímica Experimental\\n',\n",
              "  '\\r\\n        01/01/2017',\n",
              "  '\\n'],\n",
              " ['\\r\\n        CGF2027',\n",
              "  '\\nBioquímica: Estrutura e Função de Biomoléculas\\n',\n",
              "  '\\r\\n        01/01/2024',\n",
              "  '\\n'],\n",
              " ['\\r\\n        CGF2063',\n",
              "  '\\nBiotecnologia Farmacêutica I\\n',\n",
              "  '\\r\\n        01/01/2024',\n",
              "  '\\n'],\n",
              " ['\\r\\n        CGF2073',\n",
              "  '\\nBiotecnologia Farmacêutica II\\n',\n",
              "  '\\r\\n        01/01/2024',\n",
              "  '\\n'],\n",
              " ['\\r\\n        CGF2057',\n",
              "  '\\nCiência dos Alimentos e Nutrigenômica\\n',\n",
              "  '\\r\\n        01/01/2024',\n",
              "  '\\n'],\n",
              " ['\\r\\n        CGF2013',\n",
              "  '\\nCiências Básicas\\n',\n",
              "  '\\r\\n        01/01/2019',\n",
              "  '\\n'],\n",
              " ['\\r\\n        CGF2016',\n",
              "  '\\nCiências Físicas e Matemáticas\\n',\n",
              "  '\\r\\n        01/01/2019',\n",
              "  '\\n'],\n",
              " ['\\r\\n        CGF2089',\n",
              "  '\\nCuidado Multidisciplinar para a Segurança do Paciente em Uso de Medicamentos\\n',\n",
              "  '\\r\\n        01/01/2020',\n",
              "  '\\n'],\n",
              " ['\\r\\n        CGF2077',\n",
              "  '\\nDesenvolvimento e Produção de Biofármacos\\n',\n",
              "  '\\r\\n        01/01/2020',\n",
              "  '\\r\\n        31/12/2024'],\n",
              " ['\\r\\n        CGF2032',\n",
              "  '\\nDinâmica de Grupo\\n',\n",
              "  '\\r\\n        15/07/2022',\n",
              "  '\\n'],\n",
              " ['\\r\\n        CGF2095',\n",
              "  '\\nEnzimas aplicadas à Ciências Farmacêuticas\\n',\n",
              "  '\\r\\n        15/07/2024',\n",
              "  '\\n'],\n",
              " ['\\r\\n        CGF2096',\n",
              "  '\\nEnzimologia Industrial e suas Aplicações\\n',\n",
              "  '\\r\\n        15/07/2024',\n",
              "  '\\n'],\n",
              " ['\\r\\n        CGF2021', '\\nEpidemiologia\\n', '\\r\\n        15/07/2017', '\\n'],\n",
              " ['\\r\\n        CGF2008',\n",
              "  '\\nEstágio Curricular\\n',\n",
              "  '\\r\\n        15/07/2022',\n",
              "  '\\n'],\n",
              " ['\\r\\n        CGF2080',\n",
              "  '\\nEstágio Curricular\\n',\n",
              "  '\\r\\n        15/07/2022',\n",
              "  '\\n'],\n",
              " ['\\r\\n        CGF2086',\n",
              "  '\\nEstágio em Atividades Farmacêuticas I\\n',\n",
              "  '\\r\\n        15/07/2022',\n",
              "  '\\n'],\n",
              " ['\\r\\n        CGF2087',\n",
              "  '\\nEstágio em Atividades Farmacêuticas II\\n',\n",
              "  '\\r\\n        15/07/2022',\n",
              "  '\\n'],\n",
              " ['\\r\\n        CGF2007',\n",
              "  '\\nEstágio em Atividades Farmacêuticas II\\n',\n",
              "  '\\r\\n        15/07/2022',\n",
              "  '\\n'],\n",
              " ['\\r\\n        CGF2105',\n",
              "  '\\nExtenfarma I: amplificando a formação do farmacêutico e criando espaços de interlocução com a sociedade\\n',\n",
              "  '\\r\\n        15/07/2024',\n",
              "  '\\n'],\n",
              " ['\\r\\n        CGF2106',\n",
              "  '\\nExtenfarma II: amplificando a formação do farmacêutico e criando espaços de interlocução com a sociedade\\n',\n",
              "  '\\r\\n        15/07/2024',\n",
              "  '\\n'],\n",
              " ['\\r\\n        CGF2109',\n",
              "  '\\nFarmácia Clínica e Cuidado Farmacêutico\\n',\n",
              "  '\\r\\n        15/07/2024',\n",
              "  '\\n'],\n",
              " ['\\r\\n        CGF2065',\n",
              "  '\\nFarmácia Clínica e Cuidado Farmacêutico I\\n',\n",
              "  '\\r\\n        15/07/2020',\n",
              "  '\\n'],\n",
              " ['\\r\\n        CGF2074',\n",
              "  '\\nFarmácia Clínica e Cuidado Farmacêutico II\\n',\n",
              "  '\\r\\n        15/07/2020',\n",
              "  '\\n'],\n",
              " ['\\r\\n        CGF2019',\n",
              "  '\\nFarmácia e as Políticas de Saúde e de Medicamentos\\n',\n",
              "  '\\r\\n        15/07/2018',\n",
              "  '\\n'],\n",
              " ['\\r\\n        CGF2056',\n",
              "  '\\nFarmácia Homeopática\\n',\n",
              "  '\\r\\n        01/01/2020',\n",
              "  '\\n'],\n",
              " ['\\r\\n        CGF2015',\n",
              "  '\\nFarmácia, Saúde e a Sociedade\\n',\n",
              "  '\\r\\n        01/01/2017',\n",
              "  '\\n'],\n",
              " ['\\r\\n        CGF2072', '\\nFarmacognosia\\n', '\\r\\n        01/01/2021', '\\n'],\n",
              " ['\\r\\n        CGF2029',\n",
              "  '\\nFarmacotécnica, Tecnologia de Medicamentos e Cosméticos I\\n',\n",
              "  '\\r\\n        15/07/2019',\n",
              "  '\\n'],\n",
              " ['\\r\\n        CGF2039',\n",
              "  '\\nFarmacotécnica, Tecnologia de Medicamentos e Cosméticos II\\n',\n",
              "  '\\r\\n        15/07/2019',\n",
              "  '\\n'],\n",
              " ['\\r\\n        CGF2047',\n",
              "  '\\nFarmacotécnica, Tecnologia de Medicamentos e Cosméticos III\\n',\n",
              "  '\\r\\n        01/01/2020',\n",
              "  '\\n'],\n",
              " ['\\r\\n        CGF2053',\n",
              "  '\\nFarmacotécnica, Tecnologia de Medicamentos e Cosméticos IV\\n',\n",
              "  '\\r\\n        01/01/2021',\n",
              "  '\\n'],\n",
              " ['\\r\\n        CGF2062',\n",
              "  '\\nFarmacotécnica, Tecnologia de Medicamentos e Cosméticos V\\n',\n",
              "  '\\r\\n        15/07/2019',\n",
              "  '\\n'],\n",
              " ['\\r\\n        CGF2094',\n",
              "  '\\nFerramentas e conceitos empregados nos processos industriais farmacêuticos e biotecnológicos\\n',\n",
              "  '\\r\\n        15/07/2023',\n",
              "  '\\n'],\n",
              " ['\\r\\n        CGF2024', '\\nFisico-química\\n', '\\r\\n        01/01/2019', '\\n'],\n",
              " ['\\r\\n        CGF2045',\n",
              "  '\\nFisiopatologia, Farmacologia e Química Farmacêutica I\\n',\n",
              "  '\\r\\n        01/01/2024',\n",
              "  '\\n'],\n",
              " ['\\r\\n        CGF2052',\n",
              "  '\\nFisiopatologia, Farmacologia e Química Farmacêutica II\\n',\n",
              "  '\\r\\n        01/01/2024',\n",
              "  '\\n'],\n",
              " ['\\r\\n        CGF2061',\n",
              "  '\\nFisiopatologia, Farmacologia e Química Farmacêutica III\\n',\n",
              "  '\\r\\n        01/01/2022',\n",
              "  '\\n'],\n",
              " ['\\r\\n        CGF2041', '\\nGenética\\n', '\\r\\n        01/01/2019', '\\n'],\n",
              " ['\\r\\n        CGF2069',\n",
              "  '\\nGestão da Inovação e Empreendedorismo\\n',\n",
              "  '\\r\\n        15/07/2020',\n",
              "  '\\n'],\n",
              " ['\\r\\n        CGF2018', '\\nGestão I\\n', '\\r\\n        15/07/2020', '\\n'],\n",
              " ['\\r\\n        CGF2030', '\\nGestão II\\n', '\\r\\n        15/07/2020', '\\n'],\n",
              " ['\\r\\n        CGF2104',\n",
              "  '\\nHabilitação de Laboratórios Analíticos em Saúde para Estudos de Controle de Qualidade, Ensaios de Equivalência Farmacêutica e Bioequivalência\\n',\n",
              "  '\\r\\n        15/07/2024',\n",
              "  '\\n'],\n",
              " ['\\r\\n        CGF2038', '\\nImunologia\\n', '\\r\\n        01/01/2024', '\\n'],\n",
              " ['\\r\\n        CGF2084',\n",
              "  '\\nIniciação à Pesquisa\\n',\n",
              "  '\\r\\n        15/07/2022',\n",
              "  '\\n'],\n",
              " ['\\r\\n        CGF2003',\n",
              "  '\\nIniciação à Pesquisa\\n',\n",
              "  '\\r\\n        15/07/2022',\n",
              "  '\\n'],\n",
              " ['\\r\\n        CGF2099',\n",
              "  '\\nLeitura e Produção de Textos Acadêmicos\\n',\n",
              "  '\\r\\n        15/07/2022',\n",
              "  '\\n'],\n",
              " ['\\r\\n        CGF2035',\n",
              "  '\\nMetabolismo Humano\\n',\n",
              "  '\\r\\n        15/07/2024',\n",
              "  '\\n'],\n",
              " ['\\r\\n        CGF2014',\n",
              "  '\\nMorfologia do Corpo Humano\\n',\n",
              "  '\\r\\n        01/01/2017',\n",
              "  '\\n'],\n",
              " ['\\r\\n        CGF2002',\n",
              "  '\\nNoções de Psicologia Aplicadas ao Ensino Farmacêutico\\n',\n",
              "  '\\r\\n        01/01/2007',\n",
              "  '\\n'],\n",
              " ['\\r\\n        CGF2050',\n",
              "  '\\nPlanejamento e Desenvolvimento de Fármacos I\\n',\n",
              "  '\\r\\n        15/07/2023',\n",
              "  '\\n'],\n",
              " ['\\r\\n        CGF2054',\n",
              "  '\\nPlanejamento e Desenvolvimento de Fármacos II\\n',\n",
              "  '\\r\\n        01/01/2020',\n",
              "  '\\n'],\n",
              " ['\\r\\n        CGF2090',\n",
              "  '\\nPrática em Farmácia Clínica e Cuidado Farmacêutico\\n',\n",
              "  '\\r\\n        15/07/2020',\n",
              "  '\\n'],\n",
              " ['\\r\\n        CGF2033',\n",
              "  '\\nPráticas de Atenção Básica a Saúde\\n',\n",
              "  '\\r\\n        01/01/2018',\n",
              "  '\\n'],\n",
              " ['\\r\\n        CGF2067',\n",
              "  '\\nPráticas em Farmácia\\n',\n",
              "  '\\r\\n        15/07/2022',\n",
              "  '\\n'],\n",
              " ['\\r\\n        CGF2011',\n",
              "  '\\nPráticas Farmacêuticas no Sistema Único de Saúde I\\n',\n",
              "  '\\r\\n        01/01/2011',\n",
              "  '\\n'],\n",
              " ['\\r\\n        CGF2023',\n",
              "  '\\nQuímica Estrutural\\n',\n",
              "  '\\r\\n        01/01/2019',\n",
              "  '\\n'],\n",
              " ['\\r\\n        CGF2108',\n",
              "  '\\nRoda Farmacêutica\\n',\n",
              "  '\\r\\n        15/07/2024',\n",
              "  '\\n'],\n",
              " ['\\r\\n        CGF2079',\n",
              "  '\\nSuporte Básico da Vida\\n',\n",
              "  '\\r\\n        01/01/2017',\n",
              "  '\\n'],\n",
              " ['\\r\\n        CGF2111',\n",
              "  '\\nTecnologia Fitofarmacêutica\\n',\n",
              "  '\\r\\n        01/01/2024',\n",
              "  '\\n'],\n",
              " ['\\r\\n        CGF2085',\n",
              "  '\\nTópicos de Psicologia Aplicada à Farmácia\\n',\n",
              "  '\\r\\n        15/07/2022',\n",
              "  '\\n'],\n",
              " ['\\r\\n        CGF2100',\n",
              "  '\\nTopics on Food Safety\\n',\n",
              "  '\\r\\n        01/01/2023',\n",
              "  '\\n'],\n",
              " ['\\r\\n        CGF2071', '\\nToxicologia\\n', '\\r\\n        01/01/2020', '\\n'],\n",
              " ['\\r\\n        CGF2009',\n",
              "  '\\nTrabalho de Conclusão de Curso\\n',\n",
              "  '\\r\\n        15/07/2022',\n",
              "  '\\n'],\n",
              " ['\\r\\n        CGF2101',\n",
              "  '\\nTrabalho de Conclusão de Curso I - Estudos Preparatórios\\n',\n",
              "  '\\r\\n        15/07/2023',\n",
              "  '\\n'],\n",
              " ['\\r\\n        CGF2102',\n",
              "  '\\nTrabalho de Conclusão de Curso II - Desenvolvimento\\n',\n",
              "  '\\r\\n        15/07/2023',\n",
              "  '\\n'],\n",
              " ['\\r\\n        CGF2103',\n",
              "  '\\nTrabalho de Conclusão de Curso III - Apresentação\\n',\n",
              "  '\\r\\n        01/01/2024',\n",
              "  '\\n'],\n",
              " ['\\r\\n        CGF2017', '\\nTutoria I\\n', '\\r\\n        01/01/2024', '\\n'],\n",
              " ['\\r\\n        CGF2025', '\\nTutoria II\\n', '\\r\\n        01/01/2024', '\\n'],\n",
              " ['\\r\\n        CGF2034', '\\nTutoria III\\n', '\\r\\n        01/01/2024', '\\n'],\n",
              " ['\\r\\n        CGF2044', '\\nTutoria IV\\n', '\\r\\n        01/01/2024', '\\n'],\n",
              " ['\\r\\n      91 disciplinas encontradas'],\n",
              " ['\\nCréditos\\r\\n      | Fale conosco\\r\\n      © 1999 - 2024 - Superintendência de Tecnologia da Informação/USP\\n']]"
            ]
          },
          "metadata": {},
          "execution_count": 2
        }
      ]
    },
    {
      "cell_type": "code",
      "source": [
        "len(table)"
      ],
      "metadata": {
        "colab": {
          "base_uri": "https://localhost:8080/"
        },
        "id": "QAAsO4-ptFLw",
        "outputId": "5f3f4e77-4ec9-4c7c-db34-f0180084f195"
      },
      "execution_count": 3,
      "outputs": [
        {
          "output_type": "execute_result",
          "data": {
            "text/plain": [
              "3"
            ]
          },
          "metadata": {},
          "execution_count": 3
        }
      ]
    },
    {
      "cell_type": "code",
      "source": [
        "url_course = \"https://uspdigital.usp.br/jupiterweb/obterDisciplina?sgldis=CGF2022\"\n",
        "response_course = requests.get(url_course)\n",
        "response_course.text"
      ],
      "metadata": {
        "colab": {
          "base_uri": "https://localhost:8080/",
          "height": 214
        },
        "id": "VUAOWbityy27",
        "outputId": "e060e4a2-5cad-47ec-eb40-cd09fb3aba13"
      },
      "execution_count": 6,
      "outputs": [
        {
          "output_type": "execute_result",
          "data": {
            "text/plain": [
              "'<!DOCTYPE HTML PUBLIC \"-//W3C//DTD HTML 4.01 Transitional//EN\" \"http://www.w3.org/TR/html4/loose.dtd\">\\r\\n\\r\\n\\r\\n\\r\\n\\r\\n<html>\\r\\n<head>\\r\\n<title>Jupiterweb</title>\\r\\n<meta http-equiv=Content-Type content=\"text/html; charset=iso-8859-1\">\\r\\n<meta HTTP-EQUIV=\"CACHE-CONTROL\" CONTENT=\"NO-CACHE\">\\r\\n<meta HTTP-EQUIV=\"Expires\" CONTENT=\"-1\">\\r\\n<link href=\"https://uspdigital.usp.br/comumwebdev/imagens/favicon.ico\" rel=\"shortcut icon\"\\r\\n\\ttype=\"image/x-icon\" />\\r\\n<link href=\"https://uspdigital.usp.br/comumwebdev/imagens/favicon.ico\" rel=\"icon\"\\r\\n\\ttype=\"image/x-icon\" />\\r\\n<link href=\"https://uspdigital.usp.br/comumwebdev/libs/usp/main/1.0/menuweb.css\"\\r\\n\\ttype=text/css rel=stylesheet>\\r\\n</head>\\r\\n<style>\\r\\n#layout_principal {\\r\\n\\twidth: 100%;\\r\\n}\\r\\n\\r\\n#layout_cabecalho {\\r\\n\\r\\n}\\r\\n\\r\\n#layout_menu {\\r\\n\\twidth: 170px;\\r\\n\\tfloat: left;\\r\\n\\tpadding-top: 10px;\\r\\n}\\r\\n\\r\\n#layout_conteudo {\\r\\n\\tpadding-left: 181px;\\r\\n\\tpadding-top: 10px;\\r\\n}\\r\\n</style>\\r\\n<!--[if IE]>\\r\\n\\t<style>\\r\\n\\t\\t#layout_conteudo {\\r\\n\\t\\t\\tpadding-left: 10px;\\r\\n\\t\\t\\tpadding-right: 2px;\\r\\n\\t\\t\\tpadding-top: 10px;\\r\\n\\t\\t\\tpadding-bottom: 20px;\\r\\n\\t\\t\\toverflow:auto;\\r\\n\\t\\t}\\r\\n\\t</style>\\r\\n\\t<![endif]-->\\r\\n<body>\\r\\n\\r\\n\\t<div id=\"layout_principal\">\\r\\n\\t\\t<div id=\"layout_cabecalho\">\\r\\n\\t\\t\\t<!DOCTYPE html PUBLIC \"-//W3C//DTD HTML 4.01 Transitional//EN\" \"http://www.w3.org/TR/html4/loose.dtd\">\\r\\n\\r\\n<style>\\r\\n\\ta.cabecalho_sair:active  {font-family:verdana; font-weight:bold; color:#FFFFFF; text-decoration:none;}\\r\\n\\ta.cabecalho_sair:link    {font-family:verdana; font-weight:bold; color:#FFFFFF; text-decoration:none;}\\r\\n\\ta.cabecalho_sair:visited {font-family:verdana; font-weight:bold; color:#FFFFFF; text-decoration:none;}\\r\\n\\ta.cabecalho_sair:hover   {font-family:verdana; font-weight:bold; color:#FFFFFF; text-decoration:underline;}\\r\\n\\r\\n\\ttd.font_cabecalho1 {\\r\\n\\t\\tfont:bold 26px Tahoma;\\r\\n\\t\\tcolor: #FFFFFF;\\r\\n\\t}\\r\\n\\ttd.font_cabecalho2 {\\r\\n\\t\\tfont:bold 10px Arial;\\r\\n\\t\\tcolor: #FFFFFF;\\r\\n\\t}\\r\\n\\ttd.font_cabecalho3 {\\r\\n\\t\\tfont:normal 9px Verdana;\\r\\n\\t\\tcolor: #FFFFFF;\\r\\n\\t}\\r\\n</style>\\r\\n\\r\\n<table width=\"100%\" height=\"60\" border=\"0\" cellpadding=\"0\" cellspacing=\"0\">\\r\\n\\t<tr>\\r\\n\\t\\t<td width=\"180\" rowspan=\"3\" align=\"center\">\\r\\n\\t\\t\\t<a href=\"http://www.usp.br\" target=\"_blank\"><img src=\"https://uspdigital.usp.br/comumwebdev/imagens/cabecalho/usp-logo.png\" width=\"122\" height=\"49\" alt=\"\" border=\"0\" style=\"position: relative; top: -3px;\" /></a>\\r\\n\\t\\t</td>\\r\\n\\t\\t<td>\\r\\n\\t\\t\\t<a href=\"http://www.usp.br\" target=\"_blank\"><img src=\"https://uspdigital.usp.br/comumwebdev/imagens/cabecalho/usp-logo-texto.png\" alt=\"\" width=\"260\" height=\"44\" border=\"0\" style=\"position: relative; top: 5px;\" /></a>\\r\\n\\t\\t</td>\\r\\n\\t</tr>\\r\\n</table>\\r\\n<div style=\"width: 100%; height: 14px; background-image: url(\\'https://uspdigital.usp.br/comumwebdev/imagens/cabecalho/bg-headtop.gif\\'); margin-bottom: 5px; text-align: right; color: white; padding-top: 12px; padding-right: 3px; font-family: Verdana; font-size: 10px;\">\\r\\n\\t\\r\\n</div>\\r\\n\\r\\n\\t\\t</div>\\r\\n\\r\\n\\t\\t<div id=\"layout_menu\">\\r\\n\\t\\t\\t<!DOCTYPE html PUBLIC \"-//W3C//DTD HTML 4.01 Transitional//EN\" \"http://www.w3.org/TR/html4/loose.dtd\">\\r\\n\\r\\n\\r\\n\\r\\n\\r\\n<!-- FreeStyle Menu v1.0RC by Angus Turnbull http://www.twinhelix.com -->\\r\\n<script type=\"text/javascript\"\\r\\n\\tsrc=\"https://uspdigital.usp.br/comumwebdev/libs/javascript/fsmenu/1.0RC/fsmenu.js\"></script>\\r\\n\\r\\n<!-- Demo CSS layouts for the list menu. Pick your favourite one and customise! -->\\r\\n<!-- Remove all but one and change \"alternate stylesheet\" to \"stylesheet\" to enable -->\\r\\n<link rel=\"stylesheet\" type=\"text/css\" id=\"listmenu-v\"\\r\\n\\thref=\"https://uspdigital.usp.br/comumwebdev/libs/javascript/fsmenu/1.0RC/listmenu_v.css\"\\r\\n\\ttitle=\"Vertical \\'Earth\\'\" />\\r\\n\\r\\n<!-- Fallback CSS menu file allows list menu operation when JS is disabled. -->\\r\\n<!-- This is automatically disabled via its ID when the script kicks in. -->\\r\\n<link rel=\"stylesheet\" type=\"text/css\" id=\"fsmenu-fallback\"\\r\\n\\thref=\"https://uspdigital.usp.br/comumwebdev/libs/javascript/fsmenu/1.0RC/listmenu_fallback.css\" />\\r\\n\\r\\n\\r\\n<script type=\"text/javascript\">\\r\\n\\t//<![CDATA[\\r\\n\\r\\n\\tvar arrow = null;\\r\\n\\tif (document.createElement && document.documentElement) {\\r\\n\\t\\t//arrow = document.createElement(\\'span\\');\\r\\n\\t\\t//arrow.appendChild(document.createTextNode(\\'>\\'));\\r\\n\\t\\t// Feel free to replace the above two lines with these for a small arrow image...\\r\\n\\t\\tarrow = document.createElement(\\'img\\');\\r\\n\\t\\tarrow.src = \\'https://uspdigital.usp.br/comumwebdev/imagens/icones/11/arrow_sub1.gif\\';\\r\\n\\t\\tarrow.style.borderWidth = \\'0\\';\\r\\n\\t\\tarrow.className = \\'subind\\';\\r\\n\\t}\\r\\n\\r\\n\\tif (\"[{codmnu=4525, codgrpweb=191, nomgrpweb=Público, stapai=S, stavrfnivseg=S, elmmnu=Calendário Escolar, nomobtweb=index.jsp, pmeobtweb=null, dscmnu=null, codmnupai=null, staabt=N, urlsie=null, numnivhie=1, linmnu=index.jsp?codmnu=4525}, {codmnu=7920, codgrpweb=191, nomgrpweb=Público, stapai=N, stavrfnivseg=S, elmmnu=2024, nomobtweb=jupArquivosPublicos.jsp, pmeobtweb=tiparq=8&anoprg=2024, dscmnu=null, codmnupai=4525, staabt=N, urlsie=null, numnivhie=2, linmnu=jupArquivosPublicos.jsp?tiparq=8&anoprg=2024&codmnu=7920}, {codmnu=6863, codgrpweb=191, nomgrpweb=Público, stapai=N, stavrfnivseg=S, elmmnu=2025, nomobtweb=jupArquivosPublicos.jsp, pmeobtweb=tiparq=9&anoprg=2025, dscmnu=null, codmnupai=4525, staabt=N, urlsie=null, numnivhie=2, linmnu=jupArquivosPublicos.jsp?tiparq=9&anoprg=2025&codmnu=6863}, {codmnu=8275, codgrpweb=191, nomgrpweb=Público, stapai=N, stavrfnivseg=S, elmmnu=Cursos de ingresso, nomobtweb=jupCarreira.jsp, pmeobtweb=null, dscmnu=null, codmnupai=null, staabt=N, urlsie=null, numnivhie=1, linmnu=jupCarreira.jsp?codmnu=8275}, {codmnu=4526, codgrpweb=191, nomgrpweb=Público, stapai=S, stavrfnivseg=S, elmmnu=Disciplina, nomobtweb=index.jsp, pmeobtweb=null, dscmnu=null, codmnupai=null, staabt=N, urlsie=null, numnivhie=1, linmnu=index.jsp?codmnu=4526}, {codmnu=6755, codgrpweb=191, nomgrpweb=Público, stapai=N, stavrfnivseg=S, elmmnu=Busca por Disciplinas, nomobtweb=jupDisciplinaBusca, pmeobtweb=tipo=D, dscmnu=null, codmnupai=4526, staabt=N, urlsie=null, numnivhie=2, linmnu=jupDisciplinaBusca?tipo=D&codmnu=6755}, {codmnu=6756, codgrpweb=191, nomgrpweb=Público, stapai=N, stavrfnivseg=S, elmmnu=Busca por Turmas, nomobtweb=jupDisciplinaBusca, pmeobtweb=tipo=T, dscmnu=null, codmnupai=4526, staabt=N, urlsie=null, numnivhie=2, linmnu=jupDisciplinaBusca?tipo=T&codmnu=6756}, {codmnu=6757, codgrpweb=191, nomgrpweb=Público, stapai=S, stavrfnivseg=S, elmmnu=Editais, nomobtweb=index.jsp, pmeobtweb=null, dscmnu=null, codmnupai=null, staabt=N, urlsie=null, numnivhie=1, linmnu=index.jsp?codmnu=6757}, {codmnu=6758, codgrpweb=191, nomgrpweb=Público, stapai=S, stavrfnivseg=S, elmmnu=Programa Unificado de Bolsas(PUB), nomobtweb=index.jsp, pmeobtweb=null, dscmnu=null, codmnupai=6757, staabt=N, urlsie=null, numnivhie=2, linmnu=index.jsp?codmnu=6758}, {codmnu=10872, codgrpweb=191, nomgrpweb=Público, stapai=N, stavrfnivseg=S, elmmnu=Edital 2023-2024, nomobtweb=https://uspdigital.usp.br/juno/bnfArquivosPublicos.jsp?tiparq=1&anoprg=2023&codm, pmeobtweb=null, dscmnu=null, codmnupai=6758, staabt=N, urlsie=null, numnivhie=3, linmnu=https://uspdigital.usp.br/juno/bnfArquivosPublicos.jsp?tiparq=1&anoprg=2023&codm?codmnu=10872}, {codmnu=11502, codgrpweb=191, nomgrpweb=Público, stapai=N, stavrfnivseg=S, elmmnu=Edital 2024-2025, nomobtweb=https://uspdigital.usp.br/juno/bnfArquivosPublicos.jsp?tiparq=1&anoprg=2024&codm, pmeobtweb=null, dscmnu=null, codmnupai=6758, staabt=N, urlsie=null, numnivhie=3, linmnu=https://uspdigital.usp.br/juno/bnfArquivosPublicos.jsp?tiparq=1&anoprg=2024&codm?codmnu=11502}, {codmnu=6762, codgrpweb=191, nomgrpweb=Público, stapai=N, stavrfnivseg=S, elmmnu=PEEG, nomobtweb=http://www.prg.usp.br/?page_id=399, pmeobtweb=null, dscmnu=null, codmnupai=6757, staabt=N, urlsie=null, numnivhie=2, linmnu=http://www.prg.usp.br/?page_id=399?codmnu=6762}, {codmnu=10838, codgrpweb=191, nomgrpweb=Público, stapai=N, stavrfnivseg=S, elmmnu=PAP, nomobtweb=https://prg.usp.br/programas-e-bolsas/, pmeobtweb=null, dscmnu=null, codmnupai=6757, staabt=N, urlsie=null, numnivhie=2, linmnu=https://prg.usp.br/programas-e-bolsas/?codmnu=10838}, {codmnu=7951, codgrpweb=191, nomgrpweb=Público, stapai=S, stavrfnivseg=S, elmmnu=FAQ, nomobtweb=index.jsp, pmeobtweb=null, dscmnu=null, codmnupai=null, staabt=N, urlsie=null, numnivhie=1, linmnu=index.jsp?codmnu=7951}, {codmnu=7952, codgrpweb=191, nomgrpweb=Público, stapai=S, stavrfnivseg=S, elmmnu=Matrícula Interativa, nomobtweb=FAQ.jsp, pmeobtweb=null, dscmnu=null, codmnupai=7951, staabt=N, urlsie=null, numnivhie=2, linmnu=FAQ.jsp?codmnu=7952}, {codmnu=9326, codgrpweb=191, nomgrpweb=Público, stapai=N, stavrfnivseg=S, elmmnu=FAQ, nomobtweb=FAQ.jsp, pmeobtweb=null, dscmnu=null, codmnupai=7952, staabt=N, urlsie=null, numnivhie=3, linmnu=FAQ.jsp?codmnu=9326}, {codmnu=9327, codgrpweb=191, nomgrpweb=Público, stapai=N, stavrfnivseg=S, elmmnu=Informações gerais, nomobtweb=grdMatriculainterativaInformacoes.jsp, pmeobtweb=null, dscmnu=null, codmnupai=7952, staabt=N, urlsie=null, numnivhie=3, linmnu=grdMatriculainterativaInformacoes.jsp?codmnu=9327}, {codmnu=8946, codgrpweb=191, nomgrpweb=Público, stapai=N, stavrfnivseg=S, elmmnu=TUTORIAL - NOVA MATRÍCULA, nomobtweb=graduacaoAjudaNovaMatricula, pmeobtweb=null, dscmnu=Liberar próximo da matricula, codmnupai=7952, staabt=N, urlsie=null, numnivhie=3, linmnu=graduacaoAjudaNovaMatricula?codmnu=8946}, {codmnu=6749, codgrpweb=191, nomgrpweb=Público, stapai=N, stavrfnivseg=S, elmmnu=Jupiterweb em Vídeos, nomobtweb=http://www.prg.usp.br/, pmeobtweb=p=20746, dscmnu=null, codmnupai=7951, staabt=N, urlsie=null, numnivhie=2, linmnu=http://www.prg.usp.br/?p=20746&codmnu=6749}, {codmnu=8063, codgrpweb=191, nomgrpweb=Público, stapai=N, stavrfnivseg=S, elmmnu=Informações gerais sobre a Graduação, nomobtweb=http://www.prg.usp.br/, pmeobtweb=p=20741, dscmnu=null, codmnupai=7951, staabt=N, urlsie=null, numnivhie=2, linmnu=http://www.prg.usp.br/?p=20741&codmnu=8063}]\" != null && \"[{codmnu=4525, codgrpweb=191, nomgrpweb=Público, stapai=S, stavrfnivseg=S, elmmnu=Calendário Escolar, nomobtweb=index.jsp, pmeobtweb=null, dscmnu=null, codmnupai=null, staabt=N, urlsie=null, numnivhie=1, linmnu=index.jsp?codmnu=4525}, {codmnu=7920, codgrpweb=191, nomgrpweb=Público, stapai=N, stavrfnivseg=S, elmmnu=2024, nomobtweb=jupArquivosPublicos.jsp, pmeobtweb=tiparq=8&anoprg=2024, dscmnu=null, codmnupai=4525, staabt=N, urlsie=null, numnivhie=2, linmnu=jupArquivosPublicos.jsp?tiparq=8&anoprg=2024&codmnu=7920}, {codmnu=6863, codgrpweb=191, nomgrpweb=Público, stapai=N, stavrfnivseg=S, elmmnu=2025, nomobtweb=jupArquivosPublicos.jsp, pmeobtweb=tiparq=9&anoprg=2025, dscmnu=null, codmnupai=4525, staabt=N, urlsie=null, numnivhie=2, linmnu=jupArquivosPublicos.jsp?tiparq=9&anoprg=2025&codmnu=6863}, {codmnu=8275, codgrpweb=191, nomgrpweb=Público, stapai=N, stavrfnivseg=S, elmmnu=Cursos de ingresso, nomobtweb=jupCarreira.jsp, pmeobtweb=null, dscmnu=null, codmnupai=null, staabt=N, urlsie=null, numnivhie=1, linmnu=jupCarreira.jsp?codmnu=8275}, {codmnu=4526, codgrpweb=191, nomgrpweb=Público, stapai=S, stavrfnivseg=S, elmmnu=Disciplina, nomobtweb=index.jsp, pmeobtweb=null, dscmnu=null, codmnupai=null, staabt=N, urlsie=null, numnivhie=1, linmnu=index.jsp?codmnu=4526}, {codmnu=6755, codgrpweb=191, nomgrpweb=Público, stapai=N, stavrfnivseg=S, elmmnu=Busca por Disciplinas, nomobtweb=jupDisciplinaBusca, pmeobtweb=tipo=D, dscmnu=null, codmnupai=4526, staabt=N, urlsie=null, numnivhie=2, linmnu=jupDisciplinaBusca?tipo=D&codmnu=6755}, {codmnu=6756, codgrpweb=191, nomgrpweb=Público, stapai=N, stavrfnivseg=S, elmmnu=Busca por Turmas, nomobtweb=jupDisciplinaBusca, pmeobtweb=tipo=T, dscmnu=null, codmnupai=4526, staabt=N, urlsie=null, numnivhie=2, linmnu=jupDisciplinaBusca?tipo=T&codmnu=6756}, {codmnu=6757, codgrpweb=191, nomgrpweb=Público, stapai=S, stavrfnivseg=S, elmmnu=Editais, nomobtweb=index.jsp, pmeobtweb=null, dscmnu=null, codmnupai=null, staabt=N, urlsie=null, numnivhie=1, linmnu=index.jsp?codmnu=6757}, {codmnu=6758, codgrpweb=191, nomgrpweb=Público, stapai=S, stavrfnivseg=S, elmmnu=Programa Unificado de Bolsas(PUB), nomobtweb=index.jsp, pmeobtweb=null, dscmnu=null, codmnupai=6757, staabt=N, urlsie=null, numnivhie=2, linmnu=index.jsp?codmnu=6758}, {codmnu=10872, codgrpweb=191, nomgrpweb=Público, stapai=N, stavrfnivseg=S, elmmnu=Edital 2023-2024, nomobtweb=https://uspdigital.usp.br/juno/bnfArquivosPublicos.jsp?tiparq=1&anoprg=2023&codm, pmeobtweb=null, dscmnu=null, codmnupai=6758, staabt=N, urlsie=null, numnivhie=3, linmnu=https://uspdigital.usp.br/juno/bnfArquivosPublicos.jsp?tiparq=1&anoprg=2023&codm?codmnu=10872}, {codmnu=11502, codgrpweb=191, nomgrpweb=Público, stapai=N, stavrfnivseg=S, elmmnu=Edital 2024-2025, nomobtweb=https://uspdigital.usp.br/juno/bnfArquivosPublicos.jsp?tiparq=1&anoprg=2024&codm, pmeobtweb=null, dscmnu=null, codmnupai=6758, staabt=N, urlsie=null, numnivhie=3, linmnu=https://uspdigital.usp.br/juno/bnfArquivosPublicos.jsp?tiparq=1&anoprg=2024&codm?codmnu=11502}, {codmnu=6762, codgrpweb=191, nomgrpweb=Público, stapai=N, stavrfnivseg=S, elmmnu=PEEG, nomobtweb=http://www.prg.usp.br/?page_id=399, pmeobtweb=null, dscmnu=null, codmnupai=6757, staabt=N, urlsie=null, numnivhie=2, linmnu=http://www.prg.usp.br/?page_id=399?codmnu=6762}, {codmnu=10838, codgrpweb=191, nomgrpweb=Público, stapai=N, stavrfnivseg=S, elmmnu=PAP, nomobtweb=https://prg.usp.br/programas-e-bolsas/, pmeobtweb=null, dscmnu=null, codmnupai=6757, staabt=N, urlsie=null, numnivhie=2, linmnu=https://prg.usp.br/programas-e-bolsas/?codmnu=10838}, {codmnu=7951, codgrpweb=191, nomgrpweb=Público, stapai=S, stavrfnivseg=S, elmmnu=FAQ, nomobtweb=index.jsp, pmeobtweb=null, dscmnu=null, codmnupai=null, staabt=N, urlsie=null, numnivhie=1, linmnu=index.jsp?codmnu=7951}, {codmnu=7952, codgrpweb=191, nomgrpweb=Público, stapai=S, stavrfnivseg=S, elmmnu=Matrícula Interativa, nomobtweb=FAQ.jsp, pmeobtweb=null, dscmnu=null, codmnupai=7951, staabt=N, urlsie=null, numnivhie=2, linmnu=FAQ.jsp?codmnu=7952}, {codmnu=9326, codgrpweb=191, nomgrpweb=Público, stapai=N, stavrfnivseg=S, elmmnu=FAQ, nomobtweb=FAQ.jsp, pmeobtweb=null, dscmnu=null, codmnupai=7952, staabt=N, urlsie=null, numnivhie=3, linmnu=FAQ.jsp?codmnu=9326}, {codmnu=9327, codgrpweb=191, nomgrpweb=Público, stapai=N, stavrfnivseg=S, elmmnu=Informações gerais, nomobtweb=grdMatriculainterativaInformacoes.jsp, pmeobtweb=null, dscmnu=null, codmnupai=7952, staabt=N, urlsie=null, numnivhie=3, linmnu=grdMatriculainterativaInformacoes.jsp?codmnu=9327}, {codmnu=8946, codgrpweb=191, nomgrpweb=Público, stapai=N, stavrfnivseg=S, elmmnu=TUTORIAL - NOVA MATRÍCULA, nomobtweb=graduacaoAjudaNovaMatricula, pmeobtweb=null, dscmnu=Liberar próximo da matricula, codmnupai=7952, staabt=N, urlsie=null, numnivhie=3, linmnu=graduacaoAjudaNovaMatricula?codmnu=8946}, {codmnu=6749, codgrpweb=191, nomgrpweb=Público, stapai=N, stavrfnivseg=S, elmmnu=Jupiterweb em Vídeos, nomobtweb=http://www.prg.usp.br/, pmeobtweb=p=20746, dscmnu=null, codmnupai=7951, staabt=N, urlsie=null, numnivhie=2, linmnu=http://www.prg.usp.br/?p=20746&codmnu=6749}, {codmnu=8063, codgrpweb=191, nomgrpweb=Público, stapai=N, stavrfnivseg=S, elmmnu=Informações gerais sobre a Graduação, nomobtweb=http://www.prg.usp.br/, pmeobtweb=p=20741, dscmnu=null, codmnupai=7951, staabt=N, urlsie=null, numnivhie=2, linmnu=http://www.prg.usp.br/?p=20741&codmnu=8063}]\" != \\'\\') {\\r\\n\\t\\t// Here\\'s a menu object to control the above list of menu data:\\r\\n\\t\\tvar listMenu = new FSMenu(\\'listMenu\\', true, \\'display\\', \\'block\\', \\'none\\');\\r\\n\\t\\tlistMenu.hideDelay = 800;\\r\\n\\t\\t//listMenu.showDelay = 0;\\r\\n\\t\\t//listMenu.switchDelay = 125;\\r\\n\\t\\t//listMenu.cssLitClass = \\'highlighted\\';\\r\\n\\t\\t//listMenu.showOnClick = 0;\\r\\n\\t\\tlistMenu.hideOnClick = true;\\r\\n\\t\\tlistMenu.animInSpeed = 0.5;\\r\\n\\t\\tlistMenu.animOutSpeed = 0.5;\\r\\n\\t\\tlistMenu.animations[listMenu.animations.length] = FSMenu.animFade;\\r\\n\\t\\tlistMenu.animations[listMenu.animations.length] = FSMenu.animSwipeDown;\\r\\n\\t\\taddReadyEvent(new Function(\\r\\n\\t\\t\\t\\t\\'listMenu.activateMenu(\"listMenuRoot\", arrow)\\'));\\r\\n\\t}\\r\\n\\r\\n\\tif (\"false\" != \"false\") {\\r\\n\\t\\tvar listMenu2 = new FSMenu(\\'listMenu2\\', true, \\'display\\', \\'block\\',\\r\\n\\t\\t\\t\\t\\'none\\');\\r\\n\\t\\tlistMenu2.hideDelay = 800;\\r\\n\\t\\tlistMenu2.hideOnClick = true;\\r\\n\\t\\tlistMenu2.animInSpeed = 0.5;\\r\\n\\t\\tlistMenu2.animOutSpeed = 0.5;\\r\\n\\t\\tlistMenu2.animations[listMenu2.animations.length] = FSMenu.animFade;\\r\\n\\t\\tlistMenu2.animations[listMenu2.animations.length] = FSMenu.animSwipeDown;\\r\\n\\t\\taddReadyEvent(new Function(\\r\\n\\t\\t\\t\\t\\'listMenu2.activateMenu(\"listMenuRoot2\", arrow)\\'));\\r\\n\\t} else {\\r\\n\\t\\tvar listMenu3 = new FSMenu(\\'listMenu3\\', true, \\'display\\', \\'block\\',\\r\\n\\t\\t\\t\\t\\'none\\');\\r\\n\\t\\tlistMenu3.hideDelay = 800;\\r\\n\\t\\tlistMenu3.hideOnClick = true;\\r\\n\\t\\tlistMenu3.animInSpeed = 0.5;\\r\\n\\t\\tlistMenu3.animOutSpeed = 0.5;\\r\\n\\t\\tlistMenu3.animations[listMenu3.animations.length] = FSMenu.animFade;\\r\\n\\t\\tlistMenu3.animations[listMenu3.animations.length] = FSMenu.animSwipeDown;\\r\\n\\t\\taddReadyEvent(new Function(\\r\\n\\t\\t\\t\\t\\'listMenu3.activateMenu(\"listMenuRoot3\", arrow)\\'));\\r\\n\\t}\\r\\n\\t//]]>\\r\\n</script>\\r\\n\\r\\n<!-- PUBLICO -->\\r\\n\\r\\n\\t\\r\\n\\t<ul class=\"menulist\" id=\"listMenuRoot\">\\r\\n\\t\\t\\r\\n\\t\\t\\t\\r\\n\\t\\t\\t\\t<li class=\"menuHeader\">Público</li>\\r\\n\\t\\t\\t\\r\\n\\t\\t\\t\\r\\n\\r\\n\\r\\n\\t<li><a href=\\'#\\' title=\\'\\'><span>Calendário Escolar</span></a>\\r\\n\\t\\t<ul>\\r\\n\\r\\n\\r\\n\\r\\n\\r\\n\\t\\t\\t\\r\\n\\t\\t\\t\\r\\n\\r\\n\\t<li><a href=\\'jupArquivosPublicos.jsp?tiparq=8&amp;anoprg=2024&amp;codmnu=7920\\'\\r\\n\\t\\ttitle=\\'\\'>2024</a></li>\\r\\n\\r\\n\\r\\n\\r\\n\\r\\n\\r\\n\\t\\t\\t\\r\\n\\t\\t\\t\\r\\n\\r\\n\\t<li><a href=\\'jupArquivosPublicos.jsp?tiparq=9&amp;anoprg=2025&amp;codmnu=6863\\'\\r\\n\\t\\ttitle=\\'\\'>2025</a></li>\\r\\n\\r\\n\\r\\n\\r\\n\\r\\n\\r\\n\\t\\t\\t\\r\\n\\t\\t\\t\\r\\n\\t\\t\\t\\t\\r\\n\\t</ul>\\r\\n\\t</li>\\r\\n\\t\\r\\n\\r\\n\\r\\n\\t<li><a href=\\'jupCarreira.jsp?codmnu=8275\\'\\r\\n\\t\\ttitle=\\'\\'>Cursos de ingresso</a></li>\\r\\n\\r\\n\\r\\n\\r\\n\\r\\n\\r\\n\\t\\t\\t\\r\\n\\t\\t\\t\\r\\n\\r\\n\\r\\n\\t<li><a href=\\'#\\' title=\\'\\'><span>Disciplina</span></a>\\r\\n\\t\\t<ul>\\r\\n\\r\\n\\r\\n\\r\\n\\r\\n\\t\\t\\t\\r\\n\\t\\t\\t\\r\\n\\r\\n\\t<li><a href=\\'jupDisciplinaBusca?tipo=D&amp;codmnu=6755\\'\\r\\n\\t\\ttitle=\\'\\'>Busca por Disciplinas</a></li>\\r\\n\\r\\n\\r\\n\\r\\n\\r\\n\\r\\n\\t\\t\\t\\r\\n\\t\\t\\t\\r\\n\\r\\n\\t<li><a href=\\'jupDisciplinaBusca?tipo=T&amp;codmnu=6756\\'\\r\\n\\t\\ttitle=\\'\\'>Busca por Turmas</a></li>\\r\\n\\r\\n\\r\\n\\r\\n\\r\\n\\r\\n\\t\\t\\t\\r\\n\\t\\t\\t\\r\\n\\t\\t\\t\\t\\r\\n\\t</ul>\\r\\n\\t</li>\\r\\n\\t\\r\\n\\r\\n\\r\\n\\r\\n\\t<li><a href=\\'#\\' title=\\'\\'><span>Editais</span></a>\\r\\n\\t\\t<ul>\\r\\n\\r\\n\\r\\n\\r\\n\\r\\n\\t\\t\\t\\r\\n\\t\\t\\t\\r\\n\\r\\n\\r\\n\\t<li><a href=\\'#\\' title=\\'\\'><span>Programa Unificado de Bolsas(PUB)</span></a>\\r\\n\\t\\t<ul>\\r\\n\\r\\n\\r\\n\\r\\n\\r\\n\\t\\t\\t\\r\\n\\t\\t\\t\\r\\n\\r\\n\\t<li><a href=\\'https://uspdigital.usp.br/juno/bnfArquivosPublicos.jsp?tiparq=1&amp;anoprg=2023&amp;codm?codmnu=10872\\'\\r\\n\\t\\ttitle=\\'\\'>Edital 2023-2024</a></li>\\r\\n\\r\\n\\r\\n\\r\\n\\r\\n\\r\\n\\t\\t\\t\\r\\n\\t\\t\\t\\r\\n\\r\\n\\t<li><a href=\\'https://uspdigital.usp.br/juno/bnfArquivosPublicos.jsp?tiparq=1&amp;anoprg=2024&amp;codm?codmnu=11502\\'\\r\\n\\t\\ttitle=\\'\\'>Edital 2024-2025</a></li>\\r\\n\\r\\n\\r\\n\\r\\n\\r\\n\\r\\n\\t\\t\\t\\r\\n\\t\\t\\t\\r\\n\\t\\t\\t\\t\\r\\n\\t</ul>\\r\\n\\t</li>\\r\\n\\t\\r\\n\\r\\n\\r\\n\\t<li><a href=\\'http://www.prg.usp.br/?page_id=399?codmnu=6762\\'\\r\\n\\t\\ttitle=\\'\\'>PEEG</a></li>\\r\\n\\r\\n\\r\\n\\r\\n\\r\\n\\r\\n\\t\\t\\t\\r\\n\\t\\t\\t\\r\\n\\r\\n\\t<li><a href=\\'https://prg.usp.br/programas-e-bolsas/?codmnu=10838\\'\\r\\n\\t\\ttitle=\\'\\'>PAP</a></li>\\r\\n\\r\\n\\r\\n\\r\\n\\r\\n\\r\\n\\t\\t\\t\\r\\n\\t\\t\\t\\r\\n\\t\\t\\t\\t\\r\\n\\t</ul>\\r\\n\\t</li>\\r\\n\\t\\r\\n\\r\\n\\r\\n\\r\\n\\t<li><a href=\\'#\\' title=\\'\\'><span>FAQ</span></a>\\r\\n\\t\\t<ul>\\r\\n\\r\\n\\r\\n\\r\\n\\r\\n\\t\\t\\t\\r\\n\\t\\t\\t\\r\\n\\r\\n\\r\\n\\t<li><a href=\\'#\\' title=\\'\\'><span>Matrícula Interativa</span></a>\\r\\n\\t\\t<ul>\\r\\n\\r\\n\\r\\n\\r\\n\\r\\n\\t\\t\\t\\r\\n\\t\\t\\t\\r\\n\\r\\n\\t<li><a href=\\'FAQ.jsp?codmnu=9326\\'\\r\\n\\t\\ttitle=\\'\\'>FAQ</a></li>\\r\\n\\r\\n\\r\\n\\r\\n\\r\\n\\r\\n\\t\\t\\t\\r\\n\\t\\t\\t\\r\\n\\r\\n\\t<li><a href=\\'grdMatriculainterativaInformacoes.jsp?codmnu=9327\\'\\r\\n\\t\\ttitle=\\'\\'>Informações gerais</a></li>\\r\\n\\r\\n\\r\\n\\r\\n\\r\\n\\r\\n\\t\\t\\t\\r\\n\\t\\t\\t\\r\\n\\r\\n\\t<li><a href=\\'graduacaoAjudaNovaMatricula?codmnu=8946\\'\\r\\n\\t\\ttitle=\\'Liberar próximo da matricula\\'>TUTORIAL - NOVA MATRÍCULA</a></li>\\r\\n\\r\\n\\r\\n\\r\\n\\r\\n\\r\\n\\t\\t\\t\\r\\n\\t\\t\\t\\r\\n\\t\\t\\t\\t\\r\\n\\t</ul>\\r\\n\\t</li>\\r\\n\\t\\r\\n\\r\\n\\r\\n\\t<li><a href=\\'http://www.prg.usp.br/?p=20746&amp;codmnu=6749\\'\\r\\n\\t\\ttitle=\\'\\'>Jupiterweb em Vídeos</a></li>\\r\\n\\r\\n\\r\\n\\r\\n\\r\\n\\r\\n\\t\\t\\t\\r\\n\\t\\t\\t\\r\\n\\r\\n\\t<li><a href=\\'http://www.prg.usp.br/?p=20741&amp;codmnu=8063\\'\\r\\n\\t\\ttitle=\\'\\'>Informações gerais sobre a Graduação</a></li>\\r\\n\\r\\n\\r\\n\\r\\n\\t\\r\\n\\t\\t</ul>\\r\\n\\t\\t</li>\\r\\n\\t\\r\\n\\t\\t</ul>\\r\\n\\t\\t</li>\\r\\n\\t\\r\\n\\r\\n\\r\\n\\r\\n</ul>\\r\\n<div style=\"font-size: 7px\">&nbsp;</div>\\r\\n\\r\\n\\r\\n<!-- NAO AUTENTICADO -->\\r\\n\\r\\n\\t<ul class=\"menulist\" id=\"listMenuRoot3\">\\r\\n\\t\\t<li class=\"menuHeader\">Acesso Restrito</li>\\r\\n\\t\\t<li><a href=\\'webLogin.jsp\\'>Entrar</a></li>\\r\\n\\t\\t<li><a href=\\'esqueciSenha\\'>Esqueci a Senha</a></li>\\r\\n\\t\\t<li><a href=\\'primeiroAcesso\\'>Primeiro Acesso</a></li>\\r\\n\\t</ul>\\r\\n\\t<div style=\"font-size: 7px\">&nbsp;</div>\\r\\n\\r\\n\\r\\n<!-- AUTENTICADO -->\\r\\n\\r\\n<br>\\r\\n<br>\\r\\n<br>\\r\\n<br>\\r\\n<br>\\r\\n<br>\\r\\n<br>\\r\\n<br>\\r\\n<br>\\r\\n<br>\\r\\n<br>\\r\\n<br>\\r\\n<br>\\r\\n<br>\\r\\n\\t\\t</div>\\r\\n\\r\\n\\t\\t<div id=\"layout_conteudo\">\\r\\n\\t\\t\\t\\r\\n\\r\\n\\t\\t\\t\\r\\n\\r\\n\\t\\t\\t\\r\\n\\t\\t\\t\\r\\n\\t\\t\\t\\t\\r\\n\\t\\t\\t\\r\\n\\r\\n\\t\\t\\t\\r\\n\\t\\t\\t\\t\\r\\n\\r\\n<html>\\r\\n <style>\\r\\n      pre {\\r\\n        overflow-x: auto;\\r\\n        white-space: pre-wrap;\\r\\n        white-space: -moz-pre-wrap;\\r\\n        white-space: -pre-wrap;\\r\\n        white-space: -o-pre-wrap;\\r\\n        word-wrap: break-word;\\r\\n      }\\r\\n    </style>\\r\\n<head>\\r\\n<title></title>\\r\\n\\r\\n</head>\\r\\n<body>\\r\\n<!-- cabecalho\\r\\n -->\\r\\n\\r\\n<head>\\r\\n<title></title>\\r\\n<meta http-equiv=\"Content-Type\" content=\"text/html; charset=iso-8859-1\">\\r\\n\\r\\n\\r\\n\\r\\n\\r\\n\\r\\n<link type=\"text/css\" rel=\"stylesheet\" href=\"https://uspdigital.usp.br/comumwebdev/libs/usp/util/1.0/util.css\"/>\\r\\n<link type=\"text/css\" rel=\"stylesheet\" href=\"https://uspdigital.usp.br/comumwebdev/libs/jqueryui/1.8.24/temas/ui-lightness/jquery-ui.css\"/>\\r\\n<link type=\"text/css\" rel=\"stylesheet\" href=\"https://uspdigital.usp.br/comumwebdev/libs/jquery/plugins/validationEngine/2.6.2/jquery.validationEngine.css\"/>\\r\\n<link type=\"text/css\" rel=\"stylesheet\" href=\"https://uspdigital.usp.br/comumwebdev/libs/jquery/plugins/jqGrid/4.4.3/ui.jqgrid.css\"/>\\r\\n<link type=\"text/css\" rel=\"stylesheet\" href=\"https://uspdigital.usp.br/comumwebdev/libs/jquery/plugins/fancybox/1.3.4/jquery.fancybox.css\"/>\\r\\n<link type=\"text/css\" rel=\"stylesheet\" href=\"https://uspdigital.usp.br/comumwebdev/libs/jquery/plugins/maxlength/2.0.1/jquery.maxlength.css\"/>\\r\\n<link type=\"text/css\" rel=\"stylesheet\" href=\"/jupiterweb/css/jupiterweb.css\" >\\r\\n<link type=\"text/css\" rel=\"stylesheet\" href=\"/jupiterweb/css/comum.css\" >\\r\\n<!DOCTYPE html PUBLIC \"-//W3C//DTD HTML 4.01 Transitional//EN\" \"http://www.w3.org/TR/html4/loose.dtd\">\\r\\n\\r\\n<!-- HTML 5 Tags para IE8 -->\\r\\n<!--[if lt IE 9]>\\r\\n\\t   <script>\\r\\n\\t      document.createElement(\\'header\\');\\r\\n\\t      document.createElement(\\'nav\\');\\r\\n\\t      document.createElement(\\'section\\');\\r\\n\\t      document.createElement(\\'article\\');\\r\\n\\t      document.createElement(\\'aside\\');\\r\\n\\t      document.createElement(\\'footer\\');\\r\\n\\t   </script>\\r\\n\\t<![endif]-->\\r\\n\\t\\r\\n<script type=\\'text/javascript\\' src=\"usp-ga.js\"></script>\\r\\n<script type=\\'text/javascript\\'\\r\\n\\tsrc=\\'https://uspdigital.usp.br/comumwebdev/libs/jquery/1.7.2/jquery.min.js\\'></script>\\r\\n<script type=\\'text/javascript\\'\\r\\n\\tsrc=\\'https://uspdigital.usp.br/comumwebdev/libs/jqueryui/1.8.24/jquery-ui.min.js\\'></script>\\r\\n<script type=\"text/javascript\"\\r\\n\\tsrc=\"https://uspdigital.usp.br/comumwebdev/libs/jqueryui/1.8.24/jquery.ui.datepicker-pt-BR.min.js\"></script>\\r\\n<script type=\\'text/javascript\\'\\r\\n\\tsrc=\\'https://uspdigital.usp.br/comumwebdev/libs/jquery/plugins/blockUI/2.36/jquery.blockUI.js\\'></script>\\r\\n<script type=\\'text/javascript\\'\\r\\n\\tsrc=\\'https://uspdigital.usp.br/comumwebdev/libs/jquery/plugins/fancybox/1.3.4/jquery.fancybox.js\\'></script>\\r\\n<script type=\"text/javascript\"\\r\\n\\tsrc=\"https://uspdigital.usp.br/comumwebdev/libs/jquery/plugins/fancybox/1.3.4/jquery.mousewheel.min.js\"></script>\\r\\n<script type=\\'text/javascript\\'\\r\\n\\tsrc=\\'https://uspdigital.usp.br/comumwebdev/libs/jquery/plugins/validationEngine/2.6.2/jquery.validationEngine.js\\'></script>\\r\\n<script type=\\'text/javascript\\'\\r\\n\\tsrc=\\'https://uspdigital.usp.br/comumwebdev/libs/jquery/plugins/validationEngine/2.6.2/jquery.validationEngine-pt.js\\'></script>\\r\\n<script type=\\'text/javascript\\'\\r\\n\\tsrc=\\'https://uspdigital.usp.br/comumwebdev/libs/jquery/plugins/jqGrid/4.4.3/jquery.jqGrid.min.js\\'></script>\\r\\n<script type=\\'text/javascript\\'\\r\\n\\tsrc=\\'https://uspdigital.usp.br/comumwebdev/libs/jquery/plugins/jqGrid/4.4.3/grid.locale-pt-br.js\\'></script>\\r\\n<script type=\\'text/javascript\\'\\r\\n\\tsrc=\\'https://uspdigital.usp.br/comumwebdev/libs/jquery/plugins/simplemodal/1.4.4/jquery.simplemodal.js\\'></script>\\r\\n<script type=\\'text/javascript\\'\\r\\n\\tsrc=\\'https://uspdigital.usp.br/comumwebdev/libs/jquery/plugins/exists/0.1/jquery.exists.js\\'></script>\\r\\n<script type=\\'text/javascript\\'\\r\\n\\tsrc=\\'https://uspdigital.usp.br/comumwebdev/libs/jquery/plugins/maskedInput/1.2.2/jquery.maskedinput.js\\'></script>\\r\\n<script type=\\'text/javascript\\'\\r\\n\\tsrc=\\'https://uspdigital.usp.br/comumwebdev/libs/jquery/plugins/maxlength/2.0.1/jquery.plugin.min.js\\'></script>\\r\\n<script type=\\'text/javascript\\'\\r\\n\\tsrc=\\'https://uspdigital.usp.br/comumwebdev/libs/jquery/plugins/maxlength/2.0.1/jquery.maxlength.min.js\\'></script>\\r\\n<script type=\"text/javascript\"\\r\\n\\tsrc=\"https://uspdigital.usp.br/comumwebdev/libs/javascript/ckeditor/4.4.7/ckeditor.js\"></script>\\r\\n<script type=\"text/javascript\"\\r\\n\\tsrc=\"https://uspdigital.usp.br/comumwebdev/libs/javascript/ckeditor/4.4.7/adapters/jquery.js\"></script>\\r\\n<script type=\"text/javascript\"\\r\\n\\tsrc=\"https://uspdigital.usp.br/comumwebdev/libs/usp/util/1.0/util.js\"></script>\\r\\n<script type=\"text/javascript\"\\r\\n\\tsrc=\"https://uspdigital.usp.br/comumwebdev/libs/messages/1.3.0-0/messages.min.js\"></script>\\r\\n<script type=\\'text/javascript\\' src=\"/jupiterweb/dwr/engine.js\"></script>\\r\\n<script type=\\'text/javascript\\' src=\"/jupiterweb/dwr/util.js\"></script>\\r\\n<script type=\\'text/javascript\\' src=\"/jupiterweb/javascript/usp-exception-dwr.js\"></script>\\r\\n<script type=\\'text/javascript\\' src=\"/jupiterweb/javascript/comum.js\"></script>\\r\\n<script type=\\'text/javascript\\' src=\"/jupiterweb/javascript/jupiterweb.js\"></script>\\r\\n\\r\\n<script async src=\"https://www.googletagmanager.com/gtag/js?id=G-K1Y204Q919\"></script>\\r\\n<script src=\"usp-ga4.js\"></script>\\r\\n\\r\\n<STYLE>\\r\\n#simplemodal-container a.modalCloseImg {\\r\\n\\tbackground:\\r\\n\\t\\turl(images/jquery/jquery.simple.modal/x.png)\\r\\n\\t\\tno-repeat; /* adjust url as required */\\r\\n}\\r\\n</STYLE>\\r\\n\\r\\n\\r\\n\\r\\n<style>\\r\\na.link_cabecalho:active {\\r\\n\\tfont-family: verdana;\\r\\n\\tfont-size: 10px;\\r\\n\\tcolor: olive;\\r\\n\\ttext-decoration: none\\r\\n}\\r\\n\\r\\na.link_cabecalho:link {\\r\\n\\tfont-family: verdana;\\r\\n\\tfont-size: 10px;\\r\\n\\tcolor: olive;\\r\\n\\ttext-decoration: none\\r\\n}\\r\\n\\r\\na.link_cabecalho:visited {\\r\\n\\tfont-family: verdana;\\r\\n\\tfont-size: 10px;\\r\\n\\tcolor: olive;\\r\\n\\ttext-decoration: none\\r\\n}\\r\\n\\r\\na.link_cabecalho:hover {\\r\\n\\tfont-family: verdana;\\r\\n\\tfont-size: 10px;\\r\\n\\tcolor: gray;\\r\\n\\ttext-decoration: underline\\r\\n}\\r\\n\\r\\n#my_web_cabecalho {\\r\\n\\tfont-family: Verdana, Geneva, Arial, Helvetica, sans-serif;\\r\\n\\tfont-size: 10px;\\r\\n\\ttext-align: left;\\r\\n\\twidth: 90%;\\r\\n\\tborder-bottom: solid;\\r\\n\\tborder-bottom-width: thin;\\r\\n\\tborder-bottom-color: #666666;\\r\\n\\tpadding-bottom: 4px;\\r\\n\\tmargin-bottom: 4px;\\r\\n}\\r\\n\\r\\n#my_web_cabecalho_descricao {\\r\\n\\tfont-family: Verdana, Geneva, Arial, Helvetica, sans-serif;\\r\\n\\tfont-size: 10px;\\r\\n\\tpadding-bottom: 10px;\\r\\n}\\r\\n</style>\\r\\n</head>\\r\\n\\r\\n\\r\\n\\t\\r\\n\\r\\n\\r\\n<div id=\"my_web_cabecalho\">\\r\\n\\tInforma&ccedil;&otilde;es da Disciplina\\r\\n</div>\\r\\n\\r\\n\\t<!DOCTYPE html PUBLIC \"-//W3C//DTD HTML 4.01 Transitional//EN\" \"http://www.w3.org/TR/html4/loose.dtd\">\\r\\n\\r\\n\\r\\n\\r\\n\\r\\n\\r\\n\\r\\n\\r\\n\\t<br>\\r\\n \\r\\n<table width=\"100%\" cellpadding=\"0\" cellspacing=\"0\">\\r\\n\\t<tr>\\r\\n\\t\\t<td>\\r\\n\\t\\t\\t<!-- operacoes -->\\r\\n\\t\\t\\t\\r\\n\\t\\t</td>\\r\\n\\t</tr>\\r\\n\\t<!-- titulos da pagina -->\\r\\n\\t<tr>\\r\\n\\t\\t<td>\\r\\n\\t\\t\\t\\r\\n\\t\\t</td>\\r\\n\\t</tr>\\r\\n\\t<!-- navegacao -->\\r\\n\\t<tr>\\r\\n\\t\\t<td>\\r\\n\\t\\t\\t\\r\\n\\t\\t</td>\\r\\n\\t</tr>\\r\\n\\t<tr>\\r\\n\\t\\t<td>\\r\\n\\t\\t\\t<form name=\"form1\" method=\"GET\" action=\"\">\\r\\n\\t\\t\\t<table width=\"100%\" border=\"0\">\\r\\n\\t\\t\\t\\t<tr>\\r\\n\\t\\t\\t\\t\\t<td> \\r\\n\\t\\t\\t\\t\\t\\t<!-- tabela\\r\\n\\t\\t\\t\\t\\t \\t--> \\r\\n\\r\\n\\r\\n\\r\\n\\r\\n<script language=\"Javascript\">\\r\\nfunction OpenWindowToPrint() {\\r\\n\\tvar mylink;\\r\\n\\t\\r\\n\\tif(\\'default\\' == \\'default\\'){\\r\\n\\t\\tmylink = document.location.href;\\r\\n\\t} else {\\r\\n\\t\\tmylink = \\'default\\';\\r\\n\\t}\\r\\n\\t\\r\\n\\tif(mylink.indexOf(\"?\") > 0){\\r\\n\\t\\tmylink += \"&\";\\r\\n\\t} else {\\r\\n\\t\\tmylink += \"?\";\\r\\n\\t}\\r\\n\\t\\r\\n\\tmylink += \"print=true\";\\r\\n\\t\\r\\n\\twindow.open(mylink , \"_blank\", \"toolbar=no,location=no,directories=no,status=no,menubar=yes,titlebar=yes,scrollbars=yes,resizable=yes\");\\r\\n}\\r\\n</script>\\r\\n\\r\\n<table width=\"538\" border=\"0\" cellpadding=\"1\" cellspacing=\"1\" align=\"center\">\\r\\n  \\r\\n  <tr> \\r\\n    <td align=\"right\">\\r\\n\\t<a href=\"javascript:OpenWindowToPrint()\" class=\"mail_footer\"><img src=\"images/print_edit.gif\" width=\"16\" height=\"16\" border=\"0\">\\r\\n\\t<font face=\"Arial, Helvetica, sans-serif\" size=\"1\" color=\"#666666\">&nbsp;Preparar para impressão&nbsp;</font>\\r\\n\\t</a>\\r\\n\\t</td>\\r\\n  </tr>\\r\\n  \\r\\n</table>\\r\\n\\r\\n \\r\\n\\r\\n<table>\\r\\n  <tr> \\r\\n    <td> \\r\\n      <div align=\"left\"><img src=\"https://uspdigital.usp.br/comumwebdev/imagens/logos/BrasaoUSP.gif\" style=\"height: 80px;\"></div>\\r\\n    </td>\\r\\n    <td style=\"vertical-align: middle;\">\\r\\n\\t\\t<h2 style=\"margin-left: 1em; display: inline-block; white-space: nowrap; font-size: medium\" class=\"txt_verdana_10pt_black\">\\r\\n\\t\\t\\tJ&uacute;piter - Sistema de Gest&atilde;o Acad&ecirc;mica da Pr&oacute;-Reitoria de Gradua&ccedil;&atilde;o</b></span></font></div>\\r\\n\\t\\t</h2>\\r\\n    </td>\\r\\n  </tr>\\r\\n</table>\\r\\n<BR>\\t\\t\\t\\t\\t\\t\\r\\n \\r\\n \\r\\n \\r\\n \\r\\n   \\r\\n\\r\\n    <table cellspacing=0 cellpadding=0 border=0 align=\"center\" width=\"100%\" bgcolor=\"#FFFFFF\">\\r\\n      <tr VALIGN=\"TOP\" ALIGN=\"LEFT\"> \\r\\n      <td ALIGN=\"CENTER\"><b><font face=\"Verdana, Arial, Helvetica, sans-serif\" size=\"2\" color=\"#000000\"><span class=\"txt_arial_10pt_black\"> \\r\\n\\t    Faculdade de Ciências Farmacêuticas de Ribeirão Preto</span></font></b></td>\\r\\n    </tr>\\r\\n    <tr>\\r\\n      <td>&nbsp;</td>\\r\\n    </tr>\\r\\n    <tr VALIGN=\"TOP\" ALIGN=\"LEFT\"> \\r\\n      <td ALIGN=\"CENTER\"><b><font face=\"Verdana, Arial, Helvetica, sans-serif\" size=\"2\" color=\"#000000\"><span class=\"txt_arial_10pt_black\"> \\r\\n\\t    Disciplinas Interdepartamentais da FCFRP</span></font></b></td>\\r\\n    </tr>\\r\\n    <tr>\\r\\n      <td>&nbsp;</td>\\r\\n    </tr>\\r\\n\\r\\n    <tr VALIGN=\"TOP\" ALIGN=\"LEFT\"> \\r\\n      <td ALIGN=\"CENTER\"><font face=\"Verdana, Arial, Helvetica, sans-serif\" size=\"2\" color=\"#000000\"><span class=\"txt_arial_10pt_black\"> \\r\\n        <b>Disciplina: CGF2022 - Bioestatística I</b></span></font>\\r\\n\\t\\t</td>\\r\\n    </tr>\\r\\n\\t\\r\\n\\t<tr VALIGN=\"TOP\" ALIGN=\"LEFT\"> \\r\\n      <td ALIGN=\"CENTER\"><font face=\"Verdana, Arial, Helvetica, sans-serif\" size=\"2\" color=\"#000000\"><span class=\"txt_arial_10pt_black\"> \\r\\n         Biostatistics I </span></font>\\r\\n\\t\\t</td>\\r\\n    </tr>\\r\\n\\t\\r\\n</table>\\r\\n  <BR>\\r\\n  <table BORDER=\"0\" CELLSPACING=\"0\" CELLPADDING=\"3\">  \\r\\n  \\r\\n    <tr VALIGN=\"TOP\" ALIGN=\"LEFT\"> \\r\\n      <td><font face=\"Verdana, Arial, Helvetica, sans-serif\" size=\"1\" color=\"#000000\"><span class=\"txt_arial_8pt_black\"> \\r\\n        <b>Cr&eacute;ditos Aula:</b></span></font></td>\\r\\n      <td><font face=\"Verdana, Arial, Helvetica, sans-serif\" size=\"1\" color=\"#666666\"><span class=\"txt_arial_8pt_gray\"> \\r\\n        2\\r\\n\\t\\t</span></font></td>\\r\\n    </tr>\\r\\n    <tr VALIGN=\"TOP\" ALIGN=\"LEFT\"> \\r\\n      <td><b><font face=\"Verdana, Arial, Helvetica, sans-serif\" size=\"1\" color=\"#000000\"><span class=\"txt_arial_8pt_black\"> \\r\\n        Cr&eacute;ditos Trabalho:</span></font></b></td>\\r\\n      <td><font face=\"Verdana, Arial, Helvetica, sans-serif\" size=\"1\" color=\"#666666\"><span class=\"txt_arial_8pt_gray\"> \\r\\n        0</span></font></td>\\r\\n    </tr>\\r\\n\\t\\r\\n\\t<tr VALIGN=\"TOP\" ALIGN=\"LEFT\"> \\r\\n      <td><b><font face=\"Verdana, Arial, Helvetica, sans-serif\" size=\"1\" color=\"#000000\"><span class=\"txt_arial_8pt_black\"> \\r\\n        Carga Hor&aacute;ria Total: </span></font></b></td>\\r\\n       <td><font face=\"Verdana, Arial, Helvetica, sans-serif\" size=\"1\" color=\"#666666\"><span class=\"txt_arial_8pt_gray\"> \\r\\n       \\t\\t30 h \\r\\n \\t\\t\\t\\r\\n\\t\\t\\t \\r\\n\\t\\t\\t\\t\\t</span></font></td>\\r\\n                      </tr>\\r\\n\\t\\r\\n\\t\\r\\n\\t\\r\\n    <tr> \\r\\n      <td><font face=\"Verdana, Arial, Helvetica, sans-serif\" size=\"1\" color=\"#000000\"><span class=\"txt_arial_8pt_black\"> \\r\\n        <b>Tipo:</b></span></font></td>\\r\\n      <td><font face=\"Verdana, Arial, Helvetica, sans-serif\" size=\"1\" color=\"#666666\"><span class=\"txt_arial_8pt_gray\"> \\r\\n\\t   \\r\\n\\t   \\r\\n\\t   Semestral\\r\\n\\t   \\r\\n\\t   \\r\\n\\t   \\t   \\r\\n\\t   </span></font></td>\\r\\n    </tr>\\r\\n\\t\\r\\n\\t<tr VALIGN=\"TOP\" ALIGN=\"LEFT\"> \\r\\n                  <td><b><font face=\"Verdana, Arial, Helvetica, sans-serif\" size=\"1\" color=\"#000000\"><span class=\"txt_arial_8pt_black\"> \\r\\n                    Ativa&ccedil;&atilde;o: </span></font></b></td>\\r\\n      <td><font face=\"Verdana, Arial, Helvetica, sans-serif\" size=\"1\" color=\"#666666\"><span class=\"txt_arial_8pt_gray\"> \\r\\n        15/07/2020 \\r\\n\\t\\t</span></font></td>\\r\\n\\t\\t\\r\\n\\t\\t\\r\\n\\t\\t\\r\\n\\t\\t\\r\\n\\t\\t<td><font face=\"Verdana, Arial, Helvetica, sans-serif\" size=\"1\" color=\"#000000\"><span class=\"txt_arial_8pt_black\"><b>Desativação:</b>           \\r\\n\\t\\t</span></font></td>\\t\\t\\r\\n\\t\\t\\r\\n\\t\\t\\r\\n\\t\\t</tr>\\r\\n\\t\\t \\r\\n  </table>\\r\\n  <BR>\\r\\n  <table BORDER=\"0\" CELLSPACING=\"0\" CELLPADDING=\"0\" WIDTH=\"100%\">\\r\\n    <tr VALIGN=\"TOP\" ALIGN=\"LEFT\"> \\r\\n      <td><font face=\"Verdana, Arial, Helvetica, sans-serif\" size=\"1\" color=\"#000000\"><span class=\"txt_arial_8pt_black\"> \\r\\n        <b>Objetivos </b></span></font></td>\\r\\n    </tr>\\r\\n    <tr VALIGN=\"bottom\" ALIGN=\"LEFT\"> \\r\\n      <td valign=\"bottom\"><font face=\"Verdana, Arial, Helvetica, sans-serif\" size=\"1\" color=\"#666666\"><span class=\"txt_arial_8pt_gray\"> \\r\\n        <pre>Fornecer aos alunos os principais conceitos em Bioestatística, necessários para utilização em disciplinas específicas e para sua atuação profissional, incluindo estatística descritiva necessária para análise de dados e os conceitos de distribuições de probabilidade discretas e contínuas.</pre></span></font></td>\\r\\n    </tr>\\r\\n\\t\\r\\n     <tr><td><font face=\"Verdana, Arial, Helvetica, sans-serif\" size=\"1\" color=\"#000000\"><span class=\"txt_arial_7pt_black\">&nbsp;</span></font></td></tr>\\r\\n    <tr VALIGN=\"TOP\" ALIGN=\"LEFT\"> \\r\\n      <td><font face=\"Verdana, Arial, Helvetica, sans-serif\" size=\"1\" color=\"#666666\"><span class=\"txt_arial_8pt_gray\">  <i> </i></span></font></td>\\r\\n    </tr>\\r\\n    <tr><td><font face=\"Verdana, Arial, Helvetica, sans-serif\" size=\"1\" color=\"#000000\"><span class=\"txt_arial_7pt_black\">&nbsp;</span></font></td></tr>\\r\\n    \\r\\n    <tr>\\r\\n      <td>&nbsp;</td>\\r\\n    </tr>\\r\\n   </table>\\r\\n\\r\\n\\r\\n\\r\\n  <table>\\r\\n    <tr VALIGN=\"TOP\" ALIGN=\"LEFT\"> \\r\\n      <td><font face=\"Verdana, Arial, Helvetica, sans-serif\" size=\"1\" color=\"#000000\"><span class=\"txt_arial_8pt_black\"> \\r\\n        <b>Docente(s) Responsável(eis)</b></span></font></td>\\r\\n    </tr>\\r\\n    <tr>\\r\\n      <td> \\r\\n        <table border=\"0\" >\\r\\n\\t    \\r\\n          <tr> \\r\\n            <td><font face=\"Verdana, Arial, Helvetica, sans-serif\" size=\"1\" color=\"#666666\"><span class=\"txt_arial_8pt_gray\"></span></font></td>\\r\\n            <td><font face=\"Verdana, Arial, Helvetica, sans-serif\" size=\"1\" color=\"#666666\"><span class=\"txt_arial_8pt_gray\"> \\r\\n              6293113 - Ricardo Roberto da Silva</span></font></td>\\r\\n          </tr>\\r\\n\\t    \\t\\t  \\r\\n        </table>\\r\\n      </td>\\r\\n    </tr>\\r\\n    <tr>\\r\\n      <td>&nbsp;</td>\\r\\n    </tr>\\r\\n  </table>\\r\\n  \\r\\n  <table BORDER=\"0\" CELLSPACING=\"0\" CELLPADDING=\"0\" WIDTH=\"100%\">\\r\\n    <tr VALIGN=\"TOP\" ALIGN=\"LEFT\"> \\r\\n      <td><font face=\"Verdana, Arial, Helvetica, sans-serif\" size=\"1\" color=\"#000000\"><span class=\"txt_arial_8pt_black\"> \\r\\n        <b>Programa Resumido</b></span></font></td>\\r\\n    </tr>\\r\\n    <tr VALIGN=\"TOP\" ALIGN=\"LEFT\"> \\r\\n      <td><font face=\"Verdana, Arial, Helvetica, sans-serif\" size=\"1\" color=\"#666666\"><span class=\"txt_arial_8pt_gray\"> \\r\\n        <pre>Esta disciplina compreende a coleta e organização de dados, identificação e classificação das variáveis em estudo, apresentação dos resultados em tabelas e/ou gráficos a fim de executar uma análise exploratória dos mesmos. Analise e distribuição de frequências de uma ou mais variáveis qualitativas e quantitativas. Investigação da associação entre variáveis qualitativas e quantitativas. Cálculo de probabilidades para eventos dependentes e independentes.</pre></span></font></td>\\r\\n    </tr>\\r\\n   \\t\\r\\n    <tr><td><font face=\"Verdana, Arial, Helvetica, sans-serif\" size=\"1\" color=\"#000000\"><span class=\"txt_arial_7pt_black\">&nbsp;</span></font></td></tr>\\r\\n    <tr VALIGN=\"TOP\" ALIGN=\"LEFT\"> \\r\\n      <td><font face=\"Verdana, Arial, Helvetica, sans-serif\" size=\"1\" color=\"#666666\"><span class=\"txt_arial_8pt_gray\"> <i>\\r\\n         </i></span></font></td>\\r\\n    </tr>\\r\\n    <tr><td><font face=\"Verdana, Arial, Helvetica, sans-serif\" size=\"1\" color=\"#000000\"><span class=\"txt_arial_7pt_black\">&nbsp;</span></font></td></tr>\\r\\n\\t\\r\\n    \\r\\n    \\r\\n    \\r\\n    <tr>\\r\\n      <td>&nbsp;</td>\\r\\n    </tr>\\r\\n    <tr VALIGN=\"TOP\" ALIGN=\"LEFT\"> \\r\\n      <td><font face=\"Verdana, Arial, Helvetica, sans-serif\" size=\"1\" color=\"#000000\"><span class=\"txt_arial_8pt_black\"> \\r\\n        <b>Programa</b></span></font></td>\\r\\n    </tr>\\r\\n    <tr VALIGN=\"TOP\" ALIGN=\"LEFT\"> \\r\\n      <td><font face=\"Verdana, Arial, Helvetica, sans-serif\" size=\"1\" color=\"#666666\"><span class=\"txt_arial_8pt_gray\"> \\r\\n        <pre>Introdução à Estatística; - População e amostra; - Escalas de medida; - Variáveis e sua classificação; - Distribuição de frequências; - Tabelas e gráficos; - Análise de uma distribuição de frequências a duas variáveis qualitativas; - Estudo da associação em tabelas 2x2 e rxs; - Análise de uma distribuição de frequências a duas variáveis quantitativas; - Medidas de posição e de variabilidade; - Correlação linear. Teoria elementar de Probabilidade; - Distribuição de Probabilidade Binomial e Normal.</pre></span></font></td>\\r\\n    </tr>\\r\\n    \\r\\n    <tr><td><font face=\"Verdana, Arial, Helvetica, sans-serif\" size=\"1\" color=\"#000000\"><span class=\"txt_arial_7pt_black\">&nbsp;</span></font></td></tr>\\r\\n    <tr VALIGN=\"TOP\" ALIGN=\"LEFT\"> \\r\\n      <td><font face=\"Verdana, Arial, Helvetica, sans-serif\" size=\"1\" color=\"#666666\"><span class=\"txt_arial_8pt_gray\"> <i>\\r\\n         </i></span></font></td>\\r\\n    </tr>\\r\\n    <tr><td><font face=\"Verdana, Arial, Helvetica, sans-serif\" size=\"1\" color=\"#000000\"><span class=\"txt_arial_7pt_black\">&nbsp;</span></font></td></tr>\\r\\n\\t\\r\\n    <tr>\\r\\n      <td>&nbsp;</td>\\r\\n    </tr>\\r\\n    <tr VALIGN=\"TOP\" ALIGN=\"LEFT\"> \\r\\n      <td><font face=\"Verdana, Arial, Helvetica, sans-serif\" size=\"1\" color=\"#000000\"><span class=\"txt_arial_8pt_black\"> \\r\\n        <b>Avaliação</b></span></font></td>\\r\\n\\t</tr>\\r\\n\\t \\r\\n     \\r\\n  </table>\\r\\n  \\r\\n   \\r\\n  \\r\\n  <table BORDER=\"0\" CELLSPACING=\"0\" CELLPADDING=\"0\">\\r\\n    \\r\\n    <tr VALIGN=\"TOP\" ALIGN=\"LEFT\"> \\r\\n      <td>&nbsp;&nbsp;&nbsp;&nbsp;&nbsp;</td>\\r\\n\\t  <td> <table BORDER=\"0\" >\\r\\n\\t    \\r\\n\\t  <tr  > \\r\\n        \\r\\n       <td><font face=\"Verdana, Arial, Helvetica, sans-serif\" size=\"1\" color=\"#000000\"><span class=\"txt_arial_8pt_black\"> \\r\\n        <b>Método</b></span></font></td>\\r\\n      </tr>         \\r\\n           <tr VALIGN=\"TOP\" ALIGN=\"LEFT\"> \\r\\n      <td><font face=\"Verdana, Arial, Helvetica, sans-serif\" size=\"1\" color=\"#666666\"><span class=\"txt_arial_8pt_gray\"> \\r\\n        Aula expositiva dialogada; Aprendizagem baseada em Problemas  e Resolução de exercícios.</span></font></td>\\r\\n    </tr>\\r\\n\\t\\t<tr>           \\r\\n          <td><font face=\"Verdana, Arial, Helvetica, sans-serif\" size=\"1\" color=\"#000000\"><span class=\"txt_arial_8pt_black\"> \\r\\n                 <b>Crit&eacute;rio</b></span></font></td>\\r\\n\\t\\t</tr>\\r\\n  \\r\\n\\t  <tr VALIGN=\"TOP\" ALIGN=\"LEFT\"> \\r\\n      <td><font face=\"Verdana, Arial, Helvetica, sans-serif\" size=\"1\" color=\"#666666\"><span class=\"txt_arial_8pt_gray\"> \\r\\n        \\nO aluno deverá mostrar ter atingido os objetivos gerais e específicos do módulo através de aprovação revelada por um escore de 0 a 10. Os instrumentos de avaliação serão: \\n- duas Provas com questões objetivas, escritas e individuais, sendo que a primeira terá peso 2 e a segunda peso 3.\\n- Listas de Exercícios em grupos e/ou individuais, e/ou aplicações no TCC1 do aluno, com peso 1.\\n\\nCritério de avaliação: Será aprovado o aluno que obtiver média igual ou superior a 5,0, calculada pela fórmula:\\n\\nM= (E+2.P1+3.P2)/6\\nOnde: E é a nota das listas de Exercícios e/ou aplicações no TCC1, P1 é a nota da primeira prova e P2 é a nota da segunda prova.\\n</span></font></td>\\r\\n      </tr>\\r\\n\\t\\r\\n\\t  <tr>\\t\\t   \\r\\n          <td><font face=\"Verdana, Arial, Helvetica, sans-serif\" size=\"1\" color=\"#000000\"><span class=\"txt_arial_8pt_black\"> \\r\\n                 <b>Norma de Recuperação</b></span></font></td>\\r\\n          </tr> \\r\\n\\t\\t   <tr VALIGN=\"TOP\" ALIGN=\"LEFT\"> \\r\\n      <td><font face=\"Verdana, Arial, Helvetica, sans-serif\" size=\"1\" color=\"#666666\"><span class=\"txt_arial_8pt_gray\"> \\r\\n        Prova</span></font></td>\\r\\n    </tr>\\r\\n\\t     \\r\\n\\t\\t</table>\\t\\t  \\r\\n\\t     </td>\\r\\n    </tr>        \\r\\n  </table>\\r\\n  \\r\\n  <table BORDER=\"0\" CELLSPACING=\"0\" CELLPADDING=\"0\" WIDTH=\"100%\">\\r\\n    <tr VALIGN=\"TOP\" ALIGN=\"LEFT\"> \\r\\n\\t<tr>\\r\\n      <td>&nbsp;</td>\\r\\n    </tr>\\r\\n      <td><font face=\"Verdana, Arial, Helvetica, sans-serif\" size=\"1\" color=\"#000000\"><span class=\"txt_arial_8pt_black\"> \\r\\n        <b>Bibliografia</b></span></font></td>\\r\\n    </tr>\\r\\n\\t  \\r\\n  <table BORDER=\"0\" CELLSPACING=\"0\" CELLPADDING=\"0\">    \\r\\n    <tr VALIGN=\"TOP\" ALIGN=\"LEFT\"> \\r\\n      <td>&nbsp;&nbsp;&nbsp;&nbsp;&nbsp;</td>\\r\\n\\t  <td> <table BORDER=\"0\" >\\t               \\r\\n        <tr> \\r\\n            <td><font face=\"Verdana, Arial, Helvetica, sans-serif\" size=\"1\" color=\"#666666\"><span class=\"txt_arial_8pt_gray\"></span></font></td>\\r\\n            <td><font face=\"Verdana, Arial, Helvetica, sans-serif\" size=\"1\" color=\"#666666\"><span class=\"txt_arial_8pt_gray\"> \\r\\n              <pre>1.\\tDaniel, W.W. Biostatistcs: A Foundation for Analysis in the Health Sciences. John Wiley & Sons, 10th\\nEdition, 2013\\n2.\\tTriola, M.F. Introdução à Estatística, LTC Livros Técnicos e Científicos, 10ª edição, 2008\\n3.\\tBussab, W. Estatística Básica, Saraiva. 5ª edição, 2006\\n4.\\tBerquó, E.S.; Souza, J.M.P.; Gottlieb, S.L.B. Bioestatística, EPU-São Paulo, 1981\\n5.     Estatística Básica. Pedro A. Morettin, Wilton O. Bussab. 9a edição - São Paulo: Saraiva, 2017.</pre></span></font></td>\\r\\n          </tr>\\t\\t \\t     \\r\\n\\t\\t</table>\\t\\t  \\r\\n\\t   </td>\\r\\n    </tr>        \\r\\n  </table> \\r\\n  \\t\\r\\n    <tr>\\r\\n      <td>&nbsp;</td>\\r\\n    </tr>\\r\\n  </table>\\r\\n  \\r\\n\\t\\r\\n  \\r\\n  <BR>\\r\\n  <table>\\r\\n    <tr> \\r\\n      <td><font face=\"Verdana, Arial, Helvetica, sans-serif\" size=\"1\" color=\"#666666\"> \\r\\n        <A HREF=\"listarCursosRequisitos?coddis=CGF2022\" class=\"link_gray\">Clique \\r\\n        para consultar os requisitos para CGF2022</A> </font></td>\\r\\n    </tr>\\r\\n  </table>\\r\\n\\r\\n  <BR>\\r\\n  <table>\\r\\n    <tr> \\r\\n      <td><font face=\"Verdana, Arial, Helvetica, sans-serif\" size=\"1\" color=\"#666666\"> \\r\\n        <A HREF=\"obterTurma?sgldis=CGF2022\" class=\"link_gray\">Clique \\r\\n        para consultar o oferecimento para CGF2022</A> </font></td>\\r\\n    </tr>\\r\\n  </table>\\r\\n\\r\\n\\t\\t\\t\\t\\t\\t\\r\\n\\t\\t\\t\\t\\t\\t</td>\\r\\n\\t\\t\\t\\t\\t</tr>\\r\\n\\t\\t\\t\\t\\t<tr> \\r\\n\\t\\t\\t\\t\\t\\t<td>\\r\\n\\t\\t\\t\\t\\t\\t\\t<!-- hidden\\r\\n\\t\\t\\t\\t\\t\\t\\t\\r\\n\\t\\t\\t\\t\\t\\t\\t -->\\r\\n\\t\\t\\t\\t\\t\\t</td>\\r\\n\\t\\t\\t\\t\\t</tr>\\r\\n\\t\\t\\t\\t\\t<tr>\\r\\n\\t\\t\\t\\t\\t\\t<td>\\r\\n\\t\\t\\t\\t\\t\\t\\t<!-- acoes\\r\\n\\t\\t\\t\\t\\t\\t\\t<table width=\"100%\" border=\"0\">\\r\\n\\t\\t\\t\\t\\t\\t\\t\\t<tr>\\r\\n\\t\\t\\t\\t\\t\\t\\t\\t\\t\\r\\n\\t\\t\\t\\t\\t\\t\\t\\t</tr>\\r\\n\\t\\t\\t\\t\\t\\t\\t</table>\\r\\n\\t\\t\\t\\t\\t\\t\\t -->\\r\\n\\t\\t\\t\\t\\t\\t</td>\\r\\n\\t\\t\\t\\t\\t</tr>\\r\\n\\t\\t\\t\\t\\t<tr> \\r\\n\\t\\t\\t\\t\\t\\t<td>\\r\\n\\t\\t\\t\\t\\t\\t\\t<!-- submit\\r\\n\\t\\t\\t\\t\\t\\t\\t\\r\\n\\t\\t\\t\\t\\t\\t\\t -->\\r\\n\\t\\t\\t\\t\\t\\t</td>\\r\\n\\t\\t\\t\\t\\t</tr>\\r\\n\\t    </table>\\r\\n\\t\\t\\t</form>\\r\\n\\t\\t</td>\\r\\n\\t</tr>\\r\\n</table>\\r\\n\\r\\n\\r\\n\\r\\n\\r\\n\\r\\n\\r\\n\\t\\r\\n\\r\\n\\r\\n<link type=\"text/css\" rel=\"stylesheet\" href=\"https://uspdigital.usp.br/comumwebdev/libs/usp/main/1.0/home.css\"/>\\r\\n<table width=\"100%\" border=\"0\" cellspacing=\" 0\" cellpadding=\" 0\" align=\"center\">\\r\\n  \\r\\n  <tr>\\r\\n    <td align=\"center\"><font face=\"Arial, Helvetica, sans-serif\" size=\"1\"><hr size=\"1\">\\r\\n      <a href=\\'creditos.jsp\\' class=\"link_olive\" target=\"_self\">Cr&eacute;ditos</a>\\r\\n      | <a href=\"jupColegiadoEmailLista\" class=\"link_olive\">Fale conosco</a><br>\\r\\n      &copy; 1999 - 2024 - Superintend&ecirc;ncia de Tecnologia da Informa&ccedil;&atilde;o/USP</font>\\r\\n    </td>\\r\\n  </tr>\\r\\n</table>\\r\\n\\r\\n</body>\\r\\n</html>\\r\\n\\t\\t\\t\\r\\n\\r\\n\\t\\t\\t\\r\\n\\t\\t</div>\\r\\n\\t</div>\\r\\n\\r\\n</body>\\r\\n</html>'"
            ],
            "application/vnd.google.colaboratory.intrinsic+json": {
              "type": "string"
            }
          },
          "metadata": {},
          "execution_count": 6
        }
      ]
    },
    {
      "cell_type": "code",
      "source": [
        "with open('course.txt', 'w') as f:\n",
        "    f.write(response_course.text)"
      ],
      "metadata": {
        "id": "BnueGJVt4-qr"
      },
      "execution_count": 19,
      "outputs": []
    },
    {
      "cell_type": "code",
      "source": [
        "type(response_course.text)"
      ],
      "metadata": {
        "id": "t4f9QaME2uJE",
        "colab": {
          "base_uri": "https://localhost:8080/"
        },
        "outputId": "7752b977-2af3-4260-d31c-729f07d1a90d"
      },
      "execution_count": 5,
      "outputs": [
        {
          "output_type": "execute_result",
          "data": {
            "text/plain": [
              "str"
            ]
          },
          "metadata": {},
          "execution_count": 5
        }
      ]
    },
    {
      "cell_type": "code",
      "source": [
        "import re"
      ],
      "metadata": {
        "id": "nfEftY0VzJ28"
      },
      "execution_count": 2,
      "outputs": []
    },
    {
      "cell_type": "code",
      "source": [
        "print(re.search('Docente', response_course.text))"
      ],
      "metadata": {
        "colab": {
          "base_uri": "https://localhost:8080/"
        },
        "id": "ArXRKXq001rO",
        "outputId": "ffa1b3f6-2dc8-4eef-8bf6-a56846900e08"
      },
      "execution_count": 23,
      "outputs": [
        {
          "output_type": "stream",
          "name": "stdout",
          "text": [
            "<re.Match object; span=(33348, 33355), match='Docente'>\n"
          ]
        }
      ]
    },
    {
      "cell_type": "code",
      "source": [
        "response_course.text[33348:33600]"
      ],
      "metadata": {
        "colab": {
          "base_uri": "https://localhost:8080/",
          "height": 90
        },
        "id": "hBXGpD967k8_",
        "outputId": "e6b0b977-e5f6-4a1a-8164-c461459b1ddc"
      },
      "execution_count": 28,
      "outputs": [
        {
          "output_type": "execute_result",
          "data": {
            "text/plain": [
              "'Docente(s) Responsável(eis)</b></span></font></td>\\r\\n    </tr>\\r\\n    <tr>\\r\\n      <td> \\r\\n        <table border=\"0\" >\\r\\n\\t    \\r\\n          <tr> \\r\\n            <td><font face=\"Verdana, Arial, Helvetica, sans-serif\" size=\"1\" color=\"#666666\"><span class=\"txt_aria'"
            ],
            "application/vnd.google.colaboratory.intrinsic+json": {
              "type": "string"
            }
          },
          "metadata": {},
          "execution_count": 28
        }
      ]
    },
    {
      "cell_type": "code",
      "source": [
        "sdisc = re.search('<b>Disciplina: CGF2022 .+</b></span>', response_course.text)\n",
        "sdisc.span()"
      ],
      "metadata": {
        "colab": {
          "base_uri": "https://localhost:8080/"
        },
        "id": "tzBz8AjU7pZV",
        "outputId": "f0f3ced0-c297-4626-f7ff-b8f757c82f49"
      },
      "execution_count": 14,
      "outputs": [
        {
          "output_type": "execute_result",
          "data": {
            "text/plain": [
              "(29157, 29209)"
            ]
          },
          "metadata": {},
          "execution_count": 14
        }
      ]
    },
    {
      "cell_type": "code",
      "source": [
        "response_course.text[29157:29209]"
      ],
      "metadata": {
        "colab": {
          "base_uri": "https://localhost:8080/",
          "height": 35
        },
        "id": "rl0g-fV57Qal",
        "outputId": "9df8b934-9edf-40ce-981f-89df71c77525"
      },
      "execution_count": null,
      "outputs": [
        {
          "output_type": "execute_result",
          "data": {
            "text/plain": [
              "'<b>Disciplina: CGF2022 - Bioestatística I</b></span>'"
            ],
            "application/vnd.google.colaboratory.intrinsic+json": {
              "type": "string"
            }
          },
          "metadata": {},
          "execution_count": 25
        }
      ]
    },
    {
      "cell_type": "code",
      "source": [
        "re.sub(r'<b>Disciplina\\: (.+)</b></span>', r'\\1', response_course.text[29157:29209])"
      ],
      "metadata": {
        "id": "zJZi32d_15Pz",
        "colab": {
          "base_uri": "https://localhost:8080/",
          "height": 55
        },
        "outputId": "3ef46ece-9de4-4000-b9c6-c5b53d9cb7f6"
      },
      "execution_count": 13,
      "outputs": [
        {
          "output_type": "execute_result",
          "data": {
            "text/plain": [
              "'CGF2022 - Bioestatística I'"
            ],
            "application/vnd.google.colaboratory.intrinsic+json": {
              "type": "string"
            }
          },
          "metadata": {},
          "execution_count": 13
        }
      ]
    },
    {
      "cell_type": "code",
      "source": [
        "re.sub(r'Ri(.{3})do', r'\\1', 'Ricardo')"
      ],
      "metadata": {
        "colab": {
          "base_uri": "https://localhost:8080/",
          "height": 35
        },
        "id": "EtDDQa664TYL",
        "outputId": "b99c96f1-d55d-4d83-dc5b-8a533af495f3"
      },
      "execution_count": null,
      "outputs": [
        {
          "output_type": "execute_result",
          "data": {
            "text/plain": [
              "'car'"
            ],
            "application/vnd.google.colaboratory.intrinsic+json": {
              "type": "string"
            }
          },
          "metadata": {},
          "execution_count": 21
        }
      ]
    },
    {
      "cell_type": "code",
      "source": [
        "def getCourseInfo(course_code):\n",
        "    info = {}\n",
        "    url_course = f\"https://uspdigital.usp.br/jupiterweb/obterDisciplina?sgldis={course_code}\"\n",
        "    response_course = requests.get(url_course)\n",
        "    sdisc = re.search(f'<b>Disciplina: {course_code} .+</b></span>', response_course.text)\n",
        "    info['name'] = re.sub(r'<b>Disciplina\\: (.+)</b></span>', r'\\1', response_course.text[sdisc.span()[0]:sdisc.span()[1]])\n",
        "    return info"
      ],
      "metadata": {
        "id": "MyXcJ3on6X9_"
      },
      "execution_count": 3,
      "outputs": []
    },
    {
      "cell_type": "code",
      "source": [
        "getCourseInfo('CGF2022')"
      ],
      "metadata": {
        "colab": {
          "base_uri": "https://localhost:8080/"
        },
        "id": "6QywldWF3LAv",
        "outputId": "03eb666c-9b6a-4d28-c287-40cc9dad97f6"
      },
      "execution_count": 4,
      "outputs": [
        {
          "output_type": "execute_result",
          "data": {
            "text/plain": [
              "{'name': 'CGF2022 - Bioestatística I'}"
            ]
          },
          "metadata": {},
          "execution_count": 4
        }
      ]
    },
    {
      "cell_type": "code",
      "source": [
        "soup = BeautifulSoup(response_course.text, 'lxml') # Parse the HTML as a string\n",
        "\n",
        "tabs = soup.find_all('table')\n",
        "len(tabs)"
      ],
      "metadata": {
        "colab": {
          "base_uri": "https://localhost:8080/"
        },
        "id": "w4GaBEfd3Q_O",
        "outputId": "b60b1db6-3bbd-4b67-d623-f27ef90bd5da"
      },
      "execution_count": 7,
      "outputs": [
        {
          "output_type": "execute_result",
          "data": {
            "text/plain": [
              "19"
            ]
          },
          "metadata": {},
          "execution_count": 7
        }
      ]
    },
    {
      "cell_type": "code",
      "source": [
        "tabs = soup.find_all('table')\n",
        "row_list = []\n",
        "for tab in tabs:\n",
        "  for row in tab.find_all('tr'):\n",
        "      column_list = []\n",
        "      columns = row.find_all('td')\n",
        "      for column in columns:\n",
        "          column_list.append(column.get_text())\n",
        "      row_list.append(column_list)\n",
        "\n",
        "row_list"
      ],
      "metadata": {
        "colab": {
          "base_uri": "https://localhost:8080/"
        },
        "id": "IzY5g23n6jL-",
        "outputId": "166afc60-eb3a-4035-f046-cd09b25af4e4"
      },
      "execution_count": 9,
      "outputs": [
        {
          "output_type": "execute_result",
          "data": {
            "text/plain": [
              "[['\\n\\n', '\\n\\n'],\n",
              " ['\\n\\n'],\n",
              " ['\\n'],\n",
              " ['\\n'],\n",
              " ['\\n\\n\\n\\n\\n\\n\\n\\n\\n\\n\\n\\xa0Preparar para impressão\\xa0\\n\\n\\n\\n\\n\\n\\n\\n\\n\\n\\n\\r\\n\\t\\t\\tJúpiter - Sistema de Gestão Acadêmica da Pró-Reitoria de Graduação\\r\\n\\t\\t\\n\\n\\n\\n\\n\\n\\n \\r\\n\\t    Faculdade de Ciências Farmacêuticas de Ribeirão Preto\\n\\n\\n\\xa0\\n\\n\\n \\r\\n\\t    Disciplinas Interdepartamentais da FCFRP\\n\\n\\n\\xa0\\n\\n\\n\\nDisciplina: CGF2022 - Bioestatística I\\n\\n\\n\\n \\r\\n         Biostatistics I \\n\\n\\n\\n\\n\\n\\n\\nCréditos Aula:\\n \\r\\n        2\\r\\n\\t\\t\\n\\n\\n \\r\\n        Créditos Trabalho:\\n \\r\\n        0\\n\\n\\n \\r\\n        Carga Horária Total: \\n \\r\\n       \\t\\t30 h \\r\\n \\t\\t\\t\\r\\n\\t\\t\\t \\r\\n\\t\\t\\t\\t\\t\\n\\n\\n\\nTipo:\\n \\r\\n\\t   \\r\\n\\t   \\r\\n\\t   Semestral\\r\\n\\t   \\r\\n\\t   \\r\\n\\t   \\t   \\r\\n\\t   \\n\\n\\n \\r\\n                    Ativação: \\n \\r\\n        15/07/2020 \\r\\n\\t\\t\\nDesativação:\\n\\n\\n\\n\\n\\n\\n\\nObjetivos \\n\\n\\n\\nFornecer aos alunos os principais conceitos em Bioestatística, necessários para utilização em disciplinas específicas e para sua atuação profissional, incluindo estatística descritiva necessária para análise de dados e os conceitos de distribuições de probabilidade discretas e contínuas.\\n\\n\\xa0\\n\\n  \\n\\n\\xa0\\n\\n\\xa0\\n\\n\\n\\n\\n\\nDocente(s) Responsável(eis)\\n\\n\\n\\n\\n\\n\\n \\r\\n              6293113 - Ricardo Roberto da Silva\\n\\n\\n\\n\\n\\n\\xa0\\n\\n\\n\\n\\n\\nPrograma Resumido\\n\\n\\n\\nEsta disciplina compreende a coleta e organização de dados, identificação e classificação das variáveis em estudo, apresentação dos resultados em tabelas e/ou gráficos a fim de executar uma análise exploratória dos mesmos. Analise e distribuição de frequências de uma ou mais variáveis qualitativas e quantitativas. Investigação da associação entre variáveis qualitativas e quantitativas. Cálculo de probabilidades para eventos dependentes e independentes.\\n\\n\\xa0\\n\\n \\n\\n\\n\\xa0\\n\\n\\xa0\\n\\n\\n\\nPrograma\\n\\n\\n\\nIntrodução à Estatística; - População e amostra; - Escalas de medida; - Variáveis e sua classificação; - Distribuição de frequências; - Tabelas e gráficos; - Análise de uma distribuição de frequências a duas variáveis qualitativas; - Estudo da associação em tabelas 2x2 e rxs; - Análise de uma distribuição de frequências a duas variáveis quantitativas; - Medidas de posição e de variabilidade; - Correlação linear. Teoria elementar de Probabilidade; - Distribuição de Probabilidade Binomial e Normal.\\n\\n\\xa0\\n\\n \\n\\n\\n\\xa0\\n\\n\\xa0\\n\\n\\n\\nAvaliação\\n\\n\\n\\n\\n\\xa0\\xa0\\xa0\\xa0\\xa0\\n \\n\\n\\nMétodo\\n\\n\\n \\r\\n        Aula expositiva dialogada; Aprendizagem baseada em Problemas  e Resolução de exercícios.\\n\\n\\n\\nCritério\\n\\n\\n \\r\\n        \\nO aluno deverá mostrar ter atingido os objetivos gerais e específicos do módulo através de aprovação revelada por um escore de 0 a 10. Os instrumentos de avaliação serão: \\n- duas Provas com questões objetivas, escritas e individuais, sendo que a primeira terá peso 2 e a segunda peso 3.\\n- Listas de Exercícios em grupos e/ou individuais, e/ou aplicações no TCC1 do aluno, com peso 1.\\n\\nCritério de avaliação: Será aprovado o aluno que obtiver média igual ou superior a 5,0, calculada pela fórmula:\\n\\nM= (E+2.P1+3.P2)/6\\nOnde: E é a nota das listas de Exercícios e/ou aplicações no TCC1, P1 é a nota da primeira prova e P2 é a nota da segunda prova.\\n\\n\\n\\n\\nNorma de Recuperação\\n\\n\\n \\r\\n        Prova\\n\\n\\n\\n\\n\\n\\n\\n\\n\\xa0\\n\\n\\nBibliografia\\n\\n\\n\\xa0\\xa0\\xa0\\xa0\\xa0\\n \\n\\n\\n\\n1.\\tDaniel, W.W. Biostatistcs: A Foundation for Analysis in the Health Sciences. John Wiley & Sons, 10th\\nEdition, 2013\\n2.\\tTriola, M.F. Introdução à Estatística, LTC Livros Técnicos e Científicos, 10ª edição, 2008\\n3.\\tBussab, W. Estatística Básica, Saraiva. 5ª edição, 2006\\n4.\\tBerquó, E.S.; Souza, J.M.P.; Gottlieb, S.L.B. Bioestatística, EPU-São Paulo, 1981\\n5.     Estatística Básica. Pedro A. Morettin, Wilton O. Bussab. 9a edição - São Paulo: Saraiva, 2017.\\n\\n\\n\\n\\n\\n\\n\\xa0\\n\\n\\n\\n\\n\\n\\nClique \\r\\n        para consultar os requisitos para CGF2022 \\n\\n\\n\\n\\n\\n\\nClique \\r\\n        para consultar o oferecimento para CGF2022 \\n\\n\\n\\n\\n\\n\\n\\n\\n\\n\\n\\n\\n\\n\\n\\n\\n\\n\\n\\n\\n\\n',\n",
              "  '\\n\\n\\n\\n\\n\\n\\n\\xa0Preparar para impressão\\xa0\\n\\n\\n\\n\\n\\n\\n\\n\\n\\n\\n\\r\\n\\t\\t\\tJúpiter - Sistema de Gestão Acadêmica da Pró-Reitoria de Graduação\\r\\n\\t\\t\\n\\n\\n\\n\\n\\n\\n \\r\\n\\t    Faculdade de Ciências Farmacêuticas de Ribeirão Preto\\n\\n\\n\\xa0\\n\\n\\n \\r\\n\\t    Disciplinas Interdepartamentais da FCFRP\\n\\n\\n\\xa0\\n\\n\\n\\nDisciplina: CGF2022 - Bioestatística I\\n\\n\\n\\n \\r\\n         Biostatistics I \\n\\n\\n\\n\\n\\n\\n\\nCréditos Aula:\\n \\r\\n        2\\r\\n\\t\\t\\n\\n\\n \\r\\n        Créditos Trabalho:\\n \\r\\n        0\\n\\n\\n \\r\\n        Carga Horária Total: \\n \\r\\n       \\t\\t30 h \\r\\n \\t\\t\\t\\r\\n\\t\\t\\t \\r\\n\\t\\t\\t\\t\\t\\n\\n\\n\\nTipo:\\n \\r\\n\\t   \\r\\n\\t   \\r\\n\\t   Semestral\\r\\n\\t   \\r\\n\\t   \\r\\n\\t   \\t   \\r\\n\\t   \\n\\n\\n \\r\\n                    Ativação: \\n \\r\\n        15/07/2020 \\r\\n\\t\\t\\nDesativação:\\n\\n\\n\\n\\n\\n\\n\\nObjetivos \\n\\n\\n\\nFornecer aos alunos os principais conceitos em Bioestatística, necessários para utilização em disciplinas específicas e para sua atuação profissional, incluindo estatística descritiva necessária para análise de dados e os conceitos de distribuições de probabilidade discretas e contínuas.\\n\\n\\xa0\\n\\n  \\n\\n\\xa0\\n\\n\\xa0\\n\\n\\n\\n\\n\\nDocente(s) Responsável(eis)\\n\\n\\n\\n\\n\\n\\n \\r\\n              6293113 - Ricardo Roberto da Silva\\n\\n\\n\\n\\n\\n\\xa0\\n\\n\\n\\n\\n\\nPrograma Resumido\\n\\n\\n\\nEsta disciplina compreende a coleta e organização de dados, identificação e classificação das variáveis em estudo, apresentação dos resultados em tabelas e/ou gráficos a fim de executar uma análise exploratória dos mesmos. Analise e distribuição de frequências de uma ou mais variáveis qualitativas e quantitativas. Investigação da associação entre variáveis qualitativas e quantitativas. Cálculo de probabilidades para eventos dependentes e independentes.\\n\\n\\xa0\\n\\n \\n\\n\\n\\xa0\\n\\n\\xa0\\n\\n\\n\\nPrograma\\n\\n\\n\\nIntrodução à Estatística; - População e amostra; - Escalas de medida; - Variáveis e sua classificação; - Distribuição de frequências; - Tabelas e gráficos; - Análise de uma distribuição de frequências a duas variáveis qualitativas; - Estudo da associação em tabelas 2x2 e rxs; - Análise de uma distribuição de frequências a duas variáveis quantitativas; - Medidas de posição e de variabilidade; - Correlação linear. Teoria elementar de Probabilidade; - Distribuição de Probabilidade Binomial e Normal.\\n\\n\\xa0\\n\\n \\n\\n\\n\\xa0\\n\\n\\xa0\\n\\n\\n\\nAvaliação\\n\\n\\n\\n\\n\\xa0\\xa0\\xa0\\xa0\\xa0\\n \\n\\n\\nMétodo\\n\\n\\n \\r\\n        Aula expositiva dialogada; Aprendizagem baseada em Problemas  e Resolução de exercícios.\\n\\n\\n\\nCritério\\n\\n\\n \\r\\n        \\nO aluno deverá mostrar ter atingido os objetivos gerais e específicos do módulo através de aprovação revelada por um escore de 0 a 10. Os instrumentos de avaliação serão: \\n- duas Provas com questões objetivas, escritas e individuais, sendo que a primeira terá peso 2 e a segunda peso 3.\\n- Listas de Exercícios em grupos e/ou individuais, e/ou aplicações no TCC1 do aluno, com peso 1.\\n\\nCritério de avaliação: Será aprovado o aluno que obtiver média igual ou superior a 5,0, calculada pela fórmula:\\n\\nM= (E+2.P1+3.P2)/6\\nOnde: E é a nota das listas de Exercícios e/ou aplicações no TCC1, P1 é a nota da primeira prova e P2 é a nota da segunda prova.\\n\\n\\n\\n\\nNorma de Recuperação\\n\\n\\n \\r\\n        Prova\\n\\n\\n\\n\\n\\n\\n\\n\\n\\xa0\\n\\n\\nBibliografia\\n\\n\\n\\xa0\\xa0\\xa0\\xa0\\xa0\\n \\n\\n\\n\\n1.\\tDaniel, W.W. Biostatistcs: A Foundation for Analysis in the Health Sciences. John Wiley & Sons, 10th\\nEdition, 2013\\n2.\\tTriola, M.F. Introdução à Estatística, LTC Livros Técnicos e Científicos, 10ª edição, 2008\\n3.\\tBussab, W. Estatística Básica, Saraiva. 5ª edição, 2006\\n4.\\tBerquó, E.S.; Souza, J.M.P.; Gottlieb, S.L.B. Bioestatística, EPU-São Paulo, 1981\\n5.     Estatística Básica. Pedro A. Morettin, Wilton O. Bussab. 9a edição - São Paulo: Saraiva, 2017.\\n\\n\\n\\n\\n\\n\\n\\xa0\\n\\n\\n\\n\\n\\n\\nClique \\r\\n        para consultar os requisitos para CGF2022 \\n\\n\\n\\n\\n\\n\\nClique \\r\\n        para consultar o oferecimento para CGF2022 \\n\\n\\n',\n",
              "  '\\n\\n\\xa0Preparar para impressão\\xa0\\n\\n',\n",
              "  '\\n\\n',\n",
              "  '\\n\\r\\n\\t\\t\\tJúpiter - Sistema de Gestão Acadêmica da Pró-Reitoria de Graduação\\r\\n\\t\\t\\n',\n",
              "  ' \\r\\n\\t    Faculdade de Ciências Farmacêuticas de Ribeirão Preto',\n",
              "  '\\xa0',\n",
              "  ' \\r\\n\\t    Disciplinas Interdepartamentais da FCFRP',\n",
              "  '\\xa0',\n",
              "  '\\nDisciplina: CGF2022 - Bioestatística I\\n',\n",
              "  ' \\r\\n         Biostatistics I \\n',\n",
              "  '\\nCréditos Aula:',\n",
              "  ' \\r\\n        2\\r\\n\\t\\t',\n",
              "  ' \\r\\n        Créditos Trabalho:',\n",
              "  ' \\r\\n        0',\n",
              "  ' \\r\\n        Carga Horária Total: ',\n",
              "  ' \\r\\n       \\t\\t30 h \\r\\n \\t\\t\\t\\r\\n\\t\\t\\t \\r\\n\\t\\t\\t\\t\\t',\n",
              "  '\\nTipo:',\n",
              "  ' \\r\\n\\t   \\r\\n\\t   \\r\\n\\t   Semestral\\r\\n\\t   \\r\\n\\t   \\r\\n\\t   \\t   \\r\\n\\t   ',\n",
              "  ' \\r\\n                    Ativação: ',\n",
              "  ' \\r\\n        15/07/2020 \\r\\n\\t\\t',\n",
              "  'Desativação:\\n',\n",
              "  '\\nObjetivos ',\n",
              "  '\\nFornecer aos alunos os principais conceitos em Bioestatística, necessários para utilização em disciplinas específicas e para sua atuação profissional, incluindo estatística descritiva necessária para análise de dados e os conceitos de distribuições de probabilidade discretas e contínuas.',\n",
              "  '\\xa0',\n",
              "  '  ',\n",
              "  '\\xa0',\n",
              "  '\\xa0',\n",
              "  '\\nDocente(s) Responsável(eis)',\n",
              "  '\\n\\n\\n\\n \\r\\n              6293113 - Ricardo Roberto da Silva\\n\\n\\n',\n",
              "  '',\n",
              "  ' \\r\\n              6293113 - Ricardo Roberto da Silva',\n",
              "  '\\xa0',\n",
              "  '\\nPrograma Resumido',\n",
              "  '\\nEsta disciplina compreende a coleta e organização de dados, identificação e classificação das variáveis em estudo, apresentação dos resultados em tabelas e/ou gráficos a fim de executar uma análise exploratória dos mesmos. Analise e distribuição de frequências de uma ou mais variáveis qualitativas e quantitativas. Investigação da associação entre variáveis qualitativas e quantitativas. Cálculo de probabilidades para eventos dependentes e independentes.',\n",
              "  '\\xa0',\n",
              "  ' \\n',\n",
              "  '\\xa0',\n",
              "  '\\xa0',\n",
              "  '\\nPrograma',\n",
              "  '\\nIntrodução à Estatística; - População e amostra; - Escalas de medida; - Variáveis e sua classificação; - Distribuição de frequências; - Tabelas e gráficos; - Análise de uma distribuição de frequências a duas variáveis qualitativas; - Estudo da associação em tabelas 2x2 e rxs; - Análise de uma distribuição de frequências a duas variáveis quantitativas; - Medidas de posição e de variabilidade; - Correlação linear. Teoria elementar de Probabilidade; - Distribuição de Probabilidade Binomial e Normal.',\n",
              "  '\\xa0',\n",
              "  ' \\n',\n",
              "  '\\xa0',\n",
              "  '\\xa0',\n",
              "  '\\nAvaliação',\n",
              "  '\\xa0\\xa0\\xa0\\xa0\\xa0',\n",
              "  ' \\n\\n\\nMétodo\\n\\n\\n \\r\\n        Aula expositiva dialogada; Aprendizagem baseada em Problemas  e Resolução de exercícios.\\n\\n\\n\\nCritério\\n\\n\\n \\r\\n        \\nO aluno deverá mostrar ter atingido os objetivos gerais e específicos do módulo através de aprovação revelada por um escore de 0 a 10. Os instrumentos de avaliação serão: \\n- duas Provas com questões objetivas, escritas e individuais, sendo que a primeira terá peso 2 e a segunda peso 3.\\n- Listas de Exercícios em grupos e/ou individuais, e/ou aplicações no TCC1 do aluno, com peso 1.\\n\\nCritério de avaliação: Será aprovado o aluno que obtiver média igual ou superior a 5,0, calculada pela fórmula:\\n\\nM= (E+2.P1+3.P2)/6\\nOnde: E é a nota das listas de Exercícios e/ou aplicações no TCC1, P1 é a nota da primeira prova e P2 é a nota da segunda prova.\\n\\n\\n\\n\\nNorma de Recuperação\\n\\n\\n \\r\\n        Prova\\n\\n\\n',\n",
              "  '\\nMétodo',\n",
              "  ' \\r\\n        Aula expositiva dialogada; Aprendizagem baseada em Problemas  e Resolução de exercícios.',\n",
              "  '\\nCritério',\n",
              "  ' \\r\\n        \\nO aluno deverá mostrar ter atingido os objetivos gerais e específicos do módulo através de aprovação revelada por um escore de 0 a 10. Os instrumentos de avaliação serão: \\n- duas Provas com questões objetivas, escritas e individuais, sendo que a primeira terá peso 2 e a segunda peso 3.\\n- Listas de Exercícios em grupos e/ou individuais, e/ou aplicações no TCC1 do aluno, com peso 1.\\n\\nCritério de avaliação: Será aprovado o aluno que obtiver média igual ou superior a 5,0, calculada pela fórmula:\\n\\nM= (E+2.P1+3.P2)/6\\nOnde: E é a nota das listas de Exercícios e/ou aplicações no TCC1, P1 é a nota da primeira prova e P2 é a nota da segunda prova.\\n',\n",
              "  '\\nNorma de Recuperação',\n",
              "  ' \\r\\n        Prova',\n",
              "  '\\xa0',\n",
              "  '\\nBibliografia',\n",
              "  '\\xa0\\xa0\\xa0\\xa0\\xa0',\n",
              "  ' \\n\\n\\n\\n1.\\tDaniel, W.W. Biostatistcs: A Foundation for Analysis in the Health Sciences. John Wiley & Sons, 10th\\nEdition, 2013\\n2.\\tTriola, M.F. Introdução à Estatística, LTC Livros Técnicos e Científicos, 10ª edição, 2008\\n3.\\tBussab, W. Estatística Básica, Saraiva. 5ª edição, 2006\\n4.\\tBerquó, E.S.; Souza, J.M.P.; Gottlieb, S.L.B. Bioestatística, EPU-São Paulo, 1981\\n5.     Estatística Básica. Pedro A. Morettin, Wilton O. Bussab. 9a edição - São Paulo: Saraiva, 2017.\\n\\n\\n',\n",
              "  '',\n",
              "  '\\n1.\\tDaniel, W.W. Biostatistcs: A Foundation for Analysis in the Health Sciences. John Wiley & Sons, 10th\\nEdition, 2013\\n2.\\tTriola, M.F. Introdução à Estatística, LTC Livros Técnicos e Científicos, 10ª edição, 2008\\n3.\\tBussab, W. Estatística Básica, Saraiva. 5ª edição, 2006\\n4.\\tBerquó, E.S.; Souza, J.M.P.; Gottlieb, S.L.B. Bioestatística, EPU-São Paulo, 1981\\n5.     Estatística Básica. Pedro A. Morettin, Wilton O. Bussab. 9a edição - São Paulo: Saraiva, 2017.',\n",
              "  '\\xa0',\n",
              "  '\\nClique \\r\\n        para consultar os requisitos para CGF2022 ',\n",
              "  '\\nClique \\r\\n        para consultar o oferecimento para CGF2022 ',\n",
              "  '\\n\\n',\n",
              "  '\\n\\n',\n",
              "  '\\n\\n'],\n",
              " ['\\n\\n\\n\\n\\n\\n\\n\\xa0Preparar para impressão\\xa0\\n\\n\\n\\n\\n\\n\\n\\n\\n\\n\\n\\r\\n\\t\\t\\tJúpiter - Sistema de Gestão Acadêmica da Pró-Reitoria de Graduação\\r\\n\\t\\t\\n\\n\\n\\n\\n\\n\\n \\r\\n\\t    Faculdade de Ciências Farmacêuticas de Ribeirão Preto\\n\\n\\n\\xa0\\n\\n\\n \\r\\n\\t    Disciplinas Interdepartamentais da FCFRP\\n\\n\\n\\xa0\\n\\n\\n\\nDisciplina: CGF2022 - Bioestatística I\\n\\n\\n\\n \\r\\n         Biostatistics I \\n\\n\\n\\n\\n\\n\\n\\nCréditos Aula:\\n \\r\\n        2\\r\\n\\t\\t\\n\\n\\n \\r\\n        Créditos Trabalho:\\n \\r\\n        0\\n\\n\\n \\r\\n        Carga Horária Total: \\n \\r\\n       \\t\\t30 h \\r\\n \\t\\t\\t\\r\\n\\t\\t\\t \\r\\n\\t\\t\\t\\t\\t\\n\\n\\n\\nTipo:\\n \\r\\n\\t   \\r\\n\\t   \\r\\n\\t   Semestral\\r\\n\\t   \\r\\n\\t   \\r\\n\\t   \\t   \\r\\n\\t   \\n\\n\\n \\r\\n                    Ativação: \\n \\r\\n        15/07/2020 \\r\\n\\t\\t\\nDesativação:\\n\\n\\n\\n\\n\\n\\n\\nObjetivos \\n\\n\\n\\nFornecer aos alunos os principais conceitos em Bioestatística, necessários para utilização em disciplinas específicas e para sua atuação profissional, incluindo estatística descritiva necessária para análise de dados e os conceitos de distribuições de probabilidade discretas e contínuas.\\n\\n\\xa0\\n\\n  \\n\\n\\xa0\\n\\n\\xa0\\n\\n\\n\\n\\n\\nDocente(s) Responsável(eis)\\n\\n\\n\\n\\n\\n\\n \\r\\n              6293113 - Ricardo Roberto da Silva\\n\\n\\n\\n\\n\\n\\xa0\\n\\n\\n\\n\\n\\nPrograma Resumido\\n\\n\\n\\nEsta disciplina compreende a coleta e organização de dados, identificação e classificação das variáveis em estudo, apresentação dos resultados em tabelas e/ou gráficos a fim de executar uma análise exploratória dos mesmos. Analise e distribuição de frequências de uma ou mais variáveis qualitativas e quantitativas. Investigação da associação entre variáveis qualitativas e quantitativas. Cálculo de probabilidades para eventos dependentes e independentes.\\n\\n\\xa0\\n\\n \\n\\n\\n\\xa0\\n\\n\\xa0\\n\\n\\n\\nPrograma\\n\\n\\n\\nIntrodução à Estatística; - População e amostra; - Escalas de medida; - Variáveis e sua classificação; - Distribuição de frequências; - Tabelas e gráficos; - Análise de uma distribuição de frequências a duas variáveis qualitativas; - Estudo da associação em tabelas 2x2 e rxs; - Análise de uma distribuição de frequências a duas variáveis quantitativas; - Medidas de posição e de variabilidade; - Correlação linear. Teoria elementar de Probabilidade; - Distribuição de Probabilidade Binomial e Normal.\\n\\n\\xa0\\n\\n \\n\\n\\n\\xa0\\n\\n\\xa0\\n\\n\\n\\nAvaliação\\n\\n\\n\\n\\n\\xa0\\xa0\\xa0\\xa0\\xa0\\n \\n\\n\\nMétodo\\n\\n\\n \\r\\n        Aula expositiva dialogada; Aprendizagem baseada em Problemas  e Resolução de exercícios.\\n\\n\\n\\nCritério\\n\\n\\n \\r\\n        \\nO aluno deverá mostrar ter atingido os objetivos gerais e específicos do módulo através de aprovação revelada por um escore de 0 a 10. Os instrumentos de avaliação serão: \\n- duas Provas com questões objetivas, escritas e individuais, sendo que a primeira terá peso 2 e a segunda peso 3.\\n- Listas de Exercícios em grupos e/ou individuais, e/ou aplicações no TCC1 do aluno, com peso 1.\\n\\nCritério de avaliação: Será aprovado o aluno que obtiver média igual ou superior a 5,0, calculada pela fórmula:\\n\\nM= (E+2.P1+3.P2)/6\\nOnde: E é a nota das listas de Exercícios e/ou aplicações no TCC1, P1 é a nota da primeira prova e P2 é a nota da segunda prova.\\n\\n\\n\\n\\nNorma de Recuperação\\n\\n\\n \\r\\n        Prova\\n\\n\\n\\n\\n\\n\\n\\n\\n\\xa0\\n\\n\\nBibliografia\\n\\n\\n\\xa0\\xa0\\xa0\\xa0\\xa0\\n \\n\\n\\n\\n1.\\tDaniel, W.W. Biostatistcs: A Foundation for Analysis in the Health Sciences. John Wiley & Sons, 10th\\nEdition, 2013\\n2.\\tTriola, M.F. Introdução à Estatística, LTC Livros Técnicos e Científicos, 10ª edição, 2008\\n3.\\tBussab, W. Estatística Básica, Saraiva. 5ª edição, 2006\\n4.\\tBerquó, E.S.; Souza, J.M.P.; Gottlieb, S.L.B. Bioestatística, EPU-São Paulo, 1981\\n5.     Estatística Básica. Pedro A. Morettin, Wilton O. Bussab. 9a edição - São Paulo: Saraiva, 2017.\\n\\n\\n\\n\\n\\n\\n\\xa0\\n\\n\\n\\n\\n\\n\\nClique \\r\\n        para consultar os requisitos para CGF2022 \\n\\n\\n\\n\\n\\n\\nClique \\r\\n        para consultar o oferecimento para CGF2022 \\n\\n\\n',\n",
              "  '\\n\\n\\xa0Preparar para impressão\\xa0\\n\\n',\n",
              "  '\\n\\n',\n",
              "  '\\n\\r\\n\\t\\t\\tJúpiter - Sistema de Gestão Acadêmica da Pró-Reitoria de Graduação\\r\\n\\t\\t\\n',\n",
              "  ' \\r\\n\\t    Faculdade de Ciências Farmacêuticas de Ribeirão Preto',\n",
              "  '\\xa0',\n",
              "  ' \\r\\n\\t    Disciplinas Interdepartamentais da FCFRP',\n",
              "  '\\xa0',\n",
              "  '\\nDisciplina: CGF2022 - Bioestatística I\\n',\n",
              "  ' \\r\\n         Biostatistics I \\n',\n",
              "  '\\nCréditos Aula:',\n",
              "  ' \\r\\n        2\\r\\n\\t\\t',\n",
              "  ' \\r\\n        Créditos Trabalho:',\n",
              "  ' \\r\\n        0',\n",
              "  ' \\r\\n        Carga Horária Total: ',\n",
              "  ' \\r\\n       \\t\\t30 h \\r\\n \\t\\t\\t\\r\\n\\t\\t\\t \\r\\n\\t\\t\\t\\t\\t',\n",
              "  '\\nTipo:',\n",
              "  ' \\r\\n\\t   \\r\\n\\t   \\r\\n\\t   Semestral\\r\\n\\t   \\r\\n\\t   \\r\\n\\t   \\t   \\r\\n\\t   ',\n",
              "  ' \\r\\n                    Ativação: ',\n",
              "  ' \\r\\n        15/07/2020 \\r\\n\\t\\t',\n",
              "  'Desativação:\\n',\n",
              "  '\\nObjetivos ',\n",
              "  '\\nFornecer aos alunos os principais conceitos em Bioestatística, necessários para utilização em disciplinas específicas e para sua atuação profissional, incluindo estatística descritiva necessária para análise de dados e os conceitos de distribuições de probabilidade discretas e contínuas.',\n",
              "  '\\xa0',\n",
              "  '  ',\n",
              "  '\\xa0',\n",
              "  '\\xa0',\n",
              "  '\\nDocente(s) Responsável(eis)',\n",
              "  '\\n\\n\\n\\n \\r\\n              6293113 - Ricardo Roberto da Silva\\n\\n\\n',\n",
              "  '',\n",
              "  ' \\r\\n              6293113 - Ricardo Roberto da Silva',\n",
              "  '\\xa0',\n",
              "  '\\nPrograma Resumido',\n",
              "  '\\nEsta disciplina compreende a coleta e organização de dados, identificação e classificação das variáveis em estudo, apresentação dos resultados em tabelas e/ou gráficos a fim de executar uma análise exploratória dos mesmos. Analise e distribuição de frequências de uma ou mais variáveis qualitativas e quantitativas. Investigação da associação entre variáveis qualitativas e quantitativas. Cálculo de probabilidades para eventos dependentes e independentes.',\n",
              "  '\\xa0',\n",
              "  ' \\n',\n",
              "  '\\xa0',\n",
              "  '\\xa0',\n",
              "  '\\nPrograma',\n",
              "  '\\nIntrodução à Estatística; - População e amostra; - Escalas de medida; - Variáveis e sua classificação; - Distribuição de frequências; - Tabelas e gráficos; - Análise de uma distribuição de frequências a duas variáveis qualitativas; - Estudo da associação em tabelas 2x2 e rxs; - Análise de uma distribuição de frequências a duas variáveis quantitativas; - Medidas de posição e de variabilidade; - Correlação linear. Teoria elementar de Probabilidade; - Distribuição de Probabilidade Binomial e Normal.',\n",
              "  '\\xa0',\n",
              "  ' \\n',\n",
              "  '\\xa0',\n",
              "  '\\xa0',\n",
              "  '\\nAvaliação',\n",
              "  '\\xa0\\xa0\\xa0\\xa0\\xa0',\n",
              "  ' \\n\\n\\nMétodo\\n\\n\\n \\r\\n        Aula expositiva dialogada; Aprendizagem baseada em Problemas  e Resolução de exercícios.\\n\\n\\n\\nCritério\\n\\n\\n \\r\\n        \\nO aluno deverá mostrar ter atingido os objetivos gerais e específicos do módulo através de aprovação revelada por um escore de 0 a 10. Os instrumentos de avaliação serão: \\n- duas Provas com questões objetivas, escritas e individuais, sendo que a primeira terá peso 2 e a segunda peso 3.\\n- Listas de Exercícios em grupos e/ou individuais, e/ou aplicações no TCC1 do aluno, com peso 1.\\n\\nCritério de avaliação: Será aprovado o aluno que obtiver média igual ou superior a 5,0, calculada pela fórmula:\\n\\nM= (E+2.P1+3.P2)/6\\nOnde: E é a nota das listas de Exercícios e/ou aplicações no TCC1, P1 é a nota da primeira prova e P2 é a nota da segunda prova.\\n\\n\\n\\n\\nNorma de Recuperação\\n\\n\\n \\r\\n        Prova\\n\\n\\n',\n",
              "  '\\nMétodo',\n",
              "  ' \\r\\n        Aula expositiva dialogada; Aprendizagem baseada em Problemas  e Resolução de exercícios.',\n",
              "  '\\nCritério',\n",
              "  ' \\r\\n        \\nO aluno deverá mostrar ter atingido os objetivos gerais e específicos do módulo através de aprovação revelada por um escore de 0 a 10. Os instrumentos de avaliação serão: \\n- duas Provas com questões objetivas, escritas e individuais, sendo que a primeira terá peso 2 e a segunda peso 3.\\n- Listas de Exercícios em grupos e/ou individuais, e/ou aplicações no TCC1 do aluno, com peso 1.\\n\\nCritério de avaliação: Será aprovado o aluno que obtiver média igual ou superior a 5,0, calculada pela fórmula:\\n\\nM= (E+2.P1+3.P2)/6\\nOnde: E é a nota das listas de Exercícios e/ou aplicações no TCC1, P1 é a nota da primeira prova e P2 é a nota da segunda prova.\\n',\n",
              "  '\\nNorma de Recuperação',\n",
              "  ' \\r\\n        Prova',\n",
              "  '\\xa0',\n",
              "  '\\nBibliografia',\n",
              "  '\\xa0\\xa0\\xa0\\xa0\\xa0',\n",
              "  ' \\n\\n\\n\\n1.\\tDaniel, W.W. Biostatistcs: A Foundation for Analysis in the Health Sciences. John Wiley & Sons, 10th\\nEdition, 2013\\n2.\\tTriola, M.F. Introdução à Estatística, LTC Livros Técnicos e Científicos, 10ª edição, 2008\\n3.\\tBussab, W. Estatística Básica, Saraiva. 5ª edição, 2006\\n4.\\tBerquó, E.S.; Souza, J.M.P.; Gottlieb, S.L.B. Bioestatística, EPU-São Paulo, 1981\\n5.     Estatística Básica. Pedro A. Morettin, Wilton O. Bussab. 9a edição - São Paulo: Saraiva, 2017.\\n\\n\\n',\n",
              "  '',\n",
              "  '\\n1.\\tDaniel, W.W. Biostatistcs: A Foundation for Analysis in the Health Sciences. John Wiley & Sons, 10th\\nEdition, 2013\\n2.\\tTriola, M.F. Introdução à Estatística, LTC Livros Técnicos e Científicos, 10ª edição, 2008\\n3.\\tBussab, W. Estatística Básica, Saraiva. 5ª edição, 2006\\n4.\\tBerquó, E.S.; Souza, J.M.P.; Gottlieb, S.L.B. Bioestatística, EPU-São Paulo, 1981\\n5.     Estatística Básica. Pedro A. Morettin, Wilton O. Bussab. 9a edição - São Paulo: Saraiva, 2017.',\n",
              "  '\\xa0',\n",
              "  '\\nClique \\r\\n        para consultar os requisitos para CGF2022 ',\n",
              "  '\\nClique \\r\\n        para consultar o oferecimento para CGF2022 '],\n",
              " ['\\n\\n\\xa0Preparar para impressão\\xa0\\n\\n'],\n",
              " ['\\n\\n',\n",
              "  '\\n\\r\\n\\t\\t\\tJúpiter - Sistema de Gestão Acadêmica da Pró-Reitoria de Graduação\\r\\n\\t\\t\\n'],\n",
              " [' \\r\\n\\t    Faculdade de Ciências Farmacêuticas de Ribeirão Preto'],\n",
              " ['\\xa0'],\n",
              " [' \\r\\n\\t    Disciplinas Interdepartamentais da FCFRP'],\n",
              " ['\\xa0'],\n",
              " ['\\nDisciplina: CGF2022 - Bioestatística I\\n'],\n",
              " [' \\r\\n         Biostatistics I \\n'],\n",
              " ['\\nCréditos Aula:', ' \\r\\n        2\\r\\n\\t\\t'],\n",
              " [' \\r\\n        Créditos Trabalho:', ' \\r\\n        0'],\n",
              " [' \\r\\n        Carga Horária Total: ',\n",
              "  ' \\r\\n       \\t\\t30 h \\r\\n \\t\\t\\t\\r\\n\\t\\t\\t \\r\\n\\t\\t\\t\\t\\t'],\n",
              " ['\\nTipo:',\n",
              "  ' \\r\\n\\t   \\r\\n\\t   \\r\\n\\t   Semestral\\r\\n\\t   \\r\\n\\t   \\r\\n\\t   \\t   \\r\\n\\t   '],\n",
              " [' \\r\\n                    Ativação: ',\n",
              "  ' \\r\\n        15/07/2020 \\r\\n\\t\\t',\n",
              "  'Desativação:\\n'],\n",
              " ['\\nObjetivos '],\n",
              " ['\\nFornecer aos alunos os principais conceitos em Bioestatística, necessários para utilização em disciplinas específicas e para sua atuação profissional, incluindo estatística descritiva necessária para análise de dados e os conceitos de distribuições de probabilidade discretas e contínuas.'],\n",
              " ['\\xa0'],\n",
              " ['  '],\n",
              " ['\\xa0'],\n",
              " ['\\xa0'],\n",
              " ['\\nDocente(s) Responsável(eis)'],\n",
              " ['\\n\\n\\n\\n \\r\\n              6293113 - Ricardo Roberto da Silva\\n\\n\\n',\n",
              "  '',\n",
              "  ' \\r\\n              6293113 - Ricardo Roberto da Silva'],\n",
              " ['', ' \\r\\n              6293113 - Ricardo Roberto da Silva'],\n",
              " ['\\xa0'],\n",
              " ['\\nPrograma Resumido'],\n",
              " ['\\nEsta disciplina compreende a coleta e organização de dados, identificação e classificação das variáveis em estudo, apresentação dos resultados em tabelas e/ou gráficos a fim de executar uma análise exploratória dos mesmos. Analise e distribuição de frequências de uma ou mais variáveis qualitativas e quantitativas. Investigação da associação entre variáveis qualitativas e quantitativas. Cálculo de probabilidades para eventos dependentes e independentes.'],\n",
              " ['\\xa0'],\n",
              " [' \\n'],\n",
              " ['\\xa0'],\n",
              " ['\\xa0'],\n",
              " ['\\nPrograma'],\n",
              " ['\\nIntrodução à Estatística; - População e amostra; - Escalas de medida; - Variáveis e sua classificação; - Distribuição de frequências; - Tabelas e gráficos; - Análise de uma distribuição de frequências a duas variáveis qualitativas; - Estudo da associação em tabelas 2x2 e rxs; - Análise de uma distribuição de frequências a duas variáveis quantitativas; - Medidas de posição e de variabilidade; - Correlação linear. Teoria elementar de Probabilidade; - Distribuição de Probabilidade Binomial e Normal.'],\n",
              " ['\\xa0'],\n",
              " [' \\n'],\n",
              " ['\\xa0'],\n",
              " ['\\xa0'],\n",
              " ['\\nAvaliação'],\n",
              " ['\\xa0\\xa0\\xa0\\xa0\\xa0',\n",
              "  ' \\n\\n\\nMétodo\\n\\n\\n \\r\\n        Aula expositiva dialogada; Aprendizagem baseada em Problemas  e Resolução de exercícios.\\n\\n\\n\\nCritério\\n\\n\\n \\r\\n        \\nO aluno deverá mostrar ter atingido os objetivos gerais e específicos do módulo através de aprovação revelada por um escore de 0 a 10. Os instrumentos de avaliação serão: \\n- duas Provas com questões objetivas, escritas e individuais, sendo que a primeira terá peso 2 e a segunda peso 3.\\n- Listas de Exercícios em grupos e/ou individuais, e/ou aplicações no TCC1 do aluno, com peso 1.\\n\\nCritério de avaliação: Será aprovado o aluno que obtiver média igual ou superior a 5,0, calculada pela fórmula:\\n\\nM= (E+2.P1+3.P2)/6\\nOnde: E é a nota das listas de Exercícios e/ou aplicações no TCC1, P1 é a nota da primeira prova e P2 é a nota da segunda prova.\\n\\n\\n\\n\\nNorma de Recuperação\\n\\n\\n \\r\\n        Prova\\n\\n\\n',\n",
              "  '\\nMétodo',\n",
              "  ' \\r\\n        Aula expositiva dialogada; Aprendizagem baseada em Problemas  e Resolução de exercícios.',\n",
              "  '\\nCritério',\n",
              "  ' \\r\\n        \\nO aluno deverá mostrar ter atingido os objetivos gerais e específicos do módulo através de aprovação revelada por um escore de 0 a 10. Os instrumentos de avaliação serão: \\n- duas Provas com questões objetivas, escritas e individuais, sendo que a primeira terá peso 2 e a segunda peso 3.\\n- Listas de Exercícios em grupos e/ou individuais, e/ou aplicações no TCC1 do aluno, com peso 1.\\n\\nCritério de avaliação: Será aprovado o aluno que obtiver média igual ou superior a 5,0, calculada pela fórmula:\\n\\nM= (E+2.P1+3.P2)/6\\nOnde: E é a nota das listas de Exercícios e/ou aplicações no TCC1, P1 é a nota da primeira prova e P2 é a nota da segunda prova.\\n',\n",
              "  '\\nNorma de Recuperação',\n",
              "  ' \\r\\n        Prova'],\n",
              " ['\\nMétodo'],\n",
              " [' \\r\\n        Aula expositiva dialogada; Aprendizagem baseada em Problemas  e Resolução de exercícios.'],\n",
              " ['\\nCritério'],\n",
              " [' \\r\\n        \\nO aluno deverá mostrar ter atingido os objetivos gerais e específicos do módulo através de aprovação revelada por um escore de 0 a 10. Os instrumentos de avaliação serão: \\n- duas Provas com questões objetivas, escritas e individuais, sendo que a primeira terá peso 2 e a segunda peso 3.\\n- Listas de Exercícios em grupos e/ou individuais, e/ou aplicações no TCC1 do aluno, com peso 1.\\n\\nCritério de avaliação: Será aprovado o aluno que obtiver média igual ou superior a 5,0, calculada pela fórmula:\\n\\nM= (E+2.P1+3.P2)/6\\nOnde: E é a nota das listas de Exercícios e/ou aplicações no TCC1, P1 é a nota da primeira prova e P2 é a nota da segunda prova.\\n'],\n",
              " ['\\nNorma de Recuperação'],\n",
              " [' \\r\\n        Prova'],\n",
              " [],\n",
              " ['\\xa0'],\n",
              " ['\\xa0\\xa0\\xa0\\xa0\\xa0',\n",
              "  ' \\n\\n\\n\\n1.\\tDaniel, W.W. Biostatistcs: A Foundation for Analysis in the Health Sciences. John Wiley & Sons, 10th\\nEdition, 2013\\n2.\\tTriola, M.F. Introdução à Estatística, LTC Livros Técnicos e Científicos, 10ª edição, 2008\\n3.\\tBussab, W. Estatística Básica, Saraiva. 5ª edição, 2006\\n4.\\tBerquó, E.S.; Souza, J.M.P.; Gottlieb, S.L.B. Bioestatística, EPU-São Paulo, 1981\\n5.     Estatística Básica. Pedro A. Morettin, Wilton O. Bussab. 9a edição - São Paulo: Saraiva, 2017.\\n\\n\\n',\n",
              "  '',\n",
              "  '\\n1.\\tDaniel, W.W. Biostatistcs: A Foundation for Analysis in the Health Sciences. John Wiley & Sons, 10th\\nEdition, 2013\\n2.\\tTriola, M.F. Introdução à Estatística, LTC Livros Técnicos e Científicos, 10ª edição, 2008\\n3.\\tBussab, W. Estatística Básica, Saraiva. 5ª edição, 2006\\n4.\\tBerquó, E.S.; Souza, J.M.P.; Gottlieb, S.L.B. Bioestatística, EPU-São Paulo, 1981\\n5.     Estatística Básica. Pedro A. Morettin, Wilton O. Bussab. 9a edição - São Paulo: Saraiva, 2017.'],\n",
              " ['',\n",
              "  '\\n1.\\tDaniel, W.W. Biostatistcs: A Foundation for Analysis in the Health Sciences. John Wiley & Sons, 10th\\nEdition, 2013\\n2.\\tTriola, M.F. Introdução à Estatística, LTC Livros Técnicos e Científicos, 10ª edição, 2008\\n3.\\tBussab, W. Estatística Básica, Saraiva. 5ª edição, 2006\\n4.\\tBerquó, E.S.; Souza, J.M.P.; Gottlieb, S.L.B. Bioestatística, EPU-São Paulo, 1981\\n5.     Estatística Básica. Pedro A. Morettin, Wilton O. Bussab. 9a edição - São Paulo: Saraiva, 2017.'],\n",
              " ['\\xa0'],\n",
              " ['\\nClique \\r\\n        para consultar os requisitos para CGF2022 '],\n",
              " ['\\nClique \\r\\n        para consultar o oferecimento para CGF2022 '],\n",
              " ['\\n\\n'],\n",
              " ['\\n\\n'],\n",
              " ['\\n\\n'],\n",
              " ['\\n\\n\\n\\n\\n\\n\\n\\xa0Preparar para impressão\\xa0\\n\\n\\n\\n\\n\\n\\n\\n\\n\\n\\n\\r\\n\\t\\t\\tJúpiter - Sistema de Gestão Acadêmica da Pró-Reitoria de Graduação\\r\\n\\t\\t\\n\\n\\n\\n\\n\\n\\n \\r\\n\\t    Faculdade de Ciências Farmacêuticas de Ribeirão Preto\\n\\n\\n\\xa0\\n\\n\\n \\r\\n\\t    Disciplinas Interdepartamentais da FCFRP\\n\\n\\n\\xa0\\n\\n\\n\\nDisciplina: CGF2022 - Bioestatística I\\n\\n\\n\\n \\r\\n         Biostatistics I \\n\\n\\n\\n\\n\\n\\n\\nCréditos Aula:\\n \\r\\n        2\\r\\n\\t\\t\\n\\n\\n \\r\\n        Créditos Trabalho:\\n \\r\\n        0\\n\\n\\n \\r\\n        Carga Horária Total: \\n \\r\\n       \\t\\t30 h \\r\\n \\t\\t\\t\\r\\n\\t\\t\\t \\r\\n\\t\\t\\t\\t\\t\\n\\n\\n\\nTipo:\\n \\r\\n\\t   \\r\\n\\t   \\r\\n\\t   Semestral\\r\\n\\t   \\r\\n\\t   \\r\\n\\t   \\t   \\r\\n\\t   \\n\\n\\n \\r\\n                    Ativação: \\n \\r\\n        15/07/2020 \\r\\n\\t\\t\\nDesativação:\\n\\n\\n\\n\\n\\n\\n\\nObjetivos \\n\\n\\n\\nFornecer aos alunos os principais conceitos em Bioestatística, necessários para utilização em disciplinas específicas e para sua atuação profissional, incluindo estatística descritiva necessária para análise de dados e os conceitos de distribuições de probabilidade discretas e contínuas.\\n\\n\\xa0\\n\\n  \\n\\n\\xa0\\n\\n\\xa0\\n\\n\\n\\n\\n\\nDocente(s) Responsável(eis)\\n\\n\\n\\n\\n\\n\\n \\r\\n              6293113 - Ricardo Roberto da Silva\\n\\n\\n\\n\\n\\n\\xa0\\n\\n\\n\\n\\n\\nPrograma Resumido\\n\\n\\n\\nEsta disciplina compreende a coleta e organização de dados, identificação e classificação das variáveis em estudo, apresentação dos resultados em tabelas e/ou gráficos a fim de executar uma análise exploratória dos mesmos. Analise e distribuição de frequências de uma ou mais variáveis qualitativas e quantitativas. Investigação da associação entre variáveis qualitativas e quantitativas. Cálculo de probabilidades para eventos dependentes e independentes.\\n\\n\\xa0\\n\\n \\n\\n\\n\\xa0\\n\\n\\xa0\\n\\n\\n\\nPrograma\\n\\n\\n\\nIntrodução à Estatística; - População e amostra; - Escalas de medida; - Variáveis e sua classificação; - Distribuição de frequências; - Tabelas e gráficos; - Análise de uma distribuição de frequências a duas variáveis qualitativas; - Estudo da associação em tabelas 2x2 e rxs; - Análise de uma distribuição de frequências a duas variáveis quantitativas; - Medidas de posição e de variabilidade; - Correlação linear. Teoria elementar de Probabilidade; - Distribuição de Probabilidade Binomial e Normal.\\n\\n\\xa0\\n\\n \\n\\n\\n\\xa0\\n\\n\\xa0\\n\\n\\n\\nAvaliação\\n\\n\\n\\n\\n\\xa0\\xa0\\xa0\\xa0\\xa0\\n \\n\\n\\nMétodo\\n\\n\\n \\r\\n        Aula expositiva dialogada; Aprendizagem baseada em Problemas  e Resolução de exercícios.\\n\\n\\n\\nCritério\\n\\n\\n \\r\\n        \\nO aluno deverá mostrar ter atingido os objetivos gerais e específicos do módulo através de aprovação revelada por um escore de 0 a 10. Os instrumentos de avaliação serão: \\n- duas Provas com questões objetivas, escritas e individuais, sendo que a primeira terá peso 2 e a segunda peso 3.\\n- Listas de Exercícios em grupos e/ou individuais, e/ou aplicações no TCC1 do aluno, com peso 1.\\n\\nCritério de avaliação: Será aprovado o aluno que obtiver média igual ou superior a 5,0, calculada pela fórmula:\\n\\nM= (E+2.P1+3.P2)/6\\nOnde: E é a nota das listas de Exercícios e/ou aplicações no TCC1, P1 é a nota da primeira prova e P2 é a nota da segunda prova.\\n\\n\\n\\n\\nNorma de Recuperação\\n\\n\\n \\r\\n        Prova\\n\\n\\n\\n\\n\\n\\n\\n\\n\\xa0\\n\\n\\nBibliografia\\n\\n\\n\\xa0\\xa0\\xa0\\xa0\\xa0\\n \\n\\n\\n\\n1.\\tDaniel, W.W. Biostatistcs: A Foundation for Analysis in the Health Sciences. John Wiley & Sons, 10th\\nEdition, 2013\\n2.\\tTriola, M.F. Introdução à Estatística, LTC Livros Técnicos e Científicos, 10ª edição, 2008\\n3.\\tBussab, W. Estatística Básica, Saraiva. 5ª edição, 2006\\n4.\\tBerquó, E.S.; Souza, J.M.P.; Gottlieb, S.L.B. Bioestatística, EPU-São Paulo, 1981\\n5.     Estatística Básica. Pedro A. Morettin, Wilton O. Bussab. 9a edição - São Paulo: Saraiva, 2017.\\n\\n\\n\\n\\n\\n\\n\\xa0\\n\\n\\n\\n\\n\\n\\nClique \\r\\n        para consultar os requisitos para CGF2022 \\n\\n\\n\\n\\n\\n\\nClique \\r\\n        para consultar o oferecimento para CGF2022 \\n\\n\\n',\n",
              "  '\\n\\n\\xa0Preparar para impressão\\xa0\\n\\n',\n",
              "  '\\n\\n',\n",
              "  '\\n\\r\\n\\t\\t\\tJúpiter - Sistema de Gestão Acadêmica da Pró-Reitoria de Graduação\\r\\n\\t\\t\\n',\n",
              "  ' \\r\\n\\t    Faculdade de Ciências Farmacêuticas de Ribeirão Preto',\n",
              "  '\\xa0',\n",
              "  ' \\r\\n\\t    Disciplinas Interdepartamentais da FCFRP',\n",
              "  '\\xa0',\n",
              "  '\\nDisciplina: CGF2022 - Bioestatística I\\n',\n",
              "  ' \\r\\n         Biostatistics I \\n',\n",
              "  '\\nCréditos Aula:',\n",
              "  ' \\r\\n        2\\r\\n\\t\\t',\n",
              "  ' \\r\\n        Créditos Trabalho:',\n",
              "  ' \\r\\n        0',\n",
              "  ' \\r\\n        Carga Horária Total: ',\n",
              "  ' \\r\\n       \\t\\t30 h \\r\\n \\t\\t\\t\\r\\n\\t\\t\\t \\r\\n\\t\\t\\t\\t\\t',\n",
              "  '\\nTipo:',\n",
              "  ' \\r\\n\\t   \\r\\n\\t   \\r\\n\\t   Semestral\\r\\n\\t   \\r\\n\\t   \\r\\n\\t   \\t   \\r\\n\\t   ',\n",
              "  ' \\r\\n                    Ativação: ',\n",
              "  ' \\r\\n        15/07/2020 \\r\\n\\t\\t',\n",
              "  'Desativação:\\n',\n",
              "  '\\nObjetivos ',\n",
              "  '\\nFornecer aos alunos os principais conceitos em Bioestatística, necessários para utilização em disciplinas específicas e para sua atuação profissional, incluindo estatística descritiva necessária para análise de dados e os conceitos de distribuições de probabilidade discretas e contínuas.',\n",
              "  '\\xa0',\n",
              "  '  ',\n",
              "  '\\xa0',\n",
              "  '\\xa0',\n",
              "  '\\nDocente(s) Responsável(eis)',\n",
              "  '\\n\\n\\n\\n \\r\\n              6293113 - Ricardo Roberto da Silva\\n\\n\\n',\n",
              "  '',\n",
              "  ' \\r\\n              6293113 - Ricardo Roberto da Silva',\n",
              "  '\\xa0',\n",
              "  '\\nPrograma Resumido',\n",
              "  '\\nEsta disciplina compreende a coleta e organização de dados, identificação e classificação das variáveis em estudo, apresentação dos resultados em tabelas e/ou gráficos a fim de executar uma análise exploratória dos mesmos. Analise e distribuição de frequências de uma ou mais variáveis qualitativas e quantitativas. Investigação da associação entre variáveis qualitativas e quantitativas. Cálculo de probabilidades para eventos dependentes e independentes.',\n",
              "  '\\xa0',\n",
              "  ' \\n',\n",
              "  '\\xa0',\n",
              "  '\\xa0',\n",
              "  '\\nPrograma',\n",
              "  '\\nIntrodução à Estatística; - População e amostra; - Escalas de medida; - Variáveis e sua classificação; - Distribuição de frequências; - Tabelas e gráficos; - Análise de uma distribuição de frequências a duas variáveis qualitativas; - Estudo da associação em tabelas 2x2 e rxs; - Análise de uma distribuição de frequências a duas variáveis quantitativas; - Medidas de posição e de variabilidade; - Correlação linear. Teoria elementar de Probabilidade; - Distribuição de Probabilidade Binomial e Normal.',\n",
              "  '\\xa0',\n",
              "  ' \\n',\n",
              "  '\\xa0',\n",
              "  '\\xa0',\n",
              "  '\\nAvaliação',\n",
              "  '\\xa0\\xa0\\xa0\\xa0\\xa0',\n",
              "  ' \\n\\n\\nMétodo\\n\\n\\n \\r\\n        Aula expositiva dialogada; Aprendizagem baseada em Problemas  e Resolução de exercícios.\\n\\n\\n\\nCritério\\n\\n\\n \\r\\n        \\nO aluno deverá mostrar ter atingido os objetivos gerais e específicos do módulo através de aprovação revelada por um escore de 0 a 10. Os instrumentos de avaliação serão: \\n- duas Provas com questões objetivas, escritas e individuais, sendo que a primeira terá peso 2 e a segunda peso 3.\\n- Listas de Exercícios em grupos e/ou individuais, e/ou aplicações no TCC1 do aluno, com peso 1.\\n\\nCritério de avaliação: Será aprovado o aluno que obtiver média igual ou superior a 5,0, calculada pela fórmula:\\n\\nM= (E+2.P1+3.P2)/6\\nOnde: E é a nota das listas de Exercícios e/ou aplicações no TCC1, P1 é a nota da primeira prova e P2 é a nota da segunda prova.\\n\\n\\n\\n\\nNorma de Recuperação\\n\\n\\n \\r\\n        Prova\\n\\n\\n',\n",
              "  '\\nMétodo',\n",
              "  ' \\r\\n        Aula expositiva dialogada; Aprendizagem baseada em Problemas  e Resolução de exercícios.',\n",
              "  '\\nCritério',\n",
              "  ' \\r\\n        \\nO aluno deverá mostrar ter atingido os objetivos gerais e específicos do módulo através de aprovação revelada por um escore de 0 a 10. Os instrumentos de avaliação serão: \\n- duas Provas com questões objetivas, escritas e individuais, sendo que a primeira terá peso 2 e a segunda peso 3.\\n- Listas de Exercícios em grupos e/ou individuais, e/ou aplicações no TCC1 do aluno, com peso 1.\\n\\nCritério de avaliação: Será aprovado o aluno que obtiver média igual ou superior a 5,0, calculada pela fórmula:\\n\\nM= (E+2.P1+3.P2)/6\\nOnde: E é a nota das listas de Exercícios e/ou aplicações no TCC1, P1 é a nota da primeira prova e P2 é a nota da segunda prova.\\n',\n",
              "  '\\nNorma de Recuperação',\n",
              "  ' \\r\\n        Prova',\n",
              "  '\\xa0',\n",
              "  '\\nBibliografia',\n",
              "  '\\xa0\\xa0\\xa0\\xa0\\xa0',\n",
              "  ' \\n\\n\\n\\n1.\\tDaniel, W.W. Biostatistcs: A Foundation for Analysis in the Health Sciences. John Wiley & Sons, 10th\\nEdition, 2013\\n2.\\tTriola, M.F. Introdução à Estatística, LTC Livros Técnicos e Científicos, 10ª edição, 2008\\n3.\\tBussab, W. Estatística Básica, Saraiva. 5ª edição, 2006\\n4.\\tBerquó, E.S.; Souza, J.M.P.; Gottlieb, S.L.B. Bioestatística, EPU-São Paulo, 1981\\n5.     Estatística Básica. Pedro A. Morettin, Wilton O. Bussab. 9a edição - São Paulo: Saraiva, 2017.\\n\\n\\n',\n",
              "  '',\n",
              "  '\\n1.\\tDaniel, W.W. Biostatistcs: A Foundation for Analysis in the Health Sciences. John Wiley & Sons, 10th\\nEdition, 2013\\n2.\\tTriola, M.F. Introdução à Estatística, LTC Livros Técnicos e Científicos, 10ª edição, 2008\\n3.\\tBussab, W. Estatística Básica, Saraiva. 5ª edição, 2006\\n4.\\tBerquó, E.S.; Souza, J.M.P.; Gottlieb, S.L.B. Bioestatística, EPU-São Paulo, 1981\\n5.     Estatística Básica. Pedro A. Morettin, Wilton O. Bussab. 9a edição - São Paulo: Saraiva, 2017.',\n",
              "  '\\xa0',\n",
              "  '\\nClique \\r\\n        para consultar os requisitos para CGF2022 ',\n",
              "  '\\nClique \\r\\n        para consultar o oferecimento para CGF2022 '],\n",
              " ['\\n\\n\\xa0Preparar para impressão\\xa0\\n\\n'],\n",
              " ['\\n\\n',\n",
              "  '\\n\\r\\n\\t\\t\\tJúpiter - Sistema de Gestão Acadêmica da Pró-Reitoria de Graduação\\r\\n\\t\\t\\n'],\n",
              " [' \\r\\n\\t    Faculdade de Ciências Farmacêuticas de Ribeirão Preto'],\n",
              " ['\\xa0'],\n",
              " [' \\r\\n\\t    Disciplinas Interdepartamentais da FCFRP'],\n",
              " ['\\xa0'],\n",
              " ['\\nDisciplina: CGF2022 - Bioestatística I\\n'],\n",
              " [' \\r\\n         Biostatistics I \\n'],\n",
              " ['\\nCréditos Aula:', ' \\r\\n        2\\r\\n\\t\\t'],\n",
              " [' \\r\\n        Créditos Trabalho:', ' \\r\\n        0'],\n",
              " [' \\r\\n        Carga Horária Total: ',\n",
              "  ' \\r\\n       \\t\\t30 h \\r\\n \\t\\t\\t\\r\\n\\t\\t\\t \\r\\n\\t\\t\\t\\t\\t'],\n",
              " ['\\nTipo:',\n",
              "  ' \\r\\n\\t   \\r\\n\\t   \\r\\n\\t   Semestral\\r\\n\\t   \\r\\n\\t   \\r\\n\\t   \\t   \\r\\n\\t   '],\n",
              " [' \\r\\n                    Ativação: ',\n",
              "  ' \\r\\n        15/07/2020 \\r\\n\\t\\t',\n",
              "  'Desativação:\\n'],\n",
              " ['\\nObjetivos '],\n",
              " ['\\nFornecer aos alunos os principais conceitos em Bioestatística, necessários para utilização em disciplinas específicas e para sua atuação profissional, incluindo estatística descritiva necessária para análise de dados e os conceitos de distribuições de probabilidade discretas e contínuas.'],\n",
              " ['\\xa0'],\n",
              " ['  '],\n",
              " ['\\xa0'],\n",
              " ['\\xa0'],\n",
              " ['\\nDocente(s) Responsável(eis)'],\n",
              " ['\\n\\n\\n\\n \\r\\n              6293113 - Ricardo Roberto da Silva\\n\\n\\n',\n",
              "  '',\n",
              "  ' \\r\\n              6293113 - Ricardo Roberto da Silva'],\n",
              " ['', ' \\r\\n              6293113 - Ricardo Roberto da Silva'],\n",
              " ['\\xa0'],\n",
              " ['\\nPrograma Resumido'],\n",
              " ['\\nEsta disciplina compreende a coleta e organização de dados, identificação e classificação das variáveis em estudo, apresentação dos resultados em tabelas e/ou gráficos a fim de executar uma análise exploratória dos mesmos. Analise e distribuição de frequências de uma ou mais variáveis qualitativas e quantitativas. Investigação da associação entre variáveis qualitativas e quantitativas. Cálculo de probabilidades para eventos dependentes e independentes.'],\n",
              " ['\\xa0'],\n",
              " [' \\n'],\n",
              " ['\\xa0'],\n",
              " ['\\xa0'],\n",
              " ['\\nPrograma'],\n",
              " ['\\nIntrodução à Estatística; - População e amostra; - Escalas de medida; - Variáveis e sua classificação; - Distribuição de frequências; - Tabelas e gráficos; - Análise de uma distribuição de frequências a duas variáveis qualitativas; - Estudo da associação em tabelas 2x2 e rxs; - Análise de uma distribuição de frequências a duas variáveis quantitativas; - Medidas de posição e de variabilidade; - Correlação linear. Teoria elementar de Probabilidade; - Distribuição de Probabilidade Binomial e Normal.'],\n",
              " ['\\xa0'],\n",
              " [' \\n'],\n",
              " ['\\xa0'],\n",
              " ['\\xa0'],\n",
              " ['\\nAvaliação'],\n",
              " ['\\xa0\\xa0\\xa0\\xa0\\xa0',\n",
              "  ' \\n\\n\\nMétodo\\n\\n\\n \\r\\n        Aula expositiva dialogada; Aprendizagem baseada em Problemas  e Resolução de exercícios.\\n\\n\\n\\nCritério\\n\\n\\n \\r\\n        \\nO aluno deverá mostrar ter atingido os objetivos gerais e específicos do módulo através de aprovação revelada por um escore de 0 a 10. Os instrumentos de avaliação serão: \\n- duas Provas com questões objetivas, escritas e individuais, sendo que a primeira terá peso 2 e a segunda peso 3.\\n- Listas de Exercícios em grupos e/ou individuais, e/ou aplicações no TCC1 do aluno, com peso 1.\\n\\nCritério de avaliação: Será aprovado o aluno que obtiver média igual ou superior a 5,0, calculada pela fórmula:\\n\\nM= (E+2.P1+3.P2)/6\\nOnde: E é a nota das listas de Exercícios e/ou aplicações no TCC1, P1 é a nota da primeira prova e P2 é a nota da segunda prova.\\n\\n\\n\\n\\nNorma de Recuperação\\n\\n\\n \\r\\n        Prova\\n\\n\\n',\n",
              "  '\\nMétodo',\n",
              "  ' \\r\\n        Aula expositiva dialogada; Aprendizagem baseada em Problemas  e Resolução de exercícios.',\n",
              "  '\\nCritério',\n",
              "  ' \\r\\n        \\nO aluno deverá mostrar ter atingido os objetivos gerais e específicos do módulo através de aprovação revelada por um escore de 0 a 10. Os instrumentos de avaliação serão: \\n- duas Provas com questões objetivas, escritas e individuais, sendo que a primeira terá peso 2 e a segunda peso 3.\\n- Listas de Exercícios em grupos e/ou individuais, e/ou aplicações no TCC1 do aluno, com peso 1.\\n\\nCritério de avaliação: Será aprovado o aluno que obtiver média igual ou superior a 5,0, calculada pela fórmula:\\n\\nM= (E+2.P1+3.P2)/6\\nOnde: E é a nota das listas de Exercícios e/ou aplicações no TCC1, P1 é a nota da primeira prova e P2 é a nota da segunda prova.\\n',\n",
              "  '\\nNorma de Recuperação',\n",
              "  ' \\r\\n        Prova'],\n",
              " ['\\nMétodo'],\n",
              " [' \\r\\n        Aula expositiva dialogada; Aprendizagem baseada em Problemas  e Resolução de exercícios.'],\n",
              " ['\\nCritério'],\n",
              " [' \\r\\n        \\nO aluno deverá mostrar ter atingido os objetivos gerais e específicos do módulo através de aprovação revelada por um escore de 0 a 10. Os instrumentos de avaliação serão: \\n- duas Provas com questões objetivas, escritas e individuais, sendo que a primeira terá peso 2 e a segunda peso 3.\\n- Listas de Exercícios em grupos e/ou individuais, e/ou aplicações no TCC1 do aluno, com peso 1.\\n\\nCritério de avaliação: Será aprovado o aluno que obtiver média igual ou superior a 5,0, calculada pela fórmula:\\n\\nM= (E+2.P1+3.P2)/6\\nOnde: E é a nota das listas de Exercícios e/ou aplicações no TCC1, P1 é a nota da primeira prova e P2 é a nota da segunda prova.\\n'],\n",
              " ['\\nNorma de Recuperação'],\n",
              " [' \\r\\n        Prova'],\n",
              " [],\n",
              " ['\\xa0'],\n",
              " ['\\xa0\\xa0\\xa0\\xa0\\xa0',\n",
              "  ' \\n\\n\\n\\n1.\\tDaniel, W.W. Biostatistcs: A Foundation for Analysis in the Health Sciences. John Wiley & Sons, 10th\\nEdition, 2013\\n2.\\tTriola, M.F. Introdução à Estatística, LTC Livros Técnicos e Científicos, 10ª edição, 2008\\n3.\\tBussab, W. Estatística Básica, Saraiva. 5ª edição, 2006\\n4.\\tBerquó, E.S.; Souza, J.M.P.; Gottlieb, S.L.B. Bioestatística, EPU-São Paulo, 1981\\n5.     Estatística Básica. Pedro A. Morettin, Wilton O. Bussab. 9a edição - São Paulo: Saraiva, 2017.\\n\\n\\n',\n",
              "  '',\n",
              "  '\\n1.\\tDaniel, W.W. Biostatistcs: A Foundation for Analysis in the Health Sciences. John Wiley & Sons, 10th\\nEdition, 2013\\n2.\\tTriola, M.F. Introdução à Estatística, LTC Livros Técnicos e Científicos, 10ª edição, 2008\\n3.\\tBussab, W. Estatística Básica, Saraiva. 5ª edição, 2006\\n4.\\tBerquó, E.S.; Souza, J.M.P.; Gottlieb, S.L.B. Bioestatística, EPU-São Paulo, 1981\\n5.     Estatística Básica. Pedro A. Morettin, Wilton O. Bussab. 9a edição - São Paulo: Saraiva, 2017.'],\n",
              " ['',\n",
              "  '\\n1.\\tDaniel, W.W. Biostatistcs: A Foundation for Analysis in the Health Sciences. John Wiley & Sons, 10th\\nEdition, 2013\\n2.\\tTriola, M.F. Introdução à Estatística, LTC Livros Técnicos e Científicos, 10ª edição, 2008\\n3.\\tBussab, W. Estatística Básica, Saraiva. 5ª edição, 2006\\n4.\\tBerquó, E.S.; Souza, J.M.P.; Gottlieb, S.L.B. Bioestatística, EPU-São Paulo, 1981\\n5.     Estatística Básica. Pedro A. Morettin, Wilton O. Bussab. 9a edição - São Paulo: Saraiva, 2017.'],\n",
              " ['\\xa0'],\n",
              " ['\\nClique \\r\\n        para consultar os requisitos para CGF2022 '],\n",
              " ['\\nClique \\r\\n        para consultar o oferecimento para CGF2022 '],\n",
              " ['\\n\\n'],\n",
              " ['\\n\\n'],\n",
              " ['\\n\\n'],\n",
              " ['\\n\\n\\xa0Preparar para impressão\\xa0\\n\\n'],\n",
              " ['\\n\\n',\n",
              "  '\\n\\r\\n\\t\\t\\tJúpiter - Sistema de Gestão Acadêmica da Pró-Reitoria de Graduação\\r\\n\\t\\t\\n'],\n",
              " [' \\r\\n\\t    Faculdade de Ciências Farmacêuticas de Ribeirão Preto'],\n",
              " ['\\xa0'],\n",
              " [' \\r\\n\\t    Disciplinas Interdepartamentais da FCFRP'],\n",
              " ['\\xa0'],\n",
              " ['\\nDisciplina: CGF2022 - Bioestatística I\\n'],\n",
              " [' \\r\\n         Biostatistics I \\n'],\n",
              " ['\\nCréditos Aula:', ' \\r\\n        2\\r\\n\\t\\t'],\n",
              " [' \\r\\n        Créditos Trabalho:', ' \\r\\n        0'],\n",
              " [' \\r\\n        Carga Horária Total: ',\n",
              "  ' \\r\\n       \\t\\t30 h \\r\\n \\t\\t\\t\\r\\n\\t\\t\\t \\r\\n\\t\\t\\t\\t\\t'],\n",
              " ['\\nTipo:',\n",
              "  ' \\r\\n\\t   \\r\\n\\t   \\r\\n\\t   Semestral\\r\\n\\t   \\r\\n\\t   \\r\\n\\t   \\t   \\r\\n\\t   '],\n",
              " [' \\r\\n                    Ativação: ',\n",
              "  ' \\r\\n        15/07/2020 \\r\\n\\t\\t',\n",
              "  'Desativação:\\n'],\n",
              " ['\\nObjetivos '],\n",
              " ['\\nFornecer aos alunos os principais conceitos em Bioestatística, necessários para utilização em disciplinas específicas e para sua atuação profissional, incluindo estatística descritiva necessária para análise de dados e os conceitos de distribuições de probabilidade discretas e contínuas.'],\n",
              " ['\\xa0'],\n",
              " ['  '],\n",
              " ['\\xa0'],\n",
              " ['\\xa0'],\n",
              " ['\\nDocente(s) Responsável(eis)'],\n",
              " ['\\n\\n\\n\\n \\r\\n              6293113 - Ricardo Roberto da Silva\\n\\n\\n',\n",
              "  '',\n",
              "  ' \\r\\n              6293113 - Ricardo Roberto da Silva'],\n",
              " ['', ' \\r\\n              6293113 - Ricardo Roberto da Silva'],\n",
              " ['\\xa0'],\n",
              " ['', ' \\r\\n              6293113 - Ricardo Roberto da Silva'],\n",
              " ['\\nPrograma Resumido'],\n",
              " ['\\nEsta disciplina compreende a coleta e organização de dados, identificação e classificação das variáveis em estudo, apresentação dos resultados em tabelas e/ou gráficos a fim de executar uma análise exploratória dos mesmos. Analise e distribuição de frequências de uma ou mais variáveis qualitativas e quantitativas. Investigação da associação entre variáveis qualitativas e quantitativas. Cálculo de probabilidades para eventos dependentes e independentes.'],\n",
              " ['\\xa0'],\n",
              " [' \\n'],\n",
              " ['\\xa0'],\n",
              " ['\\xa0'],\n",
              " ['\\nPrograma'],\n",
              " ['\\nIntrodução à Estatística; - População e amostra; - Escalas de medida; - Variáveis e sua classificação; - Distribuição de frequências; - Tabelas e gráficos; - Análise de uma distribuição de frequências a duas variáveis qualitativas; - Estudo da associação em tabelas 2x2 e rxs; - Análise de uma distribuição de frequências a duas variáveis quantitativas; - Medidas de posição e de variabilidade; - Correlação linear. Teoria elementar de Probabilidade; - Distribuição de Probabilidade Binomial e Normal.'],\n",
              " ['\\xa0'],\n",
              " [' \\n'],\n",
              " ['\\xa0'],\n",
              " ['\\xa0'],\n",
              " ['\\nAvaliação'],\n",
              " ['\\xa0\\xa0\\xa0\\xa0\\xa0',\n",
              "  ' \\n\\n\\nMétodo\\n\\n\\n \\r\\n        Aula expositiva dialogada; Aprendizagem baseada em Problemas  e Resolução de exercícios.\\n\\n\\n\\nCritério\\n\\n\\n \\r\\n        \\nO aluno deverá mostrar ter atingido os objetivos gerais e específicos do módulo através de aprovação revelada por um escore de 0 a 10. Os instrumentos de avaliação serão: \\n- duas Provas com questões objetivas, escritas e individuais, sendo que a primeira terá peso 2 e a segunda peso 3.\\n- Listas de Exercícios em grupos e/ou individuais, e/ou aplicações no TCC1 do aluno, com peso 1.\\n\\nCritério de avaliação: Será aprovado o aluno que obtiver média igual ou superior a 5,0, calculada pela fórmula:\\n\\nM= (E+2.P1+3.P2)/6\\nOnde: E é a nota das listas de Exercícios e/ou aplicações no TCC1, P1 é a nota da primeira prova e P2 é a nota da segunda prova.\\n\\n\\n\\n\\nNorma de Recuperação\\n\\n\\n \\r\\n        Prova\\n\\n\\n',\n",
              "  '\\nMétodo',\n",
              "  ' \\r\\n        Aula expositiva dialogada; Aprendizagem baseada em Problemas  e Resolução de exercícios.',\n",
              "  '\\nCritério',\n",
              "  ' \\r\\n        \\nO aluno deverá mostrar ter atingido os objetivos gerais e específicos do módulo através de aprovação revelada por um escore de 0 a 10. Os instrumentos de avaliação serão: \\n- duas Provas com questões objetivas, escritas e individuais, sendo que a primeira terá peso 2 e a segunda peso 3.\\n- Listas de Exercícios em grupos e/ou individuais, e/ou aplicações no TCC1 do aluno, com peso 1.\\n\\nCritério de avaliação: Será aprovado o aluno que obtiver média igual ou superior a 5,0, calculada pela fórmula:\\n\\nM= (E+2.P1+3.P2)/6\\nOnde: E é a nota das listas de Exercícios e/ou aplicações no TCC1, P1 é a nota da primeira prova e P2 é a nota da segunda prova.\\n',\n",
              "  '\\nNorma de Recuperação',\n",
              "  ' \\r\\n        Prova'],\n",
              " ['\\nMétodo'],\n",
              " [' \\r\\n        Aula expositiva dialogada; Aprendizagem baseada em Problemas  e Resolução de exercícios.'],\n",
              " ['\\nCritério'],\n",
              " [' \\r\\n        \\nO aluno deverá mostrar ter atingido os objetivos gerais e específicos do módulo através de aprovação revelada por um escore de 0 a 10. Os instrumentos de avaliação serão: \\n- duas Provas com questões objetivas, escritas e individuais, sendo que a primeira terá peso 2 e a segunda peso 3.\\n- Listas de Exercícios em grupos e/ou individuais, e/ou aplicações no TCC1 do aluno, com peso 1.\\n\\nCritério de avaliação: Será aprovado o aluno que obtiver média igual ou superior a 5,0, calculada pela fórmula:\\n\\nM= (E+2.P1+3.P2)/6\\nOnde: E é a nota das listas de Exercícios e/ou aplicações no TCC1, P1 é a nota da primeira prova e P2 é a nota da segunda prova.\\n'],\n",
              " ['\\nNorma de Recuperação'],\n",
              " [' \\r\\n        Prova'],\n",
              " ['\\nMétodo'],\n",
              " [' \\r\\n        Aula expositiva dialogada; Aprendizagem baseada em Problemas  e Resolução de exercícios.'],\n",
              " ['\\nCritério'],\n",
              " [' \\r\\n        \\nO aluno deverá mostrar ter atingido os objetivos gerais e específicos do módulo através de aprovação revelada por um escore de 0 a 10. Os instrumentos de avaliação serão: \\n- duas Provas com questões objetivas, escritas e individuais, sendo que a primeira terá peso 2 e a segunda peso 3.\\n- Listas de Exercícios em grupos e/ou individuais, e/ou aplicações no TCC1 do aluno, com peso 1.\\n\\nCritério de avaliação: Será aprovado o aluno que obtiver média igual ou superior a 5,0, calculada pela fórmula:\\n\\nM= (E+2.P1+3.P2)/6\\nOnde: E é a nota das listas de Exercícios e/ou aplicações no TCC1, P1 é a nota da primeira prova e P2 é a nota da segunda prova.\\n'],\n",
              " ['\\nNorma de Recuperação'],\n",
              " [' \\r\\n        Prova'],\n",
              " [],\n",
              " ['\\xa0'],\n",
              " ['\\xa0\\xa0\\xa0\\xa0\\xa0',\n",
              "  ' \\n\\n\\n\\n1.\\tDaniel, W.W. Biostatistcs: A Foundation for Analysis in the Health Sciences. John Wiley & Sons, 10th\\nEdition, 2013\\n2.\\tTriola, M.F. Introdução à Estatística, LTC Livros Técnicos e Científicos, 10ª edição, 2008\\n3.\\tBussab, W. Estatística Básica, Saraiva. 5ª edição, 2006\\n4.\\tBerquó, E.S.; Souza, J.M.P.; Gottlieb, S.L.B. Bioestatística, EPU-São Paulo, 1981\\n5.     Estatística Básica. Pedro A. Morettin, Wilton O. Bussab. 9a edição - São Paulo: Saraiva, 2017.\\n\\n\\n',\n",
              "  '',\n",
              "  '\\n1.\\tDaniel, W.W. Biostatistcs: A Foundation for Analysis in the Health Sciences. John Wiley & Sons, 10th\\nEdition, 2013\\n2.\\tTriola, M.F. Introdução à Estatística, LTC Livros Técnicos e Científicos, 10ª edição, 2008\\n3.\\tBussab, W. Estatística Básica, Saraiva. 5ª edição, 2006\\n4.\\tBerquó, E.S.; Souza, J.M.P.; Gottlieb, S.L.B. Bioestatística, EPU-São Paulo, 1981\\n5.     Estatística Básica. Pedro A. Morettin, Wilton O. Bussab. 9a edição - São Paulo: Saraiva, 2017.'],\n",
              " ['',\n",
              "  '\\n1.\\tDaniel, W.W. Biostatistcs: A Foundation for Analysis in the Health Sciences. John Wiley & Sons, 10th\\nEdition, 2013\\n2.\\tTriola, M.F. Introdução à Estatística, LTC Livros Técnicos e Científicos, 10ª edição, 2008\\n3.\\tBussab, W. Estatística Básica, Saraiva. 5ª edição, 2006\\n4.\\tBerquó, E.S.; Souza, J.M.P.; Gottlieb, S.L.B. Bioestatística, EPU-São Paulo, 1981\\n5.     Estatística Básica. Pedro A. Morettin, Wilton O. Bussab. 9a edição - São Paulo: Saraiva, 2017.'],\n",
              " ['\\xa0'],\n",
              " ['\\xa0\\xa0\\xa0\\xa0\\xa0',\n",
              "  ' \\n\\n\\n\\n1.\\tDaniel, W.W. Biostatistcs: A Foundation for Analysis in the Health Sciences. John Wiley & Sons, 10th\\nEdition, 2013\\n2.\\tTriola, M.F. Introdução à Estatística, LTC Livros Técnicos e Científicos, 10ª edição, 2008\\n3.\\tBussab, W. Estatística Básica, Saraiva. 5ª edição, 2006\\n4.\\tBerquó, E.S.; Souza, J.M.P.; Gottlieb, S.L.B. Bioestatística, EPU-São Paulo, 1981\\n5.     Estatística Básica. Pedro A. Morettin, Wilton O. Bussab. 9a edição - São Paulo: Saraiva, 2017.\\n\\n\\n',\n",
              "  '',\n",
              "  '\\n1.\\tDaniel, W.W. Biostatistcs: A Foundation for Analysis in the Health Sciences. John Wiley & Sons, 10th\\nEdition, 2013\\n2.\\tTriola, M.F. Introdução à Estatística, LTC Livros Técnicos e Científicos, 10ª edição, 2008\\n3.\\tBussab, W. Estatística Básica, Saraiva. 5ª edição, 2006\\n4.\\tBerquó, E.S.; Souza, J.M.P.; Gottlieb, S.L.B. Bioestatística, EPU-São Paulo, 1981\\n5.     Estatística Básica. Pedro A. Morettin, Wilton O. Bussab. 9a edição - São Paulo: Saraiva, 2017.'],\n",
              " ['',\n",
              "  '\\n1.\\tDaniel, W.W. Biostatistcs: A Foundation for Analysis in the Health Sciences. John Wiley & Sons, 10th\\nEdition, 2013\\n2.\\tTriola, M.F. Introdução à Estatística, LTC Livros Técnicos e Científicos, 10ª edição, 2008\\n3.\\tBussab, W. Estatística Básica, Saraiva. 5ª edição, 2006\\n4.\\tBerquó, E.S.; Souza, J.M.P.; Gottlieb, S.L.B. Bioestatística, EPU-São Paulo, 1981\\n5.     Estatística Básica. Pedro A. Morettin, Wilton O. Bussab. 9a edição - São Paulo: Saraiva, 2017.'],\n",
              " ['',\n",
              "  '\\n1.\\tDaniel, W.W. Biostatistcs: A Foundation for Analysis in the Health Sciences. John Wiley & Sons, 10th\\nEdition, 2013\\n2.\\tTriola, M.F. Introdução à Estatística, LTC Livros Técnicos e Científicos, 10ª edição, 2008\\n3.\\tBussab, W. Estatística Básica, Saraiva. 5ª edição, 2006\\n4.\\tBerquó, E.S.; Souza, J.M.P.; Gottlieb, S.L.B. Bioestatística, EPU-São Paulo, 1981\\n5.     Estatística Básica. Pedro A. Morettin, Wilton O. Bussab. 9a edição - São Paulo: Saraiva, 2017.'],\n",
              " ['\\nClique \\r\\n        para consultar os requisitos para CGF2022 '],\n",
              " ['\\nClique \\r\\n        para consultar o oferecimento para CGF2022 '],\n",
              " ['\\nCréditos\\r\\n      | Fale conosco\\r\\n      © 1999 - 2024 - Superintendência de Tecnologia da Informação/USP\\n']]"
            ]
          },
          "metadata": {},
          "execution_count": 9
        }
      ]
    },
    {
      "cell_type": "code",
      "source": [
        "import itertools\n",
        "fulllist = itertools.chain(*row_list)\n",
        "list(fulllist)"
      ],
      "metadata": {
        "colab": {
          "base_uri": "https://localhost:8080/"
        },
        "id": "qx0ai2KN8vVK",
        "outputId": "7ad4103e-4206-435f-c52f-67aa119c1459"
      },
      "execution_count": 20,
      "outputs": [
        {
          "output_type": "execute_result",
          "data": {
            "text/plain": [
              "['\\n\\n',\n",
              " '\\n\\n',\n",
              " '\\n\\n',\n",
              " '\\n',\n",
              " '\\n',\n",
              " '\\n\\n\\n\\n\\n\\n\\n\\n\\n\\n\\n\\xa0Preparar para impressão\\xa0\\n\\n\\n\\n\\n\\n\\n\\n\\n\\n\\n\\r\\n\\t\\t\\tJúpiter - Sistema de Gestão Acadêmica da Pró-Reitoria de Graduação\\r\\n\\t\\t\\n\\n\\n\\n\\n\\n\\n \\r\\n\\t    Faculdade de Ciências Farmacêuticas de Ribeirão Preto\\n\\n\\n\\xa0\\n\\n\\n \\r\\n\\t    Disciplinas Interdepartamentais da FCFRP\\n\\n\\n\\xa0\\n\\n\\n\\nDisciplina: CGF2022 - Bioestatística I\\n\\n\\n\\n \\r\\n         Biostatistics I \\n\\n\\n\\n\\n\\n\\n\\nCréditos Aula:\\n \\r\\n        2\\r\\n\\t\\t\\n\\n\\n \\r\\n        Créditos Trabalho:\\n \\r\\n        0\\n\\n\\n \\r\\n        Carga Horária Total: \\n \\r\\n       \\t\\t30 h \\r\\n \\t\\t\\t\\r\\n\\t\\t\\t \\r\\n\\t\\t\\t\\t\\t\\n\\n\\n\\nTipo:\\n \\r\\n\\t   \\r\\n\\t   \\r\\n\\t   Semestral\\r\\n\\t   \\r\\n\\t   \\r\\n\\t   \\t   \\r\\n\\t   \\n\\n\\n \\r\\n                    Ativação: \\n \\r\\n        15/07/2020 \\r\\n\\t\\t\\nDesativação:\\n\\n\\n\\n\\n\\n\\n\\nObjetivos \\n\\n\\n\\nFornecer aos alunos os principais conceitos em Bioestatística, necessários para utilização em disciplinas específicas e para sua atuação profissional, incluindo estatística descritiva necessária para análise de dados e os conceitos de distribuições de probabilidade discretas e contínuas.\\n\\n\\xa0\\n\\n  \\n\\n\\xa0\\n\\n\\xa0\\n\\n\\n\\n\\n\\nDocente(s) Responsável(eis)\\n\\n\\n\\n\\n\\n\\n \\r\\n              6293113 - Ricardo Roberto da Silva\\n\\n\\n\\n\\n\\n\\xa0\\n\\n\\n\\n\\n\\nPrograma Resumido\\n\\n\\n\\nEsta disciplina compreende a coleta e organização de dados, identificação e classificação das variáveis em estudo, apresentação dos resultados em tabelas e/ou gráficos a fim de executar uma análise exploratória dos mesmos. Analise e distribuição de frequências de uma ou mais variáveis qualitativas e quantitativas. Investigação da associação entre variáveis qualitativas e quantitativas. Cálculo de probabilidades para eventos dependentes e independentes.\\n\\n\\xa0\\n\\n \\n\\n\\n\\xa0\\n\\n\\xa0\\n\\n\\n\\nPrograma\\n\\n\\n\\nIntrodução à Estatística; - População e amostra; - Escalas de medida; - Variáveis e sua classificação; - Distribuição de frequências; - Tabelas e gráficos; - Análise de uma distribuição de frequências a duas variáveis qualitativas; - Estudo da associação em tabelas 2x2 e rxs; - Análise de uma distribuição de frequências a duas variáveis quantitativas; - Medidas de posição e de variabilidade; - Correlação linear. Teoria elementar de Probabilidade; - Distribuição de Probabilidade Binomial e Normal.\\n\\n\\xa0\\n\\n \\n\\n\\n\\xa0\\n\\n\\xa0\\n\\n\\n\\nAvaliação\\n\\n\\n\\n\\n\\xa0\\xa0\\xa0\\xa0\\xa0\\n \\n\\n\\nMétodo\\n\\n\\n \\r\\n        Aula expositiva dialogada; Aprendizagem baseada em Problemas  e Resolução de exercícios.\\n\\n\\n\\nCritério\\n\\n\\n \\r\\n        \\nO aluno deverá mostrar ter atingido os objetivos gerais e específicos do módulo através de aprovação revelada por um escore de 0 a 10. Os instrumentos de avaliação serão: \\n- duas Provas com questões objetivas, escritas e individuais, sendo que a primeira terá peso 2 e a segunda peso 3.\\n- Listas de Exercícios em grupos e/ou individuais, e/ou aplicações no TCC1 do aluno, com peso 1.\\n\\nCritério de avaliação: Será aprovado o aluno que obtiver média igual ou superior a 5,0, calculada pela fórmula:\\n\\nM= (E+2.P1+3.P2)/6\\nOnde: E é a nota das listas de Exercícios e/ou aplicações no TCC1, P1 é a nota da primeira prova e P2 é a nota da segunda prova.\\n\\n\\n\\n\\nNorma de Recuperação\\n\\n\\n \\r\\n        Prova\\n\\n\\n\\n\\n\\n\\n\\n\\n\\xa0\\n\\n\\nBibliografia\\n\\n\\n\\xa0\\xa0\\xa0\\xa0\\xa0\\n \\n\\n\\n\\n1.\\tDaniel, W.W. Biostatistcs: A Foundation for Analysis in the Health Sciences. John Wiley & Sons, 10th\\nEdition, 2013\\n2.\\tTriola, M.F. Introdução à Estatística, LTC Livros Técnicos e Científicos, 10ª edição, 2008\\n3.\\tBussab, W. Estatística Básica, Saraiva. 5ª edição, 2006\\n4.\\tBerquó, E.S.; Souza, J.M.P.; Gottlieb, S.L.B. Bioestatística, EPU-São Paulo, 1981\\n5.     Estatística Básica. Pedro A. Morettin, Wilton O. Bussab. 9a edição - São Paulo: Saraiva, 2017.\\n\\n\\n\\n\\n\\n\\n\\xa0\\n\\n\\n\\n\\n\\n\\nClique \\r\\n        para consultar os requisitos para CGF2022 \\n\\n\\n\\n\\n\\n\\nClique \\r\\n        para consultar o oferecimento para CGF2022 \\n\\n\\n\\n\\n\\n\\n\\n\\n\\n\\n\\n\\n\\n\\n\\n\\n\\n\\n\\n\\n\\n',\n",
              " '\\n\\n\\n\\n\\n\\n\\n\\xa0Preparar para impressão\\xa0\\n\\n\\n\\n\\n\\n\\n\\n\\n\\n\\n\\r\\n\\t\\t\\tJúpiter - Sistema de Gestão Acadêmica da Pró-Reitoria de Graduação\\r\\n\\t\\t\\n\\n\\n\\n\\n\\n\\n \\r\\n\\t    Faculdade de Ciências Farmacêuticas de Ribeirão Preto\\n\\n\\n\\xa0\\n\\n\\n \\r\\n\\t    Disciplinas Interdepartamentais da FCFRP\\n\\n\\n\\xa0\\n\\n\\n\\nDisciplina: CGF2022 - Bioestatística I\\n\\n\\n\\n \\r\\n         Biostatistics I \\n\\n\\n\\n\\n\\n\\n\\nCréditos Aula:\\n \\r\\n        2\\r\\n\\t\\t\\n\\n\\n \\r\\n        Créditos Trabalho:\\n \\r\\n        0\\n\\n\\n \\r\\n        Carga Horária Total: \\n \\r\\n       \\t\\t30 h \\r\\n \\t\\t\\t\\r\\n\\t\\t\\t \\r\\n\\t\\t\\t\\t\\t\\n\\n\\n\\nTipo:\\n \\r\\n\\t   \\r\\n\\t   \\r\\n\\t   Semestral\\r\\n\\t   \\r\\n\\t   \\r\\n\\t   \\t   \\r\\n\\t   \\n\\n\\n \\r\\n                    Ativação: \\n \\r\\n        15/07/2020 \\r\\n\\t\\t\\nDesativação:\\n\\n\\n\\n\\n\\n\\n\\nObjetivos \\n\\n\\n\\nFornecer aos alunos os principais conceitos em Bioestatística, necessários para utilização em disciplinas específicas e para sua atuação profissional, incluindo estatística descritiva necessária para análise de dados e os conceitos de distribuições de probabilidade discretas e contínuas.\\n\\n\\xa0\\n\\n  \\n\\n\\xa0\\n\\n\\xa0\\n\\n\\n\\n\\n\\nDocente(s) Responsável(eis)\\n\\n\\n\\n\\n\\n\\n \\r\\n              6293113 - Ricardo Roberto da Silva\\n\\n\\n\\n\\n\\n\\xa0\\n\\n\\n\\n\\n\\nPrograma Resumido\\n\\n\\n\\nEsta disciplina compreende a coleta e organização de dados, identificação e classificação das variáveis em estudo, apresentação dos resultados em tabelas e/ou gráficos a fim de executar uma análise exploratória dos mesmos. Analise e distribuição de frequências de uma ou mais variáveis qualitativas e quantitativas. Investigação da associação entre variáveis qualitativas e quantitativas. Cálculo de probabilidades para eventos dependentes e independentes.\\n\\n\\xa0\\n\\n \\n\\n\\n\\xa0\\n\\n\\xa0\\n\\n\\n\\nPrograma\\n\\n\\n\\nIntrodução à Estatística; - População e amostra; - Escalas de medida; - Variáveis e sua classificação; - Distribuição de frequências; - Tabelas e gráficos; - Análise de uma distribuição de frequências a duas variáveis qualitativas; - Estudo da associação em tabelas 2x2 e rxs; - Análise de uma distribuição de frequências a duas variáveis quantitativas; - Medidas de posição e de variabilidade; - Correlação linear. Teoria elementar de Probabilidade; - Distribuição de Probabilidade Binomial e Normal.\\n\\n\\xa0\\n\\n \\n\\n\\n\\xa0\\n\\n\\xa0\\n\\n\\n\\nAvaliação\\n\\n\\n\\n\\n\\xa0\\xa0\\xa0\\xa0\\xa0\\n \\n\\n\\nMétodo\\n\\n\\n \\r\\n        Aula expositiva dialogada; Aprendizagem baseada em Problemas  e Resolução de exercícios.\\n\\n\\n\\nCritério\\n\\n\\n \\r\\n        \\nO aluno deverá mostrar ter atingido os objetivos gerais e específicos do módulo através de aprovação revelada por um escore de 0 a 10. Os instrumentos de avaliação serão: \\n- duas Provas com questões objetivas, escritas e individuais, sendo que a primeira terá peso 2 e a segunda peso 3.\\n- Listas de Exercícios em grupos e/ou individuais, e/ou aplicações no TCC1 do aluno, com peso 1.\\n\\nCritério de avaliação: Será aprovado o aluno que obtiver média igual ou superior a 5,0, calculada pela fórmula:\\n\\nM= (E+2.P1+3.P2)/6\\nOnde: E é a nota das listas de Exercícios e/ou aplicações no TCC1, P1 é a nota da primeira prova e P2 é a nota da segunda prova.\\n\\n\\n\\n\\nNorma de Recuperação\\n\\n\\n \\r\\n        Prova\\n\\n\\n\\n\\n\\n\\n\\n\\n\\xa0\\n\\n\\nBibliografia\\n\\n\\n\\xa0\\xa0\\xa0\\xa0\\xa0\\n \\n\\n\\n\\n1.\\tDaniel, W.W. Biostatistcs: A Foundation for Analysis in the Health Sciences. John Wiley & Sons, 10th\\nEdition, 2013\\n2.\\tTriola, M.F. Introdução à Estatística, LTC Livros Técnicos e Científicos, 10ª edição, 2008\\n3.\\tBussab, W. Estatística Básica, Saraiva. 5ª edição, 2006\\n4.\\tBerquó, E.S.; Souza, J.M.P.; Gottlieb, S.L.B. Bioestatística, EPU-São Paulo, 1981\\n5.     Estatística Básica. Pedro A. Morettin, Wilton O. Bussab. 9a edição - São Paulo: Saraiva, 2017.\\n\\n\\n\\n\\n\\n\\n\\xa0\\n\\n\\n\\n\\n\\n\\nClique \\r\\n        para consultar os requisitos para CGF2022 \\n\\n\\n\\n\\n\\n\\nClique \\r\\n        para consultar o oferecimento para CGF2022 \\n\\n\\n',\n",
              " '\\n\\n\\xa0Preparar para impressão\\xa0\\n\\n',\n",
              " '\\n\\n',\n",
              " '\\n\\r\\n\\t\\t\\tJúpiter - Sistema de Gestão Acadêmica da Pró-Reitoria de Graduação\\r\\n\\t\\t\\n',\n",
              " ' \\r\\n\\t    Faculdade de Ciências Farmacêuticas de Ribeirão Preto',\n",
              " '\\xa0',\n",
              " ' \\r\\n\\t    Disciplinas Interdepartamentais da FCFRP',\n",
              " '\\xa0',\n",
              " '\\nDisciplina: CGF2022 - Bioestatística I\\n',\n",
              " ' \\r\\n         Biostatistics I \\n',\n",
              " '\\nCréditos Aula:',\n",
              " ' \\r\\n        2\\r\\n\\t\\t',\n",
              " ' \\r\\n        Créditos Trabalho:',\n",
              " ' \\r\\n        0',\n",
              " ' \\r\\n        Carga Horária Total: ',\n",
              " ' \\r\\n       \\t\\t30 h \\r\\n \\t\\t\\t\\r\\n\\t\\t\\t \\r\\n\\t\\t\\t\\t\\t',\n",
              " '\\nTipo:',\n",
              " ' \\r\\n\\t   \\r\\n\\t   \\r\\n\\t   Semestral\\r\\n\\t   \\r\\n\\t   \\r\\n\\t   \\t   \\r\\n\\t   ',\n",
              " ' \\r\\n                    Ativação: ',\n",
              " ' \\r\\n        15/07/2020 \\r\\n\\t\\t',\n",
              " 'Desativação:\\n',\n",
              " '\\nObjetivos ',\n",
              " '\\nFornecer aos alunos os principais conceitos em Bioestatística, necessários para utilização em disciplinas específicas e para sua atuação profissional, incluindo estatística descritiva necessária para análise de dados e os conceitos de distribuições de probabilidade discretas e contínuas.',\n",
              " '\\xa0',\n",
              " '  ',\n",
              " '\\xa0',\n",
              " '\\xa0',\n",
              " '\\nDocente(s) Responsável(eis)',\n",
              " '\\n\\n\\n\\n \\r\\n              6293113 - Ricardo Roberto da Silva\\n\\n\\n',\n",
              " '',\n",
              " ' \\r\\n              6293113 - Ricardo Roberto da Silva',\n",
              " '\\xa0',\n",
              " '\\nPrograma Resumido',\n",
              " '\\nEsta disciplina compreende a coleta e organização de dados, identificação e classificação das variáveis em estudo, apresentação dos resultados em tabelas e/ou gráficos a fim de executar uma análise exploratória dos mesmos. Analise e distribuição de frequências de uma ou mais variáveis qualitativas e quantitativas. Investigação da associação entre variáveis qualitativas e quantitativas. Cálculo de probabilidades para eventos dependentes e independentes.',\n",
              " '\\xa0',\n",
              " ' \\n',\n",
              " '\\xa0',\n",
              " '\\xa0',\n",
              " '\\nPrograma',\n",
              " '\\nIntrodução à Estatística; - População e amostra; - Escalas de medida; - Variáveis e sua classificação; - Distribuição de frequências; - Tabelas e gráficos; - Análise de uma distribuição de frequências a duas variáveis qualitativas; - Estudo da associação em tabelas 2x2 e rxs; - Análise de uma distribuição de frequências a duas variáveis quantitativas; - Medidas de posição e de variabilidade; - Correlação linear. Teoria elementar de Probabilidade; - Distribuição de Probabilidade Binomial e Normal.',\n",
              " '\\xa0',\n",
              " ' \\n',\n",
              " '\\xa0',\n",
              " '\\xa0',\n",
              " '\\nAvaliação',\n",
              " '\\xa0\\xa0\\xa0\\xa0\\xa0',\n",
              " ' \\n\\n\\nMétodo\\n\\n\\n \\r\\n        Aula expositiva dialogada; Aprendizagem baseada em Problemas  e Resolução de exercícios.\\n\\n\\n\\nCritério\\n\\n\\n \\r\\n        \\nO aluno deverá mostrar ter atingido os objetivos gerais e específicos do módulo através de aprovação revelada por um escore de 0 a 10. Os instrumentos de avaliação serão: \\n- duas Provas com questões objetivas, escritas e individuais, sendo que a primeira terá peso 2 e a segunda peso 3.\\n- Listas de Exercícios em grupos e/ou individuais, e/ou aplicações no TCC1 do aluno, com peso 1.\\n\\nCritério de avaliação: Será aprovado o aluno que obtiver média igual ou superior a 5,0, calculada pela fórmula:\\n\\nM= (E+2.P1+3.P2)/6\\nOnde: E é a nota das listas de Exercícios e/ou aplicações no TCC1, P1 é a nota da primeira prova e P2 é a nota da segunda prova.\\n\\n\\n\\n\\nNorma de Recuperação\\n\\n\\n \\r\\n        Prova\\n\\n\\n',\n",
              " '\\nMétodo',\n",
              " ' \\r\\n        Aula expositiva dialogada; Aprendizagem baseada em Problemas  e Resolução de exercícios.',\n",
              " '\\nCritério',\n",
              " ' \\r\\n        \\nO aluno deverá mostrar ter atingido os objetivos gerais e específicos do módulo através de aprovação revelada por um escore de 0 a 10. Os instrumentos de avaliação serão: \\n- duas Provas com questões objetivas, escritas e individuais, sendo que a primeira terá peso 2 e a segunda peso 3.\\n- Listas de Exercícios em grupos e/ou individuais, e/ou aplicações no TCC1 do aluno, com peso 1.\\n\\nCritério de avaliação: Será aprovado o aluno que obtiver média igual ou superior a 5,0, calculada pela fórmula:\\n\\nM= (E+2.P1+3.P2)/6\\nOnde: E é a nota das listas de Exercícios e/ou aplicações no TCC1, P1 é a nota da primeira prova e P2 é a nota da segunda prova.\\n',\n",
              " '\\nNorma de Recuperação',\n",
              " ' \\r\\n        Prova',\n",
              " '\\xa0',\n",
              " '\\nBibliografia',\n",
              " '\\xa0\\xa0\\xa0\\xa0\\xa0',\n",
              " ' \\n\\n\\n\\n1.\\tDaniel, W.W. Biostatistcs: A Foundation for Analysis in the Health Sciences. John Wiley & Sons, 10th\\nEdition, 2013\\n2.\\tTriola, M.F. Introdução à Estatística, LTC Livros Técnicos e Científicos, 10ª edição, 2008\\n3.\\tBussab, W. Estatística Básica, Saraiva. 5ª edição, 2006\\n4.\\tBerquó, E.S.; Souza, J.M.P.; Gottlieb, S.L.B. Bioestatística, EPU-São Paulo, 1981\\n5.     Estatística Básica. Pedro A. Morettin, Wilton O. Bussab. 9a edição - São Paulo: Saraiva, 2017.\\n\\n\\n',\n",
              " '',\n",
              " '\\n1.\\tDaniel, W.W. Biostatistcs: A Foundation for Analysis in the Health Sciences. John Wiley & Sons, 10th\\nEdition, 2013\\n2.\\tTriola, M.F. Introdução à Estatística, LTC Livros Técnicos e Científicos, 10ª edição, 2008\\n3.\\tBussab, W. Estatística Básica, Saraiva. 5ª edição, 2006\\n4.\\tBerquó, E.S.; Souza, J.M.P.; Gottlieb, S.L.B. Bioestatística, EPU-São Paulo, 1981\\n5.     Estatística Básica. Pedro A. Morettin, Wilton O. Bussab. 9a edição - São Paulo: Saraiva, 2017.',\n",
              " '\\xa0',\n",
              " '\\nClique \\r\\n        para consultar os requisitos para CGF2022 ',\n",
              " '\\nClique \\r\\n        para consultar o oferecimento para CGF2022 ',\n",
              " '\\n\\n',\n",
              " '\\n\\n',\n",
              " '\\n\\n',\n",
              " '\\n\\n\\n\\n\\n\\n\\n\\xa0Preparar para impressão\\xa0\\n\\n\\n\\n\\n\\n\\n\\n\\n\\n\\n\\r\\n\\t\\t\\tJúpiter - Sistema de Gestão Acadêmica da Pró-Reitoria de Graduação\\r\\n\\t\\t\\n\\n\\n\\n\\n\\n\\n \\r\\n\\t    Faculdade de Ciências Farmacêuticas de Ribeirão Preto\\n\\n\\n\\xa0\\n\\n\\n \\r\\n\\t    Disciplinas Interdepartamentais da FCFRP\\n\\n\\n\\xa0\\n\\n\\n\\nDisciplina: CGF2022 - Bioestatística I\\n\\n\\n\\n \\r\\n         Biostatistics I \\n\\n\\n\\n\\n\\n\\n\\nCréditos Aula:\\n \\r\\n        2\\r\\n\\t\\t\\n\\n\\n \\r\\n        Créditos Trabalho:\\n \\r\\n        0\\n\\n\\n \\r\\n        Carga Horária Total: \\n \\r\\n       \\t\\t30 h \\r\\n \\t\\t\\t\\r\\n\\t\\t\\t \\r\\n\\t\\t\\t\\t\\t\\n\\n\\n\\nTipo:\\n \\r\\n\\t   \\r\\n\\t   \\r\\n\\t   Semestral\\r\\n\\t   \\r\\n\\t   \\r\\n\\t   \\t   \\r\\n\\t   \\n\\n\\n \\r\\n                    Ativação: \\n \\r\\n        15/07/2020 \\r\\n\\t\\t\\nDesativação:\\n\\n\\n\\n\\n\\n\\n\\nObjetivos \\n\\n\\n\\nFornecer aos alunos os principais conceitos em Bioestatística, necessários para utilização em disciplinas específicas e para sua atuação profissional, incluindo estatística descritiva necessária para análise de dados e os conceitos de distribuições de probabilidade discretas e contínuas.\\n\\n\\xa0\\n\\n  \\n\\n\\xa0\\n\\n\\xa0\\n\\n\\n\\n\\n\\nDocente(s) Responsável(eis)\\n\\n\\n\\n\\n\\n\\n \\r\\n              6293113 - Ricardo Roberto da Silva\\n\\n\\n\\n\\n\\n\\xa0\\n\\n\\n\\n\\n\\nPrograma Resumido\\n\\n\\n\\nEsta disciplina compreende a coleta e organização de dados, identificação e classificação das variáveis em estudo, apresentação dos resultados em tabelas e/ou gráficos a fim de executar uma análise exploratória dos mesmos. Analise e distribuição de frequências de uma ou mais variáveis qualitativas e quantitativas. Investigação da associação entre variáveis qualitativas e quantitativas. Cálculo de probabilidades para eventos dependentes e independentes.\\n\\n\\xa0\\n\\n \\n\\n\\n\\xa0\\n\\n\\xa0\\n\\n\\n\\nPrograma\\n\\n\\n\\nIntrodução à Estatística; - População e amostra; - Escalas de medida; - Variáveis e sua classificação; - Distribuição de frequências; - Tabelas e gráficos; - Análise de uma distribuição de frequências a duas variáveis qualitativas; - Estudo da associação em tabelas 2x2 e rxs; - Análise de uma distribuição de frequências a duas variáveis quantitativas; - Medidas de posição e de variabilidade; - Correlação linear. Teoria elementar de Probabilidade; - Distribuição de Probabilidade Binomial e Normal.\\n\\n\\xa0\\n\\n \\n\\n\\n\\xa0\\n\\n\\xa0\\n\\n\\n\\nAvaliação\\n\\n\\n\\n\\n\\xa0\\xa0\\xa0\\xa0\\xa0\\n \\n\\n\\nMétodo\\n\\n\\n \\r\\n        Aula expositiva dialogada; Aprendizagem baseada em Problemas  e Resolução de exercícios.\\n\\n\\n\\nCritério\\n\\n\\n \\r\\n        \\nO aluno deverá mostrar ter atingido os objetivos gerais e específicos do módulo através de aprovação revelada por um escore de 0 a 10. Os instrumentos de avaliação serão: \\n- duas Provas com questões objetivas, escritas e individuais, sendo que a primeira terá peso 2 e a segunda peso 3.\\n- Listas de Exercícios em grupos e/ou individuais, e/ou aplicações no TCC1 do aluno, com peso 1.\\n\\nCritério de avaliação: Será aprovado o aluno que obtiver média igual ou superior a 5,0, calculada pela fórmula:\\n\\nM= (E+2.P1+3.P2)/6\\nOnde: E é a nota das listas de Exercícios e/ou aplicações no TCC1, P1 é a nota da primeira prova e P2 é a nota da segunda prova.\\n\\n\\n\\n\\nNorma de Recuperação\\n\\n\\n \\r\\n        Prova\\n\\n\\n\\n\\n\\n\\n\\n\\n\\xa0\\n\\n\\nBibliografia\\n\\n\\n\\xa0\\xa0\\xa0\\xa0\\xa0\\n \\n\\n\\n\\n1.\\tDaniel, W.W. Biostatistcs: A Foundation for Analysis in the Health Sciences. John Wiley & Sons, 10th\\nEdition, 2013\\n2.\\tTriola, M.F. Introdução à Estatística, LTC Livros Técnicos e Científicos, 10ª edição, 2008\\n3.\\tBussab, W. Estatística Básica, Saraiva. 5ª edição, 2006\\n4.\\tBerquó, E.S.; Souza, J.M.P.; Gottlieb, S.L.B. Bioestatística, EPU-São Paulo, 1981\\n5.     Estatística Básica. Pedro A. Morettin, Wilton O. Bussab. 9a edição - São Paulo: Saraiva, 2017.\\n\\n\\n\\n\\n\\n\\n\\xa0\\n\\n\\n\\n\\n\\n\\nClique \\r\\n        para consultar os requisitos para CGF2022 \\n\\n\\n\\n\\n\\n\\nClique \\r\\n        para consultar o oferecimento para CGF2022 \\n\\n\\n',\n",
              " '\\n\\n\\xa0Preparar para impressão\\xa0\\n\\n',\n",
              " '\\n\\n',\n",
              " '\\n\\r\\n\\t\\t\\tJúpiter - Sistema de Gestão Acadêmica da Pró-Reitoria de Graduação\\r\\n\\t\\t\\n',\n",
              " ' \\r\\n\\t    Faculdade de Ciências Farmacêuticas de Ribeirão Preto',\n",
              " '\\xa0',\n",
              " ' \\r\\n\\t    Disciplinas Interdepartamentais da FCFRP',\n",
              " '\\xa0',\n",
              " '\\nDisciplina: CGF2022 - Bioestatística I\\n',\n",
              " ' \\r\\n         Biostatistics I \\n',\n",
              " '\\nCréditos Aula:',\n",
              " ' \\r\\n        2\\r\\n\\t\\t',\n",
              " ' \\r\\n        Créditos Trabalho:',\n",
              " ' \\r\\n        0',\n",
              " ' \\r\\n        Carga Horária Total: ',\n",
              " ' \\r\\n       \\t\\t30 h \\r\\n \\t\\t\\t\\r\\n\\t\\t\\t \\r\\n\\t\\t\\t\\t\\t',\n",
              " '\\nTipo:',\n",
              " ' \\r\\n\\t   \\r\\n\\t   \\r\\n\\t   Semestral\\r\\n\\t   \\r\\n\\t   \\r\\n\\t   \\t   \\r\\n\\t   ',\n",
              " ' \\r\\n                    Ativação: ',\n",
              " ' \\r\\n        15/07/2020 \\r\\n\\t\\t',\n",
              " 'Desativação:\\n',\n",
              " '\\nObjetivos ',\n",
              " '\\nFornecer aos alunos os principais conceitos em Bioestatística, necessários para utilização em disciplinas específicas e para sua atuação profissional, incluindo estatística descritiva necessária para análise de dados e os conceitos de distribuições de probabilidade discretas e contínuas.',\n",
              " '\\xa0',\n",
              " '  ',\n",
              " '\\xa0',\n",
              " '\\xa0',\n",
              " '\\nDocente(s) Responsável(eis)',\n",
              " '\\n\\n\\n\\n \\r\\n              6293113 - Ricardo Roberto da Silva\\n\\n\\n',\n",
              " '',\n",
              " ' \\r\\n              6293113 - Ricardo Roberto da Silva',\n",
              " '\\xa0',\n",
              " '\\nPrograma Resumido',\n",
              " '\\nEsta disciplina compreende a coleta e organização de dados, identificação e classificação das variáveis em estudo, apresentação dos resultados em tabelas e/ou gráficos a fim de executar uma análise exploratória dos mesmos. Analise e distribuição de frequências de uma ou mais variáveis qualitativas e quantitativas. Investigação da associação entre variáveis qualitativas e quantitativas. Cálculo de probabilidades para eventos dependentes e independentes.',\n",
              " '\\xa0',\n",
              " ' \\n',\n",
              " '\\xa0',\n",
              " '\\xa0',\n",
              " '\\nPrograma',\n",
              " '\\nIntrodução à Estatística; - População e amostra; - Escalas de medida; - Variáveis e sua classificação; - Distribuição de frequências; - Tabelas e gráficos; - Análise de uma distribuição de frequências a duas variáveis qualitativas; - Estudo da associação em tabelas 2x2 e rxs; - Análise de uma distribuição de frequências a duas variáveis quantitativas; - Medidas de posição e de variabilidade; - Correlação linear. Teoria elementar de Probabilidade; - Distribuição de Probabilidade Binomial e Normal.',\n",
              " '\\xa0',\n",
              " ' \\n',\n",
              " '\\xa0',\n",
              " '\\xa0',\n",
              " '\\nAvaliação',\n",
              " '\\xa0\\xa0\\xa0\\xa0\\xa0',\n",
              " ' \\n\\n\\nMétodo\\n\\n\\n \\r\\n        Aula expositiva dialogada; Aprendizagem baseada em Problemas  e Resolução de exercícios.\\n\\n\\n\\nCritério\\n\\n\\n \\r\\n        \\nO aluno deverá mostrar ter atingido os objetivos gerais e específicos do módulo através de aprovação revelada por um escore de 0 a 10. Os instrumentos de avaliação serão: \\n- duas Provas com questões objetivas, escritas e individuais, sendo que a primeira terá peso 2 e a segunda peso 3.\\n- Listas de Exercícios em grupos e/ou individuais, e/ou aplicações no TCC1 do aluno, com peso 1.\\n\\nCritério de avaliação: Será aprovado o aluno que obtiver média igual ou superior a 5,0, calculada pela fórmula:\\n\\nM= (E+2.P1+3.P2)/6\\nOnde: E é a nota das listas de Exercícios e/ou aplicações no TCC1, P1 é a nota da primeira prova e P2 é a nota da segunda prova.\\n\\n\\n\\n\\nNorma de Recuperação\\n\\n\\n \\r\\n        Prova\\n\\n\\n',\n",
              " '\\nMétodo',\n",
              " ' \\r\\n        Aula expositiva dialogada; Aprendizagem baseada em Problemas  e Resolução de exercícios.',\n",
              " '\\nCritério',\n",
              " ' \\r\\n        \\nO aluno deverá mostrar ter atingido os objetivos gerais e específicos do módulo através de aprovação revelada por um escore de 0 a 10. Os instrumentos de avaliação serão: \\n- duas Provas com questões objetivas, escritas e individuais, sendo que a primeira terá peso 2 e a segunda peso 3.\\n- Listas de Exercícios em grupos e/ou individuais, e/ou aplicações no TCC1 do aluno, com peso 1.\\n\\nCritério de avaliação: Será aprovado o aluno que obtiver média igual ou superior a 5,0, calculada pela fórmula:\\n\\nM= (E+2.P1+3.P2)/6\\nOnde: E é a nota das listas de Exercícios e/ou aplicações no TCC1, P1 é a nota da primeira prova e P2 é a nota da segunda prova.\\n',\n",
              " '\\nNorma de Recuperação',\n",
              " ' \\r\\n        Prova',\n",
              " '\\xa0',\n",
              " '\\nBibliografia',\n",
              " '\\xa0\\xa0\\xa0\\xa0\\xa0',\n",
              " ' \\n\\n\\n\\n1.\\tDaniel, W.W. Biostatistcs: A Foundation for Analysis in the Health Sciences. John Wiley & Sons, 10th\\nEdition, 2013\\n2.\\tTriola, M.F. Introdução à Estatística, LTC Livros Técnicos e Científicos, 10ª edição, 2008\\n3.\\tBussab, W. Estatística Básica, Saraiva. 5ª edição, 2006\\n4.\\tBerquó, E.S.; Souza, J.M.P.; Gottlieb, S.L.B. Bioestatística, EPU-São Paulo, 1981\\n5.     Estatística Básica. Pedro A. Morettin, Wilton O. Bussab. 9a edição - São Paulo: Saraiva, 2017.\\n\\n\\n',\n",
              " '',\n",
              " '\\n1.\\tDaniel, W.W. Biostatistcs: A Foundation for Analysis in the Health Sciences. John Wiley & Sons, 10th\\nEdition, 2013\\n2.\\tTriola, M.F. Introdução à Estatística, LTC Livros Técnicos e Científicos, 10ª edição, 2008\\n3.\\tBussab, W. Estatística Básica, Saraiva. 5ª edição, 2006\\n4.\\tBerquó, E.S.; Souza, J.M.P.; Gottlieb, S.L.B. Bioestatística, EPU-São Paulo, 1981\\n5.     Estatística Básica. Pedro A. Morettin, Wilton O. Bussab. 9a edição - São Paulo: Saraiva, 2017.',\n",
              " '\\xa0',\n",
              " '\\nClique \\r\\n        para consultar os requisitos para CGF2022 ',\n",
              " '\\nClique \\r\\n        para consultar o oferecimento para CGF2022 ',\n",
              " '\\n\\n\\xa0Preparar para impressão\\xa0\\n\\n',\n",
              " '\\n\\n',\n",
              " '\\n\\r\\n\\t\\t\\tJúpiter - Sistema de Gestão Acadêmica da Pró-Reitoria de Graduação\\r\\n\\t\\t\\n',\n",
              " ' \\r\\n\\t    Faculdade de Ciências Farmacêuticas de Ribeirão Preto',\n",
              " '\\xa0',\n",
              " ' \\r\\n\\t    Disciplinas Interdepartamentais da FCFRP',\n",
              " '\\xa0',\n",
              " '\\nDisciplina: CGF2022 - Bioestatística I\\n',\n",
              " ' \\r\\n         Biostatistics I \\n',\n",
              " '\\nCréditos Aula:',\n",
              " ' \\r\\n        2\\r\\n\\t\\t',\n",
              " ' \\r\\n        Créditos Trabalho:',\n",
              " ' \\r\\n        0',\n",
              " ' \\r\\n        Carga Horária Total: ',\n",
              " ' \\r\\n       \\t\\t30 h \\r\\n \\t\\t\\t\\r\\n\\t\\t\\t \\r\\n\\t\\t\\t\\t\\t',\n",
              " '\\nTipo:',\n",
              " ' \\r\\n\\t   \\r\\n\\t   \\r\\n\\t   Semestral\\r\\n\\t   \\r\\n\\t   \\r\\n\\t   \\t   \\r\\n\\t   ',\n",
              " ' \\r\\n                    Ativação: ',\n",
              " ' \\r\\n        15/07/2020 \\r\\n\\t\\t',\n",
              " 'Desativação:\\n',\n",
              " '\\nObjetivos ',\n",
              " '\\nFornecer aos alunos os principais conceitos em Bioestatística, necessários para utilização em disciplinas específicas e para sua atuação profissional, incluindo estatística descritiva necessária para análise de dados e os conceitos de distribuições de probabilidade discretas e contínuas.',\n",
              " '\\xa0',\n",
              " '  ',\n",
              " '\\xa0',\n",
              " '\\xa0',\n",
              " '\\nDocente(s) Responsável(eis)',\n",
              " '\\n\\n\\n\\n \\r\\n              6293113 - Ricardo Roberto da Silva\\n\\n\\n',\n",
              " '',\n",
              " ' \\r\\n              6293113 - Ricardo Roberto da Silva',\n",
              " '',\n",
              " ' \\r\\n              6293113 - Ricardo Roberto da Silva',\n",
              " '\\xa0',\n",
              " '\\nPrograma Resumido',\n",
              " '\\nEsta disciplina compreende a coleta e organização de dados, identificação e classificação das variáveis em estudo, apresentação dos resultados em tabelas e/ou gráficos a fim de executar uma análise exploratória dos mesmos. Analise e distribuição de frequências de uma ou mais variáveis qualitativas e quantitativas. Investigação da associação entre variáveis qualitativas e quantitativas. Cálculo de probabilidades para eventos dependentes e independentes.',\n",
              " '\\xa0',\n",
              " ' \\n',\n",
              " '\\xa0',\n",
              " '\\xa0',\n",
              " '\\nPrograma',\n",
              " '\\nIntrodução à Estatística; - População e amostra; - Escalas de medida; - Variáveis e sua classificação; - Distribuição de frequências; - Tabelas e gráficos; - Análise de uma distribuição de frequências a duas variáveis qualitativas; - Estudo da associação em tabelas 2x2 e rxs; - Análise de uma distribuição de frequências a duas variáveis quantitativas; - Medidas de posição e de variabilidade; - Correlação linear. Teoria elementar de Probabilidade; - Distribuição de Probabilidade Binomial e Normal.',\n",
              " '\\xa0',\n",
              " ' \\n',\n",
              " '\\xa0',\n",
              " '\\xa0',\n",
              " '\\nAvaliação',\n",
              " '\\xa0\\xa0\\xa0\\xa0\\xa0',\n",
              " ' \\n\\n\\nMétodo\\n\\n\\n \\r\\n        Aula expositiva dialogada; Aprendizagem baseada em Problemas  e Resolução de exercícios.\\n\\n\\n\\nCritério\\n\\n\\n \\r\\n        \\nO aluno deverá mostrar ter atingido os objetivos gerais e específicos do módulo através de aprovação revelada por um escore de 0 a 10. Os instrumentos de avaliação serão: \\n- duas Provas com questões objetivas, escritas e individuais, sendo que a primeira terá peso 2 e a segunda peso 3.\\n- Listas de Exercícios em grupos e/ou individuais, e/ou aplicações no TCC1 do aluno, com peso 1.\\n\\nCritério de avaliação: Será aprovado o aluno que obtiver média igual ou superior a 5,0, calculada pela fórmula:\\n\\nM= (E+2.P1+3.P2)/6\\nOnde: E é a nota das listas de Exercícios e/ou aplicações no TCC1, P1 é a nota da primeira prova e P2 é a nota da segunda prova.\\n\\n\\n\\n\\nNorma de Recuperação\\n\\n\\n \\r\\n        Prova\\n\\n\\n',\n",
              " '\\nMétodo',\n",
              " ' \\r\\n        Aula expositiva dialogada; Aprendizagem baseada em Problemas  e Resolução de exercícios.',\n",
              " '\\nCritério',\n",
              " ' \\r\\n        \\nO aluno deverá mostrar ter atingido os objetivos gerais e específicos do módulo através de aprovação revelada por um escore de 0 a 10. Os instrumentos de avaliação serão: \\n- duas Provas com questões objetivas, escritas e individuais, sendo que a primeira terá peso 2 e a segunda peso 3.\\n- Listas de Exercícios em grupos e/ou individuais, e/ou aplicações no TCC1 do aluno, com peso 1.\\n\\nCritério de avaliação: Será aprovado o aluno que obtiver média igual ou superior a 5,0, calculada pela fórmula:\\n\\nM= (E+2.P1+3.P2)/6\\nOnde: E é a nota das listas de Exercícios e/ou aplicações no TCC1, P1 é a nota da primeira prova e P2 é a nota da segunda prova.\\n',\n",
              " '\\nNorma de Recuperação',\n",
              " ' \\r\\n        Prova',\n",
              " '\\nMétodo',\n",
              " ' \\r\\n        Aula expositiva dialogada; Aprendizagem baseada em Problemas  e Resolução de exercícios.',\n",
              " '\\nCritério',\n",
              " ' \\r\\n        \\nO aluno deverá mostrar ter atingido os objetivos gerais e específicos do módulo através de aprovação revelada por um escore de 0 a 10. Os instrumentos de avaliação serão: \\n- duas Provas com questões objetivas, escritas e individuais, sendo que a primeira terá peso 2 e a segunda peso 3.\\n- Listas de Exercícios em grupos e/ou individuais, e/ou aplicações no TCC1 do aluno, com peso 1.\\n\\nCritério de avaliação: Será aprovado o aluno que obtiver média igual ou superior a 5,0, calculada pela fórmula:\\n\\nM= (E+2.P1+3.P2)/6\\nOnde: E é a nota das listas de Exercícios e/ou aplicações no TCC1, P1 é a nota da primeira prova e P2 é a nota da segunda prova.\\n',\n",
              " '\\nNorma de Recuperação',\n",
              " ' \\r\\n        Prova',\n",
              " '\\xa0',\n",
              " '\\xa0\\xa0\\xa0\\xa0\\xa0',\n",
              " ' \\n\\n\\n\\n1.\\tDaniel, W.W. Biostatistcs: A Foundation for Analysis in the Health Sciences. John Wiley & Sons, 10th\\nEdition, 2013\\n2.\\tTriola, M.F. Introdução à Estatística, LTC Livros Técnicos e Científicos, 10ª edição, 2008\\n3.\\tBussab, W. Estatística Básica, Saraiva. 5ª edição, 2006\\n4.\\tBerquó, E.S.; Souza, J.M.P.; Gottlieb, S.L.B. Bioestatística, EPU-São Paulo, 1981\\n5.     Estatística Básica. Pedro A. Morettin, Wilton O. Bussab. 9a edição - São Paulo: Saraiva, 2017.\\n\\n\\n',\n",
              " '',\n",
              " '\\n1.\\tDaniel, W.W. Biostatistcs: A Foundation for Analysis in the Health Sciences. John Wiley & Sons, 10th\\nEdition, 2013\\n2.\\tTriola, M.F. Introdução à Estatística, LTC Livros Técnicos e Científicos, 10ª edição, 2008\\n3.\\tBussab, W. Estatística Básica, Saraiva. 5ª edição, 2006\\n4.\\tBerquó, E.S.; Souza, J.M.P.; Gottlieb, S.L.B. Bioestatística, EPU-São Paulo, 1981\\n5.     Estatística Básica. Pedro A. Morettin, Wilton O. Bussab. 9a edição - São Paulo: Saraiva, 2017.',\n",
              " '',\n",
              " '\\n1.\\tDaniel, W.W. Biostatistcs: A Foundation for Analysis in the Health Sciences. John Wiley & Sons, 10th\\nEdition, 2013\\n2.\\tTriola, M.F. Introdução à Estatística, LTC Livros Técnicos e Científicos, 10ª edição, 2008\\n3.\\tBussab, W. Estatística Básica, Saraiva. 5ª edição, 2006\\n4.\\tBerquó, E.S.; Souza, J.M.P.; Gottlieb, S.L.B. Bioestatística, EPU-São Paulo, 1981\\n5.     Estatística Básica. Pedro A. Morettin, Wilton O. Bussab. 9a edição - São Paulo: Saraiva, 2017.',\n",
              " '\\xa0',\n",
              " '\\nClique \\r\\n        para consultar os requisitos para CGF2022 ',\n",
              " '\\nClique \\r\\n        para consultar o oferecimento para CGF2022 ',\n",
              " '\\n\\n',\n",
              " '\\n\\n',\n",
              " '\\n\\n',\n",
              " '\\n\\n\\n\\n\\n\\n\\n\\xa0Preparar para impressão\\xa0\\n\\n\\n\\n\\n\\n\\n\\n\\n\\n\\n\\r\\n\\t\\t\\tJúpiter - Sistema de Gestão Acadêmica da Pró-Reitoria de Graduação\\r\\n\\t\\t\\n\\n\\n\\n\\n\\n\\n \\r\\n\\t    Faculdade de Ciências Farmacêuticas de Ribeirão Preto\\n\\n\\n\\xa0\\n\\n\\n \\r\\n\\t    Disciplinas Interdepartamentais da FCFRP\\n\\n\\n\\xa0\\n\\n\\n\\nDisciplina: CGF2022 - Bioestatística I\\n\\n\\n\\n \\r\\n         Biostatistics I \\n\\n\\n\\n\\n\\n\\n\\nCréditos Aula:\\n \\r\\n        2\\r\\n\\t\\t\\n\\n\\n \\r\\n        Créditos Trabalho:\\n \\r\\n        0\\n\\n\\n \\r\\n        Carga Horária Total: \\n \\r\\n       \\t\\t30 h \\r\\n \\t\\t\\t\\r\\n\\t\\t\\t \\r\\n\\t\\t\\t\\t\\t\\n\\n\\n\\nTipo:\\n \\r\\n\\t   \\r\\n\\t   \\r\\n\\t   Semestral\\r\\n\\t   \\r\\n\\t   \\r\\n\\t   \\t   \\r\\n\\t   \\n\\n\\n \\r\\n                    Ativação: \\n \\r\\n        15/07/2020 \\r\\n\\t\\t\\nDesativação:\\n\\n\\n\\n\\n\\n\\n\\nObjetivos \\n\\n\\n\\nFornecer aos alunos os principais conceitos em Bioestatística, necessários para utilização em disciplinas específicas e para sua atuação profissional, incluindo estatística descritiva necessária para análise de dados e os conceitos de distribuições de probabilidade discretas e contínuas.\\n\\n\\xa0\\n\\n  \\n\\n\\xa0\\n\\n\\xa0\\n\\n\\n\\n\\n\\nDocente(s) Responsável(eis)\\n\\n\\n\\n\\n\\n\\n \\r\\n              6293113 - Ricardo Roberto da Silva\\n\\n\\n\\n\\n\\n\\xa0\\n\\n\\n\\n\\n\\nPrograma Resumido\\n\\n\\n\\nEsta disciplina compreende a coleta e organização de dados, identificação e classificação das variáveis em estudo, apresentação dos resultados em tabelas e/ou gráficos a fim de executar uma análise exploratória dos mesmos. Analise e distribuição de frequências de uma ou mais variáveis qualitativas e quantitativas. Investigação da associação entre variáveis qualitativas e quantitativas. Cálculo de probabilidades para eventos dependentes e independentes.\\n\\n\\xa0\\n\\n \\n\\n\\n\\xa0\\n\\n\\xa0\\n\\n\\n\\nPrograma\\n\\n\\n\\nIntrodução à Estatística; - População e amostra; - Escalas de medida; - Variáveis e sua classificação; - Distribuição de frequências; - Tabelas e gráficos; - Análise de uma distribuição de frequências a duas variáveis qualitativas; - Estudo da associação em tabelas 2x2 e rxs; - Análise de uma distribuição de frequências a duas variáveis quantitativas; - Medidas de posição e de variabilidade; - Correlação linear. Teoria elementar de Probabilidade; - Distribuição de Probabilidade Binomial e Normal.\\n\\n\\xa0\\n\\n \\n\\n\\n\\xa0\\n\\n\\xa0\\n\\n\\n\\nAvaliação\\n\\n\\n\\n\\n\\xa0\\xa0\\xa0\\xa0\\xa0\\n \\n\\n\\nMétodo\\n\\n\\n \\r\\n        Aula expositiva dialogada; Aprendizagem baseada em Problemas  e Resolução de exercícios.\\n\\n\\n\\nCritério\\n\\n\\n \\r\\n        \\nO aluno deverá mostrar ter atingido os objetivos gerais e específicos do módulo através de aprovação revelada por um escore de 0 a 10. Os instrumentos de avaliação serão: \\n- duas Provas com questões objetivas, escritas e individuais, sendo que a primeira terá peso 2 e a segunda peso 3.\\n- Listas de Exercícios em grupos e/ou individuais, e/ou aplicações no TCC1 do aluno, com peso 1.\\n\\nCritério de avaliação: Será aprovado o aluno que obtiver média igual ou superior a 5,0, calculada pela fórmula:\\n\\nM= (E+2.P1+3.P2)/6\\nOnde: E é a nota das listas de Exercícios e/ou aplicações no TCC1, P1 é a nota da primeira prova e P2 é a nota da segunda prova.\\n\\n\\n\\n\\nNorma de Recuperação\\n\\n\\n \\r\\n        Prova\\n\\n\\n\\n\\n\\n\\n\\n\\n\\xa0\\n\\n\\nBibliografia\\n\\n\\n\\xa0\\xa0\\xa0\\xa0\\xa0\\n \\n\\n\\n\\n1.\\tDaniel, W.W. Biostatistcs: A Foundation for Analysis in the Health Sciences. John Wiley & Sons, 10th\\nEdition, 2013\\n2.\\tTriola, M.F. Introdução à Estatística, LTC Livros Técnicos e Científicos, 10ª edição, 2008\\n3.\\tBussab, W. Estatística Básica, Saraiva. 5ª edição, 2006\\n4.\\tBerquó, E.S.; Souza, J.M.P.; Gottlieb, S.L.B. Bioestatística, EPU-São Paulo, 1981\\n5.     Estatística Básica. Pedro A. Morettin, Wilton O. Bussab. 9a edição - São Paulo: Saraiva, 2017.\\n\\n\\n\\n\\n\\n\\n\\xa0\\n\\n\\n\\n\\n\\n\\nClique \\r\\n        para consultar os requisitos para CGF2022 \\n\\n\\n\\n\\n\\n\\nClique \\r\\n        para consultar o oferecimento para CGF2022 \\n\\n\\n',\n",
              " '\\n\\n\\xa0Preparar para impressão\\xa0\\n\\n',\n",
              " '\\n\\n',\n",
              " '\\n\\r\\n\\t\\t\\tJúpiter - Sistema de Gestão Acadêmica da Pró-Reitoria de Graduação\\r\\n\\t\\t\\n',\n",
              " ' \\r\\n\\t    Faculdade de Ciências Farmacêuticas de Ribeirão Preto',\n",
              " '\\xa0',\n",
              " ' \\r\\n\\t    Disciplinas Interdepartamentais da FCFRP',\n",
              " '\\xa0',\n",
              " '\\nDisciplina: CGF2022 - Bioestatística I\\n',\n",
              " ' \\r\\n         Biostatistics I \\n',\n",
              " '\\nCréditos Aula:',\n",
              " ' \\r\\n        2\\r\\n\\t\\t',\n",
              " ' \\r\\n        Créditos Trabalho:',\n",
              " ' \\r\\n        0',\n",
              " ' \\r\\n        Carga Horária Total: ',\n",
              " ' \\r\\n       \\t\\t30 h \\r\\n \\t\\t\\t\\r\\n\\t\\t\\t \\r\\n\\t\\t\\t\\t\\t',\n",
              " '\\nTipo:',\n",
              " ' \\r\\n\\t   \\r\\n\\t   \\r\\n\\t   Semestral\\r\\n\\t   \\r\\n\\t   \\r\\n\\t   \\t   \\r\\n\\t   ',\n",
              " ' \\r\\n                    Ativação: ',\n",
              " ' \\r\\n        15/07/2020 \\r\\n\\t\\t',\n",
              " 'Desativação:\\n',\n",
              " '\\nObjetivos ',\n",
              " '\\nFornecer aos alunos os principais conceitos em Bioestatística, necessários para utilização em disciplinas específicas e para sua atuação profissional, incluindo estatística descritiva necessária para análise de dados e os conceitos de distribuições de probabilidade discretas e contínuas.',\n",
              " '\\xa0',\n",
              " '  ',\n",
              " '\\xa0',\n",
              " '\\xa0',\n",
              " '\\nDocente(s) Responsável(eis)',\n",
              " '\\n\\n\\n\\n \\r\\n              6293113 - Ricardo Roberto da Silva\\n\\n\\n',\n",
              " '',\n",
              " ' \\r\\n              6293113 - Ricardo Roberto da Silva',\n",
              " '\\xa0',\n",
              " '\\nPrograma Resumido',\n",
              " '\\nEsta disciplina compreende a coleta e organização de dados, identificação e classificação das variáveis em estudo, apresentação dos resultados em tabelas e/ou gráficos a fim de executar uma análise exploratória dos mesmos. Analise e distribuição de frequências de uma ou mais variáveis qualitativas e quantitativas. Investigação da associação entre variáveis qualitativas e quantitativas. Cálculo de probabilidades para eventos dependentes e independentes.',\n",
              " '\\xa0',\n",
              " ' \\n',\n",
              " '\\xa0',\n",
              " '\\xa0',\n",
              " '\\nPrograma',\n",
              " '\\nIntrodução à Estatística; - População e amostra; - Escalas de medida; - Variáveis e sua classificação; - Distribuição de frequências; - Tabelas e gráficos; - Análise de uma distribuição de frequências a duas variáveis qualitativas; - Estudo da associação em tabelas 2x2 e rxs; - Análise de uma distribuição de frequências a duas variáveis quantitativas; - Medidas de posição e de variabilidade; - Correlação linear. Teoria elementar de Probabilidade; - Distribuição de Probabilidade Binomial e Normal.',\n",
              " '\\xa0',\n",
              " ' \\n',\n",
              " '\\xa0',\n",
              " '\\xa0',\n",
              " '\\nAvaliação',\n",
              " '\\xa0\\xa0\\xa0\\xa0\\xa0',\n",
              " ' \\n\\n\\nMétodo\\n\\n\\n \\r\\n        Aula expositiva dialogada; Aprendizagem baseada em Problemas  e Resolução de exercícios.\\n\\n\\n\\nCritério\\n\\n\\n \\r\\n        \\nO aluno deverá mostrar ter atingido os objetivos gerais e específicos do módulo através de aprovação revelada por um escore de 0 a 10. Os instrumentos de avaliação serão: \\n- duas Provas com questões objetivas, escritas e individuais, sendo que a primeira terá peso 2 e a segunda peso 3.\\n- Listas de Exercícios em grupos e/ou individuais, e/ou aplicações no TCC1 do aluno, com peso 1.\\n\\nCritério de avaliação: Será aprovado o aluno que obtiver média igual ou superior a 5,0, calculada pela fórmula:\\n\\nM= (E+2.P1+3.P2)/6\\nOnde: E é a nota das listas de Exercícios e/ou aplicações no TCC1, P1 é a nota da primeira prova e P2 é a nota da segunda prova.\\n\\n\\n\\n\\nNorma de Recuperação\\n\\n\\n \\r\\n        Prova\\n\\n\\n',\n",
              " '\\nMétodo',\n",
              " ' \\r\\n        Aula expositiva dialogada; Aprendizagem baseada em Problemas  e Resolução de exercícios.',\n",
              " '\\nCritério',\n",
              " ' \\r\\n        \\nO aluno deverá mostrar ter atingido os objetivos gerais e específicos do módulo através de aprovação revelada por um escore de 0 a 10. Os instrumentos de avaliação serão: \\n- duas Provas com questões objetivas, escritas e individuais, sendo que a primeira terá peso 2 e a segunda peso 3.\\n- Listas de Exercícios em grupos e/ou individuais, e/ou aplicações no TCC1 do aluno, com peso 1.\\n\\nCritério de avaliação: Será aprovado o aluno que obtiver média igual ou superior a 5,0, calculada pela fórmula:\\n\\nM= (E+2.P1+3.P2)/6\\nOnde: E é a nota das listas de Exercícios e/ou aplicações no TCC1, P1 é a nota da primeira prova e P2 é a nota da segunda prova.\\n',\n",
              " '\\nNorma de Recuperação',\n",
              " ' \\r\\n        Prova',\n",
              " '\\xa0',\n",
              " '\\nBibliografia',\n",
              " '\\xa0\\xa0\\xa0\\xa0\\xa0',\n",
              " ' \\n\\n\\n\\n1.\\tDaniel, W.W. Biostatistcs: A Foundation for Analysis in the Health Sciences. John Wiley & Sons, 10th\\nEdition, 2013\\n2.\\tTriola, M.F. Introdução à Estatística, LTC Livros Técnicos e Científicos, 10ª edição, 2008\\n3.\\tBussab, W. Estatística Básica, Saraiva. 5ª edição, 2006\\n4.\\tBerquó, E.S.; Souza, J.M.P.; Gottlieb, S.L.B. Bioestatística, EPU-São Paulo, 1981\\n5.     Estatística Básica. Pedro A. Morettin, Wilton O. Bussab. 9a edição - São Paulo: Saraiva, 2017.\\n\\n\\n',\n",
              " '',\n",
              " '\\n1.\\tDaniel, W.W. Biostatistcs: A Foundation for Analysis in the Health Sciences. John Wiley & Sons, 10th\\nEdition, 2013\\n2.\\tTriola, M.F. Introdução à Estatística, LTC Livros Técnicos e Científicos, 10ª edição, 2008\\n3.\\tBussab, W. Estatística Básica, Saraiva. 5ª edição, 2006\\n4.\\tBerquó, E.S.; Souza, J.M.P.; Gottlieb, S.L.B. Bioestatística, EPU-São Paulo, 1981\\n5.     Estatística Básica. Pedro A. Morettin, Wilton O. Bussab. 9a edição - São Paulo: Saraiva, 2017.',\n",
              " '\\xa0',\n",
              " '\\nClique \\r\\n        para consultar os requisitos para CGF2022 ',\n",
              " '\\nClique \\r\\n        para consultar o oferecimento para CGF2022 ',\n",
              " '\\n\\n\\xa0Preparar para impressão\\xa0\\n\\n',\n",
              " '\\n\\n',\n",
              " '\\n\\r\\n\\t\\t\\tJúpiter - Sistema de Gestão Acadêmica da Pró-Reitoria de Graduação\\r\\n\\t\\t\\n',\n",
              " ' \\r\\n\\t    Faculdade de Ciências Farmacêuticas de Ribeirão Preto',\n",
              " '\\xa0',\n",
              " ' \\r\\n\\t    Disciplinas Interdepartamentais da FCFRP',\n",
              " '\\xa0',\n",
              " '\\nDisciplina: CGF2022 - Bioestatística I\\n',\n",
              " ' \\r\\n         Biostatistics I \\n',\n",
              " '\\nCréditos Aula:',\n",
              " ' \\r\\n        2\\r\\n\\t\\t',\n",
              " ' \\r\\n        Créditos Trabalho:',\n",
              " ' \\r\\n        0',\n",
              " ' \\r\\n        Carga Horária Total: ',\n",
              " ' \\r\\n       \\t\\t30 h \\r\\n \\t\\t\\t\\r\\n\\t\\t\\t \\r\\n\\t\\t\\t\\t\\t',\n",
              " '\\nTipo:',\n",
              " ' \\r\\n\\t   \\r\\n\\t   \\r\\n\\t   Semestral\\r\\n\\t   \\r\\n\\t   \\r\\n\\t   \\t   \\r\\n\\t   ',\n",
              " ' \\r\\n                    Ativação: ',\n",
              " ' \\r\\n        15/07/2020 \\r\\n\\t\\t',\n",
              " 'Desativação:\\n',\n",
              " '\\nObjetivos ',\n",
              " '\\nFornecer aos alunos os principais conceitos em Bioestatística, necessários para utilização em disciplinas específicas e para sua atuação profissional, incluindo estatística descritiva necessária para análise de dados e os conceitos de distribuições de probabilidade discretas e contínuas.',\n",
              " '\\xa0',\n",
              " '  ',\n",
              " '\\xa0',\n",
              " '\\xa0',\n",
              " '\\nDocente(s) Responsável(eis)',\n",
              " '\\n\\n\\n\\n \\r\\n              6293113 - Ricardo Roberto da Silva\\n\\n\\n',\n",
              " '',\n",
              " ' \\r\\n              6293113 - Ricardo Roberto da Silva',\n",
              " '',\n",
              " ' \\r\\n              6293113 - Ricardo Roberto da Silva',\n",
              " '\\xa0',\n",
              " '\\nPrograma Resumido',\n",
              " '\\nEsta disciplina compreende a coleta e organização de dados, identificação e classificação das variáveis em estudo, apresentação dos resultados em tabelas e/ou gráficos a fim de executar uma análise exploratória dos mesmos. Analise e distribuição de frequências de uma ou mais variáveis qualitativas e quantitativas. Investigação da associação entre variáveis qualitativas e quantitativas. Cálculo de probabilidades para eventos dependentes e independentes.',\n",
              " '\\xa0',\n",
              " ' \\n',\n",
              " '\\xa0',\n",
              " '\\xa0',\n",
              " '\\nPrograma',\n",
              " '\\nIntrodução à Estatística; - População e amostra; - Escalas de medida; - Variáveis e sua classificação; - Distribuição de frequências; - Tabelas e gráficos; - Análise de uma distribuição de frequências a duas variáveis qualitativas; - Estudo da associação em tabelas 2x2 e rxs; - Análise de uma distribuição de frequências a duas variáveis quantitativas; - Medidas de posição e de variabilidade; - Correlação linear. Teoria elementar de Probabilidade; - Distribuição de Probabilidade Binomial e Normal.',\n",
              " '\\xa0',\n",
              " ' \\n',\n",
              " '\\xa0',\n",
              " '\\xa0',\n",
              " '\\nAvaliação',\n",
              " '\\xa0\\xa0\\xa0\\xa0\\xa0',\n",
              " ' \\n\\n\\nMétodo\\n\\n\\n \\r\\n        Aula expositiva dialogada; Aprendizagem baseada em Problemas  e Resolução de exercícios.\\n\\n\\n\\nCritério\\n\\n\\n \\r\\n        \\nO aluno deverá mostrar ter atingido os objetivos gerais e específicos do módulo através de aprovação revelada por um escore de 0 a 10. Os instrumentos de avaliação serão: \\n- duas Provas com questões objetivas, escritas e individuais, sendo que a primeira terá peso 2 e a segunda peso 3.\\n- Listas de Exercícios em grupos e/ou individuais, e/ou aplicações no TCC1 do aluno, com peso 1.\\n\\nCritério de avaliação: Será aprovado o aluno que obtiver média igual ou superior a 5,0, calculada pela fórmula:\\n\\nM= (E+2.P1+3.P2)/6\\nOnde: E é a nota das listas de Exercícios e/ou aplicações no TCC1, P1 é a nota da primeira prova e P2 é a nota da segunda prova.\\n\\n\\n\\n\\nNorma de Recuperação\\n\\n\\n \\r\\n        Prova\\n\\n\\n',\n",
              " '\\nMétodo',\n",
              " ' \\r\\n        Aula expositiva dialogada; Aprendizagem baseada em Problemas  e Resolução de exercícios.',\n",
              " '\\nCritério',\n",
              " ' \\r\\n        \\nO aluno deverá mostrar ter atingido os objetivos gerais e específicos do módulo através de aprovação revelada por um escore de 0 a 10. Os instrumentos de avaliação serão: \\n- duas Provas com questões objetivas, escritas e individuais, sendo que a primeira terá peso 2 e a segunda peso 3.\\n- Listas de Exercícios em grupos e/ou individuais, e/ou aplicações no TCC1 do aluno, com peso 1.\\n\\nCritério de avaliação: Será aprovado o aluno que obtiver média igual ou superior a 5,0, calculada pela fórmula:\\n\\nM= (E+2.P1+3.P2)/6\\nOnde: E é a nota das listas de Exercícios e/ou aplicações no TCC1, P1 é a nota da primeira prova e P2 é a nota da segunda prova.\\n',\n",
              " '\\nNorma de Recuperação',\n",
              " ' \\r\\n        Prova',\n",
              " '\\nMétodo',\n",
              " ' \\r\\n        Aula expositiva dialogada; Aprendizagem baseada em Problemas  e Resolução de exercícios.',\n",
              " '\\nCritério',\n",
              " ' \\r\\n        \\nO aluno deverá mostrar ter atingido os objetivos gerais e específicos do módulo através de aprovação revelada por um escore de 0 a 10. Os instrumentos de avaliação serão: \\n- duas Provas com questões objetivas, escritas e individuais, sendo que a primeira terá peso 2 e a segunda peso 3.\\n- Listas de Exercícios em grupos e/ou individuais, e/ou aplicações no TCC1 do aluno, com peso 1.\\n\\nCritério de avaliação: Será aprovado o aluno que obtiver média igual ou superior a 5,0, calculada pela fórmula:\\n\\nM= (E+2.P1+3.P2)/6\\nOnde: E é a nota das listas de Exercícios e/ou aplicações no TCC1, P1 é a nota da primeira prova e P2 é a nota da segunda prova.\\n',\n",
              " '\\nNorma de Recuperação',\n",
              " ' \\r\\n        Prova',\n",
              " '\\xa0',\n",
              " '\\xa0\\xa0\\xa0\\xa0\\xa0',\n",
              " ' \\n\\n\\n\\n1.\\tDaniel, W.W. Biostatistcs: A Foundation for Analysis in the Health Sciences. John Wiley & Sons, 10th\\nEdition, 2013\\n2.\\tTriola, M.F. Introdução à Estatística, LTC Livros Técnicos e Científicos, 10ª edição, 2008\\n3.\\tBussab, W. Estatística Básica, Saraiva. 5ª edição, 2006\\n4.\\tBerquó, E.S.; Souza, J.M.P.; Gottlieb, S.L.B. Bioestatística, EPU-São Paulo, 1981\\n5.     Estatística Básica. Pedro A. Morettin, Wilton O. Bussab. 9a edição - São Paulo: Saraiva, 2017.\\n\\n\\n',\n",
              " '',\n",
              " '\\n1.\\tDaniel, W.W. Biostatistcs: A Foundation for Analysis in the Health Sciences. John Wiley & Sons, 10th\\nEdition, 2013\\n2.\\tTriola, M.F. Introdução à Estatística, LTC Livros Técnicos e Científicos, 10ª edição, 2008\\n3.\\tBussab, W. Estatística Básica, Saraiva. 5ª edição, 2006\\n4.\\tBerquó, E.S.; Souza, J.M.P.; Gottlieb, S.L.B. Bioestatística, EPU-São Paulo, 1981\\n5.     Estatística Básica. Pedro A. Morettin, Wilton O. Bussab. 9a edição - São Paulo: Saraiva, 2017.',\n",
              " '',\n",
              " '\\n1.\\tDaniel, W.W. Biostatistcs: A Foundation for Analysis in the Health Sciences. John Wiley & Sons, 10th\\nEdition, 2013\\n2.\\tTriola, M.F. Introdução à Estatística, LTC Livros Técnicos e Científicos, 10ª edição, 2008\\n3.\\tBussab, W. Estatística Básica, Saraiva. 5ª edição, 2006\\n4.\\tBerquó, E.S.; Souza, J.M.P.; Gottlieb, S.L.B. Bioestatística, EPU-São Paulo, 1981\\n5.     Estatística Básica. Pedro A. Morettin, Wilton O. Bussab. 9a edição - São Paulo: Saraiva, 2017.',\n",
              " '\\xa0',\n",
              " '\\nClique \\r\\n        para consultar os requisitos para CGF2022 ',\n",
              " '\\nClique \\r\\n        para consultar o oferecimento para CGF2022 ',\n",
              " '\\n\\n',\n",
              " '\\n\\n',\n",
              " '\\n\\n',\n",
              " '\\n\\n\\xa0Preparar para impressão\\xa0\\n\\n',\n",
              " '\\n\\n',\n",
              " '\\n\\r\\n\\t\\t\\tJúpiter - Sistema de Gestão Acadêmica da Pró-Reitoria de Graduação\\r\\n\\t\\t\\n',\n",
              " ' \\r\\n\\t    Faculdade de Ciências Farmacêuticas de Ribeirão Preto',\n",
              " '\\xa0',\n",
              " ' \\r\\n\\t    Disciplinas Interdepartamentais da FCFRP',\n",
              " '\\xa0',\n",
              " '\\nDisciplina: CGF2022 - Bioestatística I\\n',\n",
              " ' \\r\\n         Biostatistics I \\n',\n",
              " '\\nCréditos Aula:',\n",
              " ' \\r\\n        2\\r\\n\\t\\t',\n",
              " ' \\r\\n        Créditos Trabalho:',\n",
              " ' \\r\\n        0',\n",
              " ' \\r\\n        Carga Horária Total: ',\n",
              " ' \\r\\n       \\t\\t30 h \\r\\n \\t\\t\\t\\r\\n\\t\\t\\t \\r\\n\\t\\t\\t\\t\\t',\n",
              " '\\nTipo:',\n",
              " ' \\r\\n\\t   \\r\\n\\t   \\r\\n\\t   Semestral\\r\\n\\t   \\r\\n\\t   \\r\\n\\t   \\t   \\r\\n\\t   ',\n",
              " ' \\r\\n                    Ativação: ',\n",
              " ' \\r\\n        15/07/2020 \\r\\n\\t\\t',\n",
              " 'Desativação:\\n',\n",
              " '\\nObjetivos ',\n",
              " '\\nFornecer aos alunos os principais conceitos em Bioestatística, necessários para utilização em disciplinas específicas e para sua atuação profissional, incluindo estatística descritiva necessária para análise de dados e os conceitos de distribuições de probabilidade discretas e contínuas.',\n",
              " '\\xa0',\n",
              " '  ',\n",
              " '\\xa0',\n",
              " '\\xa0',\n",
              " '\\nDocente(s) Responsável(eis)',\n",
              " '\\n\\n\\n\\n \\r\\n              6293113 - Ricardo Roberto da Silva\\n\\n\\n',\n",
              " '',\n",
              " ' \\r\\n              6293113 - Ricardo Roberto da Silva',\n",
              " '',\n",
              " ' \\r\\n              6293113 - Ricardo Roberto da Silva',\n",
              " '\\xa0',\n",
              " '',\n",
              " ' \\r\\n              6293113 - Ricardo Roberto da Silva',\n",
              " '\\nPrograma Resumido',\n",
              " '\\nEsta disciplina compreende a coleta e organização de dados, identificação e classificação das variáveis em estudo, apresentação dos resultados em tabelas e/ou gráficos a fim de executar uma análise exploratória dos mesmos. Analise e distribuição de frequências de uma ou mais variáveis qualitativas e quantitativas. Investigação da associação entre variáveis qualitativas e quantitativas. Cálculo de probabilidades para eventos dependentes e independentes.',\n",
              " '\\xa0',\n",
              " ' \\n',\n",
              " '\\xa0',\n",
              " '\\xa0',\n",
              " '\\nPrograma',\n",
              " '\\nIntrodução à Estatística; - População e amostra; - Escalas de medida; - Variáveis e sua classificação; - Distribuição de frequências; - Tabelas e gráficos; - Análise de uma distribuição de frequências a duas variáveis qualitativas; - Estudo da associação em tabelas 2x2 e rxs; - Análise de uma distribuição de frequências a duas variáveis quantitativas; - Medidas de posição e de variabilidade; - Correlação linear. Teoria elementar de Probabilidade; - Distribuição de Probabilidade Binomial e Normal.',\n",
              " '\\xa0',\n",
              " ' \\n',\n",
              " '\\xa0',\n",
              " '\\xa0',\n",
              " '\\nAvaliação',\n",
              " '\\xa0\\xa0\\xa0\\xa0\\xa0',\n",
              " ' \\n\\n\\nMétodo\\n\\n\\n \\r\\n        Aula expositiva dialogada; Aprendizagem baseada em Problemas  e Resolução de exercícios.\\n\\n\\n\\nCritério\\n\\n\\n \\r\\n        \\nO aluno deverá mostrar ter atingido os objetivos gerais e específicos do módulo através de aprovação revelada por um escore de 0 a 10. Os instrumentos de avaliação serão: \\n- duas Provas com questões objetivas, escritas e individuais, sendo que a primeira terá peso 2 e a segunda peso 3.\\n- Listas de Exercícios em grupos e/ou individuais, e/ou aplicações no TCC1 do aluno, com peso 1.\\n\\nCritério de avaliação: Será aprovado o aluno que obtiver média igual ou superior a 5,0, calculada pela fórmula:\\n\\nM= (E+2.P1+3.P2)/6\\nOnde: E é a nota das listas de Exercícios e/ou aplicações no TCC1, P1 é a nota da primeira prova e P2 é a nota da segunda prova.\\n\\n\\n\\n\\nNorma de Recuperação\\n\\n\\n \\r\\n        Prova\\n\\n\\n',\n",
              " '\\nMétodo',\n",
              " ' \\r\\n        Aula expositiva dialogada; Aprendizagem baseada em Problemas  e Resolução de exercícios.',\n",
              " '\\nCritério',\n",
              " ' \\r\\n        \\nO aluno deverá mostrar ter atingido os objetivos gerais e específicos do módulo através de aprovação revelada por um escore de 0 a 10. Os instrumentos de avaliação serão: \\n- duas Provas com questões objetivas, escritas e individuais, sendo que a primeira terá peso 2 e a segunda peso 3.\\n- Listas de Exercícios em grupos e/ou individuais, e/ou aplicações no TCC1 do aluno, com peso 1.\\n\\nCritério de avaliação: Será aprovado o aluno que obtiver média igual ou superior a 5,0, calculada pela fórmula:\\n\\nM= (E+2.P1+3.P2)/6\\nOnde: E é a nota das listas de Exercícios e/ou aplicações no TCC1, P1 é a nota da primeira prova e P2 é a nota da segunda prova.\\n',\n",
              " '\\nNorma de Recuperação',\n",
              " ' \\r\\n        Prova',\n",
              " '\\nMétodo',\n",
              " ' \\r\\n        Aula expositiva dialogada; Aprendizagem baseada em Problemas  e Resolução de exercícios.',\n",
              " '\\nCritério',\n",
              " ' \\r\\n        \\nO aluno deverá mostrar ter atingido os objetivos gerais e específicos do módulo através de aprovação revelada por um escore de 0 a 10. Os instrumentos de avaliação serão: \\n- duas Provas com questões objetivas, escritas e individuais, sendo que a primeira terá peso 2 e a segunda peso 3.\\n- Listas de Exercícios em grupos e/ou individuais, e/ou aplicações no TCC1 do aluno, com peso 1.\\n\\nCritério de avaliação: Será aprovado o aluno que obtiver média igual ou superior a 5,0, calculada pela fórmula:\\n\\nM= (E+2.P1+3.P2)/6\\nOnde: E é a nota das listas de Exercícios e/ou aplicações no TCC1, P1 é a nota da primeira prova e P2 é a nota da segunda prova.\\n',\n",
              " '\\nNorma de Recuperação',\n",
              " ' \\r\\n        Prova',\n",
              " '\\nMétodo',\n",
              " ' \\r\\n        Aula expositiva dialogada; Aprendizagem baseada em Problemas  e Resolução de exercícios.',\n",
              " '\\nCritério',\n",
              " ' \\r\\n        \\nO aluno deverá mostrar ter atingido os objetivos gerais e específicos do módulo através de aprovação revelada por um escore de 0 a 10. Os instrumentos de avaliação serão: \\n- duas Provas com questões objetivas, escritas e individuais, sendo que a primeira terá peso 2 e a segunda peso 3.\\n- Listas de Exercícios em grupos e/ou individuais, e/ou aplicações no TCC1 do aluno, com peso 1.\\n\\nCritério de avaliação: Será aprovado o aluno que obtiver média igual ou superior a 5,0, calculada pela fórmula:\\n\\nM= (E+2.P1+3.P2)/6\\nOnde: E é a nota das listas de Exercícios e/ou aplicações no TCC1, P1 é a nota da primeira prova e P2 é a nota da segunda prova.\\n',\n",
              " '\\nNorma de Recuperação',\n",
              " ' \\r\\n        Prova',\n",
              " '\\xa0',\n",
              " '\\xa0\\xa0\\xa0\\xa0\\xa0',\n",
              " ' \\n\\n\\n\\n1.\\tDaniel, W.W. Biostatistcs: A Foundation for Analysis in the Health Sciences. John Wiley & Sons, 10th\\nEdition, 2013\\n2.\\tTriola, M.F. Introdução à Estatística, LTC Livros Técnicos e Científicos, 10ª edição, 2008\\n3.\\tBussab, W. Estatística Básica, Saraiva. 5ª edição, 2006\\n4.\\tBerquó, E.S.; Souza, J.M.P.; Gottlieb, S.L.B. Bioestatística, EPU-São Paulo, 1981\\n5.     Estatística Básica. Pedro A. Morettin, Wilton O. Bussab. 9a edição - São Paulo: Saraiva, 2017.\\n\\n\\n',\n",
              " '',\n",
              " '\\n1.\\tDaniel, W.W. Biostatistcs: A Foundation for Analysis in the Health Sciences. John Wiley & Sons, 10th\\nEdition, 2013\\n2.\\tTriola, M.F. Introdução à Estatística, LTC Livros Técnicos e Científicos, 10ª edição, 2008\\n3.\\tBussab, W. Estatística Básica, Saraiva. 5ª edição, 2006\\n4.\\tBerquó, E.S.; Souza, J.M.P.; Gottlieb, S.L.B. Bioestatística, EPU-São Paulo, 1981\\n5.     Estatística Básica. Pedro A. Morettin, Wilton O. Bussab. 9a edição - São Paulo: Saraiva, 2017.',\n",
              " '',\n",
              " '\\n1.\\tDaniel, W.W. Biostatistcs: A Foundation for Analysis in the Health Sciences. John Wiley & Sons, 10th\\nEdition, 2013\\n2.\\tTriola, M.F. Introdução à Estatística, LTC Livros Técnicos e Científicos, 10ª edição, 2008\\n3.\\tBussab, W. Estatística Básica, Saraiva. 5ª edição, 2006\\n4.\\tBerquó, E.S.; Souza, J.M.P.; Gottlieb, S.L.B. Bioestatística, EPU-São Paulo, 1981\\n5.     Estatística Básica. Pedro A. Morettin, Wilton O. Bussab. 9a edição - São Paulo: Saraiva, 2017.',\n",
              " '\\xa0',\n",
              " '\\xa0\\xa0\\xa0\\xa0\\xa0',\n",
              " ' \\n\\n\\n\\n1.\\tDaniel, W.W. Biostatistcs: A Foundation for Analysis in the Health Sciences. John Wiley & Sons, 10th\\nEdition, 2013\\n2.\\tTriola, M.F. Introdução à Estatística, LTC Livros Técnicos e Científicos, 10ª edição, 2008\\n3.\\tBussab, W. Estatística Básica, Saraiva. 5ª edição, 2006\\n4.\\tBerquó, E.S.; Souza, J.M.P.; Gottlieb, S.L.B. Bioestatística, EPU-São Paulo, 1981\\n5.     Estatística Básica. Pedro A. Morettin, Wilton O. Bussab. 9a edição - São Paulo: Saraiva, 2017.\\n\\n\\n',\n",
              " '',\n",
              " '\\n1.\\tDaniel, W.W. Biostatistcs: A Foundation for Analysis in the Health Sciences. John Wiley & Sons, 10th\\nEdition, 2013\\n2.\\tTriola, M.F. Introdução à Estatística, LTC Livros Técnicos e Científicos, 10ª edição, 2008\\n3.\\tBussab, W. Estatística Básica, Saraiva. 5ª edição, 2006\\n4.\\tBerquó, E.S.; Souza, J.M.P.; Gottlieb, S.L.B. Bioestatística, EPU-São Paulo, 1981\\n5.     Estatística Básica. Pedro A. Morettin, Wilton O. Bussab. 9a edição - São Paulo: Saraiva, 2017.',\n",
              " '',\n",
              " '\\n1.\\tDaniel, W.W. Biostatistcs: A Foundation for Analysis in the Health Sciences. John Wiley & Sons, 10th\\nEdition, 2013\\n2.\\tTriola, M.F. Introdução à Estatística, LTC Livros Técnicos e Científicos, 10ª edição, 2008\\n3.\\tBussab, W. Estatística Básica, Saraiva. 5ª edição, 2006\\n4.\\tBerquó, E.S.; Souza, J.M.P.; Gottlieb, S.L.B. Bioestatística, EPU-São Paulo, 1981\\n5.     Estatística Básica. Pedro A. Morettin, Wilton O. Bussab. 9a edição - São Paulo: Saraiva, 2017.',\n",
              " '',\n",
              " '\\n1.\\tDaniel, W.W. Biostatistcs: A Foundation for Analysis in the Health Sciences. John Wiley & Sons, 10th\\nEdition, 2013\\n2.\\tTriola, M.F. Introdução à Estatística, LTC Livros Técnicos e Científicos, 10ª edição, 2008\\n3.\\tBussab, W. Estatística Básica, Saraiva. 5ª edição, 2006\\n4.\\tBerquó, E.S.; Souza, J.M.P.; Gottlieb, S.L.B. Bioestatística, EPU-São Paulo, 1981\\n5.     Estatística Básica. Pedro A. Morettin, Wilton O. Bussab. 9a edição - São Paulo: Saraiva, 2017.',\n",
              " '\\nClique \\r\\n        para consultar os requisitos para CGF2022 ',\n",
              " '\\nClique \\r\\n        para consultar o oferecimento para CGF2022 ',\n",
              " '\\nCréditos\\r\\n      | Fale conosco\\r\\n      © 1999 - 2024 - Superintendência de Tecnologia da Informação/USP\\n']"
            ]
          },
          "metadata": {},
          "execution_count": 20
        }
      ]
    },
    {
      "cell_type": "code",
      "source": [
        "fulltxt = ' '.join(list(itertools.chain(*row_list)))"
      ],
      "metadata": {
        "id": "VsCbbOCh6vY6"
      },
      "execution_count": 23,
      "outputs": []
    },
    {
      "cell_type": "code",
      "source": [
        "fulltxt"
      ],
      "metadata": {
        "colab": {
          "base_uri": "https://localhost:8080/",
          "height": 214
        },
        "id": "o453uo13NDhU",
        "outputId": "e8715b88-6000-4801-da33-50368e36e292"
      },
      "execution_count": 24,
      "outputs": [
        {
          "output_type": "execute_result",
          "data": {
            "text/plain": [
              "'\\n\\n \\n\\n \\n\\n \\n \\n \\n\\n\\n\\n\\n\\n\\n\\n\\n\\n\\n\\xa0Preparar para impressão\\xa0\\n\\n\\n\\n\\n\\n\\n\\n\\n\\n\\n\\r\\n\\t\\t\\tJúpiter - Sistema de Gestão Acadêmica da Pró-Reitoria de Graduação\\r\\n\\t\\t\\n\\n\\n\\n\\n\\n\\n \\r\\n\\t    Faculdade de Ciências Farmacêuticas de Ribeirão Preto\\n\\n\\n\\xa0\\n\\n\\n \\r\\n\\t    Disciplinas Interdepartamentais da FCFRP\\n\\n\\n\\xa0\\n\\n\\n\\nDisciplina: CGF2022 - Bioestatística I\\n\\n\\n\\n \\r\\n         Biostatistics I \\n\\n\\n\\n\\n\\n\\n\\nCréditos Aula:\\n \\r\\n        2\\r\\n\\t\\t\\n\\n\\n \\r\\n        Créditos Trabalho:\\n \\r\\n        0\\n\\n\\n \\r\\n        Carga Horária Total: \\n \\r\\n       \\t\\t30 h \\r\\n \\t\\t\\t\\r\\n\\t\\t\\t \\r\\n\\t\\t\\t\\t\\t\\n\\n\\n\\nTipo:\\n \\r\\n\\t   \\r\\n\\t   \\r\\n\\t   Semestral\\r\\n\\t   \\r\\n\\t   \\r\\n\\t   \\t   \\r\\n\\t   \\n\\n\\n \\r\\n                    Ativação: \\n \\r\\n        15/07/2020 \\r\\n\\t\\t\\nDesativação:\\n\\n\\n\\n\\n\\n\\n\\nObjetivos \\n\\n\\n\\nFornecer aos alunos os principais conceitos em Bioestatística, necessários para utilização em disciplinas específicas e para sua atuação profissional, incluindo estatística descritiva necessária para análise de dados e os conceitos de distribuições de probabilidade discretas e contínuas.\\n\\n\\xa0\\n\\n  \\n\\n\\xa0\\n\\n\\xa0\\n\\n\\n\\n\\n\\nDocente(s) Responsável(eis)\\n\\n\\n\\n\\n\\n\\n \\r\\n              6293113 - Ricardo Roberto da Silva\\n\\n\\n\\n\\n\\n\\xa0\\n\\n\\n\\n\\n\\nPrograma Resumido\\n\\n\\n\\nEsta disciplina compreende a coleta e organização de dados, identificação e classificação das variáveis em estudo, apresentação dos resultados em tabelas e/ou gráficos a fim de executar uma análise exploratória dos mesmos. Analise e distribuição de frequências de uma ou mais variáveis qualitativas e quantitativas. Investigação da associação entre variáveis qualitativas e quantitativas. Cálculo de probabilidades para eventos dependentes e independentes.\\n\\n\\xa0\\n\\n \\n\\n\\n\\xa0\\n\\n\\xa0\\n\\n\\n\\nPrograma\\n\\n\\n\\nIntrodução à Estatística; - População e amostra; - Escalas de medida; - Variáveis e sua classificação; - Distribuição de frequências; - Tabelas e gráficos; - Análise de uma distribuição de frequências a duas variáveis qualitativas; - Estudo da associação em tabelas 2x2 e rxs; - Análise de uma distribuição de frequências a duas variáveis quantitativas; - Medidas de posição e de variabilidade; - Correlação linear. Teoria elementar de Probabilidade; - Distribuição de Probabilidade Binomial e Normal.\\n\\n\\xa0\\n\\n \\n\\n\\n\\xa0\\n\\n\\xa0\\n\\n\\n\\nAvaliação\\n\\n\\n\\n\\n\\xa0\\xa0\\xa0\\xa0\\xa0\\n \\n\\n\\nMétodo\\n\\n\\n \\r\\n        Aula expositiva dialogada; Aprendizagem baseada em Problemas  e Resolução de exercícios.\\n\\n\\n\\nCritério\\n\\n\\n \\r\\n        \\nO aluno deverá mostrar ter atingido os objetivos gerais e específicos do módulo através de aprovação revelada por um escore de 0 a 10. Os instrumentos de avaliação serão: \\n- duas Provas com questões objetivas, escritas e individuais, sendo que a primeira terá peso 2 e a segunda peso 3.\\n- Listas de Exercícios em grupos e/ou individuais, e/ou aplicações no TCC1 do aluno, com peso 1.\\n\\nCritério de avaliação: Será aprovado o aluno que obtiver média igual ou superior a 5,0, calculada pela fórmula:\\n\\nM= (E+2.P1+3.P2)/6\\nOnde: E é a nota das listas de Exercícios e/ou aplicações no TCC1, P1 é a nota da primeira prova e P2 é a nota da segunda prova.\\n\\n\\n\\n\\nNorma de Recuperação\\n\\n\\n \\r\\n        Prova\\n\\n\\n\\n\\n\\n\\n\\n\\n\\xa0\\n\\n\\nBibliografia\\n\\n\\n\\xa0\\xa0\\xa0\\xa0\\xa0\\n \\n\\n\\n\\n1.\\tDaniel, W.W. Biostatistcs: A Foundation for Analysis in the Health Sciences. John Wiley & Sons, 10th\\nEdition, 2013\\n2.\\tTriola, M.F. Introdução à Estatística, LTC Livros Técnicos e Científicos, 10ª edição, 2008\\n3.\\tBussab, W. Estatística Básica, Saraiva. 5ª edição, 2006\\n4.\\tBerquó, E.S.; Souza, J.M.P.; Gottlieb, S.L.B. Bioestatística, EPU-São Paulo, 1981\\n5.     Estatística Básica. Pedro A. Morettin, Wilton O. Bussab. 9a edição - São Paulo: Saraiva, 2017.\\n\\n\\n\\n\\n\\n\\n\\xa0\\n\\n\\n\\n\\n\\n\\nClique \\r\\n        para consultar os requisitos para CGF2022 \\n\\n\\n\\n\\n\\n\\nClique \\r\\n        para consultar o oferecimento para CGF2022 \\n\\n\\n\\n\\n\\n\\n\\n\\n\\n\\n\\n\\n\\n\\n\\n\\n\\n\\n\\n\\n\\n \\n\\n\\n\\n\\n\\n\\n\\xa0Preparar para impressão\\xa0\\n\\n\\n\\n\\n\\n\\n\\n\\n\\n\\n\\r\\n\\t\\t\\tJúpiter - Sistema de Gestão Acadêmica da Pró-Reitoria de Graduação\\r\\n\\t\\t\\n\\n\\n\\n\\n\\n\\n \\r\\n\\t    Faculdade de Ciências Farmacêuticas de Ribeirão Preto\\n\\n\\n\\xa0\\n\\n\\n \\r\\n\\t    Disciplinas Interdepartamentais da FCFRP\\n\\n\\n\\xa0\\n\\n\\n\\nDisciplina: CGF2022 - Bioestatística I\\n\\n\\n\\n \\r\\n         Biostatistics I \\n\\n\\n\\n\\n\\n\\n\\nCréditos Aula:\\n \\r\\n        2\\r\\n\\t\\t\\n\\n\\n \\r\\n        Créditos Trabalho:\\n \\r\\n        0\\n\\n\\n \\r\\n        Carga Horária Total: \\n \\r\\n       \\t\\t30 h \\r\\n \\t\\t\\t\\r\\n\\t\\t\\t \\r\\n\\t\\t\\t\\t\\t\\n\\n\\n\\nTipo:\\n \\r\\n\\t   \\r\\n\\t   \\r\\n\\t   Semestral\\r\\n\\t   \\r\\n\\t   \\r\\n\\t   \\t   \\r\\n\\t   \\n\\n\\n \\r\\n                    Ativação: \\n \\r\\n        15/07/2020 \\r\\n\\t\\t\\nDesativação:\\n\\n\\n\\n\\n\\n\\n\\nObjetivos \\n\\n\\n\\nFornecer aos alunos os principais conceitos em Bioestatística, necessários para utilização em disciplinas específicas e para sua atuação profissional, incluindo estatística descritiva necessária para análise de dados e os conceitos de distribuições de probabilidade discretas e contínuas.\\n\\n\\xa0\\n\\n  \\n\\n\\xa0\\n\\n\\xa0\\n\\n\\n\\n\\n\\nDocente(s) Responsável(eis)\\n\\n\\n\\n\\n\\n\\n \\r\\n              6293113 - Ricardo Roberto da Silva\\n\\n\\n\\n\\n\\n\\xa0\\n\\n\\n\\n\\n\\nPrograma Resumido\\n\\n\\n\\nEsta disciplina compreende a coleta e organização de dados, identificação e classificação das variáveis em estudo, apresentação dos resultados em tabelas e/ou gráficos a fim de executar uma análise exploratória dos mesmos. Analise e distribuição de frequências de uma ou mais variáveis qualitativas e quantitativas. Investigação da associação entre variáveis qualitativas e quantitativas. Cálculo de probabilidades para eventos dependentes e independentes.\\n\\n\\xa0\\n\\n \\n\\n\\n\\xa0\\n\\n\\xa0\\n\\n\\n\\nPrograma\\n\\n\\n\\nIntrodução à Estatística; - População e amostra; - Escalas de medida; - Variáveis e sua classificação; - Distribuição de frequências; - Tabelas e gráficos; - Análise de uma distribuição de frequências a duas variáveis qualitativas; - Estudo da associação em tabelas 2x2 e rxs; - Análise de uma distribuição de frequências a duas variáveis quantitativas; - Medidas de posição e de variabilidade; - Correlação linear. Teoria elementar de Probabilidade; - Distribuição de Probabilidade Binomial e Normal.\\n\\n\\xa0\\n\\n \\n\\n\\n\\xa0\\n\\n\\xa0\\n\\n\\n\\nAvaliação\\n\\n\\n\\n\\n\\xa0\\xa0\\xa0\\xa0\\xa0\\n \\n\\n\\nMétodo\\n\\n\\n \\r\\n        Aula expositiva dialogada; Aprendizagem baseada em Problemas  e Resolução de exercícios.\\n\\n\\n\\nCritério\\n\\n\\n \\r\\n        \\nO aluno deverá mostrar ter atingido os objetivos gerais e específicos do módulo através de aprovação revelada por um escore de 0 a 10. Os instrumentos de avaliação serão: \\n- duas Provas com questões objetivas, escritas e individuais, sendo que a primeira terá peso 2 e a segunda peso 3.\\n- Listas de Exercícios em grupos e/ou individuais, e/ou aplicações no TCC1 do aluno, com peso 1.\\n\\nCritério de avaliação: Será aprovado o aluno que obtiver média igual ou superior a 5,0, calculada pela fórmula:\\n\\nM= (E+2.P1+3.P2)/6\\nOnde: E é a nota das listas de Exercícios e/ou aplicações no TCC1, P1 é a nota da primeira prova e P2 é a nota da segunda prova.\\n\\n\\n\\n\\nNorma de Recuperação\\n\\n\\n \\r\\n        Prova\\n\\n\\n\\n\\n\\n\\n\\n\\n\\xa0\\n\\n\\nBibliografia\\n\\n\\n\\xa0\\xa0\\xa0\\xa0\\xa0\\n \\n\\n\\n\\n1.\\tDaniel, W.W. Biostatistcs: A Foundation for Analysis in the Health Sciences. John Wiley & Sons, 10th\\nEdition, 2013\\n2.\\tTriola, M.F. Introdução à Estatística, LTC Livros Técnicos e Científicos, 10ª edição, 2008\\n3.\\tBussab, W. Estatística Básica, Saraiva. 5ª edição, 2006\\n4.\\tBerquó, E.S.; Souza, J.M.P.; Gottlieb, S.L.B. Bioestatística, EPU-São Paulo, 1981\\n5.     Estatística Básica. Pedro A. Morettin, Wilton O. Bussab. 9a edição - São Paulo: Saraiva, 2017.\\n\\n\\n\\n\\n\\n\\n\\xa0\\n\\n\\n\\n\\n\\n\\nClique \\r\\n        para consultar os requisitos para CGF2022 \\n\\n\\n\\n\\n\\n\\nClique \\r\\n        para consultar o oferecimento para CGF2022 \\n\\n\\n \\n\\n\\xa0Preparar para impressão\\xa0\\n\\n \\n\\n \\n\\r\\n\\t\\t\\tJúpiter - Sistema de Gestão Acadêmica da Pró-Reitoria de Graduação\\r\\n\\t\\t\\n  \\r\\n\\t    Faculdade de Ciências Farmacêuticas de Ribeirão Preto \\xa0  \\r\\n\\t    Disciplinas Interdepartamentais da FCFRP \\xa0 \\nDisciplina: CGF2022 - Bioestatística I\\n  \\r\\n         Biostatistics I \\n \\nCréditos Aula:  \\r\\n        2\\r\\n\\t\\t  \\r\\n        Créditos Trabalho:  \\r\\n        0  \\r\\n        Carga Horária Total:   \\r\\n       \\t\\t30 h \\r\\n \\t\\t\\t\\r\\n\\t\\t\\t \\r\\n\\t\\t\\t\\t\\t \\nTipo:  \\r\\n\\t   \\r\\n\\t   \\r\\n\\t   Semestral\\r\\n\\t   \\r\\n\\t   \\r\\n\\t   \\t   \\r\\n\\t     \\r\\n                    Ativação:   \\r\\n        15/07/2020 \\r\\n\\t\\t Desativação:\\n \\nObjetivos  \\nFornecer aos alunos os principais conceitos em Bioestatística, necessários para utilização em disciplinas específicas e para sua atuação profissional, incluindo estatística descritiva necessária para análise de dados e os conceitos de distribuições de probabilidade discretas e contínuas. \\xa0    \\xa0 \\xa0 \\nDocente(s) Responsável(eis) \\n\\n\\n\\n \\r\\n              6293113 - Ricardo Roberto da Silva\\n\\n\\n   \\r\\n              6293113 - Ricardo Roberto da Silva \\xa0 \\nPrograma Resumido \\nEsta disciplina compreende a coleta e organização de dados, identificação e classificação das variáveis em estudo, apresentação dos resultados em tabelas e/ou gráficos a fim de executar uma análise exploratória dos mesmos. Analise e distribuição de frequências de uma ou mais variáveis qualitativas e quantitativas. Investigação da associação entre variáveis qualitativas e quantitativas. Cálculo de probabilidades para eventos dependentes e independentes. \\xa0  \\n \\xa0 \\xa0 \\nPrograma \\nIntrodução à Estatística; - População e amostra; - Escalas de medida; - Variáveis e sua classificação; - Distribuição de frequências; - Tabelas e gráficos; - Análise de uma distribuição de frequências a duas variáveis qualitativas; - Estudo da associação em tabelas 2x2 e rxs; - Análise de uma distribuição de frequências a duas variáveis quantitativas; - Medidas de posição e de variabilidade; - Correlação linear. Teoria elementar de Probabilidade; - Distribuição de Probabilidade Binomial e Normal. \\xa0  \\n \\xa0 \\xa0 \\nAvaliação \\xa0\\xa0\\xa0\\xa0\\xa0  \\n\\n\\nMétodo\\n\\n\\n \\r\\n        Aula expositiva dialogada; Aprendizagem baseada em Problemas  e Resolução de exercícios.\\n\\n\\n\\nCritério\\n\\n\\n \\r\\n        \\nO aluno deverá mostrar ter atingido os objetivos gerais e específicos do módulo através de aprovação revelada por um escore de 0 a 10. Os instrumentos de avaliação serão: \\n- duas Provas com questões objetivas, escritas e individuais, sendo que a primeira terá peso 2 e a segunda peso 3.\\n- Listas de Exercícios em grupos e/ou individuais, e/ou aplicações no TCC1 do aluno, com peso 1.\\n\\nCritério de avaliação: Será aprovado o aluno que obtiver média igual ou superior a 5,0, calculada pela fórmula:\\n\\nM= (E+2.P1+3.P2)/6\\nOnde: E é a nota das listas de Exercícios e/ou aplicações no TCC1, P1 é a nota da primeira prova e P2 é a nota da segunda prova.\\n\\n\\n\\n\\nNorma de Recuperação\\n\\n\\n \\r\\n        Prova\\n\\n\\n \\nMétodo  \\r\\n        Aula expositiva dialogada; Aprendizagem baseada em Problemas  e Resolução de exercícios. \\nCritério  \\r\\n        \\nO aluno deverá mostrar ter atingido os objetivos gerais e específicos do módulo através de aprovação revelada por um escore de 0 a 10. Os instrumentos de avaliação serão: \\n- duas Provas com questões objetivas, escritas e individuais, sendo que a primeira terá peso 2 e a segunda peso 3.\\n- Listas de Exercícios em grupos e/ou individuais, e/ou aplicações no TCC1 do aluno, com peso 1.\\n\\nCritério de avaliação: Será aprovado o aluno que obtiver média igual ou superior a 5,0, calculada pela fórmula:\\n\\nM= (E+2.P1+3.P2)/6\\nOnde: E é a nota das listas de Exercícios e/ou aplicações no TCC1, P1 é a nota da primeira prova e P2 é a nota da segunda prova.\\n \\nNorma de Recuperação  \\r\\n        Prova \\xa0 \\nBibliografia \\xa0\\xa0\\xa0\\xa0\\xa0  \\n\\n\\n\\n1.\\tDaniel, W.W. Biostatistcs: A Foundation for Analysis in the Health Sciences. John Wiley & Sons, 10th\\nEdition, 2013\\n2.\\tTriola, M.F. Introdução à Estatística, LTC Livros Técnicos e Científicos, 10ª edição, 2008\\n3.\\tBussab, W. Estatística Básica, Saraiva. 5ª edição, 2006\\n4.\\tBerquó, E.S.; Souza, J.M.P.; Gottlieb, S.L.B. Bioestatística, EPU-São Paulo, 1981\\n5.     Estatística Básica. Pedro A. Morettin, Wilton O. Bussab. 9a edição - São Paulo: Saraiva, 2017.\\n\\n\\n  \\n1.\\tDaniel, W.W. Biostatistcs: A Foundation for Analysis in the Health Sciences. John Wiley & Sons, 10th\\nEdition, 2013\\n2.\\tTriola, M.F. Introdução à Estatística, LTC Livros Técnicos e Científicos, 10ª edição, 2008\\n3.\\tBussab, W. Estatística Básica, Saraiva. 5ª edição, 2006\\n4.\\tBerquó, E.S.; Souza, J.M.P.; Gottlieb, S.L.B. Bioestatística, EPU-São Paulo, 1981\\n5.     Estatística Básica. Pedro A. Morettin, Wilton O. Bussab. 9a edição - São Paulo: Saraiva, 2017. \\xa0 \\nClique \\r\\n        para consultar os requisitos para CGF2022  \\nClique \\r\\n        para consultar o oferecimento para CGF2022  \\n\\n \\n\\n \\n\\n \\n\\n\\n\\n\\n\\n\\n\\xa0Preparar para impressão\\xa0\\n\\n\\n\\n\\n\\n\\n\\n\\n\\n\\n\\r\\n\\t\\t\\tJúpiter - Sistema de Gestão Acadêmica da Pró-Reitoria de Graduação\\r\\n\\t\\t\\n\\n\\n\\n\\n\\n\\n \\r\\n\\t    Faculdade de Ciências Farmacêuticas de Ribeirão Preto\\n\\n\\n\\xa0\\n\\n\\n \\r\\n\\t    Disciplinas Interdepartamentais da FCFRP\\n\\n\\n\\xa0\\n\\n\\n\\nDisciplina: CGF2022 - Bioestatística I\\n\\n\\n\\n \\r\\n         Biostatistics I \\n\\n\\n\\n\\n\\n\\n\\nCréditos Aula:\\n \\r\\n        2\\r\\n\\t\\t\\n\\n\\n \\r\\n        Créditos Trabalho:\\n \\r\\n        0\\n\\n\\n \\r\\n        Carga Horária Total: \\n \\r\\n       \\t\\t30 h \\r\\n \\t\\t\\t\\r\\n\\t\\t\\t \\r\\n\\t\\t\\t\\t\\t\\n\\n\\n\\nTipo:\\n \\r\\n\\t   \\r\\n\\t   \\r\\n\\t   Semestral\\r\\n\\t   \\r\\n\\t   \\r\\n\\t   \\t   \\r\\n\\t   \\n\\n\\n \\r\\n                    Ativação: \\n \\r\\n        15/07/2020 \\r\\n\\t\\t\\nDesativação:\\n\\n\\n\\n\\n\\n\\n\\nObjetivos \\n\\n\\n\\nFornecer aos alunos os principais conceitos em Bioestatística, necessários para utilização em disciplinas específicas e para sua atuação profissional, incluindo estatística descritiva necessária para análise de dados e os conceitos de distribuições de probabilidade discretas e contínuas.\\n\\n\\xa0\\n\\n  \\n\\n\\xa0\\n\\n\\xa0\\n\\n\\n\\n\\n\\nDocente(s) Responsável(eis)\\n\\n\\n\\n\\n\\n\\n \\r\\n              6293113 - Ricardo Roberto da Silva\\n\\n\\n\\n\\n\\n\\xa0\\n\\n\\n\\n\\n\\nPrograma Resumido\\n\\n\\n\\nEsta disciplina compreende a coleta e organização de dados, identificação e classificação das variáveis em estudo, apresentação dos resultados em tabelas e/ou gráficos a fim de executar uma análise exploratória dos mesmos. Analise e distribuição de frequências de uma ou mais variáveis qualitativas e quantitativas. Investigação da associação entre variáveis qualitativas e quantitativas. Cálculo de probabilidades para eventos dependentes e independentes.\\n\\n\\xa0\\n\\n \\n\\n\\n\\xa0\\n\\n\\xa0\\n\\n\\n\\nPrograma\\n\\n\\n\\nIntrodução à Estatística; - População e amostra; - Escalas de medida; - Variáveis e sua classificação; - Distribuição de frequências; - Tabelas e gráficos; - Análise de uma distribuição de frequências a duas variáveis qualitativas; - Estudo da associação em tabelas 2x2 e rxs; - Análise de uma distribuição de frequências a duas variáveis quantitativas; - Medidas de posição e de variabilidade; - Correlação linear. Teoria elementar de Probabilidade; - Distribuição de Probabilidade Binomial e Normal.\\n\\n\\xa0\\n\\n \\n\\n\\n\\xa0\\n\\n\\xa0\\n\\n\\n\\nAvaliação\\n\\n\\n\\n\\n\\xa0\\xa0\\xa0\\xa0\\xa0\\n \\n\\n\\nMétodo\\n\\n\\n \\r\\n        Aula expositiva dialogada; Aprendizagem baseada em Problemas  e Resolução de exercícios.\\n\\n\\n\\nCritério\\n\\n\\n \\r\\n        \\nO aluno deverá mostrar ter atingido os objetivos gerais e específicos do módulo através de aprovação revelada por um escore de 0 a 10. Os instrumentos de avaliação serão: \\n- duas Provas com questões objetivas, escritas e individuais, sendo que a primeira terá peso 2 e a segunda peso 3.\\n- Listas de Exercícios em grupos e/ou individuais, e/ou aplicações no TCC1 do aluno, com peso 1.\\n\\nCritério de avaliação: Será aprovado o aluno que obtiver média igual ou superior a 5,0, calculada pela fórmula:\\n\\nM= (E+2.P1+3.P2)/6\\nOnde: E é a nota das listas de Exercícios e/ou aplicações no TCC1, P1 é a nota da primeira prova e P2 é a nota da segunda prova.\\n\\n\\n\\n\\nNorma de Recuperação\\n\\n\\n \\r\\n        Prova\\n\\n\\n\\n\\n\\n\\n\\n\\n\\xa0\\n\\n\\nBibliografia\\n\\n\\n\\xa0\\xa0\\xa0\\xa0\\xa0\\n \\n\\n\\n\\n1.\\tDaniel, W.W. Biostatistcs: A Foundation for Analysis in the Health Sciences. John Wiley & Sons, 10th\\nEdition, 2013\\n2.\\tTriola, M.F. Introdução à Estatística, LTC Livros Técnicos e Científicos, 10ª edição, 2008\\n3.\\tBussab, W. Estatística Básica, Saraiva. 5ª edição, 2006\\n4.\\tBerquó, E.S.; Souza, J.M.P.; Gottlieb, S.L.B. Bioestatística, EPU-São Paulo, 1981\\n5.     Estatística Básica. Pedro A. Morettin, Wilton O. Bussab. 9a edição - São Paulo: Saraiva, 2017.\\n\\n\\n\\n\\n\\n\\n\\xa0\\n\\n\\n\\n\\n\\n\\nClique \\r\\n        para consultar os requisitos para CGF2022 \\n\\n\\n\\n\\n\\n\\nClique \\r\\n        para consultar o oferecimento para CGF2022 \\n\\n\\n \\n\\n\\xa0Preparar para impressão\\xa0\\n\\n \\n\\n \\n\\r\\n\\t\\t\\tJúpiter - Sistema de Gestão Acadêmica da Pró-Reitoria de Graduação\\r\\n\\t\\t\\n  \\r\\n\\t    Faculdade de Ciências Farmacêuticas de Ribeirão Preto \\xa0  \\r\\n\\t    Disciplinas Interdepartamentais da FCFRP \\xa0 \\nDisciplina: CGF2022 - Bioestatística I\\n  \\r\\n         Biostatistics I \\n \\nCréditos Aula:  \\r\\n        2\\r\\n\\t\\t  \\r\\n        Créditos Trabalho:  \\r\\n        0  \\r\\n        Carga Horária Total:   \\r\\n       \\t\\t30 h \\r\\n \\t\\t\\t\\r\\n\\t\\t\\t \\r\\n\\t\\t\\t\\t\\t \\nTipo:  \\r\\n\\t   \\r\\n\\t   \\r\\n\\t   Semestral\\r\\n\\t   \\r\\n\\t   \\r\\n\\t   \\t   \\r\\n\\t     \\r\\n                    Ativação:   \\r\\n        15/07/2020 \\r\\n\\t\\t Desativação:\\n \\nObjetivos  \\nFornecer aos alunos os principais conceitos em Bioestatística, necessários para utilização em disciplinas específicas e para sua atuação profissional, incluindo estatística descritiva necessária para análise de dados e os conceitos de distribuições de probabilidade discretas e contínuas. \\xa0    \\xa0 \\xa0 \\nDocente(s) Responsável(eis) \\n\\n\\n\\n \\r\\n              6293113 - Ricardo Roberto da Silva\\n\\n\\n   \\r\\n              6293113 - Ricardo Roberto da Silva \\xa0 \\nPrograma Resumido \\nEsta disciplina compreende a coleta e organização de dados, identificação e classificação das variáveis em estudo, apresentação dos resultados em tabelas e/ou gráficos a fim de executar uma análise exploratória dos mesmos. Analise e distribuição de frequências de uma ou mais variáveis qualitativas e quantitativas. Investigação da associação entre variáveis qualitativas e quantitativas. Cálculo de probabilidades para eventos dependentes e independentes. \\xa0  \\n \\xa0 \\xa0 \\nPrograma \\nIntrodução à Estatística; - População e amostra; - Escalas de medida; - Variáveis e sua classificação; - Distribuição de frequências; - Tabelas e gráficos; - Análise de uma distribuição de frequências a duas variáveis qualitativas; - Estudo da associação em tabelas 2x2 e rxs; - Análise de uma distribuição de frequências a duas variáveis quantitativas; - Medidas de posição e de variabilidade; - Correlação linear. Teoria elementar de Probabilidade; - Distribuição de Probabilidade Binomial e Normal. \\xa0  \\n \\xa0 \\xa0 \\nAvaliação \\xa0\\xa0\\xa0\\xa0\\xa0  \\n\\n\\nMétodo\\n\\n\\n \\r\\n        Aula expositiva dialogada; Aprendizagem baseada em Problemas  e Resolução de exercícios.\\n\\n\\n\\nCritério\\n\\n\\n \\r\\n        \\nO aluno deverá mostrar ter atingido os objetivos gerais e específicos do módulo através de aprovação revelada por um escore de 0 a 10. Os instrumentos de avaliação serão: \\n- duas Provas com questões objetivas, escritas e individuais, sendo que a primeira terá peso 2 e a segunda peso 3.\\n- Listas de Exercícios em grupos e/ou individuais, e/ou aplicações no TCC1 do aluno, com peso 1.\\n\\nCritério de avaliação: Será aprovado o aluno que obtiver média igual ou superior a 5,0, calculada pela fórmula:\\n\\nM= (E+2.P1+3.P2)/6\\nOnde: E é a nota das listas de Exercícios e/ou aplicações no TCC1, P1 é a nota da primeira prova e P2 é a nota da segunda prova.\\n\\n\\n\\n\\nNorma de Recuperação\\n\\n\\n \\r\\n        Prova\\n\\n\\n \\nMétodo  \\r\\n        Aula expositiva dialogada; Aprendizagem baseada em Problemas  e Resolução de exercícios. \\nCritério  \\r\\n        \\nO aluno deverá mostrar ter atingido os objetivos gerais e específicos do módulo através de aprovação revelada por um escore de 0 a 10. Os instrumentos de avaliação serão: \\n- duas Provas com questões objetivas, escritas e individuais, sendo que a primeira terá peso 2 e a segunda peso 3.\\n- Listas de Exercícios em grupos e/ou individuais, e/ou aplicações no TCC1 do aluno, com peso 1.\\n\\nCritério de avaliação: Será aprovado o aluno que obtiver média igual ou superior a 5,0, calculada pela fórmula:\\n\\nM= (E+2.P1+3.P2)/6\\nOnde: E é a nota das listas de Exercícios e/ou aplicações no TCC1, P1 é a nota da primeira prova e P2 é a nota da segunda prova.\\n \\nNorma de Recuperação  \\r\\n        Prova \\xa0 \\nBibliografia \\xa0\\xa0\\xa0\\xa0\\xa0  \\n\\n\\n\\n1.\\tDaniel, W.W. Biostatistcs: A Foundation for Analysis in the Health Sciences. John Wiley & Sons, 10th\\nEdition, 2013\\n2.\\tTriola, M.F. Introdução à Estatística, LTC Livros Técnicos e Científicos, 10ª edição, 2008\\n3.\\tBussab, W. Estatística Básica, Saraiva. 5ª edição, 2006\\n4.\\tBerquó, E.S.; Souza, J.M.P.; Gottlieb, S.L.B. Bioestatística, EPU-São Paulo, 1981\\n5.     Estatística Básica. Pedro A. Morettin, Wilton O. Bussab. 9a edição - São Paulo: Saraiva, 2017.\\n\\n\\n  \\n1.\\tDaniel, W.W. Biostatistcs: A Foundation for Analysis in the Health Sciences. John Wiley & Sons, 10th\\nEdition, 2013\\n2.\\tTriola, M.F. Introdução à Estatística, LTC Livros Técnicos e Científicos, 10ª edição, 2008\\n3.\\tBussab, W. Estatística Básica, Saraiva. 5ª edição, 2006\\n4.\\tBerquó, E.S.; Souza, J.M.P.; Gottlieb, S.L.B. Bioestatística, EPU-São Paulo, 1981\\n5.     Estatística Básica. Pedro A. Morettin, Wilton O. Bussab. 9a edição - São Paulo: Saraiva, 2017. \\xa0 \\nClique \\r\\n        para consultar os requisitos para CGF2022  \\nClique \\r\\n        para consultar o oferecimento para CGF2022  \\n\\n\\xa0Preparar para impressão\\xa0\\n\\n \\n\\n \\n\\r\\n\\t\\t\\tJúpiter - Sistema de Gestão Acadêmica da Pró-Reitoria de Graduação\\r\\n\\t\\t\\n  \\r\\n\\t    Faculdade de Ciências Farmacêuticas de Ribeirão Preto \\xa0  \\r\\n\\t    Disciplinas Interdepartamentais da FCFRP \\xa0 \\nDisciplina: CGF2022 - Bioestatística I\\n  \\r\\n         Biostatistics I \\n \\nCréditos Aula:  \\r\\n        2\\r\\n\\t\\t  \\r\\n        Créditos Trabalho:  \\r\\n        0  \\r\\n        Carga Horária Total:   \\r\\n       \\t\\t30 h \\r\\n \\t\\t\\t\\r\\n\\t\\t\\t \\r\\n\\t\\t\\t\\t\\t \\nTipo:  \\r\\n\\t   \\r\\n\\t   \\r\\n\\t   Semestral\\r\\n\\t   \\r\\n\\t   \\r\\n\\t   \\t   \\r\\n\\t     \\r\\n                    Ativação:   \\r\\n        15/07/2020 \\r\\n\\t\\t Desativação:\\n \\nObjetivos  \\nFornecer aos alunos os principais conceitos em Bioestatística, necessários para utilização em disciplinas específicas e para sua atuação profissional, incluindo estatística descritiva necessária para análise de dados e os conceitos de distribuições de probabilidade discretas e contínuas. \\xa0    \\xa0 \\xa0 \\nDocente(s) Responsável(eis) \\n\\n\\n\\n \\r\\n              6293113 - Ricardo Roberto da Silva\\n\\n\\n   \\r\\n              6293113 - Ricardo Roberto da Silva   \\r\\n              6293113 - Ricardo Roberto da Silva \\xa0 \\nPrograma Resumido \\nEsta disciplina compreende a coleta e organização de dados, identificação e classificação das variáveis em estudo, apresentação dos resultados em tabelas e/ou gráficos a fim de executar uma análise exploratória dos mesmos. Analise e distribuição de frequências de uma ou mais variáveis qualitativas e quantitativas. Investigação da associação entre variáveis qualitativas e quantitativas. Cálculo de probabilidades para eventos dependentes e independentes. \\xa0  \\n \\xa0 \\xa0 \\nPrograma \\nIntrodução à Estatística; - População e amostra; - Escalas de medida; - Variáveis e sua classificação; - Distribuição de frequências; - Tabelas e gráficos; - Análise de uma distribuição de frequências a duas variáveis qualitativas; - Estudo da associação em tabelas 2x2 e rxs; - Análise de uma distribuição de frequências a duas variáveis quantitativas; - Medidas de posição e de variabilidade; - Correlação linear. Teoria elementar de Probabilidade; - Distribuição de Probabilidade Binomial e Normal. \\xa0  \\n \\xa0 \\xa0 \\nAvaliação \\xa0\\xa0\\xa0\\xa0\\xa0  \\n\\n\\nMétodo\\n\\n\\n \\r\\n        Aula expositiva dialogada; Aprendizagem baseada em Problemas  e Resolução de exercícios.\\n\\n\\n\\nCritério\\n\\n\\n \\r\\n        \\nO aluno deverá mostrar ter atingido os objetivos gerais e específicos do módulo através de aprovação revelada por um escore de 0 a 10. Os instrumentos de avaliação serão: \\n- duas Provas com questões objetivas, escritas e individuais, sendo que a primeira terá peso 2 e a segunda peso 3.\\n- Listas de Exercícios em grupos e/ou individuais, e/ou aplicações no TCC1 do aluno, com peso 1.\\n\\nCritério de avaliação: Será aprovado o aluno que obtiver média igual ou superior a 5,0, calculada pela fórmula:\\n\\nM= (E+2.P1+3.P2)/6\\nOnde: E é a nota das listas de Exercícios e/ou aplicações no TCC1, P1 é a nota da primeira prova e P2 é a nota da segunda prova.\\n\\n\\n\\n\\nNorma de Recuperação\\n\\n\\n \\r\\n        Prova\\n\\n\\n \\nMétodo  \\r\\n        Aula expositiva dialogada; Aprendizagem baseada em Problemas  e Resolução de exercícios. \\nCritério  \\r\\n        \\nO aluno deverá mostrar ter atingido os objetivos gerais e específicos do módulo através de aprovação revelada por um escore de 0 a 10. Os instrumentos de avaliação serão: \\n- duas Provas com questões objetivas, escritas e individuais, sendo que a primeira terá peso 2 e a segunda peso 3.\\n- Listas de Exercícios em grupos e/ou individuais, e/ou aplicações no TCC1 do aluno, com peso 1.\\n\\nCritério de avaliação: Será aprovado o aluno que obtiver média igual ou superior a 5,0, calculada pela fórmula:\\n\\nM= (E+2.P1+3.P2)/6\\nOnde: E é a nota das listas de Exercícios e/ou aplicações no TCC1, P1 é a nota da primeira prova e P2 é a nota da segunda prova.\\n \\nNorma de Recuperação  \\r\\n        Prova \\nMétodo  \\r\\n        Aula expositiva dialogada; Aprendizagem baseada em Problemas  e Resolução de exercícios. \\nCritério  \\r\\n        \\nO aluno deverá mostrar ter atingido os objetivos gerais e específicos do módulo através de aprovação revelada por um escore de 0 a 10. Os instrumentos de avaliação serão: \\n- duas Provas com questões objetivas, escritas e individuais, sendo que a primeira terá peso 2 e a segunda peso 3.\\n- Listas de Exercícios em grupos e/ou individuais, e/ou aplicações no TCC1 do aluno, com peso 1.\\n\\nCritério de avaliação: Será aprovado o aluno que obtiver média igual ou superior a 5,0, calculada pela fórmula:\\n\\nM= (E+2.P1+3.P2)/6\\nOnde: E é a nota das listas de Exercícios e/ou aplicações no TCC1, P1 é a nota da primeira prova e P2 é a nota da segunda prova.\\n \\nNorma de Recuperação  \\r\\n        Prova \\xa0 \\xa0\\xa0\\xa0\\xa0\\xa0  \\n\\n\\n\\n1.\\tDaniel, W.W. Biostatistcs: A Foundation for Analysis in the Health Sciences. John Wiley & Sons, 10th\\nEdition, 2013\\n2.\\tTriola, M.F. Introdução à Estatística, LTC Livros Técnicos e Científicos, 10ª edição, 2008\\n3.\\tBussab, W. Estatística Básica, Saraiva. 5ª edição, 2006\\n4.\\tBerquó, E.S.; Souza, J.M.P.; Gottlieb, S.L.B. Bioestatística, EPU-São Paulo, 1981\\n5.     Estatística Básica. Pedro A. Morettin, Wilton O. Bussab. 9a edição - São Paulo: Saraiva, 2017.\\n\\n\\n  \\n1.\\tDaniel, W.W. Biostatistcs: A Foundation for Analysis in the Health Sciences. John Wiley & Sons, 10th\\nEdition, 2013\\n2.\\tTriola, M.F. Introdução à Estatística, LTC Livros Técnicos e Científicos, 10ª edição, 2008\\n3.\\tBussab, W. Estatística Básica, Saraiva. 5ª edição, 2006\\n4.\\tBerquó, E.S.; Souza, J.M.P.; Gottlieb, S.L.B. Bioestatística, EPU-São Paulo, 1981\\n5.     Estatística Básica. Pedro A. Morettin, Wilton O. Bussab. 9a edição - São Paulo: Saraiva, 2017.  \\n1.\\tDaniel, W.W. Biostatistcs: A Foundation for Analysis in the Health Sciences. John Wiley & Sons, 10th\\nEdition, 2013\\n2.\\tTriola, M.F. Introdução à Estatística, LTC Livros Técnicos e Científicos, 10ª edição, 2008\\n3.\\tBussab, W. Estatística Básica, Saraiva. 5ª edição, 2006\\n4.\\tBerquó, E.S.; Souza, J.M.P.; Gottlieb, S.L.B. Bioestatística, EPU-São Paulo, 1981\\n5.     Estatística Básica. Pedro A. Morettin, Wilton O. Bussab. 9a edição - São Paulo: Saraiva, 2017. \\xa0 \\nClique \\r\\n        para consultar os requisitos para CGF2022  \\nClique \\r\\n        para consultar o oferecimento para CGF2022  \\n\\n \\n\\n \\n\\n \\n\\n\\n\\n\\n\\n\\n\\xa0Preparar para impressão\\xa0\\n\\n\\n\\n\\n\\n\\n\\n\\n\\n\\n\\r\\n\\t\\t\\tJúpiter - Sistema de Gestão Acadêmica da Pró-Reitoria de Graduação\\r\\n\\t\\t\\n\\n\\n\\n\\n\\n\\n \\r\\n\\t    Faculdade de Ciências Farmacêuticas de Ribeirão Preto\\n\\n\\n\\xa0\\n\\n\\n \\r\\n\\t    Disciplinas Interdepartamentais da FCFRP\\n\\n\\n\\xa0\\n\\n\\n\\nDisciplina: CGF2022 - Bioestatística I\\n\\n\\n\\n \\r\\n         Biostatistics I \\n\\n\\n\\n\\n\\n\\n\\nCréditos Aula:\\n \\r\\n        2\\r\\n\\t\\t\\n\\n\\n \\r\\n        Créditos Trabalho:\\n \\r\\n        0\\n\\n\\n \\r\\n        Carga Horária Total: \\n \\r\\n       \\t\\t30 h \\r\\n \\t\\t\\t\\r\\n\\t\\t\\t \\r\\n\\t\\t\\t\\t\\t\\n\\n\\n\\nTipo:\\n \\r\\n\\t   \\r\\n\\t   \\r\\n\\t   Semestral\\r\\n\\t   \\r\\n\\t   \\r\\n\\t   \\t   \\r\\n\\t   \\n\\n\\n \\r\\n                    Ativação: \\n \\r\\n        15/07/2020 \\r\\n\\t\\t\\nDesativação:\\n\\n\\n\\n\\n\\n\\n\\nObjetivos \\n\\n\\n\\nFornecer aos alunos os principais conceitos em Bioestatística, necessários para utilização em disciplinas específicas e para sua atuação profissional, incluindo estatística descritiva necessária para análise de dados e os conceitos de distribuições de probabilidade discretas e contínuas.\\n\\n\\xa0\\n\\n  \\n\\n\\xa0\\n\\n\\xa0\\n\\n\\n\\n\\n\\nDocente(s) Responsável(eis)\\n\\n\\n\\n\\n\\n\\n \\r\\n              6293113 - Ricardo Roberto da Silva\\n\\n\\n\\n\\n\\n\\xa0\\n\\n\\n\\n\\n\\nPrograma Resumido\\n\\n\\n\\nEsta disciplina compreende a coleta e organização de dados, identificação e classificação das variáveis em estudo, apresentação dos resultados em tabelas e/ou gráficos a fim de executar uma análise exploratória dos mesmos. Analise e distribuição de frequências de uma ou mais variáveis qualitativas e quantitativas. Investigação da associação entre variáveis qualitativas e quantitativas. Cálculo de probabilidades para eventos dependentes e independentes.\\n\\n\\xa0\\n\\n \\n\\n\\n\\xa0\\n\\n\\xa0\\n\\n\\n\\nPrograma\\n\\n\\n\\nIntrodução à Estatística; - População e amostra; - Escalas de medida; - Variáveis e sua classificação; - Distribuição de frequências; - Tabelas e gráficos; - Análise de uma distribuição de frequências a duas variáveis qualitativas; - Estudo da associação em tabelas 2x2 e rxs; - Análise de uma distribuição de frequências a duas variáveis quantitativas; - Medidas de posição e de variabilidade; - Correlação linear. Teoria elementar de Probabilidade; - Distribuição de Probabilidade Binomial e Normal.\\n\\n\\xa0\\n\\n \\n\\n\\n\\xa0\\n\\n\\xa0\\n\\n\\n\\nAvaliação\\n\\n\\n\\n\\n\\xa0\\xa0\\xa0\\xa0\\xa0\\n \\n\\n\\nMétodo\\n\\n\\n \\r\\n        Aula expositiva dialogada; Aprendizagem baseada em Problemas  e Resolução de exercícios.\\n\\n\\n\\nCritério\\n\\n\\n \\r\\n        \\nO aluno deverá mostrar ter atingido os objetivos gerais e específicos do módulo através de aprovação revelada por um escore de 0 a 10. Os instrumentos de avaliação serão: \\n- duas Provas com questões objetivas, escritas e individuais, sendo que a primeira terá peso 2 e a segunda peso 3.\\n- Listas de Exercícios em grupos e/ou individuais, e/ou aplicações no TCC1 do aluno, com peso 1.\\n\\nCritério de avaliação: Será aprovado o aluno que obtiver média igual ou superior a 5,0, calculada pela fórmula:\\n\\nM= (E+2.P1+3.P2)/6\\nOnde: E é a nota das listas de Exercícios e/ou aplicações no TCC1, P1 é a nota da primeira prova e P2 é a nota da segunda prova.\\n\\n\\n\\n\\nNorma de Recuperação\\n\\n\\n \\r\\n        Prova\\n\\n\\n\\n\\n\\n\\n\\n\\n\\xa0\\n\\n\\nBibliografia\\n\\n\\n\\xa0\\xa0\\xa0\\xa0\\xa0\\n \\n\\n\\n\\n1.\\tDaniel, W.W. Biostatistcs: A Foundation for Analysis in the Health Sciences. John Wiley & Sons, 10th\\nEdition, 2013\\n2.\\tTriola, M.F. Introdução à Estatística, LTC Livros Técnicos e Científicos, 10ª edição, 2008\\n3.\\tBussab, W. Estatística Básica, Saraiva. 5ª edição, 2006\\n4.\\tBerquó, E.S.; Souza, J.M.P.; Gottlieb, S.L.B. Bioestatística, EPU-São Paulo, 1981\\n5.     Estatística Básica. Pedro A. Morettin, Wilton O. Bussab. 9a edição - São Paulo: Saraiva, 2017.\\n\\n\\n\\n\\n\\n\\n\\xa0\\n\\n\\n\\n\\n\\n\\nClique \\r\\n        para consultar os requisitos para CGF2022 \\n\\n\\n\\n\\n\\n\\nClique \\r\\n        para consultar o oferecimento para CGF2022 \\n\\n\\n \\n\\n\\xa0Preparar para impressão\\xa0\\n\\n \\n\\n \\n\\r\\n\\t\\t\\tJúpiter - Sistema de Gestão Acadêmica da Pró-Reitoria de Graduação\\r\\n\\t\\t\\n  \\r\\n\\t    Faculdade de Ciências Farmacêuticas de Ribeirão Preto \\xa0  \\r\\n\\t    Disciplinas Interdepartamentais da FCFRP \\xa0 \\nDisciplina: CGF2022 - Bioestatística I\\n  \\r\\n         Biostatistics I \\n \\nCréditos Aula:  \\r\\n        2\\r\\n\\t\\t  \\r\\n        Créditos Trabalho:  \\r\\n        0  \\r\\n        Carga Horária Total:   \\r\\n       \\t\\t30 h \\r\\n \\t\\t\\t\\r\\n\\t\\t\\t \\r\\n\\t\\t\\t\\t\\t \\nTipo:  \\r\\n\\t   \\r\\n\\t   \\r\\n\\t   Semestral\\r\\n\\t   \\r\\n\\t   \\r\\n\\t   \\t   \\r\\n\\t     \\r\\n                    Ativação:   \\r\\n        15/07/2020 \\r\\n\\t\\t Desativação:\\n \\nObjetivos  \\nFornecer aos alunos os principais conceitos em Bioestatística, necessários para utilização em disciplinas específicas e para sua atuação profissional, incluindo estatística descritiva necessária para análise de dados e os conceitos de distribuições de probabilidade discretas e contínuas. \\xa0    \\xa0 \\xa0 \\nDocente(s) Responsável(eis) \\n\\n\\n\\n \\r\\n              6293113 - Ricardo Roberto da Silva\\n\\n\\n   \\r\\n              6293113 - Ricardo Roberto da Silva \\xa0 \\nPrograma Resumido \\nEsta disciplina compreende a coleta e organização de dados, identificação e classificação das variáveis em estudo, apresentação dos resultados em tabelas e/ou gráficos a fim de executar uma análise exploratória dos mesmos. Analise e distribuição de frequências de uma ou mais variáveis qualitativas e quantitativas. Investigação da associação entre variáveis qualitativas e quantitativas. Cálculo de probabilidades para eventos dependentes e independentes. \\xa0  \\n \\xa0 \\xa0 \\nPrograma \\nIntrodução à Estatística; - População e amostra; - Escalas de medida; - Variáveis e sua classificação; - Distribuição de frequências; - Tabelas e gráficos; - Análise de uma distribuição de frequências a duas variáveis qualitativas; - Estudo da associação em tabelas 2x2 e rxs; - Análise de uma distribuição de frequências a duas variáveis quantitativas; - Medidas de posição e de variabilidade; - Correlação linear. Teoria elementar de Probabilidade; - Distribuição de Probabilidade Binomial e Normal. \\xa0  \\n \\xa0 \\xa0 \\nAvaliação \\xa0\\xa0\\xa0\\xa0\\xa0  \\n\\n\\nMétodo\\n\\n\\n \\r\\n        Aula expositiva dialogada; Aprendizagem baseada em Problemas  e Resolução de exercícios.\\n\\n\\n\\nCritério\\n\\n\\n \\r\\n        \\nO aluno deverá mostrar ter atingido os objetivos gerais e específicos do módulo através de aprovação revelada por um escore de 0 a 10. Os instrumentos de avaliação serão: \\n- duas Provas com questões objetivas, escritas e individuais, sendo que a primeira terá peso 2 e a segunda peso 3.\\n- Listas de Exercícios em grupos e/ou individuais, e/ou aplicações no TCC1 do aluno, com peso 1.\\n\\nCritério de avaliação: Será aprovado o aluno que obtiver média igual ou superior a 5,0, calculada pela fórmula:\\n\\nM= (E+2.P1+3.P2)/6\\nOnde: E é a nota das listas de Exercícios e/ou aplicações no TCC1, P1 é a nota da primeira prova e P2 é a nota da segunda prova.\\n\\n\\n\\n\\nNorma de Recuperação\\n\\n\\n \\r\\n        Prova\\n\\n\\n \\nMétodo  \\r\\n        Aula expositiva dialogada; Aprendizagem baseada em Problemas  e Resolução de exercícios. \\nCritério  \\r\\n        \\nO aluno deverá mostrar ter atingido os objetivos gerais e específicos do módulo através de aprovação revelada por um escore de 0 a 10. Os instrumentos de avaliação serão: \\n- duas Provas com questões objetivas, escritas e individuais, sendo que a primeira terá peso 2 e a segunda peso 3.\\n- Listas de Exercícios em grupos e/ou individuais, e/ou aplicações no TCC1 do aluno, com peso 1.\\n\\nCritério de avaliação: Será aprovado o aluno que obtiver média igual ou superior a 5,0, calculada pela fórmula:\\n\\nM= (E+2.P1+3.P2)/6\\nOnde: E é a nota das listas de Exercícios e/ou aplicações no TCC1, P1 é a nota da primeira prova e P2 é a nota da segunda prova.\\n \\nNorma de Recuperação  \\r\\n        Prova \\xa0 \\nBibliografia \\xa0\\xa0\\xa0\\xa0\\xa0  \\n\\n\\n\\n1.\\tDaniel, W.W. Biostatistcs: A Foundation for Analysis in the Health Sciences. John Wiley & Sons, 10th\\nEdition, 2013\\n2.\\tTriola, M.F. Introdução à Estatística, LTC Livros Técnicos e Científicos, 10ª edição, 2008\\n3.\\tBussab, W. Estatística Básica, Saraiva. 5ª edição, 2006\\n4.\\tBerquó, E.S.; Souza, J.M.P.; Gottlieb, S.L.B. Bioestatística, EPU-São Paulo, 1981\\n5.     Estatística Básica. Pedro A. Morettin, Wilton O. Bussab. 9a edição - São Paulo: Saraiva, 2017.\\n\\n\\n  \\n1.\\tDaniel, W.W. Biostatistcs: A Foundation for Analysis in the Health Sciences. John Wiley & Sons, 10th\\nEdition, 2013\\n2.\\tTriola, M.F. Introdução à Estatística, LTC Livros Técnicos e Científicos, 10ª edição, 2008\\n3.\\tBussab, W. Estatística Básica, Saraiva. 5ª edição, 2006\\n4.\\tBerquó, E.S.; Souza, J.M.P.; Gottlieb, S.L.B. Bioestatística, EPU-São Paulo, 1981\\n5.     Estatística Básica. Pedro A. Morettin, Wilton O. Bussab. 9a edição - São Paulo: Saraiva, 2017. \\xa0 \\nClique \\r\\n        para consultar os requisitos para CGF2022  \\nClique \\r\\n        para consultar o oferecimento para CGF2022  \\n\\n\\xa0Preparar para impressão\\xa0\\n\\n \\n\\n \\n\\r\\n\\t\\t\\tJúpiter - Sistema de Gestão Acadêmica da Pró-Reitoria de Graduação\\r\\n\\t\\t\\n  \\r\\n\\t    Faculdade de Ciências Farmacêuticas de Ribeirão Preto \\xa0  \\r\\n\\t    Disciplinas Interdepartamentais da FCFRP \\xa0 \\nDisciplina: CGF2022 - Bioestatística I\\n  \\r\\n         Biostatistics I \\n \\nCréditos Aula:  \\r\\n        2\\r\\n\\t\\t  \\r\\n        Créditos Trabalho:  \\r\\n        0  \\r\\n        Carga Horária Total:   \\r\\n       \\t\\t30 h \\r\\n \\t\\t\\t\\r\\n\\t\\t\\t \\r\\n\\t\\t\\t\\t\\t \\nTipo:  \\r\\n\\t   \\r\\n\\t   \\r\\n\\t   Semestral\\r\\n\\t   \\r\\n\\t   \\r\\n\\t   \\t   \\r\\n\\t     \\r\\n                    Ativação:   \\r\\n        15/07/2020 \\r\\n\\t\\t Desativação:\\n \\nObjetivos  \\nFornecer aos alunos os principais conceitos em Bioestatística, necessários para utilização em disciplinas específicas e para sua atuação profissional, incluindo estatística descritiva necessária para análise de dados e os conceitos de distribuições de probabilidade discretas e contínuas. \\xa0    \\xa0 \\xa0 \\nDocente(s) Responsável(eis) \\n\\n\\n\\n \\r\\n              6293113 - Ricardo Roberto da Silva\\n\\n\\n   \\r\\n              6293113 - Ricardo Roberto da Silva   \\r\\n              6293113 - Ricardo Roberto da Silva \\xa0 \\nPrograma Resumido \\nEsta disciplina compreende a coleta e organização de dados, identificação e classificação das variáveis em estudo, apresentação dos resultados em tabelas e/ou gráficos a fim de executar uma análise exploratória dos mesmos. Analise e distribuição de frequências de uma ou mais variáveis qualitativas e quantitativas. Investigação da associação entre variáveis qualitativas e quantitativas. Cálculo de probabilidades para eventos dependentes e independentes. \\xa0  \\n \\xa0 \\xa0 \\nPrograma \\nIntrodução à Estatística; - População e amostra; - Escalas de medida; - Variáveis e sua classificação; - Distribuição de frequências; - Tabelas e gráficos; - Análise de uma distribuição de frequências a duas variáveis qualitativas; - Estudo da associação em tabelas 2x2 e rxs; - Análise de uma distribuição de frequências a duas variáveis quantitativas; - Medidas de posição e de variabilidade; - Correlação linear. Teoria elementar de Probabilidade; - Distribuição de Probabilidade Binomial e Normal. \\xa0  \\n \\xa0 \\xa0 \\nAvaliação \\xa0\\xa0\\xa0\\xa0\\xa0  \\n\\n\\nMétodo\\n\\n\\n \\r\\n        Aula expositiva dialogada; Aprendizagem baseada em Problemas  e Resolução de exercícios.\\n\\n\\n\\nCritério\\n\\n\\n \\r\\n        \\nO aluno deverá mostrar ter atingido os objetivos gerais e específicos do módulo através de aprovação revelada por um escore de 0 a 10. Os instrumentos de avaliação serão: \\n- duas Provas com questões objetivas, escritas e individuais, sendo que a primeira terá peso 2 e a segunda peso 3.\\n- Listas de Exercícios em grupos e/ou individuais, e/ou aplicações no TCC1 do aluno, com peso 1.\\n\\nCritério de avaliação: Será aprovado o aluno que obtiver média igual ou superior a 5,0, calculada pela fórmula:\\n\\nM= (E+2.P1+3.P2)/6\\nOnde: E é a nota das listas de Exercícios e/ou aplicações no TCC1, P1 é a nota da primeira prova e P2 é a nota da segunda prova.\\n\\n\\n\\n\\nNorma de Recuperação\\n\\n\\n \\r\\n        Prova\\n\\n\\n \\nMétodo  \\r\\n        Aula expositiva dialogada; Aprendizagem baseada em Problemas  e Resolução de exercícios. \\nCritério  \\r\\n        \\nO aluno deverá mostrar ter atingido os objetivos gerais e específicos do módulo através de aprovação revelada por um escore de 0 a 10. Os instrumentos de avaliação serão: \\n- duas Provas com questões objetivas, escritas e individuais, sendo que a primeira terá peso 2 e a segunda peso 3.\\n- Listas de Exercícios em grupos e/ou individuais, e/ou aplicações no TCC1 do aluno, com peso 1.\\n\\nCritério de avaliação: Será aprovado o aluno que obtiver média igual ou superior a 5,0, calculada pela fórmula:\\n\\nM= (E+2.P1+3.P2)/6\\nOnde: E é a nota das listas de Exercícios e/ou aplicações no TCC1, P1 é a nota da primeira prova e P2 é a nota da segunda prova.\\n \\nNorma de Recuperação  \\r\\n        Prova \\nMétodo  \\r\\n        Aula expositiva dialogada; Aprendizagem baseada em Problemas  e Resolução de exercícios. \\nCritério  \\r\\n        \\nO aluno deverá mostrar ter atingido os objetivos gerais e específicos do módulo através de aprovação revelada por um escore de 0 a 10. Os instrumentos de avaliação serão: \\n- duas Provas com questões objetivas, escritas e individuais, sendo que a primeira terá peso 2 e a segunda peso 3.\\n- Listas de Exercícios em grupos e/ou individuais, e/ou aplicações no TCC1 do aluno, com peso 1.\\n\\nCritério de avaliação: Será aprovado o aluno que obtiver média igual ou superior a 5,0, calculada pela fórmula:\\n\\nM= (E+2.P1+3.P2)/6\\nOnde: E é a nota das listas de Exercícios e/ou aplicações no TCC1, P1 é a nota da primeira prova e P2 é a nota da segunda prova.\\n \\nNorma de Recuperação  \\r\\n        Prova \\xa0 \\xa0\\xa0\\xa0\\xa0\\xa0  \\n\\n\\n\\n1.\\tDaniel, W.W. Biostatistcs: A Foundation for Analysis in the Health Sciences. John Wiley & Sons, 10th\\nEdition, 2013\\n2.\\tTriola, M.F. Introdução à Estatística, LTC Livros Técnicos e Científicos, 10ª edição, 2008\\n3.\\tBussab, W. Estatística Básica, Saraiva. 5ª edição, 2006\\n4.\\tBerquó, E.S.; Souza, J.M.P.; Gottlieb, S.L.B. Bioestatística, EPU-São Paulo, 1981\\n5.     Estatística Básica. Pedro A. Morettin, Wilton O. Bussab. 9a edição - São Paulo: Saraiva, 2017.\\n\\n\\n  \\n1.\\tDaniel, W.W. Biostatistcs: A Foundation for Analysis in the Health Sciences. John Wiley & Sons, 10th\\nEdition, 2013\\n2.\\tTriola, M.F. Introdução à Estatística, LTC Livros Técnicos e Científicos, 10ª edição, 2008\\n3.\\tBussab, W. Estatística Básica, Saraiva. 5ª edição, 2006\\n4.\\tBerquó, E.S.; Souza, J.M.P.; Gottlieb, S.L.B. Bioestatística, EPU-São Paulo, 1981\\n5.     Estatística Básica. Pedro A. Morettin, Wilton O. Bussab. 9a edição - São Paulo: Saraiva, 2017.  \\n1.\\tDaniel, W.W. Biostatistcs: A Foundation for Analysis in the Health Sciences. John Wiley & Sons, 10th\\nEdition, 2013\\n2.\\tTriola, M.F. Introdução à Estatística, LTC Livros Técnicos e Científicos, 10ª edição, 2008\\n3.\\tBussab, W. Estatística Básica, Saraiva. 5ª edição, 2006\\n4.\\tBerquó, E.S.; Souza, J.M.P.; Gottlieb, S.L.B. Bioestatística, EPU-São Paulo, 1981\\n5.     Estatística Básica. Pedro A. Morettin, Wilton O. Bussab. 9a edição - São Paulo: Saraiva, 2017. \\xa0 \\nClique \\r\\n        para consultar os requisitos para CGF2022  \\nClique \\r\\n        para consultar o oferecimento para CGF2022  \\n\\n \\n\\n \\n\\n \\n\\n\\xa0Preparar para impressão\\xa0\\n\\n \\n\\n \\n\\r\\n\\t\\t\\tJúpiter - Sistema de Gestão Acadêmica da Pró-Reitoria de Graduação\\r\\n\\t\\t\\n  \\r\\n\\t    Faculdade de Ciências Farmacêuticas de Ribeirão Preto \\xa0  \\r\\n\\t    Disciplinas Interdepartamentais da FCFRP \\xa0 \\nDisciplina: CGF2022 - Bioestatística I\\n  \\r\\n         Biostatistics I \\n \\nCréditos Aula:  \\r\\n        2\\r\\n\\t\\t  \\r\\n        Créditos Trabalho:  \\r\\n        0  \\r\\n        Carga Horária Total:   \\r\\n       \\t\\t30 h \\r\\n \\t\\t\\t\\r\\n\\t\\t\\t \\r\\n\\t\\t\\t\\t\\t \\nTipo:  \\r\\n\\t   \\r\\n\\t   \\r\\n\\t   Semestral\\r\\n\\t   \\r\\n\\t   \\r\\n\\t   \\t   \\r\\n\\t     \\r\\n                    Ativação:   \\r\\n        15/07/2020 \\r\\n\\t\\t Desativação:\\n \\nObjetivos  \\nFornecer aos alunos os principais conceitos em Bioestatística, necessários para utilização em disciplinas específicas e para sua atuação profissional, incluindo estatística descritiva necessária para análise de dados e os conceitos de distribuições de probabilidade discretas e contínuas. \\xa0    \\xa0 \\xa0 \\nDocente(s) Responsável(eis) \\n\\n\\n\\n \\r\\n              6293113 - Ricardo Roberto da Silva\\n\\n\\n   \\r\\n              6293113 - Ricardo Roberto da Silva   \\r\\n              6293113 - Ricardo Roberto da Silva \\xa0   \\r\\n              6293113 - Ricardo Roberto da Silva \\nPrograma Resumido \\nEsta disciplina compreende a coleta e organização de dados, identificação e classificação das variáveis em estudo, apresentação dos resultados em tabelas e/ou gráficos a fim de executar uma análise exploratória dos mesmos. Analise e distribuição de frequências de uma ou mais variáveis qualitativas e quantitativas. Investigação da associação entre variáveis qualitativas e quantitativas. Cálculo de probabilidades para eventos dependentes e independentes. \\xa0  \\n \\xa0 \\xa0 \\nPrograma \\nIntrodução à Estatística; - População e amostra; - Escalas de medida; - Variáveis e sua classificação; - Distribuição de frequências; - Tabelas e gráficos; - Análise de uma distribuição de frequências a duas variáveis qualitativas; - Estudo da associação em tabelas 2x2 e rxs; - Análise de uma distribuição de frequências a duas variáveis quantitativas; - Medidas de posição e de variabilidade; - Correlação linear. Teoria elementar de Probabilidade; - Distribuição de Probabilidade Binomial e Normal. \\xa0  \\n \\xa0 \\xa0 \\nAvaliação \\xa0\\xa0\\xa0\\xa0\\xa0  \\n\\n\\nMétodo\\n\\n\\n \\r\\n        Aula expositiva dialogada; Aprendizagem baseada em Problemas  e Resolução de exercícios.\\n\\n\\n\\nCritério\\n\\n\\n \\r\\n        \\nO aluno deverá mostrar ter atingido os objetivos gerais e específicos do módulo através de aprovação revelada por um escore de 0 a 10. Os instrumentos de avaliação serão: \\n- duas Provas com questões objetivas, escritas e individuais, sendo que a primeira terá peso 2 e a segunda peso 3.\\n- Listas de Exercícios em grupos e/ou individuais, e/ou aplicações no TCC1 do aluno, com peso 1.\\n\\nCritério de avaliação: Será aprovado o aluno que obtiver média igual ou superior a 5,0, calculada pela fórmula:\\n\\nM= (E+2.P1+3.P2)/6\\nOnde: E é a nota das listas de Exercícios e/ou aplicações no TCC1, P1 é a nota da primeira prova e P2 é a nota da segunda prova.\\n\\n\\n\\n\\nNorma de Recuperação\\n\\n\\n \\r\\n        Prova\\n\\n\\n \\nMétodo  \\r\\n        Aula expositiva dialogada; Aprendizagem baseada em Problemas  e Resolução de exercícios. \\nCritério  \\r\\n        \\nO aluno deverá mostrar ter atingido os objetivos gerais e específicos do módulo através de aprovação revelada por um escore de 0 a 10. Os instrumentos de avaliação serão: \\n- duas Provas com questões objetivas, escritas e individuais, sendo que a primeira terá peso 2 e a segunda peso 3.\\n- Listas de Exercícios em grupos e/ou individuais, e/ou aplicações no TCC1 do aluno, com peso 1.\\n\\nCritério de avaliação: Será aprovado o aluno que obtiver média igual ou superior a 5,0, calculada pela fórmula:\\n\\nM= (E+2.P1+3.P2)/6\\nOnde: E é a nota das listas de Exercícios e/ou aplicações no TCC1, P1 é a nota da primeira prova e P2 é a nota da segunda prova.\\n \\nNorma de Recuperação  \\r\\n        Prova \\nMétodo  \\r\\n        Aula expositiva dialogada; Aprendizagem baseada em Problemas  e Resolução de exercícios. \\nCritério  \\r\\n        \\nO aluno deverá mostrar ter atingido os objetivos gerais e específicos do módulo através de aprovação revelada por um escore de 0 a 10. Os instrumentos de avaliação serão: \\n- duas Provas com questões objetivas, escritas e individuais, sendo que a primeira terá peso 2 e a segunda peso 3.\\n- Listas de Exercícios em grupos e/ou individuais, e/ou aplicações no TCC1 do aluno, com peso 1.\\n\\nCritério de avaliação: Será aprovado o aluno que obtiver média igual ou superior a 5,0, calculada pela fórmula:\\n\\nM= (E+2.P1+3.P2)/6\\nOnde: E é a nota das listas de Exercícios e/ou aplicações no TCC1, P1 é a nota da primeira prova e P2 é a nota da segunda prova.\\n \\nNorma de Recuperação  \\r\\n        Prova \\nMétodo  \\r\\n        Aula expositiva dialogada; Aprendizagem baseada em Problemas  e Resolução de exercícios. \\nCritério  \\r\\n        \\nO aluno deverá mostrar ter atingido os objetivos gerais e específicos do módulo através de aprovação revelada por um escore de 0 a 10. Os instrumentos de avaliação serão: \\n- duas Provas com questões objetivas, escritas e individuais, sendo que a primeira terá peso 2 e a segunda peso 3.\\n- Listas de Exercícios em grupos e/ou individuais, e/ou aplicações no TCC1 do aluno, com peso 1.\\n\\nCritério de avaliação: Será aprovado o aluno que obtiver média igual ou superior a 5,0, calculada pela fórmula:\\n\\nM= (E+2.P1+3.P2)/6\\nOnde: E é a nota das listas de Exercícios e/ou aplicações no TCC1, P1 é a nota da primeira prova e P2 é a nota da segunda prova.\\n \\nNorma de Recuperação  \\r\\n        Prova \\xa0 \\xa0\\xa0\\xa0\\xa0\\xa0  \\n\\n\\n\\n1.\\tDaniel, W.W. Biostatistcs: A Foundation for Analysis in the Health Sciences. John Wiley & Sons, 10th\\nEdition, 2013\\n2.\\tTriola, M.F. Introdução à Estatística, LTC Livros Técnicos e Científicos, 10ª edição, 2008\\n3.\\tBussab, W. Estatística Básica, Saraiva. 5ª edição, 2006\\n4.\\tBerquó, E.S.; Souza, J.M.P.; Gottlieb, S.L.B. Bioestatística, EPU-São Paulo, 1981\\n5.     Estatística Básica. Pedro A. Morettin, Wilton O. Bussab. 9a edição - São Paulo: Saraiva, 2017.\\n\\n\\n  \\n1.\\tDaniel, W.W. Biostatistcs: A Foundation for Analysis in the Health Sciences. John Wiley & Sons, 10th\\nEdition, 2013\\n2.\\tTriola, M.F. Introdução à Estatística, LTC Livros Técnicos e Científicos, 10ª edição, 2008\\n3.\\tBussab, W. Estatística Básica, Saraiva. 5ª edição, 2006\\n4.\\tBerquó, E.S.; Souza, J.M.P.; Gottlieb, S.L.B. Bioestatística, EPU-São Paulo, 1981\\n5.     Estatística Básica. Pedro A. Morettin, Wilton O. Bussab. 9a edição - São Paulo: Saraiva, 2017.  \\n1.\\tDaniel, W.W. Biostatistcs: A Foundation for Analysis in the Health Sciences. John Wiley & Sons, 10th\\nEdition, 2013\\n2.\\tTriola, M.F. Introdução à Estatística, LTC Livros Técnicos e Científicos, 10ª edição, 2008\\n3.\\tBussab, W. Estatística Básica, Saraiva. 5ª edição, 2006\\n4.\\tBerquó, E.S.; Souza, J.M.P.; Gottlieb, S.L.B. Bioestatística, EPU-São Paulo, 1981\\n5.     Estatística Básica. Pedro A. Morettin, Wilton O. Bussab. 9a edição - São Paulo: Saraiva, 2017. \\xa0 \\xa0\\xa0\\xa0\\xa0\\xa0  \\n\\n\\n\\n1.\\tDaniel, W.W. Biostatistcs: A Foundation for Analysis in the Health Sciences. John Wiley & Sons, 10th\\nEdition, 2013\\n2.\\tTriola, M.F. Introdução à Estatística, LTC Livros Técnicos e Científicos, 10ª edição, 2008\\n3.\\tBussab, W. Estatística Básica, Saraiva. 5ª edição, 2006\\n4.\\tBerquó, E.S.; Souza, J.M.P.; Gottlieb, S.L.B. Bioestatística, EPU-São Paulo, 1981\\n5.     Estatística Básica. Pedro A. Morettin, Wilton O. Bussab. 9a edição - São Paulo: Saraiva, 2017.\\n\\n\\n  \\n1.\\tDaniel, W.W. Biostatistcs: A Foundation for Analysis in the Health Sciences. John Wiley & Sons, 10th\\nEdition, 2013\\n2.\\tTriola, M.F. Introdução à Estatística, LTC Livros Técnicos e Científicos, 10ª edição, 2008\\n3.\\tBussab, W. Estatística Básica, Saraiva. 5ª edição, 2006\\n4.\\tBerquó, E.S.; Souza, J.M.P.; Gottlieb, S.L.B. Bioestatística, EPU-São Paulo, 1981\\n5.     Estatística Básica. Pedro A. Morettin, Wilton O. Bussab. 9a edição - São Paulo: Saraiva, 2017.  \\n1.\\tDaniel, W.W. Biostatistcs: A Foundation for Analysis in the Health Sciences. John Wiley & Sons, 10th\\nEdition, 2013\\n2.\\tTriola, M.F. Introdução à Estatística, LTC Livros Técnicos e Científicos, 10ª edição, 2008\\n3.\\tBussab, W. Estatística Básica, Saraiva. 5ª edição, 2006\\n4.\\tBerquó, E.S.; Souza, J.M.P.; Gottlieb, S.L.B. Bioestatística, EPU-São Paulo, 1981\\n5.     Estatística Básica. Pedro A. Morettin, Wilton O. Bussab. 9a edição - São Paulo: Saraiva, 2017.  \\n1.\\tDaniel, W.W. Biostatistcs: A Foundation for Analysis in the Health Sciences. John Wiley & Sons, 10th\\nEdition, 2013\\n2.\\tTriola, M.F. Introdução à Estatística, LTC Livros Técnicos e Científicos, 10ª edição, 2008\\n3.\\tBussab, W. Estatística Básica, Saraiva. 5ª edição, 2006\\n4.\\tBerquó, E.S.; Souza, J.M.P.; Gottlieb, S.L.B. Bioestatística, EPU-São Paulo, 1981\\n5.     Estatística Básica. Pedro A. Morettin, Wilton O. Bussab. 9a edição - São Paulo: Saraiva, 2017. \\nClique \\r\\n        para consultar os requisitos para CGF2022  \\nClique \\r\\n        para consultar o oferecimento para CGF2022  \\nCréditos\\r\\n      | Fale conosco\\r\\n      © 1999 - 2024 - Superintendência de Tecnologia da Informação/USP\\n'"
            ],
            "application/vnd.google.colaboratory.intrinsic+json": {
              "type": "string"
            }
          },
          "metadata": {},
          "execution_count": 24
        }
      ]
    },
    {
      "cell_type": "code",
      "source": [
        "re.search('Disciplina: .+\\n', fulltxt)"
      ],
      "metadata": {
        "colab": {
          "base_uri": "https://localhost:8080/"
        },
        "id": "btLSXOkk81wH",
        "outputId": "458ef673-ec8b-48a1-f7dc-2964ef79bba6"
      },
      "execution_count": 28,
      "outputs": [
        {
          "output_type": "execute_result",
          "data": {
            "text/plain": [
              "<re.Match object; span=(266, 305), match='Disciplina: CGF2022 - Bioestatística I\\n'>"
            ]
          },
          "metadata": {},
          "execution_count": 28
        }
      ]
    },
    {
      "cell_type": "code",
      "source": [
        "fulltxt[266:305]"
      ],
      "metadata": {
        "colab": {
          "base_uri": "https://localhost:8080/",
          "height": 55
        },
        "id": "TZrIxZS5MmDB",
        "outputId": "13c38059-cb59-45cb-8e2d-9c050cd6915a"
      },
      "execution_count": 34,
      "outputs": [
        {
          "output_type": "execute_result",
          "data": {
            "text/plain": [
              "'Disciplina: CGF2022 - Bioestatística I\\n'"
            ],
            "application/vnd.google.colaboratory.intrinsic+json": {
              "type": "string"
            }
          },
          "metadata": {},
          "execution_count": 34
        }
      ]
    },
    {
      "cell_type": "code",
      "source": [
        "re.sub(r'Disciplina: (.+)\\n', r'\\1', fulltxt[266:305])"
      ],
      "metadata": {
        "colab": {
          "base_uri": "https://localhost:8080/",
          "height": 55
        },
        "id": "2wE20ihQNmvZ",
        "outputId": "0380be0d-8b23-44bd-9ca3-67897f9a5b3e"
      },
      "execution_count": 32,
      "outputs": [
        {
          "output_type": "execute_result",
          "data": {
            "text/plain": [
              "'CGF2022 - Bioestatística I'"
            ],
            "application/vnd.google.colaboratory.intrinsic+json": {
              "type": "string"
            }
          },
          "metadata": {},
          "execution_count": 32
        }
      ]
    },
    {
      "cell_type": "code",
      "source": [
        "re.search('Créditos Aula: \\s+\\d+', fulltxt)"
      ],
      "metadata": {
        "colab": {
          "base_uri": "https://localhost:8080/"
        },
        "id": "fGLMQPhbOg6t",
        "outputId": "436b7e67-116d-442b-99ca-74bdc4a94d63"
      },
      "execution_count": 46,
      "outputs": [
        {
          "output_type": "execute_result",
          "data": {
            "text/plain": [
              "<re.Match object; span=(7448, 7475), match='Créditos Aula:  \\r\\n        2'>"
            ]
          },
          "metadata": {},
          "execution_count": 46
        }
      ]
    },
    {
      "cell_type": "code",
      "source": [
        "fulltxt[7448:7475]"
      ],
      "metadata": {
        "colab": {
          "base_uri": "https://localhost:8080/",
          "height": 55
        },
        "id": "Qmp1qdkwO0Qt",
        "outputId": "f2a6b6ec-48f8-4b88-94c3-101b91a265af"
      },
      "execution_count": 45,
      "outputs": [
        {
          "output_type": "execute_result",
          "data": {
            "text/plain": [
              "'Créditos Aula:  \\r\\n        2'"
            ],
            "application/vnd.google.colaboratory.intrinsic+json": {
              "type": "string"
            }
          },
          "metadata": {},
          "execution_count": 45
        }
      ]
    },
    {
      "cell_type": "code",
      "source": [
        "re.sub(r'Créditos Aula: \\s+(\\d+)', r'\\1', fulltxt[7448:7475])"
      ],
      "metadata": {
        "colab": {
          "base_uri": "https://localhost:8080/",
          "height": 55
        },
        "id": "P9Ipz8GRO-VY",
        "outputId": "81356466-3faa-4ba4-9296-b203c7ac27f3"
      },
      "execution_count": 47,
      "outputs": [
        {
          "output_type": "execute_result",
          "data": {
            "text/plain": [
              "'2'"
            ],
            "application/vnd.google.colaboratory.intrinsic+json": {
              "type": "string"
            }
          },
          "metadata": {},
          "execution_count": 47
        }
      ]
    },
    {
      "cell_type": "code",
      "source": [
        "re.search('Créditos Trabalho: \\s+\\d+', fulltxt)"
      ],
      "metadata": {
        "colab": {
          "base_uri": "https://localhost:8080/"
        },
        "id": "yCg00PKEQAlB",
        "outputId": "4f72c0d0-22c0-4ad3-8e16-d873344a7780"
      },
      "execution_count": 48,
      "outputs": [
        {
          "output_type": "execute_result",
          "data": {
            "text/plain": [
              "<re.Match object; span=(7491, 7522), match='Créditos Trabalho:  \\r\\n        0'>"
            ]
          },
          "metadata": {},
          "execution_count": 48
        }
      ]
    },
    {
      "cell_type": "code",
      "source": [
        "fulltxt[7491:7522]"
      ],
      "metadata": {
        "colab": {
          "base_uri": "https://localhost:8080/",
          "height": 55
        },
        "id": "V1ejZQDTRSAZ",
        "outputId": "43ce80cd-a41c-4755-fb91-cdf4be6f093a"
      },
      "execution_count": 50,
      "outputs": [
        {
          "output_type": "execute_result",
          "data": {
            "text/plain": [
              "'Créditos Trabalho:  \\r\\n        0'"
            ],
            "application/vnd.google.colaboratory.intrinsic+json": {
              "type": "string"
            }
          },
          "metadata": {},
          "execution_count": 50
        }
      ]
    },
    {
      "cell_type": "code",
      "source": [
        "re.sub(r'Créditos Trabalho: \\s+(\\d+)', r'\\1', fulltxt[7491:7522])"
      ],
      "metadata": {
        "colab": {
          "base_uri": "https://localhost:8080/",
          "height": 55
        },
        "id": "ZcRiZ5RfRVEc",
        "outputId": "d3229de5-ab01-42df-96d8-679e0484fbfc"
      },
      "execution_count": 52,
      "outputs": [
        {
          "output_type": "execute_result",
          "data": {
            "text/plain": [
              "'0'"
            ],
            "application/vnd.google.colaboratory.intrinsic+json": {
              "type": "string"
            }
          },
          "metadata": {},
          "execution_count": 52
        }
      ]
    },
    {
      "cell_type": "code",
      "source": [
        "re.search('Carga Horária Total:\\s+.+h', fulltxt)"
      ],
      "metadata": {
        "colab": {
          "base_uri": "https://localhost:8080/"
        },
        "id": "iWuV2tXARe2t",
        "outputId": "4b0408df-c279-425d-d087-63104751145b"
      },
      "execution_count": 61,
      "outputs": [
        {
          "output_type": "execute_result",
          "data": {
            "text/plain": [
              "<re.Match object; span=(434, 472), match='Carga Horária Total: \\n \\r\\n       \\t\\t30 h'>"
            ]
          },
          "metadata": {},
          "execution_count": 61
        }
      ]
    },
    {
      "cell_type": "code",
      "source": [
        "fulltxt[434:472]"
      ],
      "metadata": {
        "colab": {
          "base_uri": "https://localhost:8080/",
          "height": 55
        },
        "id": "K6F2SOhXR8Jq",
        "outputId": "52fed428-5fef-4cfb-e6f5-4579c78bfd98"
      },
      "execution_count": 62,
      "outputs": [
        {
          "output_type": "execute_result",
          "data": {
            "text/plain": [
              "'Carga Horária Total: \\n \\r\\n       \\t\\t30 h'"
            ],
            "application/vnd.google.colaboratory.intrinsic+json": {
              "type": "string"
            }
          },
          "metadata": {},
          "execution_count": 62
        }
      ]
    },
    {
      "cell_type": "code",
      "source": [
        "re.sub(r'\\D', '', fulltxt[434:472])"
      ],
      "metadata": {
        "colab": {
          "base_uri": "https://localhost:8080/",
          "height": 55
        },
        "id": "bFXjHe7lSeX9",
        "outputId": "6940ba5d-d1b2-4d8b-c5b0-79171465214f"
      },
      "execution_count": 64,
      "outputs": [
        {
          "output_type": "execute_result",
          "data": {
            "text/plain": [
              "'30'"
            ],
            "application/vnd.google.colaboratory.intrinsic+json": {
              "type": "string"
            }
          },
          "metadata": {},
          "execution_count": 64
        }
      ]
    },
    {
      "cell_type": "code",
      "source": [
        "re.search('Docente\\(s\\) Responsável\\(eis\\)', fulltxt)"
      ],
      "metadata": {
        "colab": {
          "base_uri": "https://localhost:8080/"
        },
        "id": "GyVAE5nlS1b4",
        "outputId": "e17fd419-692a-4e7a-bb50-cc9f40d06a9a"
      },
      "execution_count": 70,
      "outputs": [
        {
          "output_type": "execute_result",
          "data": {
            "text/plain": [
              "<re.Match object; span=(963, 990), match='Docente(s) Responsável(eis)'>"
            ]
          },
          "metadata": {},
          "execution_count": 70
        }
      ]
    },
    {
      "cell_type": "code",
      "source": [
        "re.search('Programa Resumido', fulltxt)"
      ],
      "metadata": {
        "colab": {
          "base_uri": "https://localhost:8080/"
        },
        "id": "TW2mJgLLTnlc",
        "outputId": "a2fc16f5-265a-4087-b8c5-1d2da78d6da0"
      },
      "execution_count": 71,
      "outputs": [
        {
          "output_type": "execute_result",
          "data": {
            "text/plain": [
              "<re.Match object; span=(1061, 1078), match='Programa Resumido'>"
            ]
          },
          "metadata": {},
          "execution_count": 71
        }
      ]
    },
    {
      "cell_type": "code",
      "source": [
        "fulltxt[963:1061]"
      ],
      "metadata": {
        "colab": {
          "base_uri": "https://localhost:8080/",
          "height": 73
        },
        "id": "HPYGjTuPTS3y",
        "outputId": "88dd35c3-c957-4821-b9ab-971e163496a3"
      },
      "execution_count": 72,
      "outputs": [
        {
          "output_type": "execute_result",
          "data": {
            "text/plain": [
              "'Docente(s) Responsável(eis)\\n\\n\\n\\n\\n\\n\\n \\r\\n              6293113 - Ricardo Roberto da Silva\\n\\n\\n\\n\\n\\n\\xa0\\n\\n\\n\\n\\n\\n'"
            ],
            "application/vnd.google.colaboratory.intrinsic+json": {
              "type": "string"
            }
          },
          "metadata": {},
          "execution_count": 72
        }
      ]
    },
    {
      "cell_type": "code",
      "source": [
        "re.sub(r'Docente\\(s\\) Responsável\\(eis\\)\\s+(\\d+\\w+)\\s+', r'\\1', fulltxt[963:1061]).strip()"
      ],
      "metadata": {
        "colab": {
          "base_uri": "https://localhost:8080/",
          "height": 55
        },
        "id": "JsRAPTwXTW2t",
        "outputId": "30846817-1c76-4f16-8573-d7fe21f0c9cf"
      },
      "execution_count": 85,
      "outputs": [
        {
          "output_type": "execute_result",
          "data": {
            "text/plain": [
              "'6293113- Ricardo Roberto da Silva'"
            ],
            "application/vnd.google.colaboratory.intrinsic+json": {
              "type": "string"
            }
          },
          "metadata": {},
          "execution_count": 85
        }
      ]
    },
    {
      "cell_type": "code",
      "source": [
        "re.search('Programa\\n', fulltxt)"
      ],
      "metadata": {
        "colab": {
          "base_uri": "https://localhost:8080/"
        },
        "id": "LOalA6ZSUXVO",
        "outputId": "53ad7706-c1b7-47d2-ca04-fa50cbacf14a"
      },
      "execution_count": 82,
      "outputs": [
        {
          "output_type": "execute_result",
          "data": {
            "text/plain": [
              "<re.Match object; span=(1555, 1564), match='Programa\\n'>"
            ]
          },
          "metadata": {},
          "execution_count": 82
        }
      ]
    },
    {
      "cell_type": "code",
      "source": [
        "fulltxt[1061:1555].strip()"
      ],
      "metadata": {
        "colab": {
          "base_uri": "https://localhost:8080/",
          "height": 126
        },
        "id": "mhuE878SV-oE",
        "outputId": "af1b7b3c-1512-4fb3-b1b6-702bcb18deb9"
      },
      "execution_count": 84,
      "outputs": [
        {
          "output_type": "execute_result",
          "data": {
            "text/plain": [
              "'Programa Resumido\\n\\n\\n\\nEsta disciplina compreende a coleta e organização de dados, identificação e classificação das variáveis em estudo, apresentação dos resultados em tabelas e/ou gráficos a fim de executar uma análise exploratória dos mesmos. Analise e distribuição de frequências de uma ou mais variáveis qualitativas e quantitativas. Investigação da associação entre variáveis qualitativas e quantitativas. Cálculo de probabilidades para eventos dependentes e independentes.'"
            ],
            "application/vnd.google.colaboratory.intrinsic+json": {
              "type": "string"
            }
          },
          "metadata": {},
          "execution_count": 84
        }
      ]
    },
    {
      "cell_type": "code",
      "source": [
        "re.sub(r'Programa Resumido\\s+(\\w+)', r'\\1', fulltxt[1061:1555]).strip()"
      ],
      "metadata": {
        "colab": {
          "base_uri": "https://localhost:8080/",
          "height": 126
        },
        "id": "YhQ7e-zUWDny",
        "outputId": "8b7b73f6-d716-4bc6-dd66-a862d36279aa"
      },
      "execution_count": 86,
      "outputs": [
        {
          "output_type": "execute_result",
          "data": {
            "text/plain": [
              "'Esta disciplina compreende a coleta e organização de dados, identificação e classificação das variáveis em estudo, apresentação dos resultados em tabelas e/ou gráficos a fim de executar uma análise exploratória dos mesmos. Analise e distribuição de frequências de uma ou mais variáveis qualitativas e quantitativas. Investigação da associação entre variáveis qualitativas e quantitativas. Cálculo de probabilidades para eventos dependentes e independentes.'"
            ],
            "application/vnd.google.colaboratory.intrinsic+json": {
              "type": "string"
            }
          },
          "metadata": {},
          "execution_count": 86
        }
      ]
    },
    {
      "cell_type": "code",
      "source": [
        "re.search('Avaliação\\n', fulltxt)"
      ],
      "metadata": {
        "colab": {
          "base_uri": "https://localhost:8080/"
        },
        "id": "Aa_4qRmPXGf3",
        "outputId": "e9826224-d270-4c37-b1e2-46842cfd10a0"
      },
      "execution_count": 87,
      "outputs": [
        {
          "output_type": "execute_result",
          "data": {
            "text/plain": [
              "<re.Match object; span=(2085, 2095), match='Avaliação\\n'>"
            ]
          },
          "metadata": {},
          "execution_count": 87
        }
      ]
    },
    {
      "cell_type": "code",
      "source": [
        "fulltxt[1555:2085]"
      ],
      "metadata": {
        "colab": {
          "base_uri": "https://localhost:8080/",
          "height": 144
        },
        "id": "T4EMfGtqXWxl",
        "outputId": "2b80cc0e-9f1d-425b-b4fd-fb9393823fff"
      },
      "execution_count": 88,
      "outputs": [
        {
          "output_type": "execute_result",
          "data": {
            "text/plain": [
              "'Programa\\n\\n\\n\\nIntrodução à Estatística; - População e amostra; - Escalas de medida; - Variáveis e sua classificação; - Distribuição de frequências; - Tabelas e gráficos; - Análise de uma distribuição de frequências a duas variáveis qualitativas; - Estudo da associação em tabelas 2x2 e rxs; - Análise de uma distribuição de frequências a duas variáveis quantitativas; - Medidas de posição e de variabilidade; - Correlação linear. Teoria elementar de Probabilidade; - Distribuição de Probabilidade Binomial e Normal.\\n\\n\\xa0\\n\\n \\n\\n\\n\\xa0\\n\\n\\xa0\\n\\n\\n\\n'"
            ],
            "application/vnd.google.colaboratory.intrinsic+json": {
              "type": "string"
            }
          },
          "metadata": {},
          "execution_count": 88
        }
      ]
    },
    {
      "cell_type": "code",
      "source": [
        "re.sub(r'Programa\\s+(\\w+)', r'\\1', fulltxt[1555:2085]).strip()"
      ],
      "metadata": {
        "colab": {
          "base_uri": "https://localhost:8080/",
          "height": 126
        },
        "id": "OWAW2pIRXj0V",
        "outputId": "521d0d71-7012-421c-c1c0-da883e25c914"
      },
      "execution_count": 89,
      "outputs": [
        {
          "output_type": "execute_result",
          "data": {
            "text/plain": [
              "'Introdução à Estatística; - População e amostra; - Escalas de medida; - Variáveis e sua classificação; - Distribuição de frequências; - Tabelas e gráficos; - Análise de uma distribuição de frequências a duas variáveis qualitativas; - Estudo da associação em tabelas 2x2 e rxs; - Análise de uma distribuição de frequências a duas variáveis quantitativas; - Medidas de posição e de variabilidade; - Correlação linear. Teoria elementar de Probabilidade; - Distribuição de Probabilidade Binomial e Normal.'"
            ],
            "application/vnd.google.colaboratory.intrinsic+json": {
              "type": "string"
            }
          },
          "metadata": {},
          "execution_count": 89
        }
      ]
    },
    {
      "cell_type": "code",
      "source": [
        "re.search('Bibliografia\\n', fulltxt)"
      ],
      "metadata": {
        "colab": {
          "base_uri": "https://localhost:8080/"
        },
        "id": "rZ20-iEmX5C4",
        "outputId": "d1c12185-eeca-403e-f833-9d36e08c5d9d"
      },
      "execution_count": 90,
      "outputs": [
        {
          "output_type": "execute_result",
          "data": {
            "text/plain": [
              "<re.Match object; span=(2946, 2959), match='Bibliografia\\n'>"
            ]
          },
          "metadata": {},
          "execution_count": 90
        }
      ]
    },
    {
      "cell_type": "code",
      "source": [
        "fulltxt[2085:2946]"
      ],
      "metadata": {
        "colab": {
          "base_uri": "https://localhost:8080/",
          "height": 214
        },
        "id": "9qbAOWcUYmqO",
        "outputId": "768ef797-9332-47da-a620-ab7aa90e211c"
      },
      "execution_count": 91,
      "outputs": [
        {
          "output_type": "execute_result",
          "data": {
            "text/plain": [
              "'Avaliação\\n\\n\\n\\n\\n\\xa0\\xa0\\xa0\\xa0\\xa0\\n \\n\\n\\nMétodo\\n\\n\\n \\r\\n        Aula expositiva dialogada; Aprendizagem baseada em Problemas  e Resolução de exercícios.\\n\\n\\n\\nCritério\\n\\n\\n \\r\\n        \\nO aluno deverá mostrar ter atingido os objetivos gerais e específicos do módulo através de aprovação revelada por um escore de 0 a 10. Os instrumentos de avaliação serão: \\n- duas Provas com questões objetivas, escritas e individuais, sendo que a primeira terá peso 2 e a segunda peso 3.\\n- Listas de Exercícios em grupos e/ou individuais, e/ou aplicações no TCC1 do aluno, com peso 1.\\n\\nCritério de avaliação: Será aprovado o aluno que obtiver média igual ou superior a 5,0, calculada pela fórmula:\\n\\nM= (E+2.P1+3.P2)/6\\nOnde: E é a nota das listas de Exercícios e/ou aplicações no TCC1, P1 é a nota da primeira prova e P2 é a nota da segunda prova.\\n\\n\\n\\n\\nNorma de Recuperação\\n\\n\\n \\r\\n        Prova\\n\\n\\n\\n\\n\\n\\n\\n\\n\\xa0\\n\\n\\n'"
            ],
            "application/vnd.google.colaboratory.intrinsic+json": {
              "type": "string"
            }
          },
          "metadata": {},
          "execution_count": 91
        }
      ]
    },
    {
      "cell_type": "code",
      "source": [
        "re.sub(r'Avaliação\\s+(\\w+)', r'\\1', fulltxt[2085:2946]).strip()"
      ],
      "metadata": {
        "colab": {
          "base_uri": "https://localhost:8080/",
          "height": 197
        },
        "id": "uvTSEwiTYumB",
        "outputId": "0231f58a-7f0b-4c4d-e862-1e0732c8dd4b"
      },
      "execution_count": 92,
      "outputs": [
        {
          "output_type": "execute_result",
          "data": {
            "text/plain": [
              "'Método\\n\\n\\n \\r\\n        Aula expositiva dialogada; Aprendizagem baseada em Problemas  e Resolução de exercícios.\\n\\n\\n\\nCritério\\n\\n\\n \\r\\n        \\nO aluno deverá mostrar ter atingido os objetivos gerais e específicos do módulo através de aprovação revelada por um escore de 0 a 10. Os instrumentos de avaliação serão: \\n- duas Provas com questões objetivas, escritas e individuais, sendo que a primeira terá peso 2 e a segunda peso 3.\\n- Listas de Exercícios em grupos e/ou individuais, e/ou aplicações no TCC1 do aluno, com peso 1.\\n\\nCritério de avaliação: Será aprovado o aluno que obtiver média igual ou superior a 5,0, calculada pela fórmula:\\n\\nM= (E+2.P1+3.P2)/6\\nOnde: E é a nota das listas de Exercícios e/ou aplicações no TCC1, P1 é a nota da primeira prova e P2 é a nota da segunda prova.\\n\\n\\n\\n\\nNorma de Recuperação\\n\\n\\n \\r\\n        Prova'"
            ],
            "application/vnd.google.colaboratory.intrinsic+json": {
              "type": "string"
            }
          },
          "metadata": {},
          "execution_count": 92
        }
      ]
    },
    {
      "cell_type": "code",
      "source": [
        "re.search('Clique', fulltxt)"
      ],
      "metadata": {
        "colab": {
          "base_uri": "https://localhost:8080/"
        },
        "id": "cJ_3p9TcZdec",
        "outputId": "c7cf8bf4-8765-485d-fc33-6d862b633c29"
      },
      "execution_count": 97,
      "outputs": [
        {
          "output_type": "execute_result",
          "data": {
            "text/plain": [
              "<re.Match object; span=(3444, 3450), match='Clique'>"
            ]
          },
          "metadata": {},
          "execution_count": 97
        }
      ]
    },
    {
      "cell_type": "code",
      "source": [
        "re.sub(r'Bibliografia\\s+(\\w+)', r'\\1', fulltxt[2946:3444]).strip()"
      ],
      "metadata": {
        "colab": {
          "base_uri": "https://localhost:8080/",
          "height": 126
        },
        "id": "FXP9G712Y7et",
        "outputId": "8daab06d-e6e7-4245-c8cb-aa8e31626a9a"
      },
      "execution_count": 98,
      "outputs": [
        {
          "output_type": "execute_result",
          "data": {
            "text/plain": [
              "'1.\\tDaniel, W.W. Biostatistcs: A Foundation for Analysis in the Health Sciences. John Wiley & Sons, 10th\\nEdition, 2013\\n2.\\tTriola, M.F. Introdução à Estatística, LTC Livros Técnicos e Científicos, 10ª edição, 2008\\n3.\\tBussab, W. Estatística Básica, Saraiva. 5ª edição, 2006\\n4.\\tBerquó, E.S.; Souza, J.M.P.; Gottlieb, S.L.B. Bioestatística, EPU-São Paulo, 1981\\n5.     Estatística Básica. Pedro A. Morettin, Wilton O. Bussab. 9a edição - São Paulo: Saraiva, 2017.'"
            ],
            "application/vnd.google.colaboratory.intrinsic+json": {
              "type": "string"
            }
          },
          "metadata": {},
          "execution_count": 98
        }
      ]
    },
    {
      "cell_type": "code",
      "source": [
        "def getCourseInfo(course_code):\n",
        "    info = {}\n",
        "    url_course = f\"https://uspdigital.usp.br/jupiterweb/obterDisciplina?sgldis={course_code}\"\n",
        "    response_course = requests.get(url_course)\n",
        "    soup = BeautifulSoup(response_course.text, 'lxml') # Parse the HTML as a string\n",
        "    tabs = soup.find_all('table')\n",
        "    row_list = []\n",
        "    for tab in tabs:\n",
        "      for row in tab.find_all('tr'):\n",
        "          column_list = []\n",
        "          columns = row.find_all('td')\n",
        "          for column in columns:\n",
        "              column_list.append(column.get_text())\n",
        "          row_list.append(column_list)\n",
        "\n",
        "    fulltxt = ' '.join(list(itertools.chain(*row_list)))\n",
        "\n",
        "    sdisc = re.search('Disciplina: .+\\n', fulltxt).span()\n",
        "    info['name'] = re.sub(r'Disciplina: (.+)\\n', r'\\1', fulltxt[sdisc[0]:sdisc[1]])\n",
        "    scra = re.search('Créditos Aula: \\s+\\d+', fulltxt).span()\n",
        "    info['creditos_aula'] = re.sub(r'Créditos Aula: \\s+(\\d+)', r'\\1', fulltxt[scra[0]:scra[1]])\n",
        "    scrt = re.search('Créditos Trabalho: \\s+\\d+', fulltxt).span()\n",
        "    info['creditos_trabalho'] = re.sub(r'Créditos Trabalho: \\s+(\\d+)', r'\\1', fulltxt[scrt[0]:scrt[1]])\n",
        "    sch = re.search('Carga Horária Total:\\s+.+h', fulltxt).span()\n",
        "    info['carga_horaria'] = re.sub(r'\\D', '', fulltxt[sch[0]:sch[1]])\n",
        "    sdoc = re.search('Docente\\(s\\) Responsável\\(eis\\)', fulltxt).span()\n",
        "    sprr = re.search('Programa Resumido', fulltxt).span()\n",
        "    info['docentes'] = re.sub(r'Docente\\(s\\) Responsável\\(eis\\)\\s+(\\d+\\w+)\\s+', r'\\1', fulltxt[sdoc[0]:sprr[0]]).strip()\n",
        "    spr = re.search('Programa\\n', fulltxt).span()\n",
        "    info['programa_resumido'] = re.sub(r'Programa Resumido\\s+(\\w+)', r'\\1', fulltxt[sprr[1]:spr[0]]).strip()\n",
        "    sava = re.search('Avaliação\\n', fulltxt).span()\n",
        "    info['programa'] = re.sub(r'Programa\\s+(\\w+)', r'\\1', fulltxt[spr[0]:sava[0]]).strip()\n",
        "    sbbl = re.search('Bibliografia\\n', fulltxt).span()\n",
        "    info['avaliacao'] = re.sub(r'Avaliação\\s+(\\w+)', r'\\1', fulltxt[sava[0]:sbbl[0]]).strip()\n",
        "    sclk = re.search('Clique', fulltxt).span()\n",
        "    info['bibliografia'] = re.sub(r'Bibliografia\\s+(\\w+)', r'\\1', fulltxt[sbbl[0]:sclk[0]]).strip()\n",
        "    info['requisitos'] = getDependence(course_code)\n",
        "    return info"
      ],
      "metadata": {
        "id": "deoiqGd0ZMNF"
      },
      "execution_count": 122,
      "outputs": []
    },
    {
      "cell_type": "code",
      "source": [
        "getCourseInfo('CGF2022')"
      ],
      "metadata": {
        "colab": {
          "base_uri": "https://localhost:8080/"
        },
        "id": "Ow6IQk7Iev64",
        "outputId": "c928128a-8bf7-4a23-ca1f-2c13afbedd55"
      },
      "execution_count": 123,
      "outputs": [
        {
          "output_type": "execute_result",
          "data": {
            "text/plain": [
              "{'name': 'CGF2022 - Bioestatística I',\n",
              " 'creditos_aula': '2',\n",
              " 'creditos_trabalho': '0',\n",
              " 'carga_horaria': '30',\n",
              " 'docentes': '6293113- Ricardo Roberto da Silva',\n",
              " 'programa_resumido': 'Esta disciplina compreende a coleta e organização de dados, identificação e classificação das variáveis em estudo, apresentação dos resultados em tabelas e/ou gráficos a fim de executar uma análise exploratória dos mesmos. Analise e distribuição de frequências de uma ou mais variáveis qualitativas e quantitativas. Investigação da associação entre variáveis qualitativas e quantitativas. Cálculo de probabilidades para eventos dependentes e independentes.',\n",
              " 'programa': 'Introdução à Estatística; - População e amostra; - Escalas de medida; - Variáveis e sua classificação; - Distribuição de frequências; - Tabelas e gráficos; - Análise de uma distribuição de frequências a duas variáveis qualitativas; - Estudo da associação em tabelas 2x2 e rxs; - Análise de uma distribuição de frequências a duas variáveis quantitativas; - Medidas de posição e de variabilidade; - Correlação linear. Teoria elementar de Probabilidade; - Distribuição de Probabilidade Binomial e Normal.',\n",
              " 'avaliacao': 'Método\\n\\n\\n \\r\\n        Aula expositiva dialogada; Aprendizagem baseada em Problemas  e Resolução de exercícios.\\n\\n\\n\\nCritério\\n\\n\\n \\r\\n        \\nO aluno deverá mostrar ter atingido os objetivos gerais e específicos do módulo através de aprovação revelada por um escore de 0 a 10. Os instrumentos de avaliação serão: \\n- duas Provas com questões objetivas, escritas e individuais, sendo que a primeira terá peso 2 e a segunda peso 3.\\n- Listas de Exercícios em grupos e/ou individuais, e/ou aplicações no TCC1 do aluno, com peso 1.\\n\\nCritério de avaliação: Será aprovado o aluno que obtiver média igual ou superior a 5,0, calculada pela fórmula:\\n\\nM= (E+2.P1+3.P2)/6\\nOnde: E é a nota das listas de Exercícios e/ou aplicações no TCC1, P1 é a nota da primeira prova e P2 é a nota da segunda prova.\\n\\n\\n\\n\\nNorma de Recuperação\\n\\n\\n \\r\\n        Prova',\n",
              " 'bibliografia': '1.\\tDaniel, W.W. Biostatistcs: A Foundation for Analysis in the Health Sciences. John Wiley & Sons, 10th\\nEdition, 2013\\n2.\\tTriola, M.F. Introdução à Estatística, LTC Livros Técnicos e Científicos, 10ª edição, 2008\\n3.\\tBussab, W. Estatística Básica, Saraiva. 5ª edição, 2006\\n4.\\tBerquó, E.S.; Souza, J.M.P.; Gottlieb, S.L.B. Bioestatística, EPU-São Paulo, 1981\\n5.     Estatística Básica. Pedro A. Morettin, Wilton O. Bussab. 9a edição - São Paulo: Saraiva, 2017.',\n",
              " 'requisitos': []}"
            ]
          },
          "metadata": {},
          "execution_count": 123
        }
      ]
    },
    {
      "cell_type": "code",
      "source": [
        "getCourseInfo('CGF2036')"
      ],
      "metadata": {
        "colab": {
          "base_uri": "https://localhost:8080/"
        },
        "id": "YAL9rr0zewod",
        "outputId": "6af988f3-f7dd-4508-f2d8-33f9f9700a3c"
      },
      "execution_count": 124,
      "outputs": [
        {
          "output_type": "execute_result",
          "data": {
            "text/plain": [
              "{'name': 'CGF2036 - Análise Química I: Físico-Química',\n",
              " 'creditos_aula': '4',\n",
              " 'creditos_trabalho': '1',\n",
              " 'carga_horaria': '90',\n",
              " 'docentes': '225196- Alessandra Vincenzi Jager\\n\\n\\n\\n \\r\\n              746812 - Jonas Augusto Rizzato Paschoal\\n\\n\\n\\n \\r\\n              48574 - Luiz Fernando Lopes Guimaraes\\n\\n\\n\\n \\r\\n              1454325 - Paulo Cezar Vieira\\n\\n\\n\\n \\r\\n              89611 - Roberto Santana da Silva\\n\\n\\n\\n \\r\\n              93360 - Rose Mary Zumstein Georgetto Naal\\n\\n\\n\\n \\r\\n              63310 - Zeki Naal',\n",
              " 'programa_resumido': 'Absorção UV-visível. Luminescência. Espectroscopia atômica. Métodos eletroanalíticos.',\n",
              " 'programa': '1. Análise gravimétrica: fundamentos, formação de precipitados, operações.\\n2. Absorção e Emissão de Luz: Métodos fotométricos: fundamentos, Lei de Lambert-Beer, espectrometria de absorção no UV-visível e emissão (Luminescência), absorciometria, instrumentação. \\n3. Cromatografia e Eletroforese Capilar\\na) Teórico\\ni). Métodos cromatográficos clássicos:\\nIntrodução a cromatografia: mecanismos, formas.\\nCromatografia em camada delgada: fundamentos, parâmetros que afetam a separação, análise qualitativa e quantitativa.\\nCromatografia em coluna: fundamentos, mecanismos de adsorção, partição, troca iônica, exclusão e bioafinidade: parâmetros que afetam a separação, análise qualitativa e quantitativa.\\nii). Cromatografia líquida de alta eficiência: fundamentos, equipamentos, fases estacionárias e móveis, fatores que afetam a separação, análise qualitativa, análise quantitativa.\\niii). Cromatografia gasosa: fundamentos, equipamentos, fases estacionárias, fatores que afetam a separação, análise qualitativa, análise quantitativa.\\niv). Eletroforese capilar: fundamentos, equipamentos, princípios de separação e aplicações.\\n\\nb) Prático\\ni). Cromatografia em camada delgada\\nii). Cromatografia em coluna\\niii) Cromatografia líquida de alta eficiência\\niv). Cromatografia gasosa\\nv) Eletroforese capilar\\n\\n4. Potenciometria. \\n5. Amperometria. célula galvânica e eletrolítica; voltametria linear e cíclica (método potencio dinâmico); amperometria ( método potenciostático), base da eletroanalítica.',\n",
              " 'avaliacao': 'Método\\n\\n\\n \\r\\n        Aulas expositivas dialogadas, seminários, trabalhos de pesquisa e atividades em grupo e/ ou individuais. Utilização de lousa, recurso de multimídia (caixas de som e Datashow), Material didático impresso.\\n\\n\\n\\nCritério\\n\\n\\n \\r\\n        O aluno será avaliado por meio de provas, trabalhos, pelo conjunto de atividades desenvolvidas em sala de aula. Serão considerados aprovados os alunos que obtiverem nota igual ou superior a 5,0 (cinco) e que tenham tido 70% de frequência.\\n\\n\\n\\nNorma de Recuperação\\n\\n\\n \\r\\n        O período de recuperação será fixado pela Comissão de Graduação. Serão considerados aprovados os alunos que obtiverem nota final igual ou superior a 5,0 (cinco) na prova programada para a recuperação.',\n",
              " 'bibliografia': 'HARRIS,D.C. Quantitative Chemical Analysis. 7a ed. Editora W.H. Freeman and Company. 2006.\\nMENDHAM, J.; DENNEY, R.C.; BARNES, J.D.; THOMAS, M.J.K. Vogel Análise Química Quantitativa. 6a ed., LTC editora, 2002.\\nSKOOG,D.A; WEST,D.M; HOLLER,F.J. Analytical Chemistry An Introduction. 5a ed. Editora Saunders College Publishing. 1990.',\n",
              " 'requisitos': []}"
            ]
          },
          "metadata": {},
          "execution_count": 124
        }
      ]
    },
    {
      "cell_type": "code",
      "source": [
        "url = 'https://uspdigital.usp.br/jupiterweb/listarCursosRequisitos?coddis=CGF2062'\n",
        "\n",
        "response = requests.get(url)\n",
        "response.text"
      ],
      "metadata": {
        "colab": {
          "base_uri": "https://localhost:8080/",
          "height": 1000
        },
        "id": "aWSXbaRCfnIX",
        "outputId": "dfc4f2c0-e347-4609-e8a1-23a5f4a71a7e"
      },
      "execution_count": 109,
      "outputs": [
        {
          "output_type": "execute_result",
          "data": {
            "text/plain": [
              "'<!DOCTYPE HTML PUBLIC \"-//W3C//DTD HTML 4.01 Transitional//EN\" \"http://www.w3.org/TR/html4/loose.dtd\">\\r\\n\\r\\n\\r\\n\\r\\n\\r\\n<html>\\r\\n<head>\\r\\n<title>Jupiterweb</title>\\r\\n<meta http-equiv=Content-Type content=\"text/html; charset=iso-8859-1\">\\r\\n<meta HTTP-EQUIV=\"CACHE-CONTROL\" CONTENT=\"NO-CACHE\">\\r\\n<meta HTTP-EQUIV=\"Expires\" CONTENT=\"-1\">\\r\\n<link href=\"https://uspdigital.usp.br/comumwebdev/imagens/favicon.ico\" rel=\"shortcut icon\"\\r\\n\\ttype=\"image/x-icon\" />\\r\\n<link href=\"https://uspdigital.usp.br/comumwebdev/imagens/favicon.ico\" rel=\"icon\"\\r\\n\\ttype=\"image/x-icon\" />\\r\\n<link href=\"https://uspdigital.usp.br/comumwebdev/libs/usp/main/1.0/menuweb.css\"\\r\\n\\ttype=text/css rel=stylesheet>\\r\\n</head>\\r\\n<style>\\r\\n#layout_principal {\\r\\n\\twidth: 100%;\\r\\n}\\r\\n\\r\\n#layout_cabecalho {\\r\\n\\r\\n}\\r\\n\\r\\n#layout_menu {\\r\\n\\twidth: 170px;\\r\\n\\tfloat: left;\\r\\n\\tpadding-top: 10px;\\r\\n}\\r\\n\\r\\n#layout_conteudo {\\r\\n\\tpadding-left: 181px;\\r\\n\\tpadding-top: 10px;\\r\\n}\\r\\n</style>\\r\\n<!--[if IE]>\\r\\n\\t<style>\\r\\n\\t\\t#layout_conteudo {\\r\\n\\t\\t\\tpadding-left: 10px;\\r\\n\\t\\t\\tpadding-right: 2px;\\r\\n\\t\\t\\tpadding-top: 10px;\\r\\n\\t\\t\\tpadding-bottom: 20px;\\r\\n\\t\\t\\toverflow:auto;\\r\\n\\t\\t}\\r\\n\\t</style>\\r\\n\\t<![endif]-->\\r\\n<body>\\r\\n\\r\\n\\t<div id=\"layout_principal\">\\r\\n\\t\\t<div id=\"layout_cabecalho\">\\r\\n\\t\\t\\t<!DOCTYPE html PUBLIC \"-//W3C//DTD HTML 4.01 Transitional//EN\" \"http://www.w3.org/TR/html4/loose.dtd\">\\r\\n\\r\\n<style>\\r\\n\\ta.cabecalho_sair:active  {font-family:verdana; font-weight:bold; color:#FFFFFF; text-decoration:none;}\\r\\n\\ta.cabecalho_sair:link    {font-family:verdana; font-weight:bold; color:#FFFFFF; text-decoration:none;}\\r\\n\\ta.cabecalho_sair:visited {font-family:verdana; font-weight:bold; color:#FFFFFF; text-decoration:none;}\\r\\n\\ta.cabecalho_sair:hover   {font-family:verdana; font-weight:bold; color:#FFFFFF; text-decoration:underline;}\\r\\n\\r\\n\\ttd.font_cabecalho1 {\\r\\n\\t\\tfont:bold 26px Tahoma;\\r\\n\\t\\tcolor: #FFFFFF;\\r\\n\\t}\\r\\n\\ttd.font_cabecalho2 {\\r\\n\\t\\tfont:bold 10px Arial;\\r\\n\\t\\tcolor: #FFFFFF;\\r\\n\\t}\\r\\n\\ttd.font_cabecalho3 {\\r\\n\\t\\tfont:normal 9px Verdana;\\r\\n\\t\\tcolor: #FFFFFF;\\r\\n\\t}\\r\\n</style>\\r\\n\\r\\n<table width=\"100%\" height=\"60\" border=\"0\" cellpadding=\"0\" cellspacing=\"0\">\\r\\n\\t<tr>\\r\\n\\t\\t<td width=\"180\" rowspan=\"3\" align=\"center\">\\r\\n\\t\\t\\t<a href=\"http://www.usp.br\" target=\"_blank\"><img src=\"https://uspdigital.usp.br/comumwebdev/imagens/cabecalho/usp-logo.png\" width=\"122\" height=\"49\" alt=\"\" border=\"0\" style=\"position: relative; top: -3px;\" /></a>\\r\\n\\t\\t</td>\\r\\n\\t\\t<td>\\r\\n\\t\\t\\t<a href=\"http://www.usp.br\" target=\"_blank\"><img src=\"https://uspdigital.usp.br/comumwebdev/imagens/cabecalho/usp-logo-texto.png\" alt=\"\" width=\"260\" height=\"44\" border=\"0\" style=\"position: relative; top: 5px;\" /></a>\\r\\n\\t\\t</td>\\r\\n\\t</tr>\\r\\n</table>\\r\\n<div style=\"width: 100%; height: 14px; background-image: url(\\'https://uspdigital.usp.br/comumwebdev/imagens/cabecalho/bg-headtop.gif\\'); margin-bottom: 5px; text-align: right; color: white; padding-top: 12px; padding-right: 3px; font-family: Verdana; font-size: 10px;\">\\r\\n\\t\\r\\n</div>\\r\\n\\r\\n\\t\\t</div>\\r\\n\\r\\n\\t\\t<div id=\"layout_menu\">\\r\\n\\t\\t\\t<!DOCTYPE html PUBLIC \"-//W3C//DTD HTML 4.01 Transitional//EN\" \"http://www.w3.org/TR/html4/loose.dtd\">\\r\\n\\r\\n\\r\\n\\r\\n\\r\\n<!-- FreeStyle Menu v1.0RC by Angus Turnbull http://www.twinhelix.com -->\\r\\n<script type=\"text/javascript\"\\r\\n\\tsrc=\"https://uspdigital.usp.br/comumwebdev/libs/javascript/fsmenu/1.0RC/fsmenu.js\"></script>\\r\\n\\r\\n<!-- Demo CSS layouts for the list menu. Pick your favourite one and customise! -->\\r\\n<!-- Remove all but one and change \"alternate stylesheet\" to \"stylesheet\" to enable -->\\r\\n<link rel=\"stylesheet\" type=\"text/css\" id=\"listmenu-v\"\\r\\n\\thref=\"https://uspdigital.usp.br/comumwebdev/libs/javascript/fsmenu/1.0RC/listmenu_v.css\"\\r\\n\\ttitle=\"Vertical \\'Earth\\'\" />\\r\\n\\r\\n<!-- Fallback CSS menu file allows list menu operation when JS is disabled. -->\\r\\n<!-- This is automatically disabled via its ID when the script kicks in. -->\\r\\n<link rel=\"stylesheet\" type=\"text/css\" id=\"fsmenu-fallback\"\\r\\n\\thref=\"https://uspdigital.usp.br/comumwebdev/libs/javascript/fsmenu/1.0RC/listmenu_fallback.css\" />\\r\\n\\r\\n\\r\\n<script type=\"text/javascript\">\\r\\n\\t//<![CDATA[\\r\\n\\r\\n\\tvar arrow = null;\\r\\n\\tif (document.createElement && document.documentElement) {\\r\\n\\t\\t//arrow = document.createElement(\\'span\\');\\r\\n\\t\\t//arrow.appendChild(document.createTextNode(\\'>\\'));\\r\\n\\t\\t// Feel free to replace the above two lines with these for a small arrow image...\\r\\n\\t\\tarrow = document.createElement(\\'img\\');\\r\\n\\t\\tarrow.src = \\'https://uspdigital.usp.br/comumwebdev/imagens/icones/11/arrow_sub1.gif\\';\\r\\n\\t\\tarrow.style.borderWidth = \\'0\\';\\r\\n\\t\\tarrow.className = \\'subind\\';\\r\\n\\t}\\r\\n\\r\\n\\tif (\"[{codmnu=4525, codgrpweb=191, nomgrpweb=Público, stapai=S, stavrfnivseg=S, elmmnu=Calendário Escolar, nomobtweb=index.jsp, pmeobtweb=null, dscmnu=null, codmnupai=null, staabt=N, urlsie=null, numnivhie=1, linmnu=index.jsp?codmnu=4525}, {codmnu=7920, codgrpweb=191, nomgrpweb=Público, stapai=N, stavrfnivseg=S, elmmnu=2024, nomobtweb=jupArquivosPublicos.jsp, pmeobtweb=tiparq=8&anoprg=2024, dscmnu=null, codmnupai=4525, staabt=N, urlsie=null, numnivhie=2, linmnu=jupArquivosPublicos.jsp?tiparq=8&anoprg=2024&codmnu=7920}, {codmnu=6863, codgrpweb=191, nomgrpweb=Público, stapai=N, stavrfnivseg=S, elmmnu=2025, nomobtweb=jupArquivosPublicos.jsp, pmeobtweb=tiparq=9&anoprg=2025, dscmnu=null, codmnupai=4525, staabt=N, urlsie=null, numnivhie=2, linmnu=jupArquivosPublicos.jsp?tiparq=9&anoprg=2025&codmnu=6863}, {codmnu=8275, codgrpweb=191, nomgrpweb=Público, stapai=N, stavrfnivseg=S, elmmnu=Cursos de ingresso, nomobtweb=jupCarreira.jsp, pmeobtweb=null, dscmnu=null, codmnupai=null, staabt=N, urlsie=null, numnivhie=1, linmnu=jupCarreira.jsp?codmnu=8275}, {codmnu=4526, codgrpweb=191, nomgrpweb=Público, stapai=S, stavrfnivseg=S, elmmnu=Disciplina, nomobtweb=index.jsp, pmeobtweb=null, dscmnu=null, codmnupai=null, staabt=N, urlsie=null, numnivhie=1, linmnu=index.jsp?codmnu=4526}, {codmnu=6755, codgrpweb=191, nomgrpweb=Público, stapai=N, stavrfnivseg=S, elmmnu=Busca por Disciplinas, nomobtweb=jupDisciplinaBusca, pmeobtweb=tipo=D, dscmnu=null, codmnupai=4526, staabt=N, urlsie=null, numnivhie=2, linmnu=jupDisciplinaBusca?tipo=D&codmnu=6755}, {codmnu=6756, codgrpweb=191, nomgrpweb=Público, stapai=N, stavrfnivseg=S, elmmnu=Busca por Turmas, nomobtweb=jupDisciplinaBusca, pmeobtweb=tipo=T, dscmnu=null, codmnupai=4526, staabt=N, urlsie=null, numnivhie=2, linmnu=jupDisciplinaBusca?tipo=T&codmnu=6756}, {codmnu=6757, codgrpweb=191, nomgrpweb=Público, stapai=S, stavrfnivseg=S, elmmnu=Editais, nomobtweb=index.jsp, pmeobtweb=null, dscmnu=null, codmnupai=null, staabt=N, urlsie=null, numnivhie=1, linmnu=index.jsp?codmnu=6757}, {codmnu=6758, codgrpweb=191, nomgrpweb=Público, stapai=S, stavrfnivseg=S, elmmnu=Programa Unificado de Bolsas(PUB), nomobtweb=index.jsp, pmeobtweb=null, dscmnu=null, codmnupai=6757, staabt=N, urlsie=null, numnivhie=2, linmnu=index.jsp?codmnu=6758}, {codmnu=10872, codgrpweb=191, nomgrpweb=Público, stapai=N, stavrfnivseg=S, elmmnu=Edital 2023-2024, nomobtweb=https://uspdigital.usp.br/juno/bnfArquivosPublicos.jsp?tiparq=1&anoprg=2023&codm, pmeobtweb=null, dscmnu=null, codmnupai=6758, staabt=N, urlsie=null, numnivhie=3, linmnu=https://uspdigital.usp.br/juno/bnfArquivosPublicos.jsp?tiparq=1&anoprg=2023&codm?codmnu=10872}, {codmnu=11502, codgrpweb=191, nomgrpweb=Público, stapai=N, stavrfnivseg=S, elmmnu=Edital 2024-2025, nomobtweb=https://uspdigital.usp.br/juno/bnfArquivosPublicos.jsp?tiparq=1&anoprg=2024&codm, pmeobtweb=null, dscmnu=null, codmnupai=6758, staabt=N, urlsie=null, numnivhie=3, linmnu=https://uspdigital.usp.br/juno/bnfArquivosPublicos.jsp?tiparq=1&anoprg=2024&codm?codmnu=11502}, {codmnu=6762, codgrpweb=191, nomgrpweb=Público, stapai=N, stavrfnivseg=S, elmmnu=PEEG, nomobtweb=http://www.prg.usp.br/?page_id=399, pmeobtweb=null, dscmnu=null, codmnupai=6757, staabt=N, urlsie=null, numnivhie=2, linmnu=http://www.prg.usp.br/?page_id=399?codmnu=6762}, {codmnu=10838, codgrpweb=191, nomgrpweb=Público, stapai=N, stavrfnivseg=S, elmmnu=PAP, nomobtweb=https://prg.usp.br/programas-e-bolsas/, pmeobtweb=null, dscmnu=null, codmnupai=6757, staabt=N, urlsie=null, numnivhie=2, linmnu=https://prg.usp.br/programas-e-bolsas/?codmnu=10838}, {codmnu=7951, codgrpweb=191, nomgrpweb=Público, stapai=S, stavrfnivseg=S, elmmnu=FAQ, nomobtweb=index.jsp, pmeobtweb=null, dscmnu=null, codmnupai=null, staabt=N, urlsie=null, numnivhie=1, linmnu=index.jsp?codmnu=7951}, {codmnu=7952, codgrpweb=191, nomgrpweb=Público, stapai=S, stavrfnivseg=S, elmmnu=Matrícula Interativa, nomobtweb=FAQ.jsp, pmeobtweb=null, dscmnu=null, codmnupai=7951, staabt=N, urlsie=null, numnivhie=2, linmnu=FAQ.jsp?codmnu=7952}, {codmnu=9326, codgrpweb=191, nomgrpweb=Público, stapai=N, stavrfnivseg=S, elmmnu=FAQ, nomobtweb=FAQ.jsp, pmeobtweb=null, dscmnu=null, codmnupai=7952, staabt=N, urlsie=null, numnivhie=3, linmnu=FAQ.jsp?codmnu=9326}, {codmnu=9327, codgrpweb=191, nomgrpweb=Público, stapai=N, stavrfnivseg=S, elmmnu=Informações gerais, nomobtweb=grdMatriculainterativaInformacoes.jsp, pmeobtweb=null, dscmnu=null, codmnupai=7952, staabt=N, urlsie=null, numnivhie=3, linmnu=grdMatriculainterativaInformacoes.jsp?codmnu=9327}, {codmnu=8946, codgrpweb=191, nomgrpweb=Público, stapai=N, stavrfnivseg=S, elmmnu=TUTORIAL - NOVA MATRÍCULA, nomobtweb=graduacaoAjudaNovaMatricula, pmeobtweb=null, dscmnu=Liberar próximo da matricula, codmnupai=7952, staabt=N, urlsie=null, numnivhie=3, linmnu=graduacaoAjudaNovaMatricula?codmnu=8946}, {codmnu=6749, codgrpweb=191, nomgrpweb=Público, stapai=N, stavrfnivseg=S, elmmnu=Jupiterweb em Vídeos, nomobtweb=http://www.prg.usp.br/, pmeobtweb=p=20746, dscmnu=null, codmnupai=7951, staabt=N, urlsie=null, numnivhie=2, linmnu=http://www.prg.usp.br/?p=20746&codmnu=6749}, {codmnu=8063, codgrpweb=191, nomgrpweb=Público, stapai=N, stavrfnivseg=S, elmmnu=Informações gerais sobre a Graduação, nomobtweb=http://www.prg.usp.br/, pmeobtweb=p=20741, dscmnu=null, codmnupai=7951, staabt=N, urlsie=null, numnivhie=2, linmnu=http://www.prg.usp.br/?p=20741&codmnu=8063}]\" != null && \"[{codmnu=4525, codgrpweb=191, nomgrpweb=Público, stapai=S, stavrfnivseg=S, elmmnu=Calendário Escolar, nomobtweb=index.jsp, pmeobtweb=null, dscmnu=null, codmnupai=null, staabt=N, urlsie=null, numnivhie=1, linmnu=index.jsp?codmnu=4525}, {codmnu=7920, codgrpweb=191, nomgrpweb=Público, stapai=N, stavrfnivseg=S, elmmnu=2024, nomobtweb=jupArquivosPublicos.jsp, pmeobtweb=tiparq=8&anoprg=2024, dscmnu=null, codmnupai=4525, staabt=N, urlsie=null, numnivhie=2, linmnu=jupArquivosPublicos.jsp?tiparq=8&anoprg=2024&codmnu=7920}, {codmnu=6863, codgrpweb=191, nomgrpweb=Público, stapai=N, stavrfnivseg=S, elmmnu=2025, nomobtweb=jupArquivosPublicos.jsp, pmeobtweb=tiparq=9&anoprg=2025, dscmnu=null, codmnupai=4525, staabt=N, urlsie=null, numnivhie=2, linmnu=jupArquivosPublicos.jsp?tiparq=9&anoprg=2025&codmnu=6863}, {codmnu=8275, codgrpweb=191, nomgrpweb=Público, stapai=N, stavrfnivseg=S, elmmnu=Cursos de ingresso, nomobtweb=jupCarreira.jsp, pmeobtweb=null, dscmnu=null, codmnupai=null, staabt=N, urlsie=null, numnivhie=1, linmnu=jupCarreira.jsp?codmnu=8275}, {codmnu=4526, codgrpweb=191, nomgrpweb=Público, stapai=S, stavrfnivseg=S, elmmnu=Disciplina, nomobtweb=index.jsp, pmeobtweb=null, dscmnu=null, codmnupai=null, staabt=N, urlsie=null, numnivhie=1, linmnu=index.jsp?codmnu=4526}, {codmnu=6755, codgrpweb=191, nomgrpweb=Público, stapai=N, stavrfnivseg=S, elmmnu=Busca por Disciplinas, nomobtweb=jupDisciplinaBusca, pmeobtweb=tipo=D, dscmnu=null, codmnupai=4526, staabt=N, urlsie=null, numnivhie=2, linmnu=jupDisciplinaBusca?tipo=D&codmnu=6755}, {codmnu=6756, codgrpweb=191, nomgrpweb=Público, stapai=N, stavrfnivseg=S, elmmnu=Busca por Turmas, nomobtweb=jupDisciplinaBusca, pmeobtweb=tipo=T, dscmnu=null, codmnupai=4526, staabt=N, urlsie=null, numnivhie=2, linmnu=jupDisciplinaBusca?tipo=T&codmnu=6756}, {codmnu=6757, codgrpweb=191, nomgrpweb=Público, stapai=S, stavrfnivseg=S, elmmnu=Editais, nomobtweb=index.jsp, pmeobtweb=null, dscmnu=null, codmnupai=null, staabt=N, urlsie=null, numnivhie=1, linmnu=index.jsp?codmnu=6757}, {codmnu=6758, codgrpweb=191, nomgrpweb=Público, stapai=S, stavrfnivseg=S, elmmnu=Programa Unificado de Bolsas(PUB), nomobtweb=index.jsp, pmeobtweb=null, dscmnu=null, codmnupai=6757, staabt=N, urlsie=null, numnivhie=2, linmnu=index.jsp?codmnu=6758}, {codmnu=10872, codgrpweb=191, nomgrpweb=Público, stapai=N, stavrfnivseg=S, elmmnu=Edital 2023-2024, nomobtweb=https://uspdigital.usp.br/juno/bnfArquivosPublicos.jsp?tiparq=1&anoprg=2023&codm, pmeobtweb=null, dscmnu=null, codmnupai=6758, staabt=N, urlsie=null, numnivhie=3, linmnu=https://uspdigital.usp.br/juno/bnfArquivosPublicos.jsp?tiparq=1&anoprg=2023&codm?codmnu=10872}, {codmnu=11502, codgrpweb=191, nomgrpweb=Público, stapai=N, stavrfnivseg=S, elmmnu=Edital 2024-2025, nomobtweb=https://uspdigital.usp.br/juno/bnfArquivosPublicos.jsp?tiparq=1&anoprg=2024&codm, pmeobtweb=null, dscmnu=null, codmnupai=6758, staabt=N, urlsie=null, numnivhie=3, linmnu=https://uspdigital.usp.br/juno/bnfArquivosPublicos.jsp?tiparq=1&anoprg=2024&codm?codmnu=11502}, {codmnu=6762, codgrpweb=191, nomgrpweb=Público, stapai=N, stavrfnivseg=S, elmmnu=PEEG, nomobtweb=http://www.prg.usp.br/?page_id=399, pmeobtweb=null, dscmnu=null, codmnupai=6757, staabt=N, urlsie=null, numnivhie=2, linmnu=http://www.prg.usp.br/?page_id=399?codmnu=6762}, {codmnu=10838, codgrpweb=191, nomgrpweb=Público, stapai=N, stavrfnivseg=S, elmmnu=PAP, nomobtweb=https://prg.usp.br/programas-e-bolsas/, pmeobtweb=null, dscmnu=null, codmnupai=6757, staabt=N, urlsie=null, numnivhie=2, linmnu=https://prg.usp.br/programas-e-bolsas/?codmnu=10838}, {codmnu=7951, codgrpweb=191, nomgrpweb=Público, stapai=S, stavrfnivseg=S, elmmnu=FAQ, nomobtweb=index.jsp, pmeobtweb=null, dscmnu=null, codmnupai=null, staabt=N, urlsie=null, numnivhie=1, linmnu=index.jsp?codmnu=7951}, {codmnu=7952, codgrpweb=191, nomgrpweb=Público, stapai=S, stavrfnivseg=S, elmmnu=Matrícula Interativa, nomobtweb=FAQ.jsp, pmeobtweb=null, dscmnu=null, codmnupai=7951, staabt=N, urlsie=null, numnivhie=2, linmnu=FAQ.jsp?codmnu=7952}, {codmnu=9326, codgrpweb=191, nomgrpweb=Público, stapai=N, stavrfnivseg=S, elmmnu=FAQ, nomobtweb=FAQ.jsp, pmeobtweb=null, dscmnu=null, codmnupai=7952, staabt=N, urlsie=null, numnivhie=3, linmnu=FAQ.jsp?codmnu=9326}, {codmnu=9327, codgrpweb=191, nomgrpweb=Público, stapai=N, stavrfnivseg=S, elmmnu=Informações gerais, nomobtweb=grdMatriculainterativaInformacoes.jsp, pmeobtweb=null, dscmnu=null, codmnupai=7952, staabt=N, urlsie=null, numnivhie=3, linmnu=grdMatriculainterativaInformacoes.jsp?codmnu=9327}, {codmnu=8946, codgrpweb=191, nomgrpweb=Público, stapai=N, stavrfnivseg=S, elmmnu=TUTORIAL - NOVA MATRÍCULA, nomobtweb=graduacaoAjudaNovaMatricula, pmeobtweb=null, dscmnu=Liberar próximo da matricula, codmnupai=7952, staabt=N, urlsie=null, numnivhie=3, linmnu=graduacaoAjudaNovaMatricula?codmnu=8946}, {codmnu=6749, codgrpweb=191, nomgrpweb=Público, stapai=N, stavrfnivseg=S, elmmnu=Jupiterweb em Vídeos, nomobtweb=http://www.prg.usp.br/, pmeobtweb=p=20746, dscmnu=null, codmnupai=7951, staabt=N, urlsie=null, numnivhie=2, linmnu=http://www.prg.usp.br/?p=20746&codmnu=6749}, {codmnu=8063, codgrpweb=191, nomgrpweb=Público, stapai=N, stavrfnivseg=S, elmmnu=Informações gerais sobre a Graduação, nomobtweb=http://www.prg.usp.br/, pmeobtweb=p=20741, dscmnu=null, codmnupai=7951, staabt=N, urlsie=null, numnivhie=2, linmnu=http://www.prg.usp.br/?p=20741&codmnu=8063}]\" != \\'\\') {\\r\\n\\t\\t// Here\\'s a menu object to control the above list of menu data:\\r\\n\\t\\tvar listMenu = new FSMenu(\\'listMenu\\', true, \\'display\\', \\'block\\', \\'none\\');\\r\\n\\t\\tlistMenu.hideDelay = 800;\\r\\n\\t\\t//listMenu.showDelay = 0;\\r\\n\\t\\t//listMenu.switchDelay = 125;\\r\\n\\t\\t//listMenu.cssLitClass = \\'highlighted\\';\\r\\n\\t\\t//listMenu.showOnClick = 0;\\r\\n\\t\\tlistMenu.hideOnClick = true;\\r\\n\\t\\tlistMenu.animInSpeed = 0.5;\\r\\n\\t\\tlistMenu.animOutSpeed = 0.5;\\r\\n\\t\\tlistMenu.animations[listMenu.animations.length] = FSMenu.animFade;\\r\\n\\t\\tlistMenu.animations[listMenu.animations.length] = FSMenu.animSwipeDown;\\r\\n\\t\\taddReadyEvent(new Function(\\r\\n\\t\\t\\t\\t\\'listMenu.activateMenu(\"listMenuRoot\", arrow)\\'));\\r\\n\\t}\\r\\n\\r\\n\\tif (\"false\" != \"false\") {\\r\\n\\t\\tvar listMenu2 = new FSMenu(\\'listMenu2\\', true, \\'display\\', \\'block\\',\\r\\n\\t\\t\\t\\t\\'none\\');\\r\\n\\t\\tlistMenu2.hideDelay = 800;\\r\\n\\t\\tlistMenu2.hideOnClick = true;\\r\\n\\t\\tlistMenu2.animInSpeed = 0.5;\\r\\n\\t\\tlistMenu2.animOutSpeed = 0.5;\\r\\n\\t\\tlistMenu2.animations[listMenu2.animations.length] = FSMenu.animFade;\\r\\n\\t\\tlistMenu2.animations[listMenu2.animations.length] = FSMenu.animSwipeDown;\\r\\n\\t\\taddReadyEvent(new Function(\\r\\n\\t\\t\\t\\t\\'listMenu2.activateMenu(\"listMenuRoot2\", arrow)\\'));\\r\\n\\t} else {\\r\\n\\t\\tvar listMenu3 = new FSMenu(\\'listMenu3\\', true, \\'display\\', \\'block\\',\\r\\n\\t\\t\\t\\t\\'none\\');\\r\\n\\t\\tlistMenu3.hideDelay = 800;\\r\\n\\t\\tlistMenu3.hideOnClick = true;\\r\\n\\t\\tlistMenu3.animInSpeed = 0.5;\\r\\n\\t\\tlistMenu3.animOutSpeed = 0.5;\\r\\n\\t\\tlistMenu3.animations[listMenu3.animations.length] = FSMenu.animFade;\\r\\n\\t\\tlistMenu3.animations[listMenu3.animations.length] = FSMenu.animSwipeDown;\\r\\n\\t\\taddReadyEvent(new Function(\\r\\n\\t\\t\\t\\t\\'listMenu3.activateMenu(\"listMenuRoot3\", arrow)\\'));\\r\\n\\t}\\r\\n\\t//]]>\\r\\n</script>\\r\\n\\r\\n<!-- PUBLICO -->\\r\\n\\r\\n\\t\\r\\n\\t<ul class=\"menulist\" id=\"listMenuRoot\">\\r\\n\\t\\t\\r\\n\\t\\t\\t\\r\\n\\t\\t\\t\\t<li class=\"menuHeader\">Público</li>\\r\\n\\t\\t\\t\\r\\n\\t\\t\\t\\r\\n\\r\\n\\r\\n\\t<li><a href=\\'#\\' title=\\'\\'><span>Calendário Escolar</span></a>\\r\\n\\t\\t<ul>\\r\\n\\r\\n\\r\\n\\r\\n\\r\\n\\t\\t\\t\\r\\n\\t\\t\\t\\r\\n\\r\\n\\t<li><a href=\\'jupArquivosPublicos.jsp?tiparq=8&amp;anoprg=2024&amp;codmnu=7920\\'\\r\\n\\t\\ttitle=\\'\\'>2024</a></li>\\r\\n\\r\\n\\r\\n\\r\\n\\r\\n\\r\\n\\t\\t\\t\\r\\n\\t\\t\\t\\r\\n\\r\\n\\t<li><a href=\\'jupArquivosPublicos.jsp?tiparq=9&amp;anoprg=2025&amp;codmnu=6863\\'\\r\\n\\t\\ttitle=\\'\\'>2025</a></li>\\r\\n\\r\\n\\r\\n\\r\\n\\r\\n\\r\\n\\t\\t\\t\\r\\n\\t\\t\\t\\r\\n\\t\\t\\t\\t\\r\\n\\t</ul>\\r\\n\\t</li>\\r\\n\\t\\r\\n\\r\\n\\r\\n\\t<li><a href=\\'jupCarreira.jsp?codmnu=8275\\'\\r\\n\\t\\ttitle=\\'\\'>Cursos de ingresso</a></li>\\r\\n\\r\\n\\r\\n\\r\\n\\r\\n\\r\\n\\t\\t\\t\\r\\n\\t\\t\\t\\r\\n\\r\\n\\r\\n\\t<li><a href=\\'#\\' title=\\'\\'><span>Disciplina</span></a>\\r\\n\\t\\t<ul>\\r\\n\\r\\n\\r\\n\\r\\n\\r\\n\\t\\t\\t\\r\\n\\t\\t\\t\\r\\n\\r\\n\\t<li><a href=\\'jupDisciplinaBusca?tipo=D&amp;codmnu=6755\\'\\r\\n\\t\\ttitle=\\'\\'>Busca por Disciplinas</a></li>\\r\\n\\r\\n\\r\\n\\r\\n\\r\\n\\r\\n\\t\\t\\t\\r\\n\\t\\t\\t\\r\\n\\r\\n\\t<li><a href=\\'jupDisciplinaBusca?tipo=T&amp;codmnu=6756\\'\\r\\n\\t\\ttitle=\\'\\'>Busca por Turmas</a></li>\\r\\n\\r\\n\\r\\n\\r\\n\\r\\n\\r\\n\\t\\t\\t\\r\\n\\t\\t\\t\\r\\n\\t\\t\\t\\t\\r\\n\\t</ul>\\r\\n\\t</li>\\r\\n\\t\\r\\n\\r\\n\\r\\n\\r\\n\\t<li><a href=\\'#\\' title=\\'\\'><span>Editais</span></a>\\r\\n\\t\\t<ul>\\r\\n\\r\\n\\r\\n\\r\\n\\r\\n\\t\\t\\t\\r\\n\\t\\t\\t\\r\\n\\r\\n\\r\\n\\t<li><a href=\\'#\\' title=\\'\\'><span>Programa Unificado de Bolsas(PUB)</span></a>\\r\\n\\t\\t<ul>\\r\\n\\r\\n\\r\\n\\r\\n\\r\\n\\t\\t\\t\\r\\n\\t\\t\\t\\r\\n\\r\\n\\t<li><a href=\\'https://uspdigital.usp.br/juno/bnfArquivosPublicos.jsp?tiparq=1&amp;anoprg=2023&amp;codm?codmnu=10872\\'\\r\\n\\t\\ttitle=\\'\\'>Edital 2023-2024</a></li>\\r\\n\\r\\n\\r\\n\\r\\n\\r\\n\\r\\n\\t\\t\\t\\r\\n\\t\\t\\t\\r\\n\\r\\n\\t<li><a href=\\'https://uspdigital.usp.br/juno/bnfArquivosPublicos.jsp?tiparq=1&amp;anoprg=2024&amp;codm?codmnu=11502\\'\\r\\n\\t\\ttitle=\\'\\'>Edital 2024-2025</a></li>\\r\\n\\r\\n\\r\\n\\r\\n\\r\\n\\r\\n\\t\\t\\t\\r\\n\\t\\t\\t\\r\\n\\t\\t\\t\\t\\r\\n\\t</ul>\\r\\n\\t</li>\\r\\n\\t\\r\\n\\r\\n\\r\\n\\t<li><a href=\\'http://www.prg.usp.br/?page_id=399?codmnu=6762\\'\\r\\n\\t\\ttitle=\\'\\'>PEEG</a></li>\\r\\n\\r\\n\\r\\n\\r\\n\\r\\n\\r\\n\\t\\t\\t\\r\\n\\t\\t\\t\\r\\n\\r\\n\\t<li><a href=\\'https://prg.usp.br/programas-e-bolsas/?codmnu=10838\\'\\r\\n\\t\\ttitle=\\'\\'>PAP</a></li>\\r\\n\\r\\n\\r\\n\\r\\n\\r\\n\\r\\n\\t\\t\\t\\r\\n\\t\\t\\t\\r\\n\\t\\t\\t\\t\\r\\n\\t</ul>\\r\\n\\t</li>\\r\\n\\t\\r\\n\\r\\n\\r\\n\\r\\n\\t<li><a href=\\'#\\' title=\\'\\'><span>FAQ</span></a>\\r\\n\\t\\t<ul>\\r\\n\\r\\n\\r\\n\\r\\n\\r\\n\\t\\t\\t\\r\\n\\t\\t\\t\\r\\n\\r\\n\\r\\n\\t<li><a href=\\'#\\' title=\\'\\'><span>Matrícula Interativa</span></a>\\r\\n\\t\\t<ul>\\r\\n\\r\\n\\r\\n\\r\\n\\r\\n\\t\\t\\t\\r\\n\\t\\t\\t\\r\\n\\r\\n\\t<li><a href=\\'FAQ.jsp?codmnu=9326\\'\\r\\n\\t\\ttitle=\\'\\'>FAQ</a></li>\\r\\n\\r\\n\\r\\n\\r\\n\\r\\n\\r\\n\\t\\t\\t\\r\\n\\t\\t\\t\\r\\n\\r\\n\\t<li><a href=\\'grdMatriculainterativaInformacoes.jsp?codmnu=9327\\'\\r\\n\\t\\ttitle=\\'\\'>Informações gerais</a></li>\\r\\n\\r\\n\\r\\n\\r\\n\\r\\n\\r\\n\\t\\t\\t\\r\\n\\t\\t\\t\\r\\n\\r\\n\\t<li><a href=\\'graduacaoAjudaNovaMatricula?codmnu=8946\\'\\r\\n\\t\\ttitle=\\'Liberar próximo da matricula\\'>TUTORIAL - NOVA MATRÍCULA</a></li>\\r\\n\\r\\n\\r\\n\\r\\n\\r\\n\\r\\n\\t\\t\\t\\r\\n\\t\\t\\t\\r\\n\\t\\t\\t\\t\\r\\n\\t</ul>\\r\\n\\t</li>\\r\\n\\t\\r\\n\\r\\n\\r\\n\\t<li><a href=\\'http://www.prg.usp.br/?p=20746&amp;codmnu=6749\\'\\r\\n\\t\\ttitle=\\'\\'>Jupiterweb em Vídeos</a></li>\\r\\n\\r\\n\\r\\n\\r\\n\\r\\n\\r\\n\\t\\t\\t\\r\\n\\t\\t\\t\\r\\n\\r\\n\\t<li><a href=\\'http://www.prg.usp.br/?p=20741&amp;codmnu=8063\\'\\r\\n\\t\\ttitle=\\'\\'>Informações gerais sobre a Graduação</a></li>\\r\\n\\r\\n\\r\\n\\r\\n\\t\\r\\n\\t\\t</ul>\\r\\n\\t\\t</li>\\r\\n\\t\\r\\n\\t\\t</ul>\\r\\n\\t\\t</li>\\r\\n\\t\\r\\n\\r\\n\\r\\n\\r\\n</ul>\\r\\n<div style=\"font-size: 7px\">&nbsp;</div>\\r\\n\\r\\n\\r\\n<!-- NAO AUTENTICADO -->\\r\\n\\r\\n\\t<ul class=\"menulist\" id=\"listMenuRoot3\">\\r\\n\\t\\t<li class=\"menuHeader\">Acesso Restrito</li>\\r\\n\\t\\t<li><a href=\\'webLogin.jsp\\'>Entrar</a></li>\\r\\n\\t\\t<li><a href=\\'esqueciSenha\\'>Esqueci a Senha</a></li>\\r\\n\\t\\t<li><a href=\\'primeiroAcesso\\'>Primeiro Acesso</a></li>\\r\\n\\t</ul>\\r\\n\\t<div style=\"font-size: 7px\">&nbsp;</div>\\r\\n\\r\\n\\r\\n<!-- AUTENTICADO -->\\r\\n\\r\\n<br>\\r\\n<br>\\r\\n<br>\\r\\n<br>\\r\\n<br>\\r\\n<br>\\r\\n<br>\\r\\n<br>\\r\\n<br>\\r\\n<br>\\r\\n<br>\\r\\n<br>\\r\\n<br>\\r\\n<br>\\r\\n\\t\\t</div>\\r\\n\\r\\n\\t\\t<div id=\"layout_conteudo\">\\r\\n\\t\\t\\t\\r\\n\\r\\n\\t\\t\\t\\r\\n\\r\\n\\t\\t\\t\\r\\n\\t\\t\\t\\r\\n\\t\\t\\t\\t\\r\\n\\t\\t\\t\\r\\n\\r\\n\\t\\t\\t\\r\\n\\t\\t\\t\\t\\r\\n\\r\\n<html>\\r\\n<head>\\r\\n<title>Requisitos</title>\\r\\n\\r\\n</head>\\r\\n<body>\\r\\n<!-- cabecalho\\r\\n -->\\r\\n\\r\\n\\r\\n\\r\\n<head>\\r\\n<title></title>\\r\\n<meta http-equiv=\"Content-Type\" content=\"text/html; charset=iso-8859-1\">\\r\\n\\r\\n\\r\\n\\r\\n\\r\\n\\r\\n<link type=\"text/css\" rel=\"stylesheet\" href=\"https://uspdigital.usp.br/comumwebdev/libs/usp/util/1.0/util.css\"/>\\r\\n<link type=\"text/css\" rel=\"stylesheet\" href=\"https://uspdigital.usp.br/comumwebdev/libs/jqueryui/1.8.24/temas/ui-lightness/jquery-ui.css\"/>\\r\\n<link type=\"text/css\" rel=\"stylesheet\" href=\"https://uspdigital.usp.br/comumwebdev/libs/jquery/plugins/validationEngine/2.6.2/jquery.validationEngine.css\"/>\\r\\n<link type=\"text/css\" rel=\"stylesheet\" href=\"https://uspdigital.usp.br/comumwebdev/libs/jquery/plugins/jqGrid/4.4.3/ui.jqgrid.css\"/>\\r\\n<link type=\"text/css\" rel=\"stylesheet\" href=\"https://uspdigital.usp.br/comumwebdev/libs/jquery/plugins/fancybox/1.3.4/jquery.fancybox.css\"/>\\r\\n<link type=\"text/css\" rel=\"stylesheet\" href=\"https://uspdigital.usp.br/comumwebdev/libs/jquery/plugins/maxlength/2.0.1/jquery.maxlength.css\"/>\\r\\n<link type=\"text/css\" rel=\"stylesheet\" href=\"/jupiterweb/css/jupiterweb.css\" >\\r\\n<link type=\"text/css\" rel=\"stylesheet\" href=\"/jupiterweb/css/comum.css\" >\\r\\n<!DOCTYPE html PUBLIC \"-//W3C//DTD HTML 4.01 Transitional//EN\" \"http://www.w3.org/TR/html4/loose.dtd\">\\r\\n\\r\\n<!-- HTML 5 Tags para IE8 -->\\r\\n<!--[if lt IE 9]>\\r\\n\\t   <script>\\r\\n\\t      document.createElement(\\'header\\');\\r\\n\\t      document.createElement(\\'nav\\');\\r\\n\\t      document.createElement(\\'section\\');\\r\\n\\t      document.createElement(\\'article\\');\\r\\n\\t      document.createElement(\\'aside\\');\\r\\n\\t      document.createElement(\\'footer\\');\\r\\n\\t   </script>\\r\\n\\t<![endif]-->\\r\\n\\t\\r\\n<script type=\\'text/javascript\\' src=\"usp-ga.js\"></script>\\r\\n<script type=\\'text/javascript\\'\\r\\n\\tsrc=\\'https://uspdigital.usp.br/comumwebdev/libs/jquery/1.7.2/jquery.min.js\\'></script>\\r\\n<script type=\\'text/javascript\\'\\r\\n\\tsrc=\\'https://uspdigital.usp.br/comumwebdev/libs/jqueryui/1.8.24/jquery-ui.min.js\\'></script>\\r\\n<script type=\"text/javascript\"\\r\\n\\tsrc=\"https://uspdigital.usp.br/comumwebdev/libs/jqueryui/1.8.24/jquery.ui.datepicker-pt-BR.min.js\"></script>\\r\\n<script type=\\'text/javascript\\'\\r\\n\\tsrc=\\'https://uspdigital.usp.br/comumwebdev/libs/jquery/plugins/blockUI/2.36/jquery.blockUI.js\\'></script>\\r\\n<script type=\\'text/javascript\\'\\r\\n\\tsrc=\\'https://uspdigital.usp.br/comumwebdev/libs/jquery/plugins/fancybox/1.3.4/jquery.fancybox.js\\'></script>\\r\\n<script type=\"text/javascript\"\\r\\n\\tsrc=\"https://uspdigital.usp.br/comumwebdev/libs/jquery/plugins/fancybox/1.3.4/jquery.mousewheel.min.js\"></script>\\r\\n<script type=\\'text/javascript\\'\\r\\n\\tsrc=\\'https://uspdigital.usp.br/comumwebdev/libs/jquery/plugins/validationEngine/2.6.2/jquery.validationEngine.js\\'></script>\\r\\n<script type=\\'text/javascript\\'\\r\\n\\tsrc=\\'https://uspdigital.usp.br/comumwebdev/libs/jquery/plugins/validationEngine/2.6.2/jquery.validationEngine-pt.js\\'></script>\\r\\n<script type=\\'text/javascript\\'\\r\\n\\tsrc=\\'https://uspdigital.usp.br/comumwebdev/libs/jquery/plugins/jqGrid/4.4.3/jquery.jqGrid.min.js\\'></script>\\r\\n<script type=\\'text/javascript\\'\\r\\n\\tsrc=\\'https://uspdigital.usp.br/comumwebdev/libs/jquery/plugins/jqGrid/4.4.3/grid.locale-pt-br.js\\'></script>\\r\\n<script type=\\'text/javascript\\'\\r\\n\\tsrc=\\'https://uspdigital.usp.br/comumwebdev/libs/jquery/plugins/simplemodal/1.4.4/jquery.simplemodal.js\\'></script>\\r\\n<script type=\\'text/javascript\\'\\r\\n\\tsrc=\\'https://uspdigital.usp.br/comumwebdev/libs/jquery/plugins/exists/0.1/jquery.exists.js\\'></script>\\r\\n<script type=\\'text/javascript\\'\\r\\n\\tsrc=\\'https://uspdigital.usp.br/comumwebdev/libs/jquery/plugins/maskedInput/1.2.2/jquery.maskedinput.js\\'></script>\\r\\n<script type=\\'text/javascript\\'\\r\\n\\tsrc=\\'https://uspdigital.usp.br/comumwebdev/libs/jquery/plugins/maxlength/2.0.1/jquery.plugin.min.js\\'></script>\\r\\n<script type=\\'text/javascript\\'\\r\\n\\tsrc=\\'https://uspdigital.usp.br/comumwebdev/libs/jquery/plugins/maxlength/2.0.1/jquery.maxlength.min.js\\'></script>\\r\\n<script type=\"text/javascript\"\\r\\n\\tsrc=\"https://uspdigital.usp.br/comumwebdev/libs/javascript/ckeditor/4.4.7/ckeditor.js\"></script>\\r\\n<script type=\"text/javascript\"\\r\\n\\tsrc=\"https://uspdigital.usp.br/comumwebdev/libs/javascript/ckeditor/4.4.7/adapters/jquery.js\"></script>\\r\\n<script type=\"text/javascript\"\\r\\n\\tsrc=\"https://uspdigital.usp.br/comumwebdev/libs/usp/util/1.0/util.js\"></script>\\r\\n<script type=\"text/javascript\"\\r\\n\\tsrc=\"https://uspdigital.usp.br/comumwebdev/libs/messages/1.3.0-0/messages.min.js\"></script>\\r\\n<script type=\\'text/javascript\\' src=\"/jupiterweb/dwr/engine.js\"></script>\\r\\n<script type=\\'text/javascript\\' src=\"/jupiterweb/dwr/util.js\"></script>\\r\\n<script type=\\'text/javascript\\' src=\"/jupiterweb/javascript/usp-exception-dwr.js\"></script>\\r\\n<script type=\\'text/javascript\\' src=\"/jupiterweb/javascript/comum.js\"></script>\\r\\n<script type=\\'text/javascript\\' src=\"/jupiterweb/javascript/jupiterweb.js\"></script>\\r\\n\\r\\n<script async src=\"https://www.googletagmanager.com/gtag/js?id=G-K1Y204Q919\"></script>\\r\\n<script src=\"usp-ga4.js\"></script>\\r\\n\\r\\n<STYLE>\\r\\n#simplemodal-container a.modalCloseImg {\\r\\n\\tbackground:\\r\\n\\t\\turl(images/jquery/jquery.simple.modal/x.png)\\r\\n\\t\\tno-repeat; /* adjust url as required */\\r\\n}\\r\\n</STYLE>\\r\\n\\r\\n\\r\\n\\r\\n<style>\\r\\na.link_cabecalho:active {\\r\\n\\tfont-family: verdana;\\r\\n\\tfont-size: 10px;\\r\\n\\tcolor: olive;\\r\\n\\ttext-decoration: none\\r\\n}\\r\\n\\r\\na.link_cabecalho:link {\\r\\n\\tfont-family: verdana;\\r\\n\\tfont-size: 10px;\\r\\n\\tcolor: olive;\\r\\n\\ttext-decoration: none\\r\\n}\\r\\n\\r\\na.link_cabecalho:visited {\\r\\n\\tfont-family: verdana;\\r\\n\\tfont-size: 10px;\\r\\n\\tcolor: olive;\\r\\n\\ttext-decoration: none\\r\\n}\\r\\n\\r\\na.link_cabecalho:hover {\\r\\n\\tfont-family: verdana;\\r\\n\\tfont-size: 10px;\\r\\n\\tcolor: gray;\\r\\n\\ttext-decoration: underline\\r\\n}\\r\\n\\r\\n#my_web_cabecalho {\\r\\n\\tfont-family: Verdana, Geneva, Arial, Helvetica, sans-serif;\\r\\n\\tfont-size: 10px;\\r\\n\\ttext-align: left;\\r\\n\\twidth: 90%;\\r\\n\\tborder-bottom: solid;\\r\\n\\tborder-bottom-width: thin;\\r\\n\\tborder-bottom-color: #666666;\\r\\n\\tpadding-bottom: 4px;\\r\\n\\tmargin-bottom: 4px;\\r\\n}\\r\\n\\r\\n#my_web_cabecalho_descricao {\\r\\n\\tfont-family: Verdana, Geneva, Arial, Helvetica, sans-serif;\\r\\n\\tfont-size: 10px;\\r\\n\\tpadding-bottom: 10px;\\r\\n}\\r\\n</style>\\r\\n</head>\\r\\n\\r\\n\\r\\n\\t\\r\\n\\r\\n\\r\\n<div id=\"my_web_cabecalho\">\\r\\n\\tRequisitos da Disciplina\\r\\n</div>\\r\\n\\r\\n\\t<!DOCTYPE html PUBLIC \"-//W3C//DTD HTML 4.01 Transitional//EN\" \"http://www.w3.org/TR/html4/loose.dtd\">\\r\\n\\r\\n\\r\\n\\r\\n\\r\\n\\r\\n\\r\\n\\r\\n\\t<br>\\r\\n \\r\\n<table width=\"100%\" cellpadding=\"0\" cellspacing=\"0\">\\r\\n\\t<tr>\\r\\n\\t\\t<td>\\r\\n\\t\\t\\t<!-- operacoes -->\\r\\n\\t\\t\\t\\r\\n\\t\\t</td>\\r\\n\\t</tr>\\r\\n\\t<!-- titulos da pagina -->\\r\\n\\t<tr>\\r\\n\\t\\t<td>\\r\\n\\t\\t\\t\\r\\n\\t\\t</td>\\r\\n\\t</tr>\\r\\n\\t<!-- navegacao -->\\r\\n\\t<tr>\\r\\n\\t\\t\\r\\n    <td> \\r\\n      <div align=\"center\"> </div>\\r\\n    </td>\\r\\n\\t</tr>\\r\\n\\t<tr>\\r\\n\\t\\t<td>\\r\\n\\t\\t\\t<form name=\"form1\" method=\"GET\" action=\"\">\\r\\n\\t\\t\\t<table width=\"100%\" border=\"0\">\\r\\n\\t\\t\\t\\t<tr>\\r\\n\\t\\t\\t\\t\\t<td> \\r\\n\\t\\t\\t\\t\\t\\r\\n\\t\\t\\t\\t\\t\\t<!-- tabela\\r\\n\\t\\t\\t\\t\\t \\t--> \\r\\n\\r\\n\\r\\n\\r\\n\\r\\n<script language=\"Javascript\">\\r\\nfunction OpenWindowToPrint() {\\r\\n\\tvar mylink;\\r\\n\\t\\r\\n\\tif(\\'default\\' == \\'default\\'){\\r\\n\\t\\tmylink = document.location.href;\\r\\n\\t} else {\\r\\n\\t\\tmylink = \\'default\\';\\r\\n\\t}\\r\\n\\t\\r\\n\\tif(mylink.indexOf(\"?\") > 0){\\r\\n\\t\\tmylink += \"&\";\\r\\n\\t} else {\\r\\n\\t\\tmylink += \"?\";\\r\\n\\t}\\r\\n\\t\\r\\n\\tmylink += \"print=true\";\\r\\n\\t\\r\\n\\twindow.open(mylink , \"_blank\", \"toolbar=no,location=no,directories=no,status=no,menubar=yes,titlebar=yes,scrollbars=yes,resizable=yes\");\\r\\n}\\r\\n</script>\\r\\n\\r\\n<table width=\"538\" border=\"0\" cellpadding=\"1\" cellspacing=\"1\" align=\"center\">\\r\\n  \\r\\n  <tr> \\r\\n    <td align=\"right\">\\r\\n\\t<a href=\"javascript:OpenWindowToPrint()\" class=\"mail_footer\"><img src=\"images/print_edit.gif\" width=\"16\" height=\"16\" border=\"0\">\\r\\n\\t<font face=\"Arial, Helvetica, sans-serif\" size=\"1\" color=\"#666666\">&nbsp;Preparar para impressão&nbsp;</font>\\r\\n\\t</a>\\r\\n\\t</td>\\r\\n  </tr>\\r\\n  \\r\\n</table>\\r\\n\\r\\n \\r\\n              <table>\\r\\n                <tr> \\r\\n                  <td> \\r\\n                    <div align=\"center\"><b><font face=\"Verdana, Arial, Helvetica, sans-serif\" color=\"#000000\"><span class=\"txt_arial_12pt_black\"> \\r\\n                      Lista de Requisitos da Disciplina por Curso</span></font></b></div>\\r\\n                  </td>\\r\\n                </tr>\\r\\n\\t\\t\\t\\t <tr><TD width=\"10%\">&nbsp;</TD></tr>\\r\\n                <tr> \\r\\n                  <td> \\r\\n                    <div align=\"center\"><b><font face=\"Verdana, Arial, Helvetica, sans-serif\" size=\"1\" color=\"#000000\"><span class=\"txt_arial_8pt_black\"> \\r\\n                      Disciplina: CGF2062-Farmacotécnica, Tecnologia de Medicamentos e Cosméticos V</span></font></b></div>\\r\\n                  </td>\\r\\n                </tr>\\r\\n              </table>\\t\\t\\t\\t\\t\\t\\r\\n     \\t\\t   <table cellspacing=0 cellpadding=0 border=0 align=\"center\" width=\"100%\" bgcolor=\"#FFFFFF\">\\r\\n                <tr>\\t\\t\\t\\r\\n                  <td> \\t\\t\\t\\t  \\r\\n                    <table cellspacing=2 cellpadding=0 width=\"100%\" border=0>\\r\\n                      \\r\\n\\t\\t\\t\\t\\t    \\r\\n                       \\r\\n\\t\\t\\t\\t\\t  \\t\\r\\n                       \\r\\n                       \\r\\n                         \\r\\n                      <tr valign=\"top\" bgcolor=\"#658CCF\"\" class=\"txt_verdana_8pt_gray\" > \\r\\n                        <td colspan=\"5\"><font color=\"#FFFFFF\">Curso: <b>60013  Farmácia - Bioquímica</b> \\r\\n                          (integral) - Período ideal: 8</font></td>\\r\\n                      </tr>\\r\\n                         \\t\\r\\n                        \\r\\n                        \\t\\r\\n                      <tr valign=\"top\" bgcolor=\"#FFFFFF\" class=\"txt_verdana_8pt_gray\" > \\r\\n                        <td colspan=\"2\">CGF2039 \\r\\n                          - Farmacotécnica, Tecnologia de Medicamentos e Cosméticos II </td>\\r\\n                        <td width=\"26%\"> \\r\\n                          <div align=\"left\">   \\r\\n                            <font color=\"#FF0000\">Requisito </font>  \\r\\n                             </div>\\r\\n                        </td>\\r\\n                      </tr>\\r\\n                       \\r\\n                        \\t\\r\\n                      <tr valign=\"top\" bgcolor=\"#FFFFFF\" class=\"txt_verdana_8pt_gray\" > \\r\\n                        <td colspan=\"2\">CGF2047 \\r\\n                          - Farmacotécnica, Tecnologia de Medicamentos e Cosméticos III </td>\\r\\n                        <td width=\"26%\"> \\r\\n                          <div align=\"left\">   \\r\\n                            <font color=\"#FF0000\">Requisito </font>  \\r\\n                             </div>\\r\\n                        </td>\\r\\n                      </tr>\\r\\n                       \\r\\n                        \\t\\r\\n                      <tr valign=\"top\" bgcolor=\"#FFFFFF\" class=\"txt_verdana_8pt_gray\" > \\r\\n                        <td colspan=\"2\">CGF2053 \\r\\n                          - Farmacotécnica, Tecnologia de Medicamentos e Cosméticos IV </td>\\r\\n                        <td width=\"26%\"> \\r\\n                          <div align=\"left\">   \\r\\n                            <font color=\"#FF0000\">Requisito fraco </font>  \\r\\n                             </div>\\r\\n                        </td>\\r\\n                      </tr>\\r\\n                       \\r\\n                       \\r\\n                       \\r\\n                      <TR> \\r\\n                        <TD width=\"10%\">&nbsp;</TD>\\r\\n                        <TD width=\"64%\">&nbsp;</TD>\\r\\n                        <TD width=\"26%\">&nbsp;</TD>\\r\\n                        <TD width=\"0%\">&nbsp;</TD>\\r\\n                      </TR>\\r\\n                         \\r\\n                      <tr valign=\"top\" bgcolor=\"#658CCF\"\" class=\"txt_verdana_8pt_gray\" > \\r\\n                        <td colspan=\"5\"><font color=\"#FFFFFF\">Curso: <b>60014  Farmácia</b> \\r\\n                          (integral) - Período ideal: 8</font></td>\\r\\n                      </tr>\\r\\n                         \\t\\r\\n                        \\r\\n                        \\t\\r\\n                      <tr valign=\"top\" bgcolor=\"#FFFFFF\" class=\"txt_verdana_8pt_gray\" > \\r\\n                        <td colspan=\"2\">CGF2039 \\r\\n                          - Farmacotécnica, Tecnologia de Medicamentos e Cosméticos II </td>\\r\\n                        <td width=\"26%\"> \\r\\n                          <div align=\"left\">   \\r\\n                            <font color=\"#FF0000\">Requisito </font>  \\r\\n                             </div>\\r\\n                        </td>\\r\\n                      </tr>\\r\\n                       \\r\\n                        \\t\\r\\n                      <tr valign=\"top\" bgcolor=\"#FFFFFF\" class=\"txt_verdana_8pt_gray\" > \\r\\n                        <td colspan=\"2\">CGF2047 \\r\\n                          - Farmacotécnica, Tecnologia de Medicamentos e Cosméticos III </td>\\r\\n                        <td width=\"26%\"> \\r\\n                          <div align=\"left\">   \\r\\n                            <font color=\"#FF0000\">Requisito </font>  \\r\\n                             </div>\\r\\n                        </td>\\r\\n                      </tr>\\r\\n                       \\r\\n                        \\t\\r\\n                      <tr valign=\"top\" bgcolor=\"#FFFFFF\" class=\"txt_verdana_8pt_gray\" > \\r\\n                        <td colspan=\"2\">CGF2053 \\r\\n                          - Farmacotécnica, Tecnologia de Medicamentos e Cosméticos IV </td>\\r\\n                        <td width=\"26%\"> \\r\\n                          <div align=\"left\">   \\r\\n                            <font color=\"#FF0000\">Requisito fraco </font>  \\r\\n                             </div>\\r\\n                        </td>\\r\\n                      </tr>\\r\\n                       \\r\\n                       \\r\\n                       \\r\\n                      <TR> \\r\\n                        <TD width=\"10%\">&nbsp;</TD>\\r\\n                        <TD width=\"64%\">&nbsp;</TD>\\r\\n                        <TD width=\"26%\">&nbsp;</TD>\\r\\n                        <TD width=\"0%\">&nbsp;</TD>\\r\\n                      </TR>\\r\\n                         \\r\\n                      <tr valign=\"top\" bgcolor=\"#658CCF\"\" class=\"txt_verdana_8pt_gray\" > \\r\\n                        <td colspan=\"5\"><font color=\"#FFFFFF\">Curso: <b>60015  Farmácia</b> \\r\\n                          (integral) - Período ideal: 8</font></td>\\r\\n                      </tr>\\r\\n                         \\t\\r\\n                        \\r\\n                        \\t\\r\\n                      <tr valign=\"top\" bgcolor=\"#FFFFFF\" class=\"txt_verdana_8pt_gray\" > \\r\\n                        <td colspan=\"2\">CGF2039 \\r\\n                          - Farmacotécnica, Tecnologia de Medicamentos e Cosméticos II </td>\\r\\n                        <td width=\"26%\"> \\r\\n                          <div align=\"left\">   \\r\\n                            <font color=\"#FF0000\">Requisito </font>  \\r\\n                             </div>\\r\\n                        </td>\\r\\n                      </tr>\\r\\n                       \\r\\n                        \\t\\r\\n                      <tr valign=\"top\" bgcolor=\"#FFFFFF\" class=\"txt_verdana_8pt_gray\" > \\r\\n                        <td colspan=\"2\">CGF2047 \\r\\n                          - Farmacotécnica, Tecnologia de Medicamentos e Cosméticos III </td>\\r\\n                        <td width=\"26%\"> \\r\\n                          <div align=\"left\">   \\r\\n                            <font color=\"#FF0000\">Requisito </font>  \\r\\n                             </div>\\r\\n                        </td>\\r\\n                      </tr>\\r\\n                       \\r\\n                        \\t\\r\\n                      <tr valign=\"top\" bgcolor=\"#FFFFFF\" class=\"txt_verdana_8pt_gray\" > \\r\\n                        <td colspan=\"2\">CGF2053 \\r\\n                          - Farmacotécnica, Tecnologia de Medicamentos e Cosméticos IV </td>\\r\\n                        <td width=\"26%\"> \\r\\n                          <div align=\"left\">   \\r\\n                            <font color=\"#FF0000\">Requisito fraco </font>  \\r\\n                             </div>\\r\\n                        </td>\\r\\n                      </tr>\\r\\n                       \\r\\n                      <TR> \\r\\n                        <TD width=\"10%\">&nbsp;</TD>\\r\\n                        <TD width=\"64%\">&nbsp;</TD>\\r\\n                        <TD width=\"26%\">&nbsp;</TD>\\r\\n                      </TR>\\r\\n                       \\r\\n                    </table>\\r\\n                  </td>\\r\\n\\t\\t\\t\\t</tr>\\r\\n\\t\\t\\t\\t</table>\\r\\n\\r\\n\\t\\t\\t</td>\\r\\n\\t\\t</tr>\\r\\n\\t\\t<tr> \\r\\n\\t\\t\\t\\t\\t\\t<td>\\r\\n\\t\\t\\t\\t\\t\\t\\t<!-- hidden\\r\\n\\t\\t\\t\\t\\t\\t\\t\\r\\n\\t\\t\\t\\t\\t\\t\\t -->\\r\\n\\t\\t\\t\\t\\t\\t</td>\\r\\n\\t\\t\\t\\t\\t</tr>\\r\\n\\t\\t\\t\\t\\t<tr>\\r\\n\\t\\t\\t\\t\\t\\t<td>\\r\\n\\t\\t\\t\\t\\t\\t\\t<!-- acoes\\r\\n\\t\\t\\t\\t\\t\\t\\t<table width=\"100%\" border=\"0\">\\r\\n\\t\\t\\t\\t\\t\\t\\t\\t<tr>\\r\\n\\t\\t\\t\\t\\t\\t\\t\\t\\t\\r\\n\\t\\t\\t\\t\\t\\t\\t\\t</tr>\\r\\n\\t\\t\\t\\t\\t\\t\\t</table>\\r\\n\\t\\t\\t\\t\\t\\t\\t -->\\r\\n\\t\\t\\t\\t\\t\\t</td>\\r\\n\\t\\t\\t\\t\\t</tr>\\r\\n\\t\\t\\t\\t\\t<tr> \\r\\n\\t\\t\\t\\t\\t\\t<td>\\r\\n\\t\\t\\t\\t\\t\\t\\t<!-- submit\\r\\n\\t\\t\\t\\t\\t\\t\\t\\r\\n\\t\\t\\t\\t\\t\\t\\t -->\\r\\n\\t\\t\\t\\t\\t\\t</td>\\r\\n\\t\\t\\t\\t\\t</tr>\\r\\n\\t    </table>\\r\\n\\t\\t\\t</form>\\r\\n\\t\\t</td>\\r\\n\\t</tr>\\r\\n</table>\\r\\n\\r\\n\\r\\n\\r\\n\\r\\n\\r\\n\\r\\n\\t\\r\\n\\r\\n\\r\\n<link type=\"text/css\" rel=\"stylesheet\" href=\"https://uspdigital.usp.br/comumwebdev/libs/usp/main/1.0/home.css\"/>\\r\\n<table width=\"100%\" border=\"0\" cellspacing=\" 0\" cellpadding=\" 0\" align=\"center\">\\r\\n  \\r\\n  <tr>\\r\\n    <td align=\"center\"><font face=\"Arial, Helvetica, sans-serif\" size=\"1\"><hr size=\"1\">\\r\\n      <a href=\\'creditos.jsp\\' class=\"link_olive\" target=\"_self\">Cr&eacute;ditos</a>\\r\\n      | <a href=\"jupColegiadoEmailLista\" class=\"link_olive\">Fale conosco</a><br>\\r\\n      &copy; 1999 - 2024 - Superintend&ecirc;ncia de Tecnologia da Informa&ccedil;&atilde;o/USP</font>\\r\\n    </td>\\r\\n  </tr>\\r\\n</table>\\r\\n\\r\\n</body>\\r\\n</html>\\r\\n\\t\\t\\t\\r\\n\\r\\n\\t\\t\\t\\r\\n\\t\\t</div>\\r\\n\\t</div>\\r\\n\\r\\n</body>\\r\\n</html>'"
            ],
            "application/vnd.google.colaboratory.intrinsic+json": {
              "type": "string"
            }
          },
          "metadata": {},
          "execution_count": 109
        }
      ]
    },
    {
      "cell_type": "code",
      "source": [
        "soup = BeautifulSoup(response.text, 'lxml') # Parse the HTML as a string\n",
        "\n",
        "tables = soup.find_all('table') # Grab the first table\n",
        "\n",
        "row_list = []\n",
        "for table in tables:\n",
        "  for row in table.find_all('tr'):\n",
        "      column_list = []\n",
        "      columns = row.find_all('td')\n",
        "      for column in columns:\n",
        "          column_list.append(column.get_text())\n",
        "      row_list.append(column_list)\n",
        "\n",
        "row_list"
      ],
      "metadata": {
        "colab": {
          "base_uri": "https://localhost:8080/"
        },
        "id": "8BAGjNkfhL0w",
        "outputId": "6fe4142e-bb69-4b75-914f-afa5d032a997"
      },
      "execution_count": 118,
      "outputs": [
        {
          "output_type": "execute_result",
          "data": {
            "text/plain": [
              "[['\\n\\n', '\\n\\n'],\n",
              " ['\\n\\n'],\n",
              " ['\\n'],\n",
              " ['\\n \\n'],\n",
              " ['\\n\\n\\n\\n\\n\\n\\n\\n\\n\\n\\n\\xa0Preparar para impressão\\xa0\\n\\n\\n\\n\\n\\n\\n\\n \\r\\n                      Lista de Requisitos da Disciplina por Curso\\n\\n\\n\\xa0\\n\\n\\n \\r\\n                      Disciplina: CGF2062-Farmacotécnica, Tecnologia de Medicamentos e Cosméticos V\\n\\n\\n\\n\\n\\n\\n\\n\\nCurso: 60013  Farmácia - Bioquímica \\r\\n                          (integral) - Período ideal: 8\\n\\n\\nCGF2039 \\r\\n                          - Farmacotécnica, Tecnologia de Medicamentos e Cosméticos II \\n\\n\\nRequisito \\n\\n\\n\\n\\nCGF2047 \\r\\n                          - Farmacotécnica, Tecnologia de Medicamentos e Cosméticos III \\n\\n\\nRequisito \\n\\n\\n\\n\\nCGF2053 \\r\\n                          - Farmacotécnica, Tecnologia de Medicamentos e Cosméticos IV \\n\\n\\nRequisito fraco \\n\\n\\n\\n\\n\\xa0\\n\\xa0\\n\\xa0\\n\\xa0\\n\\n\\nCurso: 60014  Farmácia \\r\\n                          (integral) - Período ideal: 8\\n\\n\\nCGF2039 \\r\\n                          - Farmacotécnica, Tecnologia de Medicamentos e Cosméticos II \\n\\n\\nRequisito \\n\\n\\n\\n\\nCGF2047 \\r\\n                          - Farmacotécnica, Tecnologia de Medicamentos e Cosméticos III \\n\\n\\nRequisito \\n\\n\\n\\n\\nCGF2053 \\r\\n                          - Farmacotécnica, Tecnologia de Medicamentos e Cosméticos IV \\n\\n\\nRequisito fraco \\n\\n\\n\\n\\n\\xa0\\n\\xa0\\n\\xa0\\n\\xa0\\n\\n\\nCurso: 60015  Farmácia \\r\\n                          (integral) - Período ideal: 8\\n\\n\\nCGF2039 \\r\\n                          - Farmacotécnica, Tecnologia de Medicamentos e Cosméticos II \\n\\n\\nRequisito \\n\\n\\n\\n\\nCGF2047 \\r\\n                          - Farmacotécnica, Tecnologia de Medicamentos e Cosméticos III \\n\\n\\nRequisito \\n\\n\\n\\n\\nCGF2053 \\r\\n                          - Farmacotécnica, Tecnologia de Medicamentos e Cosméticos IV \\n\\n\\nRequisito fraco \\n\\n\\n\\n\\n\\xa0\\n\\xa0\\n\\xa0\\n\\n\\n\\n\\n\\n\\n\\n\\n\\n\\n\\n\\n\\n\\n\\n\\n\\n\\n\\n\\n\\n\\n\\n\\n',\n",
              "  '\\n\\n\\n\\n\\n\\n\\n\\xa0Preparar para impressão\\xa0\\n\\n\\n\\n\\n\\n\\n\\n \\r\\n                      Lista de Requisitos da Disciplina por Curso\\n\\n\\n\\xa0\\n\\n\\n \\r\\n                      Disciplina: CGF2062-Farmacotécnica, Tecnologia de Medicamentos e Cosméticos V\\n\\n\\n\\n\\n\\n\\n\\n\\nCurso: 60013  Farmácia - Bioquímica \\r\\n                          (integral) - Período ideal: 8\\n\\n\\nCGF2039 \\r\\n                          - Farmacotécnica, Tecnologia de Medicamentos e Cosméticos II \\n\\n\\nRequisito \\n\\n\\n\\n\\nCGF2047 \\r\\n                          - Farmacotécnica, Tecnologia de Medicamentos e Cosméticos III \\n\\n\\nRequisito \\n\\n\\n\\n\\nCGF2053 \\r\\n                          - Farmacotécnica, Tecnologia de Medicamentos e Cosméticos IV \\n\\n\\nRequisito fraco \\n\\n\\n\\n\\n\\xa0\\n\\xa0\\n\\xa0\\n\\xa0\\n\\n\\nCurso: 60014  Farmácia \\r\\n                          (integral) - Período ideal: 8\\n\\n\\nCGF2039 \\r\\n                          - Farmacotécnica, Tecnologia de Medicamentos e Cosméticos II \\n\\n\\nRequisito \\n\\n\\n\\n\\nCGF2047 \\r\\n                          - Farmacotécnica, Tecnologia de Medicamentos e Cosméticos III \\n\\n\\nRequisito \\n\\n\\n\\n\\nCGF2053 \\r\\n                          - Farmacotécnica, Tecnologia de Medicamentos e Cosméticos IV \\n\\n\\nRequisito fraco \\n\\n\\n\\n\\n\\xa0\\n\\xa0\\n\\xa0\\n\\xa0\\n\\n\\nCurso: 60015  Farmácia \\r\\n                          (integral) - Período ideal: 8\\n\\n\\nCGF2039 \\r\\n                          - Farmacotécnica, Tecnologia de Medicamentos e Cosméticos II \\n\\n\\nRequisito \\n\\n\\n\\n\\nCGF2047 \\r\\n                          - Farmacotécnica, Tecnologia de Medicamentos e Cosméticos III \\n\\n\\nRequisito \\n\\n\\n\\n\\nCGF2053 \\r\\n                          - Farmacotécnica, Tecnologia de Medicamentos e Cosméticos IV \\n\\n\\nRequisito fraco \\n\\n\\n\\n\\n\\xa0\\n\\xa0\\n\\xa0\\n\\n\\n\\n\\n\\n',\n",
              "  '\\n\\n\\xa0Preparar para impressão\\xa0\\n\\n',\n",
              "  '\\n \\r\\n                      Lista de Requisitos da Disciplina por Curso\\n',\n",
              "  '\\xa0',\n",
              "  '\\n \\r\\n                      Disciplina: CGF2062-Farmacotécnica, Tecnologia de Medicamentos e Cosméticos V\\n',\n",
              "  '\\n\\n\\nCurso: 60013  Farmácia - Bioquímica \\r\\n                          (integral) - Período ideal: 8\\n\\n\\nCGF2039 \\r\\n                          - Farmacotécnica, Tecnologia de Medicamentos e Cosméticos II \\n\\n\\nRequisito \\n\\n\\n\\n\\nCGF2047 \\r\\n                          - Farmacotécnica, Tecnologia de Medicamentos e Cosméticos III \\n\\n\\nRequisito \\n\\n\\n\\n\\nCGF2053 \\r\\n                          - Farmacotécnica, Tecnologia de Medicamentos e Cosméticos IV \\n\\n\\nRequisito fraco \\n\\n\\n\\n\\n\\xa0\\n\\xa0\\n\\xa0\\n\\xa0\\n\\n\\nCurso: 60014  Farmácia \\r\\n                          (integral) - Período ideal: 8\\n\\n\\nCGF2039 \\r\\n                          - Farmacotécnica, Tecnologia de Medicamentos e Cosméticos II \\n\\n\\nRequisito \\n\\n\\n\\n\\nCGF2047 \\r\\n                          - Farmacotécnica, Tecnologia de Medicamentos e Cosméticos III \\n\\n\\nRequisito \\n\\n\\n\\n\\nCGF2053 \\r\\n                          - Farmacotécnica, Tecnologia de Medicamentos e Cosméticos IV \\n\\n\\nRequisito fraco \\n\\n\\n\\n\\n\\xa0\\n\\xa0\\n\\xa0\\n\\xa0\\n\\n\\nCurso: 60015  Farmácia \\r\\n                          (integral) - Período ideal: 8\\n\\n\\nCGF2039 \\r\\n                          - Farmacotécnica, Tecnologia de Medicamentos e Cosméticos II \\n\\n\\nRequisito \\n\\n\\n\\n\\nCGF2047 \\r\\n                          - Farmacotécnica, Tecnologia de Medicamentos e Cosméticos III \\n\\n\\nRequisito \\n\\n\\n\\n\\nCGF2053 \\r\\n                          - Farmacotécnica, Tecnologia de Medicamentos e Cosméticos IV \\n\\n\\nRequisito fraco \\n\\n\\n\\n\\n\\xa0\\n\\xa0\\n\\xa0\\n\\n\\n',\n",
              "  'Curso: 60013  Farmácia - Bioquímica \\r\\n                          (integral) - Período ideal: 8',\n",
              "  'CGF2039 \\r\\n                          - Farmacotécnica, Tecnologia de Medicamentos e Cosméticos II ',\n",
              "  '\\n\\nRequisito \\n\\n',\n",
              "  'CGF2047 \\r\\n                          - Farmacotécnica, Tecnologia de Medicamentos e Cosméticos III ',\n",
              "  '\\n\\nRequisito \\n\\n',\n",
              "  'CGF2053 \\r\\n                          - Farmacotécnica, Tecnologia de Medicamentos e Cosméticos IV ',\n",
              "  '\\n\\nRequisito fraco \\n\\n',\n",
              "  '\\xa0',\n",
              "  '\\xa0',\n",
              "  '\\xa0',\n",
              "  '\\xa0',\n",
              "  'Curso: 60014  Farmácia \\r\\n                          (integral) - Período ideal: 8',\n",
              "  'CGF2039 \\r\\n                          - Farmacotécnica, Tecnologia de Medicamentos e Cosméticos II ',\n",
              "  '\\n\\nRequisito \\n\\n',\n",
              "  'CGF2047 \\r\\n                          - Farmacotécnica, Tecnologia de Medicamentos e Cosméticos III ',\n",
              "  '\\n\\nRequisito \\n\\n',\n",
              "  'CGF2053 \\r\\n                          - Farmacotécnica, Tecnologia de Medicamentos e Cosméticos IV ',\n",
              "  '\\n\\nRequisito fraco \\n\\n',\n",
              "  '\\xa0',\n",
              "  '\\xa0',\n",
              "  '\\xa0',\n",
              "  '\\xa0',\n",
              "  'Curso: 60015  Farmácia \\r\\n                          (integral) - Período ideal: 8',\n",
              "  'CGF2039 \\r\\n                          - Farmacotécnica, Tecnologia de Medicamentos e Cosméticos II ',\n",
              "  '\\n\\nRequisito \\n\\n',\n",
              "  'CGF2047 \\r\\n                          - Farmacotécnica, Tecnologia de Medicamentos e Cosméticos III ',\n",
              "  '\\n\\nRequisito \\n\\n',\n",
              "  'CGF2053 \\r\\n                          - Farmacotécnica, Tecnologia de Medicamentos e Cosméticos IV ',\n",
              "  '\\n\\nRequisito fraco \\n\\n',\n",
              "  '\\xa0',\n",
              "  '\\xa0',\n",
              "  '\\xa0',\n",
              "  '\\n\\n',\n",
              "  '\\n\\n',\n",
              "  '\\n\\n'],\n",
              " ['\\n\\n\\n\\n\\n\\n\\n\\xa0Preparar para impressão\\xa0\\n\\n\\n\\n\\n\\n\\n\\n \\r\\n                      Lista de Requisitos da Disciplina por Curso\\n\\n\\n\\xa0\\n\\n\\n \\r\\n                      Disciplina: CGF2062-Farmacotécnica, Tecnologia de Medicamentos e Cosméticos V\\n\\n\\n\\n\\n\\n\\n\\n\\nCurso: 60013  Farmácia - Bioquímica \\r\\n                          (integral) - Período ideal: 8\\n\\n\\nCGF2039 \\r\\n                          - Farmacotécnica, Tecnologia de Medicamentos e Cosméticos II \\n\\n\\nRequisito \\n\\n\\n\\n\\nCGF2047 \\r\\n                          - Farmacotécnica, Tecnologia de Medicamentos e Cosméticos III \\n\\n\\nRequisito \\n\\n\\n\\n\\nCGF2053 \\r\\n                          - Farmacotécnica, Tecnologia de Medicamentos e Cosméticos IV \\n\\n\\nRequisito fraco \\n\\n\\n\\n\\n\\xa0\\n\\xa0\\n\\xa0\\n\\xa0\\n\\n\\nCurso: 60014  Farmácia \\r\\n                          (integral) - Período ideal: 8\\n\\n\\nCGF2039 \\r\\n                          - Farmacotécnica, Tecnologia de Medicamentos e Cosméticos II \\n\\n\\nRequisito \\n\\n\\n\\n\\nCGF2047 \\r\\n                          - Farmacotécnica, Tecnologia de Medicamentos e Cosméticos III \\n\\n\\nRequisito \\n\\n\\n\\n\\nCGF2053 \\r\\n                          - Farmacotécnica, Tecnologia de Medicamentos e Cosméticos IV \\n\\n\\nRequisito fraco \\n\\n\\n\\n\\n\\xa0\\n\\xa0\\n\\xa0\\n\\xa0\\n\\n\\nCurso: 60015  Farmácia \\r\\n                          (integral) - Período ideal: 8\\n\\n\\nCGF2039 \\r\\n                          - Farmacotécnica, Tecnologia de Medicamentos e Cosméticos II \\n\\n\\nRequisito \\n\\n\\n\\n\\nCGF2047 \\r\\n                          - Farmacotécnica, Tecnologia de Medicamentos e Cosméticos III \\n\\n\\nRequisito \\n\\n\\n\\n\\nCGF2053 \\r\\n                          - Farmacotécnica, Tecnologia de Medicamentos e Cosméticos IV \\n\\n\\nRequisito fraco \\n\\n\\n\\n\\n\\xa0\\n\\xa0\\n\\xa0\\n\\n\\n\\n\\n\\n',\n",
              "  '\\n\\n\\xa0Preparar para impressão\\xa0\\n\\n',\n",
              "  '\\n \\r\\n                      Lista de Requisitos da Disciplina por Curso\\n',\n",
              "  '\\xa0',\n",
              "  '\\n \\r\\n                      Disciplina: CGF2062-Farmacotécnica, Tecnologia de Medicamentos e Cosméticos V\\n',\n",
              "  '\\n\\n\\nCurso: 60013  Farmácia - Bioquímica \\r\\n                          (integral) - Período ideal: 8\\n\\n\\nCGF2039 \\r\\n                          - Farmacotécnica, Tecnologia de Medicamentos e Cosméticos II \\n\\n\\nRequisito \\n\\n\\n\\n\\nCGF2047 \\r\\n                          - Farmacotécnica, Tecnologia de Medicamentos e Cosméticos III \\n\\n\\nRequisito \\n\\n\\n\\n\\nCGF2053 \\r\\n                          - Farmacotécnica, Tecnologia de Medicamentos e Cosméticos IV \\n\\n\\nRequisito fraco \\n\\n\\n\\n\\n\\xa0\\n\\xa0\\n\\xa0\\n\\xa0\\n\\n\\nCurso: 60014  Farmácia \\r\\n                          (integral) - Período ideal: 8\\n\\n\\nCGF2039 \\r\\n                          - Farmacotécnica, Tecnologia de Medicamentos e Cosméticos II \\n\\n\\nRequisito \\n\\n\\n\\n\\nCGF2047 \\r\\n                          - Farmacotécnica, Tecnologia de Medicamentos e Cosméticos III \\n\\n\\nRequisito \\n\\n\\n\\n\\nCGF2053 \\r\\n                          - Farmacotécnica, Tecnologia de Medicamentos e Cosméticos IV \\n\\n\\nRequisito fraco \\n\\n\\n\\n\\n\\xa0\\n\\xa0\\n\\xa0\\n\\xa0\\n\\n\\nCurso: 60015  Farmácia \\r\\n                          (integral) - Período ideal: 8\\n\\n\\nCGF2039 \\r\\n                          - Farmacotécnica, Tecnologia de Medicamentos e Cosméticos II \\n\\n\\nRequisito \\n\\n\\n\\n\\nCGF2047 \\r\\n                          - Farmacotécnica, Tecnologia de Medicamentos e Cosméticos III \\n\\n\\nRequisito \\n\\n\\n\\n\\nCGF2053 \\r\\n                          - Farmacotécnica, Tecnologia de Medicamentos e Cosméticos IV \\n\\n\\nRequisito fraco \\n\\n\\n\\n\\n\\xa0\\n\\xa0\\n\\xa0\\n\\n\\n',\n",
              "  'Curso: 60013  Farmácia - Bioquímica \\r\\n                          (integral) - Período ideal: 8',\n",
              "  'CGF2039 \\r\\n                          - Farmacotécnica, Tecnologia de Medicamentos e Cosméticos II ',\n",
              "  '\\n\\nRequisito \\n\\n',\n",
              "  'CGF2047 \\r\\n                          - Farmacotécnica, Tecnologia de Medicamentos e Cosméticos III ',\n",
              "  '\\n\\nRequisito \\n\\n',\n",
              "  'CGF2053 \\r\\n                          - Farmacotécnica, Tecnologia de Medicamentos e Cosméticos IV ',\n",
              "  '\\n\\nRequisito fraco \\n\\n',\n",
              "  '\\xa0',\n",
              "  '\\xa0',\n",
              "  '\\xa0',\n",
              "  '\\xa0',\n",
              "  'Curso: 60014  Farmácia \\r\\n                          (integral) - Período ideal: 8',\n",
              "  'CGF2039 \\r\\n                          - Farmacotécnica, Tecnologia de Medicamentos e Cosméticos II ',\n",
              "  '\\n\\nRequisito \\n\\n',\n",
              "  'CGF2047 \\r\\n                          - Farmacotécnica, Tecnologia de Medicamentos e Cosméticos III ',\n",
              "  '\\n\\nRequisito \\n\\n',\n",
              "  'CGF2053 \\r\\n                          - Farmacotécnica, Tecnologia de Medicamentos e Cosméticos IV ',\n",
              "  '\\n\\nRequisito fraco \\n\\n',\n",
              "  '\\xa0',\n",
              "  '\\xa0',\n",
              "  '\\xa0',\n",
              "  '\\xa0',\n",
              "  'Curso: 60015  Farmácia \\r\\n                          (integral) - Período ideal: 8',\n",
              "  'CGF2039 \\r\\n                          - Farmacotécnica, Tecnologia de Medicamentos e Cosméticos II ',\n",
              "  '\\n\\nRequisito \\n\\n',\n",
              "  'CGF2047 \\r\\n                          - Farmacotécnica, Tecnologia de Medicamentos e Cosméticos III ',\n",
              "  '\\n\\nRequisito \\n\\n',\n",
              "  'CGF2053 \\r\\n                          - Farmacotécnica, Tecnologia de Medicamentos e Cosméticos IV ',\n",
              "  '\\n\\nRequisito fraco \\n\\n',\n",
              "  '\\xa0',\n",
              "  '\\xa0',\n",
              "  '\\xa0'],\n",
              " ['\\n\\n\\xa0Preparar para impressão\\xa0\\n\\n'],\n",
              " ['\\n \\r\\n                      Lista de Requisitos da Disciplina por Curso\\n'],\n",
              " ['\\xa0'],\n",
              " ['\\n \\r\\n                      Disciplina: CGF2062-Farmacotécnica, Tecnologia de Medicamentos e Cosméticos V\\n'],\n",
              " ['\\n\\n\\nCurso: 60013  Farmácia - Bioquímica \\r\\n                          (integral) - Período ideal: 8\\n\\n\\nCGF2039 \\r\\n                          - Farmacotécnica, Tecnologia de Medicamentos e Cosméticos II \\n\\n\\nRequisito \\n\\n\\n\\n\\nCGF2047 \\r\\n                          - Farmacotécnica, Tecnologia de Medicamentos e Cosméticos III \\n\\n\\nRequisito \\n\\n\\n\\n\\nCGF2053 \\r\\n                          - Farmacotécnica, Tecnologia de Medicamentos e Cosméticos IV \\n\\n\\nRequisito fraco \\n\\n\\n\\n\\n\\xa0\\n\\xa0\\n\\xa0\\n\\xa0\\n\\n\\nCurso: 60014  Farmácia \\r\\n                          (integral) - Período ideal: 8\\n\\n\\nCGF2039 \\r\\n                          - Farmacotécnica, Tecnologia de Medicamentos e Cosméticos II \\n\\n\\nRequisito \\n\\n\\n\\n\\nCGF2047 \\r\\n                          - Farmacotécnica, Tecnologia de Medicamentos e Cosméticos III \\n\\n\\nRequisito \\n\\n\\n\\n\\nCGF2053 \\r\\n                          - Farmacotécnica, Tecnologia de Medicamentos e Cosméticos IV \\n\\n\\nRequisito fraco \\n\\n\\n\\n\\n\\xa0\\n\\xa0\\n\\xa0\\n\\xa0\\n\\n\\nCurso: 60015  Farmácia \\r\\n                          (integral) - Período ideal: 8\\n\\n\\nCGF2039 \\r\\n                          - Farmacotécnica, Tecnologia de Medicamentos e Cosméticos II \\n\\n\\nRequisito \\n\\n\\n\\n\\nCGF2047 \\r\\n                          - Farmacotécnica, Tecnologia de Medicamentos e Cosméticos III \\n\\n\\nRequisito \\n\\n\\n\\n\\nCGF2053 \\r\\n                          - Farmacotécnica, Tecnologia de Medicamentos e Cosméticos IV \\n\\n\\nRequisito fraco \\n\\n\\n\\n\\n\\xa0\\n\\xa0\\n\\xa0\\n\\n\\n',\n",
              "  'Curso: 60013  Farmácia - Bioquímica \\r\\n                          (integral) - Período ideal: 8',\n",
              "  'CGF2039 \\r\\n                          - Farmacotécnica, Tecnologia de Medicamentos e Cosméticos II ',\n",
              "  '\\n\\nRequisito \\n\\n',\n",
              "  'CGF2047 \\r\\n                          - Farmacotécnica, Tecnologia de Medicamentos e Cosméticos III ',\n",
              "  '\\n\\nRequisito \\n\\n',\n",
              "  'CGF2053 \\r\\n                          - Farmacotécnica, Tecnologia de Medicamentos e Cosméticos IV ',\n",
              "  '\\n\\nRequisito fraco \\n\\n',\n",
              "  '\\xa0',\n",
              "  '\\xa0',\n",
              "  '\\xa0',\n",
              "  '\\xa0',\n",
              "  'Curso: 60014  Farmácia \\r\\n                          (integral) - Período ideal: 8',\n",
              "  'CGF2039 \\r\\n                          - Farmacotécnica, Tecnologia de Medicamentos e Cosméticos II ',\n",
              "  '\\n\\nRequisito \\n\\n',\n",
              "  'CGF2047 \\r\\n                          - Farmacotécnica, Tecnologia de Medicamentos e Cosméticos III ',\n",
              "  '\\n\\nRequisito \\n\\n',\n",
              "  'CGF2053 \\r\\n                          - Farmacotécnica, Tecnologia de Medicamentos e Cosméticos IV ',\n",
              "  '\\n\\nRequisito fraco \\n\\n',\n",
              "  '\\xa0',\n",
              "  '\\xa0',\n",
              "  '\\xa0',\n",
              "  '\\xa0',\n",
              "  'Curso: 60015  Farmácia \\r\\n                          (integral) - Período ideal: 8',\n",
              "  'CGF2039 \\r\\n                          - Farmacotécnica, Tecnologia de Medicamentos e Cosméticos II ',\n",
              "  '\\n\\nRequisito \\n\\n',\n",
              "  'CGF2047 \\r\\n                          - Farmacotécnica, Tecnologia de Medicamentos e Cosméticos III ',\n",
              "  '\\n\\nRequisito \\n\\n',\n",
              "  'CGF2053 \\r\\n                          - Farmacotécnica, Tecnologia de Medicamentos e Cosméticos IV ',\n",
              "  '\\n\\nRequisito fraco \\n\\n',\n",
              "  '\\xa0',\n",
              "  '\\xa0',\n",
              "  '\\xa0'],\n",
              " ['Curso: 60013  Farmácia - Bioquímica \\r\\n                          (integral) - Período ideal: 8'],\n",
              " ['CGF2039 \\r\\n                          - Farmacotécnica, Tecnologia de Medicamentos e Cosméticos II ',\n",
              "  '\\n\\nRequisito \\n\\n'],\n",
              " ['CGF2047 \\r\\n                          - Farmacotécnica, Tecnologia de Medicamentos e Cosméticos III ',\n",
              "  '\\n\\nRequisito \\n\\n'],\n",
              " ['CGF2053 \\r\\n                          - Farmacotécnica, Tecnologia de Medicamentos e Cosméticos IV ',\n",
              "  '\\n\\nRequisito fraco \\n\\n'],\n",
              " ['\\xa0', '\\xa0', '\\xa0', '\\xa0'],\n",
              " ['Curso: 60014  Farmácia \\r\\n                          (integral) - Período ideal: 8'],\n",
              " ['CGF2039 \\r\\n                          - Farmacotécnica, Tecnologia de Medicamentos e Cosméticos II ',\n",
              "  '\\n\\nRequisito \\n\\n'],\n",
              " ['CGF2047 \\r\\n                          - Farmacotécnica, Tecnologia de Medicamentos e Cosméticos III ',\n",
              "  '\\n\\nRequisito \\n\\n'],\n",
              " ['CGF2053 \\r\\n                          - Farmacotécnica, Tecnologia de Medicamentos e Cosméticos IV ',\n",
              "  '\\n\\nRequisito fraco \\n\\n'],\n",
              " ['\\xa0', '\\xa0', '\\xa0', '\\xa0'],\n",
              " ['Curso: 60015  Farmácia \\r\\n                          (integral) - Período ideal: 8'],\n",
              " ['CGF2039 \\r\\n                          - Farmacotécnica, Tecnologia de Medicamentos e Cosméticos II ',\n",
              "  '\\n\\nRequisito \\n\\n'],\n",
              " ['CGF2047 \\r\\n                          - Farmacotécnica, Tecnologia de Medicamentos e Cosméticos III ',\n",
              "  '\\n\\nRequisito \\n\\n'],\n",
              " ['CGF2053 \\r\\n                          - Farmacotécnica, Tecnologia de Medicamentos e Cosméticos IV ',\n",
              "  '\\n\\nRequisito fraco \\n\\n'],\n",
              " ['\\xa0', '\\xa0', '\\xa0'],\n",
              " ['\\n\\n'],\n",
              " ['\\n\\n'],\n",
              " ['\\n\\n'],\n",
              " ['\\n\\n\\n\\n\\n\\n\\n\\xa0Preparar para impressão\\xa0\\n\\n\\n\\n\\n\\n\\n\\n \\r\\n                      Lista de Requisitos da Disciplina por Curso\\n\\n\\n\\xa0\\n\\n\\n \\r\\n                      Disciplina: CGF2062-Farmacotécnica, Tecnologia de Medicamentos e Cosméticos V\\n\\n\\n\\n\\n\\n\\n\\n\\nCurso: 60013  Farmácia - Bioquímica \\r\\n                          (integral) - Período ideal: 8\\n\\n\\nCGF2039 \\r\\n                          - Farmacotécnica, Tecnologia de Medicamentos e Cosméticos II \\n\\n\\nRequisito \\n\\n\\n\\n\\nCGF2047 \\r\\n                          - Farmacotécnica, Tecnologia de Medicamentos e Cosméticos III \\n\\n\\nRequisito \\n\\n\\n\\n\\nCGF2053 \\r\\n                          - Farmacotécnica, Tecnologia de Medicamentos e Cosméticos IV \\n\\n\\nRequisito fraco \\n\\n\\n\\n\\n\\xa0\\n\\xa0\\n\\xa0\\n\\xa0\\n\\n\\nCurso: 60014  Farmácia \\r\\n                          (integral) - Período ideal: 8\\n\\n\\nCGF2039 \\r\\n                          - Farmacotécnica, Tecnologia de Medicamentos e Cosméticos II \\n\\n\\nRequisito \\n\\n\\n\\n\\nCGF2047 \\r\\n                          - Farmacotécnica, Tecnologia de Medicamentos e Cosméticos III \\n\\n\\nRequisito \\n\\n\\n\\n\\nCGF2053 \\r\\n                          - Farmacotécnica, Tecnologia de Medicamentos e Cosméticos IV \\n\\n\\nRequisito fraco \\n\\n\\n\\n\\n\\xa0\\n\\xa0\\n\\xa0\\n\\xa0\\n\\n\\nCurso: 60015  Farmácia \\r\\n                          (integral) - Período ideal: 8\\n\\n\\nCGF2039 \\r\\n                          - Farmacotécnica, Tecnologia de Medicamentos e Cosméticos II \\n\\n\\nRequisito \\n\\n\\n\\n\\nCGF2047 \\r\\n                          - Farmacotécnica, Tecnologia de Medicamentos e Cosméticos III \\n\\n\\nRequisito \\n\\n\\n\\n\\nCGF2053 \\r\\n                          - Farmacotécnica, Tecnologia de Medicamentos e Cosméticos IV \\n\\n\\nRequisito fraco \\n\\n\\n\\n\\n\\xa0\\n\\xa0\\n\\xa0\\n\\n\\n\\n\\n\\n',\n",
              "  '\\n\\n\\xa0Preparar para impressão\\xa0\\n\\n',\n",
              "  '\\n \\r\\n                      Lista de Requisitos da Disciplina por Curso\\n',\n",
              "  '\\xa0',\n",
              "  '\\n \\r\\n                      Disciplina: CGF2062-Farmacotécnica, Tecnologia de Medicamentos e Cosméticos V\\n',\n",
              "  '\\n\\n\\nCurso: 60013  Farmácia - Bioquímica \\r\\n                          (integral) - Período ideal: 8\\n\\n\\nCGF2039 \\r\\n                          - Farmacotécnica, Tecnologia de Medicamentos e Cosméticos II \\n\\n\\nRequisito \\n\\n\\n\\n\\nCGF2047 \\r\\n                          - Farmacotécnica, Tecnologia de Medicamentos e Cosméticos III \\n\\n\\nRequisito \\n\\n\\n\\n\\nCGF2053 \\r\\n                          - Farmacotécnica, Tecnologia de Medicamentos e Cosméticos IV \\n\\n\\nRequisito fraco \\n\\n\\n\\n\\n\\xa0\\n\\xa0\\n\\xa0\\n\\xa0\\n\\n\\nCurso: 60014  Farmácia \\r\\n                          (integral) - Período ideal: 8\\n\\n\\nCGF2039 \\r\\n                          - Farmacotécnica, Tecnologia de Medicamentos e Cosméticos II \\n\\n\\nRequisito \\n\\n\\n\\n\\nCGF2047 \\r\\n                          - Farmacotécnica, Tecnologia de Medicamentos e Cosméticos III \\n\\n\\nRequisito \\n\\n\\n\\n\\nCGF2053 \\r\\n                          - Farmacotécnica, Tecnologia de Medicamentos e Cosméticos IV \\n\\n\\nRequisito fraco \\n\\n\\n\\n\\n\\xa0\\n\\xa0\\n\\xa0\\n\\xa0\\n\\n\\nCurso: 60015  Farmácia \\r\\n                          (integral) - Período ideal: 8\\n\\n\\nCGF2039 \\r\\n                          - Farmacotécnica, Tecnologia de Medicamentos e Cosméticos II \\n\\n\\nRequisito \\n\\n\\n\\n\\nCGF2047 \\r\\n                          - Farmacotécnica, Tecnologia de Medicamentos e Cosméticos III \\n\\n\\nRequisito \\n\\n\\n\\n\\nCGF2053 \\r\\n                          - Farmacotécnica, Tecnologia de Medicamentos e Cosméticos IV \\n\\n\\nRequisito fraco \\n\\n\\n\\n\\n\\xa0\\n\\xa0\\n\\xa0\\n\\n\\n',\n",
              "  'Curso: 60013  Farmácia - Bioquímica \\r\\n                          (integral) - Período ideal: 8',\n",
              "  'CGF2039 \\r\\n                          - Farmacotécnica, Tecnologia de Medicamentos e Cosméticos II ',\n",
              "  '\\n\\nRequisito \\n\\n',\n",
              "  'CGF2047 \\r\\n                          - Farmacotécnica, Tecnologia de Medicamentos e Cosméticos III ',\n",
              "  '\\n\\nRequisito \\n\\n',\n",
              "  'CGF2053 \\r\\n                          - Farmacotécnica, Tecnologia de Medicamentos e Cosméticos IV ',\n",
              "  '\\n\\nRequisito fraco \\n\\n',\n",
              "  '\\xa0',\n",
              "  '\\xa0',\n",
              "  '\\xa0',\n",
              "  '\\xa0',\n",
              "  'Curso: 60014  Farmácia \\r\\n                          (integral) - Período ideal: 8',\n",
              "  'CGF2039 \\r\\n                          - Farmacotécnica, Tecnologia de Medicamentos e Cosméticos II ',\n",
              "  '\\n\\nRequisito \\n\\n',\n",
              "  'CGF2047 \\r\\n                          - Farmacotécnica, Tecnologia de Medicamentos e Cosméticos III ',\n",
              "  '\\n\\nRequisito \\n\\n',\n",
              "  'CGF2053 \\r\\n                          - Farmacotécnica, Tecnologia de Medicamentos e Cosméticos IV ',\n",
              "  '\\n\\nRequisito fraco \\n\\n',\n",
              "  '\\xa0',\n",
              "  '\\xa0',\n",
              "  '\\xa0',\n",
              "  '\\xa0',\n",
              "  'Curso: 60015  Farmácia \\r\\n                          (integral) - Período ideal: 8',\n",
              "  'CGF2039 \\r\\n                          - Farmacotécnica, Tecnologia de Medicamentos e Cosméticos II ',\n",
              "  '\\n\\nRequisito \\n\\n',\n",
              "  'CGF2047 \\r\\n                          - Farmacotécnica, Tecnologia de Medicamentos e Cosméticos III ',\n",
              "  '\\n\\nRequisito \\n\\n',\n",
              "  'CGF2053 \\r\\n                          - Farmacotécnica, Tecnologia de Medicamentos e Cosméticos IV ',\n",
              "  '\\n\\nRequisito fraco \\n\\n',\n",
              "  '\\xa0',\n",
              "  '\\xa0',\n",
              "  '\\xa0'],\n",
              " ['\\n\\n\\xa0Preparar para impressão\\xa0\\n\\n'],\n",
              " ['\\n \\r\\n                      Lista de Requisitos da Disciplina por Curso\\n'],\n",
              " ['\\xa0'],\n",
              " ['\\n \\r\\n                      Disciplina: CGF2062-Farmacotécnica, Tecnologia de Medicamentos e Cosméticos V\\n'],\n",
              " ['\\n\\n\\nCurso: 60013  Farmácia - Bioquímica \\r\\n                          (integral) - Período ideal: 8\\n\\n\\nCGF2039 \\r\\n                          - Farmacotécnica, Tecnologia de Medicamentos e Cosméticos II \\n\\n\\nRequisito \\n\\n\\n\\n\\nCGF2047 \\r\\n                          - Farmacotécnica, Tecnologia de Medicamentos e Cosméticos III \\n\\n\\nRequisito \\n\\n\\n\\n\\nCGF2053 \\r\\n                          - Farmacotécnica, Tecnologia de Medicamentos e Cosméticos IV \\n\\n\\nRequisito fraco \\n\\n\\n\\n\\n\\xa0\\n\\xa0\\n\\xa0\\n\\xa0\\n\\n\\nCurso: 60014  Farmácia \\r\\n                          (integral) - Período ideal: 8\\n\\n\\nCGF2039 \\r\\n                          - Farmacotécnica, Tecnologia de Medicamentos e Cosméticos II \\n\\n\\nRequisito \\n\\n\\n\\n\\nCGF2047 \\r\\n                          - Farmacotécnica, Tecnologia de Medicamentos e Cosméticos III \\n\\n\\nRequisito \\n\\n\\n\\n\\nCGF2053 \\r\\n                          - Farmacotécnica, Tecnologia de Medicamentos e Cosméticos IV \\n\\n\\nRequisito fraco \\n\\n\\n\\n\\n\\xa0\\n\\xa0\\n\\xa0\\n\\xa0\\n\\n\\nCurso: 60015  Farmácia \\r\\n                          (integral) - Período ideal: 8\\n\\n\\nCGF2039 \\r\\n                          - Farmacotécnica, Tecnologia de Medicamentos e Cosméticos II \\n\\n\\nRequisito \\n\\n\\n\\n\\nCGF2047 \\r\\n                          - Farmacotécnica, Tecnologia de Medicamentos e Cosméticos III \\n\\n\\nRequisito \\n\\n\\n\\n\\nCGF2053 \\r\\n                          - Farmacotécnica, Tecnologia de Medicamentos e Cosméticos IV \\n\\n\\nRequisito fraco \\n\\n\\n\\n\\n\\xa0\\n\\xa0\\n\\xa0\\n\\n\\n',\n",
              "  'Curso: 60013  Farmácia - Bioquímica \\r\\n                          (integral) - Período ideal: 8',\n",
              "  'CGF2039 \\r\\n                          - Farmacotécnica, Tecnologia de Medicamentos e Cosméticos II ',\n",
              "  '\\n\\nRequisito \\n\\n',\n",
              "  'CGF2047 \\r\\n                          - Farmacotécnica, Tecnologia de Medicamentos e Cosméticos III ',\n",
              "  '\\n\\nRequisito \\n\\n',\n",
              "  'CGF2053 \\r\\n                          - Farmacotécnica, Tecnologia de Medicamentos e Cosméticos IV ',\n",
              "  '\\n\\nRequisito fraco \\n\\n',\n",
              "  '\\xa0',\n",
              "  '\\xa0',\n",
              "  '\\xa0',\n",
              "  '\\xa0',\n",
              "  'Curso: 60014  Farmácia \\r\\n                          (integral) - Período ideal: 8',\n",
              "  'CGF2039 \\r\\n                          - Farmacotécnica, Tecnologia de Medicamentos e Cosméticos II ',\n",
              "  '\\n\\nRequisito \\n\\n',\n",
              "  'CGF2047 \\r\\n                          - Farmacotécnica, Tecnologia de Medicamentos e Cosméticos III ',\n",
              "  '\\n\\nRequisito \\n\\n',\n",
              "  'CGF2053 \\r\\n                          - Farmacotécnica, Tecnologia de Medicamentos e Cosméticos IV ',\n",
              "  '\\n\\nRequisito fraco \\n\\n',\n",
              "  '\\xa0',\n",
              "  '\\xa0',\n",
              "  '\\xa0',\n",
              "  '\\xa0',\n",
              "  'Curso: 60015  Farmácia \\r\\n                          (integral) - Período ideal: 8',\n",
              "  'CGF2039 \\r\\n                          - Farmacotécnica, Tecnologia de Medicamentos e Cosméticos II ',\n",
              "  '\\n\\nRequisito \\n\\n',\n",
              "  'CGF2047 \\r\\n                          - Farmacotécnica, Tecnologia de Medicamentos e Cosméticos III ',\n",
              "  '\\n\\nRequisito \\n\\n',\n",
              "  'CGF2053 \\r\\n                          - Farmacotécnica, Tecnologia de Medicamentos e Cosméticos IV ',\n",
              "  '\\n\\nRequisito fraco \\n\\n',\n",
              "  '\\xa0',\n",
              "  '\\xa0',\n",
              "  '\\xa0'],\n",
              " ['Curso: 60013  Farmácia - Bioquímica \\r\\n                          (integral) - Período ideal: 8'],\n",
              " ['CGF2039 \\r\\n                          - Farmacotécnica, Tecnologia de Medicamentos e Cosméticos II ',\n",
              "  '\\n\\nRequisito \\n\\n'],\n",
              " ['CGF2047 \\r\\n                          - Farmacotécnica, Tecnologia de Medicamentos e Cosméticos III ',\n",
              "  '\\n\\nRequisito \\n\\n'],\n",
              " ['CGF2053 \\r\\n                          - Farmacotécnica, Tecnologia de Medicamentos e Cosméticos IV ',\n",
              "  '\\n\\nRequisito fraco \\n\\n'],\n",
              " ['\\xa0', '\\xa0', '\\xa0', '\\xa0'],\n",
              " ['Curso: 60014  Farmácia \\r\\n                          (integral) - Período ideal: 8'],\n",
              " ['CGF2039 \\r\\n                          - Farmacotécnica, Tecnologia de Medicamentos e Cosméticos II ',\n",
              "  '\\n\\nRequisito \\n\\n'],\n",
              " ['CGF2047 \\r\\n                          - Farmacotécnica, Tecnologia de Medicamentos e Cosméticos III ',\n",
              "  '\\n\\nRequisito \\n\\n'],\n",
              " ['CGF2053 \\r\\n                          - Farmacotécnica, Tecnologia de Medicamentos e Cosméticos IV ',\n",
              "  '\\n\\nRequisito fraco \\n\\n'],\n",
              " ['\\xa0', '\\xa0', '\\xa0', '\\xa0'],\n",
              " ['Curso: 60015  Farmácia \\r\\n                          (integral) - Período ideal: 8'],\n",
              " ['CGF2039 \\r\\n                          - Farmacotécnica, Tecnologia de Medicamentos e Cosméticos II ',\n",
              "  '\\n\\nRequisito \\n\\n'],\n",
              " ['CGF2047 \\r\\n                          - Farmacotécnica, Tecnologia de Medicamentos e Cosméticos III ',\n",
              "  '\\n\\nRequisito \\n\\n'],\n",
              " ['CGF2053 \\r\\n                          - Farmacotécnica, Tecnologia de Medicamentos e Cosméticos IV ',\n",
              "  '\\n\\nRequisito fraco \\n\\n'],\n",
              " ['\\xa0', '\\xa0', '\\xa0'],\n",
              " ['\\n\\n'],\n",
              " ['\\n\\n'],\n",
              " ['\\n\\n'],\n",
              " ['\\n\\n\\xa0Preparar para impressão\\xa0\\n\\n'],\n",
              " ['\\n \\r\\n                      Lista de Requisitos da Disciplina por Curso\\n'],\n",
              " ['\\xa0'],\n",
              " ['\\n \\r\\n                      Disciplina: CGF2062-Farmacotécnica, Tecnologia de Medicamentos e Cosméticos V\\n'],\n",
              " ['\\n\\n\\nCurso: 60013  Farmácia - Bioquímica \\r\\n                          (integral) - Período ideal: 8\\n\\n\\nCGF2039 \\r\\n                          - Farmacotécnica, Tecnologia de Medicamentos e Cosméticos II \\n\\n\\nRequisito \\n\\n\\n\\n\\nCGF2047 \\r\\n                          - Farmacotécnica, Tecnologia de Medicamentos e Cosméticos III \\n\\n\\nRequisito \\n\\n\\n\\n\\nCGF2053 \\r\\n                          - Farmacotécnica, Tecnologia de Medicamentos e Cosméticos IV \\n\\n\\nRequisito fraco \\n\\n\\n\\n\\n\\xa0\\n\\xa0\\n\\xa0\\n\\xa0\\n\\n\\nCurso: 60014  Farmácia \\r\\n                          (integral) - Período ideal: 8\\n\\n\\nCGF2039 \\r\\n                          - Farmacotécnica, Tecnologia de Medicamentos e Cosméticos II \\n\\n\\nRequisito \\n\\n\\n\\n\\nCGF2047 \\r\\n                          - Farmacotécnica, Tecnologia de Medicamentos e Cosméticos III \\n\\n\\nRequisito \\n\\n\\n\\n\\nCGF2053 \\r\\n                          - Farmacotécnica, Tecnologia de Medicamentos e Cosméticos IV \\n\\n\\nRequisito fraco \\n\\n\\n\\n\\n\\xa0\\n\\xa0\\n\\xa0\\n\\xa0\\n\\n\\nCurso: 60015  Farmácia \\r\\n                          (integral) - Período ideal: 8\\n\\n\\nCGF2039 \\r\\n                          - Farmacotécnica, Tecnologia de Medicamentos e Cosméticos II \\n\\n\\nRequisito \\n\\n\\n\\n\\nCGF2047 \\r\\n                          - Farmacotécnica, Tecnologia de Medicamentos e Cosméticos III \\n\\n\\nRequisito \\n\\n\\n\\n\\nCGF2053 \\r\\n                          - Farmacotécnica, Tecnologia de Medicamentos e Cosméticos IV \\n\\n\\nRequisito fraco \\n\\n\\n\\n\\n\\xa0\\n\\xa0\\n\\xa0\\n\\n\\n',\n",
              "  'Curso: 60013  Farmácia - Bioquímica \\r\\n                          (integral) - Período ideal: 8',\n",
              "  'CGF2039 \\r\\n                          - Farmacotécnica, Tecnologia de Medicamentos e Cosméticos II ',\n",
              "  '\\n\\nRequisito \\n\\n',\n",
              "  'CGF2047 \\r\\n                          - Farmacotécnica, Tecnologia de Medicamentos e Cosméticos III ',\n",
              "  '\\n\\nRequisito \\n\\n',\n",
              "  'CGF2053 \\r\\n                          - Farmacotécnica, Tecnologia de Medicamentos e Cosméticos IV ',\n",
              "  '\\n\\nRequisito fraco \\n\\n',\n",
              "  '\\xa0',\n",
              "  '\\xa0',\n",
              "  '\\xa0',\n",
              "  '\\xa0',\n",
              "  'Curso: 60014  Farmácia \\r\\n                          (integral) - Período ideal: 8',\n",
              "  'CGF2039 \\r\\n                          - Farmacotécnica, Tecnologia de Medicamentos e Cosméticos II ',\n",
              "  '\\n\\nRequisito \\n\\n',\n",
              "  'CGF2047 \\r\\n                          - Farmacotécnica, Tecnologia de Medicamentos e Cosméticos III ',\n",
              "  '\\n\\nRequisito \\n\\n',\n",
              "  'CGF2053 \\r\\n                          - Farmacotécnica, Tecnologia de Medicamentos e Cosméticos IV ',\n",
              "  '\\n\\nRequisito fraco \\n\\n',\n",
              "  '\\xa0',\n",
              "  '\\xa0',\n",
              "  '\\xa0',\n",
              "  '\\xa0',\n",
              "  'Curso: 60015  Farmácia \\r\\n                          (integral) - Período ideal: 8',\n",
              "  'CGF2039 \\r\\n                          - Farmacotécnica, Tecnologia de Medicamentos e Cosméticos II ',\n",
              "  '\\n\\nRequisito \\n\\n',\n",
              "  'CGF2047 \\r\\n                          - Farmacotécnica, Tecnologia de Medicamentos e Cosméticos III ',\n",
              "  '\\n\\nRequisito \\n\\n',\n",
              "  'CGF2053 \\r\\n                          - Farmacotécnica, Tecnologia de Medicamentos e Cosméticos IV ',\n",
              "  '\\n\\nRequisito fraco \\n\\n',\n",
              "  '\\xa0',\n",
              "  '\\xa0',\n",
              "  '\\xa0'],\n",
              " ['Curso: 60013  Farmácia - Bioquímica \\r\\n                          (integral) - Período ideal: 8'],\n",
              " ['CGF2039 \\r\\n                          - Farmacotécnica, Tecnologia de Medicamentos e Cosméticos II ',\n",
              "  '\\n\\nRequisito \\n\\n'],\n",
              " ['CGF2047 \\r\\n                          - Farmacotécnica, Tecnologia de Medicamentos e Cosméticos III ',\n",
              "  '\\n\\nRequisito \\n\\n'],\n",
              " ['CGF2053 \\r\\n                          - Farmacotécnica, Tecnologia de Medicamentos e Cosméticos IV ',\n",
              "  '\\n\\nRequisito fraco \\n\\n'],\n",
              " ['\\xa0', '\\xa0', '\\xa0', '\\xa0'],\n",
              " ['Curso: 60014  Farmácia \\r\\n                          (integral) - Período ideal: 8'],\n",
              " ['CGF2039 \\r\\n                          - Farmacotécnica, Tecnologia de Medicamentos e Cosméticos II ',\n",
              "  '\\n\\nRequisito \\n\\n'],\n",
              " ['CGF2047 \\r\\n                          - Farmacotécnica, Tecnologia de Medicamentos e Cosméticos III ',\n",
              "  '\\n\\nRequisito \\n\\n'],\n",
              " ['CGF2053 \\r\\n                          - Farmacotécnica, Tecnologia de Medicamentos e Cosméticos IV ',\n",
              "  '\\n\\nRequisito fraco \\n\\n'],\n",
              " ['\\xa0', '\\xa0', '\\xa0', '\\xa0'],\n",
              " ['Curso: 60015  Farmácia \\r\\n                          (integral) - Período ideal: 8'],\n",
              " ['CGF2039 \\r\\n                          - Farmacotécnica, Tecnologia de Medicamentos e Cosméticos II ',\n",
              "  '\\n\\nRequisito \\n\\n'],\n",
              " ['CGF2047 \\r\\n                          - Farmacotécnica, Tecnologia de Medicamentos e Cosméticos III ',\n",
              "  '\\n\\nRequisito \\n\\n'],\n",
              " ['CGF2053 \\r\\n                          - Farmacotécnica, Tecnologia de Medicamentos e Cosméticos IV ',\n",
              "  '\\n\\nRequisito fraco \\n\\n'],\n",
              " ['\\xa0', '\\xa0', '\\xa0'],\n",
              " ['Curso: 60013  Farmácia - Bioquímica \\r\\n                          (integral) - Período ideal: 8'],\n",
              " ['CGF2039 \\r\\n                          - Farmacotécnica, Tecnologia de Medicamentos e Cosméticos II ',\n",
              "  '\\n\\nRequisito \\n\\n'],\n",
              " ['CGF2047 \\r\\n                          - Farmacotécnica, Tecnologia de Medicamentos e Cosméticos III ',\n",
              "  '\\n\\nRequisito \\n\\n'],\n",
              " ['CGF2053 \\r\\n                          - Farmacotécnica, Tecnologia de Medicamentos e Cosméticos IV ',\n",
              "  '\\n\\nRequisito fraco \\n\\n'],\n",
              " ['\\xa0', '\\xa0', '\\xa0', '\\xa0'],\n",
              " ['Curso: 60014  Farmácia \\r\\n                          (integral) - Período ideal: 8'],\n",
              " ['CGF2039 \\r\\n                          - Farmacotécnica, Tecnologia de Medicamentos e Cosméticos II ',\n",
              "  '\\n\\nRequisito \\n\\n'],\n",
              " ['CGF2047 \\r\\n                          - Farmacotécnica, Tecnologia de Medicamentos e Cosméticos III ',\n",
              "  '\\n\\nRequisito \\n\\n'],\n",
              " ['CGF2053 \\r\\n                          - Farmacotécnica, Tecnologia de Medicamentos e Cosméticos IV ',\n",
              "  '\\n\\nRequisito fraco \\n\\n'],\n",
              " ['\\xa0', '\\xa0', '\\xa0', '\\xa0'],\n",
              " ['Curso: 60015  Farmácia \\r\\n                          (integral) - Período ideal: 8'],\n",
              " ['CGF2039 \\r\\n                          - Farmacotécnica, Tecnologia de Medicamentos e Cosméticos II ',\n",
              "  '\\n\\nRequisito \\n\\n'],\n",
              " ['CGF2047 \\r\\n                          - Farmacotécnica, Tecnologia de Medicamentos e Cosméticos III ',\n",
              "  '\\n\\nRequisito \\n\\n'],\n",
              " ['CGF2053 \\r\\n                          - Farmacotécnica, Tecnologia de Medicamentos e Cosméticos IV ',\n",
              "  '\\n\\nRequisito fraco \\n\\n'],\n",
              " ['\\xa0', '\\xa0', '\\xa0'],\n",
              " ['\\nCréditos\\r\\n      | Fale conosco\\r\\n      © 1999 - 2024 - Superintendência de Tecnologia da Informação/USP\\n']]"
            ]
          },
          "metadata": {},
          "execution_count": 118
        }
      ]
    },
    {
      "cell_type": "code",
      "source": [
        "fulltxt = ' '.join(list(itertools.chain(*row_list)))"
      ],
      "metadata": {
        "id": "Hu7IcypGhhcA"
      },
      "execution_count": 111,
      "outputs": []
    },
    {
      "cell_type": "code",
      "source": [
        "set(re.findall('CGF\\d{4}', fulltxt))"
      ],
      "metadata": {
        "colab": {
          "base_uri": "https://localhost:8080/"
        },
        "id": "u2KzoAsih1qj",
        "outputId": "cb84b665-a16e-42e7-a53f-5c789ea83505"
      },
      "execution_count": 117,
      "outputs": [
        {
          "output_type": "execute_result",
          "data": {
            "text/plain": [
              "{'CGF2039', 'CGF2047', 'CGF2053', 'CGF2062'}"
            ]
          },
          "metadata": {},
          "execution_count": 117
        }
      ]
    },
    {
      "cell_type": "code",
      "source": [
        "def getDependence(course_code):\n",
        "    url = f'https://uspdigital.usp.br/jupiterweb/listarCursosRequisitos?coddis={course_code}'\n",
        "    response = requests.get(url)\n",
        "    soup = BeautifulSoup(response.text, 'lxml') # Parse the HTML as a string\n",
        "    tables = soup.find_all('table') # Grab the first table\n",
        "\n",
        "    row_list = []\n",
        "    for table in tables:\n",
        "      for row in table.find_all('tr'):\n",
        "          column_list = []\n",
        "          columns = row.find_all('td')\n",
        "          for column in columns:\n",
        "              column_list.append(column.get_text())\n",
        "          row_list.append(column_list)\n",
        "    fulltxt = ' '.join(list(itertools.chain(*row_list)))\n",
        "    return list(set(re.findall('CGF\\d{4}', fulltxt))-{course_code})"
      ],
      "metadata": {
        "id": "WeKlucokiXN8"
      },
      "execution_count": 119,
      "outputs": []
    },
    {
      "cell_type": "code",
      "source": [
        "def getCourseList():\n",
        "    url = \"https://uspdigital.usp.br/jupiterweb/jupDisciplinaLista?codcg=60&pfxdisval=CGF&tipo=D\"\n",
        "    response = requests.get(url)\n",
        "    soup = BeautifulSoup(response.text, 'lxml') # Parse the HTML as a string\n",
        "    tables = soup.find_all('table') # Grab the first table\n",
        "\n",
        "    row_list = []\n",
        "    for table in tables:\n",
        "      for row in table.find_all('tr'):\n",
        "          column_list = []\n",
        "          columns = row.find_all('td')\n",
        "          for column in columns:\n",
        "              column_list.append(column.get_text())\n",
        "          row_list.append(column_list)\n",
        "    fulltxt = ' '.join(list(itertools.chain(*row_list)))\n",
        "    return list(set(re.findall('CGF\\d{4}', fulltxt)))"
      ],
      "metadata": {
        "id": "KkQeMqBMk5Kz"
      },
      "execution_count": 126,
      "outputs": []
    },
    {
      "cell_type": "code",
      "source": [
        "getDependence('CGF2062')"
      ],
      "metadata": {
        "colab": {
          "base_uri": "https://localhost:8080/"
        },
        "id": "EeQ8f8c6jo3e",
        "outputId": "27077825-242e-4548-c19e-7d9f8148578b"
      },
      "execution_count": 120,
      "outputs": [
        {
          "output_type": "execute_result",
          "data": {
            "text/plain": [
              "['CGF2039', 'CGF2047', 'CGF2053']"
            ]
          },
          "metadata": {},
          "execution_count": 120
        }
      ]
    },
    {
      "cell_type": "code",
      "source": [
        "getDependence('CGF2022')"
      ],
      "metadata": {
        "colab": {
          "base_uri": "https://localhost:8080/"
        },
        "id": "6qZWSxG8jxyI",
        "outputId": "caf79e19-2c4a-4579-c95c-06c2a2775fe6"
      },
      "execution_count": 121,
      "outputs": [
        {
          "output_type": "execute_result",
          "data": {
            "text/plain": [
              "[]"
            ]
          },
          "metadata": {},
          "execution_count": 121
        }
      ]
    },
    {
      "cell_type": "code",
      "source": [
        "getCourseInfo('CGF2062')"
      ],
      "metadata": {
        "colab": {
          "base_uri": "https://localhost:8080/"
        },
        "id": "F-LUO9dwj4nC",
        "outputId": "2751e46b-895a-4ef2-e97f-fcf1b285e958"
      },
      "execution_count": 125,
      "outputs": [
        {
          "output_type": "execute_result",
          "data": {
            "text/plain": [
              "{'name': 'CGF2062 - Farmacotécnica, Tecnologia de Medicamentos e Cosméticos V',\n",
              " 'creditos_aula': '5',\n",
              " 'creditos_trabalho': '0',\n",
              " 'carga_horaria': '75',\n",
              " 'docentes': '147605- Cristiane Masetto de Gaitani\\n\\n\\n\\n \\r\\n              3157348 - Fabiana Testa Moura de Carvalho Vicentini\\n\\n\\n\\n \\r\\n              59419 - Luis Alexandre Pedro de Freitas\\n\\n\\n\\n \\r\\n              1203996 - Marcia Eliana da Silva Ferreira\\n\\n\\n\\n \\r\\n              88304 - Maria Jose Vieira Fonseca\\n\\n\\n\\n \\r\\n              55669 - Maria Vitoria Lopes Badra Bentley\\n\\n\\n\\n \\r\\n              1299677 - Marilisa Guimarães Lara\\n\\n\\n\\n \\r\\n              2087791 - Osvaldo de Freitas\\n\\n\\n\\n \\r\\n              7410150 - Priscyla Daniely Marcato Gaspari\\n\\n\\n\\n \\r\\n              1894010 - Renata Fonseca Vianna Lopez\\n\\n\\n\\n \\r\\n              2091031 - Wanderley Pereira de Oliveira',\n",
              " 'programa_resumido': 'O conteúdo programático visa fornecer ao aluno conhecimento nas diferentes técnicas de obtenção e avaliação físico-química e biológica de sistemas de liberação, incluindo, sistemas matriciais, sistemas de liberação colônica, entérica, filmes, implantes, produtos transdérmicos, micro e nanopartículas biodegradáveis e biopersistentes. A ministração de forma integrada dos aspectos tecnológicos e controle de qualidade permitirão um aprendizado com uma sequência lógica, fazendo com que o aluno construa de forma gradativa o seu conhecimento em sistemas de liberação podendo, assim, aplicá-lo de forma mais eficiente na produção industrial.',\n",
              " 'programa': '1.   Sistemas de Liberação\\n\\n1.1. Liberação entérica\\n\\n1.2. Liberação colônica\\n\\n1.3. Sistemas matriciais\\n\\n1.4. Filmes\\n\\n1.5. Implantes\\n\\n1.6. Transdérmicos\\n\\n1.7. Micropartículas\\n\\n         1.8. Sistema de liberação nanoestruturados:\\n\\n- Microemulsão\\n\\n- Nanoemulsão\\n\\n- Lipossomas\\n\\n- Nanodispersões de cristal líquido\\n\\n- Nanopartículas Poliméricas\\n\\n- Nanopartículas lipídicas sólidas\\n\\n- Nanopartículas Metálicas e óxidos\\n\\n- Nanoestruturas de carbono\\n\\n1.9. Caracterização físico-química e morfológica de sistemas nanoestruturados\\n\\n1.10. Avaliação in vitro, in situ e in vivo de sistemas nanoestruturados\\n\\n1.11. Nanotoxicologia e Marco regulatório\\n\\n         1.12. Processos industriais para produção de sistemas nanoestruturados.',\n",
              " 'avaliacao': 'Método\\n\\n\\n \\r\\n        Estratégias de Ensino-Aprendizagem: Aula expositiva dialogada, Estudo de texto/artigos, Tempestade cerebral, Solução de problemas, Resolução de exercícios, Ensino em pequenos grupos, Seminário, Estudo de caso, Painel, Ensino com pesquisa Aprendizagem baseada em projetos, provas escritas. \\n\\n\\n\\nCritério\\n\\n\\n \\r\\n        Serão considerados aprovados os alunos que obtiverem nota igual ou superior a 5,0 (cinco) em todas as atividades desenvolvidas no módulo e que tenham tido 70% de frequência em todas as atividades desenvolvidas no módulo.\\n\\n\\n\\nNorma de Recuperação\\n\\n\\n \\r\\n        De acordo com as atividades desenvolvidas pelos alunos, a recuperação será realizada por aplicação de uma prova escrita ou um trabalho escrito ou prático. O período de recuperação será fixado pela Comissão de Graduação.',\n",
              " 'bibliografia': \"Bibliografia\\n\\n\\n\\xa0\\xa0\\xa0\\xa0\\xa0\\n \\n\\n\\n\\n•\\tALFONSO R. GENNARO. Remington: The Science and Practice of Pharmacy, 20th Edition. Baltimore, MD: Lippincott Williams & Wilkins, 2000. \\n•\\tALLEN, L.V., POPOVICH, N.G., ANSEL, H.C, Formas farmacêuticas e Sistemas de Liberação de Fármacos, 8a Ed., Editoria ARTMED, Porto Alegre, 2007.\\u2028\\n•\\tANSEL, H. C., STOKLOSA, M.J. Cálculos farmacêuticos. 12a Edição. Editora Artmed, Porto Alegre, 2008.\\n•\\tANSEL, H.C.; POPOVICH, N.G.; ALLEN, L.V. Farmacotécnica, Formas Farmacêuticas & Sistemas de Liberação de Fármacos. Ed. Editorial Premier. São Paulo (Tradução do título original. Pharmaceutical Dosage Forms and Drug Delivery. (1994) 6th edition, Williams & Wilkins Baltimore. \\n•\\tARORA, S.; RAJWADE, J.M.; PAKNIKAR, K.M. Nanotoxicology and in vitro studies: The need of the hour. Toxicology and Applied Pharmacology 258, 151–165, 2012.\\n•\\tAULTON, M. E. Delineamento de Formas Farmacêuticas. 2ª edição, Artmed, 2005, 678 pg.\\n•\\tAULTON, M.E. Pharmaceutics. The science of dosage form design. Churchill Livingstone, New York, 1996. BLACK, S.S. Disinfection, Sterilization and Preservation. 4th Ed. Lea & Febiger, Philadelphia, 1991. \\n•\\tBECK, R; GUTERRES, S.; POHLMANN, A. (Org.). Nanocosmetics and Nanomedicines: New Approaches for Skin Care. Berlin: Springer-Verlag Berlin and Heidelberg GmbH & Co. K, 2011.\\n•\\tBENNETT, BILL; COLE, GRAHAM. Pharmaceutical Production - An Engineering Guide, Institution of Chemical Engineers, 2003, 457 p.  \\n•\\tCARTESEN, J. THURO - Theory of Pharmaceutical Systems, Academic Press NY & London, vol. I (1972) - vol. II, 1973.\\n•\\tCHULIA, D.; DELEUIL, M.; POURCELOT, Y. Handbook of Powder Technology: Powder Technology and Pharmaceutical Processes . Amsterdam : Elsevier, 1994. 557p. \\n•\\tCOOPER, JOHN WILLIAM - Tutorial Pharmacy, Pitman Medical, 6th, Ed., 1972.\\n•\\tCORRÊA, M. A. ; ISAAC, V. L. B. ; KUREBAYASHI, A. K. . Cosmetologia - Ciência e Técnica.. 1. ed. São Paulo: Editora Medfarma, 2012. v. 1. 492p.\\n•\\tCOSTA, A.. Tratado Internacional de Cosmecêuticos. Guanabara Koogan. RJ, 2012.\\n•\\tDAMASCENO, J.C.; RIBEIRO, A.R.; BALOTTIN, L.B.; GRANJEIRO, J.M. Nanometrology - challenges for health regulation. Vigilância Sanitária em Debate 1, 104-114, 2013\\n•\\tDOANE, T.L; BURDA, C.. The unique role of nanoparticles in nanomedicine: imaging, drug delivery and therapy. Chem. Soc. Rev. 41, 2885–2911, 2012\\n•\\tDURAN N.; MARCATO, P.D.; M.; YADAV, A.; GADE, A.; RAI, M. Mechanistic aspects in the biogenic synthesis of extracellular metal nanoparticles by peptides, bacteria, fungi, and plants. Appl. Microbiol. Biotechnol., 90, 1609-1624, 2011.\\n•\\tFAYED, MUHAMMED E.; OTTEN, LAMBERT. Handbook of Powder Science and Technology (2nd Edition), Springer – Verlag, 1997, 948 p.\\n•\\tFLORENCE, A.T., ATTWOOD, D. Princípios Físico-Químicos em Farmácia, EDUSP, 2003.\\u2028\\n•\\tFLUHR, Practical Aspects of Cosmetic Testing. Springer. Berlin, 2011.\\n•\\tFOUST, CLUMP, MAUS, ANDERSEN - Princípios das Operações Unitárias, Ed. Guanabara Dois, Rio de Janeiro - R.J., 2a  edição, 1982, 684 pg.\\n•\\tGOMIDE, R. - Operações Unitárias, vol. III - Separações Mecânicas, Ed. R. Gomide, São Paulo, 1980.\\n•\\tGUTERRES, S.S. AND ALVES, O.L. (Eds). Nanotoxicology: Materials, methodologies, and assessments. Springer, 2012.\\n•\\tHandbook of Pharmaceutical Excipients. (1986) American Pharmaceutical Association and The Pharmaceutical Society of Great Britain.\\n•\\tJEANNIN, C.; MANGEOT, A. & VERAIN, A. - Galenica Pharmaceutique, Technique et Cocumentation (Lavoisier, 1982.\\n•\\tKENNETH E. AVIS, ATUL J. SHUKLA, RONG-KUN CHANG.  Pharmaceutical Unit Operations: Coating, Drug Manufacturing Technology Series vol. 3, Interpharm/CRC, Boca Raton, 1998.\\n•\\tLACHMAN, LEON LIEBERMAN, H.A. & KANING, JOSEPH, L. - Teoria e Prática na Indústria Farmacêutica. V.2, Fundação. Calouste Gulbenkian, Lisboa, 2001.\\n•\\tLEONARDI, G. R. ; SPERS, V. R. E. (Org.) . Cosmetologia e Empreendedorismo: Perspectivas para a Criação de Novos Negócios. 1. ed. São Paulo: Pharmabooks, 2015. v. 1. 568p.\\n•\\tLEONARDI, G. R. Cosmetologia Aplicada. Medfarma. 1a. ed. P.92-93, 2004.\\n•\\tLEVENSPIEL, O. - Engenharia das Reações Químicas. Tradução: Sérgio Fuchs Calil & Pedro Maurício Buchler, São Paulo, Edgard Bluchler, EDUSP, 1974.\\n•\\tLIEBERMAN, H. A., LACHMAN, L., Pharmaceutical Dosage Forms: Tablets, Marcel Dekker, New York, 1980, Vol. 1, Vol 2, Vol 3.\\u2028\\n•\\tLIEBERMAN, H. A., RIEGER, M.M., BANKER, G.S. Pharmaceutical Dosage Forms: Disperse Systems, Marcel Dekker, New York, 1988, Vol. 1, Vol2.\\n•\\tLIEBERMAN, H.A.; LACHMAN, L.; KANIG, J.L. The theory and practice of industrial Pharmacy, 3rd edition (1986), Lea & Febiger, Philadelphia.\\n•\\tMAIA CAMPOS, P.M.B.G.; BONTEMPO, E.M.B.G. LEONARDI, G.L. Formulário Dermocosmético 2. São Paulo: Tecnopress, 1999.\\n•\\tMARCATO, P. D. Preparação, caracterização e aplicações em fármacos e cosméticos de nanopartículas lipídicas sólidas. Rev. Eletronica Fármacia 6, 1-37, 2009 \\n•\\tMARCATO, P.D.; DURAN, N. New Aspects of Nanopharmaceutical Delivery Systems. J. Nanosci. Nanotechnol., 8, 2216-2229, 2008\\n•\\tMARTINDALE, The Extra Pharmacopoeia, 34a Ed, 2005.\\u2028PINTO, T.J.A., KANEKO, T.M., OHARA, M.T. Controle Biológico de Qualidade de Produtos farmacêuticos, Correlatos e Cosméticos. 2a Edição, Atheneu Editora São Paulo, São Paulo, 2003.\\u2028\\n•\\tMcCABE, W.L.; SMITH, J.C. & HARRIOT, P. - Unit Operations of Chemical Engineering, 6ªed., McGraw-Hill, 2001.\\n•\\tMENDES, R.G.; BACHMATIUK, A.; BÜCHNER, B.; CUNIBERTI, G.; RÜMMELI, M.H. Carbon nanostructures as multi-functional drug delivery platforms. J. Mater. Chem. B, 1, 401-428, 2013. \\n•\\tMUSSI, S.V.; TORCHILIN, V.P. Recent trends in the use of lipidic nanoparticles as pharmaceutical carriers for cancer therapy and diagnostics. J. Mater. Chem. B. 1, 5201-5209, 2013.\\n•\\tPARK, K.; SHALABY,W.S.W.; Park H. Biodegradable hydrogels for drug delivery (1994) Tecnomic Publishing Company, Inc. Pennsylvania.\\n•\\tPEYREFITTE & SHVOT. Cosmetologia/ Biologia Geral/ Biologia de Pele. São Paulo: Andrei (ed. Português). 1998.\\n-\\tPINTO, T.J.A.; KANEKO, T.M.; PINTO, A.F. Controle biológico de qualidade de produtos farmacêuticos, correlatos e cosméticos. 3ª Ed., Ateneu Editora, São Paulo, pags. 780, 2010.\\n•\\tREIS, C.P.; NEUFELD, R.J.; RIBEIRO, A.J.; VEIGA, F. Nanoencapsulation I. Methods for preparation of drug-loaded polymeric nanoparticles. Nanomedicine: Nanotechnol., Biol., Med. 2, 8-21, 2006.\\n•\\tREMINGTON’S PHARMACEUTICAL SCIENCES, 16a Ed., Mack Publishing Company, Easton, Pennsylvania, 1980. SINKO, P.J. Martin – Físico-farmácia e Ciências Farmacêuticas, 5a Edição, Editora Artmed, Porto Alegre, 2008.\\u2028\\n•\\tREYNOLDS, E.F. Martindale: The extra Pharmacopoeia, 31th edition (1996), The Royal Pharmaceutical Society, London .\\n•\\tRIEGER, M.M. Harry´s Cosmeticology. 8ed. New York: Chemical Publishing Co., 2000.\\n•\\tROBERT H. PERRY, DON W. GREEN. Perry's Chemical Engineers' Handbook, 7th Ed., 1997.\\n•\\tSCHAFFAZICK, S.R.; GUTERRES, S.S; FREITAS, L.L.; POHLMANN, A.R. Caracterização e estabilidade físico-química de sistemas poliméricos nanoparticulados para administração de fármacos. Quim. Nova, 26, 726-737, 2003.\\n•\\tSCHUBERT, S.; DELANEY, J.T.; SCHUBERT, U.S. Nanoprecipitation and nanoformulation of polymers: from history to powerful possibilities beyond poly(lactic acid). Soft Matter, 7, 1581–1588, 2011\\n•\\tTHE INDEX MERCK - 12a Ed., Merck e Co., Inc., Rahaway, N.J. USA, 1996.\\u2028\\n•\\tTHONSON, J. E. A prática Farmacêutica na Manipulação de Medicamentos. Editora Artmed, Porto Alegre, 2006. \\n•\\tTURCO, S.J. Sterile Dosage Forms, their preparation and clinical application, 4/E. 4th Ed. Lea & Febige, Philadelphia, 1994.\\n-\\tUNITED STATES PHARMACOPOEIA. 34th ed. Rockville: United States Pharmacopoeia Convention, 2011.\\n•\\tWELLS, J.I.; ELLIS, H. Pharmaceutical Preformulation (1988), Williams & Wilkins, Baltimore.\\n•\\tWERTHEIMER, A. I.; SMITH, M.C. Pharmacy Practice: Social and behavioral aspects. 3rd edition (1989), Williams & Wilkins, Baltimore.\\n•\\tWILKINSON, J.B. Cosmetologia de Harry, Barcelona (ed. Espanhol). 1990.\",\n",
              " 'requisitos': ['CGF2039', 'CGF2047', 'CGF2053']}"
            ]
          },
          "metadata": {},
          "execution_count": 125
        }
      ]
    },
    {
      "cell_type": "code",
      "source": [
        "courses = getCourseList()\n",
        "courses"
      ],
      "metadata": {
        "colab": {
          "base_uri": "https://localhost:8080/"
        },
        "id": "d_VJNCIqkqmG",
        "outputId": "e63be81c-7d14-4a5e-dd46-5ac98d171ed7"
      },
      "execution_count": 127,
      "outputs": [
        {
          "output_type": "execute_result",
          "data": {
            "text/plain": [
              "['CGF2032',\n",
              " 'CGF2101',\n",
              " 'CGF2105',\n",
              " 'CGF2037',\n",
              " 'CGF2074',\n",
              " 'CGF2019',\n",
              " 'CGF2030',\n",
              " 'CGF2053',\n",
              " 'CGF2093',\n",
              " 'CGF2109',\n",
              " 'CGF2087',\n",
              " 'CGF2044',\n",
              " 'CGF2048',\n",
              " 'CGF2027',\n",
              " 'CGF2031',\n",
              " 'CGF2067',\n",
              " 'CGF2016',\n",
              " 'CGF2057',\n",
              " 'CGF2092',\n",
              " 'CGF2111',\n",
              " 'CGF2078',\n",
              " 'CGF2061',\n",
              " 'CGF2035',\n",
              " 'CGF2039',\n",
              " 'CGF2017',\n",
              " 'CGF2073',\n",
              " 'CGF2099',\n",
              " 'CGF2085',\n",
              " 'CGF2086',\n",
              " 'CGF2063',\n",
              " 'CGF2062',\n",
              " 'CGF2059',\n",
              " 'CGF2065',\n",
              " 'CGF2036',\n",
              " 'CGF2028',\n",
              " 'CGF2088',\n",
              " 'CGF2104',\n",
              " 'CGF2002',\n",
              " 'CGF2107',\n",
              " 'CGF2026',\n",
              " 'CGF2034',\n",
              " 'CGF2018',\n",
              " 'CGF2077',\n",
              " 'CGF2096',\n",
              " 'CGF2022',\n",
              " 'CGF2033',\n",
              " 'CGF2110',\n",
              " 'CGF2069',\n",
              " 'CGF2014',\n",
              " 'CGF2080',\n",
              " 'CGF2015',\n",
              " 'CGF2009',\n",
              " 'CGF2070',\n",
              " 'CGF2090',\n",
              " 'CGF2049',\n",
              " 'CGF2102',\n",
              " 'CGF2021',\n",
              " 'CGF2072',\n",
              " 'CGF2106',\n",
              " 'CGF2029',\n",
              " 'CGF2040',\n",
              " 'CGF2003',\n",
              " 'CGF2046',\n",
              " 'CGF2047',\n",
              " 'CGF2084',\n",
              " 'CGF2108',\n",
              " 'CGF2007',\n",
              " 'CGF2056',\n",
              " 'CGF2045',\n",
              " 'CGF2025',\n",
              " 'CGF2094',\n",
              " 'CGF2052',\n",
              " 'CGF2041',\n",
              " 'CGF2023',\n",
              " 'CGF2071',\n",
              " 'CGF2103',\n",
              " 'CGF2011',\n",
              " 'CGF2089',\n",
              " 'CGF2038',\n",
              " 'CGF2020',\n",
              " 'CGF2095',\n",
              " 'CGF2024',\n",
              " 'CGF2079',\n",
              " 'CGF2013',\n",
              " 'CGF2100',\n",
              " 'CGF2054',\n",
              " 'CGF2004',\n",
              " 'CGF2083',\n",
              " 'CGF2008',\n",
              " 'CGF2091',\n",
              " 'CGF2050']"
            ]
          },
          "metadata": {},
          "execution_count": 127
        }
      ]
    },
    {
      "cell_type": "code",
      "source": [
        "len(courses)"
      ],
      "metadata": {
        "colab": {
          "base_uri": "https://localhost:8080/"
        },
        "id": "M7TM0c8lmBRj",
        "outputId": "9a1b7707-b530-4b7d-834c-6310a21c9c2c"
      },
      "execution_count": 129,
      "outputs": [
        {
          "output_type": "execute_result",
          "data": {
            "text/plain": [
              "91"
            ]
          },
          "metadata": {},
          "execution_count": 129
        }
      ]
    },
    {
      "cell_type": "code",
      "source": [
        "dcourses = []\n",
        "for c in courses:\n",
        "    dcourses.append(getCourseInfo(c))\n",
        "    print(c)"
      ],
      "metadata": {
        "colab": {
          "base_uri": "https://localhost:8080/"
        },
        "id": "oUrVQV5Zlwf3",
        "outputId": "338a7561-4f10-4151-b220-1f836fbc5d0a"
      },
      "execution_count": 128,
      "outputs": [
        {
          "output_type": "stream",
          "name": "stdout",
          "text": [
            "CGF2032\n",
            "CGF2101\n",
            "CGF2105\n",
            "CGF2037\n",
            "CGF2074\n",
            "CGF2019\n",
            "CGF2030\n",
            "CGF2053\n",
            "CGF2093\n",
            "CGF2109\n",
            "CGF2087\n",
            "CGF2044\n",
            "CGF2048\n",
            "CGF2027\n",
            "CGF2031\n",
            "CGF2067\n",
            "CGF2016\n",
            "CGF2057\n",
            "CGF2092\n",
            "CGF2111\n",
            "CGF2078\n",
            "CGF2061\n",
            "CGF2035\n",
            "CGF2039\n",
            "CGF2017\n",
            "CGF2073\n",
            "CGF2099\n",
            "CGF2085\n",
            "CGF2086\n",
            "CGF2063\n",
            "CGF2062\n",
            "CGF2059\n",
            "CGF2065\n",
            "CGF2036\n",
            "CGF2028\n",
            "CGF2088\n",
            "CGF2104\n",
            "CGF2002\n",
            "CGF2107\n",
            "CGF2026\n",
            "CGF2034\n",
            "CGF2018\n",
            "CGF2077\n",
            "CGF2096\n",
            "CGF2022\n",
            "CGF2033\n",
            "CGF2110\n",
            "CGF2069\n",
            "CGF2014\n",
            "CGF2080\n",
            "CGF2015\n",
            "CGF2009\n",
            "CGF2070\n",
            "CGF2090\n",
            "CGF2049\n",
            "CGF2102\n",
            "CGF2021\n",
            "CGF2072\n",
            "CGF2106\n",
            "CGF2029\n",
            "CGF2040\n",
            "CGF2003\n",
            "CGF2046\n",
            "CGF2047\n",
            "CGF2084\n",
            "CGF2108\n",
            "CGF2007\n",
            "CGF2056\n",
            "CGF2045\n",
            "CGF2025\n",
            "CGF2094\n",
            "CGF2052\n",
            "CGF2041\n",
            "CGF2023\n",
            "CGF2071\n",
            "CGF2103\n",
            "CGF2011\n",
            "CGF2089\n",
            "CGF2038\n",
            "CGF2020\n",
            "CGF2095\n",
            "CGF2024\n",
            "CGF2079\n",
            "CGF2013\n",
            "CGF2100\n",
            "CGF2054\n",
            "CGF2004\n",
            "CGF2083\n",
            "CGF2008\n",
            "CGF2091\n",
            "CGF2050\n"
          ]
        }
      ]
    },
    {
      "cell_type": "code",
      "source": [
        "import json\n",
        "\n",
        "with open('courses.json', 'w') as f:\n",
        "    json.dump(dcourses, f, indent=True)"
      ],
      "metadata": {
        "id": "Phpxxyclmgg3"
      },
      "execution_count": 131,
      "outputs": []
    },
    {
      "cell_type": "code",
      "source": [
        "dcourses[0]"
      ],
      "metadata": {
        "colab": {
          "base_uri": "https://localhost:8080/"
        },
        "id": "AU34dGJFmnjn",
        "outputId": "1be6226e-8b2f-461d-db8f-367e4aaf6cec"
      },
      "execution_count": 132,
      "outputs": [
        {
          "output_type": "execute_result",
          "data": {
            "text/plain": [
              "{'name': 'CGF2032 - Dinâmica de Grupo',\n",
              " 'creditos_aula': '2',\n",
              " 'creditos_trabalho': '0',\n",
              " 'carga_horaria': '30',\n",
              " 'docentes': '2088350- Pedro Alves da Rocha Filho',\n",
              " 'programa_resumido': 'A disciplina abrange os tópicos necessários para que os alunos tenham contato com exercícios de dinâmica de grupo que podem ser empregados nas diferentes empresas, como etapa final do processo seletivo para estagiários.',\n",
              " 'programa': 'Programa\\n\\n\\n\\n- Apresentação.\\n- Qualidades & defeitos – como vivenciar.\\n- Aparência física.\\n- Linguagem corporal, voz.\\n- Comunicação – estilo & conteúdo\\n- Empresas & grupos.\\n- Dinâmicas: jogos & vivências.\\n- Técnicas de entrevista.\\n- Elaboração do Curriculum vitae.\\n- Palestras.',\n",
              " 'avaliacao': 'Método\\n\\n\\n \\r\\n        Aplicação de exercícios de dinâmica de grupo, tais como: aula expositiva dialogada; portfólio; tempestade cerebral; dramatização; resolução de exercícios exposições, excursões e visitas; jogos educativos ou gincanas; organização e intencionalidade; estudo de caso Aprendizagem por equipes (TBL).\\n\\n\\n\\nCritério\\n\\n\\n \\r\\n        Serão considerados aprovados os alunos que obtiverem a média final igual ou superior a 5,0 (cinco) e que tenham tido 70% de frequência às atividades didáticas. \\n\\n\\n\\nNorma de Recuperação\\n\\n\\n \\r\\n        De acordo com as atividades desenvolvidas pelos alunos, a recuperação será realizada por aplicação de uma prova escrita ou um trabalho escrito ou prático. O período de recuperação será fixado pela Comissão de Graduação.',\n",
              " 'bibliografia': 'Dimitrius, Jo-Ellen – Decifrar pessoas: como entender e prever o comportamento humano. São Paulo, Alegro, 2001.\\nDimitrius, Jo-Ellen – Começando com o pé direito. São Paulo, Alegro, 2001.\\nMilitão, Albigenor & Rose – Jogos, Dinâmicas & Vivências Grupais. Qualitimark Editora Ltda., 248p, 2000.\\nMinicucci, Agostinho – Técnicas do trabalho em grupo: condução de reuniões, entrevistas e estudo dirigido, mesa-redonda e estudos de casos, simpósio e conferência, organização de congresso. São Paulo. Ed. Atlas, 3ª edição, 2001.',\n",
              " 'requisitos': []}"
            ]
          },
          "metadata": {},
          "execution_count": 132
        }
      ]
    },
    {
      "cell_type": "code",
      "source": [
        "dt = getCourseInfo('CGF2062')\n",
        "dt['docentes']"
      ],
      "metadata": {
        "colab": {
          "base_uri": "https://localhost:8080/",
          "height": 161
        },
        "id": "ZrNdXEOFoAGt",
        "outputId": "3eec3be9-1cba-482e-ed01-e7c07e701d26"
      },
      "execution_count": 138,
      "outputs": [
        {
          "output_type": "execute_result",
          "data": {
            "text/plain": [
              "'147605- Cristiane Masetto de Gaitani\\n\\n\\n\\n \\r\\n              3157348 - Fabiana Testa Moura de Carvalho Vicentini\\n\\n\\n\\n \\r\\n              59419 - Luis Alexandre Pedro de Freitas\\n\\n\\n\\n \\r\\n              1203996 - Marcia Eliana da Silva Ferreira\\n\\n\\n\\n \\r\\n              88304 - Maria Jose Vieira Fonseca\\n\\n\\n\\n \\r\\n              55669 - Maria Vitoria Lopes Badra Bentley\\n\\n\\n\\n \\r\\n              1299677 - Marilisa Guimarães Lara\\n\\n\\n\\n \\r\\n              2087791 - Osvaldo de Freitas\\n\\n\\n\\n \\r\\n              7410150 - Priscyla Daniely Marcato Gaspari\\n\\n\\n\\n \\r\\n              1894010 - Renata Fonseca Vianna Lopez\\n\\n\\n\\n \\r\\n              2091031 - Wanderley Pereira de Oliveira'"
            ],
            "application/vnd.google.colaboratory.intrinsic+json": {
              "type": "string"
            }
          },
          "metadata": {},
          "execution_count": 138
        }
      ]
    },
    {
      "cell_type": "code",
      "source": [
        "re.sub('\\s{2,}', ',', dt['docentes'])"
      ],
      "metadata": {
        "colab": {
          "base_uri": "https://localhost:8080/",
          "height": 126
        },
        "id": "wBV7NE4_oaXI",
        "outputId": "413e3102-79cc-41d2-d505-dc6d9a61313d"
      },
      "execution_count": 137,
      "outputs": [
        {
          "output_type": "execute_result",
          "data": {
            "text/plain": [
              "'147605- Cristiane Masetto de Gaitani,3157348 - Fabiana Testa Moura de Carvalho Vicentini,59419 - Luis Alexandre Pedro de Freitas,1203996 - Marcia Eliana da Silva Ferreira,88304 - Maria Jose Vieira Fonseca,55669 - Maria Vitoria Lopes Badra Bentley,1299677 - Marilisa Guimarães Lara,2087791 - Osvaldo de Freitas,7410150 - Priscyla Daniely Marcato Gaspari,1894010 - Renata Fonseca Vianna Lopez,2091031 - Wanderley Pereira de Oliveira'"
            ],
            "application/vnd.google.colaboratory.intrinsic+json": {
              "type": "string"
            }
          },
          "metadata": {},
          "execution_count": 137
        }
      ]
    },
    {
      "cell_type": "code",
      "source": [
        "sdict = []\n",
        "\n",
        "for d in dcourses:\n",
        "    d.pop(\"programa_resumido\")\n",
        "    d.pop(\"programa\")\n",
        "    d.pop(\"avaliacao\")\n",
        "    d.pop(\"bibliografia\")\n",
        "    d[\"requisitos\"] = ', '.join(d[\"requisitos\"])\n",
        "    d[\"docentes\"] = re.sub('\\s{2,}', ',', d['docentes'])\n",
        "    sdict.append(d)"
      ],
      "metadata": {
        "id": "IM0qRJxemwd4"
      },
      "execution_count": 139,
      "outputs": []
    },
    {
      "cell_type": "code",
      "source": [
        "courses[:5]"
      ],
      "metadata": {
        "colab": {
          "base_uri": "https://localhost:8080/"
        },
        "id": "ya7emSuIqvdO",
        "outputId": "4944bd88-ff29-4b3a-eda3-8a9a029b0ca6"
      },
      "execution_count": 141,
      "outputs": [
        {
          "output_type": "execute_result",
          "data": {
            "text/plain": [
              "['CGF2032', 'CGF2101', 'CGF2105', 'CGF2037', 'CGF2074']"
            ]
          },
          "metadata": {},
          "execution_count": 141
        }
      ]
    },
    {
      "cell_type": "code",
      "source": [
        "courses.index('CGF2004')"
      ],
      "metadata": {
        "colab": {
          "base_uri": "https://localhost:8080/"
        },
        "id": "Cdvs9fuXq5j5",
        "outputId": "ac8d5318-1111-499e-a543-b7db1585d715"
      },
      "execution_count": 142,
      "outputs": [
        {
          "output_type": "execute_result",
          "data": {
            "text/plain": [
              "86"
            ]
          },
          "metadata": {},
          "execution_count": 142
        }
      ]
    },
    {
      "cell_type": "code",
      "source": [
        "import pandas as pd\n",
        "\n",
        "df = pd.DataFrame(sdict)\n",
        "df"
      ],
      "metadata": {
        "colab": {
          "base_uri": "https://localhost:8080/",
          "height": 895
        },
        "id": "c32Y6Rm5ooil",
        "outputId": "d6de37d2-6df7-4a32-919a-fdf91988f8db"
      },
      "execution_count": 140,
      "outputs": [
        {
          "output_type": "execute_result",
          "data": {
            "text/plain": [
              "                                                 name creditos_aula  \\\n",
              "0                         CGF2032 - Dinâmica de Grupo             2   \n",
              "1   CGF2101 - Trabalho de Conclusão de Curso I - E...             2   \n",
              "2   CGF2105 - Extenfarma I: amplificando a formaçã...             2   \n",
              "3                   CGF2037 - Bioquímica Experimental             5   \n",
              "4   CGF2074 - Farmácia Clínica e Cuidado Farmacêut...             3   \n",
              "..                                                ...           ...   \n",
              "86                   CGF2004 - Atividades de Extensão             0   \n",
              "87                   CGF2083 - Atividades de Extensão             0   \n",
              "88                       CGF2008 - Estágio Curricular             2   \n",
              "89               CGF2091 - Assistência Farmacêutica I             2   \n",
              "90  CGF2050 - Planejamento e Desenvolvimento de Fá...             1   \n",
              "\n",
              "   creditos_trabalho carga_horaria  \\\n",
              "0                  0            30   \n",
              "1                  0            30   \n",
              "2                  2            90   \n",
              "3                  1           105   \n",
              "4                  0            45   \n",
              "..               ...           ...   \n",
              "86                 1            30   \n",
              "87                 1            30   \n",
              "88                20           630   \n",
              "89                 0            30   \n",
              "90                 0            15   \n",
              "\n",
              "                                             docentes  \\\n",
              "0                 2088350- Pedro Alves da Rocha Filho   \n",
              "1   599944- Ana Patricia Yatsuda Natsui,325187 - C...   \n",
              "2   10172401- Fabiana Rossi Varallo,5023165 - Hosa...   \n",
              "3   72554- Carem Gledes Vargas Rechia,5212792 - Ca...   \n",
              "4   10172401- Fabiana Rossi Varallo,3084351 - Leon...   \n",
              "..                                                ...   \n",
              "86               147605- Cristiane Masetto de Gaitani   \n",
              "87               147605- Cristiane Masetto de Gaitani   \n",
              "88  10172401- Fabiana Rossi Varallo,3157348 - Fabi...   \n",
              "89  10172401- Fabiana Rossi Varallo,3084351 - Leon...   \n",
              "90  2101222- Carlos Henrique Tomich de Paula da Si...   \n",
              "\n",
              "                   requisitos  \n",
              "0                              \n",
              "1                              \n",
              "2                              \n",
              "3   CGF2036, CGF2028, CGF2027  \n",
              "4                              \n",
              "..                        ...  \n",
              "86                             \n",
              "87                             \n",
              "88                             \n",
              "89                             \n",
              "90                    CGF2040  \n",
              "\n",
              "[91 rows x 6 columns]"
            ],
            "text/html": [
              "\n",
              "  <div id=\"df-5c4e0129-7c7f-459a-9ff4-9c0f44476653\" class=\"colab-df-container\">\n",
              "    <div>\n",
              "<style scoped>\n",
              "    .dataframe tbody tr th:only-of-type {\n",
              "        vertical-align: middle;\n",
              "    }\n",
              "\n",
              "    .dataframe tbody tr th {\n",
              "        vertical-align: top;\n",
              "    }\n",
              "\n",
              "    .dataframe thead th {\n",
              "        text-align: right;\n",
              "    }\n",
              "</style>\n",
              "<table border=\"1\" class=\"dataframe\">\n",
              "  <thead>\n",
              "    <tr style=\"text-align: right;\">\n",
              "      <th></th>\n",
              "      <th>name</th>\n",
              "      <th>creditos_aula</th>\n",
              "      <th>creditos_trabalho</th>\n",
              "      <th>carga_horaria</th>\n",
              "      <th>docentes</th>\n",
              "      <th>requisitos</th>\n",
              "    </tr>\n",
              "  </thead>\n",
              "  <tbody>\n",
              "    <tr>\n",
              "      <th>0</th>\n",
              "      <td>CGF2032 - Dinâmica de Grupo</td>\n",
              "      <td>2</td>\n",
              "      <td>0</td>\n",
              "      <td>30</td>\n",
              "      <td>2088350- Pedro Alves da Rocha Filho</td>\n",
              "      <td></td>\n",
              "    </tr>\n",
              "    <tr>\n",
              "      <th>1</th>\n",
              "      <td>CGF2101 - Trabalho de Conclusão de Curso I - E...</td>\n",
              "      <td>2</td>\n",
              "      <td>0</td>\n",
              "      <td>30</td>\n",
              "      <td>599944- Ana Patricia Yatsuda Natsui,325187 - C...</td>\n",
              "      <td></td>\n",
              "    </tr>\n",
              "    <tr>\n",
              "      <th>2</th>\n",
              "      <td>CGF2105 - Extenfarma I: amplificando a formaçã...</td>\n",
              "      <td>2</td>\n",
              "      <td>2</td>\n",
              "      <td>90</td>\n",
              "      <td>10172401- Fabiana Rossi Varallo,5023165 - Hosa...</td>\n",
              "      <td></td>\n",
              "    </tr>\n",
              "    <tr>\n",
              "      <th>3</th>\n",
              "      <td>CGF2037 - Bioquímica Experimental</td>\n",
              "      <td>5</td>\n",
              "      <td>1</td>\n",
              "      <td>105</td>\n",
              "      <td>72554- Carem Gledes Vargas Rechia,5212792 - Ca...</td>\n",
              "      <td>CGF2036, CGF2028, CGF2027</td>\n",
              "    </tr>\n",
              "    <tr>\n",
              "      <th>4</th>\n",
              "      <td>CGF2074 - Farmácia Clínica e Cuidado Farmacêut...</td>\n",
              "      <td>3</td>\n",
              "      <td>0</td>\n",
              "      <td>45</td>\n",
              "      <td>10172401- Fabiana Rossi Varallo,3084351 - Leon...</td>\n",
              "      <td></td>\n",
              "    </tr>\n",
              "    <tr>\n",
              "      <th>...</th>\n",
              "      <td>...</td>\n",
              "      <td>...</td>\n",
              "      <td>...</td>\n",
              "      <td>...</td>\n",
              "      <td>...</td>\n",
              "      <td>...</td>\n",
              "    </tr>\n",
              "    <tr>\n",
              "      <th>86</th>\n",
              "      <td>CGF2004 - Atividades de Extensão</td>\n",
              "      <td>0</td>\n",
              "      <td>1</td>\n",
              "      <td>30</td>\n",
              "      <td>147605- Cristiane Masetto de Gaitani</td>\n",
              "      <td></td>\n",
              "    </tr>\n",
              "    <tr>\n",
              "      <th>87</th>\n",
              "      <td>CGF2083 - Atividades de Extensão</td>\n",
              "      <td>0</td>\n",
              "      <td>1</td>\n",
              "      <td>30</td>\n",
              "      <td>147605- Cristiane Masetto de Gaitani</td>\n",
              "      <td></td>\n",
              "    </tr>\n",
              "    <tr>\n",
              "      <th>88</th>\n",
              "      <td>CGF2008 - Estágio Curricular</td>\n",
              "      <td>2</td>\n",
              "      <td>20</td>\n",
              "      <td>630</td>\n",
              "      <td>10172401- Fabiana Rossi Varallo,3157348 - Fabi...</td>\n",
              "      <td></td>\n",
              "    </tr>\n",
              "    <tr>\n",
              "      <th>89</th>\n",
              "      <td>CGF2091 - Assistência Farmacêutica I</td>\n",
              "      <td>2</td>\n",
              "      <td>0</td>\n",
              "      <td>30</td>\n",
              "      <td>10172401- Fabiana Rossi Varallo,3084351 - Leon...</td>\n",
              "      <td></td>\n",
              "    </tr>\n",
              "    <tr>\n",
              "      <th>90</th>\n",
              "      <td>CGF2050 - Planejamento e Desenvolvimento de Fá...</td>\n",
              "      <td>1</td>\n",
              "      <td>0</td>\n",
              "      <td>15</td>\n",
              "      <td>2101222- Carlos Henrique Tomich de Paula da Si...</td>\n",
              "      <td>CGF2040</td>\n",
              "    </tr>\n",
              "  </tbody>\n",
              "</table>\n",
              "<p>91 rows × 6 columns</p>\n",
              "</div>\n",
              "    <div class=\"colab-df-buttons\">\n",
              "\n",
              "  <div class=\"colab-df-container\">\n",
              "    <button class=\"colab-df-convert\" onclick=\"convertToInteractive('df-5c4e0129-7c7f-459a-9ff4-9c0f44476653')\"\n",
              "            title=\"Convert this dataframe to an interactive table.\"\n",
              "            style=\"display:none;\">\n",
              "\n",
              "  <svg xmlns=\"http://www.w3.org/2000/svg\" height=\"24px\" viewBox=\"0 -960 960 960\">\n",
              "    <path d=\"M120-120v-720h720v720H120Zm60-500h600v-160H180v160Zm220 220h160v-160H400v160Zm0 220h160v-160H400v160ZM180-400h160v-160H180v160Zm440 0h160v-160H620v160ZM180-180h160v-160H180v160Zm440 0h160v-160H620v160Z\"/>\n",
              "  </svg>\n",
              "    </button>\n",
              "\n",
              "  <style>\n",
              "    .colab-df-container {\n",
              "      display:flex;\n",
              "      gap: 12px;\n",
              "    }\n",
              "\n",
              "    .colab-df-convert {\n",
              "      background-color: #E8F0FE;\n",
              "      border: none;\n",
              "      border-radius: 50%;\n",
              "      cursor: pointer;\n",
              "      display: none;\n",
              "      fill: #1967D2;\n",
              "      height: 32px;\n",
              "      padding: 0 0 0 0;\n",
              "      width: 32px;\n",
              "    }\n",
              "\n",
              "    .colab-df-convert:hover {\n",
              "      background-color: #E2EBFA;\n",
              "      box-shadow: 0px 1px 2px rgba(60, 64, 67, 0.3), 0px 1px 3px 1px rgba(60, 64, 67, 0.15);\n",
              "      fill: #174EA6;\n",
              "    }\n",
              "\n",
              "    .colab-df-buttons div {\n",
              "      margin-bottom: 4px;\n",
              "    }\n",
              "\n",
              "    [theme=dark] .colab-df-convert {\n",
              "      background-color: #3B4455;\n",
              "      fill: #D2E3FC;\n",
              "    }\n",
              "\n",
              "    [theme=dark] .colab-df-convert:hover {\n",
              "      background-color: #434B5C;\n",
              "      box-shadow: 0px 1px 3px 1px rgba(0, 0, 0, 0.15);\n",
              "      filter: drop-shadow(0px 1px 2px rgba(0, 0, 0, 0.3));\n",
              "      fill: #FFFFFF;\n",
              "    }\n",
              "  </style>\n",
              "\n",
              "    <script>\n",
              "      const buttonEl =\n",
              "        document.querySelector('#df-5c4e0129-7c7f-459a-9ff4-9c0f44476653 button.colab-df-convert');\n",
              "      buttonEl.style.display =\n",
              "        google.colab.kernel.accessAllowed ? 'block' : 'none';\n",
              "\n",
              "      async function convertToInteractive(key) {\n",
              "        const element = document.querySelector('#df-5c4e0129-7c7f-459a-9ff4-9c0f44476653');\n",
              "        const dataTable =\n",
              "          await google.colab.kernel.invokeFunction('convertToInteractive',\n",
              "                                                    [key], {});\n",
              "        if (!dataTable) return;\n",
              "\n",
              "        const docLinkHtml = 'Like what you see? Visit the ' +\n",
              "          '<a target=\"_blank\" href=https://colab.research.google.com/notebooks/data_table.ipynb>data table notebook</a>'\n",
              "          + ' to learn more about interactive tables.';\n",
              "        element.innerHTML = '';\n",
              "        dataTable['output_type'] = 'display_data';\n",
              "        await google.colab.output.renderOutput(dataTable, element);\n",
              "        const docLink = document.createElement('div');\n",
              "        docLink.innerHTML = docLinkHtml;\n",
              "        element.appendChild(docLink);\n",
              "      }\n",
              "    </script>\n",
              "  </div>\n",
              "\n",
              "\n",
              "<div id=\"df-2cc31d87-fd8b-48a2-befe-5f387b0fdde1\">\n",
              "  <button class=\"colab-df-quickchart\" onclick=\"quickchart('df-2cc31d87-fd8b-48a2-befe-5f387b0fdde1')\"\n",
              "            title=\"Suggest charts\"\n",
              "            style=\"display:none;\">\n",
              "\n",
              "<svg xmlns=\"http://www.w3.org/2000/svg\" height=\"24px\"viewBox=\"0 0 24 24\"\n",
              "     width=\"24px\">\n",
              "    <g>\n",
              "        <path d=\"M19 3H5c-1.1 0-2 .9-2 2v14c0 1.1.9 2 2 2h14c1.1 0 2-.9 2-2V5c0-1.1-.9-2-2-2zM9 17H7v-7h2v7zm4 0h-2V7h2v10zm4 0h-2v-4h2v4z\"/>\n",
              "    </g>\n",
              "</svg>\n",
              "  </button>\n",
              "\n",
              "<style>\n",
              "  .colab-df-quickchart {\n",
              "      --bg-color: #E8F0FE;\n",
              "      --fill-color: #1967D2;\n",
              "      --hover-bg-color: #E2EBFA;\n",
              "      --hover-fill-color: #174EA6;\n",
              "      --disabled-fill-color: #AAA;\n",
              "      --disabled-bg-color: #DDD;\n",
              "  }\n",
              "\n",
              "  [theme=dark] .colab-df-quickchart {\n",
              "      --bg-color: #3B4455;\n",
              "      --fill-color: #D2E3FC;\n",
              "      --hover-bg-color: #434B5C;\n",
              "      --hover-fill-color: #FFFFFF;\n",
              "      --disabled-bg-color: #3B4455;\n",
              "      --disabled-fill-color: #666;\n",
              "  }\n",
              "\n",
              "  .colab-df-quickchart {\n",
              "    background-color: var(--bg-color);\n",
              "    border: none;\n",
              "    border-radius: 50%;\n",
              "    cursor: pointer;\n",
              "    display: none;\n",
              "    fill: var(--fill-color);\n",
              "    height: 32px;\n",
              "    padding: 0;\n",
              "    width: 32px;\n",
              "  }\n",
              "\n",
              "  .colab-df-quickchart:hover {\n",
              "    background-color: var(--hover-bg-color);\n",
              "    box-shadow: 0 1px 2px rgba(60, 64, 67, 0.3), 0 1px 3px 1px rgba(60, 64, 67, 0.15);\n",
              "    fill: var(--button-hover-fill-color);\n",
              "  }\n",
              "\n",
              "  .colab-df-quickchart-complete:disabled,\n",
              "  .colab-df-quickchart-complete:disabled:hover {\n",
              "    background-color: var(--disabled-bg-color);\n",
              "    fill: var(--disabled-fill-color);\n",
              "    box-shadow: none;\n",
              "  }\n",
              "\n",
              "  .colab-df-spinner {\n",
              "    border: 2px solid var(--fill-color);\n",
              "    border-color: transparent;\n",
              "    border-bottom-color: var(--fill-color);\n",
              "    animation:\n",
              "      spin 1s steps(1) infinite;\n",
              "  }\n",
              "\n",
              "  @keyframes spin {\n",
              "    0% {\n",
              "      border-color: transparent;\n",
              "      border-bottom-color: var(--fill-color);\n",
              "      border-left-color: var(--fill-color);\n",
              "    }\n",
              "    20% {\n",
              "      border-color: transparent;\n",
              "      border-left-color: var(--fill-color);\n",
              "      border-top-color: var(--fill-color);\n",
              "    }\n",
              "    30% {\n",
              "      border-color: transparent;\n",
              "      border-left-color: var(--fill-color);\n",
              "      border-top-color: var(--fill-color);\n",
              "      border-right-color: var(--fill-color);\n",
              "    }\n",
              "    40% {\n",
              "      border-color: transparent;\n",
              "      border-right-color: var(--fill-color);\n",
              "      border-top-color: var(--fill-color);\n",
              "    }\n",
              "    60% {\n",
              "      border-color: transparent;\n",
              "      border-right-color: var(--fill-color);\n",
              "    }\n",
              "    80% {\n",
              "      border-color: transparent;\n",
              "      border-right-color: var(--fill-color);\n",
              "      border-bottom-color: var(--fill-color);\n",
              "    }\n",
              "    90% {\n",
              "      border-color: transparent;\n",
              "      border-bottom-color: var(--fill-color);\n",
              "    }\n",
              "  }\n",
              "</style>\n",
              "\n",
              "  <script>\n",
              "    async function quickchart(key) {\n",
              "      const quickchartButtonEl =\n",
              "        document.querySelector('#' + key + ' button');\n",
              "      quickchartButtonEl.disabled = true;  // To prevent multiple clicks.\n",
              "      quickchartButtonEl.classList.add('colab-df-spinner');\n",
              "      try {\n",
              "        const charts = await google.colab.kernel.invokeFunction(\n",
              "            'suggestCharts', [key], {});\n",
              "      } catch (error) {\n",
              "        console.error('Error during call to suggestCharts:', error);\n",
              "      }\n",
              "      quickchartButtonEl.classList.remove('colab-df-spinner');\n",
              "      quickchartButtonEl.classList.add('colab-df-quickchart-complete');\n",
              "    }\n",
              "    (() => {\n",
              "      let quickchartButtonEl =\n",
              "        document.querySelector('#df-2cc31d87-fd8b-48a2-befe-5f387b0fdde1 button');\n",
              "      quickchartButtonEl.style.display =\n",
              "        google.colab.kernel.accessAllowed ? 'block' : 'none';\n",
              "    })();\n",
              "  </script>\n",
              "</div>\n",
              "\n",
              "  <div id=\"id_571457d6-3735-4c3b-9fbd-d4894c7e32e2\">\n",
              "    <style>\n",
              "      .colab-df-generate {\n",
              "        background-color: #E8F0FE;\n",
              "        border: none;\n",
              "        border-radius: 50%;\n",
              "        cursor: pointer;\n",
              "        display: none;\n",
              "        fill: #1967D2;\n",
              "        height: 32px;\n",
              "        padding: 0 0 0 0;\n",
              "        width: 32px;\n",
              "      }\n",
              "\n",
              "      .colab-df-generate:hover {\n",
              "        background-color: #E2EBFA;\n",
              "        box-shadow: 0px 1px 2px rgba(60, 64, 67, 0.3), 0px 1px 3px 1px rgba(60, 64, 67, 0.15);\n",
              "        fill: #174EA6;\n",
              "      }\n",
              "\n",
              "      [theme=dark] .colab-df-generate {\n",
              "        background-color: #3B4455;\n",
              "        fill: #D2E3FC;\n",
              "      }\n",
              "\n",
              "      [theme=dark] .colab-df-generate:hover {\n",
              "        background-color: #434B5C;\n",
              "        box-shadow: 0px 1px 3px 1px rgba(0, 0, 0, 0.15);\n",
              "        filter: drop-shadow(0px 1px 2px rgba(0, 0, 0, 0.3));\n",
              "        fill: #FFFFFF;\n",
              "      }\n",
              "    </style>\n",
              "    <button class=\"colab-df-generate\" onclick=\"generateWithVariable('df')\"\n",
              "            title=\"Generate code using this dataframe.\"\n",
              "            style=\"display:none;\">\n",
              "\n",
              "  <svg xmlns=\"http://www.w3.org/2000/svg\" height=\"24px\"viewBox=\"0 0 24 24\"\n",
              "       width=\"24px\">\n",
              "    <path d=\"M7,19H8.4L18.45,9,17,7.55,7,17.6ZM5,21V16.75L18.45,3.32a2,2,0,0,1,2.83,0l1.4,1.43a1.91,1.91,0,0,1,.58,1.4,1.91,1.91,0,0,1-.58,1.4L9.25,21ZM18.45,9,17,7.55Zm-12,3A5.31,5.31,0,0,0,4.9,8.1,5.31,5.31,0,0,0,1,6.5,5.31,5.31,0,0,0,4.9,4.9,5.31,5.31,0,0,0,6.5,1,5.31,5.31,0,0,0,8.1,4.9,5.31,5.31,0,0,0,12,6.5,5.46,5.46,0,0,0,6.5,12Z\"/>\n",
              "  </svg>\n",
              "    </button>\n",
              "    <script>\n",
              "      (() => {\n",
              "      const buttonEl =\n",
              "        document.querySelector('#id_571457d6-3735-4c3b-9fbd-d4894c7e32e2 button.colab-df-generate');\n",
              "      buttonEl.style.display =\n",
              "        google.colab.kernel.accessAllowed ? 'block' : 'none';\n",
              "\n",
              "      buttonEl.onclick = () => {\n",
              "        google.colab.notebook.generateWithVariable('df');\n",
              "      }\n",
              "      })();\n",
              "    </script>\n",
              "  </div>\n",
              "\n",
              "    </div>\n",
              "  </div>\n"
            ],
            "application/vnd.google.colaboratory.intrinsic+json": {
              "type": "dataframe",
              "variable_name": "df",
              "summary": "{\n  \"name\": \"df\",\n  \"rows\": 91,\n  \"fields\": [\n    {\n      \"column\": \"name\",\n      \"properties\": {\n        \"dtype\": \"string\",\n        \"num_unique_values\": 91,\n        \"samples\": [\n          \"CGF2034 - Tutoria III\",\n          \"CGF2035 - Metabolismo Humano\",\n          \"CGF2102 - Trabalho de Conclus\\u00e3o de Curso II - Desenvolvimento\"\n        ],\n        \"semantic_type\": \"\",\n        \"description\": \"\"\n      }\n    },\n    {\n      \"column\": \"creditos_aula\",\n      \"properties\": {\n        \"dtype\": \"category\",\n        \"num_unique_values\": 11,\n        \"samples\": [\n          \"1\",\n          \"2\",\n          \"6\"\n        ],\n        \"semantic_type\": \"\",\n        \"description\": \"\"\n      }\n    },\n    {\n      \"column\": \"creditos_trabalho\",\n      \"properties\": {\n        \"dtype\": \"category\",\n        \"num_unique_values\": 8,\n        \"samples\": [\n          \"2\",\n          \"10\",\n          \"0\"\n        ],\n        \"semantic_type\": \"\",\n        \"description\": \"\"\n      }\n    },\n    {\n      \"column\": \"carga_horaria\",\n      \"properties\": {\n        \"dtype\": \"category\",\n        \"num_unique_values\": 16,\n        \"samples\": [\n          \"30\",\n          \"90\",\n          \"75\"\n        ],\n        \"semantic_type\": \"\",\n        \"description\": \"\"\n      }\n    },\n    {\n      \"column\": \"docentes\",\n      \"properties\": {\n        \"dtype\": \"string\",\n        \"num_unique_values\": 68,\n        \"samples\": [\n          \"1160471- Fernando Batista da Costa,92484 - Jairo Kenupp Bastos,1450620 - Niege Ara\\u00e7ari Jacometti Cardoso Furtado,3045660 - Simone de P\\u00e1dua Teixeira\",\n          \"2091031- Wanderley Pereira de Oliveira\",\n          \"10172401- Fabiana Rossi Varallo,3084351 - Leonardo R\\u00e9gis Leira Pereira,2034947 - Regina C\\u00e9lia Garcia de Andrade\"\n        ],\n        \"semantic_type\": \"\",\n        \"description\": \"\"\n      }\n    },\n    {\n      \"column\": \"requisitos\",\n      \"properties\": {\n        \"dtype\": \"category\",\n        \"num_unique_values\": 35,\n        \"samples\": [\n          \"CGF2035, CGF2038, CGF2027, CGF2031, CGF2014, CGF2040, CGF2037\",\n          \"CGF2029\",\n          \"CGF2039, CGF2029, CGF2024\"\n        ],\n        \"semantic_type\": \"\",\n        \"description\": \"\"\n      }\n    }\n  ]\n}"
            }
          },
          "metadata": {},
          "execution_count": 140
        }
      ]
    },
    {
      "cell_type": "code",
      "source": [
        "df.to_csv('courses.csv', index=False)"
      ],
      "metadata": {
        "id": "TdABUFiYxNHp"
      },
      "execution_count": 166,
      "outputs": []
    },
    {
      "cell_type": "code",
      "source": [
        "import numpy as np\n",
        "\n",
        "n = len(courses)\n",
        "\n",
        "adj = np.zeros(shape=(n,n))\n",
        "\n",
        "for i in df.index:\n",
        "    req = df.loc[i, 'requisitos'].split(', ')\n",
        "    for r in req:\n",
        "        if r in courses:\n",
        "            j = courses.index(r)\n",
        "            adj[i, j] = 1"
      ],
      "metadata": {
        "id": "yK31HjSroswE"
      },
      "execution_count": 144,
      "outputs": []
    },
    {
      "cell_type": "code",
      "source": [
        "adj.sum()"
      ],
      "metadata": {
        "colab": {
          "base_uri": "https://localhost:8080/"
        },
        "id": "VnKMQWLWrEE-",
        "outputId": "3b55826d-6100-46a7-b270-31aed6c48988"
      },
      "execution_count": 145,
      "outputs": [
        {
          "output_type": "execute_result",
          "data": {
            "text/plain": [
              "76.0"
            ]
          },
          "metadata": {},
          "execution_count": 145
        }
      ]
    },
    {
      "cell_type": "code",
      "source": [
        "padj = pd.DataFrame(adj, columns=courses, index=courses)"
      ],
      "metadata": {
        "id": "TPIXr_qIrKn1"
      },
      "execution_count": 146,
      "outputs": []
    },
    {
      "cell_type": "code",
      "source": [
        "padj"
      ],
      "metadata": {
        "colab": {
          "base_uri": "https://localhost:8080/",
          "height": 443
        },
        "id": "uAOlDsVfs6oR",
        "outputId": "0d1ae7f5-aab0-454a-d946-9214f7fb3453"
      },
      "execution_count": 149,
      "outputs": [
        {
          "output_type": "execute_result",
          "data": {
            "text/plain": [
              "         CGF2032  CGF2101  CGF2105  CGF2037  CGF2074  CGF2019  CGF2030  \\\n",
              "CGF2032      0.0      0.0      0.0      0.0      0.0      0.0      0.0   \n",
              "CGF2101      0.0      0.0      0.0      0.0      0.0      0.0      0.0   \n",
              "CGF2105      0.0      0.0      0.0      0.0      0.0      0.0      0.0   \n",
              "CGF2037      0.0      0.0      0.0      0.0      0.0      0.0      0.0   \n",
              "CGF2074      0.0      0.0      0.0      0.0      0.0      0.0      0.0   \n",
              "...          ...      ...      ...      ...      ...      ...      ...   \n",
              "CGF2004      0.0      0.0      0.0      0.0      0.0      0.0      0.0   \n",
              "CGF2083      0.0      0.0      0.0      0.0      0.0      0.0      0.0   \n",
              "CGF2008      0.0      0.0      0.0      0.0      0.0      0.0      0.0   \n",
              "CGF2091      0.0      0.0      0.0      0.0      0.0      0.0      0.0   \n",
              "CGF2050      0.0      0.0      0.0      0.0      0.0      0.0      0.0   \n",
              "\n",
              "         CGF2053  CGF2093  CGF2109  ...  CGF2024  CGF2079  CGF2013  CGF2100  \\\n",
              "CGF2032      0.0      0.0      0.0  ...      0.0      0.0      0.0      0.0   \n",
              "CGF2101      0.0      0.0      0.0  ...      0.0      0.0      0.0      0.0   \n",
              "CGF2105      0.0      0.0      0.0  ...      0.0      0.0      0.0      0.0   \n",
              "CGF2037      0.0      0.0      0.0  ...      0.0      0.0      0.0      0.0   \n",
              "CGF2074      0.0      0.0      0.0  ...      0.0      0.0      0.0      0.0   \n",
              "...          ...      ...      ...  ...      ...      ...      ...      ...   \n",
              "CGF2004      0.0      0.0      0.0  ...      0.0      0.0      0.0      0.0   \n",
              "CGF2083      0.0      0.0      0.0  ...      0.0      0.0      0.0      0.0   \n",
              "CGF2008      0.0      0.0      0.0  ...      0.0      0.0      0.0      0.0   \n",
              "CGF2091      0.0      0.0      0.0  ...      0.0      0.0      0.0      0.0   \n",
              "CGF2050      0.0      0.0      0.0  ...      0.0      0.0      0.0      0.0   \n",
              "\n",
              "         CGF2054  CGF2004  CGF2083  CGF2008  CGF2091  CGF2050  \n",
              "CGF2032      0.0      0.0      0.0      0.0      0.0      0.0  \n",
              "CGF2101      0.0      0.0      0.0      0.0      0.0      0.0  \n",
              "CGF2105      0.0      0.0      0.0      0.0      0.0      0.0  \n",
              "CGF2037      0.0      0.0      0.0      0.0      0.0      0.0  \n",
              "CGF2074      0.0      0.0      0.0      0.0      0.0      0.0  \n",
              "...          ...      ...      ...      ...      ...      ...  \n",
              "CGF2004      0.0      0.0      0.0      0.0      0.0      0.0  \n",
              "CGF2083      0.0      0.0      0.0      0.0      0.0      0.0  \n",
              "CGF2008      0.0      0.0      0.0      0.0      0.0      0.0  \n",
              "CGF2091      0.0      0.0      0.0      0.0      0.0      0.0  \n",
              "CGF2050      0.0      0.0      0.0      0.0      0.0      0.0  \n",
              "\n",
              "[91 rows x 91 columns]"
            ],
            "text/html": [
              "\n",
              "  <div id=\"df-8dd818bc-d08a-4814-b67e-e23a2f20994b\" class=\"colab-df-container\">\n",
              "    <div>\n",
              "<style scoped>\n",
              "    .dataframe tbody tr th:only-of-type {\n",
              "        vertical-align: middle;\n",
              "    }\n",
              "\n",
              "    .dataframe tbody tr th {\n",
              "        vertical-align: top;\n",
              "    }\n",
              "\n",
              "    .dataframe thead th {\n",
              "        text-align: right;\n",
              "    }\n",
              "</style>\n",
              "<table border=\"1\" class=\"dataframe\">\n",
              "  <thead>\n",
              "    <tr style=\"text-align: right;\">\n",
              "      <th></th>\n",
              "      <th>CGF2032</th>\n",
              "      <th>CGF2101</th>\n",
              "      <th>CGF2105</th>\n",
              "      <th>CGF2037</th>\n",
              "      <th>CGF2074</th>\n",
              "      <th>CGF2019</th>\n",
              "      <th>CGF2030</th>\n",
              "      <th>CGF2053</th>\n",
              "      <th>CGF2093</th>\n",
              "      <th>CGF2109</th>\n",
              "      <th>...</th>\n",
              "      <th>CGF2024</th>\n",
              "      <th>CGF2079</th>\n",
              "      <th>CGF2013</th>\n",
              "      <th>CGF2100</th>\n",
              "      <th>CGF2054</th>\n",
              "      <th>CGF2004</th>\n",
              "      <th>CGF2083</th>\n",
              "      <th>CGF2008</th>\n",
              "      <th>CGF2091</th>\n",
              "      <th>CGF2050</th>\n",
              "    </tr>\n",
              "  </thead>\n",
              "  <tbody>\n",
              "    <tr>\n",
              "      <th>CGF2032</th>\n",
              "      <td>0.0</td>\n",
              "      <td>0.0</td>\n",
              "      <td>0.0</td>\n",
              "      <td>0.0</td>\n",
              "      <td>0.0</td>\n",
              "      <td>0.0</td>\n",
              "      <td>0.0</td>\n",
              "      <td>0.0</td>\n",
              "      <td>0.0</td>\n",
              "      <td>0.0</td>\n",
              "      <td>...</td>\n",
              "      <td>0.0</td>\n",
              "      <td>0.0</td>\n",
              "      <td>0.0</td>\n",
              "      <td>0.0</td>\n",
              "      <td>0.0</td>\n",
              "      <td>0.0</td>\n",
              "      <td>0.0</td>\n",
              "      <td>0.0</td>\n",
              "      <td>0.0</td>\n",
              "      <td>0.0</td>\n",
              "    </tr>\n",
              "    <tr>\n",
              "      <th>CGF2101</th>\n",
              "      <td>0.0</td>\n",
              "      <td>0.0</td>\n",
              "      <td>0.0</td>\n",
              "      <td>0.0</td>\n",
              "      <td>0.0</td>\n",
              "      <td>0.0</td>\n",
              "      <td>0.0</td>\n",
              "      <td>0.0</td>\n",
              "      <td>0.0</td>\n",
              "      <td>0.0</td>\n",
              "      <td>...</td>\n",
              "      <td>0.0</td>\n",
              "      <td>0.0</td>\n",
              "      <td>0.0</td>\n",
              "      <td>0.0</td>\n",
              "      <td>0.0</td>\n",
              "      <td>0.0</td>\n",
              "      <td>0.0</td>\n",
              "      <td>0.0</td>\n",
              "      <td>0.0</td>\n",
              "      <td>0.0</td>\n",
              "    </tr>\n",
              "    <tr>\n",
              "      <th>CGF2105</th>\n",
              "      <td>0.0</td>\n",
              "      <td>0.0</td>\n",
              "      <td>0.0</td>\n",
              "      <td>0.0</td>\n",
              "      <td>0.0</td>\n",
              "      <td>0.0</td>\n",
              "      <td>0.0</td>\n",
              "      <td>0.0</td>\n",
              "      <td>0.0</td>\n",
              "      <td>0.0</td>\n",
              "      <td>...</td>\n",
              "      <td>0.0</td>\n",
              "      <td>0.0</td>\n",
              "      <td>0.0</td>\n",
              "      <td>0.0</td>\n",
              "      <td>0.0</td>\n",
              "      <td>0.0</td>\n",
              "      <td>0.0</td>\n",
              "      <td>0.0</td>\n",
              "      <td>0.0</td>\n",
              "      <td>0.0</td>\n",
              "    </tr>\n",
              "    <tr>\n",
              "      <th>CGF2037</th>\n",
              "      <td>0.0</td>\n",
              "      <td>0.0</td>\n",
              "      <td>0.0</td>\n",
              "      <td>0.0</td>\n",
              "      <td>0.0</td>\n",
              "      <td>0.0</td>\n",
              "      <td>0.0</td>\n",
              "      <td>0.0</td>\n",
              "      <td>0.0</td>\n",
              "      <td>0.0</td>\n",
              "      <td>...</td>\n",
              "      <td>0.0</td>\n",
              "      <td>0.0</td>\n",
              "      <td>0.0</td>\n",
              "      <td>0.0</td>\n",
              "      <td>0.0</td>\n",
              "      <td>0.0</td>\n",
              "      <td>0.0</td>\n",
              "      <td>0.0</td>\n",
              "      <td>0.0</td>\n",
              "      <td>0.0</td>\n",
              "    </tr>\n",
              "    <tr>\n",
              "      <th>CGF2074</th>\n",
              "      <td>0.0</td>\n",
              "      <td>0.0</td>\n",
              "      <td>0.0</td>\n",
              "      <td>0.0</td>\n",
              "      <td>0.0</td>\n",
              "      <td>0.0</td>\n",
              "      <td>0.0</td>\n",
              "      <td>0.0</td>\n",
              "      <td>0.0</td>\n",
              "      <td>0.0</td>\n",
              "      <td>...</td>\n",
              "      <td>0.0</td>\n",
              "      <td>0.0</td>\n",
              "      <td>0.0</td>\n",
              "      <td>0.0</td>\n",
              "      <td>0.0</td>\n",
              "      <td>0.0</td>\n",
              "      <td>0.0</td>\n",
              "      <td>0.0</td>\n",
              "      <td>0.0</td>\n",
              "      <td>0.0</td>\n",
              "    </tr>\n",
              "    <tr>\n",
              "      <th>...</th>\n",
              "      <td>...</td>\n",
              "      <td>...</td>\n",
              "      <td>...</td>\n",
              "      <td>...</td>\n",
              "      <td>...</td>\n",
              "      <td>...</td>\n",
              "      <td>...</td>\n",
              "      <td>...</td>\n",
              "      <td>...</td>\n",
              "      <td>...</td>\n",
              "      <td>...</td>\n",
              "      <td>...</td>\n",
              "      <td>...</td>\n",
              "      <td>...</td>\n",
              "      <td>...</td>\n",
              "      <td>...</td>\n",
              "      <td>...</td>\n",
              "      <td>...</td>\n",
              "      <td>...</td>\n",
              "      <td>...</td>\n",
              "      <td>...</td>\n",
              "    </tr>\n",
              "    <tr>\n",
              "      <th>CGF2004</th>\n",
              "      <td>0.0</td>\n",
              "      <td>0.0</td>\n",
              "      <td>0.0</td>\n",
              "      <td>0.0</td>\n",
              "      <td>0.0</td>\n",
              "      <td>0.0</td>\n",
              "      <td>0.0</td>\n",
              "      <td>0.0</td>\n",
              "      <td>0.0</td>\n",
              "      <td>0.0</td>\n",
              "      <td>...</td>\n",
              "      <td>0.0</td>\n",
              "      <td>0.0</td>\n",
              "      <td>0.0</td>\n",
              "      <td>0.0</td>\n",
              "      <td>0.0</td>\n",
              "      <td>0.0</td>\n",
              "      <td>0.0</td>\n",
              "      <td>0.0</td>\n",
              "      <td>0.0</td>\n",
              "      <td>0.0</td>\n",
              "    </tr>\n",
              "    <tr>\n",
              "      <th>CGF2083</th>\n",
              "      <td>0.0</td>\n",
              "      <td>0.0</td>\n",
              "      <td>0.0</td>\n",
              "      <td>0.0</td>\n",
              "      <td>0.0</td>\n",
              "      <td>0.0</td>\n",
              "      <td>0.0</td>\n",
              "      <td>0.0</td>\n",
              "      <td>0.0</td>\n",
              "      <td>0.0</td>\n",
              "      <td>...</td>\n",
              "      <td>0.0</td>\n",
              "      <td>0.0</td>\n",
              "      <td>0.0</td>\n",
              "      <td>0.0</td>\n",
              "      <td>0.0</td>\n",
              "      <td>0.0</td>\n",
              "      <td>0.0</td>\n",
              "      <td>0.0</td>\n",
              "      <td>0.0</td>\n",
              "      <td>0.0</td>\n",
              "    </tr>\n",
              "    <tr>\n",
              "      <th>CGF2008</th>\n",
              "      <td>0.0</td>\n",
              "      <td>0.0</td>\n",
              "      <td>0.0</td>\n",
              "      <td>0.0</td>\n",
              "      <td>0.0</td>\n",
              "      <td>0.0</td>\n",
              "      <td>0.0</td>\n",
              "      <td>0.0</td>\n",
              "      <td>0.0</td>\n",
              "      <td>0.0</td>\n",
              "      <td>...</td>\n",
              "      <td>0.0</td>\n",
              "      <td>0.0</td>\n",
              "      <td>0.0</td>\n",
              "      <td>0.0</td>\n",
              "      <td>0.0</td>\n",
              "      <td>0.0</td>\n",
              "      <td>0.0</td>\n",
              "      <td>0.0</td>\n",
              "      <td>0.0</td>\n",
              "      <td>0.0</td>\n",
              "    </tr>\n",
              "    <tr>\n",
              "      <th>CGF2091</th>\n",
              "      <td>0.0</td>\n",
              "      <td>0.0</td>\n",
              "      <td>0.0</td>\n",
              "      <td>0.0</td>\n",
              "      <td>0.0</td>\n",
              "      <td>0.0</td>\n",
              "      <td>0.0</td>\n",
              "      <td>0.0</td>\n",
              "      <td>0.0</td>\n",
              "      <td>0.0</td>\n",
              "      <td>...</td>\n",
              "      <td>0.0</td>\n",
              "      <td>0.0</td>\n",
              "      <td>0.0</td>\n",
              "      <td>0.0</td>\n",
              "      <td>0.0</td>\n",
              "      <td>0.0</td>\n",
              "      <td>0.0</td>\n",
              "      <td>0.0</td>\n",
              "      <td>0.0</td>\n",
              "      <td>0.0</td>\n",
              "    </tr>\n",
              "    <tr>\n",
              "      <th>CGF2050</th>\n",
              "      <td>0.0</td>\n",
              "      <td>0.0</td>\n",
              "      <td>0.0</td>\n",
              "      <td>0.0</td>\n",
              "      <td>0.0</td>\n",
              "      <td>0.0</td>\n",
              "      <td>0.0</td>\n",
              "      <td>0.0</td>\n",
              "      <td>0.0</td>\n",
              "      <td>0.0</td>\n",
              "      <td>...</td>\n",
              "      <td>0.0</td>\n",
              "      <td>0.0</td>\n",
              "      <td>0.0</td>\n",
              "      <td>0.0</td>\n",
              "      <td>0.0</td>\n",
              "      <td>0.0</td>\n",
              "      <td>0.0</td>\n",
              "      <td>0.0</td>\n",
              "      <td>0.0</td>\n",
              "      <td>0.0</td>\n",
              "    </tr>\n",
              "  </tbody>\n",
              "</table>\n",
              "<p>91 rows × 91 columns</p>\n",
              "</div>\n",
              "    <div class=\"colab-df-buttons\">\n",
              "\n",
              "  <div class=\"colab-df-container\">\n",
              "    <button class=\"colab-df-convert\" onclick=\"convertToInteractive('df-8dd818bc-d08a-4814-b67e-e23a2f20994b')\"\n",
              "            title=\"Convert this dataframe to an interactive table.\"\n",
              "            style=\"display:none;\">\n",
              "\n",
              "  <svg xmlns=\"http://www.w3.org/2000/svg\" height=\"24px\" viewBox=\"0 -960 960 960\">\n",
              "    <path d=\"M120-120v-720h720v720H120Zm60-500h600v-160H180v160Zm220 220h160v-160H400v160Zm0 220h160v-160H400v160ZM180-400h160v-160H180v160Zm440 0h160v-160H620v160ZM180-180h160v-160H180v160Zm440 0h160v-160H620v160Z\"/>\n",
              "  </svg>\n",
              "    </button>\n",
              "\n",
              "  <style>\n",
              "    .colab-df-container {\n",
              "      display:flex;\n",
              "      gap: 12px;\n",
              "    }\n",
              "\n",
              "    .colab-df-convert {\n",
              "      background-color: #E8F0FE;\n",
              "      border: none;\n",
              "      border-radius: 50%;\n",
              "      cursor: pointer;\n",
              "      display: none;\n",
              "      fill: #1967D2;\n",
              "      height: 32px;\n",
              "      padding: 0 0 0 0;\n",
              "      width: 32px;\n",
              "    }\n",
              "\n",
              "    .colab-df-convert:hover {\n",
              "      background-color: #E2EBFA;\n",
              "      box-shadow: 0px 1px 2px rgba(60, 64, 67, 0.3), 0px 1px 3px 1px rgba(60, 64, 67, 0.15);\n",
              "      fill: #174EA6;\n",
              "    }\n",
              "\n",
              "    .colab-df-buttons div {\n",
              "      margin-bottom: 4px;\n",
              "    }\n",
              "\n",
              "    [theme=dark] .colab-df-convert {\n",
              "      background-color: #3B4455;\n",
              "      fill: #D2E3FC;\n",
              "    }\n",
              "\n",
              "    [theme=dark] .colab-df-convert:hover {\n",
              "      background-color: #434B5C;\n",
              "      box-shadow: 0px 1px 3px 1px rgba(0, 0, 0, 0.15);\n",
              "      filter: drop-shadow(0px 1px 2px rgba(0, 0, 0, 0.3));\n",
              "      fill: #FFFFFF;\n",
              "    }\n",
              "  </style>\n",
              "\n",
              "    <script>\n",
              "      const buttonEl =\n",
              "        document.querySelector('#df-8dd818bc-d08a-4814-b67e-e23a2f20994b button.colab-df-convert');\n",
              "      buttonEl.style.display =\n",
              "        google.colab.kernel.accessAllowed ? 'block' : 'none';\n",
              "\n",
              "      async function convertToInteractive(key) {\n",
              "        const element = document.querySelector('#df-8dd818bc-d08a-4814-b67e-e23a2f20994b');\n",
              "        const dataTable =\n",
              "          await google.colab.kernel.invokeFunction('convertToInteractive',\n",
              "                                                    [key], {});\n",
              "        if (!dataTable) return;\n",
              "\n",
              "        const docLinkHtml = 'Like what you see? Visit the ' +\n",
              "          '<a target=\"_blank\" href=https://colab.research.google.com/notebooks/data_table.ipynb>data table notebook</a>'\n",
              "          + ' to learn more about interactive tables.';\n",
              "        element.innerHTML = '';\n",
              "        dataTable['output_type'] = 'display_data';\n",
              "        await google.colab.output.renderOutput(dataTable, element);\n",
              "        const docLink = document.createElement('div');\n",
              "        docLink.innerHTML = docLinkHtml;\n",
              "        element.appendChild(docLink);\n",
              "      }\n",
              "    </script>\n",
              "  </div>\n",
              "\n",
              "\n",
              "<div id=\"df-6680e117-338b-4096-877b-c17fb450c6c8\">\n",
              "  <button class=\"colab-df-quickchart\" onclick=\"quickchart('df-6680e117-338b-4096-877b-c17fb450c6c8')\"\n",
              "            title=\"Suggest charts\"\n",
              "            style=\"display:none;\">\n",
              "\n",
              "<svg xmlns=\"http://www.w3.org/2000/svg\" height=\"24px\"viewBox=\"0 0 24 24\"\n",
              "     width=\"24px\">\n",
              "    <g>\n",
              "        <path d=\"M19 3H5c-1.1 0-2 .9-2 2v14c0 1.1.9 2 2 2h14c1.1 0 2-.9 2-2V5c0-1.1-.9-2-2-2zM9 17H7v-7h2v7zm4 0h-2V7h2v10zm4 0h-2v-4h2v4z\"/>\n",
              "    </g>\n",
              "</svg>\n",
              "  </button>\n",
              "\n",
              "<style>\n",
              "  .colab-df-quickchart {\n",
              "      --bg-color: #E8F0FE;\n",
              "      --fill-color: #1967D2;\n",
              "      --hover-bg-color: #E2EBFA;\n",
              "      --hover-fill-color: #174EA6;\n",
              "      --disabled-fill-color: #AAA;\n",
              "      --disabled-bg-color: #DDD;\n",
              "  }\n",
              "\n",
              "  [theme=dark] .colab-df-quickchart {\n",
              "      --bg-color: #3B4455;\n",
              "      --fill-color: #D2E3FC;\n",
              "      --hover-bg-color: #434B5C;\n",
              "      --hover-fill-color: #FFFFFF;\n",
              "      --disabled-bg-color: #3B4455;\n",
              "      --disabled-fill-color: #666;\n",
              "  }\n",
              "\n",
              "  .colab-df-quickchart {\n",
              "    background-color: var(--bg-color);\n",
              "    border: none;\n",
              "    border-radius: 50%;\n",
              "    cursor: pointer;\n",
              "    display: none;\n",
              "    fill: var(--fill-color);\n",
              "    height: 32px;\n",
              "    padding: 0;\n",
              "    width: 32px;\n",
              "  }\n",
              "\n",
              "  .colab-df-quickchart:hover {\n",
              "    background-color: var(--hover-bg-color);\n",
              "    box-shadow: 0 1px 2px rgba(60, 64, 67, 0.3), 0 1px 3px 1px rgba(60, 64, 67, 0.15);\n",
              "    fill: var(--button-hover-fill-color);\n",
              "  }\n",
              "\n",
              "  .colab-df-quickchart-complete:disabled,\n",
              "  .colab-df-quickchart-complete:disabled:hover {\n",
              "    background-color: var(--disabled-bg-color);\n",
              "    fill: var(--disabled-fill-color);\n",
              "    box-shadow: none;\n",
              "  }\n",
              "\n",
              "  .colab-df-spinner {\n",
              "    border: 2px solid var(--fill-color);\n",
              "    border-color: transparent;\n",
              "    border-bottom-color: var(--fill-color);\n",
              "    animation:\n",
              "      spin 1s steps(1) infinite;\n",
              "  }\n",
              "\n",
              "  @keyframes spin {\n",
              "    0% {\n",
              "      border-color: transparent;\n",
              "      border-bottom-color: var(--fill-color);\n",
              "      border-left-color: var(--fill-color);\n",
              "    }\n",
              "    20% {\n",
              "      border-color: transparent;\n",
              "      border-left-color: var(--fill-color);\n",
              "      border-top-color: var(--fill-color);\n",
              "    }\n",
              "    30% {\n",
              "      border-color: transparent;\n",
              "      border-left-color: var(--fill-color);\n",
              "      border-top-color: var(--fill-color);\n",
              "      border-right-color: var(--fill-color);\n",
              "    }\n",
              "    40% {\n",
              "      border-color: transparent;\n",
              "      border-right-color: var(--fill-color);\n",
              "      border-top-color: var(--fill-color);\n",
              "    }\n",
              "    60% {\n",
              "      border-color: transparent;\n",
              "      border-right-color: var(--fill-color);\n",
              "    }\n",
              "    80% {\n",
              "      border-color: transparent;\n",
              "      border-right-color: var(--fill-color);\n",
              "      border-bottom-color: var(--fill-color);\n",
              "    }\n",
              "    90% {\n",
              "      border-color: transparent;\n",
              "      border-bottom-color: var(--fill-color);\n",
              "    }\n",
              "  }\n",
              "</style>\n",
              "\n",
              "  <script>\n",
              "    async function quickchart(key) {\n",
              "      const quickchartButtonEl =\n",
              "        document.querySelector('#' + key + ' button');\n",
              "      quickchartButtonEl.disabled = true;  // To prevent multiple clicks.\n",
              "      quickchartButtonEl.classList.add('colab-df-spinner');\n",
              "      try {\n",
              "        const charts = await google.colab.kernel.invokeFunction(\n",
              "            'suggestCharts', [key], {});\n",
              "      } catch (error) {\n",
              "        console.error('Error during call to suggestCharts:', error);\n",
              "      }\n",
              "      quickchartButtonEl.classList.remove('colab-df-spinner');\n",
              "      quickchartButtonEl.classList.add('colab-df-quickchart-complete');\n",
              "    }\n",
              "    (() => {\n",
              "      let quickchartButtonEl =\n",
              "        document.querySelector('#df-6680e117-338b-4096-877b-c17fb450c6c8 button');\n",
              "      quickchartButtonEl.style.display =\n",
              "        google.colab.kernel.accessAllowed ? 'block' : 'none';\n",
              "    })();\n",
              "  </script>\n",
              "</div>\n",
              "\n",
              "  <div id=\"id_fef1e3c2-e9b2-42f4-8b9f-63cd48e8ca63\">\n",
              "    <style>\n",
              "      .colab-df-generate {\n",
              "        background-color: #E8F0FE;\n",
              "        border: none;\n",
              "        border-radius: 50%;\n",
              "        cursor: pointer;\n",
              "        display: none;\n",
              "        fill: #1967D2;\n",
              "        height: 32px;\n",
              "        padding: 0 0 0 0;\n",
              "        width: 32px;\n",
              "      }\n",
              "\n",
              "      .colab-df-generate:hover {\n",
              "        background-color: #E2EBFA;\n",
              "        box-shadow: 0px 1px 2px rgba(60, 64, 67, 0.3), 0px 1px 3px 1px rgba(60, 64, 67, 0.15);\n",
              "        fill: #174EA6;\n",
              "      }\n",
              "\n",
              "      [theme=dark] .colab-df-generate {\n",
              "        background-color: #3B4455;\n",
              "        fill: #D2E3FC;\n",
              "      }\n",
              "\n",
              "      [theme=dark] .colab-df-generate:hover {\n",
              "        background-color: #434B5C;\n",
              "        box-shadow: 0px 1px 3px 1px rgba(0, 0, 0, 0.15);\n",
              "        filter: drop-shadow(0px 1px 2px rgba(0, 0, 0, 0.3));\n",
              "        fill: #FFFFFF;\n",
              "      }\n",
              "    </style>\n",
              "    <button class=\"colab-df-generate\" onclick=\"generateWithVariable('padj')\"\n",
              "            title=\"Generate code using this dataframe.\"\n",
              "            style=\"display:none;\">\n",
              "\n",
              "  <svg xmlns=\"http://www.w3.org/2000/svg\" height=\"24px\"viewBox=\"0 0 24 24\"\n",
              "       width=\"24px\">\n",
              "    <path d=\"M7,19H8.4L18.45,9,17,7.55,7,17.6ZM5,21V16.75L18.45,3.32a2,2,0,0,1,2.83,0l1.4,1.43a1.91,1.91,0,0,1,.58,1.4,1.91,1.91,0,0,1-.58,1.4L9.25,21ZM18.45,9,17,7.55Zm-12,3A5.31,5.31,0,0,0,4.9,8.1,5.31,5.31,0,0,0,1,6.5,5.31,5.31,0,0,0,4.9,4.9,5.31,5.31,0,0,0,6.5,1,5.31,5.31,0,0,0,8.1,4.9,5.31,5.31,0,0,0,12,6.5,5.46,5.46,0,0,0,6.5,12Z\"/>\n",
              "  </svg>\n",
              "    </button>\n",
              "    <script>\n",
              "      (() => {\n",
              "      const buttonEl =\n",
              "        document.querySelector('#id_fef1e3c2-e9b2-42f4-8b9f-63cd48e8ca63 button.colab-df-generate');\n",
              "      buttonEl.style.display =\n",
              "        google.colab.kernel.accessAllowed ? 'block' : 'none';\n",
              "\n",
              "      buttonEl.onclick = () => {\n",
              "        google.colab.notebook.generateWithVariable('padj');\n",
              "      }\n",
              "      })();\n",
              "    </script>\n",
              "  </div>\n",
              "\n",
              "    </div>\n",
              "  </div>\n"
            ],
            "application/vnd.google.colaboratory.intrinsic+json": {
              "type": "dataframe",
              "variable_name": "padj"
            }
          },
          "metadata": {},
          "execution_count": 149
        }
      ]
    },
    {
      "cell_type": "code",
      "source": [
        "padj.stack().reset_index()"
      ],
      "metadata": {
        "colab": {
          "base_uri": "https://localhost:8080/",
          "height": 443
        },
        "id": "-f8gLnJbs9GO",
        "outputId": "1cd26328-03b9-40d1-8276-d96d9383286e"
      },
      "execution_count": 150,
      "outputs": [
        {
          "output_type": "execute_result",
          "data": {
            "text/plain": [
              "      level_0  level_1    0\n",
              "0     CGF2032  CGF2032  0.0\n",
              "1     CGF2032  CGF2101  0.0\n",
              "2     CGF2032  CGF2105  0.0\n",
              "3     CGF2032  CGF2037  0.0\n",
              "4     CGF2032  CGF2074  0.0\n",
              "...       ...      ...  ...\n",
              "8276  CGF2050  CGF2004  0.0\n",
              "8277  CGF2050  CGF2083  0.0\n",
              "8278  CGF2050  CGF2008  0.0\n",
              "8279  CGF2050  CGF2091  0.0\n",
              "8280  CGF2050  CGF2050  0.0\n",
              "\n",
              "[8281 rows x 3 columns]"
            ],
            "text/html": [
              "\n",
              "  <div id=\"df-e2cfd769-9f69-4633-9365-3f458bb3bd79\" class=\"colab-df-container\">\n",
              "    <div>\n",
              "<style scoped>\n",
              "    .dataframe tbody tr th:only-of-type {\n",
              "        vertical-align: middle;\n",
              "    }\n",
              "\n",
              "    .dataframe tbody tr th {\n",
              "        vertical-align: top;\n",
              "    }\n",
              "\n",
              "    .dataframe thead th {\n",
              "        text-align: right;\n",
              "    }\n",
              "</style>\n",
              "<table border=\"1\" class=\"dataframe\">\n",
              "  <thead>\n",
              "    <tr style=\"text-align: right;\">\n",
              "      <th></th>\n",
              "      <th>level_0</th>\n",
              "      <th>level_1</th>\n",
              "      <th>0</th>\n",
              "    </tr>\n",
              "  </thead>\n",
              "  <tbody>\n",
              "    <tr>\n",
              "      <th>0</th>\n",
              "      <td>CGF2032</td>\n",
              "      <td>CGF2032</td>\n",
              "      <td>0.0</td>\n",
              "    </tr>\n",
              "    <tr>\n",
              "      <th>1</th>\n",
              "      <td>CGF2032</td>\n",
              "      <td>CGF2101</td>\n",
              "      <td>0.0</td>\n",
              "    </tr>\n",
              "    <tr>\n",
              "      <th>2</th>\n",
              "      <td>CGF2032</td>\n",
              "      <td>CGF2105</td>\n",
              "      <td>0.0</td>\n",
              "    </tr>\n",
              "    <tr>\n",
              "      <th>3</th>\n",
              "      <td>CGF2032</td>\n",
              "      <td>CGF2037</td>\n",
              "      <td>0.0</td>\n",
              "    </tr>\n",
              "    <tr>\n",
              "      <th>4</th>\n",
              "      <td>CGF2032</td>\n",
              "      <td>CGF2074</td>\n",
              "      <td>0.0</td>\n",
              "    </tr>\n",
              "    <tr>\n",
              "      <th>...</th>\n",
              "      <td>...</td>\n",
              "      <td>...</td>\n",
              "      <td>...</td>\n",
              "    </tr>\n",
              "    <tr>\n",
              "      <th>8276</th>\n",
              "      <td>CGF2050</td>\n",
              "      <td>CGF2004</td>\n",
              "      <td>0.0</td>\n",
              "    </tr>\n",
              "    <tr>\n",
              "      <th>8277</th>\n",
              "      <td>CGF2050</td>\n",
              "      <td>CGF2083</td>\n",
              "      <td>0.0</td>\n",
              "    </tr>\n",
              "    <tr>\n",
              "      <th>8278</th>\n",
              "      <td>CGF2050</td>\n",
              "      <td>CGF2008</td>\n",
              "      <td>0.0</td>\n",
              "    </tr>\n",
              "    <tr>\n",
              "      <th>8279</th>\n",
              "      <td>CGF2050</td>\n",
              "      <td>CGF2091</td>\n",
              "      <td>0.0</td>\n",
              "    </tr>\n",
              "    <tr>\n",
              "      <th>8280</th>\n",
              "      <td>CGF2050</td>\n",
              "      <td>CGF2050</td>\n",
              "      <td>0.0</td>\n",
              "    </tr>\n",
              "  </tbody>\n",
              "</table>\n",
              "<p>8281 rows × 3 columns</p>\n",
              "</div>\n",
              "    <div class=\"colab-df-buttons\">\n",
              "\n",
              "  <div class=\"colab-df-container\">\n",
              "    <button class=\"colab-df-convert\" onclick=\"convertToInteractive('df-e2cfd769-9f69-4633-9365-3f458bb3bd79')\"\n",
              "            title=\"Convert this dataframe to an interactive table.\"\n",
              "            style=\"display:none;\">\n",
              "\n",
              "  <svg xmlns=\"http://www.w3.org/2000/svg\" height=\"24px\" viewBox=\"0 -960 960 960\">\n",
              "    <path d=\"M120-120v-720h720v720H120Zm60-500h600v-160H180v160Zm220 220h160v-160H400v160Zm0 220h160v-160H400v160ZM180-400h160v-160H180v160Zm440 0h160v-160H620v160ZM180-180h160v-160H180v160Zm440 0h160v-160H620v160Z\"/>\n",
              "  </svg>\n",
              "    </button>\n",
              "\n",
              "  <style>\n",
              "    .colab-df-container {\n",
              "      display:flex;\n",
              "      gap: 12px;\n",
              "    }\n",
              "\n",
              "    .colab-df-convert {\n",
              "      background-color: #E8F0FE;\n",
              "      border: none;\n",
              "      border-radius: 50%;\n",
              "      cursor: pointer;\n",
              "      display: none;\n",
              "      fill: #1967D2;\n",
              "      height: 32px;\n",
              "      padding: 0 0 0 0;\n",
              "      width: 32px;\n",
              "    }\n",
              "\n",
              "    .colab-df-convert:hover {\n",
              "      background-color: #E2EBFA;\n",
              "      box-shadow: 0px 1px 2px rgba(60, 64, 67, 0.3), 0px 1px 3px 1px rgba(60, 64, 67, 0.15);\n",
              "      fill: #174EA6;\n",
              "    }\n",
              "\n",
              "    .colab-df-buttons div {\n",
              "      margin-bottom: 4px;\n",
              "    }\n",
              "\n",
              "    [theme=dark] .colab-df-convert {\n",
              "      background-color: #3B4455;\n",
              "      fill: #D2E3FC;\n",
              "    }\n",
              "\n",
              "    [theme=dark] .colab-df-convert:hover {\n",
              "      background-color: #434B5C;\n",
              "      box-shadow: 0px 1px 3px 1px rgba(0, 0, 0, 0.15);\n",
              "      filter: drop-shadow(0px 1px 2px rgba(0, 0, 0, 0.3));\n",
              "      fill: #FFFFFF;\n",
              "    }\n",
              "  </style>\n",
              "\n",
              "    <script>\n",
              "      const buttonEl =\n",
              "        document.querySelector('#df-e2cfd769-9f69-4633-9365-3f458bb3bd79 button.colab-df-convert');\n",
              "      buttonEl.style.display =\n",
              "        google.colab.kernel.accessAllowed ? 'block' : 'none';\n",
              "\n",
              "      async function convertToInteractive(key) {\n",
              "        const element = document.querySelector('#df-e2cfd769-9f69-4633-9365-3f458bb3bd79');\n",
              "        const dataTable =\n",
              "          await google.colab.kernel.invokeFunction('convertToInteractive',\n",
              "                                                    [key], {});\n",
              "        if (!dataTable) return;\n",
              "\n",
              "        const docLinkHtml = 'Like what you see? Visit the ' +\n",
              "          '<a target=\"_blank\" href=https://colab.research.google.com/notebooks/data_table.ipynb>data table notebook</a>'\n",
              "          + ' to learn more about interactive tables.';\n",
              "        element.innerHTML = '';\n",
              "        dataTable['output_type'] = 'display_data';\n",
              "        await google.colab.output.renderOutput(dataTable, element);\n",
              "        const docLink = document.createElement('div');\n",
              "        docLink.innerHTML = docLinkHtml;\n",
              "        element.appendChild(docLink);\n",
              "      }\n",
              "    </script>\n",
              "  </div>\n",
              "\n",
              "\n",
              "<div id=\"df-79ca1410-e344-4d83-aca0-17ddd86a8162\">\n",
              "  <button class=\"colab-df-quickchart\" onclick=\"quickchart('df-79ca1410-e344-4d83-aca0-17ddd86a8162')\"\n",
              "            title=\"Suggest charts\"\n",
              "            style=\"display:none;\">\n",
              "\n",
              "<svg xmlns=\"http://www.w3.org/2000/svg\" height=\"24px\"viewBox=\"0 0 24 24\"\n",
              "     width=\"24px\">\n",
              "    <g>\n",
              "        <path d=\"M19 3H5c-1.1 0-2 .9-2 2v14c0 1.1.9 2 2 2h14c1.1 0 2-.9 2-2V5c0-1.1-.9-2-2-2zM9 17H7v-7h2v7zm4 0h-2V7h2v10zm4 0h-2v-4h2v4z\"/>\n",
              "    </g>\n",
              "</svg>\n",
              "  </button>\n",
              "\n",
              "<style>\n",
              "  .colab-df-quickchart {\n",
              "      --bg-color: #E8F0FE;\n",
              "      --fill-color: #1967D2;\n",
              "      --hover-bg-color: #E2EBFA;\n",
              "      --hover-fill-color: #174EA6;\n",
              "      --disabled-fill-color: #AAA;\n",
              "      --disabled-bg-color: #DDD;\n",
              "  }\n",
              "\n",
              "  [theme=dark] .colab-df-quickchart {\n",
              "      --bg-color: #3B4455;\n",
              "      --fill-color: #D2E3FC;\n",
              "      --hover-bg-color: #434B5C;\n",
              "      --hover-fill-color: #FFFFFF;\n",
              "      --disabled-bg-color: #3B4455;\n",
              "      --disabled-fill-color: #666;\n",
              "  }\n",
              "\n",
              "  .colab-df-quickchart {\n",
              "    background-color: var(--bg-color);\n",
              "    border: none;\n",
              "    border-radius: 50%;\n",
              "    cursor: pointer;\n",
              "    display: none;\n",
              "    fill: var(--fill-color);\n",
              "    height: 32px;\n",
              "    padding: 0;\n",
              "    width: 32px;\n",
              "  }\n",
              "\n",
              "  .colab-df-quickchart:hover {\n",
              "    background-color: var(--hover-bg-color);\n",
              "    box-shadow: 0 1px 2px rgba(60, 64, 67, 0.3), 0 1px 3px 1px rgba(60, 64, 67, 0.15);\n",
              "    fill: var(--button-hover-fill-color);\n",
              "  }\n",
              "\n",
              "  .colab-df-quickchart-complete:disabled,\n",
              "  .colab-df-quickchart-complete:disabled:hover {\n",
              "    background-color: var(--disabled-bg-color);\n",
              "    fill: var(--disabled-fill-color);\n",
              "    box-shadow: none;\n",
              "  }\n",
              "\n",
              "  .colab-df-spinner {\n",
              "    border: 2px solid var(--fill-color);\n",
              "    border-color: transparent;\n",
              "    border-bottom-color: var(--fill-color);\n",
              "    animation:\n",
              "      spin 1s steps(1) infinite;\n",
              "  }\n",
              "\n",
              "  @keyframes spin {\n",
              "    0% {\n",
              "      border-color: transparent;\n",
              "      border-bottom-color: var(--fill-color);\n",
              "      border-left-color: var(--fill-color);\n",
              "    }\n",
              "    20% {\n",
              "      border-color: transparent;\n",
              "      border-left-color: var(--fill-color);\n",
              "      border-top-color: var(--fill-color);\n",
              "    }\n",
              "    30% {\n",
              "      border-color: transparent;\n",
              "      border-left-color: var(--fill-color);\n",
              "      border-top-color: var(--fill-color);\n",
              "      border-right-color: var(--fill-color);\n",
              "    }\n",
              "    40% {\n",
              "      border-color: transparent;\n",
              "      border-right-color: var(--fill-color);\n",
              "      border-top-color: var(--fill-color);\n",
              "    }\n",
              "    60% {\n",
              "      border-color: transparent;\n",
              "      border-right-color: var(--fill-color);\n",
              "    }\n",
              "    80% {\n",
              "      border-color: transparent;\n",
              "      border-right-color: var(--fill-color);\n",
              "      border-bottom-color: var(--fill-color);\n",
              "    }\n",
              "    90% {\n",
              "      border-color: transparent;\n",
              "      border-bottom-color: var(--fill-color);\n",
              "    }\n",
              "  }\n",
              "</style>\n",
              "\n",
              "  <script>\n",
              "    async function quickchart(key) {\n",
              "      const quickchartButtonEl =\n",
              "        document.querySelector('#' + key + ' button');\n",
              "      quickchartButtonEl.disabled = true;  // To prevent multiple clicks.\n",
              "      quickchartButtonEl.classList.add('colab-df-spinner');\n",
              "      try {\n",
              "        const charts = await google.colab.kernel.invokeFunction(\n",
              "            'suggestCharts', [key], {});\n",
              "      } catch (error) {\n",
              "        console.error('Error during call to suggestCharts:', error);\n",
              "      }\n",
              "      quickchartButtonEl.classList.remove('colab-df-spinner');\n",
              "      quickchartButtonEl.classList.add('colab-df-quickchart-complete');\n",
              "    }\n",
              "    (() => {\n",
              "      let quickchartButtonEl =\n",
              "        document.querySelector('#df-79ca1410-e344-4d83-aca0-17ddd86a8162 button');\n",
              "      quickchartButtonEl.style.display =\n",
              "        google.colab.kernel.accessAllowed ? 'block' : 'none';\n",
              "    })();\n",
              "  </script>\n",
              "</div>\n",
              "\n",
              "    </div>\n",
              "  </div>\n"
            ],
            "application/vnd.google.colaboratory.intrinsic+json": {
              "type": "dataframe",
              "summary": "{\n  \"name\": \"padj\",\n  \"rows\": 8281,\n  \"fields\": [\n    {\n      \"column\": \"level_0\",\n      \"properties\": {\n        \"dtype\": \"category\",\n        \"num_unique_values\": 91,\n        \"samples\": [\n          \"CGF2034\",\n          \"CGF2035\",\n          \"CGF2102\"\n        ],\n        \"semantic_type\": \"\",\n        \"description\": \"\"\n      }\n    },\n    {\n      \"column\": \"level_1\",\n      \"properties\": {\n        \"dtype\": \"category\",\n        \"num_unique_values\": 91,\n        \"samples\": [\n          \"CGF2034\",\n          \"CGF2035\",\n          \"CGF2102\"\n        ],\n        \"semantic_type\": \"\",\n        \"description\": \"\"\n      }\n    },\n    {\n      \"column\": 0,\n      \"properties\": {\n        \"dtype\": \"number\",\n        \"std\": 0.09536511308889126,\n        \"min\": 0.0,\n        \"max\": 1.0,\n        \"num_unique_values\": 2,\n        \"samples\": [\n          1.0,\n          0.0\n        ],\n        \"semantic_type\": \"\",\n        \"description\": \"\"\n      }\n    }\n  ]\n}"
            }
          },
          "metadata": {},
          "execution_count": 150
        }
      ]
    },
    {
      "cell_type": "code",
      "source": [
        "edlst = padj.stack().reset_index()\n",
        "edlst.columns = ['source', 'target', 'value']\n",
        "edlst = edlst[edlst['value'] == 1]\n",
        "edlst"
      ],
      "metadata": {
        "colab": {
          "base_uri": "https://localhost:8080/",
          "height": 443
        },
        "id": "Je9vSmd9tGv2",
        "outputId": "a5ab3040-7acd-421e-86e1-383c8a7c9fd3"
      },
      "execution_count": 151,
      "outputs": [
        {
          "output_type": "execute_result",
          "data": {
            "text/plain": [
              "       source   target  value\n",
              "286   CGF2037  CGF2027    1.0\n",
              "306   CGF2037  CGF2036    1.0\n",
              "307   CGF2037  CGF2028    1.0\n",
              "587   CGF2030  CGF2018    1.0\n",
              "696   CGF2053  CGF2029    1.0\n",
              "...       ...      ...    ...\n",
              "7293  CGF2095  CGF2027    1.0\n",
              "7294  CGF2095  CGF2031    1.0\n",
              "7387  CGF2024  CGF2016    1.0\n",
              "7825  CGF2054  CGF2050    1.0\n",
              "8250  CGF2050  CGF2040    1.0\n",
              "\n",
              "[76 rows x 3 columns]"
            ],
            "text/html": [
              "\n",
              "  <div id=\"df-555118b1-eef8-42b5-8a57-28ae14156837\" class=\"colab-df-container\">\n",
              "    <div>\n",
              "<style scoped>\n",
              "    .dataframe tbody tr th:only-of-type {\n",
              "        vertical-align: middle;\n",
              "    }\n",
              "\n",
              "    .dataframe tbody tr th {\n",
              "        vertical-align: top;\n",
              "    }\n",
              "\n",
              "    .dataframe thead th {\n",
              "        text-align: right;\n",
              "    }\n",
              "</style>\n",
              "<table border=\"1\" class=\"dataframe\">\n",
              "  <thead>\n",
              "    <tr style=\"text-align: right;\">\n",
              "      <th></th>\n",
              "      <th>source</th>\n",
              "      <th>target</th>\n",
              "      <th>value</th>\n",
              "    </tr>\n",
              "  </thead>\n",
              "  <tbody>\n",
              "    <tr>\n",
              "      <th>286</th>\n",
              "      <td>CGF2037</td>\n",
              "      <td>CGF2027</td>\n",
              "      <td>1.0</td>\n",
              "    </tr>\n",
              "    <tr>\n",
              "      <th>306</th>\n",
              "      <td>CGF2037</td>\n",
              "      <td>CGF2036</td>\n",
              "      <td>1.0</td>\n",
              "    </tr>\n",
              "    <tr>\n",
              "      <th>307</th>\n",
              "      <td>CGF2037</td>\n",
              "      <td>CGF2028</td>\n",
              "      <td>1.0</td>\n",
              "    </tr>\n",
              "    <tr>\n",
              "      <th>587</th>\n",
              "      <td>CGF2030</td>\n",
              "      <td>CGF2018</td>\n",
              "      <td>1.0</td>\n",
              "    </tr>\n",
              "    <tr>\n",
              "      <th>696</th>\n",
              "      <td>CGF2053</td>\n",
              "      <td>CGF2029</td>\n",
              "      <td>1.0</td>\n",
              "    </tr>\n",
              "    <tr>\n",
              "      <th>...</th>\n",
              "      <td>...</td>\n",
              "      <td>...</td>\n",
              "      <td>...</td>\n",
              "    </tr>\n",
              "    <tr>\n",
              "      <th>7293</th>\n",
              "      <td>CGF2095</td>\n",
              "      <td>CGF2027</td>\n",
              "      <td>1.0</td>\n",
              "    </tr>\n",
              "    <tr>\n",
              "      <th>7294</th>\n",
              "      <td>CGF2095</td>\n",
              "      <td>CGF2031</td>\n",
              "      <td>1.0</td>\n",
              "    </tr>\n",
              "    <tr>\n",
              "      <th>7387</th>\n",
              "      <td>CGF2024</td>\n",
              "      <td>CGF2016</td>\n",
              "      <td>1.0</td>\n",
              "    </tr>\n",
              "    <tr>\n",
              "      <th>7825</th>\n",
              "      <td>CGF2054</td>\n",
              "      <td>CGF2050</td>\n",
              "      <td>1.0</td>\n",
              "    </tr>\n",
              "    <tr>\n",
              "      <th>8250</th>\n",
              "      <td>CGF2050</td>\n",
              "      <td>CGF2040</td>\n",
              "      <td>1.0</td>\n",
              "    </tr>\n",
              "  </tbody>\n",
              "</table>\n",
              "<p>76 rows × 3 columns</p>\n",
              "</div>\n",
              "    <div class=\"colab-df-buttons\">\n",
              "\n",
              "  <div class=\"colab-df-container\">\n",
              "    <button class=\"colab-df-convert\" onclick=\"convertToInteractive('df-555118b1-eef8-42b5-8a57-28ae14156837')\"\n",
              "            title=\"Convert this dataframe to an interactive table.\"\n",
              "            style=\"display:none;\">\n",
              "\n",
              "  <svg xmlns=\"http://www.w3.org/2000/svg\" height=\"24px\" viewBox=\"0 -960 960 960\">\n",
              "    <path d=\"M120-120v-720h720v720H120Zm60-500h600v-160H180v160Zm220 220h160v-160H400v160Zm0 220h160v-160H400v160ZM180-400h160v-160H180v160Zm440 0h160v-160H620v160ZM180-180h160v-160H180v160Zm440 0h160v-160H620v160Z\"/>\n",
              "  </svg>\n",
              "    </button>\n",
              "\n",
              "  <style>\n",
              "    .colab-df-container {\n",
              "      display:flex;\n",
              "      gap: 12px;\n",
              "    }\n",
              "\n",
              "    .colab-df-convert {\n",
              "      background-color: #E8F0FE;\n",
              "      border: none;\n",
              "      border-radius: 50%;\n",
              "      cursor: pointer;\n",
              "      display: none;\n",
              "      fill: #1967D2;\n",
              "      height: 32px;\n",
              "      padding: 0 0 0 0;\n",
              "      width: 32px;\n",
              "    }\n",
              "\n",
              "    .colab-df-convert:hover {\n",
              "      background-color: #E2EBFA;\n",
              "      box-shadow: 0px 1px 2px rgba(60, 64, 67, 0.3), 0px 1px 3px 1px rgba(60, 64, 67, 0.15);\n",
              "      fill: #174EA6;\n",
              "    }\n",
              "\n",
              "    .colab-df-buttons div {\n",
              "      margin-bottom: 4px;\n",
              "    }\n",
              "\n",
              "    [theme=dark] .colab-df-convert {\n",
              "      background-color: #3B4455;\n",
              "      fill: #D2E3FC;\n",
              "    }\n",
              "\n",
              "    [theme=dark] .colab-df-convert:hover {\n",
              "      background-color: #434B5C;\n",
              "      box-shadow: 0px 1px 3px 1px rgba(0, 0, 0, 0.15);\n",
              "      filter: drop-shadow(0px 1px 2px rgba(0, 0, 0, 0.3));\n",
              "      fill: #FFFFFF;\n",
              "    }\n",
              "  </style>\n",
              "\n",
              "    <script>\n",
              "      const buttonEl =\n",
              "        document.querySelector('#df-555118b1-eef8-42b5-8a57-28ae14156837 button.colab-df-convert');\n",
              "      buttonEl.style.display =\n",
              "        google.colab.kernel.accessAllowed ? 'block' : 'none';\n",
              "\n",
              "      async function convertToInteractive(key) {\n",
              "        const element = document.querySelector('#df-555118b1-eef8-42b5-8a57-28ae14156837');\n",
              "        const dataTable =\n",
              "          await google.colab.kernel.invokeFunction('convertToInteractive',\n",
              "                                                    [key], {});\n",
              "        if (!dataTable) return;\n",
              "\n",
              "        const docLinkHtml = 'Like what you see? Visit the ' +\n",
              "          '<a target=\"_blank\" href=https://colab.research.google.com/notebooks/data_table.ipynb>data table notebook</a>'\n",
              "          + ' to learn more about interactive tables.';\n",
              "        element.innerHTML = '';\n",
              "        dataTable['output_type'] = 'display_data';\n",
              "        await google.colab.output.renderOutput(dataTable, element);\n",
              "        const docLink = document.createElement('div');\n",
              "        docLink.innerHTML = docLinkHtml;\n",
              "        element.appendChild(docLink);\n",
              "      }\n",
              "    </script>\n",
              "  </div>\n",
              "\n",
              "\n",
              "<div id=\"df-63794bdf-d05b-4ba3-930e-dea966e064e5\">\n",
              "  <button class=\"colab-df-quickchart\" onclick=\"quickchart('df-63794bdf-d05b-4ba3-930e-dea966e064e5')\"\n",
              "            title=\"Suggest charts\"\n",
              "            style=\"display:none;\">\n",
              "\n",
              "<svg xmlns=\"http://www.w3.org/2000/svg\" height=\"24px\"viewBox=\"0 0 24 24\"\n",
              "     width=\"24px\">\n",
              "    <g>\n",
              "        <path d=\"M19 3H5c-1.1 0-2 .9-2 2v14c0 1.1.9 2 2 2h14c1.1 0 2-.9 2-2V5c0-1.1-.9-2-2-2zM9 17H7v-7h2v7zm4 0h-2V7h2v10zm4 0h-2v-4h2v4z\"/>\n",
              "    </g>\n",
              "</svg>\n",
              "  </button>\n",
              "\n",
              "<style>\n",
              "  .colab-df-quickchart {\n",
              "      --bg-color: #E8F0FE;\n",
              "      --fill-color: #1967D2;\n",
              "      --hover-bg-color: #E2EBFA;\n",
              "      --hover-fill-color: #174EA6;\n",
              "      --disabled-fill-color: #AAA;\n",
              "      --disabled-bg-color: #DDD;\n",
              "  }\n",
              "\n",
              "  [theme=dark] .colab-df-quickchart {\n",
              "      --bg-color: #3B4455;\n",
              "      --fill-color: #D2E3FC;\n",
              "      --hover-bg-color: #434B5C;\n",
              "      --hover-fill-color: #FFFFFF;\n",
              "      --disabled-bg-color: #3B4455;\n",
              "      --disabled-fill-color: #666;\n",
              "  }\n",
              "\n",
              "  .colab-df-quickchart {\n",
              "    background-color: var(--bg-color);\n",
              "    border: none;\n",
              "    border-radius: 50%;\n",
              "    cursor: pointer;\n",
              "    display: none;\n",
              "    fill: var(--fill-color);\n",
              "    height: 32px;\n",
              "    padding: 0;\n",
              "    width: 32px;\n",
              "  }\n",
              "\n",
              "  .colab-df-quickchart:hover {\n",
              "    background-color: var(--hover-bg-color);\n",
              "    box-shadow: 0 1px 2px rgba(60, 64, 67, 0.3), 0 1px 3px 1px rgba(60, 64, 67, 0.15);\n",
              "    fill: var(--button-hover-fill-color);\n",
              "  }\n",
              "\n",
              "  .colab-df-quickchart-complete:disabled,\n",
              "  .colab-df-quickchart-complete:disabled:hover {\n",
              "    background-color: var(--disabled-bg-color);\n",
              "    fill: var(--disabled-fill-color);\n",
              "    box-shadow: none;\n",
              "  }\n",
              "\n",
              "  .colab-df-spinner {\n",
              "    border: 2px solid var(--fill-color);\n",
              "    border-color: transparent;\n",
              "    border-bottom-color: var(--fill-color);\n",
              "    animation:\n",
              "      spin 1s steps(1) infinite;\n",
              "  }\n",
              "\n",
              "  @keyframes spin {\n",
              "    0% {\n",
              "      border-color: transparent;\n",
              "      border-bottom-color: var(--fill-color);\n",
              "      border-left-color: var(--fill-color);\n",
              "    }\n",
              "    20% {\n",
              "      border-color: transparent;\n",
              "      border-left-color: var(--fill-color);\n",
              "      border-top-color: var(--fill-color);\n",
              "    }\n",
              "    30% {\n",
              "      border-color: transparent;\n",
              "      border-left-color: var(--fill-color);\n",
              "      border-top-color: var(--fill-color);\n",
              "      border-right-color: var(--fill-color);\n",
              "    }\n",
              "    40% {\n",
              "      border-color: transparent;\n",
              "      border-right-color: var(--fill-color);\n",
              "      border-top-color: var(--fill-color);\n",
              "    }\n",
              "    60% {\n",
              "      border-color: transparent;\n",
              "      border-right-color: var(--fill-color);\n",
              "    }\n",
              "    80% {\n",
              "      border-color: transparent;\n",
              "      border-right-color: var(--fill-color);\n",
              "      border-bottom-color: var(--fill-color);\n",
              "    }\n",
              "    90% {\n",
              "      border-color: transparent;\n",
              "      border-bottom-color: var(--fill-color);\n",
              "    }\n",
              "  }\n",
              "</style>\n",
              "\n",
              "  <script>\n",
              "    async function quickchart(key) {\n",
              "      const quickchartButtonEl =\n",
              "        document.querySelector('#' + key + ' button');\n",
              "      quickchartButtonEl.disabled = true;  // To prevent multiple clicks.\n",
              "      quickchartButtonEl.classList.add('colab-df-spinner');\n",
              "      try {\n",
              "        const charts = await google.colab.kernel.invokeFunction(\n",
              "            'suggestCharts', [key], {});\n",
              "      } catch (error) {\n",
              "        console.error('Error during call to suggestCharts:', error);\n",
              "      }\n",
              "      quickchartButtonEl.classList.remove('colab-df-spinner');\n",
              "      quickchartButtonEl.classList.add('colab-df-quickchart-complete');\n",
              "    }\n",
              "    (() => {\n",
              "      let quickchartButtonEl =\n",
              "        document.querySelector('#df-63794bdf-d05b-4ba3-930e-dea966e064e5 button');\n",
              "      quickchartButtonEl.style.display =\n",
              "        google.colab.kernel.accessAllowed ? 'block' : 'none';\n",
              "    })();\n",
              "  </script>\n",
              "</div>\n",
              "\n",
              "  <div id=\"id_e34c9f42-c9c0-42f6-888b-2328dc199dd7\">\n",
              "    <style>\n",
              "      .colab-df-generate {\n",
              "        background-color: #E8F0FE;\n",
              "        border: none;\n",
              "        border-radius: 50%;\n",
              "        cursor: pointer;\n",
              "        display: none;\n",
              "        fill: #1967D2;\n",
              "        height: 32px;\n",
              "        padding: 0 0 0 0;\n",
              "        width: 32px;\n",
              "      }\n",
              "\n",
              "      .colab-df-generate:hover {\n",
              "        background-color: #E2EBFA;\n",
              "        box-shadow: 0px 1px 2px rgba(60, 64, 67, 0.3), 0px 1px 3px 1px rgba(60, 64, 67, 0.15);\n",
              "        fill: #174EA6;\n",
              "      }\n",
              "\n",
              "      [theme=dark] .colab-df-generate {\n",
              "        background-color: #3B4455;\n",
              "        fill: #D2E3FC;\n",
              "      }\n",
              "\n",
              "      [theme=dark] .colab-df-generate:hover {\n",
              "        background-color: #434B5C;\n",
              "        box-shadow: 0px 1px 3px 1px rgba(0, 0, 0, 0.15);\n",
              "        filter: drop-shadow(0px 1px 2px rgba(0, 0, 0, 0.3));\n",
              "        fill: #FFFFFF;\n",
              "      }\n",
              "    </style>\n",
              "    <button class=\"colab-df-generate\" onclick=\"generateWithVariable('edlst')\"\n",
              "            title=\"Generate code using this dataframe.\"\n",
              "            style=\"display:none;\">\n",
              "\n",
              "  <svg xmlns=\"http://www.w3.org/2000/svg\" height=\"24px\"viewBox=\"0 0 24 24\"\n",
              "       width=\"24px\">\n",
              "    <path d=\"M7,19H8.4L18.45,9,17,7.55,7,17.6ZM5,21V16.75L18.45,3.32a2,2,0,0,1,2.83,0l1.4,1.43a1.91,1.91,0,0,1,.58,1.4,1.91,1.91,0,0,1-.58,1.4L9.25,21ZM18.45,9,17,7.55Zm-12,3A5.31,5.31,0,0,0,4.9,8.1,5.31,5.31,0,0,0,1,6.5,5.31,5.31,0,0,0,4.9,4.9,5.31,5.31,0,0,0,6.5,1,5.31,5.31,0,0,0,8.1,4.9,5.31,5.31,0,0,0,12,6.5,5.46,5.46,0,0,0,6.5,12Z\"/>\n",
              "  </svg>\n",
              "    </button>\n",
              "    <script>\n",
              "      (() => {\n",
              "      const buttonEl =\n",
              "        document.querySelector('#id_e34c9f42-c9c0-42f6-888b-2328dc199dd7 button.colab-df-generate');\n",
              "      buttonEl.style.display =\n",
              "        google.colab.kernel.accessAllowed ? 'block' : 'none';\n",
              "\n",
              "      buttonEl.onclick = () => {\n",
              "        google.colab.notebook.generateWithVariable('edlst');\n",
              "      }\n",
              "      })();\n",
              "    </script>\n",
              "  </div>\n",
              "\n",
              "    </div>\n",
              "  </div>\n"
            ],
            "application/vnd.google.colaboratory.intrinsic+json": {
              "type": "dataframe",
              "variable_name": "edlst",
              "summary": "{\n  \"name\": \"edlst\",\n  \"rows\": 76,\n  \"fields\": [\n    {\n      \"column\": \"source\",\n      \"properties\": {\n        \"dtype\": \"string\",\n        \"num_unique_values\": 38,\n        \"samples\": [\n          \"CGF2038\",\n          \"CGF2054\",\n          \"CGF2087\"\n        ],\n        \"semantic_type\": \"\",\n        \"description\": \"\"\n      }\n    },\n    {\n      \"column\": \"target\",\n      \"properties\": {\n        \"dtype\": \"category\",\n        \"num_unique_values\": 35,\n        \"samples\": [\n          \"CGF2035\",\n          \"CGF2049\",\n          \"CGF2093\"\n        ],\n        \"semantic_type\": \"\",\n        \"description\": \"\"\n      }\n    },\n    {\n      \"column\": \"value\",\n      \"properties\": {\n        \"dtype\": \"number\",\n        \"std\": 0.0,\n        \"min\": 1.0,\n        \"max\": 1.0,\n        \"num_unique_values\": 1,\n        \"samples\": [\n          1.0\n        ],\n        \"semantic_type\": \"\",\n        \"description\": \"\"\n      }\n    }\n  ]\n}"
            }
          },
          "metadata": {},
          "execution_count": 151
        }
      ]
    },
    {
      "cell_type": "code",
      "source": [
        "#https://networkx.org/documentation/stable/reference/generated/networkx.convert_matrix.from_pandas_edgelist.html\n",
        "import networkx as nx\n",
        "\n",
        "G = nx.from_pandas_edgelist(edlst)"
      ],
      "metadata": {
        "id": "8ubm-l4XrlqX"
      },
      "execution_count": 154,
      "outputs": []
    },
    {
      "cell_type": "code",
      "source": [
        "pos = nx.spring_layout(G)\n",
        "nx.draw(G, pos, font_size=16)\n",
        "for p in pos:  # raise text positions\n",
        "    pos[p][1] += 0.07\n",
        "nx.draw_networkx_labels(G, pos)"
      ],
      "metadata": {
        "colab": {
          "base_uri": "https://localhost:8080/",
          "height": 1000
        },
        "id": "7h1YRdpYuWKz",
        "outputId": "78dbd536-140d-4544-8367-77e86c759f5f"
      },
      "execution_count": 164,
      "outputs": [
        {
          "output_type": "execute_result",
          "data": {
            "text/plain": [
              "{'CGF2037': Text(0.14308813062140968, 0.21722759668718253, 'CGF2037'),\n",
              " 'CGF2027': Text(0.0741176194211459, 0.11014509974110771, 'CGF2027'),\n",
              " 'CGF2036': Text(0.037859004904104224, 0.3249033932805306, 'CGF2036'),\n",
              " 'CGF2028': Text(0.2615211691388602, 0.1947171577611492, 'CGF2028'),\n",
              " 'CGF2030': Text(-0.3532544362148786, 0.025105788911836492, 'CGF2030'),\n",
              " 'CGF2018': Text(-0.3237958699548861, -0.006208501105870609, 'CGF2018'),\n",
              " 'CGF2053': Text(-0.3208430866901337, 0.20385757982306352, 'CGF2053'),\n",
              " 'CGF2029': Text(-0.2443386948549854, 0.16905693931921756, 'CGF2029'),\n",
              " 'CGF2047': Text(-0.26379271102210144, 0.2082151190170771, 'CGF2047'),\n",
              " 'CGF2093': Text(-0.03388696381418573, 0.3441394720770432, 'CGF2093'),\n",
              " 'CGF2026': Text(0.018925553349198095, 0.2352500453560708, 'CGF2026'),\n",
              " 'CGF2087': Text(-0.6376194466890021, -0.9299999999999999, 'CGF2087'),\n",
              " 'CGF2086': Text(-0.6002748348201298, -0.8879180711844226, 'CGF2086'),\n",
              " 'CGF2048': Text(0.22168515219690538, 0.10908509445057968, 'CGF2048'),\n",
              " 'CGF2031': Text(0.11883517776592979, 0.023882032916372482, 'CGF2031'),\n",
              " 'CGF2023': Text(0.05504962960091282, 0.18783812855707988, 'CGF2023'),\n",
              " 'CGF2024': Text(-0.10222873310650835, 0.1785878933288232, 'CGF2024'),\n",
              " 'CGF2057': Text(0.1915235349844224, -0.08549558404547922, 'CGF2057'),\n",
              " 'CGF2041': Text(0.15268754736782672, -0.10275223439316172, 'CGF2041'),\n",
              " 'CGF2111': Text(-0.25692336535690713, 0.3114286778171183, 'CGF2111'),\n",
              " 'CGF2039': Text(-0.3415091153248958, 0.17527023488701074, 'CGF2039'),\n",
              " 'CGF2049': Text(-0.3092092304811481, 0.4199737944188993, 'CGF2049'),\n",
              " 'CGF2072': Text(-0.10561203963958131, 0.3561604799436739, 'CGF2072'),\n",
              " 'CGF2078': Text(0.4679095430296494, 0.25257013874369516, 'CGF2078'),\n",
              " 'CGF2061': Text(0.3677733250764953, 0.18591958560615293, 'CGF2061'),\n",
              " 'CGF2052': Text(0.34428749634077827, 0.1428716025865202, 'CGF2052'),\n",
              " 'CGF2035': Text(0.15084972074449815, 0.07744599544881424, 'CGF2035'),\n",
              " 'CGF2073': Text(-0.18409384062367387, 0.054912410804546063, 'CGF2073'),\n",
              " 'CGF2063': Text(-0.05406117538732747, 0.0535472886158266, 'CGF2063'),\n",
              " 'CGF2062': Text(-0.29111204272472213, 0.1317903529633179, 'CGF2062'),\n",
              " 'CGF2038': Text(0.06063903373007855, 0.03463571111448103, 'CGF2038'),\n",
              " 'CGF2088': Text(-0.6988637542091347, -0.01130085020715621, 'CGF2088'),\n",
              " 'CGF2071': Text(-0.6201607709352678, 0.049522872095238715, 'CGF2071'),\n",
              " 'CGF2104': Text(-0.5036111094907378, 0.11851339199301164, 'CGF2104'),\n",
              " 'CGF2096': Text(0.07656446313089467, -0.005931562878209451, 'CGF2096'),\n",
              " 'CGF2070': Text(0.4628947869591064, 0.14986163543275202, 'CGF2070'),\n",
              " 'CGF2102': Text(0.8898962809805224, -0.5053093626211922, 'CGF2102'),\n",
              " 'CGF2101': Text(0.9505626073878165, -0.5643196501668843, 'CGF2101'),\n",
              " 'CGF2040': Text(0.12891166852177255, 0.29804026291386854, 'CGF2040'),\n",
              " 'CGF2056': Text(-0.36467608146548247, 0.2865381971826297, 'CGF2056'),\n",
              " 'CGF2045': Text(0.17699469327730696, 0.13263289067633469, 'CGF2045'),\n",
              " 'CGF2014': Text(0.2886239097432108, 0.07992420552972064, 'CGF2014'),\n",
              " 'CGF2094': Text(-0.2501083916440722, 0.08657257757538106, 'CGF2094'),\n",
              " 'CGF2103': Text(0.9546987955647742, -0.5155216209608389, 'CGF2103'),\n",
              " 'CGF2013': Text(0.03514552311278848, -0.09018340059149399, 'CGF2013'),\n",
              " 'CGF2095': Text(0.15648066740569483, 0.016086397062981192, 'CGF2095'),\n",
              " 'CGF2016': Text(-0.15523346025556214, 0.1642153578277285, 'CGF2016'),\n",
              " 'CGF2054': Text(0.10398051791584137, 0.5689142406617096, 'CGF2054'),\n",
              " 'CGF2050': Text(0.12370360243338215, 0.4555811950261655, 'CGF2050')}"
            ]
          },
          "metadata": {},
          "execution_count": 164
        },
        {
          "output_type": "display_data",
          "data": {
            "text/plain": [
              "<Figure size 640x480 with 1 Axes>"
            ],
            "image/png": "[encoded data removed]"
          },
          "metadata": {}
        }
      ]
    },
    {
      "cell_type": "code",
      "source": [
        "!pip install ipycytoscape"
      ],
      "metadata": {
        "colab": {
          "base_uri": "https://localhost:8080/"
        },
        "id": "gm8FTXnHvYJI",
        "outputId": "80d91eb9-bc4c-4ff9-f9af-d60085e5795b"
      },
      "execution_count": 158,
      "outputs": [
        {
          "output_type": "stream",
          "name": "stdout",
          "text": [
            "Collecting ipycytoscape\n",
            "  Downloading ipycytoscape-1.3.3-py2.py3-none-any.whl.metadata (7.5 kB)\n",
            "Requirement already satisfied: ipywidgets>=7.6.0 in /usr/local/lib/python3.10/dist-packages (from ipycytoscape) (7.7.1)\n",
            "Collecting spectate>=1.0.0 (from ipycytoscape)\n",
            "  Downloading spectate-1.0.1-py2.py3-none-any.whl.metadata (2.2 kB)\n",
            "Requirement already satisfied: ipykernel>=4.5.1 in /usr/local/lib/python3.10/dist-packages (from ipywidgets>=7.6.0->ipycytoscape) (5.5.6)\n",
            "Requirement already satisfied: ipython-genutils~=0.2.0 in /usr/local/lib/python3.10/dist-packages (from ipywidgets>=7.6.0->ipycytoscape) (0.2.0)\n",
            "Requirement already satisfied: traitlets>=4.3.1 in /usr/local/lib/python3.10/dist-packages (from ipywidgets>=7.6.0->ipycytoscape) (5.7.1)\n",
            "Requirement already satisfied: widgetsnbextension~=3.6.0 in /usr/local/lib/python3.10/dist-packages (from ipywidgets>=7.6.0->ipycytoscape) (3.6.9)\n",
            "Requirement already satisfied: ipython>=4.0.0 in /usr/local/lib/python3.10/dist-packages (from ipywidgets>=7.6.0->ipycytoscape) (7.34.0)\n",
            "Requirement already satisfied: jupyterlab-widgets>=1.0.0 in /usr/local/lib/python3.10/dist-packages (from ipywidgets>=7.6.0->ipycytoscape) (3.0.13)\n",
            "Requirement already satisfied: jupyter-client in /usr/local/lib/python3.10/dist-packages (from ipykernel>=4.5.1->ipywidgets>=7.6.0->ipycytoscape) (6.1.12)\n",
            "Requirement already satisfied: tornado>=4.2 in /usr/local/lib/python3.10/dist-packages (from ipykernel>=4.5.1->ipywidgets>=7.6.0->ipycytoscape) (6.3.3)\n",
            "Requirement already satisfied: setuptools>=18.5 in /usr/local/lib/python3.10/dist-packages (from ipython>=4.0.0->ipywidgets>=7.6.0->ipycytoscape) (71.0.4)\n",
            "Collecting jedi>=0.16 (from ipython>=4.0.0->ipywidgets>=7.6.0->ipycytoscape)\n",
            "  Using cached jedi-0.19.1-py2.py3-none-any.whl.metadata (22 kB)\n",
            "Requirement already satisfied: decorator in /usr/local/lib/python3.10/dist-packages (from ipython>=4.0.0->ipywidgets>=7.6.0->ipycytoscape) (4.4.2)\n",
            "Requirement already satisfied: pickleshare in /usr/local/lib/python3.10/dist-packages (from ipython>=4.0.0->ipywidgets>=7.6.0->ipycytoscape) (0.7.5)\n",
            "Requirement already satisfied: prompt-toolkit!=3.0.0,!=3.0.1,<3.1.0,>=2.0.0 in /usr/local/lib/python3.10/dist-packages (from ipython>=4.0.0->ipywidgets>=7.6.0->ipycytoscape) (3.0.47)\n",
            "Requirement already satisfied: pygments in /usr/local/lib/python3.10/dist-packages (from ipython>=4.0.0->ipywidgets>=7.6.0->ipycytoscape) (2.18.0)\n",
            "Requirement already satisfied: backcall in /usr/local/lib/python3.10/dist-packages (from ipython>=4.0.0->ipywidgets>=7.6.0->ipycytoscape) (0.2.0)\n",
            "Requirement already satisfied: matplotlib-inline in /usr/local/lib/python3.10/dist-packages (from ipython>=4.0.0->ipywidgets>=7.6.0->ipycytoscape) (0.1.7)\n",
            "Requirement already satisfied: pexpect>4.3 in /usr/local/lib/python3.10/dist-packages (from ipython>=4.0.0->ipywidgets>=7.6.0->ipycytoscape) (4.9.0)\n",
            "Requirement already satisfied: notebook>=4.4.1 in /usr/local/lib/python3.10/dist-packages (from widgetsnbextension~=3.6.0->ipywidgets>=7.6.0->ipycytoscape) (6.5.5)\n",
            "Requirement already satisfied: parso<0.9.0,>=0.8.3 in /usr/local/lib/python3.10/dist-packages (from jedi>=0.16->ipython>=4.0.0->ipywidgets>=7.6.0->ipycytoscape) (0.8.4)\n",
            "Requirement already satisfied: jinja2 in /usr/local/lib/python3.10/dist-packages (from notebook>=4.4.1->widgetsnbextension~=3.6.0->ipywidgets>=7.6.0->ipycytoscape) (3.1.4)\n",
            "Requirement already satisfied: pyzmq<25,>=17 in /usr/local/lib/python3.10/dist-packages (from notebook>=4.4.1->widgetsnbextension~=3.6.0->ipywidgets>=7.6.0->ipycytoscape) (24.0.1)\n",
            "Requirement already satisfied: argon2-cffi in /usr/local/lib/python3.10/dist-packages (from notebook>=4.4.1->widgetsnbextension~=3.6.0->ipywidgets>=7.6.0->ipycytoscape) (23.1.0)\n",
            "Requirement already satisfied: jupyter-core>=4.6.1 in /usr/local/lib/python3.10/dist-packages (from notebook>=4.4.1->widgetsnbextension~=3.6.0->ipywidgets>=7.6.0->ipycytoscape) (5.7.2)\n",
            "Requirement already satisfied: nbformat in /usr/local/lib/python3.10/dist-packages (from notebook>=4.4.1->widgetsnbextension~=3.6.0->ipywidgets>=7.6.0->ipycytoscape) (5.10.4)\n",
            "Requirement already satisfied: nbconvert>=5 in /usr/local/lib/python3.10/dist-packages (from notebook>=4.4.1->widgetsnbextension~=3.6.0->ipywidgets>=7.6.0->ipycytoscape) (6.5.4)\n",
            "Requirement already satisfied: nest-asyncio>=1.5 in /usr/local/lib/python3.10/dist-packages (from notebook>=4.4.1->widgetsnbextension~=3.6.0->ipywidgets>=7.6.0->ipycytoscape) (1.6.0)\n",
            "Requirement already satisfied: Send2Trash>=1.8.0 in /usr/local/lib/python3.10/dist-packages (from notebook>=4.4.1->widgetsnbextension~=3.6.0->ipywidgets>=7.6.0->ipycytoscape) (1.8.3)\n",
            "Requirement already satisfied: terminado>=0.8.3 in /usr/local/lib/python3.10/dist-packages (from notebook>=4.4.1->widgetsnbextension~=3.6.0->ipywidgets>=7.6.0->ipycytoscape) (0.18.1)\n",
            "Requirement already satisfied: prometheus-client in /usr/local/lib/python3.10/dist-packages (from notebook>=4.4.1->widgetsnbextension~=3.6.0->ipywidgets>=7.6.0->ipycytoscape) (0.21.0)\n",
            "Requirement already satisfied: nbclassic>=0.4.7 in /usr/local/lib/python3.10/dist-packages (from notebook>=4.4.1->widgetsnbextension~=3.6.0->ipywidgets>=7.6.0->ipycytoscape) (1.1.0)\n",
            "Requirement already satisfied: python-dateutil>=2.1 in /usr/local/lib/python3.10/dist-packages (from jupyter-client->ipykernel>=4.5.1->ipywidgets>=7.6.0->ipycytoscape) (2.8.2)\n",
            "Requirement already satisfied: ptyprocess>=0.5 in /usr/local/lib/python3.10/dist-packages (from pexpect>4.3->ipython>=4.0.0->ipywidgets>=7.6.0->ipycytoscape) (0.7.0)\n",
            "Requirement already satisfied: wcwidth in /usr/local/lib/python3.10/dist-packages (from prompt-toolkit!=3.0.0,!=3.0.1,<3.1.0,>=2.0.0->ipython>=4.0.0->ipywidgets>=7.6.0->ipycytoscape) (0.2.13)\n",
            "Requirement already satisfied: platformdirs>=2.5 in /usr/local/lib/python3.10/dist-packages (from jupyter-core>=4.6.1->notebook>=4.4.1->widgetsnbextension~=3.6.0->ipywidgets>=7.6.0->ipycytoscape) (4.3.6)\n",
            "Requirement already satisfied: notebook-shim>=0.2.3 in /usr/local/lib/python3.10/dist-packages (from nbclassic>=0.4.7->notebook>=4.4.1->widgetsnbextension~=3.6.0->ipywidgets>=7.6.0->ipycytoscape) (0.2.4)\n",
            "Requirement already satisfied: lxml in /usr/local/lib/python3.10/dist-packages (from nbconvert>=5->notebook>=4.4.1->widgetsnbextension~=3.6.0->ipywidgets>=7.6.0->ipycytoscape) (4.9.4)\n",
            "Requirement already satisfied: beautifulsoup4 in /usr/local/lib/python3.10/dist-packages (from nbconvert>=5->notebook>=4.4.1->widgetsnbextension~=3.6.0->ipywidgets>=7.6.0->ipycytoscape) (4.12.3)\n",
            "Requirement already satisfied: bleach in /usr/local/lib/python3.10/dist-packages (from nbconvert>=5->notebook>=4.4.1->widgetsnbextension~=3.6.0->ipywidgets>=7.6.0->ipycytoscape) (6.1.0)\n",
            "Requirement already satisfied: defusedxml in /usr/local/lib/python3.10/dist-packages (from nbconvert>=5->notebook>=4.4.1->widgetsnbextension~=3.6.0->ipywidgets>=7.6.0->ipycytoscape) (0.7.1)\n",
            "Requirement already satisfied: entrypoints>=0.2.2 in /usr/local/lib/python3.10/dist-packages (from nbconvert>=5->notebook>=4.4.1->widgetsnbextension~=3.6.0->ipywidgets>=7.6.0->ipycytoscape) (0.4)\n",
            "Requirement already satisfied: jupyterlab-pygments in /usr/local/lib/python3.10/dist-packages (from nbconvert>=5->notebook>=4.4.1->widgetsnbextension~=3.6.0->ipywidgets>=7.6.0->ipycytoscape) (0.3.0)\n",
            "Requirement already satisfied: MarkupSafe>=2.0 in /usr/local/lib/python3.10/dist-packages (from nbconvert>=5->notebook>=4.4.1->widgetsnbextension~=3.6.0->ipywidgets>=7.6.0->ipycytoscape) (2.1.5)\n",
            "Requirement already satisfied: mistune<2,>=0.8.1 in /usr/local/lib/python3.10/dist-packages (from nbconvert>=5->notebook>=4.4.1->widgetsnbextension~=3.6.0->ipywidgets>=7.6.0->ipycytoscape) (0.8.4)\n",
            "Requirement already satisfied: nbclient>=0.5.0 in /usr/local/lib/python3.10/dist-packages (from nbconvert>=5->notebook>=4.4.1->widgetsnbextension~=3.6.0->ipywidgets>=7.6.0->ipycytoscape) (0.10.0)\n",
            "Requirement already satisfied: packaging in /usr/local/lib/python3.10/dist-packages (from nbconvert>=5->notebook>=4.4.1->widgetsnbextension~=3.6.0->ipywidgets>=7.6.0->ipycytoscape) (24.1)\n",
            "Requirement already satisfied: pandocfilters>=1.4.1 in /usr/local/lib/python3.10/dist-packages (from nbconvert>=5->notebook>=4.4.1->widgetsnbextension~=3.6.0->ipywidgets>=7.6.0->ipycytoscape) (1.5.1)\n",
            "Requirement already satisfied: tinycss2 in /usr/local/lib/python3.10/dist-packages (from nbconvert>=5->notebook>=4.4.1->widgetsnbextension~=3.6.0->ipywidgets>=7.6.0->ipycytoscape) (1.3.0)\n",
            "Requirement already satisfied: fastjsonschema>=2.15 in /usr/local/lib/python3.10/dist-packages (from nbformat->notebook>=4.4.1->widgetsnbextension~=3.6.0->ipywidgets>=7.6.0->ipycytoscape) (2.20.0)\n",
            "Requirement already satisfied: jsonschema>=2.6 in /usr/local/lib/python3.10/dist-packages (from nbformat->notebook>=4.4.1->widgetsnbextension~=3.6.0->ipywidgets>=7.6.0->ipycytoscape) (4.23.0)\n",
            "Requirement already satisfied: six>=1.5 in /usr/local/lib/python3.10/dist-packages (from python-dateutil>=2.1->jupyter-client->ipykernel>=4.5.1->ipywidgets>=7.6.0->ipycytoscape) (1.16.0)\n",
            "Requirement already satisfied: argon2-cffi-bindings in /usr/local/lib/python3.10/dist-packages (from argon2-cffi->notebook>=4.4.1->widgetsnbextension~=3.6.0->ipywidgets>=7.6.0->ipycytoscape) (21.2.0)\n",
            "Requirement already satisfied: attrs>=22.2.0 in /usr/local/lib/python3.10/dist-packages (from jsonschema>=2.6->nbformat->notebook>=4.4.1->widgetsnbextension~=3.6.0->ipywidgets>=7.6.0->ipycytoscape) (24.2.0)\n",
            "Requirement already satisfied: jsonschema-specifications>=2023.03.6 in /usr/local/lib/python3.10/dist-packages (from jsonschema>=2.6->nbformat->notebook>=4.4.1->widgetsnbextension~=3.6.0->ipywidgets>=7.6.0->ipycytoscape) (2023.12.1)\n",
            "Requirement already satisfied: referencing>=0.28.4 in /usr/local/lib/python3.10/dist-packages (from jsonschema>=2.6->nbformat->notebook>=4.4.1->widgetsnbextension~=3.6.0->ipywidgets>=7.6.0->ipycytoscape) (0.35.1)\n",
            "Requirement already satisfied: rpds-py>=0.7.1 in /usr/local/lib/python3.10/dist-packages (from jsonschema>=2.6->nbformat->notebook>=4.4.1->widgetsnbextension~=3.6.0->ipywidgets>=7.6.0->ipycytoscape) (0.20.0)\n",
            "Requirement already satisfied: jupyter-server<3,>=1.8 in /usr/local/lib/python3.10/dist-packages (from notebook-shim>=0.2.3->nbclassic>=0.4.7->notebook>=4.4.1->widgetsnbextension~=3.6.0->ipywidgets>=7.6.0->ipycytoscape) (1.24.0)\n",
            "Requirement already satisfied: cffi>=1.0.1 in /usr/local/lib/python3.10/dist-packages (from argon2-cffi-bindings->argon2-cffi->notebook>=4.4.1->widgetsnbextension~=3.6.0->ipywidgets>=7.6.0->ipycytoscape) (1.17.1)\n",
            "Requirement already satisfied: soupsieve>1.2 in /usr/local/lib/python3.10/dist-packages (from beautifulsoup4->nbconvert>=5->notebook>=4.4.1->widgetsnbextension~=3.6.0->ipywidgets>=7.6.0->ipycytoscape) (2.6)\n",
            "Requirement already satisfied: webencodings in /usr/local/lib/python3.10/dist-packages (from bleach->nbconvert>=5->notebook>=4.4.1->widgetsnbextension~=3.6.0->ipywidgets>=7.6.0->ipycytoscape) (0.5.1)\n",
            "Requirement already satisfied: pycparser in /usr/local/lib/python3.10/dist-packages (from cffi>=1.0.1->argon2-cffi-bindings->argon2-cffi->notebook>=4.4.1->widgetsnbextension~=3.6.0->ipywidgets>=7.6.0->ipycytoscape) (2.22)\n",
            "Requirement already satisfied: anyio<4,>=3.1.0 in /usr/local/lib/python3.10/dist-packages (from jupyter-server<3,>=1.8->notebook-shim>=0.2.3->nbclassic>=0.4.7->notebook>=4.4.1->widgetsnbextension~=3.6.0->ipywidgets>=7.6.0->ipycytoscape) (3.7.1)\n",
            "Requirement already satisfied: websocket-client in /usr/local/lib/python3.10/dist-packages (from jupyter-server<3,>=1.8->notebook-shim>=0.2.3->nbclassic>=0.4.7->notebook>=4.4.1->widgetsnbextension~=3.6.0->ipywidgets>=7.6.0->ipycytoscape) (1.8.0)\n",
            "Requirement already satisfied: idna>=2.8 in /usr/local/lib/python3.10/dist-packages (from anyio<4,>=3.1.0->jupyter-server<3,>=1.8->notebook-shim>=0.2.3->nbclassic>=0.4.7->notebook>=4.4.1->widgetsnbextension~=3.6.0->ipywidgets>=7.6.0->ipycytoscape) (3.10)\n",
            "Requirement already satisfied: sniffio>=1.1 in /usr/local/lib/python3.10/dist-packages (from anyio<4,>=3.1.0->jupyter-server<3,>=1.8->notebook-shim>=0.2.3->nbclassic>=0.4.7->notebook>=4.4.1->widgetsnbextension~=3.6.0->ipywidgets>=7.6.0->ipycytoscape) (1.3.1)\n",
            "Requirement already satisfied: exceptiongroup in /usr/local/lib/python3.10/dist-packages (from anyio<4,>=3.1.0->jupyter-server<3,>=1.8->notebook-shim>=0.2.3->nbclassic>=0.4.7->notebook>=4.4.1->widgetsnbextension~=3.6.0->ipywidgets>=7.6.0->ipycytoscape) (1.2.2)\n",
            "Downloading ipycytoscape-1.3.3-py2.py3-none-any.whl (3.6 MB)\n",
            "\u001b[2K   \u001b[90m━━━━━━━━━━━━━━━━━━━━━━━━━━━━━━━━━━━━━━━━\u001b[0m \u001b[32m3.6/3.6 MB\u001b[0m \u001b[31m76.8 MB/s\u001b[0m eta \u001b[36m0:00:00\u001b[0m\n",
            "\u001b[?25hDownloading spectate-1.0.1-py2.py3-none-any.whl (11 kB)\n",
            "Using cached jedi-0.19.1-py2.py3-none-any.whl (1.6 MB)\n",
            "Installing collected packages: spectate, jedi, ipycytoscape\n",
            "Successfully installed ipycytoscape-1.3.3 jedi-0.19.1 spectate-1.0.1\n"
          ]
        }
      ]
    },
    {
      "cell_type": "code",
      "source": [
        "import ipycytoscape\n",
        "#import ipywidgets as widgets\n",
        "\n",
        "undirected = ipycytoscape.CytoscapeWidget()\n",
        "undirected.graph.add_graph_from_networkx(G)\n",
        "display(undirected)"
      ],
      "metadata": {
        "colab": {
          "base_uri": "https://localhost:8080/",
          "height": 37,
          "referenced_widgets": [
            "40eac842458a421589f7fba81475230a"
          ]
        },
        "id": "jYtGNermvDwa",
        "outputId": "1d92c42d-af03-4543-bc9c-87b01cab2531"
      },
      "execution_count": 162,
      "outputs": [
        {
          "output_type": "display_data",
          "data": {
            "text/plain": [
              "CytoscapeWidget(cytoscape_layout={'name': 'cola'}, cytoscape_style=[{'selector': 'node', 'css': {'background-c…"
            ],
            "application/vnd.jupyter.widget-view+json": {
              "version_major": 2,
              "version_minor": 0,
              "model_id": "40eac842458a421589f7fba81475230a"
            }
          },
          "metadata": {}
        }
      ]
    },
    {
      "cell_type": "code",
      "source": [
        "nx.write_graphml_lxml(G, \"requisitos.graphml\")"
      ],
      "metadata": {
        "id": "f25SeJ62xFHV"
      },
      "execution_count": 165,
      "outputs": []
    },
    {
      "cell_type": "code",
      "source": [
        "undirected"
      ],
      "metadata": {
        "colab": {
          "base_uri": "https://localhost:8080/",
          "height": 37,
          "referenced_widgets": [
            "40eac842458a421589f7fba81475230a"
          ]
        },
        "id": "8B_O5w6vv_Ko",
        "outputId": "1615dbb9-2aea-4a1b-8e47-436be9e4907d"
      },
      "execution_count": 163,
      "outputs": [
        {
          "output_type": "display_data",
          "data": {
            "text/plain": [
              "CytoscapeWidget(cytoscape_layout={'name': 'cola'}, cytoscape_style=[{'selector': 'node', 'css': {'background-c…"
            ],
            "application/vnd.jupyter.widget-view+json": {
              "version_major": 2,
              "version_minor": 0,
              "model_id": "40eac842458a421589f7fba81475230a"
            }
          },
          "metadata": {}
        }
      ]
    },
    {
      "cell_type": "code",
      "source": [
        "from google.colab import output\n",
        "output.enable_custom_widget_manager()"
      ],
      "metadata": {
        "id": "mL5o4GLQv3by"
      },
      "execution_count": null,
      "outputs": []
    },
    {
      "cell_type": "markdown",
      "source": [
        "Support for third party widgets will remain active for the duration of the session. To disable support:"
      ],
      "metadata": {
        "id": "cEM-DbPbv3bz"
      }
    },
    {
      "cell_type": "code",
      "source": [
        "from google.colab import output\n",
        "output.disable_custom_widget_manager()"
      ],
      "metadata": {
        "id": "mePa6HqIv3b0"
      },
      "execution_count": 161,
      "outputs": []
    },
    {
      "cell_type": "code",
      "source": [],
      "metadata": {
        "id": "Yh61-MQuvwut"
      },
      "execution_count": null,
      "outputs": []
    }
  ]
}